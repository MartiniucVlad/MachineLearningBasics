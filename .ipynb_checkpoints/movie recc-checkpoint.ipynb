{
 "cells": [
  {
   "metadata": {},
   "cell_type": "markdown",
   "source": [
    "\n",
    "Strategy 1: Drop Rows with Missing Values\n",
    "\n",
    "In this method, any row containing at least one missing value is removed entirely from the dataset. While this ensures a clean dataset, it can lead to a significant loss of data, especially if missing values are scattered across many rows.\n",
    "Strategy 2: Fill Missing Values with Mean (or 'Unknown')\n",
    "\n",
    "In this method:\n",
    "\n",
    "    Missing values in numerical columns are filled with the mean of that column.\n",
    "    Missing values in categorical columns are replaced with the string 'Unknown'.\n",
    "\n",
    "This approach preserves all rows and prevents data loss, making it especially useful when missing values are limited and not critical.\n",
    "\n",
    "Which Strategy is Better?\n",
    "\n",
    "The second strategy (filling missing values) is generally better in this scenario because:\n",
    "\n",
    "    The dataset is relatively small (1000 rows), and dropping rows risks losing valuable data.\n",
    "    Filling with the mean allows us to retain trends in numerical data.\n",
    "    Replacing categorical gaps with 'Unknown' helps maintain dataset integrity for further analysis or modeling.\n"
   ],
   "id": "7630d7a614c32d68"
  },
  {
   "cell_type": "code",
   "id": "initial_id",
   "metadata": {
    "collapsed": true,
    "ExecuteTime": {
     "end_time": "2025-03-16T17:27:22.750030Z",
     "start_time": "2025-03-16T17:27:22.720253Z"
    }
   },
   "source": [
    "import pandas as pd\n",
    "\n",
    "# Load dataset\n",
    "df = pd.read_csv(\"top1000movies.csv\")\n",
    "\n",
    "df_dropna = df.dropna()\n",
    "print(\"Shape after dropping rows with missing values:\", df_dropna.shape)\n",
    "\n",
    "df_fillna = df.copy()\n",
    "\n",
    "\n",
    "df['Runtime'] = df['Runtime'].str.replace(' min', '').astype(int)\n",
    "\n",
    "\n",
    "numeric_cols = ['Released_Year', 'Runtime', 'IMDB_Rating', 'Meta_score', 'No_of_Votes', 'Gross']\n",
    "for col in numeric_cols:\n",
    "    df_fillna[col] = pd.to_numeric(df_fillna[col], errors='coerce')\n",
    "\n",
    "df_fillna[numeric_cols] = df_fillna[numeric_cols].fillna(df_fillna[numeric_cols].mean())\n",
    "\n",
    "\n",
    "# For categorical columns, fill with 'Unknown'\n",
    "categorical_cols = ['Certificate', 'Genre', 'Overview', 'Director', 'Star1', 'Star2', 'Star3', 'Star4']\n",
    "df_fillna[categorical_cols] = df_fillna[categorical_cols].fillna('unknown')\n",
    "\n",
    "df = df_fillna.copy()\n"
   ],
   "outputs": [
    {
     "name": "stdout",
     "output_type": "stream",
     "text": [
      "Shape after dropping rows with missing values: (713, 16)\n"
     ]
    }
   ],
   "execution_count": 187
  },
  {
   "metadata": {
    "ExecuteTime": {
     "end_time": "2025-03-16T17:27:22.858692Z",
     "start_time": "2025-03-16T17:27:22.822887Z"
    }
   },
   "cell_type": "code",
   "source": [
    "#Poster_Link,Series_Title,Released_Year,Certificate,Runtime,Genre,IMDB_Rating,Overview,Meta_score,Director,Star1,Star2,Star3,Star4,No_of_Votes,Gross\n",
    "\n",
    "\n",
    "for col in categorical_cols:\n",
    "    df[col] = df[col].str.strip().str.lower()\n",
    "\n",
    "\n",
    "\n",
    "df['Certificate'] = df['Certificate'].str.lower().str.strip()\n",
    "\n",
    "# Define a mapping dictionary\n",
    "certificate_mapping = {\n",
    "    'u/a': 'ua',  # Merge variations\n",
    "    'pg-13': 'pg13',\n",
    "    'tv-pg': 'pg',\n",
    "    'tv-14': 'pg13',\n",
    "    'tv-ma': 'r',\n",
    "    'gp': 'pg',\n",
    "    'passed': 'approved',\n",
    "    '16': 'r',  # Assume 16+ is similar to R rating\n",
    "    'unrated': 'unknown'  # Unrated movies can be labeled as 'unknown'\n",
    "}\n",
    "\n",
    "# Apply mapping\n",
    "df['Certificate'] = df['Certificate'].replace(certificate_mapping)\n",
    "\n",
    "vc_certificate =  df['Certificate'].value_counts()\n",
    "\n",
    "\n",
    "vc_release_year = df['Released_Year'].value_counts()\n",
    "\n",
    "vc_genre = df['Genre'].value_counts()\n",
    "\n",
    "vc_metascore = df['Meta_score'].value_counts()\n",
    "\n",
    "vc_director = df['Director'].value_counts()\n",
    "\n",
    "\n",
    "vc_runtime = df['Runtime'].value_counts()\n",
    "\n",
    "print()"
   ],
   "id": "f4b467d8a21605ca",
   "outputs": [
    {
     "name": "stdout",
     "output_type": "stream",
     "text": [
      "\n"
     ]
    }
   ],
   "execution_count": 188
  },
  {
   "metadata": {},
   "cell_type": "markdown",
   "source": "",
   "id": "27f942ff17755f7b"
  },
  {
   "metadata": {},
   "cell_type": "markdown",
   "source": "",
   "id": "4001f4927d401520"
  },
  {
   "metadata": {
    "ExecuteTime": {
     "end_time": "2025-03-16T17:27:23.009425Z",
     "start_time": "2025-03-16T17:27:22.951319Z"
    }
   },
   "cell_type": "code",
   "source": [
    "df_en = df.copy()\n",
    "\n",
    "df_en = pd.get_dummies(df_en, columns=['Certificate'], prefix='Cert', drop_first=True)\n",
    "df_en['Genre'] = df_en['Genre'].str.lower().str.split(', ')\n",
    "\n",
    "vc_genre = df_en['Genre'].value_counts()\n",
    "\n",
    "from sklearn.preprocessing import MultiLabelBinarizer\n",
    "\n",
    "mlb = MultiLabelBinarizer()\n",
    "genre_dummies = pd.DataFrame(mlb.fit_transform(df_en['Genre']), columns=mlb.classes_, index=df.index)\n",
    "\n",
    "# Merge with original DataFrame\n",
    "df_en = pd.concat([df_en, genre_dummies], axis=1)\n",
    "df_en = df_en.drop('Genre', axis=1)\n",
    "\n",
    "\n",
    "print(df_en.columns)\n"
   ],
   "id": "c987725c5d6e7083",
   "outputs": [
    {
     "name": "stdout",
     "output_type": "stream",
     "text": [
      "Index(['Poster_Link', 'Series_Title', 'Released_Year', 'Runtime',\n",
      "       'IMDB_Rating', 'Overview', 'Meta_score', 'Director', 'Star1', 'Star2',\n",
      "       'Star3', 'Star4', 'No_of_Votes', 'Gross', 'Cert_approved', 'Cert_g',\n",
      "       'Cert_pg', 'Cert_pg13', 'Cert_r', 'Cert_u', 'Cert_ua', 'Cert_unknown',\n",
      "       'action', 'adventure', 'animation', 'biography', 'comedy', 'crime',\n",
      "       'drama', 'family', 'fantasy', 'film-noir', 'history', 'horror', 'music',\n",
      "       'musical', 'mystery', 'romance', 'sci-fi', 'sport', 'thriller', 'war',\n",
      "       'western'],\n",
      "      dtype='object')\n"
     ]
    }
   ],
   "execution_count": 189
  },
  {
   "metadata": {
    "ExecuteTime": {
     "end_time": "2025-03-16T17:27:23.082299Z",
     "start_time": "2025-03-16T17:27:23.078996Z"
    }
   },
   "cell_type": "code",
   "source": "",
   "id": "a9fbc0d2d2db9d14",
   "outputs": [],
   "execution_count": null
  }
 ],
 "metadata": {
  "kernelspec": {
   "display_name": "Python 3",
   "language": "python",
   "name": "python3"
  },
  "language_info": {
   "codemirror_mode": {
    "name": "ipython",
    "version": 2
   },
   "file_extension": ".py",
   "mimetype": "text/x-python",
   "name": "python",
   "nbconvert_exporter": "python",
   "pygments_lexer": "ipython2",
   "version": "2.7.6"
  }
 },
 "nbformat": 4,
 "nbformat_minor": 5
}
