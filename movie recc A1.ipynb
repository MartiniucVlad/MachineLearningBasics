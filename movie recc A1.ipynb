{
 "cells": [
  {
   "cell_type": "markdown",
   "id": "7630d7a614c32d68",
   "metadata": {},
   "source": [
    "## Handling Missing Values\n",
    "\n",
    "### Strategy 1: Drop Rows with Missing Values\n",
    "One approach to handling missing data is to remove any row that contains at least one missing value. While this guarantees a dataset free of missing values, it can lead to **significant data loss**, especially if missing values are spread across many rows and columns.\n",
    "\n",
    "After applying this strategy, the dataset was reduced from **1000 rows to 713 rows**.\n",
    "\n",
    "### Strategy 2: Fill Missing Values with Median / ‘unknown’\n",
    "A more conservative approach is to **fill missing values**:\n",
    "\n",
    "- **Numerical columns**: Missing values are replaced with the **median** (a more robust alternative to the mean, as it is less sensitive to outliers).\n",
    "- **Categorical columns**: Missing values are replaced with the string **`'unknown'`**.\n",
    "\n",
    "This method retains **all rows** and prevents data loss, making it especially valuable when working with relatively small datasets like ours (Top 1000 movies). Additionally, it allows for **smoother downstream analysis** and avoids introducing bias by simply dropping data.\n",
    "\n",
    "### Selected Strategy: Filling Missing Values\n",
    "Given the **limited size** of the dataset (1000 rows) and the importance of **preserving data integrity**, we chose to proceed with **Strategy 2**. This allows us to **keep all records** while still addressing the issue of missing data effectively.\n"
   ]
  },
  {
   "cell_type": "code",
   "id": "initial_id",
   "metadata": {
    "collapsed": true,
    "jupyter": {
     "outputs_hidden": true
    },
    "ExecuteTime": {
     "end_time": "2025-03-22T10:28:24.287505Z",
     "start_time": "2025-03-22T10:28:22.509743Z"
    }
   },
   "source": [
    "import pandas as pd\n",
    "\n",
    "# Load dataset\n",
    "df = pd.read_csv(\"top1000movies.csv\")\n",
    "\n",
    "df_dropna = df.dropna()\n",
    "print(\"Shape after dropping rows with missing values:\", df_dropna.shape)\n",
    "\n",
    "\n",
    "\n",
    "\n",
    "\n"
   ],
   "outputs": [
    {
     "name": "stdout",
     "output_type": "stream",
     "text": [
      "Shape after dropping rows with missing values: (713, 16)\n"
     ]
    }
   ],
   "execution_count": 1
  },
  {
   "cell_type": "markdown",
   "id": "5c1a7b27b2beda87",
   "metadata": {},
   "source": [
    "## Data Cleaning: Preparing Numerical and Categorical Data\n",
    "\n",
    "After deciding to fill missing values with the median, we performed a series of cleaning steps to ensure the dataset is ready for analysis.\n",
    "\n",
    "### 1. Cleaning the ‘Gross’ Column\n",
    "The `Gross` column, representing box office revenue, contained **commas** (e.g., `1,300,000`) that prevented numerical conversion. We removed all commas to allow this column to be treated as a **numeric feature**.\n",
    "\n",
    "### 2. Converting Columns to Numeric\n",
    "The following columns were identified as **numerical** and explicitly converted:\n",
    "\n",
    "- `Released_Year`\n",
    "- `Runtime` (minutes)\n",
    "- `IMDB_Rating`\n",
    "- `Meta_score`\n",
    "- `No_of_Votes`\n",
    "- `Gross`\n",
    "\n",
    "To ensure consistency, any value that could not be converted was set to `NaN` and later filled with the **median** of that column.\n",
    "\n",
    "### 3. Filling Remaining Missing Values in Numerical Columns\n",
    "To address any remaining missing values, we filled all missing entries in **numerical columns** with the **median value** of their respective columns. This ensures that **outliers have minimal impact** on the imputation and preserves underlying data patterns.\n",
    "\n",
    "### 4. Filling Missing Categorical Values\n",
    "For **categorical features**, such as `Certificate`, `Genre`, `Director`, etc., we replaced all missing entries with the placeholder **`'unknown'`**. This approach maintains dataset completeness while clearly indicating the **absence of information** in those fields.\n"
   ]
  },
  {
   "cell_type": "code",
   "id": "6be4196974419df7",
   "metadata": {
    "ExecuteTime": {
     "end_time": "2025-03-19T20:15:59.334641Z",
     "start_time": "2025-03-19T20:15:59.298151Z"
    }
   },
   "source": [
    "numeric_cols = ['Released_Year', 'Runtime', 'IMDB_Rating', 'Meta_score', 'No_of_Votes', 'Gross']\n",
    "df['Gross'] = df['Gross'].replace({',': ''}, regex=True)\n",
    "\n",
    "for col in numeric_cols:\n",
    "    df[col] = pd.to_numeric(df[col], errors='coerce')\n",
    "\n",
    "\n",
    "df[numeric_cols] = df[numeric_cols].fillna(df[numeric_cols].median())\n",
    "print(df[numeric_cols].head(20))\n",
    "\n",
    "\n",
    "\n",
    "# For categorical columns, fill with 'Unknown'\n",
    "categorical_cols = ['Certificate', 'Genre', 'Overview', 'Director', 'Star1', 'Star2', 'Star3', 'Star4']\n",
    "df[categorical_cols] = df[categorical_cols].fillna('unknown')\n",
    "\n",
    "\n"
   ],
   "outputs": [
    {
     "name": "stdout",
     "output_type": "stream",
     "text": [
      "    Released_Year  Runtime  IMDB_Rating  Meta_score  No_of_Votes        Gross\n",
      "0          1994.0      142          9.3        80.0      2343110   28341469.0\n",
      "1          1972.0      175          9.2       100.0      1620367  134966411.0\n",
      "2          2008.0      152          9.0        84.0      2303232  534858444.0\n",
      "3          1974.0      202          9.0        90.0      1129952   57300000.0\n",
      "4          1957.0       96          9.0        96.0       689845    4360000.0\n",
      "5          2003.0      201          8.9        94.0      1642758  377845905.0\n",
      "6          1994.0      154          8.9        94.0      1826188  107928762.0\n",
      "7          1993.0      195          8.9        94.0      1213505   96898818.0\n",
      "8          2010.0      148          8.8        74.0      2067042  292576195.0\n",
      "9          1999.0      139          8.8        66.0      1854740   37030102.0\n",
      "10         2001.0      178          8.8        92.0      1661481  315544750.0\n",
      "11         1994.0      142          8.8        82.0      1809221  330252182.0\n",
      "12         1966.0      161          8.8        90.0       688390    6100000.0\n",
      "13         2002.0      179          8.7        87.0      1485555  342551365.0\n",
      "14         1999.0      136          8.7        73.0      1676426  171479930.0\n",
      "15         1990.0      146          8.7        90.0      1020727   46836394.0\n",
      "16         1980.0      124          8.7        82.0      1159315  290475067.0\n",
      "17         1975.0      133          8.7        83.0       918088  112000000.0\n",
      "18         2020.0      160          8.6        90.0        55291   23530892.0\n",
      "19         2019.0      132          8.6        96.0       552778   53367844.0\n"
     ]
    }
   ],
   "execution_count": 71
  },
  {
   "cell_type": "markdown",
   "id": "ac366b59788a73f1",
   "metadata": {},
   "source": [
    "## Data Cleaning: Preparing Numerical and Categorical Data\n",
    "\n",
    "After deciding to fill missing values, we performed a series of cleaning steps to ensure the dataset is ready for analysis.\n",
    "\n",
    "### 1. Cleaning the ‘Gross’ Column\n",
    "The `Gross` column, representing box office revenue, contains **commas** (e.g., `1,300,000`) that prevent numerical conversion. We removed all commas to allow this column to be treated as a **numeric feature**.\n",
    "\n",
    "### 2. Converting Columns to Numeric\n",
    "The following columns were identified as **numerical** and explicitly converted:\n",
    "\n",
    "- `Released_Year`\n",
    "- `Runtime` (minutes)\n",
    "- `IMDB_Rating`\n",
    "- `Meta_score`\n",
    "- `No_of_Votes`\n",
    "- `Gross`\n",
    "\n",
    "To ensure consistency, any value that could not be converted was set to `NaN` and later filled with the **median** of that column.\n",
    "\n",
    "### 3. Filling Remaining Missing Values in Numeric Columns\n",
    "To address any remaining missing values, we filled all missing entries in **numerical columns** with the **median** value of their respective columns. This ensures that **outliers have minimal effect** on the imputation and preserves the general trends in the data.\n",
    "\n",
    "### 4. Filling Missing Categorical Values\n",
    "For **categorical features**, such as `Certificate`, `Genre`, `Director`, etc., we replaced all missing entries with the placeholder **`'unknown'`**. This allows the data to remain intact while clearly indicating the **absence of information**.\n"
   ]
  },
  {
   "cell_type": "code",
   "id": "79ab23f747720545",
   "metadata": {
    "ExecuteTime": {
     "end_time": "2025-03-19T20:15:59.609603Z",
     "start_time": "2025-03-19T20:15:59.591479Z"
    }
   },
   "source": [
    "from sklearn.preprocessing import MinMaxScaler\n",
    "\n",
    "# Columns to normalize\n",
    "numeric_cols = ['IMDB_Rating', 'Meta_score', 'No_of_Votes', 'Gross']\n",
    "\n",
    "# Initialize the MinMaxScaler\n",
    "scaler = MinMaxScaler()\n",
    "\n",
    "# Fit and transform the data\n",
    "df[numeric_cols] = scaler.fit_transform(df[numeric_cols])\n",
    "\n",
    "# Display the transformed data\n",
    "print(df[numeric_cols].head())\n"
   ],
   "outputs": [
    {
     "name": "stdout",
     "output_type": "stream",
     "text": [
      "   IMDB_Rating  Meta_score  No_of_Votes     Gross\n",
      "0     1.000000    0.722222     1.000000  0.030257\n",
      "1     0.941176    1.000000     0.688207  0.144092\n",
      "2     0.823529    0.777778     0.982797  0.571025\n",
      "3     0.823529    0.861111     0.476641  0.061173\n",
      "4     0.823529    0.944444     0.286778  0.004653\n"
     ]
    }
   ],
   "execution_count": 72
  },
  {
   "cell_type": "markdown",
   "id": "40c54aa0187b601f",
   "metadata": {},
   "source": [
    "## Initial Data Exploration: Value Counts for Key Features\n",
    "\n",
    "To better understand the structure and distribution of key features in the dataset, we analyzed **value counts** for several columns. This step was crucial during **debugging and data validation** to ensure that data cleaning was effective and to identify any unusual patterns or inconsistencies.\n",
    "\n",
    "### Features Analyzed:\n",
    "- **`Certificate`**: Frequency of movie certification types (e.g., PG, R, etc.)\n",
    "- **`Released_Year`**: Distribution of movie release years to spot potential outliers or gaps.\n",
    "- **`Genre`**: Common genre combinations and frequency.\n",
    "- **`Meta_score`**: Distribution of Metacritic scores, useful to assess score granularity.\n",
    "- **`Director`**: Count of movies per director — helps identify prolific directors or potential data duplication.\n",
    "- **`Runtime`**: Most common movie runtimes — useful for detecting outliers or data entry errors.\n",
    "\n",
    "By analyzing **value counts**, we could quickly assess:\n",
    "- Whether certain categories were **dominant or underrepresented**.\n",
    "- If **missing or placeholder values** like `'unknown'` were present.\n",
    "- The **effectiveness of data cleaning**, particularly in `Certificate`, `Runtime`, and `Meta_score\n"
   ]
  },
  {
   "cell_type": "code",
   "id": "5d2e6076cdbc906d",
   "metadata": {
    "ExecuteTime": {
     "end_time": "2025-03-19T20:15:59.760478Z",
     "start_time": "2025-03-19T20:15:59.750102Z"
    }
   },
   "source": [
    "vc_certificate =  df['Certificate'].value_counts()\n",
    "\n",
    "\n",
    "vc_release_year = df['Released_Year'].value_counts()\n",
    "\n",
    "vc_genre = df['Genre'].value_counts()\n",
    "\n",
    "vc_metascore = df['Meta_score'].value_counts()\n",
    "\n",
    "vc_director = df['Director'].value_counts()\n",
    "\n",
    "\n",
    "vc_runtime = df['Runtime'].value_counts()\n",
    "\n"
   ],
   "outputs": [],
   "execution_count": 73
  },
  {
   "metadata": {},
   "cell_type": "markdown",
   "source": [
    "## Data Cleaning: Standardizing and Encoding the `Certificate` Feature\n",
    "\n",
    "### 1. Dropping Irrelevant Column\n",
    "We dropped the `Poster_Link` column as it contains **image URLs** irrelevant to our analysis and adds no analytical value.\n",
    "\n",
    "### 2. Standardizing Categorical Text\n",
    "To ensure **consistency** across categorical data, all entries in categorical columns (e.g., `Certificate`, `Genre`, `Director`, etc.) were **stripped of leading/trailing spaces** and **converted to lowercase**. This step prevents issues caused by inconsistent text formats (e.g., `' PG'`, `'pg'`, `'Pg-13 '`).\n",
    "\n",
    "### 3. Normalizing Certificate Categories\n",
    "The `Certificate` feature had **multiple variations** of the same rating system, including international and TV-specific certifications. To simplify analysis:\n",
    "- We **mapped variations** (e.g., `'pg-13'`, `'tv-14'`) into **standardized categories** (e.g., `'pg13'`).\n",
    "- Rare or outdated certifications (e.g., `'passed'`, `'gp'`) were merged into modern equivalents.\n",
    "- Entries labeled `'unrated'` were replaced with `'unknown'`.\n",
    "\n",
    "### 4. Encoding Certificate for Numerical Analysis\n",
    "To allow for **numerical analysis and similarity scoring**, we created a new column: `Cert_numeric`, which maps each standardized certificate to a **numeric value** based on its **age-appropriateness**. Lower values indicate more general audience suitability, while higher values represent more restricted content.\n",
    "\n",
    "| Certificate | Encoded Value | Meaning |\n",
    "|-------------|----------------|---------|\n",
    "| `g`, `u`    | 1              | General Audience |\n",
    "| `pg`, `a`   | 2              | Parental\n",
    "\n"
   ],
   "id": "3fedac3bf2710a26"
  },
  {
   "cell_type": "code",
   "id": "f4b467d8a21605ca",
   "metadata": {
    "ExecuteTime": {
     "end_time": "2025-03-19T20:15:59.801833Z",
     "start_time": "2025-03-19T20:15:59.771491Z"
    }
   },
   "source": [
    "#Poster_Link,Series_Title,Released_Year,Certificate,Runtime,Genre,IMDB_Rating,Overview,Meta_score,Director,Star1,Star2,Star3,Star4,No_of_Votes,Gross\n",
    "\n",
    "df = df.drop('Poster_Link', axis=1)\n",
    "\n",
    "\n",
    "for col in categorical_cols:\n",
    "    df[col] = df[col].str.strip().str.lower()\n",
    "\n",
    "\n",
    "\n",
    "df['Certificate'] = df['Certificate'].str.lower().str.strip()\n",
    "\n",
    "certificate_mapping = {\n",
    "    'u/a': 'ua',  # Merge variations\n",
    "    'pg-13': 'pg13',\n",
    "    'tv-pg': 'pg',\n",
    "    'tv-14': 'pg13',\n",
    "    'tv-ma': 'r',\n",
    "    'gp': 'pg',\n",
    "    'passed': 'approved',\n",
    "    '16': 'r',\n",
    "    'unrated': 'unknown'  # Unrated movies can be labeled as 'unknown'\n",
    "}\n",
    "\n",
    "\n",
    "# Apply mapping\n",
    "df['Certificate'] = df['Certificate'].replace(certificate_mapping)\n",
    "\n",
    "\n",
    "certificate_mapping2 = {\n",
    "    'u': 1,         # Universal (suitable for all)\n",
    "    'a': 2,         # Approved (similar to PG)\n",
    "    'ua': 3,        # Unrestricted but for adult audiences (some material may be inappropriate for children)\n",
    "    'r': 4,         # Restricted (under 17 requires accompanying parent or adult guardian)\n",
    "    'unknown': 3,   # Replacing with mean, assumed to be similar to PG-13 or R\n",
    "    'pg': 2,        # Parental Guidance (some material may not be suitable for children)\n",
    "    'g': 1,         # General Audience (appropriate for all ages)\n",
    "    'approved': 2,  # Approved (similar to PG)\n",
    "    'tv-14': 3,     # TV-14 (similar to PG-13)\n",
    "    'pg13' : 3,\n",
    "    'tv-ma': 5,     # TV Mature (intended for adult audiences only)\n",
    "}\n",
    "\n",
    "\n",
    "df['Cert_numeric'] = df['Certificate'].map(certificate_mapping2)\n",
    "\n",
    "print(df['Certificate'].value_counts().sum())\n",
    "print(df['Cert_numeric'].value_counts().sum())\n",
    "\n",
    "\n",
    "\n"
   ],
   "outputs": [
    {
     "name": "stdout",
     "output_type": "stream",
     "text": [
      "1000\n",
      "1000\n"
     ]
    }
   ],
   "execution_count": 74
  },
  {
   "cell_type": "markdown",
   "id": "4001f4927d401520",
   "metadata": {},
   "source": [
    "## Encoding Multi-Label Genre Data\n",
    "\n",
    "### 1. Splitting Genre Strings into Lists\n",
    "The `Genre` column initially contained comma-separated strings representing multiple genres per movie (e.g., `\"Action, Adventure, Sci-Fi\"`). To handle this **multi-label data**, we:\n",
    "- Converted all text to **lowercase** for consistency.\n",
    "- Split the string values into **lists of genres** using `str.split(', ')`.\n",
    "\n",
    "### 2. Multi-Label Binarization\n",
    "Since each movie can belong to **multiple genres**, traditional encoding methods like one-hot or label encoding are not applicable. Instead, we used `MultiLabelBinarizer` to:\n",
    "- Transform each genre list into a **binary matrix**, where each genre becomes a **new column** (e.g., `action`, `drama`, `thriller`, etc.).\n",
    "- Assign **1** if the movie belongs to that genre, otherwise **0**.\n",
    "\n",
    "This transformation enables:\n",
    "- **Efficient analysis** of genre distributions.\n",
    "- Use of genre data in **similarity-based recommendations** or **feature importance evaluation**.\n",
    "\n",
    "### 3. Merging with Original DataFrame\n",
    "The resulting **genre dummies** were concatenated back to the main DataFrame, expanding our feature set with individual genre indicators for each movie.\n",
    "\n",
    "This **multi-label encoding** preserves the richness of the genre data while enabling powerful analytical and modeling capabilities.\n"
   ]
  },
  {
   "cell_type": "code",
   "id": "c987725c5d6e7083",
   "metadata": {
    "ExecuteTime": {
     "end_time": "2025-03-19T20:15:59.964681Z",
     "start_time": "2025-03-19T20:15:59.937875Z"
    }
   },
   "source": [
    "df_en = df.copy()\n",
    "\n",
    "\n",
    "df_en['Genre'] = df_en['Genre'].str.lower().str.split(', ')\n",
    "\n",
    "vc_genre = df_en['Genre'].value_counts()\n",
    "\n",
    "from sklearn.preprocessing import MultiLabelBinarizer\n",
    "\n",
    "mlb = MultiLabelBinarizer()\n",
    "genre_dummies = pd.DataFrame(mlb.fit_transform(df_en['Genre']), columns=mlb.classes_, index=df.index)\n",
    "\n",
    "# Merge with original DataFrame\n",
    "df_en = pd.concat([df_en, genre_dummies], axis=1)\n",
    "\n",
    "\n",
    "\n",
    "print(df_en.columns)\n",
    "\n",
    "df = df_en.copy()\n",
    "\n"
   ],
   "outputs": [
    {
     "name": "stdout",
     "output_type": "stream",
     "text": [
      "Index(['Series_Title', 'Released_Year', 'Certificate', 'Runtime', 'Genre',\n",
      "       'IMDB_Rating', 'Overview', 'Meta_score', 'Director', 'Star1', 'Star2',\n",
      "       'Star3', 'Star4', 'No_of_Votes', 'Gross', 'Cert_numeric', 'action',\n",
      "       'adventure', 'animation', 'biography', 'comedy', 'crime', 'drama',\n",
      "       'family', 'fantasy', 'film-noir', 'history', 'horror', 'music',\n",
      "       'musical', 'mystery', 'romance', 'sci-fi', 'sport', 'thriller', 'war',\n",
      "       'western'],\n",
      "      dtype='object')\n"
     ]
    }
   ],
   "execution_count": 75
  },
  {
   "cell_type": "code",
   "id": "a9fbc0d2d2db9d14",
   "metadata": {
    "ExecuteTime": {
     "end_time": "2025-03-19T20:16:00.170318Z",
     "start_time": "2025-03-19T20:16:00.113918Z"
    }
   },
   "source": [
    "import plotly.express as px\n",
    "\n",
    "# Group by 'Released_Year' and calculate mean of 'Gross'\n",
    "df_mean_gross_by_year = df.groupby('Released_Year')['Gross'].mean().reset_index()\n",
    "\n",
    "# Create a line plot for the mean gross by year\n",
    "fig = px.line(df_mean_gross_by_year, x='Released_Year', y='Gross', title='Mean Gross by Year')\n",
    "\n",
    "# Show the plot\n",
    "fig.show()\n",
    "\n"
   ],
   "outputs": [
    {
     "data": {
      "application/vnd.plotly.v1+json": {
       "data": [
        {
         "hovertemplate": "Released_Year=%{x}<br>Gross=%{y}<extra></extra>",
         "legendgroup": "",
         "line": {
          "color": "#636efa",
          "dash": "solid"
         },
         "marker": {
          "symbol": "circle"
         },
         "mode": "lines",
         "name": "",
         "orientation": "v",
         "showlegend": false,
         "x": [
          1920.0,
          1921.0,
          1922.0,
          1924.0,
          1925.0,
          1926.0,
          1927.0,
          1928.0,
          1930.0,
          1931.0,
          1932.0,
          1933.0,
          1934.0,
          1935.0,
          1936.0,
          1937.0,
          1938.0,
          1939.0,
          1940.0,
          1941.0,
          1942.0,
          1943.0,
          1944.0,
          1945.0,
          1946.0,
          1947.0,
          1948.0,
          1949.0,
          1950.0,
          1951.0,
          1952.0,
          1953.0,
          1954.0,
          1955.0,
          1956.0,
          1957.0,
          1958.0,
          1959.0,
          1960.0,
          1961.0,
          1962.0,
          1963.0,
          1964.0,
          1965.0,
          1966.0,
          1967.0,
          1968.0,
          1969.0,
          1970.0,
          1971.0,
          1972.0,
          1973.0,
          1974.0,
          1975.0,
          1976.0,
          1977.0,
          1978.0,
          1979.0,
          1980.0,
          1981.0,
          1982.0,
          1983.0,
          1984.0,
          1985.0,
          1986.0,
          1987.0,
          1988.0,
          1989.0,
          1990.0,
          1991.0,
          1992.0,
          1993.0,
          1994.0,
          1995.0,
          1996.0,
          1997.0,
          1998.0,
          1999.0,
          2000.0,
          2001.0,
          2002.0,
          2003.0,
          2004.0,
          2005.0,
          2006.0,
          2007.0,
          2008.0,
          2009.0,
          2010.0,
          2011.0,
          2012.0,
          2013.0,
          2014.0,
          2015.0,
          2016.0,
          2017.0,
          2018.0,
          2019.0,
          2020.0
         ],
         "xaxis": "x",
         "y": [
          0.025120709637378703,
          0.005817147789191419,
          0.025120709637378703,
          0.0010420740090234576,
          0.002935085623087595,
          0.0011024160162463061,
          9.464983336766094E-4,
          0.012571336380725696,
          0.003489731374722029,
          0.00838974364383645,
          0.025120709637378703,
          0.020305416037499108,
          0.014887074609667714,
          0.01082728955959858,
          1.7289074043998762E-4,
          1.8318261852965961E-4,
          0.01816341001323439,
          0.054962843544278536,
          0.01603456136506688,
          0.001970341625868196,
          0.017111289679229206,
          0.025120709637378703,
          0.015250066160548262,
          0.017609511241271816,
          0.018728070559407988,
          0.013974257621423986,
          0.015450588743113856,
          0.016906530771740397,
          0.015094661150163072,
          0.009322557836618187,
          0.007705309195562466,
          0.026608784532186958,
          0.016672680582566993,
          0.016873228788065592,
          0.0401120702249433,
          0.020858699740444908,
          0.012420090879845826,
          0.024558369837522725,
          0.014953291353677527,
          0.01739928489810379,
          0.026548158964505537,
          0.012929582671176245,
          0.04231314297661893,
          0.08366473696799478,
          0.01604353564483384,
          0.04596338480738579,
          0.02797390490039875,
          0.0566389592368887,
          0.0226394485067944,
          0.025992824240672566,
          0.031743234654222574,
          0.05300949648886814,
          0.05694751344310739,
          0.061390455529580064,
          0.0452786514096417,
          0.17581063735778935,
          0.03151969551585434,
          0.05055856703903763,
          0.0801193966222056,
          0.10446502614841664,
          0.07452858811392592,
          0.08725071843501274,
          0.04436939617854927,
          0.056378919919067405,
          0.05063595704527858,
          0.03643357690920495,
          0.05751551838378863,
          0.07282347829972258,
          0.10119433281683195,
          0.06938534517912844,
          0.07012794546469032,
          0.05644612325571396,
          0.07978574909888005,
          0.048366047870062566,
          0.026904851330831654,
          0.07397446536946764,
          0.0371425024016036,
          0.08579690633641705,
          0.05191649149215122,
          0.0848105427522267,
          0.06447454072449073,
          0.07330216452677064,
          0.051441201678749,
          0.06724820678468589,
          0.05117664372322451,
          0.04118126789065863,
          0.09772312690528497,
          0.11159436393076687,
          0.1166828801500176,
          0.06478821771608782,
          0.11624525914351162,
          0.04990567790377272,
          0.0927202648011086,
          0.10716219598443373,
          0.10345165192147199,
          0.10231440607906726,
          0.1531412482477482,
          0.11936150518681785,
          0.025120709637378707
         ],
         "yaxis": "y",
         "type": "scatter"
        }
       ],
       "layout": {
        "template": {
         "data": {
          "histogram2dcontour": [
           {
            "type": "histogram2dcontour",
            "colorbar": {
             "outlinewidth": 0,
             "ticks": ""
            },
            "colorscale": [
             [
              0.0,
              "#0d0887"
             ],
             [
              0.1111111111111111,
              "#46039f"
             ],
             [
              0.2222222222222222,
              "#7201a8"
             ],
             [
              0.3333333333333333,
              "#9c179e"
             ],
             [
              0.4444444444444444,
              "#bd3786"
             ],
             [
              0.5555555555555556,
              "#d8576b"
             ],
             [
              0.6666666666666666,
              "#ed7953"
             ],
             [
              0.7777777777777778,
              "#fb9f3a"
             ],
             [
              0.8888888888888888,
              "#fdca26"
             ],
             [
              1.0,
              "#f0f921"
             ]
            ]
           }
          ],
          "choropleth": [
           {
            "type": "choropleth",
            "colorbar": {
             "outlinewidth": 0,
             "ticks": ""
            }
           }
          ],
          "histogram2d": [
           {
            "type": "histogram2d",
            "colorbar": {
             "outlinewidth": 0,
             "ticks": ""
            },
            "colorscale": [
             [
              0.0,
              "#0d0887"
             ],
             [
              0.1111111111111111,
              "#46039f"
             ],
             [
              0.2222222222222222,
              "#7201a8"
             ],
             [
              0.3333333333333333,
              "#9c179e"
             ],
             [
              0.4444444444444444,
              "#bd3786"
             ],
             [
              0.5555555555555556,
              "#d8576b"
             ],
             [
              0.6666666666666666,
              "#ed7953"
             ],
             [
              0.7777777777777778,
              "#fb9f3a"
             ],
             [
              0.8888888888888888,
              "#fdca26"
             ],
             [
              1.0,
              "#f0f921"
             ]
            ]
           }
          ],
          "heatmap": [
           {
            "type": "heatmap",
            "colorbar": {
             "outlinewidth": 0,
             "ticks": ""
            },
            "colorscale": [
             [
              0.0,
              "#0d0887"
             ],
             [
              0.1111111111111111,
              "#46039f"
             ],
             [
              0.2222222222222222,
              "#7201a8"
             ],
             [
              0.3333333333333333,
              "#9c179e"
             ],
             [
              0.4444444444444444,
              "#bd3786"
             ],
             [
              0.5555555555555556,
              "#d8576b"
             ],
             [
              0.6666666666666666,
              "#ed7953"
             ],
             [
              0.7777777777777778,
              "#fb9f3a"
             ],
             [
              0.8888888888888888,
              "#fdca26"
             ],
             [
              1.0,
              "#f0f921"
             ]
            ]
           }
          ],
          "heatmapgl": [
           {
            "type": "heatmapgl",
            "colorbar": {
             "outlinewidth": 0,
             "ticks": ""
            },
            "colorscale": [
             [
              0.0,
              "#0d0887"
             ],
             [
              0.1111111111111111,
              "#46039f"
             ],
             [
              0.2222222222222222,
              "#7201a8"
             ],
             [
              0.3333333333333333,
              "#9c179e"
             ],
             [
              0.4444444444444444,
              "#bd3786"
             ],
             [
              0.5555555555555556,
              "#d8576b"
             ],
             [
              0.6666666666666666,
              "#ed7953"
             ],
             [
              0.7777777777777778,
              "#fb9f3a"
             ],
             [
              0.8888888888888888,
              "#fdca26"
             ],
             [
              1.0,
              "#f0f921"
             ]
            ]
           }
          ],
          "contourcarpet": [
           {
            "type": "contourcarpet",
            "colorbar": {
             "outlinewidth": 0,
             "ticks": ""
            }
           }
          ],
          "contour": [
           {
            "type": "contour",
            "colorbar": {
             "outlinewidth": 0,
             "ticks": ""
            },
            "colorscale": [
             [
              0.0,
              "#0d0887"
             ],
             [
              0.1111111111111111,
              "#46039f"
             ],
             [
              0.2222222222222222,
              "#7201a8"
             ],
             [
              0.3333333333333333,
              "#9c179e"
             ],
             [
              0.4444444444444444,
              "#bd3786"
             ],
             [
              0.5555555555555556,
              "#d8576b"
             ],
             [
              0.6666666666666666,
              "#ed7953"
             ],
             [
              0.7777777777777778,
              "#fb9f3a"
             ],
             [
              0.8888888888888888,
              "#fdca26"
             ],
             [
              1.0,
              "#f0f921"
             ]
            ]
           }
          ],
          "surface": [
           {
            "type": "surface",
            "colorbar": {
             "outlinewidth": 0,
             "ticks": ""
            },
            "colorscale": [
             [
              0.0,
              "#0d0887"
             ],
             [
              0.1111111111111111,
              "#46039f"
             ],
             [
              0.2222222222222222,
              "#7201a8"
             ],
             [
              0.3333333333333333,
              "#9c179e"
             ],
             [
              0.4444444444444444,
              "#bd3786"
             ],
             [
              0.5555555555555556,
              "#d8576b"
             ],
             [
              0.6666666666666666,
              "#ed7953"
             ],
             [
              0.7777777777777778,
              "#fb9f3a"
             ],
             [
              0.8888888888888888,
              "#fdca26"
             ],
             [
              1.0,
              "#f0f921"
             ]
            ]
           }
          ],
          "mesh3d": [
           {
            "type": "mesh3d",
            "colorbar": {
             "outlinewidth": 0,
             "ticks": ""
            }
           }
          ],
          "scatter": [
           {
            "marker": {
             "line": {
              "color": "#283442"
             }
            },
            "type": "scatter"
           }
          ],
          "parcoords": [
           {
            "type": "parcoords",
            "line": {
             "colorbar": {
              "outlinewidth": 0,
              "ticks": ""
             }
            }
           }
          ],
          "scatterpolargl": [
           {
            "type": "scatterpolargl",
            "marker": {
             "colorbar": {
              "outlinewidth": 0,
              "ticks": ""
             }
            }
           }
          ],
          "bar": [
           {
            "error_x": {
             "color": "#f2f5fa"
            },
            "error_y": {
             "color": "#f2f5fa"
            },
            "marker": {
             "line": {
              "color": "rgb(17,17,17)",
              "width": 0.5
             },
             "pattern": {
              "fillmode": "overlay",
              "size": 10,
              "solidity": 0.2
             }
            },
            "type": "bar"
           }
          ],
          "scattergeo": [
           {
            "type": "scattergeo",
            "marker": {
             "colorbar": {
              "outlinewidth": 0,
              "ticks": ""
             }
            }
           }
          ],
          "scatterpolar": [
           {
            "type": "scatterpolar",
            "marker": {
             "colorbar": {
              "outlinewidth": 0,
              "ticks": ""
             }
            }
           }
          ],
          "histogram": [
           {
            "marker": {
             "pattern": {
              "fillmode": "overlay",
              "size": 10,
              "solidity": 0.2
             }
            },
            "type": "histogram"
           }
          ],
          "scattergl": [
           {
            "marker": {
             "line": {
              "color": "#283442"
             }
            },
            "type": "scattergl"
           }
          ],
          "scatter3d": [
           {
            "type": "scatter3d",
            "line": {
             "colorbar": {
              "outlinewidth": 0,
              "ticks": ""
             }
            },
            "marker": {
             "colorbar": {
              "outlinewidth": 0,
              "ticks": ""
             }
            }
           }
          ],
          "scattermapbox": [
           {
            "type": "scattermapbox",
            "marker": {
             "colorbar": {
              "outlinewidth": 0,
              "ticks": ""
             }
            }
           }
          ],
          "scatterternary": [
           {
            "type": "scatterternary",
            "marker": {
             "colorbar": {
              "outlinewidth": 0,
              "ticks": ""
             }
            }
           }
          ],
          "scattercarpet": [
           {
            "type": "scattercarpet",
            "marker": {
             "colorbar": {
              "outlinewidth": 0,
              "ticks": ""
             }
            }
           }
          ],
          "carpet": [
           {
            "aaxis": {
             "endlinecolor": "#A2B1C6",
             "gridcolor": "#506784",
             "linecolor": "#506784",
             "minorgridcolor": "#506784",
             "startlinecolor": "#A2B1C6"
            },
            "baxis": {
             "endlinecolor": "#A2B1C6",
             "gridcolor": "#506784",
             "linecolor": "#506784",
             "minorgridcolor": "#506784",
             "startlinecolor": "#A2B1C6"
            },
            "type": "carpet"
           }
          ],
          "table": [
           {
            "cells": {
             "fill": {
              "color": "#506784"
             },
             "line": {
              "color": "rgb(17,17,17)"
             }
            },
            "header": {
             "fill": {
              "color": "#2a3f5f"
             },
             "line": {
              "color": "rgb(17,17,17)"
             }
            },
            "type": "table"
           }
          ],
          "barpolar": [
           {
            "marker": {
             "line": {
              "color": "rgb(17,17,17)",
              "width": 0.5
             },
             "pattern": {
              "fillmode": "overlay",
              "size": 10,
              "solidity": 0.2
             }
            },
            "type": "barpolar"
           }
          ],
          "pie": [
           {
            "automargin": true,
            "type": "pie"
           }
          ]
         },
         "layout": {
          "autotypenumbers": "strict",
          "colorway": [
           "#636efa",
           "#EF553B",
           "#00cc96",
           "#ab63fa",
           "#FFA15A",
           "#19d3f3",
           "#FF6692",
           "#B6E880",
           "#FF97FF",
           "#FECB52"
          ],
          "font": {
           "color": "#f2f5fa"
          },
          "hovermode": "closest",
          "hoverlabel": {
           "align": "left"
          },
          "paper_bgcolor": "rgb(17,17,17)",
          "plot_bgcolor": "rgb(17,17,17)",
          "polar": {
           "bgcolor": "rgb(17,17,17)",
           "angularaxis": {
            "gridcolor": "#506784",
            "linecolor": "#506784",
            "ticks": ""
           },
           "radialaxis": {
            "gridcolor": "#506784",
            "linecolor": "#506784",
            "ticks": ""
           }
          },
          "ternary": {
           "bgcolor": "rgb(17,17,17)",
           "aaxis": {
            "gridcolor": "#506784",
            "linecolor": "#506784",
            "ticks": ""
           },
           "baxis": {
            "gridcolor": "#506784",
            "linecolor": "#506784",
            "ticks": ""
           },
           "caxis": {
            "gridcolor": "#506784",
            "linecolor": "#506784",
            "ticks": ""
           }
          },
          "coloraxis": {
           "colorbar": {
            "outlinewidth": 0,
            "ticks": ""
           }
          },
          "colorscale": {
           "sequential": [
            [
             0.0,
             "#0d0887"
            ],
            [
             0.1111111111111111,
             "#46039f"
            ],
            [
             0.2222222222222222,
             "#7201a8"
            ],
            [
             0.3333333333333333,
             "#9c179e"
            ],
            [
             0.4444444444444444,
             "#bd3786"
            ],
            [
             0.5555555555555556,
             "#d8576b"
            ],
            [
             0.6666666666666666,
             "#ed7953"
            ],
            [
             0.7777777777777778,
             "#fb9f3a"
            ],
            [
             0.8888888888888888,
             "#fdca26"
            ],
            [
             1.0,
             "#f0f921"
            ]
           ],
           "sequentialminus": [
            [
             0.0,
             "#0d0887"
            ],
            [
             0.1111111111111111,
             "#46039f"
            ],
            [
             0.2222222222222222,
             "#7201a8"
            ],
            [
             0.3333333333333333,
             "#9c179e"
            ],
            [
             0.4444444444444444,
             "#bd3786"
            ],
            [
             0.5555555555555556,
             "#d8576b"
            ],
            [
             0.6666666666666666,
             "#ed7953"
            ],
            [
             0.7777777777777778,
             "#fb9f3a"
            ],
            [
             0.8888888888888888,
             "#fdca26"
            ],
            [
             1.0,
             "#f0f921"
            ]
           ],
           "diverging": [
            [
             0,
             "#8e0152"
            ],
            [
             0.1,
             "#c51b7d"
            ],
            [
             0.2,
             "#de77ae"
            ],
            [
             0.3,
             "#f1b6da"
            ],
            [
             0.4,
             "#fde0ef"
            ],
            [
             0.5,
             "#f7f7f7"
            ],
            [
             0.6,
             "#e6f5d0"
            ],
            [
             0.7,
             "#b8e186"
            ],
            [
             0.8,
             "#7fbc41"
            ],
            [
             0.9,
             "#4d9221"
            ],
            [
             1,
             "#276419"
            ]
           ]
          },
          "xaxis": {
           "gridcolor": "#283442",
           "linecolor": "#506784",
           "ticks": "",
           "title": {
            "standoff": 15
           },
           "zerolinecolor": "#283442",
           "automargin": true,
           "zerolinewidth": 2
          },
          "yaxis": {
           "gridcolor": "#283442",
           "linecolor": "#506784",
           "ticks": "",
           "title": {
            "standoff": 15
           },
           "zerolinecolor": "#283442",
           "automargin": true,
           "zerolinewidth": 2
          },
          "scene": {
           "xaxis": {
            "backgroundcolor": "rgb(17,17,17)",
            "gridcolor": "#506784",
            "linecolor": "#506784",
            "showbackground": true,
            "ticks": "",
            "zerolinecolor": "#C8D4E3",
            "gridwidth": 2
           },
           "yaxis": {
            "backgroundcolor": "rgb(17,17,17)",
            "gridcolor": "#506784",
            "linecolor": "#506784",
            "showbackground": true,
            "ticks": "",
            "zerolinecolor": "#C8D4E3",
            "gridwidth": 2
           },
           "zaxis": {
            "backgroundcolor": "rgb(17,17,17)",
            "gridcolor": "#506784",
            "linecolor": "#506784",
            "showbackground": true,
            "ticks": "",
            "zerolinecolor": "#C8D4E3",
            "gridwidth": 2
           }
          },
          "shapedefaults": {
           "line": {
            "color": "#f2f5fa"
           }
          },
          "annotationdefaults": {
           "arrowcolor": "#f2f5fa",
           "arrowhead": 0,
           "arrowwidth": 1
          },
          "geo": {
           "bgcolor": "rgb(17,17,17)",
           "landcolor": "rgb(17,17,17)",
           "subunitcolor": "#506784",
           "showland": true,
           "showlakes": true,
           "lakecolor": "rgb(17,17,17)"
          },
          "title": {
           "x": 0.05
          },
          "updatemenudefaults": {
           "bgcolor": "#506784",
           "borderwidth": 0
          },
          "sliderdefaults": {
           "bgcolor": "#C8D4E3",
           "borderwidth": 1,
           "bordercolor": "rgb(17,17,17)",
           "tickwidth": 0
          },
          "mapbox": {
           "style": "dark"
          }
         }
        },
        "xaxis": {
         "anchor": "y",
         "domain": [
          0.0,
          1.0
         ],
         "title": {
          "text": "Released_Year"
         }
        },
        "yaxis": {
         "anchor": "x",
         "domain": [
          0.0,
          1.0
         ],
         "title": {
          "text": "Gross"
         }
        },
        "legend": {
         "tracegroupgap": 0
        },
        "title": {
         "text": "Mean Gross by Year"
        }
       },
       "config": {
        "plotlyServerURL": "https://plot.ly"
       }
      },
      "text/html": [
       "<div>                            <div id=\"759d12ca-70ae-42f4-a239-c5f0d57a8b39\" class=\"plotly-graph-div\" style=\"height:525px; width:100%;\"></div>            <script type=\"text/javascript\">                require([\"plotly\"], function(Plotly) {                    window.PLOTLYENV=window.PLOTLYENV || {};                                    if (document.getElementById(\"759d12ca-70ae-42f4-a239-c5f0d57a8b39\")) {                    Plotly.newPlot(                        \"759d12ca-70ae-42f4-a239-c5f0d57a8b39\",                        [{\"hovertemplate\":\"Released_Year=%{x}\\u003cbr\\u003eGross=%{y}\\u003cextra\\u003e\\u003c\\u002fextra\\u003e\",\"legendgroup\":\"\",\"line\":{\"color\":\"#636efa\",\"dash\":\"solid\"},\"marker\":{\"symbol\":\"circle\"},\"mode\":\"lines\",\"name\":\"\",\"orientation\":\"v\",\"showlegend\":false,\"x\":[1920.0,1921.0,1922.0,1924.0,1925.0,1926.0,1927.0,1928.0,1930.0,1931.0,1932.0,1933.0,1934.0,1935.0,1936.0,1937.0,1938.0,1939.0,1940.0,1941.0,1942.0,1943.0,1944.0,1945.0,1946.0,1947.0,1948.0,1949.0,1950.0,1951.0,1952.0,1953.0,1954.0,1955.0,1956.0,1957.0,1958.0,1959.0,1960.0,1961.0,1962.0,1963.0,1964.0,1965.0,1966.0,1967.0,1968.0,1969.0,1970.0,1971.0,1972.0,1973.0,1974.0,1975.0,1976.0,1977.0,1978.0,1979.0,1980.0,1981.0,1982.0,1983.0,1984.0,1985.0,1986.0,1987.0,1988.0,1989.0,1990.0,1991.0,1992.0,1993.0,1994.0,1995.0,1996.0,1997.0,1998.0,1999.0,2000.0,2001.0,2002.0,2003.0,2004.0,2005.0,2006.0,2007.0,2008.0,2009.0,2010.0,2011.0,2012.0,2013.0,2014.0,2015.0,2016.0,2017.0,2018.0,2019.0,2020.0],\"xaxis\":\"x\",\"y\":[0.025120709637378703,0.005817147789191419,0.025120709637378703,0.0010420740090234576,0.002935085623087595,0.0011024160162463061,0.0009464983336766094,0.012571336380725696,0.003489731374722029,0.00838974364383645,0.025120709637378703,0.020305416037499108,0.014887074609667714,0.01082728955959858,0.00017289074043998762,0.00018318261852965961,0.01816341001323439,0.054962843544278536,0.01603456136506688,0.001970341625868196,0.017111289679229206,0.025120709637378703,0.015250066160548262,0.017609511241271816,0.018728070559407988,0.013974257621423986,0.015450588743113856,0.016906530771740397,0.015094661150163072,0.009322557836618187,0.007705309195562466,0.026608784532186958,0.016672680582566993,0.016873228788065592,0.0401120702249433,0.020858699740444908,0.012420090879845826,0.024558369837522725,0.014953291353677527,0.01739928489810379,0.026548158964505537,0.012929582671176245,0.04231314297661893,0.08366473696799478,0.01604353564483384,0.04596338480738579,0.02797390490039875,0.0566389592368887,0.0226394485067944,0.025992824240672566,0.031743234654222574,0.05300949648886814,0.05694751344310739,0.061390455529580064,0.0452786514096417,0.17581063735778935,0.03151969551585434,0.05055856703903763,0.0801193966222056,0.10446502614841664,0.07452858811392592,0.08725071843501274,0.04436939617854927,0.056378919919067405,0.05063595704527858,0.03643357690920495,0.05751551838378863,0.07282347829972258,0.10119433281683195,0.06938534517912844,0.07012794546469032,0.05644612325571396,0.07978574909888005,0.048366047870062566,0.026904851330831654,0.07397446536946764,0.0371425024016036,0.08579690633641705,0.05191649149215122,0.0848105427522267,0.06447454072449073,0.07330216452677064,0.051441201678749,0.06724820678468589,0.05117664372322451,0.04118126789065863,0.09772312690528497,0.11159436393076687,0.1166828801500176,0.06478821771608782,0.11624525914351162,0.04990567790377272,0.0927202648011086,0.10716219598443373,0.10345165192147199,0.10231440607906726,0.1531412482477482,0.11936150518681785,0.025120709637378707],\"yaxis\":\"y\",\"type\":\"scatter\"}],                        {\"template\":{\"data\":{\"histogram2dcontour\":[{\"type\":\"histogram2dcontour\",\"colorbar\":{\"outlinewidth\":0,\"ticks\":\"\"},\"colorscale\":[[0.0,\"#0d0887\"],[0.1111111111111111,\"#46039f\"],[0.2222222222222222,\"#7201a8\"],[0.3333333333333333,\"#9c179e\"],[0.4444444444444444,\"#bd3786\"],[0.5555555555555556,\"#d8576b\"],[0.6666666666666666,\"#ed7953\"],[0.7777777777777778,\"#fb9f3a\"],[0.8888888888888888,\"#fdca26\"],[1.0,\"#f0f921\"]]}],\"choropleth\":[{\"type\":\"choropleth\",\"colorbar\":{\"outlinewidth\":0,\"ticks\":\"\"}}],\"histogram2d\":[{\"type\":\"histogram2d\",\"colorbar\":{\"outlinewidth\":0,\"ticks\":\"\"},\"colorscale\":[[0.0,\"#0d0887\"],[0.1111111111111111,\"#46039f\"],[0.2222222222222222,\"#7201a8\"],[0.3333333333333333,\"#9c179e\"],[0.4444444444444444,\"#bd3786\"],[0.5555555555555556,\"#d8576b\"],[0.6666666666666666,\"#ed7953\"],[0.7777777777777778,\"#fb9f3a\"],[0.8888888888888888,\"#fdca26\"],[1.0,\"#f0f921\"]]}],\"heatmap\":[{\"type\":\"heatmap\",\"colorbar\":{\"outlinewidth\":0,\"ticks\":\"\"},\"colorscale\":[[0.0,\"#0d0887\"],[0.1111111111111111,\"#46039f\"],[0.2222222222222222,\"#7201a8\"],[0.3333333333333333,\"#9c179e\"],[0.4444444444444444,\"#bd3786\"],[0.5555555555555556,\"#d8576b\"],[0.6666666666666666,\"#ed7953\"],[0.7777777777777778,\"#fb9f3a\"],[0.8888888888888888,\"#fdca26\"],[1.0,\"#f0f921\"]]}],\"heatmapgl\":[{\"type\":\"heatmapgl\",\"colorbar\":{\"outlinewidth\":0,\"ticks\":\"\"},\"colorscale\":[[0.0,\"#0d0887\"],[0.1111111111111111,\"#46039f\"],[0.2222222222222222,\"#7201a8\"],[0.3333333333333333,\"#9c179e\"],[0.4444444444444444,\"#bd3786\"],[0.5555555555555556,\"#d8576b\"],[0.6666666666666666,\"#ed7953\"],[0.7777777777777778,\"#fb9f3a\"],[0.8888888888888888,\"#fdca26\"],[1.0,\"#f0f921\"]]}],\"contourcarpet\":[{\"type\":\"contourcarpet\",\"colorbar\":{\"outlinewidth\":0,\"ticks\":\"\"}}],\"contour\":[{\"type\":\"contour\",\"colorbar\":{\"outlinewidth\":0,\"ticks\":\"\"},\"colorscale\":[[0.0,\"#0d0887\"],[0.1111111111111111,\"#46039f\"],[0.2222222222222222,\"#7201a8\"],[0.3333333333333333,\"#9c179e\"],[0.4444444444444444,\"#bd3786\"],[0.5555555555555556,\"#d8576b\"],[0.6666666666666666,\"#ed7953\"],[0.7777777777777778,\"#fb9f3a\"],[0.8888888888888888,\"#fdca26\"],[1.0,\"#f0f921\"]]}],\"surface\":[{\"type\":\"surface\",\"colorbar\":{\"outlinewidth\":0,\"ticks\":\"\"},\"colorscale\":[[0.0,\"#0d0887\"],[0.1111111111111111,\"#46039f\"],[0.2222222222222222,\"#7201a8\"],[0.3333333333333333,\"#9c179e\"],[0.4444444444444444,\"#bd3786\"],[0.5555555555555556,\"#d8576b\"],[0.6666666666666666,\"#ed7953\"],[0.7777777777777778,\"#fb9f3a\"],[0.8888888888888888,\"#fdca26\"],[1.0,\"#f0f921\"]]}],\"mesh3d\":[{\"type\":\"mesh3d\",\"colorbar\":{\"outlinewidth\":0,\"ticks\":\"\"}}],\"scatter\":[{\"marker\":{\"line\":{\"color\":\"#283442\"}},\"type\":\"scatter\"}],\"parcoords\":[{\"type\":\"parcoords\",\"line\":{\"colorbar\":{\"outlinewidth\":0,\"ticks\":\"\"}}}],\"scatterpolargl\":[{\"type\":\"scatterpolargl\",\"marker\":{\"colorbar\":{\"outlinewidth\":0,\"ticks\":\"\"}}}],\"bar\":[{\"error_x\":{\"color\":\"#f2f5fa\"},\"error_y\":{\"color\":\"#f2f5fa\"},\"marker\":{\"line\":{\"color\":\"rgb(17,17,17)\",\"width\":0.5},\"pattern\":{\"fillmode\":\"overlay\",\"size\":10,\"solidity\":0.2}},\"type\":\"bar\"}],\"scattergeo\":[{\"type\":\"scattergeo\",\"marker\":{\"colorbar\":{\"outlinewidth\":0,\"ticks\":\"\"}}}],\"scatterpolar\":[{\"type\":\"scatterpolar\",\"marker\":{\"colorbar\":{\"outlinewidth\":0,\"ticks\":\"\"}}}],\"histogram\":[{\"marker\":{\"pattern\":{\"fillmode\":\"overlay\",\"size\":10,\"solidity\":0.2}},\"type\":\"histogram\"}],\"scattergl\":[{\"marker\":{\"line\":{\"color\":\"#283442\"}},\"type\":\"scattergl\"}],\"scatter3d\":[{\"type\":\"scatter3d\",\"line\":{\"colorbar\":{\"outlinewidth\":0,\"ticks\":\"\"}},\"marker\":{\"colorbar\":{\"outlinewidth\":0,\"ticks\":\"\"}}}],\"scattermapbox\":[{\"type\":\"scattermapbox\",\"marker\":{\"colorbar\":{\"outlinewidth\":0,\"ticks\":\"\"}}}],\"scatterternary\":[{\"type\":\"scatterternary\",\"marker\":{\"colorbar\":{\"outlinewidth\":0,\"ticks\":\"\"}}}],\"scattercarpet\":[{\"type\":\"scattercarpet\",\"marker\":{\"colorbar\":{\"outlinewidth\":0,\"ticks\":\"\"}}}],\"carpet\":[{\"aaxis\":{\"endlinecolor\":\"#A2B1C6\",\"gridcolor\":\"#506784\",\"linecolor\":\"#506784\",\"minorgridcolor\":\"#506784\",\"startlinecolor\":\"#A2B1C6\"},\"baxis\":{\"endlinecolor\":\"#A2B1C6\",\"gridcolor\":\"#506784\",\"linecolor\":\"#506784\",\"minorgridcolor\":\"#506784\",\"startlinecolor\":\"#A2B1C6\"},\"type\":\"carpet\"}],\"table\":[{\"cells\":{\"fill\":{\"color\":\"#506784\"},\"line\":{\"color\":\"rgb(17,17,17)\"}},\"header\":{\"fill\":{\"color\":\"#2a3f5f\"},\"line\":{\"color\":\"rgb(17,17,17)\"}},\"type\":\"table\"}],\"barpolar\":[{\"marker\":{\"line\":{\"color\":\"rgb(17,17,17)\",\"width\":0.5},\"pattern\":{\"fillmode\":\"overlay\",\"size\":10,\"solidity\":0.2}},\"type\":\"barpolar\"}],\"pie\":[{\"automargin\":true,\"type\":\"pie\"}]},\"layout\":{\"autotypenumbers\":\"strict\",\"colorway\":[\"#636efa\",\"#EF553B\",\"#00cc96\",\"#ab63fa\",\"#FFA15A\",\"#19d3f3\",\"#FF6692\",\"#B6E880\",\"#FF97FF\",\"#FECB52\"],\"font\":{\"color\":\"#f2f5fa\"},\"hovermode\":\"closest\",\"hoverlabel\":{\"align\":\"left\"},\"paper_bgcolor\":\"rgb(17,17,17)\",\"plot_bgcolor\":\"rgb(17,17,17)\",\"polar\":{\"bgcolor\":\"rgb(17,17,17)\",\"angularaxis\":{\"gridcolor\":\"#506784\",\"linecolor\":\"#506784\",\"ticks\":\"\"},\"radialaxis\":{\"gridcolor\":\"#506784\",\"linecolor\":\"#506784\",\"ticks\":\"\"}},\"ternary\":{\"bgcolor\":\"rgb(17,17,17)\",\"aaxis\":{\"gridcolor\":\"#506784\",\"linecolor\":\"#506784\",\"ticks\":\"\"},\"baxis\":{\"gridcolor\":\"#506784\",\"linecolor\":\"#506784\",\"ticks\":\"\"},\"caxis\":{\"gridcolor\":\"#506784\",\"linecolor\":\"#506784\",\"ticks\":\"\"}},\"coloraxis\":{\"colorbar\":{\"outlinewidth\":0,\"ticks\":\"\"}},\"colorscale\":{\"sequential\":[[0.0,\"#0d0887\"],[0.1111111111111111,\"#46039f\"],[0.2222222222222222,\"#7201a8\"],[0.3333333333333333,\"#9c179e\"],[0.4444444444444444,\"#bd3786\"],[0.5555555555555556,\"#d8576b\"],[0.6666666666666666,\"#ed7953\"],[0.7777777777777778,\"#fb9f3a\"],[0.8888888888888888,\"#fdca26\"],[1.0,\"#f0f921\"]],\"sequentialminus\":[[0.0,\"#0d0887\"],[0.1111111111111111,\"#46039f\"],[0.2222222222222222,\"#7201a8\"],[0.3333333333333333,\"#9c179e\"],[0.4444444444444444,\"#bd3786\"],[0.5555555555555556,\"#d8576b\"],[0.6666666666666666,\"#ed7953\"],[0.7777777777777778,\"#fb9f3a\"],[0.8888888888888888,\"#fdca26\"],[1.0,\"#f0f921\"]],\"diverging\":[[0,\"#8e0152\"],[0.1,\"#c51b7d\"],[0.2,\"#de77ae\"],[0.3,\"#f1b6da\"],[0.4,\"#fde0ef\"],[0.5,\"#f7f7f7\"],[0.6,\"#e6f5d0\"],[0.7,\"#b8e186\"],[0.8,\"#7fbc41\"],[0.9,\"#4d9221\"],[1,\"#276419\"]]},\"xaxis\":{\"gridcolor\":\"#283442\",\"linecolor\":\"#506784\",\"ticks\":\"\",\"title\":{\"standoff\":15},\"zerolinecolor\":\"#283442\",\"automargin\":true,\"zerolinewidth\":2},\"yaxis\":{\"gridcolor\":\"#283442\",\"linecolor\":\"#506784\",\"ticks\":\"\",\"title\":{\"standoff\":15},\"zerolinecolor\":\"#283442\",\"automargin\":true,\"zerolinewidth\":2},\"scene\":{\"xaxis\":{\"backgroundcolor\":\"rgb(17,17,17)\",\"gridcolor\":\"#506784\",\"linecolor\":\"#506784\",\"showbackground\":true,\"ticks\":\"\",\"zerolinecolor\":\"#C8D4E3\",\"gridwidth\":2},\"yaxis\":{\"backgroundcolor\":\"rgb(17,17,17)\",\"gridcolor\":\"#506784\",\"linecolor\":\"#506784\",\"showbackground\":true,\"ticks\":\"\",\"zerolinecolor\":\"#C8D4E3\",\"gridwidth\":2},\"zaxis\":{\"backgroundcolor\":\"rgb(17,17,17)\",\"gridcolor\":\"#506784\",\"linecolor\":\"#506784\",\"showbackground\":true,\"ticks\":\"\",\"zerolinecolor\":\"#C8D4E3\",\"gridwidth\":2}},\"shapedefaults\":{\"line\":{\"color\":\"#f2f5fa\"}},\"annotationdefaults\":{\"arrowcolor\":\"#f2f5fa\",\"arrowhead\":0,\"arrowwidth\":1},\"geo\":{\"bgcolor\":\"rgb(17,17,17)\",\"landcolor\":\"rgb(17,17,17)\",\"subunitcolor\":\"#506784\",\"showland\":true,\"showlakes\":true,\"lakecolor\":\"rgb(17,17,17)\"},\"title\":{\"x\":0.05},\"updatemenudefaults\":{\"bgcolor\":\"#506784\",\"borderwidth\":0},\"sliderdefaults\":{\"bgcolor\":\"#C8D4E3\",\"borderwidth\":1,\"bordercolor\":\"rgb(17,17,17)\",\"tickwidth\":0},\"mapbox\":{\"style\":\"dark\"}}},\"xaxis\":{\"anchor\":\"y\",\"domain\":[0.0,1.0],\"title\":{\"text\":\"Released_Year\"}},\"yaxis\":{\"anchor\":\"x\",\"domain\":[0.0,1.0],\"title\":{\"text\":\"Gross\"}},\"legend\":{\"tracegroupgap\":0},\"title\":{\"text\":\"Mean Gross by Year\"}},                        {\"responsive\": true}                    ).then(function(){\n",
       "                            \n",
       "var gd = document.getElementById('759d12ca-70ae-42f4-a239-c5f0d57a8b39');\n",
       "var x = new MutationObserver(function (mutations, observer) {{\n",
       "        var display = window.getComputedStyle(gd).display;\n",
       "        if (!display || display === 'none') {{\n",
       "            console.log([gd, 'removed!']);\n",
       "            Plotly.purge(gd);\n",
       "            observer.disconnect();\n",
       "        }}\n",
       "}});\n",
       "\n",
       "// Listen for the removal of the full notebook cells\n",
       "var notebookContainer = gd.closest('#notebook-container');\n",
       "if (notebookContainer) {{\n",
       "    x.observe(notebookContainer, {childList: true});\n",
       "}}\n",
       "\n",
       "// Listen for the clearing of the current output cell\n",
       "var outputEl = gd.closest('.output');\n",
       "if (outputEl) {{\n",
       "    x.observe(outputEl, {childList: true});\n",
       "}}\n",
       "\n",
       "                        })                };                });            </script>        </div>"
      ]
     },
     "metadata": {},
     "output_type": "display_data"
    }
   ],
   "execution_count": 76
  },
  {
   "metadata": {},
   "cell_type": "markdown",
   "source": "This histogram shows the distribution of IMDB ratings across the top 1000 movies. It helps us understand the concentration of movies in different rating ranges. This kind of distribution is crucial for assessing the overall quality of the movies in the dataset.",
   "id": "a1a9580e8dd93d36"
  },
  {
   "metadata": {
    "ExecuteTime": {
     "end_time": "2025-03-19T20:16:00.379564Z",
     "start_time": "2025-03-19T20:16:00.318199Z"
    }
   },
   "cell_type": "code",
   "source": [
    "import plotly.express as px\n",
    "\n",
    "# Create a histogram of IMDB ratings\n",
    "fig = px.histogram(df, x='IMDB_Rating', nbins=20, title='Distribution of IMDB Ratings')\n",
    "fig.show()\n"
   ],
   "id": "aa7d32b334f1986",
   "outputs": [
    {
     "data": {
      "application/vnd.plotly.v1+json": {
       "data": [
        {
         "alignmentgroup": "True",
         "bingroup": "x",
         "hovertemplate": "IMDB_Rating=%{x}<br>count=%{y}<extra></extra>",
         "legendgroup": "",
         "marker": {
          "color": "#636efa",
          "pattern": {
           "shape": ""
          }
         },
         "name": "",
         "nbinsx": 20,
         "offsetgroup": "",
         "orientation": "v",
         "showlegend": false,
         "x": [
          1.0,
          0.9411764705882346,
          0.8235294117647056,
          0.8235294117647056,
          0.8235294117647056,
          0.7647058823529411,
          0.7647058823529411,
          0.7647058823529411,
          0.7058823529411766,
          0.7058823529411766,
          0.7058823529411766,
          0.7058823529411766,
          0.7058823529411766,
          0.6470588235294112,
          0.6470588235294112,
          0.6470588235294112,
          0.6470588235294112,
          0.6470588235294112,
          0.5882352941176467,
          0.5882352941176467,
          0.5882352941176467,
          0.5882352941176467,
          0.5882352941176467,
          0.5882352941176467,
          0.5882352941176467,
          0.5882352941176467,
          0.5882352941176467,
          0.5882352941176467,
          0.5882352941176467,
          0.5882352941176467,
          0.5882352941176467,
          0.5882352941176467,
          0.5882352941176467,
          0.5294117647058822,
          0.5294117647058822,
          0.5294117647058822,
          0.5294117647058822,
          0.5294117647058822,
          0.5294117647058822,
          0.5294117647058822,
          0.5294117647058822,
          0.5294117647058822,
          0.5294117647058822,
          0.5294117647058822,
          0.5294117647058822,
          0.5294117647058822,
          0.5294117647058822,
          0.5294117647058822,
          0.5294117647058822,
          0.5294117647058822,
          0.5294117647058822,
          0.5294117647058822,
          0.5294117647058822,
          0.47058823529411775,
          0.47058823529411775,
          0.47058823529411775,
          0.47058823529411775,
          0.47058823529411775,
          0.47058823529411775,
          0.47058823529411775,
          0.47058823529411775,
          0.47058823529411775,
          0.47058823529411775,
          0.47058823529411775,
          0.47058823529411775,
          0.47058823529411775,
          0.47058823529411775,
          0.47058823529411775,
          0.47058823529411775,
          0.47058823529411775,
          0.47058823529411775,
          0.47058823529411775,
          0.47058823529411775,
          0.47058823529411775,
          0.47058823529411775,
          0.47058823529411775,
          0.47058823529411775,
          0.47058823529411775,
          0.47058823529411775,
          0.47058823529411775,
          0.47058823529411775,
          0.47058823529411775,
          0.47058823529411775,
          0.47058823529411775,
          0.41176470588235325,
          0.41176470588235325,
          0.41176470588235325,
          0.41176470588235325,
          0.41176470588235325,
          0.41176470588235325,
          0.41176470588235325,
          0.41176470588235325,
          0.41176470588235325,
          0.41176470588235325,
          0.41176470588235325,
          0.41176470588235325,
          0.41176470588235325,
          0.41176470588235325,
          0.41176470588235325,
          0.41176470588235325,
          0.41176470588235325,
          0.41176470588235325,
          0.41176470588235325,
          0.41176470588235325,
          0.41176470588235325,
          0.41176470588235325,
          0.41176470588235325,
          0.41176470588235325,
          0.41176470588235325,
          0.41176470588235325,
          0.41176470588235325,
          0.41176470588235325,
          0.41176470588235325,
          0.41176470588235325,
          0.41176470588235325,
          0.41176470588235325,
          0.41176470588235325,
          0.41176470588235325,
          0.41176470588235325,
          0.41176470588235325,
          0.41176470588235325,
          0.41176470588235325,
          0.41176470588235325,
          0.41176470588235325,
          0.41176470588235325,
          0.41176470588235325,
          0.41176470588235325,
          0.41176470588235325,
          0.35294117647058787,
          0.35294117647058787,
          0.35294117647058787,
          0.35294117647058787,
          0.35294117647058787,
          0.35294117647058787,
          0.35294117647058787,
          0.35294117647058787,
          0.35294117647058787,
          0.35294117647058787,
          0.35294117647058787,
          0.35294117647058787,
          0.35294117647058787,
          0.35294117647058787,
          0.35294117647058787,
          0.35294117647058787,
          0.35294117647058787,
          0.35294117647058787,
          0.35294117647058787,
          0.35294117647058787,
          0.35294117647058787,
          0.35294117647058787,
          0.35294117647058787,
          0.35294117647058787,
          0.35294117647058787,
          0.35294117647058787,
          0.35294117647058787,
          0.35294117647058787,
          0.35294117647058787,
          0.35294117647058787,
          0.35294117647058787,
          0.35294117647058787,
          0.35294117647058787,
          0.35294117647058787,
          0.35294117647058787,
          0.35294117647058787,
          0.35294117647058787,
          0.35294117647058787,
          0.35294117647058787,
          0.35294117647058787,
          0.35294117647058787,
          0.35294117647058787,
          0.35294117647058787,
          0.35294117647058787,
          0.35294117647058787,
          0.35294117647058787,
          0.35294117647058787,
          0.35294117647058787,
          0.35294117647058787,
          0.35294117647058787,
          0.35294117647058787,
          0.35294117647058787,
          0.35294117647058787,
          0.35294117647058787,
          0.35294117647058787,
          0.35294117647058787,
          0.35294117647058787,
          0.35294117647058787,
          0.35294117647058787,
          0.35294117647058787,
          0.35294117647058787,
          0.35294117647058787,
          0.35294117647058787,
          0.35294117647058787,
          0.35294117647058787,
          0.35294117647058787,
          0.35294117647058787,
          0.2941176470588234,
          0.2941176470588234,
          0.2941176470588234,
          0.2941176470588234,
          0.2941176470588234,
          0.2941176470588234,
          0.2941176470588234,
          0.2941176470588234,
          0.2941176470588234,
          0.2941176470588234,
          0.2941176470588234,
          0.2941176470588234,
          0.2941176470588234,
          0.2941176470588234,
          0.2941176470588234,
          0.2941176470588234,
          0.2941176470588234,
          0.2941176470588234,
          0.2941176470588234,
          0.2941176470588234,
          0.2941176470588234,
          0.2941176470588234,
          0.2941176470588234,
          0.2941176470588234,
          0.2941176470588234,
          0.2941176470588234,
          0.2941176470588234,
          0.2941176470588234,
          0.2941176470588234,
          0.2941176470588234,
          0.2941176470588234,
          0.2941176470588234,
          0.2941176470588234,
          0.2941176470588234,
          0.2941176470588234,
          0.2941176470588234,
          0.2941176470588234,
          0.2941176470588234,
          0.2941176470588234,
          0.2941176470588234,
          0.2941176470588234,
          0.2941176470588234,
          0.2941176470588234,
          0.2941176470588234,
          0.2941176470588234,
          0.2941176470588234,
          0.2941176470588234,
          0.2941176470588234,
          0.2941176470588234,
          0.2941176470588234,
          0.2941176470588234,
          0.2941176470588234,
          0.2941176470588234,
          0.2941176470588234,
          0.2941176470588234,
          0.2941176470588234,
          0.2941176470588234,
          0.2941176470588234,
          0.2941176470588234,
          0.2941176470588234,
          0.2941176470588234,
          0.2941176470588234,
          0.2941176470588234,
          0.2941176470588234,
          0.2941176470588234,
          0.2941176470588234,
          0.2941176470588234,
          0.2941176470588234,
          0.2941176470588234,
          0.2941176470588234,
          0.2941176470588234,
          0.2941176470588234,
          0.2941176470588234,
          0.2941176470588234,
          0.2941176470588234,
          0.2941176470588234,
          0.2941176470588234,
          0.2941176470588234,
          0.2941176470588234,
          0.2941176470588234,
          0.2941176470588234,
          0.2941176470588234,
          0.2941176470588234,
          0.2941176470588234,
          0.2941176470588234,
          0.2941176470588234,
          0.2941176470588234,
          0.2941176470588234,
          0.2941176470588234,
          0.2941176470588234,
          0.2941176470588234,
          0.2941176470588234,
          0.2941176470588234,
          0.2941176470588234,
          0.2941176470588234,
          0.2941176470588234,
          0.2941176470588234,
          0.2941176470588234,
          0.2941176470588234,
          0.2941176470588234,
          0.2941176470588234,
          0.2941176470588234,
          0.2941176470588234,
          0.2941176470588234,
          0.2941176470588234,
          0.2941176470588234,
          0.2941176470588234,
          0.2941176470588234,
          0.2941176470588234,
          0.2941176470588234,
          0.2941176470588234,
          0.2941176470588234,
          0.2941176470588234,
          0.2941176470588234,
          0.2941176470588234,
          0.2941176470588234,
          0.2941176470588234,
          0.2941176470588234,
          0.2941176470588234,
          0.2941176470588234,
          0.2941176470588234,
          0.2941176470588234,
          0.2941176470588234,
          0.2941176470588234,
          0.2941176470588234,
          0.2941176470588234,
          0.2941176470588234,
          0.23529411764705888,
          0.23529411764705888,
          0.23529411764705888,
          0.23529411764705888,
          0.23529411764705888,
          0.23529411764705888,
          0.23529411764705888,
          0.23529411764705888,
          0.23529411764705888,
          0.23529411764705888,
          0.23529411764705888,
          0.23529411764705888,
          0.23529411764705888,
          0.23529411764705888,
          0.23529411764705888,
          0.23529411764705888,
          0.23529411764705888,
          0.23529411764705888,
          0.23529411764705888,
          0.23529411764705888,
          0.23529411764705888,
          0.23529411764705888,
          0.23529411764705888,
          0.23529411764705888,
          0.23529411764705888,
          0.23529411764705888,
          0.23529411764705888,
          0.23529411764705888,
          0.23529411764705888,
          0.23529411764705888,
          0.23529411764705888,
          0.23529411764705888,
          0.23529411764705888,
          0.23529411764705888,
          0.23529411764705888,
          0.23529411764705888,
          0.23529411764705888,
          0.23529411764705888,
          0.23529411764705888,
          0.23529411764705888,
          0.23529411764705888,
          0.23529411764705888,
          0.23529411764705888,
          0.23529411764705888,
          0.23529411764705888,
          0.23529411764705888,
          0.23529411764705888,
          0.23529411764705888,
          0.23529411764705888,
          0.23529411764705888,
          0.23529411764705888,
          0.23529411764705888,
          0.23529411764705888,
          0.23529411764705888,
          0.23529411764705888,
          0.23529411764705888,
          0.23529411764705888,
          0.23529411764705888,
          0.23529411764705888,
          0.23529411764705888,
          0.23529411764705888,
          0.23529411764705888,
          0.23529411764705888,
          0.23529411764705888,
          0.23529411764705888,
          0.23529411764705888,
          0.23529411764705888,
          0.23529411764705888,
          0.23529411764705888,
          0.23529411764705888,
          0.23529411764705888,
          0.23529411764705888,
          0.23529411764705888,
          0.23529411764705888,
          0.23529411764705888,
          0.23529411764705888,
          0.23529411764705888,
          0.23529411764705888,
          0.23529411764705888,
          0.23529411764705888,
          0.23529411764705888,
          0.23529411764705888,
          0.23529411764705888,
          0.23529411764705888,
          0.23529411764705888,
          0.23529411764705888,
          0.23529411764705888,
          0.23529411764705888,
          0.23529411764705888,
          0.23529411764705888,
          0.23529411764705888,
          0.23529411764705888,
          0.23529411764705888,
          0.23529411764705888,
          0.23529411764705888,
          0.23529411764705888,
          0.23529411764705888,
          0.23529411764705888,
          0.23529411764705888,
          0.23529411764705888,
          0.23529411764705888,
          0.23529411764705888,
          0.23529411764705888,
          0.23529411764705888,
          0.23529411764705888,
          0.23529411764705888,
          0.23529411764705888,
          0.23529411764705888,
          0.23529411764705888,
          0.23529411764705888,
          0.23529411764705888,
          0.23529411764705888,
          0.23529411764705888,
          0.23529411764705888,
          0.23529411764705888,
          0.23529411764705888,
          0.23529411764705888,
          0.23529411764705888,
          0.23529411764705888,
          0.23529411764705888,
          0.23529411764705888,
          0.23529411764705888,
          0.23529411764705888,
          0.23529411764705888,
          0.23529411764705888,
          0.23529411764705888,
          0.23529411764705888,
          0.23529411764705888,
          0.23529411764705888,
          0.23529411764705888,
          0.23529411764705888,
          0.23529411764705888,
          0.23529411764705888,
          0.23529411764705888,
          0.23529411764705888,
          0.23529411764705888,
          0.23529411764705888,
          0.23529411764705888,
          0.23529411764705888,
          0.23529411764705888,
          0.23529411764705888,
          0.17647058823529438,
          0.17647058823529438,
          0.17647058823529438,
          0.17647058823529438,
          0.17647058823529438,
          0.17647058823529438,
          0.17647058823529438,
          0.17647058823529438,
          0.17647058823529438,
          0.17647058823529438,
          0.17647058823529438,
          0.17647058823529438,
          0.17647058823529438,
          0.17647058823529438,
          0.17647058823529438,
          0.17647058823529438,
          0.17647058823529438,
          0.17647058823529438,
          0.17647058823529438,
          0.17647058823529438,
          0.17647058823529438,
          0.17647058823529438,
          0.17647058823529438,
          0.17647058823529438,
          0.17647058823529438,
          0.17647058823529438,
          0.17647058823529438,
          0.17647058823529438,
          0.17647058823529438,
          0.17647058823529438,
          0.17647058823529438,
          0.17647058823529438,
          0.17647058823529438,
          0.17647058823529438,
          0.17647058823529438,
          0.17647058823529438,
          0.17647058823529438,
          0.17647058823529438,
          0.17647058823529438,
          0.17647058823529438,
          0.17647058823529438,
          0.17647058823529438,
          0.17647058823529438,
          0.17647058823529438,
          0.17647058823529438,
          0.17647058823529438,
          0.17647058823529438,
          0.17647058823529438,
          0.17647058823529438,
          0.17647058823529438,
          0.17647058823529438,
          0.17647058823529438,
          0.17647058823529438,
          0.17647058823529438,
          0.17647058823529438,
          0.17647058823529438,
          0.17647058823529438,
          0.17647058823529438,
          0.17647058823529438,
          0.17647058823529438,
          0.17647058823529438,
          0.17647058823529438,
          0.17647058823529438,
          0.17647058823529438,
          0.17647058823529438,
          0.17647058823529438,
          0.17647058823529438,
          0.17647058823529438,
          0.17647058823529438,
          0.17647058823529438,
          0.17647058823529438,
          0.17647058823529438,
          0.17647058823529438,
          0.17647058823529438,
          0.17647058823529438,
          0.17647058823529438,
          0.17647058823529438,
          0.17647058823529438,
          0.17647058823529438,
          0.17647058823529438,
          0.17647058823529438,
          0.17647058823529438,
          0.17647058823529438,
          0.17647058823529438,
          0.17647058823529438,
          0.17647058823529438,
          0.17647058823529438,
          0.17647058823529438,
          0.17647058823529438,
          0.17647058823529438,
          0.17647058823529438,
          0.17647058823529438,
          0.17647058823529438,
          0.17647058823529438,
          0.17647058823529438,
          0.17647058823529438,
          0.17647058823529438,
          0.17647058823529438,
          0.17647058823529438,
          0.17647058823529438,
          0.17647058823529438,
          0.17647058823529438,
          0.17647058823529438,
          0.17647058823529438,
          0.17647058823529438,
          0.17647058823529438,
          0.117647058823529,
          0.117647058823529,
          0.117647058823529,
          0.117647058823529,
          0.117647058823529,
          0.117647058823529,
          0.117647058823529,
          0.117647058823529,
          0.117647058823529,
          0.117647058823529,
          0.117647058823529,
          0.117647058823529,
          0.117647058823529,
          0.117647058823529,
          0.117647058823529,
          0.117647058823529,
          0.117647058823529,
          0.117647058823529,
          0.117647058823529,
          0.117647058823529,
          0.117647058823529,
          0.117647058823529,
          0.117647058823529,
          0.117647058823529,
          0.117647058823529,
          0.117647058823529,
          0.117647058823529,
          0.117647058823529,
          0.117647058823529,
          0.117647058823529,
          0.117647058823529,
          0.117647058823529,
          0.117647058823529,
          0.117647058823529,
          0.117647058823529,
          0.117647058823529,
          0.117647058823529,
          0.117647058823529,
          0.117647058823529,
          0.117647058823529,
          0.117647058823529,
          0.117647058823529,
          0.117647058823529,
          0.117647058823529,
          0.117647058823529,
          0.117647058823529,
          0.117647058823529,
          0.117647058823529,
          0.117647058823529,
          0.117647058823529,
          0.117647058823529,
          0.117647058823529,
          0.117647058823529,
          0.117647058823529,
          0.117647058823529,
          0.117647058823529,
          0.117647058823529,
          0.117647058823529,
          0.117647058823529,
          0.117647058823529,
          0.117647058823529,
          0.117647058823529,
          0.117647058823529,
          0.117647058823529,
          0.117647058823529,
          0.117647058823529,
          0.117647058823529,
          0.117647058823529,
          0.117647058823529,
          0.117647058823529,
          0.117647058823529,
          0.117647058823529,
          0.117647058823529,
          0.117647058823529,
          0.117647058823529,
          0.117647058823529,
          0.117647058823529,
          0.117647058823529,
          0.117647058823529,
          0.117647058823529,
          0.117647058823529,
          0.117647058823529,
          0.117647058823529,
          0.117647058823529,
          0.117647058823529,
          0.117647058823529,
          0.117647058823529,
          0.117647058823529,
          0.117647058823529,
          0.117647058823529,
          0.117647058823529,
          0.117647058823529,
          0.117647058823529,
          0.117647058823529,
          0.117647058823529,
          0.117647058823529,
          0.117647058823529,
          0.117647058823529,
          0.117647058823529,
          0.117647058823529,
          0.117647058823529,
          0.117647058823529,
          0.117647058823529,
          0.117647058823529,
          0.117647058823529,
          0.117647058823529,
          0.117647058823529,
          0.117647058823529,
          0.117647058823529,
          0.117647058823529,
          0.117647058823529,
          0.117647058823529,
          0.117647058823529,
          0.117647058823529,
          0.117647058823529,
          0.117647058823529,
          0.117647058823529,
          0.117647058823529,
          0.117647058823529,
          0.117647058823529,
          0.117647058823529,
          0.117647058823529,
          0.117647058823529,
          0.117647058823529,
          0.117647058823529,
          0.117647058823529,
          0.117647058823529,
          0.117647058823529,
          0.117647058823529,
          0.117647058823529,
          0.117647058823529,
          0.117647058823529,
          0.117647058823529,
          0.117647058823529,
          0.117647058823529,
          0.117647058823529,
          0.117647058823529,
          0.117647058823529,
          0.117647058823529,
          0.117647058823529,
          0.117647058823529,
          0.117647058823529,
          0.117647058823529,
          0.117647058823529,
          0.117647058823529,
          0.117647058823529,
          0.117647058823529,
          0.117647058823529,
          0.117647058823529,
          0.117647058823529,
          0.117647058823529,
          0.058823529411765385,
          0.058823529411765385,
          0.058823529411765385,
          0.058823529411765385,
          0.058823529411765385,
          0.058823529411765385,
          0.058823529411765385,
          0.058823529411765385,
          0.058823529411765385,
          0.058823529411765385,
          0.058823529411765385,
          0.058823529411765385,
          0.058823529411765385,
          0.058823529411765385,
          0.058823529411765385,
          0.058823529411765385,
          0.058823529411765385,
          0.058823529411765385,
          0.058823529411765385,
          0.058823529411765385,
          0.058823529411765385,
          0.058823529411765385,
          0.058823529411765385,
          0.058823529411765385,
          0.058823529411765385,
          0.058823529411765385,
          0.058823529411765385,
          0.058823529411765385,
          0.058823529411765385,
          0.058823529411765385,
          0.058823529411765385,
          0.058823529411765385,
          0.058823529411765385,
          0.058823529411765385,
          0.058823529411765385,
          0.058823529411765385,
          0.058823529411765385,
          0.058823529411765385,
          0.058823529411765385,
          0.058823529411765385,
          0.058823529411765385,
          0.058823529411765385,
          0.058823529411765385,
          0.058823529411765385,
          0.058823529411765385,
          0.058823529411765385,
          0.058823529411765385,
          0.058823529411765385,
          0.058823529411765385,
          0.058823529411765385,
          0.058823529411765385,
          0.058823529411765385,
          0.058823529411765385,
          0.058823529411765385,
          0.058823529411765385,
          0.058823529411765385,
          0.058823529411765385,
          0.058823529411765385,
          0.058823529411765385,
          0.058823529411765385,
          0.058823529411765385,
          0.058823529411765385,
          0.058823529411765385,
          0.058823529411765385,
          0.058823529411765385,
          0.058823529411765385,
          0.058823529411765385,
          0.058823529411765385,
          0.058823529411765385,
          0.058823529411765385,
          0.058823529411765385,
          0.058823529411765385,
          0.058823529411765385,
          0.058823529411765385,
          0.058823529411765385,
          0.058823529411765385,
          0.058823529411765385,
          0.058823529411765385,
          0.058823529411765385,
          0.058823529411765385,
          0.058823529411765385,
          0.058823529411765385,
          0.058823529411765385,
          0.058823529411765385,
          0.058823529411765385,
          0.058823529411765385,
          0.058823529411765385,
          0.058823529411765385,
          0.058823529411765385,
          0.058823529411765385,
          0.058823529411765385,
          0.058823529411765385,
          0.058823529411765385,
          0.058823529411765385,
          0.058823529411765385,
          0.058823529411765385,
          0.058823529411765385,
          0.058823529411765385,
          0.058823529411765385,
          0.058823529411765385,
          0.058823529411765385,
          0.058823529411765385,
          0.058823529411765385,
          0.058823529411765385,
          0.058823529411765385,
          0.058823529411765385,
          0.058823529411765385,
          0.058823529411765385,
          0.058823529411765385,
          0.058823529411765385,
          0.058823529411765385,
          0.058823529411765385,
          0.058823529411765385,
          0.058823529411765385,
          0.058823529411765385,
          0.058823529411765385,
          0.058823529411765385,
          0.058823529411765385,
          0.058823529411765385,
          0.058823529411765385,
          0.058823529411765385,
          0.058823529411765385,
          0.058823529411765385,
          0.058823529411765385,
          0.058823529411765385,
          0.058823529411765385,
          0.058823529411765385,
          0.058823529411765385,
          0.058823529411765385,
          0.058823529411765385,
          0.058823529411765385,
          0.058823529411765385,
          0.058823529411765385,
          0.058823529411765385,
          0.058823529411765385,
          0.058823529411765385,
          0.058823529411765385,
          0.058823529411765385,
          0.058823529411765385,
          0.058823529411765385,
          0.058823529411765385,
          0.058823529411765385,
          0.058823529411765385,
          0.058823529411765385,
          0.058823529411765385,
          0.058823529411765385,
          0.058823529411765385,
          0.058823529411765385,
          0.058823529411765385,
          0.058823529411765385,
          0.058823529411765385,
          0.058823529411765385,
          0.058823529411765385,
          0.058823529411765385,
          0.058823529411765385,
          0.058823529411765385,
          0.058823529411765385,
          0.0,
          0.0,
          0.0,
          0.0,
          0.0,
          0.0,
          0.0,
          0.0,
          0.0,
          0.0,
          0.0,
          0.0,
          0.0,
          0.0,
          0.0,
          0.0,
          0.0,
          0.0,
          0.0,
          0.0,
          0.0,
          0.0,
          0.0,
          0.0,
          0.0,
          0.0,
          0.0,
          0.0,
          0.0,
          0.0,
          0.0,
          0.0,
          0.0,
          0.0,
          0.0,
          0.0,
          0.0,
          0.0,
          0.0,
          0.0,
          0.0,
          0.0,
          0.0,
          0.0,
          0.0,
          0.0,
          0.0,
          0.0,
          0.0,
          0.0,
          0.0,
          0.0,
          0.0,
          0.0,
          0.0,
          0.0,
          0.0,
          0.0,
          0.0,
          0.0,
          0.0,
          0.0,
          0.0,
          0.0,
          0.0,
          0.0,
          0.0,
          0.0,
          0.0,
          0.0,
          0.0,
          0.0,
          0.0,
          0.0,
          0.0,
          0.0,
          0.0,
          0.0,
          0.0,
          0.0,
          0.0,
          0.0,
          0.0,
          0.0,
          0.0,
          0.0,
          0.0,
          0.0,
          0.0,
          0.0,
          0.0,
          0.0,
          0.0,
          0.0,
          0.0,
          0.0,
          0.0,
          0.0,
          0.0,
          0.0,
          0.0,
          0.0,
          0.0,
          0.0,
          0.0,
          0.0,
          0.0,
          0.0,
          0.0,
          0.0,
          0.0,
          0.0,
          0.0,
          0.0,
          0.0,
          0.0,
          0.0,
          0.0,
          0.0,
          0.0,
          0.0,
          0.0,
          0.0
         ],
         "xaxis": "x",
         "yaxis": "y",
         "type": "histogram"
        }
       ],
       "layout": {
        "template": {
         "data": {
          "histogram2dcontour": [
           {
            "type": "histogram2dcontour",
            "colorbar": {
             "outlinewidth": 0,
             "ticks": ""
            },
            "colorscale": [
             [
              0.0,
              "#0d0887"
             ],
             [
              0.1111111111111111,
              "#46039f"
             ],
             [
              0.2222222222222222,
              "#7201a8"
             ],
             [
              0.3333333333333333,
              "#9c179e"
             ],
             [
              0.4444444444444444,
              "#bd3786"
             ],
             [
              0.5555555555555556,
              "#d8576b"
             ],
             [
              0.6666666666666666,
              "#ed7953"
             ],
             [
              0.7777777777777778,
              "#fb9f3a"
             ],
             [
              0.8888888888888888,
              "#fdca26"
             ],
             [
              1.0,
              "#f0f921"
             ]
            ]
           }
          ],
          "choropleth": [
           {
            "type": "choropleth",
            "colorbar": {
             "outlinewidth": 0,
             "ticks": ""
            }
           }
          ],
          "histogram2d": [
           {
            "type": "histogram2d",
            "colorbar": {
             "outlinewidth": 0,
             "ticks": ""
            },
            "colorscale": [
             [
              0.0,
              "#0d0887"
             ],
             [
              0.1111111111111111,
              "#46039f"
             ],
             [
              0.2222222222222222,
              "#7201a8"
             ],
             [
              0.3333333333333333,
              "#9c179e"
             ],
             [
              0.4444444444444444,
              "#bd3786"
             ],
             [
              0.5555555555555556,
              "#d8576b"
             ],
             [
              0.6666666666666666,
              "#ed7953"
             ],
             [
              0.7777777777777778,
              "#fb9f3a"
             ],
             [
              0.8888888888888888,
              "#fdca26"
             ],
             [
              1.0,
              "#f0f921"
             ]
            ]
           }
          ],
          "heatmap": [
           {
            "type": "heatmap",
            "colorbar": {
             "outlinewidth": 0,
             "ticks": ""
            },
            "colorscale": [
             [
              0.0,
              "#0d0887"
             ],
             [
              0.1111111111111111,
              "#46039f"
             ],
             [
              0.2222222222222222,
              "#7201a8"
             ],
             [
              0.3333333333333333,
              "#9c179e"
             ],
             [
              0.4444444444444444,
              "#bd3786"
             ],
             [
              0.5555555555555556,
              "#d8576b"
             ],
             [
              0.6666666666666666,
              "#ed7953"
             ],
             [
              0.7777777777777778,
              "#fb9f3a"
             ],
             [
              0.8888888888888888,
              "#fdca26"
             ],
             [
              1.0,
              "#f0f921"
             ]
            ]
           }
          ],
          "heatmapgl": [
           {
            "type": "heatmapgl",
            "colorbar": {
             "outlinewidth": 0,
             "ticks": ""
            },
            "colorscale": [
             [
              0.0,
              "#0d0887"
             ],
             [
              0.1111111111111111,
              "#46039f"
             ],
             [
              0.2222222222222222,
              "#7201a8"
             ],
             [
              0.3333333333333333,
              "#9c179e"
             ],
             [
              0.4444444444444444,
              "#bd3786"
             ],
             [
              0.5555555555555556,
              "#d8576b"
             ],
             [
              0.6666666666666666,
              "#ed7953"
             ],
             [
              0.7777777777777778,
              "#fb9f3a"
             ],
             [
              0.8888888888888888,
              "#fdca26"
             ],
             [
              1.0,
              "#f0f921"
             ]
            ]
           }
          ],
          "contourcarpet": [
           {
            "type": "contourcarpet",
            "colorbar": {
             "outlinewidth": 0,
             "ticks": ""
            }
           }
          ],
          "contour": [
           {
            "type": "contour",
            "colorbar": {
             "outlinewidth": 0,
             "ticks": ""
            },
            "colorscale": [
             [
              0.0,
              "#0d0887"
             ],
             [
              0.1111111111111111,
              "#46039f"
             ],
             [
              0.2222222222222222,
              "#7201a8"
             ],
             [
              0.3333333333333333,
              "#9c179e"
             ],
             [
              0.4444444444444444,
              "#bd3786"
             ],
             [
              0.5555555555555556,
              "#d8576b"
             ],
             [
              0.6666666666666666,
              "#ed7953"
             ],
             [
              0.7777777777777778,
              "#fb9f3a"
             ],
             [
              0.8888888888888888,
              "#fdca26"
             ],
             [
              1.0,
              "#f0f921"
             ]
            ]
           }
          ],
          "surface": [
           {
            "type": "surface",
            "colorbar": {
             "outlinewidth": 0,
             "ticks": ""
            },
            "colorscale": [
             [
              0.0,
              "#0d0887"
             ],
             [
              0.1111111111111111,
              "#46039f"
             ],
             [
              0.2222222222222222,
              "#7201a8"
             ],
             [
              0.3333333333333333,
              "#9c179e"
             ],
             [
              0.4444444444444444,
              "#bd3786"
             ],
             [
              0.5555555555555556,
              "#d8576b"
             ],
             [
              0.6666666666666666,
              "#ed7953"
             ],
             [
              0.7777777777777778,
              "#fb9f3a"
             ],
             [
              0.8888888888888888,
              "#fdca26"
             ],
             [
              1.0,
              "#f0f921"
             ]
            ]
           }
          ],
          "mesh3d": [
           {
            "type": "mesh3d",
            "colorbar": {
             "outlinewidth": 0,
             "ticks": ""
            }
           }
          ],
          "scatter": [
           {
            "marker": {
             "line": {
              "color": "#283442"
             }
            },
            "type": "scatter"
           }
          ],
          "parcoords": [
           {
            "type": "parcoords",
            "line": {
             "colorbar": {
              "outlinewidth": 0,
              "ticks": ""
             }
            }
           }
          ],
          "scatterpolargl": [
           {
            "type": "scatterpolargl",
            "marker": {
             "colorbar": {
              "outlinewidth": 0,
              "ticks": ""
             }
            }
           }
          ],
          "bar": [
           {
            "error_x": {
             "color": "#f2f5fa"
            },
            "error_y": {
             "color": "#f2f5fa"
            },
            "marker": {
             "line": {
              "color": "rgb(17,17,17)",
              "width": 0.5
             },
             "pattern": {
              "fillmode": "overlay",
              "size": 10,
              "solidity": 0.2
             }
            },
            "type": "bar"
           }
          ],
          "scattergeo": [
           {
            "type": "scattergeo",
            "marker": {
             "colorbar": {
              "outlinewidth": 0,
              "ticks": ""
             }
            }
           }
          ],
          "scatterpolar": [
           {
            "type": "scatterpolar",
            "marker": {
             "colorbar": {
              "outlinewidth": 0,
              "ticks": ""
             }
            }
           }
          ],
          "histogram": [
           {
            "marker": {
             "pattern": {
              "fillmode": "overlay",
              "size": 10,
              "solidity": 0.2
             }
            },
            "type": "histogram"
           }
          ],
          "scattergl": [
           {
            "marker": {
             "line": {
              "color": "#283442"
             }
            },
            "type": "scattergl"
           }
          ],
          "scatter3d": [
           {
            "type": "scatter3d",
            "line": {
             "colorbar": {
              "outlinewidth": 0,
              "ticks": ""
             }
            },
            "marker": {
             "colorbar": {
              "outlinewidth": 0,
              "ticks": ""
             }
            }
           }
          ],
          "scattermapbox": [
           {
            "type": "scattermapbox",
            "marker": {
             "colorbar": {
              "outlinewidth": 0,
              "ticks": ""
             }
            }
           }
          ],
          "scatterternary": [
           {
            "type": "scatterternary",
            "marker": {
             "colorbar": {
              "outlinewidth": 0,
              "ticks": ""
             }
            }
           }
          ],
          "scattercarpet": [
           {
            "type": "scattercarpet",
            "marker": {
             "colorbar": {
              "outlinewidth": 0,
              "ticks": ""
             }
            }
           }
          ],
          "carpet": [
           {
            "aaxis": {
             "endlinecolor": "#A2B1C6",
             "gridcolor": "#506784",
             "linecolor": "#506784",
             "minorgridcolor": "#506784",
             "startlinecolor": "#A2B1C6"
            },
            "baxis": {
             "endlinecolor": "#A2B1C6",
             "gridcolor": "#506784",
             "linecolor": "#506784",
             "minorgridcolor": "#506784",
             "startlinecolor": "#A2B1C6"
            },
            "type": "carpet"
           }
          ],
          "table": [
           {
            "cells": {
             "fill": {
              "color": "#506784"
             },
             "line": {
              "color": "rgb(17,17,17)"
             }
            },
            "header": {
             "fill": {
              "color": "#2a3f5f"
             },
             "line": {
              "color": "rgb(17,17,17)"
             }
            },
            "type": "table"
           }
          ],
          "barpolar": [
           {
            "marker": {
             "line": {
              "color": "rgb(17,17,17)",
              "width": 0.5
             },
             "pattern": {
              "fillmode": "overlay",
              "size": 10,
              "solidity": 0.2
             }
            },
            "type": "barpolar"
           }
          ],
          "pie": [
           {
            "automargin": true,
            "type": "pie"
           }
          ]
         },
         "layout": {
          "autotypenumbers": "strict",
          "colorway": [
           "#636efa",
           "#EF553B",
           "#00cc96",
           "#ab63fa",
           "#FFA15A",
           "#19d3f3",
           "#FF6692",
           "#B6E880",
           "#FF97FF",
           "#FECB52"
          ],
          "font": {
           "color": "#f2f5fa"
          },
          "hovermode": "closest",
          "hoverlabel": {
           "align": "left"
          },
          "paper_bgcolor": "rgb(17,17,17)",
          "plot_bgcolor": "rgb(17,17,17)",
          "polar": {
           "bgcolor": "rgb(17,17,17)",
           "angularaxis": {
            "gridcolor": "#506784",
            "linecolor": "#506784",
            "ticks": ""
           },
           "radialaxis": {
            "gridcolor": "#506784",
            "linecolor": "#506784",
            "ticks": ""
           }
          },
          "ternary": {
           "bgcolor": "rgb(17,17,17)",
           "aaxis": {
            "gridcolor": "#506784",
            "linecolor": "#506784",
            "ticks": ""
           },
           "baxis": {
            "gridcolor": "#506784",
            "linecolor": "#506784",
            "ticks": ""
           },
           "caxis": {
            "gridcolor": "#506784",
            "linecolor": "#506784",
            "ticks": ""
           }
          },
          "coloraxis": {
           "colorbar": {
            "outlinewidth": 0,
            "ticks": ""
           }
          },
          "colorscale": {
           "sequential": [
            [
             0.0,
             "#0d0887"
            ],
            [
             0.1111111111111111,
             "#46039f"
            ],
            [
             0.2222222222222222,
             "#7201a8"
            ],
            [
             0.3333333333333333,
             "#9c179e"
            ],
            [
             0.4444444444444444,
             "#bd3786"
            ],
            [
             0.5555555555555556,
             "#d8576b"
            ],
            [
             0.6666666666666666,
             "#ed7953"
            ],
            [
             0.7777777777777778,
             "#fb9f3a"
            ],
            [
             0.8888888888888888,
             "#fdca26"
            ],
            [
             1.0,
             "#f0f921"
            ]
           ],
           "sequentialminus": [
            [
             0.0,
             "#0d0887"
            ],
            [
             0.1111111111111111,
             "#46039f"
            ],
            [
             0.2222222222222222,
             "#7201a8"
            ],
            [
             0.3333333333333333,
             "#9c179e"
            ],
            [
             0.4444444444444444,
             "#bd3786"
            ],
            [
             0.5555555555555556,
             "#d8576b"
            ],
            [
             0.6666666666666666,
             "#ed7953"
            ],
            [
             0.7777777777777778,
             "#fb9f3a"
            ],
            [
             0.8888888888888888,
             "#fdca26"
            ],
            [
             1.0,
             "#f0f921"
            ]
           ],
           "diverging": [
            [
             0,
             "#8e0152"
            ],
            [
             0.1,
             "#c51b7d"
            ],
            [
             0.2,
             "#de77ae"
            ],
            [
             0.3,
             "#f1b6da"
            ],
            [
             0.4,
             "#fde0ef"
            ],
            [
             0.5,
             "#f7f7f7"
            ],
            [
             0.6,
             "#e6f5d0"
            ],
            [
             0.7,
             "#b8e186"
            ],
            [
             0.8,
             "#7fbc41"
            ],
            [
             0.9,
             "#4d9221"
            ],
            [
             1,
             "#276419"
            ]
           ]
          },
          "xaxis": {
           "gridcolor": "#283442",
           "linecolor": "#506784",
           "ticks": "",
           "title": {
            "standoff": 15
           },
           "zerolinecolor": "#283442",
           "automargin": true,
           "zerolinewidth": 2
          },
          "yaxis": {
           "gridcolor": "#283442",
           "linecolor": "#506784",
           "ticks": "",
           "title": {
            "standoff": 15
           },
           "zerolinecolor": "#283442",
           "automargin": true,
           "zerolinewidth": 2
          },
          "scene": {
           "xaxis": {
            "backgroundcolor": "rgb(17,17,17)",
            "gridcolor": "#506784",
            "linecolor": "#506784",
            "showbackground": true,
            "ticks": "",
            "zerolinecolor": "#C8D4E3",
            "gridwidth": 2
           },
           "yaxis": {
            "backgroundcolor": "rgb(17,17,17)",
            "gridcolor": "#506784",
            "linecolor": "#506784",
            "showbackground": true,
            "ticks": "",
            "zerolinecolor": "#C8D4E3",
            "gridwidth": 2
           },
           "zaxis": {
            "backgroundcolor": "rgb(17,17,17)",
            "gridcolor": "#506784",
            "linecolor": "#506784",
            "showbackground": true,
            "ticks": "",
            "zerolinecolor": "#C8D4E3",
            "gridwidth": 2
           }
          },
          "shapedefaults": {
           "line": {
            "color": "#f2f5fa"
           }
          },
          "annotationdefaults": {
           "arrowcolor": "#f2f5fa",
           "arrowhead": 0,
           "arrowwidth": 1
          },
          "geo": {
           "bgcolor": "rgb(17,17,17)",
           "landcolor": "rgb(17,17,17)",
           "subunitcolor": "#506784",
           "showland": true,
           "showlakes": true,
           "lakecolor": "rgb(17,17,17)"
          },
          "title": {
           "x": 0.05
          },
          "updatemenudefaults": {
           "bgcolor": "#506784",
           "borderwidth": 0
          },
          "sliderdefaults": {
           "bgcolor": "#C8D4E3",
           "borderwidth": 1,
           "bordercolor": "rgb(17,17,17)",
           "tickwidth": 0
          },
          "mapbox": {
           "style": "dark"
          }
         }
        },
        "xaxis": {
         "anchor": "y",
         "domain": [
          0.0,
          1.0
         ],
         "title": {
          "text": "IMDB_Rating"
         }
        },
        "yaxis": {
         "anchor": "x",
         "domain": [
          0.0,
          1.0
         ],
         "title": {
          "text": "count"
         }
        },
        "legend": {
         "tracegroupgap": 0
        },
        "title": {
         "text": "Distribution of IMDB Ratings"
        },
        "barmode": "relative"
       },
       "config": {
        "plotlyServerURL": "https://plot.ly"
       }
      },
      "text/html": [
       "<div>                            <div id=\"8002dc7b-3f70-4555-b09c-3c7989ce2bd2\" class=\"plotly-graph-div\" style=\"height:525px; width:100%;\"></div>            <script type=\"text/javascript\">                require([\"plotly\"], function(Plotly) {                    window.PLOTLYENV=window.PLOTLYENV || {};                                    if (document.getElementById(\"8002dc7b-3f70-4555-b09c-3c7989ce2bd2\")) {                    Plotly.newPlot(                        \"8002dc7b-3f70-4555-b09c-3c7989ce2bd2\",                        [{\"alignmentgroup\":\"True\",\"bingroup\":\"x\",\"hovertemplate\":\"IMDB_Rating=%{x}\\u003cbr\\u003ecount=%{y}\\u003cextra\\u003e\\u003c\\u002fextra\\u003e\",\"legendgroup\":\"\",\"marker\":{\"color\":\"#636efa\",\"pattern\":{\"shape\":\"\"}},\"name\":\"\",\"nbinsx\":20,\"offsetgroup\":\"\",\"orientation\":\"v\",\"showlegend\":false,\"x\":[1.0,0.9411764705882346,0.8235294117647056,0.8235294117647056,0.8235294117647056,0.7647058823529411,0.7647058823529411,0.7647058823529411,0.7058823529411766,0.7058823529411766,0.7058823529411766,0.7058823529411766,0.7058823529411766,0.6470588235294112,0.6470588235294112,0.6470588235294112,0.6470588235294112,0.6470588235294112,0.5882352941176467,0.5882352941176467,0.5882352941176467,0.5882352941176467,0.5882352941176467,0.5882352941176467,0.5882352941176467,0.5882352941176467,0.5882352941176467,0.5882352941176467,0.5882352941176467,0.5882352941176467,0.5882352941176467,0.5882352941176467,0.5882352941176467,0.5294117647058822,0.5294117647058822,0.5294117647058822,0.5294117647058822,0.5294117647058822,0.5294117647058822,0.5294117647058822,0.5294117647058822,0.5294117647058822,0.5294117647058822,0.5294117647058822,0.5294117647058822,0.5294117647058822,0.5294117647058822,0.5294117647058822,0.5294117647058822,0.5294117647058822,0.5294117647058822,0.5294117647058822,0.5294117647058822,0.47058823529411775,0.47058823529411775,0.47058823529411775,0.47058823529411775,0.47058823529411775,0.47058823529411775,0.47058823529411775,0.47058823529411775,0.47058823529411775,0.47058823529411775,0.47058823529411775,0.47058823529411775,0.47058823529411775,0.47058823529411775,0.47058823529411775,0.47058823529411775,0.47058823529411775,0.47058823529411775,0.47058823529411775,0.47058823529411775,0.47058823529411775,0.47058823529411775,0.47058823529411775,0.47058823529411775,0.47058823529411775,0.47058823529411775,0.47058823529411775,0.47058823529411775,0.47058823529411775,0.47058823529411775,0.47058823529411775,0.41176470588235325,0.41176470588235325,0.41176470588235325,0.41176470588235325,0.41176470588235325,0.41176470588235325,0.41176470588235325,0.41176470588235325,0.41176470588235325,0.41176470588235325,0.41176470588235325,0.41176470588235325,0.41176470588235325,0.41176470588235325,0.41176470588235325,0.41176470588235325,0.41176470588235325,0.41176470588235325,0.41176470588235325,0.41176470588235325,0.41176470588235325,0.41176470588235325,0.41176470588235325,0.41176470588235325,0.41176470588235325,0.41176470588235325,0.41176470588235325,0.41176470588235325,0.41176470588235325,0.41176470588235325,0.41176470588235325,0.41176470588235325,0.41176470588235325,0.41176470588235325,0.41176470588235325,0.41176470588235325,0.41176470588235325,0.41176470588235325,0.41176470588235325,0.41176470588235325,0.41176470588235325,0.41176470588235325,0.41176470588235325,0.41176470588235325,0.35294117647058787,0.35294117647058787,0.35294117647058787,0.35294117647058787,0.35294117647058787,0.35294117647058787,0.35294117647058787,0.35294117647058787,0.35294117647058787,0.35294117647058787,0.35294117647058787,0.35294117647058787,0.35294117647058787,0.35294117647058787,0.35294117647058787,0.35294117647058787,0.35294117647058787,0.35294117647058787,0.35294117647058787,0.35294117647058787,0.35294117647058787,0.35294117647058787,0.35294117647058787,0.35294117647058787,0.35294117647058787,0.35294117647058787,0.35294117647058787,0.35294117647058787,0.35294117647058787,0.35294117647058787,0.35294117647058787,0.35294117647058787,0.35294117647058787,0.35294117647058787,0.35294117647058787,0.35294117647058787,0.35294117647058787,0.35294117647058787,0.35294117647058787,0.35294117647058787,0.35294117647058787,0.35294117647058787,0.35294117647058787,0.35294117647058787,0.35294117647058787,0.35294117647058787,0.35294117647058787,0.35294117647058787,0.35294117647058787,0.35294117647058787,0.35294117647058787,0.35294117647058787,0.35294117647058787,0.35294117647058787,0.35294117647058787,0.35294117647058787,0.35294117647058787,0.35294117647058787,0.35294117647058787,0.35294117647058787,0.35294117647058787,0.35294117647058787,0.35294117647058787,0.35294117647058787,0.35294117647058787,0.35294117647058787,0.35294117647058787,0.2941176470588234,0.2941176470588234,0.2941176470588234,0.2941176470588234,0.2941176470588234,0.2941176470588234,0.2941176470588234,0.2941176470588234,0.2941176470588234,0.2941176470588234,0.2941176470588234,0.2941176470588234,0.2941176470588234,0.2941176470588234,0.2941176470588234,0.2941176470588234,0.2941176470588234,0.2941176470588234,0.2941176470588234,0.2941176470588234,0.2941176470588234,0.2941176470588234,0.2941176470588234,0.2941176470588234,0.2941176470588234,0.2941176470588234,0.2941176470588234,0.2941176470588234,0.2941176470588234,0.2941176470588234,0.2941176470588234,0.2941176470588234,0.2941176470588234,0.2941176470588234,0.2941176470588234,0.2941176470588234,0.2941176470588234,0.2941176470588234,0.2941176470588234,0.2941176470588234,0.2941176470588234,0.2941176470588234,0.2941176470588234,0.2941176470588234,0.2941176470588234,0.2941176470588234,0.2941176470588234,0.2941176470588234,0.2941176470588234,0.2941176470588234,0.2941176470588234,0.2941176470588234,0.2941176470588234,0.2941176470588234,0.2941176470588234,0.2941176470588234,0.2941176470588234,0.2941176470588234,0.2941176470588234,0.2941176470588234,0.2941176470588234,0.2941176470588234,0.2941176470588234,0.2941176470588234,0.2941176470588234,0.2941176470588234,0.2941176470588234,0.2941176470588234,0.2941176470588234,0.2941176470588234,0.2941176470588234,0.2941176470588234,0.2941176470588234,0.2941176470588234,0.2941176470588234,0.2941176470588234,0.2941176470588234,0.2941176470588234,0.2941176470588234,0.2941176470588234,0.2941176470588234,0.2941176470588234,0.2941176470588234,0.2941176470588234,0.2941176470588234,0.2941176470588234,0.2941176470588234,0.2941176470588234,0.2941176470588234,0.2941176470588234,0.2941176470588234,0.2941176470588234,0.2941176470588234,0.2941176470588234,0.2941176470588234,0.2941176470588234,0.2941176470588234,0.2941176470588234,0.2941176470588234,0.2941176470588234,0.2941176470588234,0.2941176470588234,0.2941176470588234,0.2941176470588234,0.2941176470588234,0.2941176470588234,0.2941176470588234,0.2941176470588234,0.2941176470588234,0.2941176470588234,0.2941176470588234,0.2941176470588234,0.2941176470588234,0.2941176470588234,0.2941176470588234,0.2941176470588234,0.2941176470588234,0.2941176470588234,0.2941176470588234,0.2941176470588234,0.2941176470588234,0.2941176470588234,0.2941176470588234,0.2941176470588234,0.2941176470588234,0.2941176470588234,0.2941176470588234,0.23529411764705888,0.23529411764705888,0.23529411764705888,0.23529411764705888,0.23529411764705888,0.23529411764705888,0.23529411764705888,0.23529411764705888,0.23529411764705888,0.23529411764705888,0.23529411764705888,0.23529411764705888,0.23529411764705888,0.23529411764705888,0.23529411764705888,0.23529411764705888,0.23529411764705888,0.23529411764705888,0.23529411764705888,0.23529411764705888,0.23529411764705888,0.23529411764705888,0.23529411764705888,0.23529411764705888,0.23529411764705888,0.23529411764705888,0.23529411764705888,0.23529411764705888,0.23529411764705888,0.23529411764705888,0.23529411764705888,0.23529411764705888,0.23529411764705888,0.23529411764705888,0.23529411764705888,0.23529411764705888,0.23529411764705888,0.23529411764705888,0.23529411764705888,0.23529411764705888,0.23529411764705888,0.23529411764705888,0.23529411764705888,0.23529411764705888,0.23529411764705888,0.23529411764705888,0.23529411764705888,0.23529411764705888,0.23529411764705888,0.23529411764705888,0.23529411764705888,0.23529411764705888,0.23529411764705888,0.23529411764705888,0.23529411764705888,0.23529411764705888,0.23529411764705888,0.23529411764705888,0.23529411764705888,0.23529411764705888,0.23529411764705888,0.23529411764705888,0.23529411764705888,0.23529411764705888,0.23529411764705888,0.23529411764705888,0.23529411764705888,0.23529411764705888,0.23529411764705888,0.23529411764705888,0.23529411764705888,0.23529411764705888,0.23529411764705888,0.23529411764705888,0.23529411764705888,0.23529411764705888,0.23529411764705888,0.23529411764705888,0.23529411764705888,0.23529411764705888,0.23529411764705888,0.23529411764705888,0.23529411764705888,0.23529411764705888,0.23529411764705888,0.23529411764705888,0.23529411764705888,0.23529411764705888,0.23529411764705888,0.23529411764705888,0.23529411764705888,0.23529411764705888,0.23529411764705888,0.23529411764705888,0.23529411764705888,0.23529411764705888,0.23529411764705888,0.23529411764705888,0.23529411764705888,0.23529411764705888,0.23529411764705888,0.23529411764705888,0.23529411764705888,0.23529411764705888,0.23529411764705888,0.23529411764705888,0.23529411764705888,0.23529411764705888,0.23529411764705888,0.23529411764705888,0.23529411764705888,0.23529411764705888,0.23529411764705888,0.23529411764705888,0.23529411764705888,0.23529411764705888,0.23529411764705888,0.23529411764705888,0.23529411764705888,0.23529411764705888,0.23529411764705888,0.23529411764705888,0.23529411764705888,0.23529411764705888,0.23529411764705888,0.23529411764705888,0.23529411764705888,0.23529411764705888,0.23529411764705888,0.23529411764705888,0.23529411764705888,0.23529411764705888,0.23529411764705888,0.23529411764705888,0.23529411764705888,0.23529411764705888,0.23529411764705888,0.23529411764705888,0.23529411764705888,0.23529411764705888,0.23529411764705888,0.17647058823529438,0.17647058823529438,0.17647058823529438,0.17647058823529438,0.17647058823529438,0.17647058823529438,0.17647058823529438,0.17647058823529438,0.17647058823529438,0.17647058823529438,0.17647058823529438,0.17647058823529438,0.17647058823529438,0.17647058823529438,0.17647058823529438,0.17647058823529438,0.17647058823529438,0.17647058823529438,0.17647058823529438,0.17647058823529438,0.17647058823529438,0.17647058823529438,0.17647058823529438,0.17647058823529438,0.17647058823529438,0.17647058823529438,0.17647058823529438,0.17647058823529438,0.17647058823529438,0.17647058823529438,0.17647058823529438,0.17647058823529438,0.17647058823529438,0.17647058823529438,0.17647058823529438,0.17647058823529438,0.17647058823529438,0.17647058823529438,0.17647058823529438,0.17647058823529438,0.17647058823529438,0.17647058823529438,0.17647058823529438,0.17647058823529438,0.17647058823529438,0.17647058823529438,0.17647058823529438,0.17647058823529438,0.17647058823529438,0.17647058823529438,0.17647058823529438,0.17647058823529438,0.17647058823529438,0.17647058823529438,0.17647058823529438,0.17647058823529438,0.17647058823529438,0.17647058823529438,0.17647058823529438,0.17647058823529438,0.17647058823529438,0.17647058823529438,0.17647058823529438,0.17647058823529438,0.17647058823529438,0.17647058823529438,0.17647058823529438,0.17647058823529438,0.17647058823529438,0.17647058823529438,0.17647058823529438,0.17647058823529438,0.17647058823529438,0.17647058823529438,0.17647058823529438,0.17647058823529438,0.17647058823529438,0.17647058823529438,0.17647058823529438,0.17647058823529438,0.17647058823529438,0.17647058823529438,0.17647058823529438,0.17647058823529438,0.17647058823529438,0.17647058823529438,0.17647058823529438,0.17647058823529438,0.17647058823529438,0.17647058823529438,0.17647058823529438,0.17647058823529438,0.17647058823529438,0.17647058823529438,0.17647058823529438,0.17647058823529438,0.17647058823529438,0.17647058823529438,0.17647058823529438,0.17647058823529438,0.17647058823529438,0.17647058823529438,0.17647058823529438,0.17647058823529438,0.17647058823529438,0.17647058823529438,0.117647058823529,0.117647058823529,0.117647058823529,0.117647058823529,0.117647058823529,0.117647058823529,0.117647058823529,0.117647058823529,0.117647058823529,0.117647058823529,0.117647058823529,0.117647058823529,0.117647058823529,0.117647058823529,0.117647058823529,0.117647058823529,0.117647058823529,0.117647058823529,0.117647058823529,0.117647058823529,0.117647058823529,0.117647058823529,0.117647058823529,0.117647058823529,0.117647058823529,0.117647058823529,0.117647058823529,0.117647058823529,0.117647058823529,0.117647058823529,0.117647058823529,0.117647058823529,0.117647058823529,0.117647058823529,0.117647058823529,0.117647058823529,0.117647058823529,0.117647058823529,0.117647058823529,0.117647058823529,0.117647058823529,0.117647058823529,0.117647058823529,0.117647058823529,0.117647058823529,0.117647058823529,0.117647058823529,0.117647058823529,0.117647058823529,0.117647058823529,0.117647058823529,0.117647058823529,0.117647058823529,0.117647058823529,0.117647058823529,0.117647058823529,0.117647058823529,0.117647058823529,0.117647058823529,0.117647058823529,0.117647058823529,0.117647058823529,0.117647058823529,0.117647058823529,0.117647058823529,0.117647058823529,0.117647058823529,0.117647058823529,0.117647058823529,0.117647058823529,0.117647058823529,0.117647058823529,0.117647058823529,0.117647058823529,0.117647058823529,0.117647058823529,0.117647058823529,0.117647058823529,0.117647058823529,0.117647058823529,0.117647058823529,0.117647058823529,0.117647058823529,0.117647058823529,0.117647058823529,0.117647058823529,0.117647058823529,0.117647058823529,0.117647058823529,0.117647058823529,0.117647058823529,0.117647058823529,0.117647058823529,0.117647058823529,0.117647058823529,0.117647058823529,0.117647058823529,0.117647058823529,0.117647058823529,0.117647058823529,0.117647058823529,0.117647058823529,0.117647058823529,0.117647058823529,0.117647058823529,0.117647058823529,0.117647058823529,0.117647058823529,0.117647058823529,0.117647058823529,0.117647058823529,0.117647058823529,0.117647058823529,0.117647058823529,0.117647058823529,0.117647058823529,0.117647058823529,0.117647058823529,0.117647058823529,0.117647058823529,0.117647058823529,0.117647058823529,0.117647058823529,0.117647058823529,0.117647058823529,0.117647058823529,0.117647058823529,0.117647058823529,0.117647058823529,0.117647058823529,0.117647058823529,0.117647058823529,0.117647058823529,0.117647058823529,0.117647058823529,0.117647058823529,0.117647058823529,0.117647058823529,0.117647058823529,0.117647058823529,0.117647058823529,0.117647058823529,0.117647058823529,0.117647058823529,0.117647058823529,0.117647058823529,0.117647058823529,0.117647058823529,0.117647058823529,0.117647058823529,0.117647058823529,0.058823529411765385,0.058823529411765385,0.058823529411765385,0.058823529411765385,0.058823529411765385,0.058823529411765385,0.058823529411765385,0.058823529411765385,0.058823529411765385,0.058823529411765385,0.058823529411765385,0.058823529411765385,0.058823529411765385,0.058823529411765385,0.058823529411765385,0.058823529411765385,0.058823529411765385,0.058823529411765385,0.058823529411765385,0.058823529411765385,0.058823529411765385,0.058823529411765385,0.058823529411765385,0.058823529411765385,0.058823529411765385,0.058823529411765385,0.058823529411765385,0.058823529411765385,0.058823529411765385,0.058823529411765385,0.058823529411765385,0.058823529411765385,0.058823529411765385,0.058823529411765385,0.058823529411765385,0.058823529411765385,0.058823529411765385,0.058823529411765385,0.058823529411765385,0.058823529411765385,0.058823529411765385,0.058823529411765385,0.058823529411765385,0.058823529411765385,0.058823529411765385,0.058823529411765385,0.058823529411765385,0.058823529411765385,0.058823529411765385,0.058823529411765385,0.058823529411765385,0.058823529411765385,0.058823529411765385,0.058823529411765385,0.058823529411765385,0.058823529411765385,0.058823529411765385,0.058823529411765385,0.058823529411765385,0.058823529411765385,0.058823529411765385,0.058823529411765385,0.058823529411765385,0.058823529411765385,0.058823529411765385,0.058823529411765385,0.058823529411765385,0.058823529411765385,0.058823529411765385,0.058823529411765385,0.058823529411765385,0.058823529411765385,0.058823529411765385,0.058823529411765385,0.058823529411765385,0.058823529411765385,0.058823529411765385,0.058823529411765385,0.058823529411765385,0.058823529411765385,0.058823529411765385,0.058823529411765385,0.058823529411765385,0.058823529411765385,0.058823529411765385,0.058823529411765385,0.058823529411765385,0.058823529411765385,0.058823529411765385,0.058823529411765385,0.058823529411765385,0.058823529411765385,0.058823529411765385,0.058823529411765385,0.058823529411765385,0.058823529411765385,0.058823529411765385,0.058823529411765385,0.058823529411765385,0.058823529411765385,0.058823529411765385,0.058823529411765385,0.058823529411765385,0.058823529411765385,0.058823529411765385,0.058823529411765385,0.058823529411765385,0.058823529411765385,0.058823529411765385,0.058823529411765385,0.058823529411765385,0.058823529411765385,0.058823529411765385,0.058823529411765385,0.058823529411765385,0.058823529411765385,0.058823529411765385,0.058823529411765385,0.058823529411765385,0.058823529411765385,0.058823529411765385,0.058823529411765385,0.058823529411765385,0.058823529411765385,0.058823529411765385,0.058823529411765385,0.058823529411765385,0.058823529411765385,0.058823529411765385,0.058823529411765385,0.058823529411765385,0.058823529411765385,0.058823529411765385,0.058823529411765385,0.058823529411765385,0.058823529411765385,0.058823529411765385,0.058823529411765385,0.058823529411765385,0.058823529411765385,0.058823529411765385,0.058823529411765385,0.058823529411765385,0.058823529411765385,0.058823529411765385,0.058823529411765385,0.058823529411765385,0.058823529411765385,0.058823529411765385,0.058823529411765385,0.058823529411765385,0.058823529411765385,0.058823529411765385,0.058823529411765385,0.058823529411765385,0.058823529411765385,0.058823529411765385,0.0,0.0,0.0,0.0,0.0,0.0,0.0,0.0,0.0,0.0,0.0,0.0,0.0,0.0,0.0,0.0,0.0,0.0,0.0,0.0,0.0,0.0,0.0,0.0,0.0,0.0,0.0,0.0,0.0,0.0,0.0,0.0,0.0,0.0,0.0,0.0,0.0,0.0,0.0,0.0,0.0,0.0,0.0,0.0,0.0,0.0,0.0,0.0,0.0,0.0,0.0,0.0,0.0,0.0,0.0,0.0,0.0,0.0,0.0,0.0,0.0,0.0,0.0,0.0,0.0,0.0,0.0,0.0,0.0,0.0,0.0,0.0,0.0,0.0,0.0,0.0,0.0,0.0,0.0,0.0,0.0,0.0,0.0,0.0,0.0,0.0,0.0,0.0,0.0,0.0,0.0,0.0,0.0,0.0,0.0,0.0,0.0,0.0,0.0,0.0,0.0,0.0,0.0,0.0,0.0,0.0,0.0,0.0,0.0,0.0,0.0,0.0,0.0,0.0,0.0,0.0,0.0,0.0,0.0,0.0,0.0,0.0,0.0],\"xaxis\":\"x\",\"yaxis\":\"y\",\"type\":\"histogram\"}],                        {\"template\":{\"data\":{\"histogram2dcontour\":[{\"type\":\"histogram2dcontour\",\"colorbar\":{\"outlinewidth\":0,\"ticks\":\"\"},\"colorscale\":[[0.0,\"#0d0887\"],[0.1111111111111111,\"#46039f\"],[0.2222222222222222,\"#7201a8\"],[0.3333333333333333,\"#9c179e\"],[0.4444444444444444,\"#bd3786\"],[0.5555555555555556,\"#d8576b\"],[0.6666666666666666,\"#ed7953\"],[0.7777777777777778,\"#fb9f3a\"],[0.8888888888888888,\"#fdca26\"],[1.0,\"#f0f921\"]]}],\"choropleth\":[{\"type\":\"choropleth\",\"colorbar\":{\"outlinewidth\":0,\"ticks\":\"\"}}],\"histogram2d\":[{\"type\":\"histogram2d\",\"colorbar\":{\"outlinewidth\":0,\"ticks\":\"\"},\"colorscale\":[[0.0,\"#0d0887\"],[0.1111111111111111,\"#46039f\"],[0.2222222222222222,\"#7201a8\"],[0.3333333333333333,\"#9c179e\"],[0.4444444444444444,\"#bd3786\"],[0.5555555555555556,\"#d8576b\"],[0.6666666666666666,\"#ed7953\"],[0.7777777777777778,\"#fb9f3a\"],[0.8888888888888888,\"#fdca26\"],[1.0,\"#f0f921\"]]}],\"heatmap\":[{\"type\":\"heatmap\",\"colorbar\":{\"outlinewidth\":0,\"ticks\":\"\"},\"colorscale\":[[0.0,\"#0d0887\"],[0.1111111111111111,\"#46039f\"],[0.2222222222222222,\"#7201a8\"],[0.3333333333333333,\"#9c179e\"],[0.4444444444444444,\"#bd3786\"],[0.5555555555555556,\"#d8576b\"],[0.6666666666666666,\"#ed7953\"],[0.7777777777777778,\"#fb9f3a\"],[0.8888888888888888,\"#fdca26\"],[1.0,\"#f0f921\"]]}],\"heatmapgl\":[{\"type\":\"heatmapgl\",\"colorbar\":{\"outlinewidth\":0,\"ticks\":\"\"},\"colorscale\":[[0.0,\"#0d0887\"],[0.1111111111111111,\"#46039f\"],[0.2222222222222222,\"#7201a8\"],[0.3333333333333333,\"#9c179e\"],[0.4444444444444444,\"#bd3786\"],[0.5555555555555556,\"#d8576b\"],[0.6666666666666666,\"#ed7953\"],[0.7777777777777778,\"#fb9f3a\"],[0.8888888888888888,\"#fdca26\"],[1.0,\"#f0f921\"]]}],\"contourcarpet\":[{\"type\":\"contourcarpet\",\"colorbar\":{\"outlinewidth\":0,\"ticks\":\"\"}}],\"contour\":[{\"type\":\"contour\",\"colorbar\":{\"outlinewidth\":0,\"ticks\":\"\"},\"colorscale\":[[0.0,\"#0d0887\"],[0.1111111111111111,\"#46039f\"],[0.2222222222222222,\"#7201a8\"],[0.3333333333333333,\"#9c179e\"],[0.4444444444444444,\"#bd3786\"],[0.5555555555555556,\"#d8576b\"],[0.6666666666666666,\"#ed7953\"],[0.7777777777777778,\"#fb9f3a\"],[0.8888888888888888,\"#fdca26\"],[1.0,\"#f0f921\"]]}],\"surface\":[{\"type\":\"surface\",\"colorbar\":{\"outlinewidth\":0,\"ticks\":\"\"},\"colorscale\":[[0.0,\"#0d0887\"],[0.1111111111111111,\"#46039f\"],[0.2222222222222222,\"#7201a8\"],[0.3333333333333333,\"#9c179e\"],[0.4444444444444444,\"#bd3786\"],[0.5555555555555556,\"#d8576b\"],[0.6666666666666666,\"#ed7953\"],[0.7777777777777778,\"#fb9f3a\"],[0.8888888888888888,\"#fdca26\"],[1.0,\"#f0f921\"]]}],\"mesh3d\":[{\"type\":\"mesh3d\",\"colorbar\":{\"outlinewidth\":0,\"ticks\":\"\"}}],\"scatter\":[{\"marker\":{\"line\":{\"color\":\"#283442\"}},\"type\":\"scatter\"}],\"parcoords\":[{\"type\":\"parcoords\",\"line\":{\"colorbar\":{\"outlinewidth\":0,\"ticks\":\"\"}}}],\"scatterpolargl\":[{\"type\":\"scatterpolargl\",\"marker\":{\"colorbar\":{\"outlinewidth\":0,\"ticks\":\"\"}}}],\"bar\":[{\"error_x\":{\"color\":\"#f2f5fa\"},\"error_y\":{\"color\":\"#f2f5fa\"},\"marker\":{\"line\":{\"color\":\"rgb(17,17,17)\",\"width\":0.5},\"pattern\":{\"fillmode\":\"overlay\",\"size\":10,\"solidity\":0.2}},\"type\":\"bar\"}],\"scattergeo\":[{\"type\":\"scattergeo\",\"marker\":{\"colorbar\":{\"outlinewidth\":0,\"ticks\":\"\"}}}],\"scatterpolar\":[{\"type\":\"scatterpolar\",\"marker\":{\"colorbar\":{\"outlinewidth\":0,\"ticks\":\"\"}}}],\"histogram\":[{\"marker\":{\"pattern\":{\"fillmode\":\"overlay\",\"size\":10,\"solidity\":0.2}},\"type\":\"histogram\"}],\"scattergl\":[{\"marker\":{\"line\":{\"color\":\"#283442\"}},\"type\":\"scattergl\"}],\"scatter3d\":[{\"type\":\"scatter3d\",\"line\":{\"colorbar\":{\"outlinewidth\":0,\"ticks\":\"\"}},\"marker\":{\"colorbar\":{\"outlinewidth\":0,\"ticks\":\"\"}}}],\"scattermapbox\":[{\"type\":\"scattermapbox\",\"marker\":{\"colorbar\":{\"outlinewidth\":0,\"ticks\":\"\"}}}],\"scatterternary\":[{\"type\":\"scatterternary\",\"marker\":{\"colorbar\":{\"outlinewidth\":0,\"ticks\":\"\"}}}],\"scattercarpet\":[{\"type\":\"scattercarpet\",\"marker\":{\"colorbar\":{\"outlinewidth\":0,\"ticks\":\"\"}}}],\"carpet\":[{\"aaxis\":{\"endlinecolor\":\"#A2B1C6\",\"gridcolor\":\"#506784\",\"linecolor\":\"#506784\",\"minorgridcolor\":\"#506784\",\"startlinecolor\":\"#A2B1C6\"},\"baxis\":{\"endlinecolor\":\"#A2B1C6\",\"gridcolor\":\"#506784\",\"linecolor\":\"#506784\",\"minorgridcolor\":\"#506784\",\"startlinecolor\":\"#A2B1C6\"},\"type\":\"carpet\"}],\"table\":[{\"cells\":{\"fill\":{\"color\":\"#506784\"},\"line\":{\"color\":\"rgb(17,17,17)\"}},\"header\":{\"fill\":{\"color\":\"#2a3f5f\"},\"line\":{\"color\":\"rgb(17,17,17)\"}},\"type\":\"table\"}],\"barpolar\":[{\"marker\":{\"line\":{\"color\":\"rgb(17,17,17)\",\"width\":0.5},\"pattern\":{\"fillmode\":\"overlay\",\"size\":10,\"solidity\":0.2}},\"type\":\"barpolar\"}],\"pie\":[{\"automargin\":true,\"type\":\"pie\"}]},\"layout\":{\"autotypenumbers\":\"strict\",\"colorway\":[\"#636efa\",\"#EF553B\",\"#00cc96\",\"#ab63fa\",\"#FFA15A\",\"#19d3f3\",\"#FF6692\",\"#B6E880\",\"#FF97FF\",\"#FECB52\"],\"font\":{\"color\":\"#f2f5fa\"},\"hovermode\":\"closest\",\"hoverlabel\":{\"align\":\"left\"},\"paper_bgcolor\":\"rgb(17,17,17)\",\"plot_bgcolor\":\"rgb(17,17,17)\",\"polar\":{\"bgcolor\":\"rgb(17,17,17)\",\"angularaxis\":{\"gridcolor\":\"#506784\",\"linecolor\":\"#506784\",\"ticks\":\"\"},\"radialaxis\":{\"gridcolor\":\"#506784\",\"linecolor\":\"#506784\",\"ticks\":\"\"}},\"ternary\":{\"bgcolor\":\"rgb(17,17,17)\",\"aaxis\":{\"gridcolor\":\"#506784\",\"linecolor\":\"#506784\",\"ticks\":\"\"},\"baxis\":{\"gridcolor\":\"#506784\",\"linecolor\":\"#506784\",\"ticks\":\"\"},\"caxis\":{\"gridcolor\":\"#506784\",\"linecolor\":\"#506784\",\"ticks\":\"\"}},\"coloraxis\":{\"colorbar\":{\"outlinewidth\":0,\"ticks\":\"\"}},\"colorscale\":{\"sequential\":[[0.0,\"#0d0887\"],[0.1111111111111111,\"#46039f\"],[0.2222222222222222,\"#7201a8\"],[0.3333333333333333,\"#9c179e\"],[0.4444444444444444,\"#bd3786\"],[0.5555555555555556,\"#d8576b\"],[0.6666666666666666,\"#ed7953\"],[0.7777777777777778,\"#fb9f3a\"],[0.8888888888888888,\"#fdca26\"],[1.0,\"#f0f921\"]],\"sequentialminus\":[[0.0,\"#0d0887\"],[0.1111111111111111,\"#46039f\"],[0.2222222222222222,\"#7201a8\"],[0.3333333333333333,\"#9c179e\"],[0.4444444444444444,\"#bd3786\"],[0.5555555555555556,\"#d8576b\"],[0.6666666666666666,\"#ed7953\"],[0.7777777777777778,\"#fb9f3a\"],[0.8888888888888888,\"#fdca26\"],[1.0,\"#f0f921\"]],\"diverging\":[[0,\"#8e0152\"],[0.1,\"#c51b7d\"],[0.2,\"#de77ae\"],[0.3,\"#f1b6da\"],[0.4,\"#fde0ef\"],[0.5,\"#f7f7f7\"],[0.6,\"#e6f5d0\"],[0.7,\"#b8e186\"],[0.8,\"#7fbc41\"],[0.9,\"#4d9221\"],[1,\"#276419\"]]},\"xaxis\":{\"gridcolor\":\"#283442\",\"linecolor\":\"#506784\",\"ticks\":\"\",\"title\":{\"standoff\":15},\"zerolinecolor\":\"#283442\",\"automargin\":true,\"zerolinewidth\":2},\"yaxis\":{\"gridcolor\":\"#283442\",\"linecolor\":\"#506784\",\"ticks\":\"\",\"title\":{\"standoff\":15},\"zerolinecolor\":\"#283442\",\"automargin\":true,\"zerolinewidth\":2},\"scene\":{\"xaxis\":{\"backgroundcolor\":\"rgb(17,17,17)\",\"gridcolor\":\"#506784\",\"linecolor\":\"#506784\",\"showbackground\":true,\"ticks\":\"\",\"zerolinecolor\":\"#C8D4E3\",\"gridwidth\":2},\"yaxis\":{\"backgroundcolor\":\"rgb(17,17,17)\",\"gridcolor\":\"#506784\",\"linecolor\":\"#506784\",\"showbackground\":true,\"ticks\":\"\",\"zerolinecolor\":\"#C8D4E3\",\"gridwidth\":2},\"zaxis\":{\"backgroundcolor\":\"rgb(17,17,17)\",\"gridcolor\":\"#506784\",\"linecolor\":\"#506784\",\"showbackground\":true,\"ticks\":\"\",\"zerolinecolor\":\"#C8D4E3\",\"gridwidth\":2}},\"shapedefaults\":{\"line\":{\"color\":\"#f2f5fa\"}},\"annotationdefaults\":{\"arrowcolor\":\"#f2f5fa\",\"arrowhead\":0,\"arrowwidth\":1},\"geo\":{\"bgcolor\":\"rgb(17,17,17)\",\"landcolor\":\"rgb(17,17,17)\",\"subunitcolor\":\"#506784\",\"showland\":true,\"showlakes\":true,\"lakecolor\":\"rgb(17,17,17)\"},\"title\":{\"x\":0.05},\"updatemenudefaults\":{\"bgcolor\":\"#506784\",\"borderwidth\":0},\"sliderdefaults\":{\"bgcolor\":\"#C8D4E3\",\"borderwidth\":1,\"bordercolor\":\"rgb(17,17,17)\",\"tickwidth\":0},\"mapbox\":{\"style\":\"dark\"}}},\"xaxis\":{\"anchor\":\"y\",\"domain\":[0.0,1.0],\"title\":{\"text\":\"IMDB_Rating\"}},\"yaxis\":{\"anchor\":\"x\",\"domain\":[0.0,1.0],\"title\":{\"text\":\"count\"}},\"legend\":{\"tracegroupgap\":0},\"title\":{\"text\":\"Distribution of IMDB Ratings\"},\"barmode\":\"relative\"},                        {\"responsive\": true}                    ).then(function(){\n",
       "                            \n",
       "var gd = document.getElementById('8002dc7b-3f70-4555-b09c-3c7989ce2bd2');\n",
       "var x = new MutationObserver(function (mutations, observer) {{\n",
       "        var display = window.getComputedStyle(gd).display;\n",
       "        if (!display || display === 'none') {{\n",
       "            console.log([gd, 'removed!']);\n",
       "            Plotly.purge(gd);\n",
       "            observer.disconnect();\n",
       "        }}\n",
       "}});\n",
       "\n",
       "// Listen for the removal of the full notebook cells\n",
       "var notebookContainer = gd.closest('#notebook-container');\n",
       "if (notebookContainer) {{\n",
       "    x.observe(notebookContainer, {childList: true});\n",
       "}}\n",
       "\n",
       "// Listen for the clearing of the current output cell\n",
       "var outputEl = gd.closest('.output');\n",
       "if (outputEl) {{\n",
       "    x.observe(outputEl, {childList: true});\n",
       "}}\n",
       "\n",
       "                        })                };                });            </script>        </div>"
      ]
     },
     "metadata": {},
     "output_type": "display_data"
    }
   ],
   "execution_count": 77
  },
  {
   "metadata": {},
   "cell_type": "markdown",
   "source": "This scatter plot visualizes the relationship between a movie's IMDB rating and its gross revenue. It helps us understand if there’s a trend that higher-rated movies tend to earn more at the box office.",
   "id": "aca2e4cccf198d94"
  },
  {
   "metadata": {
    "ExecuteTime": {
     "end_time": "2025-03-19T20:16:00.637347Z",
     "start_time": "2025-03-19T20:16:00.397147Z"
    }
   },
   "cell_type": "code",
   "source": [
    "import plotly.express as px\n",
    "\n",
    "# Create a scatter plot of Gross vs. IMDB Rating\n",
    "fig = px.scatter(df, x='IMDB_Rating', y='Gross', title='Gross Revenue vs. IMDB Rating', trendline='ols')\n",
    "fig.show()\n"
   ],
   "id": "e39d969dc27268c4",
   "outputs": [
    {
     "data": {
      "application/vnd.plotly.v1+json": {
       "data": [
        {
         "hovertemplate": "IMDB_Rating=%{x}<br>Gross=%{y}<extra></extra>",
         "legendgroup": "",
         "marker": {
          "color": "#636efa",
          "symbol": "circle"
         },
         "mode": "markers",
         "name": "",
         "orientation": "v",
         "showlegend": false,
         "x": [
          1.0,
          0.9411764705882346,
          0.8235294117647056,
          0.8235294117647056,
          0.8235294117647056,
          0.7647058823529411,
          0.7647058823529411,
          0.7647058823529411,
          0.7058823529411766,
          0.7058823529411766,
          0.7058823529411766,
          0.7058823529411766,
          0.7058823529411766,
          0.6470588235294112,
          0.6470588235294112,
          0.6470588235294112,
          0.6470588235294112,
          0.6470588235294112,
          0.5882352941176467,
          0.5882352941176467,
          0.5882352941176467,
          0.5882352941176467,
          0.5882352941176467,
          0.5882352941176467,
          0.5882352941176467,
          0.5882352941176467,
          0.5882352941176467,
          0.5882352941176467,
          0.5882352941176467,
          0.5882352941176467,
          0.5882352941176467,
          0.5882352941176467,
          0.5882352941176467,
          0.5294117647058822,
          0.5294117647058822,
          0.5294117647058822,
          0.5294117647058822,
          0.5294117647058822,
          0.5294117647058822,
          0.5294117647058822,
          0.5294117647058822,
          0.5294117647058822,
          0.5294117647058822,
          0.5294117647058822,
          0.5294117647058822,
          0.5294117647058822,
          0.5294117647058822,
          0.5294117647058822,
          0.5294117647058822,
          0.5294117647058822,
          0.5294117647058822,
          0.5294117647058822,
          0.5294117647058822,
          0.47058823529411775,
          0.47058823529411775,
          0.47058823529411775,
          0.47058823529411775,
          0.47058823529411775,
          0.47058823529411775,
          0.47058823529411775,
          0.47058823529411775,
          0.47058823529411775,
          0.47058823529411775,
          0.47058823529411775,
          0.47058823529411775,
          0.47058823529411775,
          0.47058823529411775,
          0.47058823529411775,
          0.47058823529411775,
          0.47058823529411775,
          0.47058823529411775,
          0.47058823529411775,
          0.47058823529411775,
          0.47058823529411775,
          0.47058823529411775,
          0.47058823529411775,
          0.47058823529411775,
          0.47058823529411775,
          0.47058823529411775,
          0.47058823529411775,
          0.47058823529411775,
          0.47058823529411775,
          0.47058823529411775,
          0.47058823529411775,
          0.41176470588235325,
          0.41176470588235325,
          0.41176470588235325,
          0.41176470588235325,
          0.41176470588235325,
          0.41176470588235325,
          0.41176470588235325,
          0.41176470588235325,
          0.41176470588235325,
          0.41176470588235325,
          0.41176470588235325,
          0.41176470588235325,
          0.41176470588235325,
          0.41176470588235325,
          0.41176470588235325,
          0.41176470588235325,
          0.41176470588235325,
          0.41176470588235325,
          0.41176470588235325,
          0.41176470588235325,
          0.41176470588235325,
          0.41176470588235325,
          0.41176470588235325,
          0.41176470588235325,
          0.41176470588235325,
          0.41176470588235325,
          0.41176470588235325,
          0.41176470588235325,
          0.41176470588235325,
          0.41176470588235325,
          0.41176470588235325,
          0.41176470588235325,
          0.41176470588235325,
          0.41176470588235325,
          0.41176470588235325,
          0.41176470588235325,
          0.41176470588235325,
          0.41176470588235325,
          0.41176470588235325,
          0.41176470588235325,
          0.41176470588235325,
          0.41176470588235325,
          0.41176470588235325,
          0.41176470588235325,
          0.35294117647058787,
          0.35294117647058787,
          0.35294117647058787,
          0.35294117647058787,
          0.35294117647058787,
          0.35294117647058787,
          0.35294117647058787,
          0.35294117647058787,
          0.35294117647058787,
          0.35294117647058787,
          0.35294117647058787,
          0.35294117647058787,
          0.35294117647058787,
          0.35294117647058787,
          0.35294117647058787,
          0.35294117647058787,
          0.35294117647058787,
          0.35294117647058787,
          0.35294117647058787,
          0.35294117647058787,
          0.35294117647058787,
          0.35294117647058787,
          0.35294117647058787,
          0.35294117647058787,
          0.35294117647058787,
          0.35294117647058787,
          0.35294117647058787,
          0.35294117647058787,
          0.35294117647058787,
          0.35294117647058787,
          0.35294117647058787,
          0.35294117647058787,
          0.35294117647058787,
          0.35294117647058787,
          0.35294117647058787,
          0.35294117647058787,
          0.35294117647058787,
          0.35294117647058787,
          0.35294117647058787,
          0.35294117647058787,
          0.35294117647058787,
          0.35294117647058787,
          0.35294117647058787,
          0.35294117647058787,
          0.35294117647058787,
          0.35294117647058787,
          0.35294117647058787,
          0.35294117647058787,
          0.35294117647058787,
          0.35294117647058787,
          0.35294117647058787,
          0.35294117647058787,
          0.35294117647058787,
          0.35294117647058787,
          0.35294117647058787,
          0.35294117647058787,
          0.35294117647058787,
          0.35294117647058787,
          0.35294117647058787,
          0.35294117647058787,
          0.35294117647058787,
          0.35294117647058787,
          0.35294117647058787,
          0.35294117647058787,
          0.35294117647058787,
          0.35294117647058787,
          0.35294117647058787,
          0.2941176470588234,
          0.2941176470588234,
          0.2941176470588234,
          0.2941176470588234,
          0.2941176470588234,
          0.2941176470588234,
          0.2941176470588234,
          0.2941176470588234,
          0.2941176470588234,
          0.2941176470588234,
          0.2941176470588234,
          0.2941176470588234,
          0.2941176470588234,
          0.2941176470588234,
          0.2941176470588234,
          0.2941176470588234,
          0.2941176470588234,
          0.2941176470588234,
          0.2941176470588234,
          0.2941176470588234,
          0.2941176470588234,
          0.2941176470588234,
          0.2941176470588234,
          0.2941176470588234,
          0.2941176470588234,
          0.2941176470588234,
          0.2941176470588234,
          0.2941176470588234,
          0.2941176470588234,
          0.2941176470588234,
          0.2941176470588234,
          0.2941176470588234,
          0.2941176470588234,
          0.2941176470588234,
          0.2941176470588234,
          0.2941176470588234,
          0.2941176470588234,
          0.2941176470588234,
          0.2941176470588234,
          0.2941176470588234,
          0.2941176470588234,
          0.2941176470588234,
          0.2941176470588234,
          0.2941176470588234,
          0.2941176470588234,
          0.2941176470588234,
          0.2941176470588234,
          0.2941176470588234,
          0.2941176470588234,
          0.2941176470588234,
          0.2941176470588234,
          0.2941176470588234,
          0.2941176470588234,
          0.2941176470588234,
          0.2941176470588234,
          0.2941176470588234,
          0.2941176470588234,
          0.2941176470588234,
          0.2941176470588234,
          0.2941176470588234,
          0.2941176470588234,
          0.2941176470588234,
          0.2941176470588234,
          0.2941176470588234,
          0.2941176470588234,
          0.2941176470588234,
          0.2941176470588234,
          0.2941176470588234,
          0.2941176470588234,
          0.2941176470588234,
          0.2941176470588234,
          0.2941176470588234,
          0.2941176470588234,
          0.2941176470588234,
          0.2941176470588234,
          0.2941176470588234,
          0.2941176470588234,
          0.2941176470588234,
          0.2941176470588234,
          0.2941176470588234,
          0.2941176470588234,
          0.2941176470588234,
          0.2941176470588234,
          0.2941176470588234,
          0.2941176470588234,
          0.2941176470588234,
          0.2941176470588234,
          0.2941176470588234,
          0.2941176470588234,
          0.2941176470588234,
          0.2941176470588234,
          0.2941176470588234,
          0.2941176470588234,
          0.2941176470588234,
          0.2941176470588234,
          0.2941176470588234,
          0.2941176470588234,
          0.2941176470588234,
          0.2941176470588234,
          0.2941176470588234,
          0.2941176470588234,
          0.2941176470588234,
          0.2941176470588234,
          0.2941176470588234,
          0.2941176470588234,
          0.2941176470588234,
          0.2941176470588234,
          0.2941176470588234,
          0.2941176470588234,
          0.2941176470588234,
          0.2941176470588234,
          0.2941176470588234,
          0.2941176470588234,
          0.2941176470588234,
          0.2941176470588234,
          0.2941176470588234,
          0.2941176470588234,
          0.2941176470588234,
          0.2941176470588234,
          0.2941176470588234,
          0.2941176470588234,
          0.2941176470588234,
          0.2941176470588234,
          0.2941176470588234,
          0.2941176470588234,
          0.2941176470588234,
          0.2941176470588234,
          0.23529411764705888,
          0.23529411764705888,
          0.23529411764705888,
          0.23529411764705888,
          0.23529411764705888,
          0.23529411764705888,
          0.23529411764705888,
          0.23529411764705888,
          0.23529411764705888,
          0.23529411764705888,
          0.23529411764705888,
          0.23529411764705888,
          0.23529411764705888,
          0.23529411764705888,
          0.23529411764705888,
          0.23529411764705888,
          0.23529411764705888,
          0.23529411764705888,
          0.23529411764705888,
          0.23529411764705888,
          0.23529411764705888,
          0.23529411764705888,
          0.23529411764705888,
          0.23529411764705888,
          0.23529411764705888,
          0.23529411764705888,
          0.23529411764705888,
          0.23529411764705888,
          0.23529411764705888,
          0.23529411764705888,
          0.23529411764705888,
          0.23529411764705888,
          0.23529411764705888,
          0.23529411764705888,
          0.23529411764705888,
          0.23529411764705888,
          0.23529411764705888,
          0.23529411764705888,
          0.23529411764705888,
          0.23529411764705888,
          0.23529411764705888,
          0.23529411764705888,
          0.23529411764705888,
          0.23529411764705888,
          0.23529411764705888,
          0.23529411764705888,
          0.23529411764705888,
          0.23529411764705888,
          0.23529411764705888,
          0.23529411764705888,
          0.23529411764705888,
          0.23529411764705888,
          0.23529411764705888,
          0.23529411764705888,
          0.23529411764705888,
          0.23529411764705888,
          0.23529411764705888,
          0.23529411764705888,
          0.23529411764705888,
          0.23529411764705888,
          0.23529411764705888,
          0.23529411764705888,
          0.23529411764705888,
          0.23529411764705888,
          0.23529411764705888,
          0.23529411764705888,
          0.23529411764705888,
          0.23529411764705888,
          0.23529411764705888,
          0.23529411764705888,
          0.23529411764705888,
          0.23529411764705888,
          0.23529411764705888,
          0.23529411764705888,
          0.23529411764705888,
          0.23529411764705888,
          0.23529411764705888,
          0.23529411764705888,
          0.23529411764705888,
          0.23529411764705888,
          0.23529411764705888,
          0.23529411764705888,
          0.23529411764705888,
          0.23529411764705888,
          0.23529411764705888,
          0.23529411764705888,
          0.23529411764705888,
          0.23529411764705888,
          0.23529411764705888,
          0.23529411764705888,
          0.23529411764705888,
          0.23529411764705888,
          0.23529411764705888,
          0.23529411764705888,
          0.23529411764705888,
          0.23529411764705888,
          0.23529411764705888,
          0.23529411764705888,
          0.23529411764705888,
          0.23529411764705888,
          0.23529411764705888,
          0.23529411764705888,
          0.23529411764705888,
          0.23529411764705888,
          0.23529411764705888,
          0.23529411764705888,
          0.23529411764705888,
          0.23529411764705888,
          0.23529411764705888,
          0.23529411764705888,
          0.23529411764705888,
          0.23529411764705888,
          0.23529411764705888,
          0.23529411764705888,
          0.23529411764705888,
          0.23529411764705888,
          0.23529411764705888,
          0.23529411764705888,
          0.23529411764705888,
          0.23529411764705888,
          0.23529411764705888,
          0.23529411764705888,
          0.23529411764705888,
          0.23529411764705888,
          0.23529411764705888,
          0.23529411764705888,
          0.23529411764705888,
          0.23529411764705888,
          0.23529411764705888,
          0.23529411764705888,
          0.23529411764705888,
          0.23529411764705888,
          0.23529411764705888,
          0.23529411764705888,
          0.23529411764705888,
          0.23529411764705888,
          0.23529411764705888,
          0.23529411764705888,
          0.23529411764705888,
          0.23529411764705888,
          0.23529411764705888,
          0.17647058823529438,
          0.17647058823529438,
          0.17647058823529438,
          0.17647058823529438,
          0.17647058823529438,
          0.17647058823529438,
          0.17647058823529438,
          0.17647058823529438,
          0.17647058823529438,
          0.17647058823529438,
          0.17647058823529438,
          0.17647058823529438,
          0.17647058823529438,
          0.17647058823529438,
          0.17647058823529438,
          0.17647058823529438,
          0.17647058823529438,
          0.17647058823529438,
          0.17647058823529438,
          0.17647058823529438,
          0.17647058823529438,
          0.17647058823529438,
          0.17647058823529438,
          0.17647058823529438,
          0.17647058823529438,
          0.17647058823529438,
          0.17647058823529438,
          0.17647058823529438,
          0.17647058823529438,
          0.17647058823529438,
          0.17647058823529438,
          0.17647058823529438,
          0.17647058823529438,
          0.17647058823529438,
          0.17647058823529438,
          0.17647058823529438,
          0.17647058823529438,
          0.17647058823529438,
          0.17647058823529438,
          0.17647058823529438,
          0.17647058823529438,
          0.17647058823529438,
          0.17647058823529438,
          0.17647058823529438,
          0.17647058823529438,
          0.17647058823529438,
          0.17647058823529438,
          0.17647058823529438,
          0.17647058823529438,
          0.17647058823529438,
          0.17647058823529438,
          0.17647058823529438,
          0.17647058823529438,
          0.17647058823529438,
          0.17647058823529438,
          0.17647058823529438,
          0.17647058823529438,
          0.17647058823529438,
          0.17647058823529438,
          0.17647058823529438,
          0.17647058823529438,
          0.17647058823529438,
          0.17647058823529438,
          0.17647058823529438,
          0.17647058823529438,
          0.17647058823529438,
          0.17647058823529438,
          0.17647058823529438,
          0.17647058823529438,
          0.17647058823529438,
          0.17647058823529438,
          0.17647058823529438,
          0.17647058823529438,
          0.17647058823529438,
          0.17647058823529438,
          0.17647058823529438,
          0.17647058823529438,
          0.17647058823529438,
          0.17647058823529438,
          0.17647058823529438,
          0.17647058823529438,
          0.17647058823529438,
          0.17647058823529438,
          0.17647058823529438,
          0.17647058823529438,
          0.17647058823529438,
          0.17647058823529438,
          0.17647058823529438,
          0.17647058823529438,
          0.17647058823529438,
          0.17647058823529438,
          0.17647058823529438,
          0.17647058823529438,
          0.17647058823529438,
          0.17647058823529438,
          0.17647058823529438,
          0.17647058823529438,
          0.17647058823529438,
          0.17647058823529438,
          0.17647058823529438,
          0.17647058823529438,
          0.17647058823529438,
          0.17647058823529438,
          0.17647058823529438,
          0.17647058823529438,
          0.17647058823529438,
          0.117647058823529,
          0.117647058823529,
          0.117647058823529,
          0.117647058823529,
          0.117647058823529,
          0.117647058823529,
          0.117647058823529,
          0.117647058823529,
          0.117647058823529,
          0.117647058823529,
          0.117647058823529,
          0.117647058823529,
          0.117647058823529,
          0.117647058823529,
          0.117647058823529,
          0.117647058823529,
          0.117647058823529,
          0.117647058823529,
          0.117647058823529,
          0.117647058823529,
          0.117647058823529,
          0.117647058823529,
          0.117647058823529,
          0.117647058823529,
          0.117647058823529,
          0.117647058823529,
          0.117647058823529,
          0.117647058823529,
          0.117647058823529,
          0.117647058823529,
          0.117647058823529,
          0.117647058823529,
          0.117647058823529,
          0.117647058823529,
          0.117647058823529,
          0.117647058823529,
          0.117647058823529,
          0.117647058823529,
          0.117647058823529,
          0.117647058823529,
          0.117647058823529,
          0.117647058823529,
          0.117647058823529,
          0.117647058823529,
          0.117647058823529,
          0.117647058823529,
          0.117647058823529,
          0.117647058823529,
          0.117647058823529,
          0.117647058823529,
          0.117647058823529,
          0.117647058823529,
          0.117647058823529,
          0.117647058823529,
          0.117647058823529,
          0.117647058823529,
          0.117647058823529,
          0.117647058823529,
          0.117647058823529,
          0.117647058823529,
          0.117647058823529,
          0.117647058823529,
          0.117647058823529,
          0.117647058823529,
          0.117647058823529,
          0.117647058823529,
          0.117647058823529,
          0.117647058823529,
          0.117647058823529,
          0.117647058823529,
          0.117647058823529,
          0.117647058823529,
          0.117647058823529,
          0.117647058823529,
          0.117647058823529,
          0.117647058823529,
          0.117647058823529,
          0.117647058823529,
          0.117647058823529,
          0.117647058823529,
          0.117647058823529,
          0.117647058823529,
          0.117647058823529,
          0.117647058823529,
          0.117647058823529,
          0.117647058823529,
          0.117647058823529,
          0.117647058823529,
          0.117647058823529,
          0.117647058823529,
          0.117647058823529,
          0.117647058823529,
          0.117647058823529,
          0.117647058823529,
          0.117647058823529,
          0.117647058823529,
          0.117647058823529,
          0.117647058823529,
          0.117647058823529,
          0.117647058823529,
          0.117647058823529,
          0.117647058823529,
          0.117647058823529,
          0.117647058823529,
          0.117647058823529,
          0.117647058823529,
          0.117647058823529,
          0.117647058823529,
          0.117647058823529,
          0.117647058823529,
          0.117647058823529,
          0.117647058823529,
          0.117647058823529,
          0.117647058823529,
          0.117647058823529,
          0.117647058823529,
          0.117647058823529,
          0.117647058823529,
          0.117647058823529,
          0.117647058823529,
          0.117647058823529,
          0.117647058823529,
          0.117647058823529,
          0.117647058823529,
          0.117647058823529,
          0.117647058823529,
          0.117647058823529,
          0.117647058823529,
          0.117647058823529,
          0.117647058823529,
          0.117647058823529,
          0.117647058823529,
          0.117647058823529,
          0.117647058823529,
          0.117647058823529,
          0.117647058823529,
          0.117647058823529,
          0.117647058823529,
          0.117647058823529,
          0.117647058823529,
          0.117647058823529,
          0.117647058823529,
          0.117647058823529,
          0.117647058823529,
          0.117647058823529,
          0.117647058823529,
          0.117647058823529,
          0.117647058823529,
          0.117647058823529,
          0.117647058823529,
          0.117647058823529,
          0.058823529411765385,
          0.058823529411765385,
          0.058823529411765385,
          0.058823529411765385,
          0.058823529411765385,
          0.058823529411765385,
          0.058823529411765385,
          0.058823529411765385,
          0.058823529411765385,
          0.058823529411765385,
          0.058823529411765385,
          0.058823529411765385,
          0.058823529411765385,
          0.058823529411765385,
          0.058823529411765385,
          0.058823529411765385,
          0.058823529411765385,
          0.058823529411765385,
          0.058823529411765385,
          0.058823529411765385,
          0.058823529411765385,
          0.058823529411765385,
          0.058823529411765385,
          0.058823529411765385,
          0.058823529411765385,
          0.058823529411765385,
          0.058823529411765385,
          0.058823529411765385,
          0.058823529411765385,
          0.058823529411765385,
          0.058823529411765385,
          0.058823529411765385,
          0.058823529411765385,
          0.058823529411765385,
          0.058823529411765385,
          0.058823529411765385,
          0.058823529411765385,
          0.058823529411765385,
          0.058823529411765385,
          0.058823529411765385,
          0.058823529411765385,
          0.058823529411765385,
          0.058823529411765385,
          0.058823529411765385,
          0.058823529411765385,
          0.058823529411765385,
          0.058823529411765385,
          0.058823529411765385,
          0.058823529411765385,
          0.058823529411765385,
          0.058823529411765385,
          0.058823529411765385,
          0.058823529411765385,
          0.058823529411765385,
          0.058823529411765385,
          0.058823529411765385,
          0.058823529411765385,
          0.058823529411765385,
          0.058823529411765385,
          0.058823529411765385,
          0.058823529411765385,
          0.058823529411765385,
          0.058823529411765385,
          0.058823529411765385,
          0.058823529411765385,
          0.058823529411765385,
          0.058823529411765385,
          0.058823529411765385,
          0.058823529411765385,
          0.058823529411765385,
          0.058823529411765385,
          0.058823529411765385,
          0.058823529411765385,
          0.058823529411765385,
          0.058823529411765385,
          0.058823529411765385,
          0.058823529411765385,
          0.058823529411765385,
          0.058823529411765385,
          0.058823529411765385,
          0.058823529411765385,
          0.058823529411765385,
          0.058823529411765385,
          0.058823529411765385,
          0.058823529411765385,
          0.058823529411765385,
          0.058823529411765385,
          0.058823529411765385,
          0.058823529411765385,
          0.058823529411765385,
          0.058823529411765385,
          0.058823529411765385,
          0.058823529411765385,
          0.058823529411765385,
          0.058823529411765385,
          0.058823529411765385,
          0.058823529411765385,
          0.058823529411765385,
          0.058823529411765385,
          0.058823529411765385,
          0.058823529411765385,
          0.058823529411765385,
          0.058823529411765385,
          0.058823529411765385,
          0.058823529411765385,
          0.058823529411765385,
          0.058823529411765385,
          0.058823529411765385,
          0.058823529411765385,
          0.058823529411765385,
          0.058823529411765385,
          0.058823529411765385,
          0.058823529411765385,
          0.058823529411765385,
          0.058823529411765385,
          0.058823529411765385,
          0.058823529411765385,
          0.058823529411765385,
          0.058823529411765385,
          0.058823529411765385,
          0.058823529411765385,
          0.058823529411765385,
          0.058823529411765385,
          0.058823529411765385,
          0.058823529411765385,
          0.058823529411765385,
          0.058823529411765385,
          0.058823529411765385,
          0.058823529411765385,
          0.058823529411765385,
          0.058823529411765385,
          0.058823529411765385,
          0.058823529411765385,
          0.058823529411765385,
          0.058823529411765385,
          0.058823529411765385,
          0.058823529411765385,
          0.058823529411765385,
          0.058823529411765385,
          0.058823529411765385,
          0.058823529411765385,
          0.058823529411765385,
          0.058823529411765385,
          0.058823529411765385,
          0.058823529411765385,
          0.058823529411765385,
          0.058823529411765385,
          0.058823529411765385,
          0.058823529411765385,
          0.058823529411765385,
          0.058823529411765385,
          0.058823529411765385,
          0.058823529411765385,
          0.058823529411765385,
          0.058823529411765385,
          0.058823529411765385,
          0.058823529411765385,
          0.0,
          0.0,
          0.0,
          0.0,
          0.0,
          0.0,
          0.0,
          0.0,
          0.0,
          0.0,
          0.0,
          0.0,
          0.0,
          0.0,
          0.0,
          0.0,
          0.0,
          0.0,
          0.0,
          0.0,
          0.0,
          0.0,
          0.0,
          0.0,
          0.0,
          0.0,
          0.0,
          0.0,
          0.0,
          0.0,
          0.0,
          0.0,
          0.0,
          0.0,
          0.0,
          0.0,
          0.0,
          0.0,
          0.0,
          0.0,
          0.0,
          0.0,
          0.0,
          0.0,
          0.0,
          0.0,
          0.0,
          0.0,
          0.0,
          0.0,
          0.0,
          0.0,
          0.0,
          0.0,
          0.0,
          0.0,
          0.0,
          0.0,
          0.0,
          0.0,
          0.0,
          0.0,
          0.0,
          0.0,
          0.0,
          0.0,
          0.0,
          0.0,
          0.0,
          0.0,
          0.0,
          0.0,
          0.0,
          0.0,
          0.0,
          0.0,
          0.0,
          0.0,
          0.0,
          0.0,
          0.0,
          0.0,
          0.0,
          0.0,
          0.0,
          0.0,
          0.0,
          0.0,
          0.0,
          0.0,
          0.0,
          0.0,
          0.0,
          0.0,
          0.0,
          0.0,
          0.0,
          0.0,
          0.0,
          0.0,
          0.0,
          0.0,
          0.0,
          0.0,
          0.0,
          0.0,
          0.0,
          0.0,
          0.0,
          0.0,
          0.0,
          0.0,
          0.0,
          0.0,
          0.0,
          0.0,
          0.0,
          0.0,
          0.0,
          0.0,
          0.0,
          0.0,
          0.0
         ],
         "xaxis": "x",
         "y": [
          0.030256588478144258,
          0.14409174453440418,
          0.571025359956301,
          0.061173359298474846,
          0.004653439581956724,
          0.40339528631129395,
          0.11522574999712809,
          0.10344993682452343,
          0.31235945020531014,
          0.03953276603020867,
          0.33688118961982527,
          0.35258317065261996,
          0.006511102224698347,
          0.36571405156948367,
          0.18307438832827572,
          0.050002181152171914,
          0.31011623928966736,
          0.11957229410190402,
          0.025120709637378703,
          0.05697530222569765,
          0.025120709637378703,
          0.200732952539538,
          0.008073457361709934,
          0.010734465146682963,
          0.23118249024417503,
          0.14605079178492897,
          0.06149177441928505,
          0.10689496685737673,
          0.13958265388076616,
          0.34456314778244407,
          0.025120709637378703,
          2.8586225205168167E-4,
          0.025120709637378703,
          0.3581338762377318,
          0.01397591670633595,
          0.014072302706939026,
          0.05667855342998617,
          0.14133504150039697,
          0.03477381334538864,
          0.20039708926897473,
          0.007172882797330757,
          0.02491858313038191,
          0.02081856153451988,
          0.45137195645997485,
          0.2186939164708612,
          0.012799825149105186,
          0.025120709637378703,
          0.22485026598526178,
          0.005679966876380409,
          0.03416251742412826,
          0.001092449762930218,
          1.7289074043998762E-4,
          1.9084814598648998E-5,
          0.0017720297330222766,
          0.025120709637378703,
          0.025120709637378703,
          0.0053551300079862415,
          0.013228325998697586,
          0.20310445427786183,
          0.9164166847059233,
          0.724717090790977,
          0.2239067580613911,
          0.1738133037513725,
          0.47844186133013855,
          0.006973284419723629,
          0.0013052364776786033,
          0.23894117307680565,
          0.01204791057152251,
          7.539291806900623E-4,
          0.027270874074686497,
          0.002534538325779622,
          0.005679966876380409,
          0.2649397030464343,
          0.04699253279404462,
          0.08911464567134925,
          0.0842339990014743,
          0.025120709637378703,
          0.025120709637378703,
          2.9316585557983996E-4,
          0.008726418307278156,
          0.025120709637378703,
          0.03924900379104106,
          0.025120709637378703,
          3.065890696069609E-4,
          0.16999357569012274,
          0.025120709637378703,
          0.0014654588129928599,
          0.025120709637378703,
          7.322607203469106E-4,
          0.007577114458880168,
          0.007319394728243813,
          0.025120709637378703,
          0.025120709637378703,
          0.12869055538262447,
          0.03672513207874628,
          0.03547088737298872,
          0.03237761964062726,
          0.0038799280747188643,
          0.1388926272273642,
          0.1477932163541103,
          9.956943650430083E-4,
          0.20476452460512604,
          0.08071084571351604,
          0.003022143808455252,
          0.049491091183776516,
          0.025120709637378703,
          0.09091757879681796,
          0.05548616675498749,
          0.04868109261994191,
          0.33002775860446915,
          0.012263104774351,
          0.030172358424006847,
          0.1703911112251806,
          0.006626111827106014,
          0.06080502109557427,
          0.016012939880100902,
          0.04785385836317373,
          0.019856379830600814,
          0.01417129157048636,
          0.003414997820128975,
          0.009413996902956088,
          5.7582203813947956E-5,
          3.540502148845924E-4,
          0.006105405785478912,
          0.0016914648259265476,
          2.943647953199542E-5,
          0.0013183650279761858,
          0.005817147789191419,
          9.579453789958484E-4,
          0.004467852678213585,
          0.025120709637378703,
          0.09083208681323013,
          0.0581986862438971,
          3.6412856853256995E-4,
          0.021550332216273102,
          0.025120709637378703,
          7.880898884945472E-4,
          0.0015248089991840377,
          1.5287922976438476E-4,
          0.0017348690068119848,
          0.025120709637378703,
          6.572282315354846E-6,
          4.084936094056321E-5,
          0.00682224577064665,
          0.014579246030676715,
          0.13666805806310356,
          0.3128163594142478,
          0.12480438385323048,
          0.0011874478546622827,
          0.042941055980001815,
          0.040178157534318824,
          0.4430670332653571,
          0.07527775366137833,
          0.0023445261279823656,
          7.812741883156607E-4,
          0.22083885703270292,
          0.0013045649433094742,
          0.005880180204379617,
          0.005028277468862479,
          0.18228692193115092,
          0.025120709637378703,
          0.004159737976470717,
          0.0689850869405334,
          0.025120709637378703,
          0.07199565131851555,
          0.04530667832282359,
          0.025120709637378703,
          0.10799654372256717,
          0.21050360572318957,
          2.9755698572328607E-4,
          0.0011789314323052999,
          0.0886207006479997,
          0.004414025301706833,
          0.024963870596843095,
          2.492022406571633E-4,
          0.025120709637378703,
          0.025120709637378703,
          0.025120709637378703,
          0.0013109247688053432,
          0.012916835475531529,
          0.025120709637378703,
          0.025120709637378703,
          0.025120709637378703,
          0.026689161964822874,
          0.025120709637378703,
          0.025120709637378703,
          5.9702501519973735E-5,
          1.2018223200771524E-5,
          0.025120709637378703,
          1.0170489444568692E-4,
          9.471944233565334E-6,
          0.005351664506297541,
          0.025120709637378703,
          0.005817147789191419,
          0.0010420740090234576,
          0.0040127103840309685,
          0.0013237639934844299,
          0.025120709637378703,
          0.025120709637378703,
          0.0021410981895134476,
          0.0037275484921480448,
          9.611856123985615E-4,
          0.24157702981779147,
          0.015668817484132895,
          0.0033157858235400707,
          0.025120709637378703,
          1.7531958096426187E-4,
          0.01133259515086847,
          9.84257995945854E-4,
          0.06309541877758709,
          0.17911058358237045,
          0.025120709637378703,
          0.07175308434988405,
          0.38056504588661605,
          0.0029931525273841895,
          0.06050288507819884,
          0.02876848860097633,
          0.1255766312957735,
          0.04810115383056657,
          9.141184197158562E-4,
          0.0011046131827513418,
          0.003317294373720642,
          0.06512601913614587,
          0.1644747119373786,
          0.025120709637378703,
          0.15810844013861494,
          0.4067746458344819,
          0.0015981290219730744,
          0.025120709637378703,
          0.025120709637378703,
          0.23229316111533724,
          0.019594124840822867,
          0.07930545452883846,
          0.002366124125259758,
          0.1072863144541143,
          0.025120709637378703,
          0.0011848001515852716,
          0.00621286089313943,
          0.025120709637378703,
          1.3693322445864401E-5,
          3.1889341555960295E-4,
          0.07483790398770987,
          0.40659533014359134,
          0.17574561133606387,
          0.005746507498145648,
          0.3095196402557288,
          0.025120709637378703,
          7.3497248075643E-5,
          0.31335244241854354,
          2.7525649303271885E-4,
          0.1341113879289423,
          3.708439122238601E-4,
          0.018680718525120064,
          0.002917532846358104,
          0.017616278898451323,
          0.02627489785738045,
          1.8125769568778422E-4,
          3.2936785704692367E-4,
          0.025120709637378703,
          0.005908328063905986,
          0.004315735730706049,
          6.393936025429565E-4,
          0.429667309062067,
          0.02670027591201307,
          0.005568272240930048,
          0.00277769248662579,
          0.10234099550133895,
          0.05582181116299803,
          0.1478969144992192,
          0.002328144532815568,
          5.279018153122049E-4,
          0.014713470697592464,
          0.023747016156070652,
          0.025120709637378703,
          0.005306119742884117,
          0.03509022026882471,
          0.025120709637378703,
          0.021399216698397113,
          0.05229002508186207,
          0.12516156006594148,
          0.025120709637378703,
          0.025120709637378703,
          1.879442135794456E-4,
          0.030959650798711665,
          0.03302415777098931,
          0.0018587761727050596,
          0.025120709637378703,
          4.07575454306346E-5,
          0.017313061379778717,
          0.025120709637378703,
          1.0752663834848582E-4,
          5.8295375449207385E-5,
          0.025120709637378703,
          0.004322476697330342,
          0.025120709637378703,
          0.025120709637378703,
          0.025120709637378703,
          0.0016277982431465168,
          0.025120709637378703,
          0.025120709637378703,
          0.07974998572589106,
          0.025120709637378703,
          8.015066967884173E-4,
          0.025120709637378703,
          0.047943384891087376,
          0.010247779954351036,
          0.025120709637378703,
          0.00423695268507626,
          0.025120709637378703,
          4.781730404637785E-4,
          0.011635688825364893,
          2.1565434800034148E-4,
          0.004653439581956724,
          0.010247779954351036,
          0.2121100066820339,
          1.8318261852965961E-4,
          0.004653439581956724,
          2.1963124072690042E-5,
          0.025120709637378703,
          5.74631639377033E-4,
          0.0011024160162463061,
          0.025120709637378703,
          0.025120709637378703,
          0.025120709637378703,
          0.025120709637378703,
          0.00872962224152578,
          0.025120709637378703,
          0.1613182473760088,
          0.05523684067015415,
          0.24387945853447157,
          0.36434416736421543,
          0.007192245193703609,
          0.0016074867306303331,
          0.1413761385496899,
          0.005941562075633518,
          0.0011509650685543708,
          0.0010773471791691704,
          0.0028019723508908648,
          0.09728640968601529,
          0.3557053442562758,
          0.09827767128364873,
          0.02729583935240941,
          0.2310619909283714,
          0.1960545007044812,
          0.018936698031556606,
          1.0549602090797169E-4,
          0.14818184578470509,
          0.18118275608210493,
          0.38762095892716436,
          1.1248147301800528E-4,
          1.0297216200714342E-5,
          0.025120709637378703,
          0.004289054784094121,
          0.025120709637378703,
          0.15087490038550982,
          0.11418579628581066,
          7.211788018229692E-6,
          0.6654256932167086,
          0.004744994592066466,
          0.029142862072221398,
          0.17462579094257502,
          0.06124410208125263,
          0.2428517728699517,
          2.5324212309402216E-4,
          0.07911349071764412,
          0.006393743853432041,
          0.025120709637378703,
          0.22040457180598502,
          0.17876763236796514,
          0.07068393330640932,
          5.345829950928239E-4,
          0.0025403888954820494,
          0.00222603500955287,
          0.06581742088695235,
          0.0019068512007525626,
          1.7973846928512831E-4,
          0.3260652883863245,
          0.07073605355500473,
          0.27911892277944084,
          0.025120709637378703,
          0.0016324808341528756,
          0.025120709637378703,
          0.0015786940272900464,
          0.0239731054435366,
          0.004465576507665122,
          0.006621114287548156,
          8.277915555610028E-4,
          0.0017578132756942608,
          0.005972409951725113,
          0.024723995103799145,
          2.125635817068145E-6,
          0.026129104436213697,
          0.014323205669774287,
          0.061004097405921456,
          5.493983884797926E-4,
          0.0801585305811627,
          0.0757004658633564,
          0.004799258626056482,
          0.06821497581002953,
          0.23204652757371366,
          0.0751650800163628,
          0.2337733008013188,
          0.19666406387489724,
          0.029406735577267386,
          0.1908894576278468,
          5.891843977007175E-4,
          0.03294309428432223,
          0.0035580260997757867,
          0.004848627612220653,
          0.025120709637378703,
          0.040995299558350316,
          0.056334776943613704,
          0.025120709637378703,
          0.03221678769303197,
          0.041849397325128074,
          0.2775803809557892,
          0.0533797171766278,
          0.09213440334416856,
          0.056867638931706474,
          0.24865437964466372,
          0.004355844161833933,
          0.031101644552438464,
          0.08594219453502981,
          5.771939326773663E-4,
          0.10922584877353482,
          0.025120709637378703,
          0.03565230521200778,
          0.11204054504590626,
          0.025120709637378703,
          0.17424980322655076,
          0.11927549512794876,
          0.015479128775864803,
          5.2724522765399456E-5,
          0.025120709637378703,
          0.008842789128001625,
          0.020834321773561346,
          0.013381251136216936,
          0.01270331103383709,
          0.0023875811964056324,
          0.018757074865469996,
          0.025120709637378703,
          0.025120709637378703,
          6.968316773587607E-4,
          0.025120709637378703,
          0.025120709637378703,
          0.025120709637378703,
          0.025120709637378703,
          0.008539584420795521,
          0.025120709637378703,
          0.025120709637378703,
          0.025120709637378703,
          0.025120709637378703,
          0.025120709637378703,
          0.004653439581956724,
          0.02524787198338541,
          0.025120709637378703,
          0.002249218425809844,
          5.732597448391463E-5,
          0.002215011810250395,
          0.025120709637378703,
          0.025120709637378703,
          0.003489731374722029,
          5.3023456983771676E-5,
          0.17654034930805057,
          0.025120709637378703,
          0.0035361868198792797,
          0.0021338511699623385,
          0.019317979018490493,
          2.74232643334794E-4,
          0.0341787783779855,
          0.005552998837615644,
          0.006270893633525353,
          0.003454625821263046,
          0.3363618330526697,
          0.03456951422719761,
          3.717994341004427E-4,
          0.10734389772555046,
          1.0,
          0.008661962751686063,
          0.2497384314913021,
          1.467179819992917E-4,
          0.04769108654602564,
          0.1069810310864683,
          0.0071938380860386494,
          0.007471962212323324,
          0.0022242115108207995,
          0.005347049175490315,
          0.002264170474839497,
          0.12346509556521265,
          0.02800938679068622,
          4.371859562583224E-4,
          0.0270948317134871,
          0.0012645750182467312,
          0.27515689882737926,
          0.008280291015023878,
          0.025120709637378703,
          0.014684905397782583,
          0.002433156920863102,
          0.13343752827864325,
          0.022421789520160617,
          0.025120709637378703,
          0.00387958857085657,
          0.33994243722691025,
          0.014457279801958642,
          0.025120709637378703,
          0.09622893842950125,
          0.2662195215745736,
          0.057340615854881614,
          0.009910694256359067,
          0.0011301047982230324,
          0.0010662770044895223,
          0.12988732144392232,
          0.0013024521189589078,
          0.03795512040792735,
          0.03473353516232961,
          0.007707098530383867,
          0.2624758530546999,
          0.028184516334897373,
          0.025120709637378703,
          0.0023485777542635177,
          0.013110608906369232,
          0.0014131784210661847,
          0.025120709637378703,
          0.03944545588599981,
          0.06017230546994531,
          0.01573897841280706,
          0.01948773201725978,
          0.08142663729367507,
          0.04279321912992805,
          0.010599171789936532,
          2.001215124892795E-4,
          0.02199718549162914,
          0.06109850830543886,
          0.04878894168019736,
          0.04038000325667479,
          0.0054434800162261494,
          0.07537273467115506,
          6.373277535695628E-5,
          0.025120709637378703,
          2.1085965666209285E-4,
          0.025120709637378703,
          0.025120709637378703,
          0.06587089701575251,
          0.01287890499370893,
          9.365609061601503E-5,
          0.02378200000059787,
          0.026027212707881525,
          0.01438437615183091,
          0.025120709637378703,
          0.03202727300718386,
          0.025120709637378703,
          9.287779402603879E-5,
          0.1000775125752017,
          0.025120709637378703,
          0.025120709637378703,
          0.010087636623080206,
          0.008144564203660807,
          0.025120709637378703,
          0.0028278056054692664,
          0.011170205542471015,
          0.006980855996426114,
          0.01009831284516493,
          0.025120709637378703,
          3.1462292672571415E-4,
          0.004248810764945761,
          0.002707719459460314,
          0.010674828837739915,
          0.025120709637378703,
          0.025120709637378703,
          0.025120709637378703,
          0.025120709637378703,
          0.025120709637378703,
          0.002563106828456129,
          0.20110997691672672,
          0.025120709637378703,
          0.18107511307293572,
          0.043175439624405385,
          0.025120709637378703,
          0.05126912202123262,
          0.0019019582881711346,
          0.05091897610076441,
          4.6330640121080316E-4,
          0.568162936700722,
          0.4356785206753368,
          0.05777556193974657,
          0.11540986358222353,
          0.007189168306498792,
          0.025120709637378703,
          0.0014191805931222155,
          0.003043892340464039,
          0.004516250128168047,
          1.7925803929131582E-4,
          0.2375742579288992,
          0.016357697511282954,
          0.001782361113133662,
          0.005560470057830533,
          0.4633872234148511,
          8.9816921154349E-5,
          0.04858872621695373,
          0.1889708593799344,
          0.07500960432938741,
          0.025120709637378703,
          1.3568090360810615E-4,
          0.10944674407895655,
          0.1143418580973785,
          5.503592484674176E-6,
          0.17209694197554437,
          5.829078467371095E-4,
          0.025120709637378703,
          0.2758367990841339,
          0.002371554051812048,
          0.010776434443320214,
          0.025120709637378703,
          0.025120709637378703,
          0.0999462046521595,
          0.15480488285985072,
          0.009639855584025006,
          0.010076878194085433,
          0.3234919451961335,
          7.900169465808395E-4,
          0.0543694744945695,
          0.037431101534587355,
          0.1389652725129175,
          0.8119334369154636,
          2.4501929684436926E-6,
          0.054304955949267104,
          0.06393967306760273,
          0.025234275814560517,
          0.1361303949779393,
          0.0031179191291550844,
          0.0,
          0.04100073162014702,
          0.005473505823217222,
          1.3631400357773016E-4,
          0.027238471740659364,
          0.12760017467153428,
          1.4920020363398955E-5,
          0.08647791348015245,
          0.017888081633639634,
          1.9254566529796079E-4,
          0.0074743697004034295,
          0.025120709637378703,
          0.05790009579987601,
          0.0030861819237638314,
          0.12347418743593999,
          0.1367384549362858,
          0.00882200252360267,
          0.2494294701651479,
          2.6164217463028137E-5,
          0.030922494342990207,
          0.03467692449472537,
          0.2857637169275729,
          0.7039090239827664,
          2.484154030895193E-4,
          0.013172672988214347,
          0.05159000655221102,
          0.004312538202191675,
          0.006284186597643041,
          0.009788930875860604,
          0.060324669038182996,
          0.034607273889466855,
          0.02450584038458656,
          0.0018875560645788445,
          0.19630845172872163,
          0.018433208465663327,
          0.005995858138289788,
          0.025120709637378703,
          0.002150730277078284,
          0.002133803126962957,
          0.061391227894935556,
          0.06541915616592608,
          0.055617960446134554,
          0.025120709637378703,
          0.028642910606326996,
          0.025120709637378703,
          0.1265118384569733,
          0.036942544800523974,
          0.06377360443307488,
          0.006322180069175941,
          0.07487775191901888,
          0.0015317122443840188,
          0.06566080818232493,
          0.10512508411261569,
          0.04897595813007764,
          0.03704540806506585,
          0.25476756199030914,
          0.022952484235170184,
          0.002667662274198437,
          0.46453229734405915,
          0.11344414262527361,
          0.025120709637378703,
          0.03394899298243382,
          0.025120709637378703,
          0.004717496914465056,
          2.0553008659739965E-4,
          0.017140621175910704,
          0.025120709637378703,
          0.045655470498331456,
          0.004269095586906733,
          0.047812123943422345,
          0.018736167619761483,
          0.060532785973391526,
          0.025120709637378703,
          0.07686740576301614,
          0.10918724141923206,
          0.041742635104280855,
          0.025120709637378703,
          0.002791506450381212,
          3.5808048872157497E-4,
          0.025120709637378703,
          0.025120709637378703,
          0.025120709637378703,
          0.025120709637378703,
          0.025120709637378703,
          0.025120709637378703,
          0.025120709637378703,
          0.004653439581956724,
          0.025120709637378703,
          0.025120709637378703,
          0.025120709637378703,
          0.025120709637378703,
          3.569103747810894E-4,
          0.34653995172554014,
          0.036085154486855286,
          0.18794353030123218,
          0.2350453555807581,
          0.003584235157371571,
          0.0035569915738557774,
          8.154733305196505E-4,
          0.03831934399483647,
          0.13693367179234936,
          0.1333151008371311,
          0.0071984117795797446,
          0.045202369497811444,
          0.0023470286344390245,
          0.0011970415078276138,
          1.855025615886697E-4,
          0.27733116803890995,
          0.0010511882998171845,
          0.018847382892840242,
          0.20223068984238182,
          0.0014283151687379035,
          7.459689895036936E-5,
          0.06065733691547631,
          0.27518964600337975,
          0.2926260657912364,
          0.24424778606115008,
          8.813861904263072E-5,
          0.1035181322607118,
          0.15630736467578896,
          0.2960742698649155,
          0.32494039785496764,
          0.14102398229660312,
          0.14522245467441944,
          0.034580356998346856,
          0.31599695650801785,
          0.01610945292774679,
          0.019849073024206028,
          9.395043405889081E-4,
          0.038155213094616995,
          0.0018693093334138462,
          0.025120709637378703,
          0.025120709637378703,
          3.487003599979382E-4,
          0.027162073763043304,
          4.390478893898979E-4,
          0.01879501495589247,
          0.03531563908954374,
          0.024014220642407075,
          0.001124265972364898,
          9.29121714611516E-4,
          0.21440056557500017,
          0.0046944277337843884,
          0.08865797027167525,
          0.05723054080232151,
          0.05826974717809301,
          0.0182641184602855,
          0.18815841702886463,
          0.0011545373324639188,
          0.08042429591276211,
          0.047599026550611295,
          0.3096229647330648,
          0.08317894697688465,
          0.08037585682554152,
          0.11862272421913364,
          0.005220216724746027,
          0.0043376369326906476,
          0.01658867223797487,
          0.0430364352128623,
          0.023748782003203465,
          0.1159837436155658,
          0.11151683044489569,
          1.492183532115336E-4,
          0.02348123801300475,
          0.0032325208998791157,
          0.1958188295076942,
          1.5990952200717418E-4,
          0.048588856466863166,
          0.025120709637378703,
          0.05555510739147738,
          0.011555532817575008,
          0.002995838664860706,
          0.08181253254379396,
          0.018260518438198533,
          3.917415493324949E-4,
          0.024403303812440474,
          0.15851702876639712,
          0.06783534323178551,
          0.004338614874633609,
          0.04474239941600211,
          0.03823176908031991,
          0.05990948997850792,
          0.004711662359095755,
          0.010695441419718888,
          0.025120709637378703,
          0.023325011787616805,
          0.0033628231228009387,
          0.006522823648925163,
          0.08255187693749409,
          0.029124949506807652,
          0.0514258703138805,
          0.08061033548832164,
          0.025120709637378703,
          0.01144909835674579,
          0.1508965197352314,
          0.08799042880960593,
          0.006568688699001129,
          0.005422564229539971,
          0.16703063153312728,
          0.025120709637378703,
          0.001647964559042348,
          0.046957147523567014,
          0.023741132490079763,
          0.007635828342235097,
          0.009128087675527233,
          0.011348853969481293,
          0.011315402162823233,
          0.012595071223853345,
          0.0576502060105166,
          0.08424783858816272,
          0.050404151589883775,
          0.058504303777294354,
          0.08903829893959918,
          0.025120709637378703,
          0.05017685055121121,
          0.0020534944491972613,
          0.025120709637378703,
          0.025120709637378703,
          0.1275794606654455,
          0.03181374856548942,
          0.026689161964822874,
          0.007531762935086478,
          0.016686299883206402,
          0.038326244037169825,
          0.025120709637378703,
          0.04753687065325625,
          0.04836189279680848,
          2.6718313389225206E-5,
          0.030265696363204735,
          0.025120709637378703,
          0.025120709637378703,
          0.054533882976563176,
          0.012173267568374689,
          0.025120709637378703,
          8.824111077464404E-5,
          0.005235293685574071,
          5.488005200430482E-5,
          0.025120709637378703,
          0.025120709637378703,
          0.025120709637378703,
          0.025120709637378703,
          0.011262021052399623,
          0.025120709637378703,
          5.709782361796411E-4,
          0.025120709637378703,
          0.0815735880173158,
          0.025120709637378703,
          0.025120709637378703,
          0.027779158331918023,
          0.15213768393369076,
          6.032609965194235E-4,
          0.006302239021566097,
          0.025120709637378703,
          0.026476931481245105,
          0.014008630786047954,
          0.025120709637378703,
          9.012428958816815E-4,
          0.4161717305340336,
          0.1151158916718763,
          0.019578852505130674,
          0.07720237650141312,
          0.6497339923181593,
          0.2655771514413135,
          0.05005865729937788,
          0.11718891399888873,
          0.001165304302436361,
          0.02867755494699192,
          0.040256204988246974,
          0.22264650904833308,
          0.025120709637378703,
          0.004381327236327955,
          0.04377471625484279,
          0.02049988164340197,
          0.22984578133141287,
          0.18282144193653344,
          0.0010748745661343488,
          0.26852052288036105,
          0.03738053574392748,
          0.0513205974260141,
          0.025120709637378703,
          0.08071670909468498,
          0.0033998503962351717,
          0.08070047483138294,
          0.025120709637378703,
          0.22316226666102393,
          0.2732666267319021,
          0.01005819373781496,
          0.07468072757855639,
          0.018270834871599,
          0.04124612458476436,
          7.314044873357159E-4,
          0.09449757976451072,
          0.021671570326644993,
          0.010996936863769229,
          0.026298123978525764,
          0.042563254373845345,
          5.026365357487104E-6,
          0.3223769515226492,
          0.22485579306543504,
          0.02464992454259755,
          0.11477845579379996,
          0.02578129020264879,
          0.059785844380055915,
          0.0032889383278636203,
          7.429326719427987E-4,
          5.844185321620977E-4,
          0.006583505160010306,
          0.006126092033390269,
          0.01739068071720127,
          4.6958295217441123E-5,
          0.05517397693927489,
          0.01394265280118658,
          0.06185524212967058,
          0.04811091082992979,
          0.025120709637378703,
          0.05590358675367817,
          0.014542111995021634,
          0.33904931680079065,
          0.10304837101562858,
          0.05657273498717124,
          0.054876265148331375,
          0.14100259568852302,
          0.05409385607760811,
          0.01608797770702337,
          0.007757641900977357,
          0.03886057934391028,
          0.1287754687149753,
          0.011401105535608339,
          0.025120709637378703,
          0.015349232249382198,
          0.05241885718900283,
          0.004052046924302126,
          0.04610149743409814,
          0.10677417181022135,
          0.0011066352592141882,
          0.07635133533701823,
          0.18559184469871978,
          0.0015622729301015355,
          0.04366819104612585,
          0.008532152702602346,
          0.056506961985773894,
          4.824990456525079E-4,
          0.0019141206403700498,
          0.30508365610043814,
          0.07117277509560237,
          0.09909914358335778,
          0.11908490214367008,
          0.0840804503725852,
          0.05287823367286425,
          0.06961518368888497,
          0.002293994501233168,
          0.12735038310341804,
          0.013306913669463225,
          0.02400947185882379,
          0.08183932238787116,
          0.04590636171732242,
          0.025120709637378703,
          0.03736538404954485,
          0.1410193669657959,
          0.0010224564509427809,
          7.424084694384388E-4,
          0.0014702545719533168,
          0.15143399705413138,
          0.025120709637378703,
          0.014710466408697824,
          0.025120709637378703,
          0.025120709637378703,
          0.03256108411141996,
          0.025120709637378703,
          0.025120709637378703
         ],
         "yaxis": "y",
         "type": "scatter"
        },
        {
         "hovertemplate": "<b>OLS trendline</b><br>Gross = 0.0571396 * IMDB_Rating + 0.0528638<br>R<sup>2</sup>=0.007313<br><br>IMDB_Rating=%{x}<br>Gross=%{y} <b>(trend)</b><extra></extra>",
         "legendgroup": "",
         "marker": {
          "color": "#636efa",
          "symbol": "circle"
         },
         "mode": "lines",
         "name": "",
         "showlegend": false,
         "x": [
          0.0,
          0.0,
          0.0,
          0.0,
          0.0,
          0.0,
          0.0,
          0.0,
          0.0,
          0.0,
          0.0,
          0.0,
          0.0,
          0.0,
          0.0,
          0.0,
          0.0,
          0.0,
          0.0,
          0.0,
          0.0,
          0.0,
          0.0,
          0.0,
          0.0,
          0.0,
          0.0,
          0.0,
          0.0,
          0.0,
          0.0,
          0.0,
          0.0,
          0.0,
          0.0,
          0.0,
          0.0,
          0.0,
          0.0,
          0.0,
          0.0,
          0.0,
          0.0,
          0.0,
          0.0,
          0.0,
          0.0,
          0.0,
          0.0,
          0.0,
          0.0,
          0.0,
          0.0,
          0.0,
          0.0,
          0.0,
          0.0,
          0.0,
          0.0,
          0.0,
          0.0,
          0.0,
          0.0,
          0.0,
          0.0,
          0.0,
          0.0,
          0.0,
          0.0,
          0.0,
          0.0,
          0.0,
          0.0,
          0.0,
          0.0,
          0.0,
          0.0,
          0.0,
          0.0,
          0.0,
          0.0,
          0.0,
          0.0,
          0.0,
          0.0,
          0.0,
          0.0,
          0.0,
          0.0,
          0.0,
          0.0,
          0.0,
          0.0,
          0.0,
          0.0,
          0.0,
          0.0,
          0.0,
          0.0,
          0.0,
          0.0,
          0.0,
          0.0,
          0.0,
          0.0,
          0.0,
          0.0,
          0.0,
          0.0,
          0.0,
          0.0,
          0.0,
          0.0,
          0.0,
          0.0,
          0.0,
          0.0,
          0.0,
          0.0,
          0.0,
          0.0,
          0.0,
          0.0,
          0.058823529411765385,
          0.058823529411765385,
          0.058823529411765385,
          0.058823529411765385,
          0.058823529411765385,
          0.058823529411765385,
          0.058823529411765385,
          0.058823529411765385,
          0.058823529411765385,
          0.058823529411765385,
          0.058823529411765385,
          0.058823529411765385,
          0.058823529411765385,
          0.058823529411765385,
          0.058823529411765385,
          0.058823529411765385,
          0.058823529411765385,
          0.058823529411765385,
          0.058823529411765385,
          0.058823529411765385,
          0.058823529411765385,
          0.058823529411765385,
          0.058823529411765385,
          0.058823529411765385,
          0.058823529411765385,
          0.058823529411765385,
          0.058823529411765385,
          0.058823529411765385,
          0.058823529411765385,
          0.058823529411765385,
          0.058823529411765385,
          0.058823529411765385,
          0.058823529411765385,
          0.058823529411765385,
          0.058823529411765385,
          0.058823529411765385,
          0.058823529411765385,
          0.058823529411765385,
          0.058823529411765385,
          0.058823529411765385,
          0.058823529411765385,
          0.058823529411765385,
          0.058823529411765385,
          0.058823529411765385,
          0.058823529411765385,
          0.058823529411765385,
          0.058823529411765385,
          0.058823529411765385,
          0.058823529411765385,
          0.058823529411765385,
          0.058823529411765385,
          0.058823529411765385,
          0.058823529411765385,
          0.058823529411765385,
          0.058823529411765385,
          0.058823529411765385,
          0.058823529411765385,
          0.058823529411765385,
          0.058823529411765385,
          0.058823529411765385,
          0.058823529411765385,
          0.058823529411765385,
          0.058823529411765385,
          0.058823529411765385,
          0.058823529411765385,
          0.058823529411765385,
          0.058823529411765385,
          0.058823529411765385,
          0.058823529411765385,
          0.058823529411765385,
          0.058823529411765385,
          0.058823529411765385,
          0.058823529411765385,
          0.058823529411765385,
          0.058823529411765385,
          0.058823529411765385,
          0.058823529411765385,
          0.058823529411765385,
          0.058823529411765385,
          0.058823529411765385,
          0.058823529411765385,
          0.058823529411765385,
          0.058823529411765385,
          0.058823529411765385,
          0.058823529411765385,
          0.058823529411765385,
          0.058823529411765385,
          0.058823529411765385,
          0.058823529411765385,
          0.058823529411765385,
          0.058823529411765385,
          0.058823529411765385,
          0.058823529411765385,
          0.058823529411765385,
          0.058823529411765385,
          0.058823529411765385,
          0.058823529411765385,
          0.058823529411765385,
          0.058823529411765385,
          0.058823529411765385,
          0.058823529411765385,
          0.058823529411765385,
          0.058823529411765385,
          0.058823529411765385,
          0.058823529411765385,
          0.058823529411765385,
          0.058823529411765385,
          0.058823529411765385,
          0.058823529411765385,
          0.058823529411765385,
          0.058823529411765385,
          0.058823529411765385,
          0.058823529411765385,
          0.058823529411765385,
          0.058823529411765385,
          0.058823529411765385,
          0.058823529411765385,
          0.058823529411765385,
          0.058823529411765385,
          0.058823529411765385,
          0.058823529411765385,
          0.058823529411765385,
          0.058823529411765385,
          0.058823529411765385,
          0.058823529411765385,
          0.058823529411765385,
          0.058823529411765385,
          0.058823529411765385,
          0.058823529411765385,
          0.058823529411765385,
          0.058823529411765385,
          0.058823529411765385,
          0.058823529411765385,
          0.058823529411765385,
          0.058823529411765385,
          0.058823529411765385,
          0.058823529411765385,
          0.058823529411765385,
          0.058823529411765385,
          0.058823529411765385,
          0.058823529411765385,
          0.058823529411765385,
          0.058823529411765385,
          0.058823529411765385,
          0.058823529411765385,
          0.058823529411765385,
          0.058823529411765385,
          0.058823529411765385,
          0.058823529411765385,
          0.058823529411765385,
          0.058823529411765385,
          0.058823529411765385,
          0.058823529411765385,
          0.058823529411765385,
          0.058823529411765385,
          0.058823529411765385,
          0.058823529411765385,
          0.117647058823529,
          0.117647058823529,
          0.117647058823529,
          0.117647058823529,
          0.117647058823529,
          0.117647058823529,
          0.117647058823529,
          0.117647058823529,
          0.117647058823529,
          0.117647058823529,
          0.117647058823529,
          0.117647058823529,
          0.117647058823529,
          0.117647058823529,
          0.117647058823529,
          0.117647058823529,
          0.117647058823529,
          0.117647058823529,
          0.117647058823529,
          0.117647058823529,
          0.117647058823529,
          0.117647058823529,
          0.117647058823529,
          0.117647058823529,
          0.117647058823529,
          0.117647058823529,
          0.117647058823529,
          0.117647058823529,
          0.117647058823529,
          0.117647058823529,
          0.117647058823529,
          0.117647058823529,
          0.117647058823529,
          0.117647058823529,
          0.117647058823529,
          0.117647058823529,
          0.117647058823529,
          0.117647058823529,
          0.117647058823529,
          0.117647058823529,
          0.117647058823529,
          0.117647058823529,
          0.117647058823529,
          0.117647058823529,
          0.117647058823529,
          0.117647058823529,
          0.117647058823529,
          0.117647058823529,
          0.117647058823529,
          0.117647058823529,
          0.117647058823529,
          0.117647058823529,
          0.117647058823529,
          0.117647058823529,
          0.117647058823529,
          0.117647058823529,
          0.117647058823529,
          0.117647058823529,
          0.117647058823529,
          0.117647058823529,
          0.117647058823529,
          0.117647058823529,
          0.117647058823529,
          0.117647058823529,
          0.117647058823529,
          0.117647058823529,
          0.117647058823529,
          0.117647058823529,
          0.117647058823529,
          0.117647058823529,
          0.117647058823529,
          0.117647058823529,
          0.117647058823529,
          0.117647058823529,
          0.117647058823529,
          0.117647058823529,
          0.117647058823529,
          0.117647058823529,
          0.117647058823529,
          0.117647058823529,
          0.117647058823529,
          0.117647058823529,
          0.117647058823529,
          0.117647058823529,
          0.117647058823529,
          0.117647058823529,
          0.117647058823529,
          0.117647058823529,
          0.117647058823529,
          0.117647058823529,
          0.117647058823529,
          0.117647058823529,
          0.117647058823529,
          0.117647058823529,
          0.117647058823529,
          0.117647058823529,
          0.117647058823529,
          0.117647058823529,
          0.117647058823529,
          0.117647058823529,
          0.117647058823529,
          0.117647058823529,
          0.117647058823529,
          0.117647058823529,
          0.117647058823529,
          0.117647058823529,
          0.117647058823529,
          0.117647058823529,
          0.117647058823529,
          0.117647058823529,
          0.117647058823529,
          0.117647058823529,
          0.117647058823529,
          0.117647058823529,
          0.117647058823529,
          0.117647058823529,
          0.117647058823529,
          0.117647058823529,
          0.117647058823529,
          0.117647058823529,
          0.117647058823529,
          0.117647058823529,
          0.117647058823529,
          0.117647058823529,
          0.117647058823529,
          0.117647058823529,
          0.117647058823529,
          0.117647058823529,
          0.117647058823529,
          0.117647058823529,
          0.117647058823529,
          0.117647058823529,
          0.117647058823529,
          0.117647058823529,
          0.117647058823529,
          0.117647058823529,
          0.117647058823529,
          0.117647058823529,
          0.117647058823529,
          0.117647058823529,
          0.117647058823529,
          0.117647058823529,
          0.117647058823529,
          0.117647058823529,
          0.117647058823529,
          0.117647058823529,
          0.117647058823529,
          0.117647058823529,
          0.117647058823529,
          0.117647058823529,
          0.117647058823529,
          0.17647058823529438,
          0.17647058823529438,
          0.17647058823529438,
          0.17647058823529438,
          0.17647058823529438,
          0.17647058823529438,
          0.17647058823529438,
          0.17647058823529438,
          0.17647058823529438,
          0.17647058823529438,
          0.17647058823529438,
          0.17647058823529438,
          0.17647058823529438,
          0.17647058823529438,
          0.17647058823529438,
          0.17647058823529438,
          0.17647058823529438,
          0.17647058823529438,
          0.17647058823529438,
          0.17647058823529438,
          0.17647058823529438,
          0.17647058823529438,
          0.17647058823529438,
          0.17647058823529438,
          0.17647058823529438,
          0.17647058823529438,
          0.17647058823529438,
          0.17647058823529438,
          0.17647058823529438,
          0.17647058823529438,
          0.17647058823529438,
          0.17647058823529438,
          0.17647058823529438,
          0.17647058823529438,
          0.17647058823529438,
          0.17647058823529438,
          0.17647058823529438,
          0.17647058823529438,
          0.17647058823529438,
          0.17647058823529438,
          0.17647058823529438,
          0.17647058823529438,
          0.17647058823529438,
          0.17647058823529438,
          0.17647058823529438,
          0.17647058823529438,
          0.17647058823529438,
          0.17647058823529438,
          0.17647058823529438,
          0.17647058823529438,
          0.17647058823529438,
          0.17647058823529438,
          0.17647058823529438,
          0.17647058823529438,
          0.17647058823529438,
          0.17647058823529438,
          0.17647058823529438,
          0.17647058823529438,
          0.17647058823529438,
          0.17647058823529438,
          0.17647058823529438,
          0.17647058823529438,
          0.17647058823529438,
          0.17647058823529438,
          0.17647058823529438,
          0.17647058823529438,
          0.17647058823529438,
          0.17647058823529438,
          0.17647058823529438,
          0.17647058823529438,
          0.17647058823529438,
          0.17647058823529438,
          0.17647058823529438,
          0.17647058823529438,
          0.17647058823529438,
          0.17647058823529438,
          0.17647058823529438,
          0.17647058823529438,
          0.17647058823529438,
          0.17647058823529438,
          0.17647058823529438,
          0.17647058823529438,
          0.17647058823529438,
          0.17647058823529438,
          0.17647058823529438,
          0.17647058823529438,
          0.17647058823529438,
          0.17647058823529438,
          0.17647058823529438,
          0.17647058823529438,
          0.17647058823529438,
          0.17647058823529438,
          0.17647058823529438,
          0.17647058823529438,
          0.17647058823529438,
          0.17647058823529438,
          0.17647058823529438,
          0.17647058823529438,
          0.17647058823529438,
          0.17647058823529438,
          0.17647058823529438,
          0.17647058823529438,
          0.17647058823529438,
          0.17647058823529438,
          0.17647058823529438,
          0.17647058823529438,
          0.23529411764705888,
          0.23529411764705888,
          0.23529411764705888,
          0.23529411764705888,
          0.23529411764705888,
          0.23529411764705888,
          0.23529411764705888,
          0.23529411764705888,
          0.23529411764705888,
          0.23529411764705888,
          0.23529411764705888,
          0.23529411764705888,
          0.23529411764705888,
          0.23529411764705888,
          0.23529411764705888,
          0.23529411764705888,
          0.23529411764705888,
          0.23529411764705888,
          0.23529411764705888,
          0.23529411764705888,
          0.23529411764705888,
          0.23529411764705888,
          0.23529411764705888,
          0.23529411764705888,
          0.23529411764705888,
          0.23529411764705888,
          0.23529411764705888,
          0.23529411764705888,
          0.23529411764705888,
          0.23529411764705888,
          0.23529411764705888,
          0.23529411764705888,
          0.23529411764705888,
          0.23529411764705888,
          0.23529411764705888,
          0.23529411764705888,
          0.23529411764705888,
          0.23529411764705888,
          0.23529411764705888,
          0.23529411764705888,
          0.23529411764705888,
          0.23529411764705888,
          0.23529411764705888,
          0.23529411764705888,
          0.23529411764705888,
          0.23529411764705888,
          0.23529411764705888,
          0.23529411764705888,
          0.23529411764705888,
          0.23529411764705888,
          0.23529411764705888,
          0.23529411764705888,
          0.23529411764705888,
          0.23529411764705888,
          0.23529411764705888,
          0.23529411764705888,
          0.23529411764705888,
          0.23529411764705888,
          0.23529411764705888,
          0.23529411764705888,
          0.23529411764705888,
          0.23529411764705888,
          0.23529411764705888,
          0.23529411764705888,
          0.23529411764705888,
          0.23529411764705888,
          0.23529411764705888,
          0.23529411764705888,
          0.23529411764705888,
          0.23529411764705888,
          0.23529411764705888,
          0.23529411764705888,
          0.23529411764705888,
          0.23529411764705888,
          0.23529411764705888,
          0.23529411764705888,
          0.23529411764705888,
          0.23529411764705888,
          0.23529411764705888,
          0.23529411764705888,
          0.23529411764705888,
          0.23529411764705888,
          0.23529411764705888,
          0.23529411764705888,
          0.23529411764705888,
          0.23529411764705888,
          0.23529411764705888,
          0.23529411764705888,
          0.23529411764705888,
          0.23529411764705888,
          0.23529411764705888,
          0.23529411764705888,
          0.23529411764705888,
          0.23529411764705888,
          0.23529411764705888,
          0.23529411764705888,
          0.23529411764705888,
          0.23529411764705888,
          0.23529411764705888,
          0.23529411764705888,
          0.23529411764705888,
          0.23529411764705888,
          0.23529411764705888,
          0.23529411764705888,
          0.23529411764705888,
          0.23529411764705888,
          0.23529411764705888,
          0.23529411764705888,
          0.23529411764705888,
          0.23529411764705888,
          0.23529411764705888,
          0.23529411764705888,
          0.23529411764705888,
          0.23529411764705888,
          0.23529411764705888,
          0.23529411764705888,
          0.23529411764705888,
          0.23529411764705888,
          0.23529411764705888,
          0.23529411764705888,
          0.23529411764705888,
          0.23529411764705888,
          0.23529411764705888,
          0.23529411764705888,
          0.23529411764705888,
          0.23529411764705888,
          0.23529411764705888,
          0.23529411764705888,
          0.23529411764705888,
          0.23529411764705888,
          0.23529411764705888,
          0.23529411764705888,
          0.23529411764705888,
          0.23529411764705888,
          0.23529411764705888,
          0.23529411764705888,
          0.23529411764705888,
          0.23529411764705888,
          0.23529411764705888,
          0.23529411764705888,
          0.23529411764705888,
          0.2941176470588234,
          0.2941176470588234,
          0.2941176470588234,
          0.2941176470588234,
          0.2941176470588234,
          0.2941176470588234,
          0.2941176470588234,
          0.2941176470588234,
          0.2941176470588234,
          0.2941176470588234,
          0.2941176470588234,
          0.2941176470588234,
          0.2941176470588234,
          0.2941176470588234,
          0.2941176470588234,
          0.2941176470588234,
          0.2941176470588234,
          0.2941176470588234,
          0.2941176470588234,
          0.2941176470588234,
          0.2941176470588234,
          0.2941176470588234,
          0.2941176470588234,
          0.2941176470588234,
          0.2941176470588234,
          0.2941176470588234,
          0.2941176470588234,
          0.2941176470588234,
          0.2941176470588234,
          0.2941176470588234,
          0.2941176470588234,
          0.2941176470588234,
          0.2941176470588234,
          0.2941176470588234,
          0.2941176470588234,
          0.2941176470588234,
          0.2941176470588234,
          0.2941176470588234,
          0.2941176470588234,
          0.2941176470588234,
          0.2941176470588234,
          0.2941176470588234,
          0.2941176470588234,
          0.2941176470588234,
          0.2941176470588234,
          0.2941176470588234,
          0.2941176470588234,
          0.2941176470588234,
          0.2941176470588234,
          0.2941176470588234,
          0.2941176470588234,
          0.2941176470588234,
          0.2941176470588234,
          0.2941176470588234,
          0.2941176470588234,
          0.2941176470588234,
          0.2941176470588234,
          0.2941176470588234,
          0.2941176470588234,
          0.2941176470588234,
          0.2941176470588234,
          0.2941176470588234,
          0.2941176470588234,
          0.2941176470588234,
          0.2941176470588234,
          0.2941176470588234,
          0.2941176470588234,
          0.2941176470588234,
          0.2941176470588234,
          0.2941176470588234,
          0.2941176470588234,
          0.2941176470588234,
          0.2941176470588234,
          0.2941176470588234,
          0.2941176470588234,
          0.2941176470588234,
          0.2941176470588234,
          0.2941176470588234,
          0.2941176470588234,
          0.2941176470588234,
          0.2941176470588234,
          0.2941176470588234,
          0.2941176470588234,
          0.2941176470588234,
          0.2941176470588234,
          0.2941176470588234,
          0.2941176470588234,
          0.2941176470588234,
          0.2941176470588234,
          0.2941176470588234,
          0.2941176470588234,
          0.2941176470588234,
          0.2941176470588234,
          0.2941176470588234,
          0.2941176470588234,
          0.2941176470588234,
          0.2941176470588234,
          0.2941176470588234,
          0.2941176470588234,
          0.2941176470588234,
          0.2941176470588234,
          0.2941176470588234,
          0.2941176470588234,
          0.2941176470588234,
          0.2941176470588234,
          0.2941176470588234,
          0.2941176470588234,
          0.2941176470588234,
          0.2941176470588234,
          0.2941176470588234,
          0.2941176470588234,
          0.2941176470588234,
          0.2941176470588234,
          0.2941176470588234,
          0.2941176470588234,
          0.2941176470588234,
          0.2941176470588234,
          0.2941176470588234,
          0.2941176470588234,
          0.2941176470588234,
          0.2941176470588234,
          0.2941176470588234,
          0.2941176470588234,
          0.2941176470588234,
          0.2941176470588234,
          0.2941176470588234,
          0.2941176470588234,
          0.35294117647058787,
          0.35294117647058787,
          0.35294117647058787,
          0.35294117647058787,
          0.35294117647058787,
          0.35294117647058787,
          0.35294117647058787,
          0.35294117647058787,
          0.35294117647058787,
          0.35294117647058787,
          0.35294117647058787,
          0.35294117647058787,
          0.35294117647058787,
          0.35294117647058787,
          0.35294117647058787,
          0.35294117647058787,
          0.35294117647058787,
          0.35294117647058787,
          0.35294117647058787,
          0.35294117647058787,
          0.35294117647058787,
          0.35294117647058787,
          0.35294117647058787,
          0.35294117647058787,
          0.35294117647058787,
          0.35294117647058787,
          0.35294117647058787,
          0.35294117647058787,
          0.35294117647058787,
          0.35294117647058787,
          0.35294117647058787,
          0.35294117647058787,
          0.35294117647058787,
          0.35294117647058787,
          0.35294117647058787,
          0.35294117647058787,
          0.35294117647058787,
          0.35294117647058787,
          0.35294117647058787,
          0.35294117647058787,
          0.35294117647058787,
          0.35294117647058787,
          0.35294117647058787,
          0.35294117647058787,
          0.35294117647058787,
          0.35294117647058787,
          0.35294117647058787,
          0.35294117647058787,
          0.35294117647058787,
          0.35294117647058787,
          0.35294117647058787,
          0.35294117647058787,
          0.35294117647058787,
          0.35294117647058787,
          0.35294117647058787,
          0.35294117647058787,
          0.35294117647058787,
          0.35294117647058787,
          0.35294117647058787,
          0.35294117647058787,
          0.35294117647058787,
          0.35294117647058787,
          0.35294117647058787,
          0.35294117647058787,
          0.35294117647058787,
          0.35294117647058787,
          0.35294117647058787,
          0.41176470588235325,
          0.41176470588235325,
          0.41176470588235325,
          0.41176470588235325,
          0.41176470588235325,
          0.41176470588235325,
          0.41176470588235325,
          0.41176470588235325,
          0.41176470588235325,
          0.41176470588235325,
          0.41176470588235325,
          0.41176470588235325,
          0.41176470588235325,
          0.41176470588235325,
          0.41176470588235325,
          0.41176470588235325,
          0.41176470588235325,
          0.41176470588235325,
          0.41176470588235325,
          0.41176470588235325,
          0.41176470588235325,
          0.41176470588235325,
          0.41176470588235325,
          0.41176470588235325,
          0.41176470588235325,
          0.41176470588235325,
          0.41176470588235325,
          0.41176470588235325,
          0.41176470588235325,
          0.41176470588235325,
          0.41176470588235325,
          0.41176470588235325,
          0.41176470588235325,
          0.41176470588235325,
          0.41176470588235325,
          0.41176470588235325,
          0.41176470588235325,
          0.41176470588235325,
          0.41176470588235325,
          0.41176470588235325,
          0.41176470588235325,
          0.41176470588235325,
          0.41176470588235325,
          0.41176470588235325,
          0.47058823529411775,
          0.47058823529411775,
          0.47058823529411775,
          0.47058823529411775,
          0.47058823529411775,
          0.47058823529411775,
          0.47058823529411775,
          0.47058823529411775,
          0.47058823529411775,
          0.47058823529411775,
          0.47058823529411775,
          0.47058823529411775,
          0.47058823529411775,
          0.47058823529411775,
          0.47058823529411775,
          0.47058823529411775,
          0.47058823529411775,
          0.47058823529411775,
          0.47058823529411775,
          0.47058823529411775,
          0.47058823529411775,
          0.47058823529411775,
          0.47058823529411775,
          0.47058823529411775,
          0.47058823529411775,
          0.47058823529411775,
          0.47058823529411775,
          0.47058823529411775,
          0.47058823529411775,
          0.47058823529411775,
          0.47058823529411775,
          0.5294117647058822,
          0.5294117647058822,
          0.5294117647058822,
          0.5294117647058822,
          0.5294117647058822,
          0.5294117647058822,
          0.5294117647058822,
          0.5294117647058822,
          0.5294117647058822,
          0.5294117647058822,
          0.5294117647058822,
          0.5294117647058822,
          0.5294117647058822,
          0.5294117647058822,
          0.5294117647058822,
          0.5294117647058822,
          0.5294117647058822,
          0.5294117647058822,
          0.5294117647058822,
          0.5294117647058822,
          0.5882352941176467,
          0.5882352941176467,
          0.5882352941176467,
          0.5882352941176467,
          0.5882352941176467,
          0.5882352941176467,
          0.5882352941176467,
          0.5882352941176467,
          0.5882352941176467,
          0.5882352941176467,
          0.5882352941176467,
          0.5882352941176467,
          0.5882352941176467,
          0.5882352941176467,
          0.5882352941176467,
          0.6470588235294112,
          0.6470588235294112,
          0.6470588235294112,
          0.6470588235294112,
          0.6470588235294112,
          0.7058823529411766,
          0.7058823529411766,
          0.7058823529411766,
          0.7058823529411766,
          0.7058823529411766,
          0.7647058823529411,
          0.7647058823529411,
          0.7647058823529411,
          0.8235294117647056,
          0.8235294117647056,
          0.8235294117647056,
          0.9411764705882346,
          1.0
         ],
         "xaxis": "x",
         "y": [
          0.052863762788960725,
          0.052863762788960725,
          0.052863762788960725,
          0.052863762788960725,
          0.052863762788960725,
          0.052863762788960725,
          0.052863762788960725,
          0.052863762788960725,
          0.052863762788960725,
          0.052863762788960725,
          0.052863762788960725,
          0.052863762788960725,
          0.052863762788960725,
          0.052863762788960725,
          0.052863762788960725,
          0.052863762788960725,
          0.052863762788960725,
          0.052863762788960725,
          0.052863762788960725,
          0.052863762788960725,
          0.052863762788960725,
          0.052863762788960725,
          0.052863762788960725,
          0.052863762788960725,
          0.052863762788960725,
          0.052863762788960725,
          0.052863762788960725,
          0.052863762788960725,
          0.052863762788960725,
          0.052863762788960725,
          0.052863762788960725,
          0.052863762788960725,
          0.052863762788960725,
          0.052863762788960725,
          0.052863762788960725,
          0.052863762788960725,
          0.052863762788960725,
          0.052863762788960725,
          0.052863762788960725,
          0.052863762788960725,
          0.052863762788960725,
          0.052863762788960725,
          0.052863762788960725,
          0.052863762788960725,
          0.052863762788960725,
          0.052863762788960725,
          0.052863762788960725,
          0.052863762788960725,
          0.052863762788960725,
          0.052863762788960725,
          0.052863762788960725,
          0.052863762788960725,
          0.052863762788960725,
          0.052863762788960725,
          0.052863762788960725,
          0.052863762788960725,
          0.052863762788960725,
          0.052863762788960725,
          0.052863762788960725,
          0.052863762788960725,
          0.052863762788960725,
          0.052863762788960725,
          0.052863762788960725,
          0.052863762788960725,
          0.052863762788960725,
          0.052863762788960725,
          0.052863762788960725,
          0.052863762788960725,
          0.052863762788960725,
          0.052863762788960725,
          0.052863762788960725,
          0.052863762788960725,
          0.052863762788960725,
          0.052863762788960725,
          0.052863762788960725,
          0.052863762788960725,
          0.052863762788960725,
          0.052863762788960725,
          0.052863762788960725,
          0.052863762788960725,
          0.052863762788960725,
          0.052863762788960725,
          0.052863762788960725,
          0.052863762788960725,
          0.052863762788960725,
          0.052863762788960725,
          0.052863762788960725,
          0.052863762788960725,
          0.052863762788960725,
          0.052863762788960725,
          0.052863762788960725,
          0.052863762788960725,
          0.052863762788960725,
          0.052863762788960725,
          0.052863762788960725,
          0.052863762788960725,
          0.052863762788960725,
          0.052863762788960725,
          0.052863762788960725,
          0.052863762788960725,
          0.052863762788960725,
          0.052863762788960725,
          0.052863762788960725,
          0.052863762788960725,
          0.052863762788960725,
          0.052863762788960725,
          0.052863762788960725,
          0.052863762788960725,
          0.052863762788960725,
          0.052863762788960725,
          0.052863762788960725,
          0.052863762788960725,
          0.052863762788960725,
          0.052863762788960725,
          0.052863762788960725,
          0.052863762788960725,
          0.052863762788960725,
          0.052863762788960725,
          0.052863762788960725,
          0.052863762788960725,
          0.052863762788960725,
          0.052863762788960725,
          0.052863762788960725,
          0.05622491534446446,
          0.05622491534446446,
          0.05622491534446446,
          0.05622491534446446,
          0.05622491534446446,
          0.05622491534446446,
          0.05622491534446446,
          0.05622491534446446,
          0.05622491534446446,
          0.05622491534446446,
          0.05622491534446446,
          0.05622491534446446,
          0.05622491534446446,
          0.05622491534446446,
          0.05622491534446446,
          0.05622491534446446,
          0.05622491534446446,
          0.05622491534446446,
          0.05622491534446446,
          0.05622491534446446,
          0.05622491534446446,
          0.05622491534446446,
          0.05622491534446446,
          0.05622491534446446,
          0.05622491534446446,
          0.05622491534446446,
          0.05622491534446446,
          0.05622491534446446,
          0.05622491534446446,
          0.05622491534446446,
          0.05622491534446446,
          0.05622491534446446,
          0.05622491534446446,
          0.05622491534446446,
          0.05622491534446446,
          0.05622491534446446,
          0.05622491534446446,
          0.05622491534446446,
          0.05622491534446446,
          0.05622491534446446,
          0.05622491534446446,
          0.05622491534446446,
          0.05622491534446446,
          0.05622491534446446,
          0.05622491534446446,
          0.05622491534446446,
          0.05622491534446446,
          0.05622491534446446,
          0.05622491534446446,
          0.05622491534446446,
          0.05622491534446446,
          0.05622491534446446,
          0.05622491534446446,
          0.05622491534446446,
          0.05622491534446446,
          0.05622491534446446,
          0.05622491534446446,
          0.05622491534446446,
          0.05622491534446446,
          0.05622491534446446,
          0.05622491534446446,
          0.05622491534446446,
          0.05622491534446446,
          0.05622491534446446,
          0.05622491534446446,
          0.05622491534446446,
          0.05622491534446446,
          0.05622491534446446,
          0.05622491534446446,
          0.05622491534446446,
          0.05622491534446446,
          0.05622491534446446,
          0.05622491534446446,
          0.05622491534446446,
          0.05622491534446446,
          0.05622491534446446,
          0.05622491534446446,
          0.05622491534446446,
          0.05622491534446446,
          0.05622491534446446,
          0.05622491534446446,
          0.05622491534446446,
          0.05622491534446446,
          0.05622491534446446,
          0.05622491534446446,
          0.05622491534446446,
          0.05622491534446446,
          0.05622491534446446,
          0.05622491534446446,
          0.05622491534446446,
          0.05622491534446446,
          0.05622491534446446,
          0.05622491534446446,
          0.05622491534446446,
          0.05622491534446446,
          0.05622491534446446,
          0.05622491534446446,
          0.05622491534446446,
          0.05622491534446446,
          0.05622491534446446,
          0.05622491534446446,
          0.05622491534446446,
          0.05622491534446446,
          0.05622491534446446,
          0.05622491534446446,
          0.05622491534446446,
          0.05622491534446446,
          0.05622491534446446,
          0.05622491534446446,
          0.05622491534446446,
          0.05622491534446446,
          0.05622491534446446,
          0.05622491534446446,
          0.05622491534446446,
          0.05622491534446446,
          0.05622491534446446,
          0.05622491534446446,
          0.05622491534446446,
          0.05622491534446446,
          0.05622491534446446,
          0.05622491534446446,
          0.05622491534446446,
          0.05622491534446446,
          0.05622491534446446,
          0.05622491534446446,
          0.05622491534446446,
          0.05622491534446446,
          0.05622491534446446,
          0.05622491534446446,
          0.05622491534446446,
          0.05622491534446446,
          0.05622491534446446,
          0.05622491534446446,
          0.05622491534446446,
          0.05622491534446446,
          0.05622491534446446,
          0.05622491534446446,
          0.05622491534446446,
          0.05622491534446446,
          0.05622491534446446,
          0.05622491534446446,
          0.05622491534446446,
          0.05622491534446446,
          0.05622491534446446,
          0.05622491534446446,
          0.05622491534446446,
          0.05622491534446446,
          0.05622491534446446,
          0.05622491534446446,
          0.05622491534446446,
          0.05622491534446446,
          0.05622491534446446,
          0.05622491534446446,
          0.05622491534446446,
          0.05622491534446446,
          0.05622491534446446,
          0.05622491534446446,
          0.05958606789996809,
          0.05958606789996809,
          0.05958606789996809,
          0.05958606789996809,
          0.05958606789996809,
          0.05958606789996809,
          0.05958606789996809,
          0.05958606789996809,
          0.05958606789996809,
          0.05958606789996809,
          0.05958606789996809,
          0.05958606789996809,
          0.05958606789996809,
          0.05958606789996809,
          0.05958606789996809,
          0.05958606789996809,
          0.05958606789996809,
          0.05958606789996809,
          0.05958606789996809,
          0.05958606789996809,
          0.05958606789996809,
          0.05958606789996809,
          0.05958606789996809,
          0.05958606789996809,
          0.05958606789996809,
          0.05958606789996809,
          0.05958606789996809,
          0.05958606789996809,
          0.05958606789996809,
          0.05958606789996809,
          0.05958606789996809,
          0.05958606789996809,
          0.05958606789996809,
          0.05958606789996809,
          0.05958606789996809,
          0.05958606789996809,
          0.05958606789996809,
          0.05958606789996809,
          0.05958606789996809,
          0.05958606789996809,
          0.05958606789996809,
          0.05958606789996809,
          0.05958606789996809,
          0.05958606789996809,
          0.05958606789996809,
          0.05958606789996809,
          0.05958606789996809,
          0.05958606789996809,
          0.05958606789996809,
          0.05958606789996809,
          0.05958606789996809,
          0.05958606789996809,
          0.05958606789996809,
          0.05958606789996809,
          0.05958606789996809,
          0.05958606789996809,
          0.05958606789996809,
          0.05958606789996809,
          0.05958606789996809,
          0.05958606789996809,
          0.05958606789996809,
          0.05958606789996809,
          0.05958606789996809,
          0.05958606789996809,
          0.05958606789996809,
          0.05958606789996809,
          0.05958606789996809,
          0.05958606789996809,
          0.05958606789996809,
          0.05958606789996809,
          0.05958606789996809,
          0.05958606789996809,
          0.05958606789996809,
          0.05958606789996809,
          0.05958606789996809,
          0.05958606789996809,
          0.05958606789996809,
          0.05958606789996809,
          0.05958606789996809,
          0.05958606789996809,
          0.05958606789996809,
          0.05958606789996809,
          0.05958606789996809,
          0.05958606789996809,
          0.05958606789996809,
          0.05958606789996809,
          0.05958606789996809,
          0.05958606789996809,
          0.05958606789996809,
          0.05958606789996809,
          0.05958606789996809,
          0.05958606789996809,
          0.05958606789996809,
          0.05958606789996809,
          0.05958606789996809,
          0.05958606789996809,
          0.05958606789996809,
          0.05958606789996809,
          0.05958606789996809,
          0.05958606789996809,
          0.05958606789996809,
          0.05958606789996809,
          0.05958606789996809,
          0.05958606789996809,
          0.05958606789996809,
          0.05958606789996809,
          0.05958606789996809,
          0.05958606789996809,
          0.05958606789996809,
          0.05958606789996809,
          0.05958606789996809,
          0.05958606789996809,
          0.05958606789996809,
          0.05958606789996809,
          0.05958606789996809,
          0.05958606789996809,
          0.05958606789996809,
          0.05958606789996809,
          0.05958606789996809,
          0.05958606789996809,
          0.05958606789996809,
          0.05958606789996809,
          0.05958606789996809,
          0.05958606789996809,
          0.05958606789996809,
          0.05958606789996809,
          0.05958606789996809,
          0.05958606789996809,
          0.05958606789996809,
          0.05958606789996809,
          0.05958606789996809,
          0.05958606789996809,
          0.05958606789996809,
          0.05958606789996809,
          0.05958606789996809,
          0.05958606789996809,
          0.05958606789996809,
          0.05958606789996809,
          0.05958606789996809,
          0.05958606789996809,
          0.05958606789996809,
          0.05958606789996809,
          0.05958606789996809,
          0.05958606789996809,
          0.05958606789996809,
          0.05958606789996809,
          0.05958606789996809,
          0.05958606789996809,
          0.05958606789996809,
          0.05958606789996809,
          0.05958606789996809,
          0.06294722045547183,
          0.06294722045547183,
          0.06294722045547183,
          0.06294722045547183,
          0.06294722045547183,
          0.06294722045547183,
          0.06294722045547183,
          0.06294722045547183,
          0.06294722045547183,
          0.06294722045547183,
          0.06294722045547183,
          0.06294722045547183,
          0.06294722045547183,
          0.06294722045547183,
          0.06294722045547183,
          0.06294722045547183,
          0.06294722045547183,
          0.06294722045547183,
          0.06294722045547183,
          0.06294722045547183,
          0.06294722045547183,
          0.06294722045547183,
          0.06294722045547183,
          0.06294722045547183,
          0.06294722045547183,
          0.06294722045547183,
          0.06294722045547183,
          0.06294722045547183,
          0.06294722045547183,
          0.06294722045547183,
          0.06294722045547183,
          0.06294722045547183,
          0.06294722045547183,
          0.06294722045547183,
          0.06294722045547183,
          0.06294722045547183,
          0.06294722045547183,
          0.06294722045547183,
          0.06294722045547183,
          0.06294722045547183,
          0.06294722045547183,
          0.06294722045547183,
          0.06294722045547183,
          0.06294722045547183,
          0.06294722045547183,
          0.06294722045547183,
          0.06294722045547183,
          0.06294722045547183,
          0.06294722045547183,
          0.06294722045547183,
          0.06294722045547183,
          0.06294722045547183,
          0.06294722045547183,
          0.06294722045547183,
          0.06294722045547183,
          0.06294722045547183,
          0.06294722045547183,
          0.06294722045547183,
          0.06294722045547183,
          0.06294722045547183,
          0.06294722045547183,
          0.06294722045547183,
          0.06294722045547183,
          0.06294722045547183,
          0.06294722045547183,
          0.06294722045547183,
          0.06294722045547183,
          0.06294722045547183,
          0.06294722045547183,
          0.06294722045547183,
          0.06294722045547183,
          0.06294722045547183,
          0.06294722045547183,
          0.06294722045547183,
          0.06294722045547183,
          0.06294722045547183,
          0.06294722045547183,
          0.06294722045547183,
          0.06294722045547183,
          0.06294722045547183,
          0.06294722045547183,
          0.06294722045547183,
          0.06294722045547183,
          0.06294722045547183,
          0.06294722045547183,
          0.06294722045547183,
          0.06294722045547183,
          0.06294722045547183,
          0.06294722045547183,
          0.06294722045547183,
          0.06294722045547183,
          0.06294722045547183,
          0.06294722045547183,
          0.06294722045547183,
          0.06294722045547183,
          0.06294722045547183,
          0.06294722045547183,
          0.06294722045547183,
          0.06294722045547183,
          0.06294722045547183,
          0.06294722045547183,
          0.06294722045547183,
          0.06294722045547183,
          0.06294722045547183,
          0.06294722045547183,
          0.06294722045547183,
          0.06630837301097552,
          0.06630837301097552,
          0.06630837301097552,
          0.06630837301097552,
          0.06630837301097552,
          0.06630837301097552,
          0.06630837301097552,
          0.06630837301097552,
          0.06630837301097552,
          0.06630837301097552,
          0.06630837301097552,
          0.06630837301097552,
          0.06630837301097552,
          0.06630837301097552,
          0.06630837301097552,
          0.06630837301097552,
          0.06630837301097552,
          0.06630837301097552,
          0.06630837301097552,
          0.06630837301097552,
          0.06630837301097552,
          0.06630837301097552,
          0.06630837301097552,
          0.06630837301097552,
          0.06630837301097552,
          0.06630837301097552,
          0.06630837301097552,
          0.06630837301097552,
          0.06630837301097552,
          0.06630837301097552,
          0.06630837301097552,
          0.06630837301097552,
          0.06630837301097552,
          0.06630837301097552,
          0.06630837301097552,
          0.06630837301097552,
          0.06630837301097552,
          0.06630837301097552,
          0.06630837301097552,
          0.06630837301097552,
          0.06630837301097552,
          0.06630837301097552,
          0.06630837301097552,
          0.06630837301097552,
          0.06630837301097552,
          0.06630837301097552,
          0.06630837301097552,
          0.06630837301097552,
          0.06630837301097552,
          0.06630837301097552,
          0.06630837301097552,
          0.06630837301097552,
          0.06630837301097552,
          0.06630837301097552,
          0.06630837301097552,
          0.06630837301097552,
          0.06630837301097552,
          0.06630837301097552,
          0.06630837301097552,
          0.06630837301097552,
          0.06630837301097552,
          0.06630837301097552,
          0.06630837301097552,
          0.06630837301097552,
          0.06630837301097552,
          0.06630837301097552,
          0.06630837301097552,
          0.06630837301097552,
          0.06630837301097552,
          0.06630837301097552,
          0.06630837301097552,
          0.06630837301097552,
          0.06630837301097552,
          0.06630837301097552,
          0.06630837301097552,
          0.06630837301097552,
          0.06630837301097552,
          0.06630837301097552,
          0.06630837301097552,
          0.06630837301097552,
          0.06630837301097552,
          0.06630837301097552,
          0.06630837301097552,
          0.06630837301097552,
          0.06630837301097552,
          0.06630837301097552,
          0.06630837301097552,
          0.06630837301097552,
          0.06630837301097552,
          0.06630837301097552,
          0.06630837301097552,
          0.06630837301097552,
          0.06630837301097552,
          0.06630837301097552,
          0.06630837301097552,
          0.06630837301097552,
          0.06630837301097552,
          0.06630837301097552,
          0.06630837301097552,
          0.06630837301097552,
          0.06630837301097552,
          0.06630837301097552,
          0.06630837301097552,
          0.06630837301097552,
          0.06630837301097552,
          0.06630837301097552,
          0.06630837301097552,
          0.06630837301097552,
          0.06630837301097552,
          0.06630837301097552,
          0.06630837301097552,
          0.06630837301097552,
          0.06630837301097552,
          0.06630837301097552,
          0.06630837301097552,
          0.06630837301097552,
          0.06630837301097552,
          0.06630837301097552,
          0.06630837301097552,
          0.06630837301097552,
          0.06630837301097552,
          0.06630837301097552,
          0.06630837301097552,
          0.06630837301097552,
          0.06630837301097552,
          0.06630837301097552,
          0.06630837301097552,
          0.06630837301097552,
          0.06630837301097552,
          0.06630837301097552,
          0.06630837301097552,
          0.06630837301097552,
          0.06630837301097552,
          0.06630837301097552,
          0.06630837301097552,
          0.06630837301097552,
          0.06630837301097552,
          0.06630837301097552,
          0.06630837301097552,
          0.06630837301097552,
          0.06630837301097552,
          0.0696695255664792,
          0.0696695255664792,
          0.0696695255664792,
          0.0696695255664792,
          0.0696695255664792,
          0.0696695255664792,
          0.0696695255664792,
          0.0696695255664792,
          0.0696695255664792,
          0.0696695255664792,
          0.0696695255664792,
          0.0696695255664792,
          0.0696695255664792,
          0.0696695255664792,
          0.0696695255664792,
          0.0696695255664792,
          0.0696695255664792,
          0.0696695255664792,
          0.0696695255664792,
          0.0696695255664792,
          0.0696695255664792,
          0.0696695255664792,
          0.0696695255664792,
          0.0696695255664792,
          0.0696695255664792,
          0.0696695255664792,
          0.0696695255664792,
          0.0696695255664792,
          0.0696695255664792,
          0.0696695255664792,
          0.0696695255664792,
          0.0696695255664792,
          0.0696695255664792,
          0.0696695255664792,
          0.0696695255664792,
          0.0696695255664792,
          0.0696695255664792,
          0.0696695255664792,
          0.0696695255664792,
          0.0696695255664792,
          0.0696695255664792,
          0.0696695255664792,
          0.0696695255664792,
          0.0696695255664792,
          0.0696695255664792,
          0.0696695255664792,
          0.0696695255664792,
          0.0696695255664792,
          0.0696695255664792,
          0.0696695255664792,
          0.0696695255664792,
          0.0696695255664792,
          0.0696695255664792,
          0.0696695255664792,
          0.0696695255664792,
          0.0696695255664792,
          0.0696695255664792,
          0.0696695255664792,
          0.0696695255664792,
          0.0696695255664792,
          0.0696695255664792,
          0.0696695255664792,
          0.0696695255664792,
          0.0696695255664792,
          0.0696695255664792,
          0.0696695255664792,
          0.0696695255664792,
          0.0696695255664792,
          0.0696695255664792,
          0.0696695255664792,
          0.0696695255664792,
          0.0696695255664792,
          0.0696695255664792,
          0.0696695255664792,
          0.0696695255664792,
          0.0696695255664792,
          0.0696695255664792,
          0.0696695255664792,
          0.0696695255664792,
          0.0696695255664792,
          0.0696695255664792,
          0.0696695255664792,
          0.0696695255664792,
          0.0696695255664792,
          0.0696695255664792,
          0.0696695255664792,
          0.0696695255664792,
          0.0696695255664792,
          0.0696695255664792,
          0.0696695255664792,
          0.0696695255664792,
          0.0696695255664792,
          0.0696695255664792,
          0.0696695255664792,
          0.0696695255664792,
          0.0696695255664792,
          0.0696695255664792,
          0.0696695255664792,
          0.0696695255664792,
          0.0696695255664792,
          0.0696695255664792,
          0.0696695255664792,
          0.0696695255664792,
          0.0696695255664792,
          0.0696695255664792,
          0.0696695255664792,
          0.0696695255664792,
          0.0696695255664792,
          0.0696695255664792,
          0.0696695255664792,
          0.0696695255664792,
          0.0696695255664792,
          0.0696695255664792,
          0.0696695255664792,
          0.0696695255664792,
          0.0696695255664792,
          0.0696695255664792,
          0.0696695255664792,
          0.0696695255664792,
          0.0696695255664792,
          0.0696695255664792,
          0.0696695255664792,
          0.0696695255664792,
          0.0696695255664792,
          0.0696695255664792,
          0.0696695255664792,
          0.0696695255664792,
          0.07303067812198288,
          0.07303067812198288,
          0.07303067812198288,
          0.07303067812198288,
          0.07303067812198288,
          0.07303067812198288,
          0.07303067812198288,
          0.07303067812198288,
          0.07303067812198288,
          0.07303067812198288,
          0.07303067812198288,
          0.07303067812198288,
          0.07303067812198288,
          0.07303067812198288,
          0.07303067812198288,
          0.07303067812198288,
          0.07303067812198288,
          0.07303067812198288,
          0.07303067812198288,
          0.07303067812198288,
          0.07303067812198288,
          0.07303067812198288,
          0.07303067812198288,
          0.07303067812198288,
          0.07303067812198288,
          0.07303067812198288,
          0.07303067812198288,
          0.07303067812198288,
          0.07303067812198288,
          0.07303067812198288,
          0.07303067812198288,
          0.07303067812198288,
          0.07303067812198288,
          0.07303067812198288,
          0.07303067812198288,
          0.07303067812198288,
          0.07303067812198288,
          0.07303067812198288,
          0.07303067812198288,
          0.07303067812198288,
          0.07303067812198288,
          0.07303067812198288,
          0.07303067812198288,
          0.07303067812198288,
          0.07303067812198288,
          0.07303067812198288,
          0.07303067812198288,
          0.07303067812198288,
          0.07303067812198288,
          0.07303067812198288,
          0.07303067812198288,
          0.07303067812198288,
          0.07303067812198288,
          0.07303067812198288,
          0.07303067812198288,
          0.07303067812198288,
          0.07303067812198288,
          0.07303067812198288,
          0.07303067812198288,
          0.07303067812198288,
          0.07303067812198288,
          0.07303067812198288,
          0.07303067812198288,
          0.07303067812198288,
          0.07303067812198288,
          0.07303067812198288,
          0.07303067812198288,
          0.07639183067748662,
          0.07639183067748662,
          0.07639183067748662,
          0.07639183067748662,
          0.07639183067748662,
          0.07639183067748662,
          0.07639183067748662,
          0.07639183067748662,
          0.07639183067748662,
          0.07639183067748662,
          0.07639183067748662,
          0.07639183067748662,
          0.07639183067748662,
          0.07639183067748662,
          0.07639183067748662,
          0.07639183067748662,
          0.07639183067748662,
          0.07639183067748662,
          0.07639183067748662,
          0.07639183067748662,
          0.07639183067748662,
          0.07639183067748662,
          0.07639183067748662,
          0.07639183067748662,
          0.07639183067748662,
          0.07639183067748662,
          0.07639183067748662,
          0.07639183067748662,
          0.07639183067748662,
          0.07639183067748662,
          0.07639183067748662,
          0.07639183067748662,
          0.07639183067748662,
          0.07639183067748662,
          0.07639183067748662,
          0.07639183067748662,
          0.07639183067748662,
          0.07639183067748662,
          0.07639183067748662,
          0.07639183067748662,
          0.07639183067748662,
          0.07639183067748662,
          0.07639183067748662,
          0.07639183067748662,
          0.07975298323299031,
          0.07975298323299031,
          0.07975298323299031,
          0.07975298323299031,
          0.07975298323299031,
          0.07975298323299031,
          0.07975298323299031,
          0.07975298323299031,
          0.07975298323299031,
          0.07975298323299031,
          0.07975298323299031,
          0.07975298323299031,
          0.07975298323299031,
          0.07975298323299031,
          0.07975298323299031,
          0.07975298323299031,
          0.07975298323299031,
          0.07975298323299031,
          0.07975298323299031,
          0.07975298323299031,
          0.07975298323299031,
          0.07975298323299031,
          0.07975298323299031,
          0.07975298323299031,
          0.07975298323299031,
          0.07975298323299031,
          0.07975298323299031,
          0.07975298323299031,
          0.07975298323299031,
          0.07975298323299031,
          0.07975298323299031,
          0.08311413578849398,
          0.08311413578849398,
          0.08311413578849398,
          0.08311413578849398,
          0.08311413578849398,
          0.08311413578849398,
          0.08311413578849398,
          0.08311413578849398,
          0.08311413578849398,
          0.08311413578849398,
          0.08311413578849398,
          0.08311413578849398,
          0.08311413578849398,
          0.08311413578849398,
          0.08311413578849398,
          0.08311413578849398,
          0.08311413578849398,
          0.08311413578849398,
          0.08311413578849398,
          0.08311413578849398,
          0.08647528834399767,
          0.08647528834399767,
          0.08647528834399767,
          0.08647528834399767,
          0.08647528834399767,
          0.08647528834399767,
          0.08647528834399767,
          0.08647528834399767,
          0.08647528834399767,
          0.08647528834399767,
          0.08647528834399767,
          0.08647528834399767,
          0.08647528834399767,
          0.08647528834399767,
          0.08647528834399767,
          0.08983644089950135,
          0.08983644089950135,
          0.08983644089950135,
          0.08983644089950135,
          0.08983644089950135,
          0.09319759345500508,
          0.09319759345500508,
          0.09319759345500508,
          0.09319759345500508,
          0.09319759345500508,
          0.09655874601050878,
          0.09655874601050878,
          0.09655874601050878,
          0.09991989856601247,
          0.09991989856601247,
          0.09991989856601247,
          0.10664220367701983,
          0.11000335623252357
         ],
         "yaxis": "y",
         "type": "scatter"
        }
       ],
       "layout": {
        "template": {
         "data": {
          "histogram2dcontour": [
           {
            "type": "histogram2dcontour",
            "colorbar": {
             "outlinewidth": 0,
             "ticks": ""
            },
            "colorscale": [
             [
              0.0,
              "#0d0887"
             ],
             [
              0.1111111111111111,
              "#46039f"
             ],
             [
              0.2222222222222222,
              "#7201a8"
             ],
             [
              0.3333333333333333,
              "#9c179e"
             ],
             [
              0.4444444444444444,
              "#bd3786"
             ],
             [
              0.5555555555555556,
              "#d8576b"
             ],
             [
              0.6666666666666666,
              "#ed7953"
             ],
             [
              0.7777777777777778,
              "#fb9f3a"
             ],
             [
              0.8888888888888888,
              "#fdca26"
             ],
             [
              1.0,
              "#f0f921"
             ]
            ]
           }
          ],
          "choropleth": [
           {
            "type": "choropleth",
            "colorbar": {
             "outlinewidth": 0,
             "ticks": ""
            }
           }
          ],
          "histogram2d": [
           {
            "type": "histogram2d",
            "colorbar": {
             "outlinewidth": 0,
             "ticks": ""
            },
            "colorscale": [
             [
              0.0,
              "#0d0887"
             ],
             [
              0.1111111111111111,
              "#46039f"
             ],
             [
              0.2222222222222222,
              "#7201a8"
             ],
             [
              0.3333333333333333,
              "#9c179e"
             ],
             [
              0.4444444444444444,
              "#bd3786"
             ],
             [
              0.5555555555555556,
              "#d8576b"
             ],
             [
              0.6666666666666666,
              "#ed7953"
             ],
             [
              0.7777777777777778,
              "#fb9f3a"
             ],
             [
              0.8888888888888888,
              "#fdca26"
             ],
             [
              1.0,
              "#f0f921"
             ]
            ]
           }
          ],
          "heatmap": [
           {
            "type": "heatmap",
            "colorbar": {
             "outlinewidth": 0,
             "ticks": ""
            },
            "colorscale": [
             [
              0.0,
              "#0d0887"
             ],
             [
              0.1111111111111111,
              "#46039f"
             ],
             [
              0.2222222222222222,
              "#7201a8"
             ],
             [
              0.3333333333333333,
              "#9c179e"
             ],
             [
              0.4444444444444444,
              "#bd3786"
             ],
             [
              0.5555555555555556,
              "#d8576b"
             ],
             [
              0.6666666666666666,
              "#ed7953"
             ],
             [
              0.7777777777777778,
              "#fb9f3a"
             ],
             [
              0.8888888888888888,
              "#fdca26"
             ],
             [
              1.0,
              "#f0f921"
             ]
            ]
           }
          ],
          "heatmapgl": [
           {
            "type": "heatmapgl",
            "colorbar": {
             "outlinewidth": 0,
             "ticks": ""
            },
            "colorscale": [
             [
              0.0,
              "#0d0887"
             ],
             [
              0.1111111111111111,
              "#46039f"
             ],
             [
              0.2222222222222222,
              "#7201a8"
             ],
             [
              0.3333333333333333,
              "#9c179e"
             ],
             [
              0.4444444444444444,
              "#bd3786"
             ],
             [
              0.5555555555555556,
              "#d8576b"
             ],
             [
              0.6666666666666666,
              "#ed7953"
             ],
             [
              0.7777777777777778,
              "#fb9f3a"
             ],
             [
              0.8888888888888888,
              "#fdca26"
             ],
             [
              1.0,
              "#f0f921"
             ]
            ]
           }
          ],
          "contourcarpet": [
           {
            "type": "contourcarpet",
            "colorbar": {
             "outlinewidth": 0,
             "ticks": ""
            }
           }
          ],
          "contour": [
           {
            "type": "contour",
            "colorbar": {
             "outlinewidth": 0,
             "ticks": ""
            },
            "colorscale": [
             [
              0.0,
              "#0d0887"
             ],
             [
              0.1111111111111111,
              "#46039f"
             ],
             [
              0.2222222222222222,
              "#7201a8"
             ],
             [
              0.3333333333333333,
              "#9c179e"
             ],
             [
              0.4444444444444444,
              "#bd3786"
             ],
             [
              0.5555555555555556,
              "#d8576b"
             ],
             [
              0.6666666666666666,
              "#ed7953"
             ],
             [
              0.7777777777777778,
              "#fb9f3a"
             ],
             [
              0.8888888888888888,
              "#fdca26"
             ],
             [
              1.0,
              "#f0f921"
             ]
            ]
           }
          ],
          "surface": [
           {
            "type": "surface",
            "colorbar": {
             "outlinewidth": 0,
             "ticks": ""
            },
            "colorscale": [
             [
              0.0,
              "#0d0887"
             ],
             [
              0.1111111111111111,
              "#46039f"
             ],
             [
              0.2222222222222222,
              "#7201a8"
             ],
             [
              0.3333333333333333,
              "#9c179e"
             ],
             [
              0.4444444444444444,
              "#bd3786"
             ],
             [
              0.5555555555555556,
              "#d8576b"
             ],
             [
              0.6666666666666666,
              "#ed7953"
             ],
             [
              0.7777777777777778,
              "#fb9f3a"
             ],
             [
              0.8888888888888888,
              "#fdca26"
             ],
             [
              1.0,
              "#f0f921"
             ]
            ]
           }
          ],
          "mesh3d": [
           {
            "type": "mesh3d",
            "colorbar": {
             "outlinewidth": 0,
             "ticks": ""
            }
           }
          ],
          "scatter": [
           {
            "marker": {
             "line": {
              "color": "#283442"
             }
            },
            "type": "scatter"
           }
          ],
          "parcoords": [
           {
            "type": "parcoords",
            "line": {
             "colorbar": {
              "outlinewidth": 0,
              "ticks": ""
             }
            }
           }
          ],
          "scatterpolargl": [
           {
            "type": "scatterpolargl",
            "marker": {
             "colorbar": {
              "outlinewidth": 0,
              "ticks": ""
             }
            }
           }
          ],
          "bar": [
           {
            "error_x": {
             "color": "#f2f5fa"
            },
            "error_y": {
             "color": "#f2f5fa"
            },
            "marker": {
             "line": {
              "color": "rgb(17,17,17)",
              "width": 0.5
             },
             "pattern": {
              "fillmode": "overlay",
              "size": 10,
              "solidity": 0.2
             }
            },
            "type": "bar"
           }
          ],
          "scattergeo": [
           {
            "type": "scattergeo",
            "marker": {
             "colorbar": {
              "outlinewidth": 0,
              "ticks": ""
             }
            }
           }
          ],
          "scatterpolar": [
           {
            "type": "scatterpolar",
            "marker": {
             "colorbar": {
              "outlinewidth": 0,
              "ticks": ""
             }
            }
           }
          ],
          "histogram": [
           {
            "marker": {
             "pattern": {
              "fillmode": "overlay",
              "size": 10,
              "solidity": 0.2
             }
            },
            "type": "histogram"
           }
          ],
          "scattergl": [
           {
            "marker": {
             "line": {
              "color": "#283442"
             }
            },
            "type": "scattergl"
           }
          ],
          "scatter3d": [
           {
            "type": "scatter3d",
            "line": {
             "colorbar": {
              "outlinewidth": 0,
              "ticks": ""
             }
            },
            "marker": {
             "colorbar": {
              "outlinewidth": 0,
              "ticks": ""
             }
            }
           }
          ],
          "scattermapbox": [
           {
            "type": "scattermapbox",
            "marker": {
             "colorbar": {
              "outlinewidth": 0,
              "ticks": ""
             }
            }
           }
          ],
          "scatterternary": [
           {
            "type": "scatterternary",
            "marker": {
             "colorbar": {
              "outlinewidth": 0,
              "ticks": ""
             }
            }
           }
          ],
          "scattercarpet": [
           {
            "type": "scattercarpet",
            "marker": {
             "colorbar": {
              "outlinewidth": 0,
              "ticks": ""
             }
            }
           }
          ],
          "carpet": [
           {
            "aaxis": {
             "endlinecolor": "#A2B1C6",
             "gridcolor": "#506784",
             "linecolor": "#506784",
             "minorgridcolor": "#506784",
             "startlinecolor": "#A2B1C6"
            },
            "baxis": {
             "endlinecolor": "#A2B1C6",
             "gridcolor": "#506784",
             "linecolor": "#506784",
             "minorgridcolor": "#506784",
             "startlinecolor": "#A2B1C6"
            },
            "type": "carpet"
           }
          ],
          "table": [
           {
            "cells": {
             "fill": {
              "color": "#506784"
             },
             "line": {
              "color": "rgb(17,17,17)"
             }
            },
            "header": {
             "fill": {
              "color": "#2a3f5f"
             },
             "line": {
              "color": "rgb(17,17,17)"
             }
            },
            "type": "table"
           }
          ],
          "barpolar": [
           {
            "marker": {
             "line": {
              "color": "rgb(17,17,17)",
              "width": 0.5
             },
             "pattern": {
              "fillmode": "overlay",
              "size": 10,
              "solidity": 0.2
             }
            },
            "type": "barpolar"
           }
          ],
          "pie": [
           {
            "automargin": true,
            "type": "pie"
           }
          ]
         },
         "layout": {
          "autotypenumbers": "strict",
          "colorway": [
           "#636efa",
           "#EF553B",
           "#00cc96",
           "#ab63fa",
           "#FFA15A",
           "#19d3f3",
           "#FF6692",
           "#B6E880",
           "#FF97FF",
           "#FECB52"
          ],
          "font": {
           "color": "#f2f5fa"
          },
          "hovermode": "closest",
          "hoverlabel": {
           "align": "left"
          },
          "paper_bgcolor": "rgb(17,17,17)",
          "plot_bgcolor": "rgb(17,17,17)",
          "polar": {
           "bgcolor": "rgb(17,17,17)",
           "angularaxis": {
            "gridcolor": "#506784",
            "linecolor": "#506784",
            "ticks": ""
           },
           "radialaxis": {
            "gridcolor": "#506784",
            "linecolor": "#506784",
            "ticks": ""
           }
          },
          "ternary": {
           "bgcolor": "rgb(17,17,17)",
           "aaxis": {
            "gridcolor": "#506784",
            "linecolor": "#506784",
            "ticks": ""
           },
           "baxis": {
            "gridcolor": "#506784",
            "linecolor": "#506784",
            "ticks": ""
           },
           "caxis": {
            "gridcolor": "#506784",
            "linecolor": "#506784",
            "ticks": ""
           }
          },
          "coloraxis": {
           "colorbar": {
            "outlinewidth": 0,
            "ticks": ""
           }
          },
          "colorscale": {
           "sequential": [
            [
             0.0,
             "#0d0887"
            ],
            [
             0.1111111111111111,
             "#46039f"
            ],
            [
             0.2222222222222222,
             "#7201a8"
            ],
            [
             0.3333333333333333,
             "#9c179e"
            ],
            [
             0.4444444444444444,
             "#bd3786"
            ],
            [
             0.5555555555555556,
             "#d8576b"
            ],
            [
             0.6666666666666666,
             "#ed7953"
            ],
            [
             0.7777777777777778,
             "#fb9f3a"
            ],
            [
             0.8888888888888888,
             "#fdca26"
            ],
            [
             1.0,
             "#f0f921"
            ]
           ],
           "sequentialminus": [
            [
             0.0,
             "#0d0887"
            ],
            [
             0.1111111111111111,
             "#46039f"
            ],
            [
             0.2222222222222222,
             "#7201a8"
            ],
            [
             0.3333333333333333,
             "#9c179e"
            ],
            [
             0.4444444444444444,
             "#bd3786"
            ],
            [
             0.5555555555555556,
             "#d8576b"
            ],
            [
             0.6666666666666666,
             "#ed7953"
            ],
            [
             0.7777777777777778,
             "#fb9f3a"
            ],
            [
             0.8888888888888888,
             "#fdca26"
            ],
            [
             1.0,
             "#f0f921"
            ]
           ],
           "diverging": [
            [
             0,
             "#8e0152"
            ],
            [
             0.1,
             "#c51b7d"
            ],
            [
             0.2,
             "#de77ae"
            ],
            [
             0.3,
             "#f1b6da"
            ],
            [
             0.4,
             "#fde0ef"
            ],
            [
             0.5,
             "#f7f7f7"
            ],
            [
             0.6,
             "#e6f5d0"
            ],
            [
             0.7,
             "#b8e186"
            ],
            [
             0.8,
             "#7fbc41"
            ],
            [
             0.9,
             "#4d9221"
            ],
            [
             1,
             "#276419"
            ]
           ]
          },
          "xaxis": {
           "gridcolor": "#283442",
           "linecolor": "#506784",
           "ticks": "",
           "title": {
            "standoff": 15
           },
           "zerolinecolor": "#283442",
           "automargin": true,
           "zerolinewidth": 2
          },
          "yaxis": {
           "gridcolor": "#283442",
           "linecolor": "#506784",
           "ticks": "",
           "title": {
            "standoff": 15
           },
           "zerolinecolor": "#283442",
           "automargin": true,
           "zerolinewidth": 2
          },
          "scene": {
           "xaxis": {
            "backgroundcolor": "rgb(17,17,17)",
            "gridcolor": "#506784",
            "linecolor": "#506784",
            "showbackground": true,
            "ticks": "",
            "zerolinecolor": "#C8D4E3",
            "gridwidth": 2
           },
           "yaxis": {
            "backgroundcolor": "rgb(17,17,17)",
            "gridcolor": "#506784",
            "linecolor": "#506784",
            "showbackground": true,
            "ticks": "",
            "zerolinecolor": "#C8D4E3",
            "gridwidth": 2
           },
           "zaxis": {
            "backgroundcolor": "rgb(17,17,17)",
            "gridcolor": "#506784",
            "linecolor": "#506784",
            "showbackground": true,
            "ticks": "",
            "zerolinecolor": "#C8D4E3",
            "gridwidth": 2
           }
          },
          "shapedefaults": {
           "line": {
            "color": "#f2f5fa"
           }
          },
          "annotationdefaults": {
           "arrowcolor": "#f2f5fa",
           "arrowhead": 0,
           "arrowwidth": 1
          },
          "geo": {
           "bgcolor": "rgb(17,17,17)",
           "landcolor": "rgb(17,17,17)",
           "subunitcolor": "#506784",
           "showland": true,
           "showlakes": true,
           "lakecolor": "rgb(17,17,17)"
          },
          "title": {
           "x": 0.05
          },
          "updatemenudefaults": {
           "bgcolor": "#506784",
           "borderwidth": 0
          },
          "sliderdefaults": {
           "bgcolor": "#C8D4E3",
           "borderwidth": 1,
           "bordercolor": "rgb(17,17,17)",
           "tickwidth": 0
          },
          "mapbox": {
           "style": "dark"
          }
         }
        },
        "xaxis": {
         "anchor": "y",
         "domain": [
          0.0,
          1.0
         ],
         "title": {
          "text": "IMDB_Rating"
         }
        },
        "yaxis": {
         "anchor": "x",
         "domain": [
          0.0,
          1.0
         ],
         "title": {
          "text": "Gross"
         }
        },
        "legend": {
         "tracegroupgap": 0
        },
        "title": {
         "text": "Gross Revenue vs. IMDB Rating"
        }
       },
       "config": {
        "plotlyServerURL": "https://plot.ly"
       }
      },
      "text/html": [
       "<div>                            <div id=\"a2703169-539f-4db2-874c-c6b8303785f1\" class=\"plotly-graph-div\" style=\"height:525px; width:100%;\"></div>            <script type=\"text/javascript\">                require([\"plotly\"], function(Plotly) {                    window.PLOTLYENV=window.PLOTLYENV || {};                                    if (document.getElementById(\"a2703169-539f-4db2-874c-c6b8303785f1\")) {                    Plotly.newPlot(                        \"a2703169-539f-4db2-874c-c6b8303785f1\",                        [{\"hovertemplate\":\"IMDB_Rating=%{x}\\u003cbr\\u003eGross=%{y}\\u003cextra\\u003e\\u003c\\u002fextra\\u003e\",\"legendgroup\":\"\",\"marker\":{\"color\":\"#636efa\",\"symbol\":\"circle\"},\"mode\":\"markers\",\"name\":\"\",\"orientation\":\"v\",\"showlegend\":false,\"x\":[1.0,0.9411764705882346,0.8235294117647056,0.8235294117647056,0.8235294117647056,0.7647058823529411,0.7647058823529411,0.7647058823529411,0.7058823529411766,0.7058823529411766,0.7058823529411766,0.7058823529411766,0.7058823529411766,0.6470588235294112,0.6470588235294112,0.6470588235294112,0.6470588235294112,0.6470588235294112,0.5882352941176467,0.5882352941176467,0.5882352941176467,0.5882352941176467,0.5882352941176467,0.5882352941176467,0.5882352941176467,0.5882352941176467,0.5882352941176467,0.5882352941176467,0.5882352941176467,0.5882352941176467,0.5882352941176467,0.5882352941176467,0.5882352941176467,0.5294117647058822,0.5294117647058822,0.5294117647058822,0.5294117647058822,0.5294117647058822,0.5294117647058822,0.5294117647058822,0.5294117647058822,0.5294117647058822,0.5294117647058822,0.5294117647058822,0.5294117647058822,0.5294117647058822,0.5294117647058822,0.5294117647058822,0.5294117647058822,0.5294117647058822,0.5294117647058822,0.5294117647058822,0.5294117647058822,0.47058823529411775,0.47058823529411775,0.47058823529411775,0.47058823529411775,0.47058823529411775,0.47058823529411775,0.47058823529411775,0.47058823529411775,0.47058823529411775,0.47058823529411775,0.47058823529411775,0.47058823529411775,0.47058823529411775,0.47058823529411775,0.47058823529411775,0.47058823529411775,0.47058823529411775,0.47058823529411775,0.47058823529411775,0.47058823529411775,0.47058823529411775,0.47058823529411775,0.47058823529411775,0.47058823529411775,0.47058823529411775,0.47058823529411775,0.47058823529411775,0.47058823529411775,0.47058823529411775,0.47058823529411775,0.47058823529411775,0.41176470588235325,0.41176470588235325,0.41176470588235325,0.41176470588235325,0.41176470588235325,0.41176470588235325,0.41176470588235325,0.41176470588235325,0.41176470588235325,0.41176470588235325,0.41176470588235325,0.41176470588235325,0.41176470588235325,0.41176470588235325,0.41176470588235325,0.41176470588235325,0.41176470588235325,0.41176470588235325,0.41176470588235325,0.41176470588235325,0.41176470588235325,0.41176470588235325,0.41176470588235325,0.41176470588235325,0.41176470588235325,0.41176470588235325,0.41176470588235325,0.41176470588235325,0.41176470588235325,0.41176470588235325,0.41176470588235325,0.41176470588235325,0.41176470588235325,0.41176470588235325,0.41176470588235325,0.41176470588235325,0.41176470588235325,0.41176470588235325,0.41176470588235325,0.41176470588235325,0.41176470588235325,0.41176470588235325,0.41176470588235325,0.41176470588235325,0.35294117647058787,0.35294117647058787,0.35294117647058787,0.35294117647058787,0.35294117647058787,0.35294117647058787,0.35294117647058787,0.35294117647058787,0.35294117647058787,0.35294117647058787,0.35294117647058787,0.35294117647058787,0.35294117647058787,0.35294117647058787,0.35294117647058787,0.35294117647058787,0.35294117647058787,0.35294117647058787,0.35294117647058787,0.35294117647058787,0.35294117647058787,0.35294117647058787,0.35294117647058787,0.35294117647058787,0.35294117647058787,0.35294117647058787,0.35294117647058787,0.35294117647058787,0.35294117647058787,0.35294117647058787,0.35294117647058787,0.35294117647058787,0.35294117647058787,0.35294117647058787,0.35294117647058787,0.35294117647058787,0.35294117647058787,0.35294117647058787,0.35294117647058787,0.35294117647058787,0.35294117647058787,0.35294117647058787,0.35294117647058787,0.35294117647058787,0.35294117647058787,0.35294117647058787,0.35294117647058787,0.35294117647058787,0.35294117647058787,0.35294117647058787,0.35294117647058787,0.35294117647058787,0.35294117647058787,0.35294117647058787,0.35294117647058787,0.35294117647058787,0.35294117647058787,0.35294117647058787,0.35294117647058787,0.35294117647058787,0.35294117647058787,0.35294117647058787,0.35294117647058787,0.35294117647058787,0.35294117647058787,0.35294117647058787,0.35294117647058787,0.2941176470588234,0.2941176470588234,0.2941176470588234,0.2941176470588234,0.2941176470588234,0.2941176470588234,0.2941176470588234,0.2941176470588234,0.2941176470588234,0.2941176470588234,0.2941176470588234,0.2941176470588234,0.2941176470588234,0.2941176470588234,0.2941176470588234,0.2941176470588234,0.2941176470588234,0.2941176470588234,0.2941176470588234,0.2941176470588234,0.2941176470588234,0.2941176470588234,0.2941176470588234,0.2941176470588234,0.2941176470588234,0.2941176470588234,0.2941176470588234,0.2941176470588234,0.2941176470588234,0.2941176470588234,0.2941176470588234,0.2941176470588234,0.2941176470588234,0.2941176470588234,0.2941176470588234,0.2941176470588234,0.2941176470588234,0.2941176470588234,0.2941176470588234,0.2941176470588234,0.2941176470588234,0.2941176470588234,0.2941176470588234,0.2941176470588234,0.2941176470588234,0.2941176470588234,0.2941176470588234,0.2941176470588234,0.2941176470588234,0.2941176470588234,0.2941176470588234,0.2941176470588234,0.2941176470588234,0.2941176470588234,0.2941176470588234,0.2941176470588234,0.2941176470588234,0.2941176470588234,0.2941176470588234,0.2941176470588234,0.2941176470588234,0.2941176470588234,0.2941176470588234,0.2941176470588234,0.2941176470588234,0.2941176470588234,0.2941176470588234,0.2941176470588234,0.2941176470588234,0.2941176470588234,0.2941176470588234,0.2941176470588234,0.2941176470588234,0.2941176470588234,0.2941176470588234,0.2941176470588234,0.2941176470588234,0.2941176470588234,0.2941176470588234,0.2941176470588234,0.2941176470588234,0.2941176470588234,0.2941176470588234,0.2941176470588234,0.2941176470588234,0.2941176470588234,0.2941176470588234,0.2941176470588234,0.2941176470588234,0.2941176470588234,0.2941176470588234,0.2941176470588234,0.2941176470588234,0.2941176470588234,0.2941176470588234,0.2941176470588234,0.2941176470588234,0.2941176470588234,0.2941176470588234,0.2941176470588234,0.2941176470588234,0.2941176470588234,0.2941176470588234,0.2941176470588234,0.2941176470588234,0.2941176470588234,0.2941176470588234,0.2941176470588234,0.2941176470588234,0.2941176470588234,0.2941176470588234,0.2941176470588234,0.2941176470588234,0.2941176470588234,0.2941176470588234,0.2941176470588234,0.2941176470588234,0.2941176470588234,0.2941176470588234,0.2941176470588234,0.2941176470588234,0.2941176470588234,0.2941176470588234,0.2941176470588234,0.2941176470588234,0.2941176470588234,0.2941176470588234,0.23529411764705888,0.23529411764705888,0.23529411764705888,0.23529411764705888,0.23529411764705888,0.23529411764705888,0.23529411764705888,0.23529411764705888,0.23529411764705888,0.23529411764705888,0.23529411764705888,0.23529411764705888,0.23529411764705888,0.23529411764705888,0.23529411764705888,0.23529411764705888,0.23529411764705888,0.23529411764705888,0.23529411764705888,0.23529411764705888,0.23529411764705888,0.23529411764705888,0.23529411764705888,0.23529411764705888,0.23529411764705888,0.23529411764705888,0.23529411764705888,0.23529411764705888,0.23529411764705888,0.23529411764705888,0.23529411764705888,0.23529411764705888,0.23529411764705888,0.23529411764705888,0.23529411764705888,0.23529411764705888,0.23529411764705888,0.23529411764705888,0.23529411764705888,0.23529411764705888,0.23529411764705888,0.23529411764705888,0.23529411764705888,0.23529411764705888,0.23529411764705888,0.23529411764705888,0.23529411764705888,0.23529411764705888,0.23529411764705888,0.23529411764705888,0.23529411764705888,0.23529411764705888,0.23529411764705888,0.23529411764705888,0.23529411764705888,0.23529411764705888,0.23529411764705888,0.23529411764705888,0.23529411764705888,0.23529411764705888,0.23529411764705888,0.23529411764705888,0.23529411764705888,0.23529411764705888,0.23529411764705888,0.23529411764705888,0.23529411764705888,0.23529411764705888,0.23529411764705888,0.23529411764705888,0.23529411764705888,0.23529411764705888,0.23529411764705888,0.23529411764705888,0.23529411764705888,0.23529411764705888,0.23529411764705888,0.23529411764705888,0.23529411764705888,0.23529411764705888,0.23529411764705888,0.23529411764705888,0.23529411764705888,0.23529411764705888,0.23529411764705888,0.23529411764705888,0.23529411764705888,0.23529411764705888,0.23529411764705888,0.23529411764705888,0.23529411764705888,0.23529411764705888,0.23529411764705888,0.23529411764705888,0.23529411764705888,0.23529411764705888,0.23529411764705888,0.23529411764705888,0.23529411764705888,0.23529411764705888,0.23529411764705888,0.23529411764705888,0.23529411764705888,0.23529411764705888,0.23529411764705888,0.23529411764705888,0.23529411764705888,0.23529411764705888,0.23529411764705888,0.23529411764705888,0.23529411764705888,0.23529411764705888,0.23529411764705888,0.23529411764705888,0.23529411764705888,0.23529411764705888,0.23529411764705888,0.23529411764705888,0.23529411764705888,0.23529411764705888,0.23529411764705888,0.23529411764705888,0.23529411764705888,0.23529411764705888,0.23529411764705888,0.23529411764705888,0.23529411764705888,0.23529411764705888,0.23529411764705888,0.23529411764705888,0.23529411764705888,0.23529411764705888,0.23529411764705888,0.23529411764705888,0.23529411764705888,0.23529411764705888,0.23529411764705888,0.23529411764705888,0.23529411764705888,0.23529411764705888,0.23529411764705888,0.17647058823529438,0.17647058823529438,0.17647058823529438,0.17647058823529438,0.17647058823529438,0.17647058823529438,0.17647058823529438,0.17647058823529438,0.17647058823529438,0.17647058823529438,0.17647058823529438,0.17647058823529438,0.17647058823529438,0.17647058823529438,0.17647058823529438,0.17647058823529438,0.17647058823529438,0.17647058823529438,0.17647058823529438,0.17647058823529438,0.17647058823529438,0.17647058823529438,0.17647058823529438,0.17647058823529438,0.17647058823529438,0.17647058823529438,0.17647058823529438,0.17647058823529438,0.17647058823529438,0.17647058823529438,0.17647058823529438,0.17647058823529438,0.17647058823529438,0.17647058823529438,0.17647058823529438,0.17647058823529438,0.17647058823529438,0.17647058823529438,0.17647058823529438,0.17647058823529438,0.17647058823529438,0.17647058823529438,0.17647058823529438,0.17647058823529438,0.17647058823529438,0.17647058823529438,0.17647058823529438,0.17647058823529438,0.17647058823529438,0.17647058823529438,0.17647058823529438,0.17647058823529438,0.17647058823529438,0.17647058823529438,0.17647058823529438,0.17647058823529438,0.17647058823529438,0.17647058823529438,0.17647058823529438,0.17647058823529438,0.17647058823529438,0.17647058823529438,0.17647058823529438,0.17647058823529438,0.17647058823529438,0.17647058823529438,0.17647058823529438,0.17647058823529438,0.17647058823529438,0.17647058823529438,0.17647058823529438,0.17647058823529438,0.17647058823529438,0.17647058823529438,0.17647058823529438,0.17647058823529438,0.17647058823529438,0.17647058823529438,0.17647058823529438,0.17647058823529438,0.17647058823529438,0.17647058823529438,0.17647058823529438,0.17647058823529438,0.17647058823529438,0.17647058823529438,0.17647058823529438,0.17647058823529438,0.17647058823529438,0.17647058823529438,0.17647058823529438,0.17647058823529438,0.17647058823529438,0.17647058823529438,0.17647058823529438,0.17647058823529438,0.17647058823529438,0.17647058823529438,0.17647058823529438,0.17647058823529438,0.17647058823529438,0.17647058823529438,0.17647058823529438,0.17647058823529438,0.17647058823529438,0.17647058823529438,0.117647058823529,0.117647058823529,0.117647058823529,0.117647058823529,0.117647058823529,0.117647058823529,0.117647058823529,0.117647058823529,0.117647058823529,0.117647058823529,0.117647058823529,0.117647058823529,0.117647058823529,0.117647058823529,0.117647058823529,0.117647058823529,0.117647058823529,0.117647058823529,0.117647058823529,0.117647058823529,0.117647058823529,0.117647058823529,0.117647058823529,0.117647058823529,0.117647058823529,0.117647058823529,0.117647058823529,0.117647058823529,0.117647058823529,0.117647058823529,0.117647058823529,0.117647058823529,0.117647058823529,0.117647058823529,0.117647058823529,0.117647058823529,0.117647058823529,0.117647058823529,0.117647058823529,0.117647058823529,0.117647058823529,0.117647058823529,0.117647058823529,0.117647058823529,0.117647058823529,0.117647058823529,0.117647058823529,0.117647058823529,0.117647058823529,0.117647058823529,0.117647058823529,0.117647058823529,0.117647058823529,0.117647058823529,0.117647058823529,0.117647058823529,0.117647058823529,0.117647058823529,0.117647058823529,0.117647058823529,0.117647058823529,0.117647058823529,0.117647058823529,0.117647058823529,0.117647058823529,0.117647058823529,0.117647058823529,0.117647058823529,0.117647058823529,0.117647058823529,0.117647058823529,0.117647058823529,0.117647058823529,0.117647058823529,0.117647058823529,0.117647058823529,0.117647058823529,0.117647058823529,0.117647058823529,0.117647058823529,0.117647058823529,0.117647058823529,0.117647058823529,0.117647058823529,0.117647058823529,0.117647058823529,0.117647058823529,0.117647058823529,0.117647058823529,0.117647058823529,0.117647058823529,0.117647058823529,0.117647058823529,0.117647058823529,0.117647058823529,0.117647058823529,0.117647058823529,0.117647058823529,0.117647058823529,0.117647058823529,0.117647058823529,0.117647058823529,0.117647058823529,0.117647058823529,0.117647058823529,0.117647058823529,0.117647058823529,0.117647058823529,0.117647058823529,0.117647058823529,0.117647058823529,0.117647058823529,0.117647058823529,0.117647058823529,0.117647058823529,0.117647058823529,0.117647058823529,0.117647058823529,0.117647058823529,0.117647058823529,0.117647058823529,0.117647058823529,0.117647058823529,0.117647058823529,0.117647058823529,0.117647058823529,0.117647058823529,0.117647058823529,0.117647058823529,0.117647058823529,0.117647058823529,0.117647058823529,0.117647058823529,0.117647058823529,0.117647058823529,0.117647058823529,0.117647058823529,0.117647058823529,0.117647058823529,0.117647058823529,0.117647058823529,0.117647058823529,0.117647058823529,0.117647058823529,0.117647058823529,0.117647058823529,0.117647058823529,0.117647058823529,0.117647058823529,0.117647058823529,0.117647058823529,0.058823529411765385,0.058823529411765385,0.058823529411765385,0.058823529411765385,0.058823529411765385,0.058823529411765385,0.058823529411765385,0.058823529411765385,0.058823529411765385,0.058823529411765385,0.058823529411765385,0.058823529411765385,0.058823529411765385,0.058823529411765385,0.058823529411765385,0.058823529411765385,0.058823529411765385,0.058823529411765385,0.058823529411765385,0.058823529411765385,0.058823529411765385,0.058823529411765385,0.058823529411765385,0.058823529411765385,0.058823529411765385,0.058823529411765385,0.058823529411765385,0.058823529411765385,0.058823529411765385,0.058823529411765385,0.058823529411765385,0.058823529411765385,0.058823529411765385,0.058823529411765385,0.058823529411765385,0.058823529411765385,0.058823529411765385,0.058823529411765385,0.058823529411765385,0.058823529411765385,0.058823529411765385,0.058823529411765385,0.058823529411765385,0.058823529411765385,0.058823529411765385,0.058823529411765385,0.058823529411765385,0.058823529411765385,0.058823529411765385,0.058823529411765385,0.058823529411765385,0.058823529411765385,0.058823529411765385,0.058823529411765385,0.058823529411765385,0.058823529411765385,0.058823529411765385,0.058823529411765385,0.058823529411765385,0.058823529411765385,0.058823529411765385,0.058823529411765385,0.058823529411765385,0.058823529411765385,0.058823529411765385,0.058823529411765385,0.058823529411765385,0.058823529411765385,0.058823529411765385,0.058823529411765385,0.058823529411765385,0.058823529411765385,0.058823529411765385,0.058823529411765385,0.058823529411765385,0.058823529411765385,0.058823529411765385,0.058823529411765385,0.058823529411765385,0.058823529411765385,0.058823529411765385,0.058823529411765385,0.058823529411765385,0.058823529411765385,0.058823529411765385,0.058823529411765385,0.058823529411765385,0.058823529411765385,0.058823529411765385,0.058823529411765385,0.058823529411765385,0.058823529411765385,0.058823529411765385,0.058823529411765385,0.058823529411765385,0.058823529411765385,0.058823529411765385,0.058823529411765385,0.058823529411765385,0.058823529411765385,0.058823529411765385,0.058823529411765385,0.058823529411765385,0.058823529411765385,0.058823529411765385,0.058823529411765385,0.058823529411765385,0.058823529411765385,0.058823529411765385,0.058823529411765385,0.058823529411765385,0.058823529411765385,0.058823529411765385,0.058823529411765385,0.058823529411765385,0.058823529411765385,0.058823529411765385,0.058823529411765385,0.058823529411765385,0.058823529411765385,0.058823529411765385,0.058823529411765385,0.058823529411765385,0.058823529411765385,0.058823529411765385,0.058823529411765385,0.058823529411765385,0.058823529411765385,0.058823529411765385,0.058823529411765385,0.058823529411765385,0.058823529411765385,0.058823529411765385,0.058823529411765385,0.058823529411765385,0.058823529411765385,0.058823529411765385,0.058823529411765385,0.058823529411765385,0.058823529411765385,0.058823529411765385,0.058823529411765385,0.058823529411765385,0.058823529411765385,0.058823529411765385,0.058823529411765385,0.058823529411765385,0.058823529411765385,0.058823529411765385,0.058823529411765385,0.058823529411765385,0.058823529411765385,0.058823529411765385,0.058823529411765385,0.058823529411765385,0.058823529411765385,0.058823529411765385,0.0,0.0,0.0,0.0,0.0,0.0,0.0,0.0,0.0,0.0,0.0,0.0,0.0,0.0,0.0,0.0,0.0,0.0,0.0,0.0,0.0,0.0,0.0,0.0,0.0,0.0,0.0,0.0,0.0,0.0,0.0,0.0,0.0,0.0,0.0,0.0,0.0,0.0,0.0,0.0,0.0,0.0,0.0,0.0,0.0,0.0,0.0,0.0,0.0,0.0,0.0,0.0,0.0,0.0,0.0,0.0,0.0,0.0,0.0,0.0,0.0,0.0,0.0,0.0,0.0,0.0,0.0,0.0,0.0,0.0,0.0,0.0,0.0,0.0,0.0,0.0,0.0,0.0,0.0,0.0,0.0,0.0,0.0,0.0,0.0,0.0,0.0,0.0,0.0,0.0,0.0,0.0,0.0,0.0,0.0,0.0,0.0,0.0,0.0,0.0,0.0,0.0,0.0,0.0,0.0,0.0,0.0,0.0,0.0,0.0,0.0,0.0,0.0,0.0,0.0,0.0,0.0,0.0,0.0,0.0,0.0,0.0,0.0],\"xaxis\":\"x\",\"y\":[0.030256588478144258,0.14409174453440418,0.571025359956301,0.061173359298474846,0.004653439581956724,0.40339528631129395,0.11522574999712809,0.10344993682452343,0.31235945020531014,0.03953276603020867,0.33688118961982527,0.35258317065261996,0.006511102224698347,0.36571405156948367,0.18307438832827572,0.050002181152171914,0.31011623928966736,0.11957229410190402,0.025120709637378703,0.05697530222569765,0.025120709637378703,0.200732952539538,0.008073457361709934,0.010734465146682963,0.23118249024417503,0.14605079178492897,0.06149177441928505,0.10689496685737673,0.13958265388076616,0.34456314778244407,0.025120709637378703,0.00028586225205168167,0.025120709637378703,0.3581338762377318,0.01397591670633595,0.014072302706939026,0.05667855342998617,0.14133504150039697,0.03477381334538864,0.20039708926897473,0.007172882797330757,0.02491858313038191,0.02081856153451988,0.45137195645997485,0.2186939164708612,0.012799825149105186,0.025120709637378703,0.22485026598526178,0.005679966876380409,0.03416251742412826,0.001092449762930218,0.00017289074043998762,1.9084814598648998e-05,0.0017720297330222766,0.025120709637378703,0.025120709637378703,0.0053551300079862415,0.013228325998697586,0.20310445427786183,0.9164166847059233,0.724717090790977,0.2239067580613911,0.1738133037513725,0.47844186133013855,0.006973284419723629,0.0013052364776786033,0.23894117307680565,0.01204791057152251,0.0007539291806900623,0.027270874074686497,0.002534538325779622,0.005679966876380409,0.2649397030464343,0.04699253279404462,0.08911464567134925,0.0842339990014743,0.025120709637378703,0.025120709637378703,0.00029316585557983996,0.008726418307278156,0.025120709637378703,0.03924900379104106,0.025120709637378703,0.0003065890696069609,0.16999357569012274,0.025120709637378703,0.0014654588129928599,0.025120709637378703,0.0007322607203469106,0.007577114458880168,0.007319394728243813,0.025120709637378703,0.025120709637378703,0.12869055538262447,0.03672513207874628,0.03547088737298872,0.03237761964062726,0.0038799280747188643,0.1388926272273642,0.1477932163541103,0.0009956943650430083,0.20476452460512604,0.08071084571351604,0.003022143808455252,0.049491091183776516,0.025120709637378703,0.09091757879681796,0.05548616675498749,0.04868109261994191,0.33002775860446915,0.012263104774351,0.030172358424006847,0.1703911112251806,0.006626111827106014,0.06080502109557427,0.016012939880100902,0.04785385836317373,0.019856379830600814,0.01417129157048636,0.003414997820128975,0.009413996902956088,5.7582203813947956e-05,0.0003540502148845924,0.006105405785478912,0.0016914648259265476,2.943647953199542e-05,0.0013183650279761858,0.005817147789191419,0.0009579453789958484,0.004467852678213585,0.025120709637378703,0.09083208681323013,0.0581986862438971,0.00036412856853256995,0.021550332216273102,0.025120709637378703,0.0007880898884945472,0.0015248089991840377,0.00015287922976438476,0.0017348690068119848,0.025120709637378703,6.572282315354846e-06,4.084936094056321e-05,0.00682224577064665,0.014579246030676715,0.13666805806310356,0.3128163594142478,0.12480438385323048,0.0011874478546622827,0.042941055980001815,0.040178157534318824,0.4430670332653571,0.07527775366137833,0.0023445261279823656,0.0007812741883156607,0.22083885703270292,0.0013045649433094742,0.005880180204379617,0.005028277468862479,0.18228692193115092,0.025120709637378703,0.004159737976470717,0.0689850869405334,0.025120709637378703,0.07199565131851555,0.04530667832282359,0.025120709637378703,0.10799654372256717,0.21050360572318957,0.00029755698572328607,0.0011789314323052999,0.0886207006479997,0.004414025301706833,0.024963870596843095,0.0002492022406571633,0.025120709637378703,0.025120709637378703,0.025120709637378703,0.0013109247688053432,0.012916835475531529,0.025120709637378703,0.025120709637378703,0.025120709637378703,0.026689161964822874,0.025120709637378703,0.025120709637378703,5.9702501519973735e-05,1.2018223200771524e-05,0.025120709637378703,0.00010170489444568692,9.471944233565334e-06,0.005351664506297541,0.025120709637378703,0.005817147789191419,0.0010420740090234576,0.0040127103840309685,0.0013237639934844299,0.025120709637378703,0.025120709637378703,0.0021410981895134476,0.0037275484921480448,0.0009611856123985615,0.24157702981779147,0.015668817484132895,0.0033157858235400707,0.025120709637378703,0.00017531958096426187,0.01133259515086847,0.000984257995945854,0.06309541877758709,0.17911058358237045,0.025120709637378703,0.07175308434988405,0.38056504588661605,0.0029931525273841895,0.06050288507819884,0.02876848860097633,0.1255766312957735,0.04810115383056657,0.0009141184197158562,0.0011046131827513418,0.003317294373720642,0.06512601913614587,0.1644747119373786,0.025120709637378703,0.15810844013861494,0.4067746458344819,0.0015981290219730744,0.025120709637378703,0.025120709637378703,0.23229316111533724,0.019594124840822867,0.07930545452883846,0.002366124125259758,0.1072863144541143,0.025120709637378703,0.0011848001515852716,0.00621286089313943,0.025120709637378703,1.3693322445864401e-05,0.00031889341555960295,0.07483790398770987,0.40659533014359134,0.17574561133606387,0.005746507498145648,0.3095196402557288,0.025120709637378703,7.3497248075643e-05,0.31335244241854354,0.00027525649303271885,0.1341113879289423,0.0003708439122238601,0.018680718525120064,0.002917532846358104,0.017616278898451323,0.02627489785738045,0.00018125769568778422,0.00032936785704692367,0.025120709637378703,0.005908328063905986,0.004315735730706049,0.0006393936025429565,0.429667309062067,0.02670027591201307,0.005568272240930048,0.00277769248662579,0.10234099550133895,0.05582181116299803,0.1478969144992192,0.002328144532815568,0.0005279018153122049,0.014713470697592464,0.023747016156070652,0.025120709637378703,0.005306119742884117,0.03509022026882471,0.025120709637378703,0.021399216698397113,0.05229002508186207,0.12516156006594148,0.025120709637378703,0.025120709637378703,0.0001879442135794456,0.030959650798711665,0.03302415777098931,0.0018587761727050596,0.025120709637378703,4.07575454306346e-05,0.017313061379778717,0.025120709637378703,0.00010752663834848582,5.8295375449207385e-05,0.025120709637378703,0.004322476697330342,0.025120709637378703,0.025120709637378703,0.025120709637378703,0.0016277982431465168,0.025120709637378703,0.025120709637378703,0.07974998572589106,0.025120709637378703,0.0008015066967884173,0.025120709637378703,0.047943384891087376,0.010247779954351036,0.025120709637378703,0.00423695268507626,0.025120709637378703,0.0004781730404637785,0.011635688825364893,0.00021565434800034148,0.004653439581956724,0.010247779954351036,0.2121100066820339,0.00018318261852965961,0.004653439581956724,2.1963124072690042e-05,0.025120709637378703,0.000574631639377033,0.0011024160162463061,0.025120709637378703,0.025120709637378703,0.025120709637378703,0.025120709637378703,0.00872962224152578,0.025120709637378703,0.1613182473760088,0.05523684067015415,0.24387945853447157,0.36434416736421543,0.007192245193703609,0.0016074867306303331,0.1413761385496899,0.005941562075633518,0.0011509650685543708,0.0010773471791691704,0.0028019723508908648,0.09728640968601529,0.3557053442562758,0.09827767128364873,0.02729583935240941,0.2310619909283714,0.1960545007044812,0.018936698031556606,0.00010549602090797169,0.14818184578470509,0.18118275608210493,0.38762095892716436,0.00011248147301800528,1.0297216200714342e-05,0.025120709637378703,0.004289054784094121,0.025120709637378703,0.15087490038550982,0.11418579628581066,7.211788018229692e-06,0.6654256932167086,0.004744994592066466,0.029142862072221398,0.17462579094257502,0.06124410208125263,0.2428517728699517,0.00025324212309402216,0.07911349071764412,0.006393743853432041,0.025120709637378703,0.22040457180598502,0.17876763236796514,0.07068393330640932,0.0005345829950928239,0.0025403888954820494,0.00222603500955287,0.06581742088695235,0.0019068512007525626,0.00017973846928512831,0.3260652883863245,0.07073605355500473,0.27911892277944084,0.025120709637378703,0.0016324808341528756,0.025120709637378703,0.0015786940272900464,0.0239731054435366,0.004465576507665122,0.006621114287548156,0.0008277915555610028,0.0017578132756942608,0.005972409951725113,0.024723995103799145,2.125635817068145e-06,0.026129104436213697,0.014323205669774287,0.061004097405921456,0.0005493983884797926,0.0801585305811627,0.0757004658633564,0.004799258626056482,0.06821497581002953,0.23204652757371366,0.0751650800163628,0.2337733008013188,0.19666406387489724,0.029406735577267386,0.1908894576278468,0.0005891843977007175,0.03294309428432223,0.0035580260997757867,0.004848627612220653,0.025120709637378703,0.040995299558350316,0.056334776943613704,0.025120709637378703,0.03221678769303197,0.041849397325128074,0.2775803809557892,0.0533797171766278,0.09213440334416856,0.056867638931706474,0.24865437964466372,0.004355844161833933,0.031101644552438464,0.08594219453502981,0.0005771939326773663,0.10922584877353482,0.025120709637378703,0.03565230521200778,0.11204054504590626,0.025120709637378703,0.17424980322655076,0.11927549512794876,0.015479128775864803,5.2724522765399456e-05,0.025120709637378703,0.008842789128001625,0.020834321773561346,0.013381251136216936,0.01270331103383709,0.0023875811964056324,0.018757074865469996,0.025120709637378703,0.025120709637378703,0.0006968316773587607,0.025120709637378703,0.025120709637378703,0.025120709637378703,0.025120709637378703,0.008539584420795521,0.025120709637378703,0.025120709637378703,0.025120709637378703,0.025120709637378703,0.025120709637378703,0.004653439581956724,0.02524787198338541,0.025120709637378703,0.002249218425809844,5.732597448391463e-05,0.002215011810250395,0.025120709637378703,0.025120709637378703,0.003489731374722029,5.3023456983771676e-05,0.17654034930805057,0.025120709637378703,0.0035361868198792797,0.0021338511699623385,0.019317979018490493,0.000274232643334794,0.0341787783779855,0.005552998837615644,0.006270893633525353,0.003454625821263046,0.3363618330526697,0.03456951422719761,0.0003717994341004427,0.10734389772555046,1.0,0.008661962751686063,0.2497384314913021,0.0001467179819992917,0.04769108654602564,0.1069810310864683,0.0071938380860386494,0.007471962212323324,0.0022242115108207995,0.005347049175490315,0.002264170474839497,0.12346509556521265,0.02800938679068622,0.0004371859562583224,0.0270948317134871,0.0012645750182467312,0.27515689882737926,0.008280291015023878,0.025120709637378703,0.014684905397782583,0.002433156920863102,0.13343752827864325,0.022421789520160617,0.025120709637378703,0.00387958857085657,0.33994243722691025,0.014457279801958642,0.025120709637378703,0.09622893842950125,0.2662195215745736,0.057340615854881614,0.009910694256359067,0.0011301047982230324,0.0010662770044895223,0.12988732144392232,0.0013024521189589078,0.03795512040792735,0.03473353516232961,0.007707098530383867,0.2624758530546999,0.028184516334897373,0.025120709637378703,0.0023485777542635177,0.013110608906369232,0.0014131784210661847,0.025120709637378703,0.03944545588599981,0.06017230546994531,0.01573897841280706,0.01948773201725978,0.08142663729367507,0.04279321912992805,0.010599171789936532,0.0002001215124892795,0.02199718549162914,0.06109850830543886,0.04878894168019736,0.04038000325667479,0.0054434800162261494,0.07537273467115506,6.373277535695628e-05,0.025120709637378703,0.00021085965666209285,0.025120709637378703,0.025120709637378703,0.06587089701575251,0.01287890499370893,9.365609061601503e-05,0.02378200000059787,0.026027212707881525,0.01438437615183091,0.025120709637378703,0.03202727300718386,0.025120709637378703,9.287779402603879e-05,0.1000775125752017,0.025120709637378703,0.025120709637378703,0.010087636623080206,0.008144564203660807,0.025120709637378703,0.0028278056054692664,0.011170205542471015,0.006980855996426114,0.01009831284516493,0.025120709637378703,0.00031462292672571415,0.004248810764945761,0.002707719459460314,0.010674828837739915,0.025120709637378703,0.025120709637378703,0.025120709637378703,0.025120709637378703,0.025120709637378703,0.002563106828456129,0.20110997691672672,0.025120709637378703,0.18107511307293572,0.043175439624405385,0.025120709637378703,0.05126912202123262,0.0019019582881711346,0.05091897610076441,0.00046330640121080316,0.568162936700722,0.4356785206753368,0.05777556193974657,0.11540986358222353,0.007189168306498792,0.025120709637378703,0.0014191805931222155,0.003043892340464039,0.004516250128168047,0.00017925803929131582,0.2375742579288992,0.016357697511282954,0.001782361113133662,0.005560470057830533,0.4633872234148511,8.9816921154349e-05,0.04858872621695373,0.1889708593799344,0.07500960432938741,0.025120709637378703,0.00013568090360810615,0.10944674407895655,0.1143418580973785,5.503592484674176e-06,0.17209694197554437,0.0005829078467371095,0.025120709637378703,0.2758367990841339,0.002371554051812048,0.010776434443320214,0.025120709637378703,0.025120709637378703,0.0999462046521595,0.15480488285985072,0.009639855584025006,0.010076878194085433,0.3234919451961335,0.0007900169465808395,0.0543694744945695,0.037431101534587355,0.1389652725129175,0.8119334369154636,2.4501929684436926e-06,0.054304955949267104,0.06393967306760273,0.025234275814560517,0.1361303949779393,0.0031179191291550844,0.0,0.04100073162014702,0.005473505823217222,0.00013631400357773016,0.027238471740659364,0.12760017467153428,1.4920020363398955e-05,0.08647791348015245,0.017888081633639634,0.00019254566529796079,0.0074743697004034295,0.025120709637378703,0.05790009579987601,0.0030861819237638314,0.12347418743593999,0.1367384549362858,0.00882200252360267,0.2494294701651479,2.6164217463028137e-05,0.030922494342990207,0.03467692449472537,0.2857637169275729,0.7039090239827664,0.0002484154030895193,0.013172672988214347,0.05159000655221102,0.004312538202191675,0.006284186597643041,0.009788930875860604,0.060324669038182996,0.034607273889466855,0.02450584038458656,0.0018875560645788445,0.19630845172872163,0.018433208465663327,0.005995858138289788,0.025120709637378703,0.002150730277078284,0.002133803126962957,0.061391227894935556,0.06541915616592608,0.055617960446134554,0.025120709637378703,0.028642910606326996,0.025120709637378703,0.1265118384569733,0.036942544800523974,0.06377360443307488,0.006322180069175941,0.07487775191901888,0.0015317122443840188,0.06566080818232493,0.10512508411261569,0.04897595813007764,0.03704540806506585,0.25476756199030914,0.022952484235170184,0.002667662274198437,0.46453229734405915,0.11344414262527361,0.025120709637378703,0.03394899298243382,0.025120709637378703,0.004717496914465056,0.00020553008659739965,0.017140621175910704,0.025120709637378703,0.045655470498331456,0.004269095586906733,0.047812123943422345,0.018736167619761483,0.060532785973391526,0.025120709637378703,0.07686740576301614,0.10918724141923206,0.041742635104280855,0.025120709637378703,0.002791506450381212,0.00035808048872157497,0.025120709637378703,0.025120709637378703,0.025120709637378703,0.025120709637378703,0.025120709637378703,0.025120709637378703,0.025120709637378703,0.004653439581956724,0.025120709637378703,0.025120709637378703,0.025120709637378703,0.025120709637378703,0.0003569103747810894,0.34653995172554014,0.036085154486855286,0.18794353030123218,0.2350453555807581,0.003584235157371571,0.0035569915738557774,0.0008154733305196505,0.03831934399483647,0.13693367179234936,0.1333151008371311,0.0071984117795797446,0.045202369497811444,0.0023470286344390245,0.0011970415078276138,0.0001855025615886697,0.27733116803890995,0.0010511882998171845,0.018847382892840242,0.20223068984238182,0.0014283151687379035,7.459689895036936e-05,0.06065733691547631,0.27518964600337975,0.2926260657912364,0.24424778606115008,8.813861904263072e-05,0.1035181322607118,0.15630736467578896,0.2960742698649155,0.32494039785496764,0.14102398229660312,0.14522245467441944,0.034580356998346856,0.31599695650801785,0.01610945292774679,0.019849073024206028,0.0009395043405889081,0.038155213094616995,0.0018693093334138462,0.025120709637378703,0.025120709637378703,0.0003487003599979382,0.027162073763043304,0.0004390478893898979,0.01879501495589247,0.03531563908954374,0.024014220642407075,0.001124265972364898,0.000929121714611516,0.21440056557500017,0.0046944277337843884,0.08865797027167525,0.05723054080232151,0.05826974717809301,0.0182641184602855,0.18815841702886463,0.0011545373324639188,0.08042429591276211,0.047599026550611295,0.3096229647330648,0.08317894697688465,0.08037585682554152,0.11862272421913364,0.005220216724746027,0.0043376369326906476,0.01658867223797487,0.0430364352128623,0.023748782003203465,0.1159837436155658,0.11151683044489569,0.0001492183532115336,0.02348123801300475,0.0032325208998791157,0.1958188295076942,0.00015990952200717418,0.048588856466863166,0.025120709637378703,0.05555510739147738,0.011555532817575008,0.002995838664860706,0.08181253254379396,0.018260518438198533,0.0003917415493324949,0.024403303812440474,0.15851702876639712,0.06783534323178551,0.004338614874633609,0.04474239941600211,0.03823176908031991,0.05990948997850792,0.004711662359095755,0.010695441419718888,0.025120709637378703,0.023325011787616805,0.0033628231228009387,0.006522823648925163,0.08255187693749409,0.029124949506807652,0.0514258703138805,0.08061033548832164,0.025120709637378703,0.01144909835674579,0.1508965197352314,0.08799042880960593,0.006568688699001129,0.005422564229539971,0.16703063153312728,0.025120709637378703,0.001647964559042348,0.046957147523567014,0.023741132490079763,0.007635828342235097,0.009128087675527233,0.011348853969481293,0.011315402162823233,0.012595071223853345,0.0576502060105166,0.08424783858816272,0.050404151589883775,0.058504303777294354,0.08903829893959918,0.025120709637378703,0.05017685055121121,0.0020534944491972613,0.025120709637378703,0.025120709637378703,0.1275794606654455,0.03181374856548942,0.026689161964822874,0.007531762935086478,0.016686299883206402,0.038326244037169825,0.025120709637378703,0.04753687065325625,0.04836189279680848,2.6718313389225206e-05,0.030265696363204735,0.025120709637378703,0.025120709637378703,0.054533882976563176,0.012173267568374689,0.025120709637378703,8.824111077464404e-05,0.005235293685574071,5.488005200430482e-05,0.025120709637378703,0.025120709637378703,0.025120709637378703,0.025120709637378703,0.011262021052399623,0.025120709637378703,0.0005709782361796411,0.025120709637378703,0.0815735880173158,0.025120709637378703,0.025120709637378703,0.027779158331918023,0.15213768393369076,0.0006032609965194235,0.006302239021566097,0.025120709637378703,0.026476931481245105,0.014008630786047954,0.025120709637378703,0.0009012428958816815,0.4161717305340336,0.1151158916718763,0.019578852505130674,0.07720237650141312,0.6497339923181593,0.2655771514413135,0.05005865729937788,0.11718891399888873,0.001165304302436361,0.02867755494699192,0.040256204988246974,0.22264650904833308,0.025120709637378703,0.004381327236327955,0.04377471625484279,0.02049988164340197,0.22984578133141287,0.18282144193653344,0.0010748745661343488,0.26852052288036105,0.03738053574392748,0.0513205974260141,0.025120709637378703,0.08071670909468498,0.0033998503962351717,0.08070047483138294,0.025120709637378703,0.22316226666102393,0.2732666267319021,0.01005819373781496,0.07468072757855639,0.018270834871599,0.04124612458476436,0.0007314044873357159,0.09449757976451072,0.021671570326644993,0.010996936863769229,0.026298123978525764,0.042563254373845345,5.026365357487104e-06,0.3223769515226492,0.22485579306543504,0.02464992454259755,0.11477845579379996,0.02578129020264879,0.059785844380055915,0.0032889383278636203,0.0007429326719427987,0.0005844185321620977,0.006583505160010306,0.006126092033390269,0.01739068071720127,4.6958295217441123e-05,0.05517397693927489,0.01394265280118658,0.06185524212967058,0.04811091082992979,0.025120709637378703,0.05590358675367817,0.014542111995021634,0.33904931680079065,0.10304837101562858,0.05657273498717124,0.054876265148331375,0.14100259568852302,0.05409385607760811,0.01608797770702337,0.007757641900977357,0.03886057934391028,0.1287754687149753,0.011401105535608339,0.025120709637378703,0.015349232249382198,0.05241885718900283,0.004052046924302126,0.04610149743409814,0.10677417181022135,0.0011066352592141882,0.07635133533701823,0.18559184469871978,0.0015622729301015355,0.04366819104612585,0.008532152702602346,0.056506961985773894,0.0004824990456525079,0.0019141206403700498,0.30508365610043814,0.07117277509560237,0.09909914358335778,0.11908490214367008,0.0840804503725852,0.05287823367286425,0.06961518368888497,0.002293994501233168,0.12735038310341804,0.013306913669463225,0.02400947185882379,0.08183932238787116,0.04590636171732242,0.025120709637378703,0.03736538404954485,0.1410193669657959,0.0010224564509427809,0.0007424084694384388,0.0014702545719533168,0.15143399705413138,0.025120709637378703,0.014710466408697824,0.025120709637378703,0.025120709637378703,0.03256108411141996,0.025120709637378703,0.025120709637378703],\"yaxis\":\"y\",\"type\":\"scatter\"},{\"hovertemplate\":\"\\u003cb\\u003eOLS trendline\\u003c\\u002fb\\u003e\\u003cbr\\u003eGross = 0.0571396 * IMDB_Rating + 0.0528638\\u003cbr\\u003eR\\u003csup\\u003e2\\u003c\\u002fsup\\u003e=0.007313\\u003cbr\\u003e\\u003cbr\\u003eIMDB_Rating=%{x}\\u003cbr\\u003eGross=%{y} \\u003cb\\u003e(trend)\\u003c\\u002fb\\u003e\\u003cextra\\u003e\\u003c\\u002fextra\\u003e\",\"legendgroup\":\"\",\"marker\":{\"color\":\"#636efa\",\"symbol\":\"circle\"},\"mode\":\"lines\",\"name\":\"\",\"showlegend\":false,\"x\":[0.0,0.0,0.0,0.0,0.0,0.0,0.0,0.0,0.0,0.0,0.0,0.0,0.0,0.0,0.0,0.0,0.0,0.0,0.0,0.0,0.0,0.0,0.0,0.0,0.0,0.0,0.0,0.0,0.0,0.0,0.0,0.0,0.0,0.0,0.0,0.0,0.0,0.0,0.0,0.0,0.0,0.0,0.0,0.0,0.0,0.0,0.0,0.0,0.0,0.0,0.0,0.0,0.0,0.0,0.0,0.0,0.0,0.0,0.0,0.0,0.0,0.0,0.0,0.0,0.0,0.0,0.0,0.0,0.0,0.0,0.0,0.0,0.0,0.0,0.0,0.0,0.0,0.0,0.0,0.0,0.0,0.0,0.0,0.0,0.0,0.0,0.0,0.0,0.0,0.0,0.0,0.0,0.0,0.0,0.0,0.0,0.0,0.0,0.0,0.0,0.0,0.0,0.0,0.0,0.0,0.0,0.0,0.0,0.0,0.0,0.0,0.0,0.0,0.0,0.0,0.0,0.0,0.0,0.0,0.0,0.0,0.0,0.0,0.058823529411765385,0.058823529411765385,0.058823529411765385,0.058823529411765385,0.058823529411765385,0.058823529411765385,0.058823529411765385,0.058823529411765385,0.058823529411765385,0.058823529411765385,0.058823529411765385,0.058823529411765385,0.058823529411765385,0.058823529411765385,0.058823529411765385,0.058823529411765385,0.058823529411765385,0.058823529411765385,0.058823529411765385,0.058823529411765385,0.058823529411765385,0.058823529411765385,0.058823529411765385,0.058823529411765385,0.058823529411765385,0.058823529411765385,0.058823529411765385,0.058823529411765385,0.058823529411765385,0.058823529411765385,0.058823529411765385,0.058823529411765385,0.058823529411765385,0.058823529411765385,0.058823529411765385,0.058823529411765385,0.058823529411765385,0.058823529411765385,0.058823529411765385,0.058823529411765385,0.058823529411765385,0.058823529411765385,0.058823529411765385,0.058823529411765385,0.058823529411765385,0.058823529411765385,0.058823529411765385,0.058823529411765385,0.058823529411765385,0.058823529411765385,0.058823529411765385,0.058823529411765385,0.058823529411765385,0.058823529411765385,0.058823529411765385,0.058823529411765385,0.058823529411765385,0.058823529411765385,0.058823529411765385,0.058823529411765385,0.058823529411765385,0.058823529411765385,0.058823529411765385,0.058823529411765385,0.058823529411765385,0.058823529411765385,0.058823529411765385,0.058823529411765385,0.058823529411765385,0.058823529411765385,0.058823529411765385,0.058823529411765385,0.058823529411765385,0.058823529411765385,0.058823529411765385,0.058823529411765385,0.058823529411765385,0.058823529411765385,0.058823529411765385,0.058823529411765385,0.058823529411765385,0.058823529411765385,0.058823529411765385,0.058823529411765385,0.058823529411765385,0.058823529411765385,0.058823529411765385,0.058823529411765385,0.058823529411765385,0.058823529411765385,0.058823529411765385,0.058823529411765385,0.058823529411765385,0.058823529411765385,0.058823529411765385,0.058823529411765385,0.058823529411765385,0.058823529411765385,0.058823529411765385,0.058823529411765385,0.058823529411765385,0.058823529411765385,0.058823529411765385,0.058823529411765385,0.058823529411765385,0.058823529411765385,0.058823529411765385,0.058823529411765385,0.058823529411765385,0.058823529411765385,0.058823529411765385,0.058823529411765385,0.058823529411765385,0.058823529411765385,0.058823529411765385,0.058823529411765385,0.058823529411765385,0.058823529411765385,0.058823529411765385,0.058823529411765385,0.058823529411765385,0.058823529411765385,0.058823529411765385,0.058823529411765385,0.058823529411765385,0.058823529411765385,0.058823529411765385,0.058823529411765385,0.058823529411765385,0.058823529411765385,0.058823529411765385,0.058823529411765385,0.058823529411765385,0.058823529411765385,0.058823529411765385,0.058823529411765385,0.058823529411765385,0.058823529411765385,0.058823529411765385,0.058823529411765385,0.058823529411765385,0.058823529411765385,0.058823529411765385,0.058823529411765385,0.058823529411765385,0.058823529411765385,0.058823529411765385,0.058823529411765385,0.058823529411765385,0.058823529411765385,0.058823529411765385,0.058823529411765385,0.058823529411765385,0.058823529411765385,0.058823529411765385,0.058823529411765385,0.058823529411765385,0.117647058823529,0.117647058823529,0.117647058823529,0.117647058823529,0.117647058823529,0.117647058823529,0.117647058823529,0.117647058823529,0.117647058823529,0.117647058823529,0.117647058823529,0.117647058823529,0.117647058823529,0.117647058823529,0.117647058823529,0.117647058823529,0.117647058823529,0.117647058823529,0.117647058823529,0.117647058823529,0.117647058823529,0.117647058823529,0.117647058823529,0.117647058823529,0.117647058823529,0.117647058823529,0.117647058823529,0.117647058823529,0.117647058823529,0.117647058823529,0.117647058823529,0.117647058823529,0.117647058823529,0.117647058823529,0.117647058823529,0.117647058823529,0.117647058823529,0.117647058823529,0.117647058823529,0.117647058823529,0.117647058823529,0.117647058823529,0.117647058823529,0.117647058823529,0.117647058823529,0.117647058823529,0.117647058823529,0.117647058823529,0.117647058823529,0.117647058823529,0.117647058823529,0.117647058823529,0.117647058823529,0.117647058823529,0.117647058823529,0.117647058823529,0.117647058823529,0.117647058823529,0.117647058823529,0.117647058823529,0.117647058823529,0.117647058823529,0.117647058823529,0.117647058823529,0.117647058823529,0.117647058823529,0.117647058823529,0.117647058823529,0.117647058823529,0.117647058823529,0.117647058823529,0.117647058823529,0.117647058823529,0.117647058823529,0.117647058823529,0.117647058823529,0.117647058823529,0.117647058823529,0.117647058823529,0.117647058823529,0.117647058823529,0.117647058823529,0.117647058823529,0.117647058823529,0.117647058823529,0.117647058823529,0.117647058823529,0.117647058823529,0.117647058823529,0.117647058823529,0.117647058823529,0.117647058823529,0.117647058823529,0.117647058823529,0.117647058823529,0.117647058823529,0.117647058823529,0.117647058823529,0.117647058823529,0.117647058823529,0.117647058823529,0.117647058823529,0.117647058823529,0.117647058823529,0.117647058823529,0.117647058823529,0.117647058823529,0.117647058823529,0.117647058823529,0.117647058823529,0.117647058823529,0.117647058823529,0.117647058823529,0.117647058823529,0.117647058823529,0.117647058823529,0.117647058823529,0.117647058823529,0.117647058823529,0.117647058823529,0.117647058823529,0.117647058823529,0.117647058823529,0.117647058823529,0.117647058823529,0.117647058823529,0.117647058823529,0.117647058823529,0.117647058823529,0.117647058823529,0.117647058823529,0.117647058823529,0.117647058823529,0.117647058823529,0.117647058823529,0.117647058823529,0.117647058823529,0.117647058823529,0.117647058823529,0.117647058823529,0.117647058823529,0.117647058823529,0.117647058823529,0.117647058823529,0.117647058823529,0.117647058823529,0.117647058823529,0.117647058823529,0.117647058823529,0.117647058823529,0.117647058823529,0.17647058823529438,0.17647058823529438,0.17647058823529438,0.17647058823529438,0.17647058823529438,0.17647058823529438,0.17647058823529438,0.17647058823529438,0.17647058823529438,0.17647058823529438,0.17647058823529438,0.17647058823529438,0.17647058823529438,0.17647058823529438,0.17647058823529438,0.17647058823529438,0.17647058823529438,0.17647058823529438,0.17647058823529438,0.17647058823529438,0.17647058823529438,0.17647058823529438,0.17647058823529438,0.17647058823529438,0.17647058823529438,0.17647058823529438,0.17647058823529438,0.17647058823529438,0.17647058823529438,0.17647058823529438,0.17647058823529438,0.17647058823529438,0.17647058823529438,0.17647058823529438,0.17647058823529438,0.17647058823529438,0.17647058823529438,0.17647058823529438,0.17647058823529438,0.17647058823529438,0.17647058823529438,0.17647058823529438,0.17647058823529438,0.17647058823529438,0.17647058823529438,0.17647058823529438,0.17647058823529438,0.17647058823529438,0.17647058823529438,0.17647058823529438,0.17647058823529438,0.17647058823529438,0.17647058823529438,0.17647058823529438,0.17647058823529438,0.17647058823529438,0.17647058823529438,0.17647058823529438,0.17647058823529438,0.17647058823529438,0.17647058823529438,0.17647058823529438,0.17647058823529438,0.17647058823529438,0.17647058823529438,0.17647058823529438,0.17647058823529438,0.17647058823529438,0.17647058823529438,0.17647058823529438,0.17647058823529438,0.17647058823529438,0.17647058823529438,0.17647058823529438,0.17647058823529438,0.17647058823529438,0.17647058823529438,0.17647058823529438,0.17647058823529438,0.17647058823529438,0.17647058823529438,0.17647058823529438,0.17647058823529438,0.17647058823529438,0.17647058823529438,0.17647058823529438,0.17647058823529438,0.17647058823529438,0.17647058823529438,0.17647058823529438,0.17647058823529438,0.17647058823529438,0.17647058823529438,0.17647058823529438,0.17647058823529438,0.17647058823529438,0.17647058823529438,0.17647058823529438,0.17647058823529438,0.17647058823529438,0.17647058823529438,0.17647058823529438,0.17647058823529438,0.17647058823529438,0.17647058823529438,0.17647058823529438,0.23529411764705888,0.23529411764705888,0.23529411764705888,0.23529411764705888,0.23529411764705888,0.23529411764705888,0.23529411764705888,0.23529411764705888,0.23529411764705888,0.23529411764705888,0.23529411764705888,0.23529411764705888,0.23529411764705888,0.23529411764705888,0.23529411764705888,0.23529411764705888,0.23529411764705888,0.23529411764705888,0.23529411764705888,0.23529411764705888,0.23529411764705888,0.23529411764705888,0.23529411764705888,0.23529411764705888,0.23529411764705888,0.23529411764705888,0.23529411764705888,0.23529411764705888,0.23529411764705888,0.23529411764705888,0.23529411764705888,0.23529411764705888,0.23529411764705888,0.23529411764705888,0.23529411764705888,0.23529411764705888,0.23529411764705888,0.23529411764705888,0.23529411764705888,0.23529411764705888,0.23529411764705888,0.23529411764705888,0.23529411764705888,0.23529411764705888,0.23529411764705888,0.23529411764705888,0.23529411764705888,0.23529411764705888,0.23529411764705888,0.23529411764705888,0.23529411764705888,0.23529411764705888,0.23529411764705888,0.23529411764705888,0.23529411764705888,0.23529411764705888,0.23529411764705888,0.23529411764705888,0.23529411764705888,0.23529411764705888,0.23529411764705888,0.23529411764705888,0.23529411764705888,0.23529411764705888,0.23529411764705888,0.23529411764705888,0.23529411764705888,0.23529411764705888,0.23529411764705888,0.23529411764705888,0.23529411764705888,0.23529411764705888,0.23529411764705888,0.23529411764705888,0.23529411764705888,0.23529411764705888,0.23529411764705888,0.23529411764705888,0.23529411764705888,0.23529411764705888,0.23529411764705888,0.23529411764705888,0.23529411764705888,0.23529411764705888,0.23529411764705888,0.23529411764705888,0.23529411764705888,0.23529411764705888,0.23529411764705888,0.23529411764705888,0.23529411764705888,0.23529411764705888,0.23529411764705888,0.23529411764705888,0.23529411764705888,0.23529411764705888,0.23529411764705888,0.23529411764705888,0.23529411764705888,0.23529411764705888,0.23529411764705888,0.23529411764705888,0.23529411764705888,0.23529411764705888,0.23529411764705888,0.23529411764705888,0.23529411764705888,0.23529411764705888,0.23529411764705888,0.23529411764705888,0.23529411764705888,0.23529411764705888,0.23529411764705888,0.23529411764705888,0.23529411764705888,0.23529411764705888,0.23529411764705888,0.23529411764705888,0.23529411764705888,0.23529411764705888,0.23529411764705888,0.23529411764705888,0.23529411764705888,0.23529411764705888,0.23529411764705888,0.23529411764705888,0.23529411764705888,0.23529411764705888,0.23529411764705888,0.23529411764705888,0.23529411764705888,0.23529411764705888,0.23529411764705888,0.23529411764705888,0.23529411764705888,0.23529411764705888,0.23529411764705888,0.23529411764705888,0.23529411764705888,0.23529411764705888,0.23529411764705888,0.2941176470588234,0.2941176470588234,0.2941176470588234,0.2941176470588234,0.2941176470588234,0.2941176470588234,0.2941176470588234,0.2941176470588234,0.2941176470588234,0.2941176470588234,0.2941176470588234,0.2941176470588234,0.2941176470588234,0.2941176470588234,0.2941176470588234,0.2941176470588234,0.2941176470588234,0.2941176470588234,0.2941176470588234,0.2941176470588234,0.2941176470588234,0.2941176470588234,0.2941176470588234,0.2941176470588234,0.2941176470588234,0.2941176470588234,0.2941176470588234,0.2941176470588234,0.2941176470588234,0.2941176470588234,0.2941176470588234,0.2941176470588234,0.2941176470588234,0.2941176470588234,0.2941176470588234,0.2941176470588234,0.2941176470588234,0.2941176470588234,0.2941176470588234,0.2941176470588234,0.2941176470588234,0.2941176470588234,0.2941176470588234,0.2941176470588234,0.2941176470588234,0.2941176470588234,0.2941176470588234,0.2941176470588234,0.2941176470588234,0.2941176470588234,0.2941176470588234,0.2941176470588234,0.2941176470588234,0.2941176470588234,0.2941176470588234,0.2941176470588234,0.2941176470588234,0.2941176470588234,0.2941176470588234,0.2941176470588234,0.2941176470588234,0.2941176470588234,0.2941176470588234,0.2941176470588234,0.2941176470588234,0.2941176470588234,0.2941176470588234,0.2941176470588234,0.2941176470588234,0.2941176470588234,0.2941176470588234,0.2941176470588234,0.2941176470588234,0.2941176470588234,0.2941176470588234,0.2941176470588234,0.2941176470588234,0.2941176470588234,0.2941176470588234,0.2941176470588234,0.2941176470588234,0.2941176470588234,0.2941176470588234,0.2941176470588234,0.2941176470588234,0.2941176470588234,0.2941176470588234,0.2941176470588234,0.2941176470588234,0.2941176470588234,0.2941176470588234,0.2941176470588234,0.2941176470588234,0.2941176470588234,0.2941176470588234,0.2941176470588234,0.2941176470588234,0.2941176470588234,0.2941176470588234,0.2941176470588234,0.2941176470588234,0.2941176470588234,0.2941176470588234,0.2941176470588234,0.2941176470588234,0.2941176470588234,0.2941176470588234,0.2941176470588234,0.2941176470588234,0.2941176470588234,0.2941176470588234,0.2941176470588234,0.2941176470588234,0.2941176470588234,0.2941176470588234,0.2941176470588234,0.2941176470588234,0.2941176470588234,0.2941176470588234,0.2941176470588234,0.2941176470588234,0.2941176470588234,0.2941176470588234,0.2941176470588234,0.2941176470588234,0.2941176470588234,0.2941176470588234,0.35294117647058787,0.35294117647058787,0.35294117647058787,0.35294117647058787,0.35294117647058787,0.35294117647058787,0.35294117647058787,0.35294117647058787,0.35294117647058787,0.35294117647058787,0.35294117647058787,0.35294117647058787,0.35294117647058787,0.35294117647058787,0.35294117647058787,0.35294117647058787,0.35294117647058787,0.35294117647058787,0.35294117647058787,0.35294117647058787,0.35294117647058787,0.35294117647058787,0.35294117647058787,0.35294117647058787,0.35294117647058787,0.35294117647058787,0.35294117647058787,0.35294117647058787,0.35294117647058787,0.35294117647058787,0.35294117647058787,0.35294117647058787,0.35294117647058787,0.35294117647058787,0.35294117647058787,0.35294117647058787,0.35294117647058787,0.35294117647058787,0.35294117647058787,0.35294117647058787,0.35294117647058787,0.35294117647058787,0.35294117647058787,0.35294117647058787,0.35294117647058787,0.35294117647058787,0.35294117647058787,0.35294117647058787,0.35294117647058787,0.35294117647058787,0.35294117647058787,0.35294117647058787,0.35294117647058787,0.35294117647058787,0.35294117647058787,0.35294117647058787,0.35294117647058787,0.35294117647058787,0.35294117647058787,0.35294117647058787,0.35294117647058787,0.35294117647058787,0.35294117647058787,0.35294117647058787,0.35294117647058787,0.35294117647058787,0.35294117647058787,0.41176470588235325,0.41176470588235325,0.41176470588235325,0.41176470588235325,0.41176470588235325,0.41176470588235325,0.41176470588235325,0.41176470588235325,0.41176470588235325,0.41176470588235325,0.41176470588235325,0.41176470588235325,0.41176470588235325,0.41176470588235325,0.41176470588235325,0.41176470588235325,0.41176470588235325,0.41176470588235325,0.41176470588235325,0.41176470588235325,0.41176470588235325,0.41176470588235325,0.41176470588235325,0.41176470588235325,0.41176470588235325,0.41176470588235325,0.41176470588235325,0.41176470588235325,0.41176470588235325,0.41176470588235325,0.41176470588235325,0.41176470588235325,0.41176470588235325,0.41176470588235325,0.41176470588235325,0.41176470588235325,0.41176470588235325,0.41176470588235325,0.41176470588235325,0.41176470588235325,0.41176470588235325,0.41176470588235325,0.41176470588235325,0.41176470588235325,0.47058823529411775,0.47058823529411775,0.47058823529411775,0.47058823529411775,0.47058823529411775,0.47058823529411775,0.47058823529411775,0.47058823529411775,0.47058823529411775,0.47058823529411775,0.47058823529411775,0.47058823529411775,0.47058823529411775,0.47058823529411775,0.47058823529411775,0.47058823529411775,0.47058823529411775,0.47058823529411775,0.47058823529411775,0.47058823529411775,0.47058823529411775,0.47058823529411775,0.47058823529411775,0.47058823529411775,0.47058823529411775,0.47058823529411775,0.47058823529411775,0.47058823529411775,0.47058823529411775,0.47058823529411775,0.47058823529411775,0.5294117647058822,0.5294117647058822,0.5294117647058822,0.5294117647058822,0.5294117647058822,0.5294117647058822,0.5294117647058822,0.5294117647058822,0.5294117647058822,0.5294117647058822,0.5294117647058822,0.5294117647058822,0.5294117647058822,0.5294117647058822,0.5294117647058822,0.5294117647058822,0.5294117647058822,0.5294117647058822,0.5294117647058822,0.5294117647058822,0.5882352941176467,0.5882352941176467,0.5882352941176467,0.5882352941176467,0.5882352941176467,0.5882352941176467,0.5882352941176467,0.5882352941176467,0.5882352941176467,0.5882352941176467,0.5882352941176467,0.5882352941176467,0.5882352941176467,0.5882352941176467,0.5882352941176467,0.6470588235294112,0.6470588235294112,0.6470588235294112,0.6470588235294112,0.6470588235294112,0.7058823529411766,0.7058823529411766,0.7058823529411766,0.7058823529411766,0.7058823529411766,0.7647058823529411,0.7647058823529411,0.7647058823529411,0.8235294117647056,0.8235294117647056,0.8235294117647056,0.9411764705882346,1.0],\"xaxis\":\"x\",\"y\":[0.052863762788960725,0.052863762788960725,0.052863762788960725,0.052863762788960725,0.052863762788960725,0.052863762788960725,0.052863762788960725,0.052863762788960725,0.052863762788960725,0.052863762788960725,0.052863762788960725,0.052863762788960725,0.052863762788960725,0.052863762788960725,0.052863762788960725,0.052863762788960725,0.052863762788960725,0.052863762788960725,0.052863762788960725,0.052863762788960725,0.052863762788960725,0.052863762788960725,0.052863762788960725,0.052863762788960725,0.052863762788960725,0.052863762788960725,0.052863762788960725,0.052863762788960725,0.052863762788960725,0.052863762788960725,0.052863762788960725,0.052863762788960725,0.052863762788960725,0.052863762788960725,0.052863762788960725,0.052863762788960725,0.052863762788960725,0.052863762788960725,0.052863762788960725,0.052863762788960725,0.052863762788960725,0.052863762788960725,0.052863762788960725,0.052863762788960725,0.052863762788960725,0.052863762788960725,0.052863762788960725,0.052863762788960725,0.052863762788960725,0.052863762788960725,0.052863762788960725,0.052863762788960725,0.052863762788960725,0.052863762788960725,0.052863762788960725,0.052863762788960725,0.052863762788960725,0.052863762788960725,0.052863762788960725,0.052863762788960725,0.052863762788960725,0.052863762788960725,0.052863762788960725,0.052863762788960725,0.052863762788960725,0.052863762788960725,0.052863762788960725,0.052863762788960725,0.052863762788960725,0.052863762788960725,0.052863762788960725,0.052863762788960725,0.052863762788960725,0.052863762788960725,0.052863762788960725,0.052863762788960725,0.052863762788960725,0.052863762788960725,0.052863762788960725,0.052863762788960725,0.052863762788960725,0.052863762788960725,0.052863762788960725,0.052863762788960725,0.052863762788960725,0.052863762788960725,0.052863762788960725,0.052863762788960725,0.052863762788960725,0.052863762788960725,0.052863762788960725,0.052863762788960725,0.052863762788960725,0.052863762788960725,0.052863762788960725,0.052863762788960725,0.052863762788960725,0.052863762788960725,0.052863762788960725,0.052863762788960725,0.052863762788960725,0.052863762788960725,0.052863762788960725,0.052863762788960725,0.052863762788960725,0.052863762788960725,0.052863762788960725,0.052863762788960725,0.052863762788960725,0.052863762788960725,0.052863762788960725,0.052863762788960725,0.052863762788960725,0.052863762788960725,0.052863762788960725,0.052863762788960725,0.052863762788960725,0.052863762788960725,0.052863762788960725,0.052863762788960725,0.052863762788960725,0.052863762788960725,0.052863762788960725,0.05622491534446446,0.05622491534446446,0.05622491534446446,0.05622491534446446,0.05622491534446446,0.05622491534446446,0.05622491534446446,0.05622491534446446,0.05622491534446446,0.05622491534446446,0.05622491534446446,0.05622491534446446,0.05622491534446446,0.05622491534446446,0.05622491534446446,0.05622491534446446,0.05622491534446446,0.05622491534446446,0.05622491534446446,0.05622491534446446,0.05622491534446446,0.05622491534446446,0.05622491534446446,0.05622491534446446,0.05622491534446446,0.05622491534446446,0.05622491534446446,0.05622491534446446,0.05622491534446446,0.05622491534446446,0.05622491534446446,0.05622491534446446,0.05622491534446446,0.05622491534446446,0.05622491534446446,0.05622491534446446,0.05622491534446446,0.05622491534446446,0.05622491534446446,0.05622491534446446,0.05622491534446446,0.05622491534446446,0.05622491534446446,0.05622491534446446,0.05622491534446446,0.05622491534446446,0.05622491534446446,0.05622491534446446,0.05622491534446446,0.05622491534446446,0.05622491534446446,0.05622491534446446,0.05622491534446446,0.05622491534446446,0.05622491534446446,0.05622491534446446,0.05622491534446446,0.05622491534446446,0.05622491534446446,0.05622491534446446,0.05622491534446446,0.05622491534446446,0.05622491534446446,0.05622491534446446,0.05622491534446446,0.05622491534446446,0.05622491534446446,0.05622491534446446,0.05622491534446446,0.05622491534446446,0.05622491534446446,0.05622491534446446,0.05622491534446446,0.05622491534446446,0.05622491534446446,0.05622491534446446,0.05622491534446446,0.05622491534446446,0.05622491534446446,0.05622491534446446,0.05622491534446446,0.05622491534446446,0.05622491534446446,0.05622491534446446,0.05622491534446446,0.05622491534446446,0.05622491534446446,0.05622491534446446,0.05622491534446446,0.05622491534446446,0.05622491534446446,0.05622491534446446,0.05622491534446446,0.05622491534446446,0.05622491534446446,0.05622491534446446,0.05622491534446446,0.05622491534446446,0.05622491534446446,0.05622491534446446,0.05622491534446446,0.05622491534446446,0.05622491534446446,0.05622491534446446,0.05622491534446446,0.05622491534446446,0.05622491534446446,0.05622491534446446,0.05622491534446446,0.05622491534446446,0.05622491534446446,0.05622491534446446,0.05622491534446446,0.05622491534446446,0.05622491534446446,0.05622491534446446,0.05622491534446446,0.05622491534446446,0.05622491534446446,0.05622491534446446,0.05622491534446446,0.05622491534446446,0.05622491534446446,0.05622491534446446,0.05622491534446446,0.05622491534446446,0.05622491534446446,0.05622491534446446,0.05622491534446446,0.05622491534446446,0.05622491534446446,0.05622491534446446,0.05622491534446446,0.05622491534446446,0.05622491534446446,0.05622491534446446,0.05622491534446446,0.05622491534446446,0.05622491534446446,0.05622491534446446,0.05622491534446446,0.05622491534446446,0.05622491534446446,0.05622491534446446,0.05622491534446446,0.05622491534446446,0.05622491534446446,0.05622491534446446,0.05622491534446446,0.05622491534446446,0.05622491534446446,0.05622491534446446,0.05622491534446446,0.05622491534446446,0.05622491534446446,0.05622491534446446,0.05622491534446446,0.05958606789996809,0.05958606789996809,0.05958606789996809,0.05958606789996809,0.05958606789996809,0.05958606789996809,0.05958606789996809,0.05958606789996809,0.05958606789996809,0.05958606789996809,0.05958606789996809,0.05958606789996809,0.05958606789996809,0.05958606789996809,0.05958606789996809,0.05958606789996809,0.05958606789996809,0.05958606789996809,0.05958606789996809,0.05958606789996809,0.05958606789996809,0.05958606789996809,0.05958606789996809,0.05958606789996809,0.05958606789996809,0.05958606789996809,0.05958606789996809,0.05958606789996809,0.05958606789996809,0.05958606789996809,0.05958606789996809,0.05958606789996809,0.05958606789996809,0.05958606789996809,0.05958606789996809,0.05958606789996809,0.05958606789996809,0.05958606789996809,0.05958606789996809,0.05958606789996809,0.05958606789996809,0.05958606789996809,0.05958606789996809,0.05958606789996809,0.05958606789996809,0.05958606789996809,0.05958606789996809,0.05958606789996809,0.05958606789996809,0.05958606789996809,0.05958606789996809,0.05958606789996809,0.05958606789996809,0.05958606789996809,0.05958606789996809,0.05958606789996809,0.05958606789996809,0.05958606789996809,0.05958606789996809,0.05958606789996809,0.05958606789996809,0.05958606789996809,0.05958606789996809,0.05958606789996809,0.05958606789996809,0.05958606789996809,0.05958606789996809,0.05958606789996809,0.05958606789996809,0.05958606789996809,0.05958606789996809,0.05958606789996809,0.05958606789996809,0.05958606789996809,0.05958606789996809,0.05958606789996809,0.05958606789996809,0.05958606789996809,0.05958606789996809,0.05958606789996809,0.05958606789996809,0.05958606789996809,0.05958606789996809,0.05958606789996809,0.05958606789996809,0.05958606789996809,0.05958606789996809,0.05958606789996809,0.05958606789996809,0.05958606789996809,0.05958606789996809,0.05958606789996809,0.05958606789996809,0.05958606789996809,0.05958606789996809,0.05958606789996809,0.05958606789996809,0.05958606789996809,0.05958606789996809,0.05958606789996809,0.05958606789996809,0.05958606789996809,0.05958606789996809,0.05958606789996809,0.05958606789996809,0.05958606789996809,0.05958606789996809,0.05958606789996809,0.05958606789996809,0.05958606789996809,0.05958606789996809,0.05958606789996809,0.05958606789996809,0.05958606789996809,0.05958606789996809,0.05958606789996809,0.05958606789996809,0.05958606789996809,0.05958606789996809,0.05958606789996809,0.05958606789996809,0.05958606789996809,0.05958606789996809,0.05958606789996809,0.05958606789996809,0.05958606789996809,0.05958606789996809,0.05958606789996809,0.05958606789996809,0.05958606789996809,0.05958606789996809,0.05958606789996809,0.05958606789996809,0.05958606789996809,0.05958606789996809,0.05958606789996809,0.05958606789996809,0.05958606789996809,0.05958606789996809,0.05958606789996809,0.05958606789996809,0.05958606789996809,0.05958606789996809,0.05958606789996809,0.05958606789996809,0.05958606789996809,0.05958606789996809,0.05958606789996809,0.05958606789996809,0.05958606789996809,0.05958606789996809,0.06294722045547183,0.06294722045547183,0.06294722045547183,0.06294722045547183,0.06294722045547183,0.06294722045547183,0.06294722045547183,0.06294722045547183,0.06294722045547183,0.06294722045547183,0.06294722045547183,0.06294722045547183,0.06294722045547183,0.06294722045547183,0.06294722045547183,0.06294722045547183,0.06294722045547183,0.06294722045547183,0.06294722045547183,0.06294722045547183,0.06294722045547183,0.06294722045547183,0.06294722045547183,0.06294722045547183,0.06294722045547183,0.06294722045547183,0.06294722045547183,0.06294722045547183,0.06294722045547183,0.06294722045547183,0.06294722045547183,0.06294722045547183,0.06294722045547183,0.06294722045547183,0.06294722045547183,0.06294722045547183,0.06294722045547183,0.06294722045547183,0.06294722045547183,0.06294722045547183,0.06294722045547183,0.06294722045547183,0.06294722045547183,0.06294722045547183,0.06294722045547183,0.06294722045547183,0.06294722045547183,0.06294722045547183,0.06294722045547183,0.06294722045547183,0.06294722045547183,0.06294722045547183,0.06294722045547183,0.06294722045547183,0.06294722045547183,0.06294722045547183,0.06294722045547183,0.06294722045547183,0.06294722045547183,0.06294722045547183,0.06294722045547183,0.06294722045547183,0.06294722045547183,0.06294722045547183,0.06294722045547183,0.06294722045547183,0.06294722045547183,0.06294722045547183,0.06294722045547183,0.06294722045547183,0.06294722045547183,0.06294722045547183,0.06294722045547183,0.06294722045547183,0.06294722045547183,0.06294722045547183,0.06294722045547183,0.06294722045547183,0.06294722045547183,0.06294722045547183,0.06294722045547183,0.06294722045547183,0.06294722045547183,0.06294722045547183,0.06294722045547183,0.06294722045547183,0.06294722045547183,0.06294722045547183,0.06294722045547183,0.06294722045547183,0.06294722045547183,0.06294722045547183,0.06294722045547183,0.06294722045547183,0.06294722045547183,0.06294722045547183,0.06294722045547183,0.06294722045547183,0.06294722045547183,0.06294722045547183,0.06294722045547183,0.06294722045547183,0.06294722045547183,0.06294722045547183,0.06294722045547183,0.06294722045547183,0.06630837301097552,0.06630837301097552,0.06630837301097552,0.06630837301097552,0.06630837301097552,0.06630837301097552,0.06630837301097552,0.06630837301097552,0.06630837301097552,0.06630837301097552,0.06630837301097552,0.06630837301097552,0.06630837301097552,0.06630837301097552,0.06630837301097552,0.06630837301097552,0.06630837301097552,0.06630837301097552,0.06630837301097552,0.06630837301097552,0.06630837301097552,0.06630837301097552,0.06630837301097552,0.06630837301097552,0.06630837301097552,0.06630837301097552,0.06630837301097552,0.06630837301097552,0.06630837301097552,0.06630837301097552,0.06630837301097552,0.06630837301097552,0.06630837301097552,0.06630837301097552,0.06630837301097552,0.06630837301097552,0.06630837301097552,0.06630837301097552,0.06630837301097552,0.06630837301097552,0.06630837301097552,0.06630837301097552,0.06630837301097552,0.06630837301097552,0.06630837301097552,0.06630837301097552,0.06630837301097552,0.06630837301097552,0.06630837301097552,0.06630837301097552,0.06630837301097552,0.06630837301097552,0.06630837301097552,0.06630837301097552,0.06630837301097552,0.06630837301097552,0.06630837301097552,0.06630837301097552,0.06630837301097552,0.06630837301097552,0.06630837301097552,0.06630837301097552,0.06630837301097552,0.06630837301097552,0.06630837301097552,0.06630837301097552,0.06630837301097552,0.06630837301097552,0.06630837301097552,0.06630837301097552,0.06630837301097552,0.06630837301097552,0.06630837301097552,0.06630837301097552,0.06630837301097552,0.06630837301097552,0.06630837301097552,0.06630837301097552,0.06630837301097552,0.06630837301097552,0.06630837301097552,0.06630837301097552,0.06630837301097552,0.06630837301097552,0.06630837301097552,0.06630837301097552,0.06630837301097552,0.06630837301097552,0.06630837301097552,0.06630837301097552,0.06630837301097552,0.06630837301097552,0.06630837301097552,0.06630837301097552,0.06630837301097552,0.06630837301097552,0.06630837301097552,0.06630837301097552,0.06630837301097552,0.06630837301097552,0.06630837301097552,0.06630837301097552,0.06630837301097552,0.06630837301097552,0.06630837301097552,0.06630837301097552,0.06630837301097552,0.06630837301097552,0.06630837301097552,0.06630837301097552,0.06630837301097552,0.06630837301097552,0.06630837301097552,0.06630837301097552,0.06630837301097552,0.06630837301097552,0.06630837301097552,0.06630837301097552,0.06630837301097552,0.06630837301097552,0.06630837301097552,0.06630837301097552,0.06630837301097552,0.06630837301097552,0.06630837301097552,0.06630837301097552,0.06630837301097552,0.06630837301097552,0.06630837301097552,0.06630837301097552,0.06630837301097552,0.06630837301097552,0.06630837301097552,0.06630837301097552,0.06630837301097552,0.06630837301097552,0.06630837301097552,0.06630837301097552,0.06630837301097552,0.06630837301097552,0.06630837301097552,0.0696695255664792,0.0696695255664792,0.0696695255664792,0.0696695255664792,0.0696695255664792,0.0696695255664792,0.0696695255664792,0.0696695255664792,0.0696695255664792,0.0696695255664792,0.0696695255664792,0.0696695255664792,0.0696695255664792,0.0696695255664792,0.0696695255664792,0.0696695255664792,0.0696695255664792,0.0696695255664792,0.0696695255664792,0.0696695255664792,0.0696695255664792,0.0696695255664792,0.0696695255664792,0.0696695255664792,0.0696695255664792,0.0696695255664792,0.0696695255664792,0.0696695255664792,0.0696695255664792,0.0696695255664792,0.0696695255664792,0.0696695255664792,0.0696695255664792,0.0696695255664792,0.0696695255664792,0.0696695255664792,0.0696695255664792,0.0696695255664792,0.0696695255664792,0.0696695255664792,0.0696695255664792,0.0696695255664792,0.0696695255664792,0.0696695255664792,0.0696695255664792,0.0696695255664792,0.0696695255664792,0.0696695255664792,0.0696695255664792,0.0696695255664792,0.0696695255664792,0.0696695255664792,0.0696695255664792,0.0696695255664792,0.0696695255664792,0.0696695255664792,0.0696695255664792,0.0696695255664792,0.0696695255664792,0.0696695255664792,0.0696695255664792,0.0696695255664792,0.0696695255664792,0.0696695255664792,0.0696695255664792,0.0696695255664792,0.0696695255664792,0.0696695255664792,0.0696695255664792,0.0696695255664792,0.0696695255664792,0.0696695255664792,0.0696695255664792,0.0696695255664792,0.0696695255664792,0.0696695255664792,0.0696695255664792,0.0696695255664792,0.0696695255664792,0.0696695255664792,0.0696695255664792,0.0696695255664792,0.0696695255664792,0.0696695255664792,0.0696695255664792,0.0696695255664792,0.0696695255664792,0.0696695255664792,0.0696695255664792,0.0696695255664792,0.0696695255664792,0.0696695255664792,0.0696695255664792,0.0696695255664792,0.0696695255664792,0.0696695255664792,0.0696695255664792,0.0696695255664792,0.0696695255664792,0.0696695255664792,0.0696695255664792,0.0696695255664792,0.0696695255664792,0.0696695255664792,0.0696695255664792,0.0696695255664792,0.0696695255664792,0.0696695255664792,0.0696695255664792,0.0696695255664792,0.0696695255664792,0.0696695255664792,0.0696695255664792,0.0696695255664792,0.0696695255664792,0.0696695255664792,0.0696695255664792,0.0696695255664792,0.0696695255664792,0.0696695255664792,0.0696695255664792,0.0696695255664792,0.0696695255664792,0.0696695255664792,0.0696695255664792,0.0696695255664792,0.0696695255664792,0.07303067812198288,0.07303067812198288,0.07303067812198288,0.07303067812198288,0.07303067812198288,0.07303067812198288,0.07303067812198288,0.07303067812198288,0.07303067812198288,0.07303067812198288,0.07303067812198288,0.07303067812198288,0.07303067812198288,0.07303067812198288,0.07303067812198288,0.07303067812198288,0.07303067812198288,0.07303067812198288,0.07303067812198288,0.07303067812198288,0.07303067812198288,0.07303067812198288,0.07303067812198288,0.07303067812198288,0.07303067812198288,0.07303067812198288,0.07303067812198288,0.07303067812198288,0.07303067812198288,0.07303067812198288,0.07303067812198288,0.07303067812198288,0.07303067812198288,0.07303067812198288,0.07303067812198288,0.07303067812198288,0.07303067812198288,0.07303067812198288,0.07303067812198288,0.07303067812198288,0.07303067812198288,0.07303067812198288,0.07303067812198288,0.07303067812198288,0.07303067812198288,0.07303067812198288,0.07303067812198288,0.07303067812198288,0.07303067812198288,0.07303067812198288,0.07303067812198288,0.07303067812198288,0.07303067812198288,0.07303067812198288,0.07303067812198288,0.07303067812198288,0.07303067812198288,0.07303067812198288,0.07303067812198288,0.07303067812198288,0.07303067812198288,0.07303067812198288,0.07303067812198288,0.07303067812198288,0.07303067812198288,0.07303067812198288,0.07303067812198288,0.07639183067748662,0.07639183067748662,0.07639183067748662,0.07639183067748662,0.07639183067748662,0.07639183067748662,0.07639183067748662,0.07639183067748662,0.07639183067748662,0.07639183067748662,0.07639183067748662,0.07639183067748662,0.07639183067748662,0.07639183067748662,0.07639183067748662,0.07639183067748662,0.07639183067748662,0.07639183067748662,0.07639183067748662,0.07639183067748662,0.07639183067748662,0.07639183067748662,0.07639183067748662,0.07639183067748662,0.07639183067748662,0.07639183067748662,0.07639183067748662,0.07639183067748662,0.07639183067748662,0.07639183067748662,0.07639183067748662,0.07639183067748662,0.07639183067748662,0.07639183067748662,0.07639183067748662,0.07639183067748662,0.07639183067748662,0.07639183067748662,0.07639183067748662,0.07639183067748662,0.07639183067748662,0.07639183067748662,0.07639183067748662,0.07639183067748662,0.07975298323299031,0.07975298323299031,0.07975298323299031,0.07975298323299031,0.07975298323299031,0.07975298323299031,0.07975298323299031,0.07975298323299031,0.07975298323299031,0.07975298323299031,0.07975298323299031,0.07975298323299031,0.07975298323299031,0.07975298323299031,0.07975298323299031,0.07975298323299031,0.07975298323299031,0.07975298323299031,0.07975298323299031,0.07975298323299031,0.07975298323299031,0.07975298323299031,0.07975298323299031,0.07975298323299031,0.07975298323299031,0.07975298323299031,0.07975298323299031,0.07975298323299031,0.07975298323299031,0.07975298323299031,0.07975298323299031,0.08311413578849398,0.08311413578849398,0.08311413578849398,0.08311413578849398,0.08311413578849398,0.08311413578849398,0.08311413578849398,0.08311413578849398,0.08311413578849398,0.08311413578849398,0.08311413578849398,0.08311413578849398,0.08311413578849398,0.08311413578849398,0.08311413578849398,0.08311413578849398,0.08311413578849398,0.08311413578849398,0.08311413578849398,0.08311413578849398,0.08647528834399767,0.08647528834399767,0.08647528834399767,0.08647528834399767,0.08647528834399767,0.08647528834399767,0.08647528834399767,0.08647528834399767,0.08647528834399767,0.08647528834399767,0.08647528834399767,0.08647528834399767,0.08647528834399767,0.08647528834399767,0.08647528834399767,0.08983644089950135,0.08983644089950135,0.08983644089950135,0.08983644089950135,0.08983644089950135,0.09319759345500508,0.09319759345500508,0.09319759345500508,0.09319759345500508,0.09319759345500508,0.09655874601050878,0.09655874601050878,0.09655874601050878,0.09991989856601247,0.09991989856601247,0.09991989856601247,0.10664220367701983,0.11000335623252357],\"yaxis\":\"y\",\"type\":\"scatter\"}],                        {\"template\":{\"data\":{\"histogram2dcontour\":[{\"type\":\"histogram2dcontour\",\"colorbar\":{\"outlinewidth\":0,\"ticks\":\"\"},\"colorscale\":[[0.0,\"#0d0887\"],[0.1111111111111111,\"#46039f\"],[0.2222222222222222,\"#7201a8\"],[0.3333333333333333,\"#9c179e\"],[0.4444444444444444,\"#bd3786\"],[0.5555555555555556,\"#d8576b\"],[0.6666666666666666,\"#ed7953\"],[0.7777777777777778,\"#fb9f3a\"],[0.8888888888888888,\"#fdca26\"],[1.0,\"#f0f921\"]]}],\"choropleth\":[{\"type\":\"choropleth\",\"colorbar\":{\"outlinewidth\":0,\"ticks\":\"\"}}],\"histogram2d\":[{\"type\":\"histogram2d\",\"colorbar\":{\"outlinewidth\":0,\"ticks\":\"\"},\"colorscale\":[[0.0,\"#0d0887\"],[0.1111111111111111,\"#46039f\"],[0.2222222222222222,\"#7201a8\"],[0.3333333333333333,\"#9c179e\"],[0.4444444444444444,\"#bd3786\"],[0.5555555555555556,\"#d8576b\"],[0.6666666666666666,\"#ed7953\"],[0.7777777777777778,\"#fb9f3a\"],[0.8888888888888888,\"#fdca26\"],[1.0,\"#f0f921\"]]}],\"heatmap\":[{\"type\":\"heatmap\",\"colorbar\":{\"outlinewidth\":0,\"ticks\":\"\"},\"colorscale\":[[0.0,\"#0d0887\"],[0.1111111111111111,\"#46039f\"],[0.2222222222222222,\"#7201a8\"],[0.3333333333333333,\"#9c179e\"],[0.4444444444444444,\"#bd3786\"],[0.5555555555555556,\"#d8576b\"],[0.6666666666666666,\"#ed7953\"],[0.7777777777777778,\"#fb9f3a\"],[0.8888888888888888,\"#fdca26\"],[1.0,\"#f0f921\"]]}],\"heatmapgl\":[{\"type\":\"heatmapgl\",\"colorbar\":{\"outlinewidth\":0,\"ticks\":\"\"},\"colorscale\":[[0.0,\"#0d0887\"],[0.1111111111111111,\"#46039f\"],[0.2222222222222222,\"#7201a8\"],[0.3333333333333333,\"#9c179e\"],[0.4444444444444444,\"#bd3786\"],[0.5555555555555556,\"#d8576b\"],[0.6666666666666666,\"#ed7953\"],[0.7777777777777778,\"#fb9f3a\"],[0.8888888888888888,\"#fdca26\"],[1.0,\"#f0f921\"]]}],\"contourcarpet\":[{\"type\":\"contourcarpet\",\"colorbar\":{\"outlinewidth\":0,\"ticks\":\"\"}}],\"contour\":[{\"type\":\"contour\",\"colorbar\":{\"outlinewidth\":0,\"ticks\":\"\"},\"colorscale\":[[0.0,\"#0d0887\"],[0.1111111111111111,\"#46039f\"],[0.2222222222222222,\"#7201a8\"],[0.3333333333333333,\"#9c179e\"],[0.4444444444444444,\"#bd3786\"],[0.5555555555555556,\"#d8576b\"],[0.6666666666666666,\"#ed7953\"],[0.7777777777777778,\"#fb9f3a\"],[0.8888888888888888,\"#fdca26\"],[1.0,\"#f0f921\"]]}],\"surface\":[{\"type\":\"surface\",\"colorbar\":{\"outlinewidth\":0,\"ticks\":\"\"},\"colorscale\":[[0.0,\"#0d0887\"],[0.1111111111111111,\"#46039f\"],[0.2222222222222222,\"#7201a8\"],[0.3333333333333333,\"#9c179e\"],[0.4444444444444444,\"#bd3786\"],[0.5555555555555556,\"#d8576b\"],[0.6666666666666666,\"#ed7953\"],[0.7777777777777778,\"#fb9f3a\"],[0.8888888888888888,\"#fdca26\"],[1.0,\"#f0f921\"]]}],\"mesh3d\":[{\"type\":\"mesh3d\",\"colorbar\":{\"outlinewidth\":0,\"ticks\":\"\"}}],\"scatter\":[{\"marker\":{\"line\":{\"color\":\"#283442\"}},\"type\":\"scatter\"}],\"parcoords\":[{\"type\":\"parcoords\",\"line\":{\"colorbar\":{\"outlinewidth\":0,\"ticks\":\"\"}}}],\"scatterpolargl\":[{\"type\":\"scatterpolargl\",\"marker\":{\"colorbar\":{\"outlinewidth\":0,\"ticks\":\"\"}}}],\"bar\":[{\"error_x\":{\"color\":\"#f2f5fa\"},\"error_y\":{\"color\":\"#f2f5fa\"},\"marker\":{\"line\":{\"color\":\"rgb(17,17,17)\",\"width\":0.5},\"pattern\":{\"fillmode\":\"overlay\",\"size\":10,\"solidity\":0.2}},\"type\":\"bar\"}],\"scattergeo\":[{\"type\":\"scattergeo\",\"marker\":{\"colorbar\":{\"outlinewidth\":0,\"ticks\":\"\"}}}],\"scatterpolar\":[{\"type\":\"scatterpolar\",\"marker\":{\"colorbar\":{\"outlinewidth\":0,\"ticks\":\"\"}}}],\"histogram\":[{\"marker\":{\"pattern\":{\"fillmode\":\"overlay\",\"size\":10,\"solidity\":0.2}},\"type\":\"histogram\"}],\"scattergl\":[{\"marker\":{\"line\":{\"color\":\"#283442\"}},\"type\":\"scattergl\"}],\"scatter3d\":[{\"type\":\"scatter3d\",\"line\":{\"colorbar\":{\"outlinewidth\":0,\"ticks\":\"\"}},\"marker\":{\"colorbar\":{\"outlinewidth\":0,\"ticks\":\"\"}}}],\"scattermapbox\":[{\"type\":\"scattermapbox\",\"marker\":{\"colorbar\":{\"outlinewidth\":0,\"ticks\":\"\"}}}],\"scatterternary\":[{\"type\":\"scatterternary\",\"marker\":{\"colorbar\":{\"outlinewidth\":0,\"ticks\":\"\"}}}],\"scattercarpet\":[{\"type\":\"scattercarpet\",\"marker\":{\"colorbar\":{\"outlinewidth\":0,\"ticks\":\"\"}}}],\"carpet\":[{\"aaxis\":{\"endlinecolor\":\"#A2B1C6\",\"gridcolor\":\"#506784\",\"linecolor\":\"#506784\",\"minorgridcolor\":\"#506784\",\"startlinecolor\":\"#A2B1C6\"},\"baxis\":{\"endlinecolor\":\"#A2B1C6\",\"gridcolor\":\"#506784\",\"linecolor\":\"#506784\",\"minorgridcolor\":\"#506784\",\"startlinecolor\":\"#A2B1C6\"},\"type\":\"carpet\"}],\"table\":[{\"cells\":{\"fill\":{\"color\":\"#506784\"},\"line\":{\"color\":\"rgb(17,17,17)\"}},\"header\":{\"fill\":{\"color\":\"#2a3f5f\"},\"line\":{\"color\":\"rgb(17,17,17)\"}},\"type\":\"table\"}],\"barpolar\":[{\"marker\":{\"line\":{\"color\":\"rgb(17,17,17)\",\"width\":0.5},\"pattern\":{\"fillmode\":\"overlay\",\"size\":10,\"solidity\":0.2}},\"type\":\"barpolar\"}],\"pie\":[{\"automargin\":true,\"type\":\"pie\"}]},\"layout\":{\"autotypenumbers\":\"strict\",\"colorway\":[\"#636efa\",\"#EF553B\",\"#00cc96\",\"#ab63fa\",\"#FFA15A\",\"#19d3f3\",\"#FF6692\",\"#B6E880\",\"#FF97FF\",\"#FECB52\"],\"font\":{\"color\":\"#f2f5fa\"},\"hovermode\":\"closest\",\"hoverlabel\":{\"align\":\"left\"},\"paper_bgcolor\":\"rgb(17,17,17)\",\"plot_bgcolor\":\"rgb(17,17,17)\",\"polar\":{\"bgcolor\":\"rgb(17,17,17)\",\"angularaxis\":{\"gridcolor\":\"#506784\",\"linecolor\":\"#506784\",\"ticks\":\"\"},\"radialaxis\":{\"gridcolor\":\"#506784\",\"linecolor\":\"#506784\",\"ticks\":\"\"}},\"ternary\":{\"bgcolor\":\"rgb(17,17,17)\",\"aaxis\":{\"gridcolor\":\"#506784\",\"linecolor\":\"#506784\",\"ticks\":\"\"},\"baxis\":{\"gridcolor\":\"#506784\",\"linecolor\":\"#506784\",\"ticks\":\"\"},\"caxis\":{\"gridcolor\":\"#506784\",\"linecolor\":\"#506784\",\"ticks\":\"\"}},\"coloraxis\":{\"colorbar\":{\"outlinewidth\":0,\"ticks\":\"\"}},\"colorscale\":{\"sequential\":[[0.0,\"#0d0887\"],[0.1111111111111111,\"#46039f\"],[0.2222222222222222,\"#7201a8\"],[0.3333333333333333,\"#9c179e\"],[0.4444444444444444,\"#bd3786\"],[0.5555555555555556,\"#d8576b\"],[0.6666666666666666,\"#ed7953\"],[0.7777777777777778,\"#fb9f3a\"],[0.8888888888888888,\"#fdca26\"],[1.0,\"#f0f921\"]],\"sequentialminus\":[[0.0,\"#0d0887\"],[0.1111111111111111,\"#46039f\"],[0.2222222222222222,\"#7201a8\"],[0.3333333333333333,\"#9c179e\"],[0.4444444444444444,\"#bd3786\"],[0.5555555555555556,\"#d8576b\"],[0.6666666666666666,\"#ed7953\"],[0.7777777777777778,\"#fb9f3a\"],[0.8888888888888888,\"#fdca26\"],[1.0,\"#f0f921\"]],\"diverging\":[[0,\"#8e0152\"],[0.1,\"#c51b7d\"],[0.2,\"#de77ae\"],[0.3,\"#f1b6da\"],[0.4,\"#fde0ef\"],[0.5,\"#f7f7f7\"],[0.6,\"#e6f5d0\"],[0.7,\"#b8e186\"],[0.8,\"#7fbc41\"],[0.9,\"#4d9221\"],[1,\"#276419\"]]},\"xaxis\":{\"gridcolor\":\"#283442\",\"linecolor\":\"#506784\",\"ticks\":\"\",\"title\":{\"standoff\":15},\"zerolinecolor\":\"#283442\",\"automargin\":true,\"zerolinewidth\":2},\"yaxis\":{\"gridcolor\":\"#283442\",\"linecolor\":\"#506784\",\"ticks\":\"\",\"title\":{\"standoff\":15},\"zerolinecolor\":\"#283442\",\"automargin\":true,\"zerolinewidth\":2},\"scene\":{\"xaxis\":{\"backgroundcolor\":\"rgb(17,17,17)\",\"gridcolor\":\"#506784\",\"linecolor\":\"#506784\",\"showbackground\":true,\"ticks\":\"\",\"zerolinecolor\":\"#C8D4E3\",\"gridwidth\":2},\"yaxis\":{\"backgroundcolor\":\"rgb(17,17,17)\",\"gridcolor\":\"#506784\",\"linecolor\":\"#506784\",\"showbackground\":true,\"ticks\":\"\",\"zerolinecolor\":\"#C8D4E3\",\"gridwidth\":2},\"zaxis\":{\"backgroundcolor\":\"rgb(17,17,17)\",\"gridcolor\":\"#506784\",\"linecolor\":\"#506784\",\"showbackground\":true,\"ticks\":\"\",\"zerolinecolor\":\"#C8D4E3\",\"gridwidth\":2}},\"shapedefaults\":{\"line\":{\"color\":\"#f2f5fa\"}},\"annotationdefaults\":{\"arrowcolor\":\"#f2f5fa\",\"arrowhead\":0,\"arrowwidth\":1},\"geo\":{\"bgcolor\":\"rgb(17,17,17)\",\"landcolor\":\"rgb(17,17,17)\",\"subunitcolor\":\"#506784\",\"showland\":true,\"showlakes\":true,\"lakecolor\":\"rgb(17,17,17)\"},\"title\":{\"x\":0.05},\"updatemenudefaults\":{\"bgcolor\":\"#506784\",\"borderwidth\":0},\"sliderdefaults\":{\"bgcolor\":\"#C8D4E3\",\"borderwidth\":1,\"bordercolor\":\"rgb(17,17,17)\",\"tickwidth\":0},\"mapbox\":{\"style\":\"dark\"}}},\"xaxis\":{\"anchor\":\"y\",\"domain\":[0.0,1.0],\"title\":{\"text\":\"IMDB_Rating\"}},\"yaxis\":{\"anchor\":\"x\",\"domain\":[0.0,1.0],\"title\":{\"text\":\"Gross\"}},\"legend\":{\"tracegroupgap\":0},\"title\":{\"text\":\"Gross Revenue vs. IMDB Rating\"}},                        {\"responsive\": true}                    ).then(function(){\n",
       "                            \n",
       "var gd = document.getElementById('a2703169-539f-4db2-874c-c6b8303785f1');\n",
       "var x = new MutationObserver(function (mutations, observer) {{\n",
       "        var display = window.getComputedStyle(gd).display;\n",
       "        if (!display || display === 'none') {{\n",
       "            console.log([gd, 'removed!']);\n",
       "            Plotly.purge(gd);\n",
       "            observer.disconnect();\n",
       "        }}\n",
       "}});\n",
       "\n",
       "// Listen for the removal of the full notebook cells\n",
       "var notebookContainer = gd.closest('#notebook-container');\n",
       "if (notebookContainer) {{\n",
       "    x.observe(notebookContainer, {childList: true});\n",
       "}}\n",
       "\n",
       "// Listen for the clearing of the current output cell\n",
       "var outputEl = gd.closest('.output');\n",
       "if (outputEl) {{\n",
       "    x.observe(outputEl, {childList: true});\n",
       "}}\n",
       "\n",
       "                        })                };                });            </script>        </div>"
      ]
     },
     "metadata": {},
     "output_type": "display_data"
    }
   ],
   "execution_count": 78
  },
  {
   "metadata": {},
   "cell_type": "markdown",
   "source": "--------------------",
   "id": "2b23bd6d81e4e7e4"
  },
  {
   "metadata": {},
   "cell_type": "markdown",
   "source": "This bar chart displays the average runtime for movies in each genre. By visualizing this, we can identify which genres tend to have longer or shorter films.",
   "id": "657245848b130328"
  },
  {
   "metadata": {
    "ExecuteTime": {
     "end_time": "2025-03-19T20:16:00.895126Z",
     "start_time": "2025-03-19T20:16:00.794455Z"
    }
   },
   "cell_type": "code",
   "source": [
    "import plotly.express as px\n",
    "\n",
    "# Melt the dataframe to have one genre per row\n",
    "df_melted = df.melt(id_vars=['Runtime'], value_vars=mlb.classes_, var_name='Genre', value_name='Present')\n",
    "df_genre_runtime = df_melted[df_melted['Present'] == 1].groupby('Genre')['Runtime'].mean().reset_index()\n",
    "\n",
    "# Create a bar chart of average runtime by genre\n",
    "fig = px.bar(df_genre_runtime, x='Genre', y='Runtime', title='Average Runtime by Genre')\n",
    "fig.show()\n"
   ],
   "id": "12a4c142ebc0dcad",
   "outputs": [
    {
     "data": {
      "application/vnd.plotly.v1+json": {
       "data": [
        {
         "alignmentgroup": "True",
         "hovertemplate": "Genre=%{x}<br>Runtime=%{y}<extra></extra>",
         "legendgroup": "",
         "marker": {
          "color": "#636efa",
          "pattern": {
           "shape": ""
          }
         },
         "name": "",
         "offsetgroup": "",
         "orientation": "v",
         "showlegend": false,
         "textposition": "auto",
         "x": [
          "action",
          "adventure",
          "animation",
          "biography",
          "comedy",
          "crime",
          "drama",
          "family",
          "fantasy",
          "film-noir",
          "history",
          "horror",
          "music",
          "musical",
          "mystery",
          "romance",
          "sci-fi",
          "sport",
          "thriller",
          "war",
          "western"
         ],
         "xaxis": "x",
         "y": [
          126.72486772486772,
          125.5,
          99.58536585365853,
          135.6697247706422,
          111.63948497854078,
          123.4401913875598,
          126.70165745856353,
          114.14285714285714,
          114.77272727272727,
          100.73684210526316,
          143.55357142857142,
          102.5,
          120.74285714285715,
          140.2941176470588,
          121.14141414141415,
          119.928,
          120.80597014925372,
          132.6315789473684,
          119.64233576642336,
          132.0392156862745,
          134.6
         ],
         "yaxis": "y",
         "type": "bar"
        }
       ],
       "layout": {
        "template": {
         "data": {
          "histogram2dcontour": [
           {
            "type": "histogram2dcontour",
            "colorbar": {
             "outlinewidth": 0,
             "ticks": ""
            },
            "colorscale": [
             [
              0.0,
              "#0d0887"
             ],
             [
              0.1111111111111111,
              "#46039f"
             ],
             [
              0.2222222222222222,
              "#7201a8"
             ],
             [
              0.3333333333333333,
              "#9c179e"
             ],
             [
              0.4444444444444444,
              "#bd3786"
             ],
             [
              0.5555555555555556,
              "#d8576b"
             ],
             [
              0.6666666666666666,
              "#ed7953"
             ],
             [
              0.7777777777777778,
              "#fb9f3a"
             ],
             [
              0.8888888888888888,
              "#fdca26"
             ],
             [
              1.0,
              "#f0f921"
             ]
            ]
           }
          ],
          "choropleth": [
           {
            "type": "choropleth",
            "colorbar": {
             "outlinewidth": 0,
             "ticks": ""
            }
           }
          ],
          "histogram2d": [
           {
            "type": "histogram2d",
            "colorbar": {
             "outlinewidth": 0,
             "ticks": ""
            },
            "colorscale": [
             [
              0.0,
              "#0d0887"
             ],
             [
              0.1111111111111111,
              "#46039f"
             ],
             [
              0.2222222222222222,
              "#7201a8"
             ],
             [
              0.3333333333333333,
              "#9c179e"
             ],
             [
              0.4444444444444444,
              "#bd3786"
             ],
             [
              0.5555555555555556,
              "#d8576b"
             ],
             [
              0.6666666666666666,
              "#ed7953"
             ],
             [
              0.7777777777777778,
              "#fb9f3a"
             ],
             [
              0.8888888888888888,
              "#fdca26"
             ],
             [
              1.0,
              "#f0f921"
             ]
            ]
           }
          ],
          "heatmap": [
           {
            "type": "heatmap",
            "colorbar": {
             "outlinewidth": 0,
             "ticks": ""
            },
            "colorscale": [
             [
              0.0,
              "#0d0887"
             ],
             [
              0.1111111111111111,
              "#46039f"
             ],
             [
              0.2222222222222222,
              "#7201a8"
             ],
             [
              0.3333333333333333,
              "#9c179e"
             ],
             [
              0.4444444444444444,
              "#bd3786"
             ],
             [
              0.5555555555555556,
              "#d8576b"
             ],
             [
              0.6666666666666666,
              "#ed7953"
             ],
             [
              0.7777777777777778,
              "#fb9f3a"
             ],
             [
              0.8888888888888888,
              "#fdca26"
             ],
             [
              1.0,
              "#f0f921"
             ]
            ]
           }
          ],
          "heatmapgl": [
           {
            "type": "heatmapgl",
            "colorbar": {
             "outlinewidth": 0,
             "ticks": ""
            },
            "colorscale": [
             [
              0.0,
              "#0d0887"
             ],
             [
              0.1111111111111111,
              "#46039f"
             ],
             [
              0.2222222222222222,
              "#7201a8"
             ],
             [
              0.3333333333333333,
              "#9c179e"
             ],
             [
              0.4444444444444444,
              "#bd3786"
             ],
             [
              0.5555555555555556,
              "#d8576b"
             ],
             [
              0.6666666666666666,
              "#ed7953"
             ],
             [
              0.7777777777777778,
              "#fb9f3a"
             ],
             [
              0.8888888888888888,
              "#fdca26"
             ],
             [
              1.0,
              "#f0f921"
             ]
            ]
           }
          ],
          "contourcarpet": [
           {
            "type": "contourcarpet",
            "colorbar": {
             "outlinewidth": 0,
             "ticks": ""
            }
           }
          ],
          "contour": [
           {
            "type": "contour",
            "colorbar": {
             "outlinewidth": 0,
             "ticks": ""
            },
            "colorscale": [
             [
              0.0,
              "#0d0887"
             ],
             [
              0.1111111111111111,
              "#46039f"
             ],
             [
              0.2222222222222222,
              "#7201a8"
             ],
             [
              0.3333333333333333,
              "#9c179e"
             ],
             [
              0.4444444444444444,
              "#bd3786"
             ],
             [
              0.5555555555555556,
              "#d8576b"
             ],
             [
              0.6666666666666666,
              "#ed7953"
             ],
             [
              0.7777777777777778,
              "#fb9f3a"
             ],
             [
              0.8888888888888888,
              "#fdca26"
             ],
             [
              1.0,
              "#f0f921"
             ]
            ]
           }
          ],
          "surface": [
           {
            "type": "surface",
            "colorbar": {
             "outlinewidth": 0,
             "ticks": ""
            },
            "colorscale": [
             [
              0.0,
              "#0d0887"
             ],
             [
              0.1111111111111111,
              "#46039f"
             ],
             [
              0.2222222222222222,
              "#7201a8"
             ],
             [
              0.3333333333333333,
              "#9c179e"
             ],
             [
              0.4444444444444444,
              "#bd3786"
             ],
             [
              0.5555555555555556,
              "#d8576b"
             ],
             [
              0.6666666666666666,
              "#ed7953"
             ],
             [
              0.7777777777777778,
              "#fb9f3a"
             ],
             [
              0.8888888888888888,
              "#fdca26"
             ],
             [
              1.0,
              "#f0f921"
             ]
            ]
           }
          ],
          "mesh3d": [
           {
            "type": "mesh3d",
            "colorbar": {
             "outlinewidth": 0,
             "ticks": ""
            }
           }
          ],
          "scatter": [
           {
            "marker": {
             "line": {
              "color": "#283442"
             }
            },
            "type": "scatter"
           }
          ],
          "parcoords": [
           {
            "type": "parcoords",
            "line": {
             "colorbar": {
              "outlinewidth": 0,
              "ticks": ""
             }
            }
           }
          ],
          "scatterpolargl": [
           {
            "type": "scatterpolargl",
            "marker": {
             "colorbar": {
              "outlinewidth": 0,
              "ticks": ""
             }
            }
           }
          ],
          "bar": [
           {
            "error_x": {
             "color": "#f2f5fa"
            },
            "error_y": {
             "color": "#f2f5fa"
            },
            "marker": {
             "line": {
              "color": "rgb(17,17,17)",
              "width": 0.5
             },
             "pattern": {
              "fillmode": "overlay",
              "size": 10,
              "solidity": 0.2
             }
            },
            "type": "bar"
           }
          ],
          "scattergeo": [
           {
            "type": "scattergeo",
            "marker": {
             "colorbar": {
              "outlinewidth": 0,
              "ticks": ""
             }
            }
           }
          ],
          "scatterpolar": [
           {
            "type": "scatterpolar",
            "marker": {
             "colorbar": {
              "outlinewidth": 0,
              "ticks": ""
             }
            }
           }
          ],
          "histogram": [
           {
            "marker": {
             "pattern": {
              "fillmode": "overlay",
              "size": 10,
              "solidity": 0.2
             }
            },
            "type": "histogram"
           }
          ],
          "scattergl": [
           {
            "marker": {
             "line": {
              "color": "#283442"
             }
            },
            "type": "scattergl"
           }
          ],
          "scatter3d": [
           {
            "type": "scatter3d",
            "line": {
             "colorbar": {
              "outlinewidth": 0,
              "ticks": ""
             }
            },
            "marker": {
             "colorbar": {
              "outlinewidth": 0,
              "ticks": ""
             }
            }
           }
          ],
          "scattermapbox": [
           {
            "type": "scattermapbox",
            "marker": {
             "colorbar": {
              "outlinewidth": 0,
              "ticks": ""
             }
            }
           }
          ],
          "scatterternary": [
           {
            "type": "scatterternary",
            "marker": {
             "colorbar": {
              "outlinewidth": 0,
              "ticks": ""
             }
            }
           }
          ],
          "scattercarpet": [
           {
            "type": "scattercarpet",
            "marker": {
             "colorbar": {
              "outlinewidth": 0,
              "ticks": ""
             }
            }
           }
          ],
          "carpet": [
           {
            "aaxis": {
             "endlinecolor": "#A2B1C6",
             "gridcolor": "#506784",
             "linecolor": "#506784",
             "minorgridcolor": "#506784",
             "startlinecolor": "#A2B1C6"
            },
            "baxis": {
             "endlinecolor": "#A2B1C6",
             "gridcolor": "#506784",
             "linecolor": "#506784",
             "minorgridcolor": "#506784",
             "startlinecolor": "#A2B1C6"
            },
            "type": "carpet"
           }
          ],
          "table": [
           {
            "cells": {
             "fill": {
              "color": "#506784"
             },
             "line": {
              "color": "rgb(17,17,17)"
             }
            },
            "header": {
             "fill": {
              "color": "#2a3f5f"
             },
             "line": {
              "color": "rgb(17,17,17)"
             }
            },
            "type": "table"
           }
          ],
          "barpolar": [
           {
            "marker": {
             "line": {
              "color": "rgb(17,17,17)",
              "width": 0.5
             },
             "pattern": {
              "fillmode": "overlay",
              "size": 10,
              "solidity": 0.2
             }
            },
            "type": "barpolar"
           }
          ],
          "pie": [
           {
            "automargin": true,
            "type": "pie"
           }
          ]
         },
         "layout": {
          "autotypenumbers": "strict",
          "colorway": [
           "#636efa",
           "#EF553B",
           "#00cc96",
           "#ab63fa",
           "#FFA15A",
           "#19d3f3",
           "#FF6692",
           "#B6E880",
           "#FF97FF",
           "#FECB52"
          ],
          "font": {
           "color": "#f2f5fa"
          },
          "hovermode": "closest",
          "hoverlabel": {
           "align": "left"
          },
          "paper_bgcolor": "rgb(17,17,17)",
          "plot_bgcolor": "rgb(17,17,17)",
          "polar": {
           "bgcolor": "rgb(17,17,17)",
           "angularaxis": {
            "gridcolor": "#506784",
            "linecolor": "#506784",
            "ticks": ""
           },
           "radialaxis": {
            "gridcolor": "#506784",
            "linecolor": "#506784",
            "ticks": ""
           }
          },
          "ternary": {
           "bgcolor": "rgb(17,17,17)",
           "aaxis": {
            "gridcolor": "#506784",
            "linecolor": "#506784",
            "ticks": ""
           },
           "baxis": {
            "gridcolor": "#506784",
            "linecolor": "#506784",
            "ticks": ""
           },
           "caxis": {
            "gridcolor": "#506784",
            "linecolor": "#506784",
            "ticks": ""
           }
          },
          "coloraxis": {
           "colorbar": {
            "outlinewidth": 0,
            "ticks": ""
           }
          },
          "colorscale": {
           "sequential": [
            [
             0.0,
             "#0d0887"
            ],
            [
             0.1111111111111111,
             "#46039f"
            ],
            [
             0.2222222222222222,
             "#7201a8"
            ],
            [
             0.3333333333333333,
             "#9c179e"
            ],
            [
             0.4444444444444444,
             "#bd3786"
            ],
            [
             0.5555555555555556,
             "#d8576b"
            ],
            [
             0.6666666666666666,
             "#ed7953"
            ],
            [
             0.7777777777777778,
             "#fb9f3a"
            ],
            [
             0.8888888888888888,
             "#fdca26"
            ],
            [
             1.0,
             "#f0f921"
            ]
           ],
           "sequentialminus": [
            [
             0.0,
             "#0d0887"
            ],
            [
             0.1111111111111111,
             "#46039f"
            ],
            [
             0.2222222222222222,
             "#7201a8"
            ],
            [
             0.3333333333333333,
             "#9c179e"
            ],
            [
             0.4444444444444444,
             "#bd3786"
            ],
            [
             0.5555555555555556,
             "#d8576b"
            ],
            [
             0.6666666666666666,
             "#ed7953"
            ],
            [
             0.7777777777777778,
             "#fb9f3a"
            ],
            [
             0.8888888888888888,
             "#fdca26"
            ],
            [
             1.0,
             "#f0f921"
            ]
           ],
           "diverging": [
            [
             0,
             "#8e0152"
            ],
            [
             0.1,
             "#c51b7d"
            ],
            [
             0.2,
             "#de77ae"
            ],
            [
             0.3,
             "#f1b6da"
            ],
            [
             0.4,
             "#fde0ef"
            ],
            [
             0.5,
             "#f7f7f7"
            ],
            [
             0.6,
             "#e6f5d0"
            ],
            [
             0.7,
             "#b8e186"
            ],
            [
             0.8,
             "#7fbc41"
            ],
            [
             0.9,
             "#4d9221"
            ],
            [
             1,
             "#276419"
            ]
           ]
          },
          "xaxis": {
           "gridcolor": "#283442",
           "linecolor": "#506784",
           "ticks": "",
           "title": {
            "standoff": 15
           },
           "zerolinecolor": "#283442",
           "automargin": true,
           "zerolinewidth": 2
          },
          "yaxis": {
           "gridcolor": "#283442",
           "linecolor": "#506784",
           "ticks": "",
           "title": {
            "standoff": 15
           },
           "zerolinecolor": "#283442",
           "automargin": true,
           "zerolinewidth": 2
          },
          "scene": {
           "xaxis": {
            "backgroundcolor": "rgb(17,17,17)",
            "gridcolor": "#506784",
            "linecolor": "#506784",
            "showbackground": true,
            "ticks": "",
            "zerolinecolor": "#C8D4E3",
            "gridwidth": 2
           },
           "yaxis": {
            "backgroundcolor": "rgb(17,17,17)",
            "gridcolor": "#506784",
            "linecolor": "#506784",
            "showbackground": true,
            "ticks": "",
            "zerolinecolor": "#C8D4E3",
            "gridwidth": 2
           },
           "zaxis": {
            "backgroundcolor": "rgb(17,17,17)",
            "gridcolor": "#506784",
            "linecolor": "#506784",
            "showbackground": true,
            "ticks": "",
            "zerolinecolor": "#C8D4E3",
            "gridwidth": 2
           }
          },
          "shapedefaults": {
           "line": {
            "color": "#f2f5fa"
           }
          },
          "annotationdefaults": {
           "arrowcolor": "#f2f5fa",
           "arrowhead": 0,
           "arrowwidth": 1
          },
          "geo": {
           "bgcolor": "rgb(17,17,17)",
           "landcolor": "rgb(17,17,17)",
           "subunitcolor": "#506784",
           "showland": true,
           "showlakes": true,
           "lakecolor": "rgb(17,17,17)"
          },
          "title": {
           "x": 0.05
          },
          "updatemenudefaults": {
           "bgcolor": "#506784",
           "borderwidth": 0
          },
          "sliderdefaults": {
           "bgcolor": "#C8D4E3",
           "borderwidth": 1,
           "bordercolor": "rgb(17,17,17)",
           "tickwidth": 0
          },
          "mapbox": {
           "style": "dark"
          }
         }
        },
        "xaxis": {
         "anchor": "y",
         "domain": [
          0.0,
          1.0
         ],
         "title": {
          "text": "Genre"
         }
        },
        "yaxis": {
         "anchor": "x",
         "domain": [
          0.0,
          1.0
         ],
         "title": {
          "text": "Runtime"
         }
        },
        "legend": {
         "tracegroupgap": 0
        },
        "title": {
         "text": "Average Runtime by Genre"
        },
        "barmode": "relative"
       },
       "config": {
        "plotlyServerURL": "https://plot.ly"
       }
      },
      "text/html": [
       "<div>                            <div id=\"7b484f2e-f10b-40ea-80bf-09f0b6c627e8\" class=\"plotly-graph-div\" style=\"height:525px; width:100%;\"></div>            <script type=\"text/javascript\">                require([\"plotly\"], function(Plotly) {                    window.PLOTLYENV=window.PLOTLYENV || {};                                    if (document.getElementById(\"7b484f2e-f10b-40ea-80bf-09f0b6c627e8\")) {                    Plotly.newPlot(                        \"7b484f2e-f10b-40ea-80bf-09f0b6c627e8\",                        [{\"alignmentgroup\":\"True\",\"hovertemplate\":\"Genre=%{x}\\u003cbr\\u003eRuntime=%{y}\\u003cextra\\u003e\\u003c\\u002fextra\\u003e\",\"legendgroup\":\"\",\"marker\":{\"color\":\"#636efa\",\"pattern\":{\"shape\":\"\"}},\"name\":\"\",\"offsetgroup\":\"\",\"orientation\":\"v\",\"showlegend\":false,\"textposition\":\"auto\",\"x\":[\"action\",\"adventure\",\"animation\",\"biography\",\"comedy\",\"crime\",\"drama\",\"family\",\"fantasy\",\"film-noir\",\"history\",\"horror\",\"music\",\"musical\",\"mystery\",\"romance\",\"sci-fi\",\"sport\",\"thriller\",\"war\",\"western\"],\"xaxis\":\"x\",\"y\":[126.72486772486772,125.5,99.58536585365853,135.6697247706422,111.63948497854078,123.4401913875598,126.70165745856353,114.14285714285714,114.77272727272727,100.73684210526316,143.55357142857142,102.5,120.74285714285715,140.2941176470588,121.14141414141415,119.928,120.80597014925372,132.6315789473684,119.64233576642336,132.0392156862745,134.6],\"yaxis\":\"y\",\"type\":\"bar\"}],                        {\"template\":{\"data\":{\"histogram2dcontour\":[{\"type\":\"histogram2dcontour\",\"colorbar\":{\"outlinewidth\":0,\"ticks\":\"\"},\"colorscale\":[[0.0,\"#0d0887\"],[0.1111111111111111,\"#46039f\"],[0.2222222222222222,\"#7201a8\"],[0.3333333333333333,\"#9c179e\"],[0.4444444444444444,\"#bd3786\"],[0.5555555555555556,\"#d8576b\"],[0.6666666666666666,\"#ed7953\"],[0.7777777777777778,\"#fb9f3a\"],[0.8888888888888888,\"#fdca26\"],[1.0,\"#f0f921\"]]}],\"choropleth\":[{\"type\":\"choropleth\",\"colorbar\":{\"outlinewidth\":0,\"ticks\":\"\"}}],\"histogram2d\":[{\"type\":\"histogram2d\",\"colorbar\":{\"outlinewidth\":0,\"ticks\":\"\"},\"colorscale\":[[0.0,\"#0d0887\"],[0.1111111111111111,\"#46039f\"],[0.2222222222222222,\"#7201a8\"],[0.3333333333333333,\"#9c179e\"],[0.4444444444444444,\"#bd3786\"],[0.5555555555555556,\"#d8576b\"],[0.6666666666666666,\"#ed7953\"],[0.7777777777777778,\"#fb9f3a\"],[0.8888888888888888,\"#fdca26\"],[1.0,\"#f0f921\"]]}],\"heatmap\":[{\"type\":\"heatmap\",\"colorbar\":{\"outlinewidth\":0,\"ticks\":\"\"},\"colorscale\":[[0.0,\"#0d0887\"],[0.1111111111111111,\"#46039f\"],[0.2222222222222222,\"#7201a8\"],[0.3333333333333333,\"#9c179e\"],[0.4444444444444444,\"#bd3786\"],[0.5555555555555556,\"#d8576b\"],[0.6666666666666666,\"#ed7953\"],[0.7777777777777778,\"#fb9f3a\"],[0.8888888888888888,\"#fdca26\"],[1.0,\"#f0f921\"]]}],\"heatmapgl\":[{\"type\":\"heatmapgl\",\"colorbar\":{\"outlinewidth\":0,\"ticks\":\"\"},\"colorscale\":[[0.0,\"#0d0887\"],[0.1111111111111111,\"#46039f\"],[0.2222222222222222,\"#7201a8\"],[0.3333333333333333,\"#9c179e\"],[0.4444444444444444,\"#bd3786\"],[0.5555555555555556,\"#d8576b\"],[0.6666666666666666,\"#ed7953\"],[0.7777777777777778,\"#fb9f3a\"],[0.8888888888888888,\"#fdca26\"],[1.0,\"#f0f921\"]]}],\"contourcarpet\":[{\"type\":\"contourcarpet\",\"colorbar\":{\"outlinewidth\":0,\"ticks\":\"\"}}],\"contour\":[{\"type\":\"contour\",\"colorbar\":{\"outlinewidth\":0,\"ticks\":\"\"},\"colorscale\":[[0.0,\"#0d0887\"],[0.1111111111111111,\"#46039f\"],[0.2222222222222222,\"#7201a8\"],[0.3333333333333333,\"#9c179e\"],[0.4444444444444444,\"#bd3786\"],[0.5555555555555556,\"#d8576b\"],[0.6666666666666666,\"#ed7953\"],[0.7777777777777778,\"#fb9f3a\"],[0.8888888888888888,\"#fdca26\"],[1.0,\"#f0f921\"]]}],\"surface\":[{\"type\":\"surface\",\"colorbar\":{\"outlinewidth\":0,\"ticks\":\"\"},\"colorscale\":[[0.0,\"#0d0887\"],[0.1111111111111111,\"#46039f\"],[0.2222222222222222,\"#7201a8\"],[0.3333333333333333,\"#9c179e\"],[0.4444444444444444,\"#bd3786\"],[0.5555555555555556,\"#d8576b\"],[0.6666666666666666,\"#ed7953\"],[0.7777777777777778,\"#fb9f3a\"],[0.8888888888888888,\"#fdca26\"],[1.0,\"#f0f921\"]]}],\"mesh3d\":[{\"type\":\"mesh3d\",\"colorbar\":{\"outlinewidth\":0,\"ticks\":\"\"}}],\"scatter\":[{\"marker\":{\"line\":{\"color\":\"#283442\"}},\"type\":\"scatter\"}],\"parcoords\":[{\"type\":\"parcoords\",\"line\":{\"colorbar\":{\"outlinewidth\":0,\"ticks\":\"\"}}}],\"scatterpolargl\":[{\"type\":\"scatterpolargl\",\"marker\":{\"colorbar\":{\"outlinewidth\":0,\"ticks\":\"\"}}}],\"bar\":[{\"error_x\":{\"color\":\"#f2f5fa\"},\"error_y\":{\"color\":\"#f2f5fa\"},\"marker\":{\"line\":{\"color\":\"rgb(17,17,17)\",\"width\":0.5},\"pattern\":{\"fillmode\":\"overlay\",\"size\":10,\"solidity\":0.2}},\"type\":\"bar\"}],\"scattergeo\":[{\"type\":\"scattergeo\",\"marker\":{\"colorbar\":{\"outlinewidth\":0,\"ticks\":\"\"}}}],\"scatterpolar\":[{\"type\":\"scatterpolar\",\"marker\":{\"colorbar\":{\"outlinewidth\":0,\"ticks\":\"\"}}}],\"histogram\":[{\"marker\":{\"pattern\":{\"fillmode\":\"overlay\",\"size\":10,\"solidity\":0.2}},\"type\":\"histogram\"}],\"scattergl\":[{\"marker\":{\"line\":{\"color\":\"#283442\"}},\"type\":\"scattergl\"}],\"scatter3d\":[{\"type\":\"scatter3d\",\"line\":{\"colorbar\":{\"outlinewidth\":0,\"ticks\":\"\"}},\"marker\":{\"colorbar\":{\"outlinewidth\":0,\"ticks\":\"\"}}}],\"scattermapbox\":[{\"type\":\"scattermapbox\",\"marker\":{\"colorbar\":{\"outlinewidth\":0,\"ticks\":\"\"}}}],\"scatterternary\":[{\"type\":\"scatterternary\",\"marker\":{\"colorbar\":{\"outlinewidth\":0,\"ticks\":\"\"}}}],\"scattercarpet\":[{\"type\":\"scattercarpet\",\"marker\":{\"colorbar\":{\"outlinewidth\":0,\"ticks\":\"\"}}}],\"carpet\":[{\"aaxis\":{\"endlinecolor\":\"#A2B1C6\",\"gridcolor\":\"#506784\",\"linecolor\":\"#506784\",\"minorgridcolor\":\"#506784\",\"startlinecolor\":\"#A2B1C6\"},\"baxis\":{\"endlinecolor\":\"#A2B1C6\",\"gridcolor\":\"#506784\",\"linecolor\":\"#506784\",\"minorgridcolor\":\"#506784\",\"startlinecolor\":\"#A2B1C6\"},\"type\":\"carpet\"}],\"table\":[{\"cells\":{\"fill\":{\"color\":\"#506784\"},\"line\":{\"color\":\"rgb(17,17,17)\"}},\"header\":{\"fill\":{\"color\":\"#2a3f5f\"},\"line\":{\"color\":\"rgb(17,17,17)\"}},\"type\":\"table\"}],\"barpolar\":[{\"marker\":{\"line\":{\"color\":\"rgb(17,17,17)\",\"width\":0.5},\"pattern\":{\"fillmode\":\"overlay\",\"size\":10,\"solidity\":0.2}},\"type\":\"barpolar\"}],\"pie\":[{\"automargin\":true,\"type\":\"pie\"}]},\"layout\":{\"autotypenumbers\":\"strict\",\"colorway\":[\"#636efa\",\"#EF553B\",\"#00cc96\",\"#ab63fa\",\"#FFA15A\",\"#19d3f3\",\"#FF6692\",\"#B6E880\",\"#FF97FF\",\"#FECB52\"],\"font\":{\"color\":\"#f2f5fa\"},\"hovermode\":\"closest\",\"hoverlabel\":{\"align\":\"left\"},\"paper_bgcolor\":\"rgb(17,17,17)\",\"plot_bgcolor\":\"rgb(17,17,17)\",\"polar\":{\"bgcolor\":\"rgb(17,17,17)\",\"angularaxis\":{\"gridcolor\":\"#506784\",\"linecolor\":\"#506784\",\"ticks\":\"\"},\"radialaxis\":{\"gridcolor\":\"#506784\",\"linecolor\":\"#506784\",\"ticks\":\"\"}},\"ternary\":{\"bgcolor\":\"rgb(17,17,17)\",\"aaxis\":{\"gridcolor\":\"#506784\",\"linecolor\":\"#506784\",\"ticks\":\"\"},\"baxis\":{\"gridcolor\":\"#506784\",\"linecolor\":\"#506784\",\"ticks\":\"\"},\"caxis\":{\"gridcolor\":\"#506784\",\"linecolor\":\"#506784\",\"ticks\":\"\"}},\"coloraxis\":{\"colorbar\":{\"outlinewidth\":0,\"ticks\":\"\"}},\"colorscale\":{\"sequential\":[[0.0,\"#0d0887\"],[0.1111111111111111,\"#46039f\"],[0.2222222222222222,\"#7201a8\"],[0.3333333333333333,\"#9c179e\"],[0.4444444444444444,\"#bd3786\"],[0.5555555555555556,\"#d8576b\"],[0.6666666666666666,\"#ed7953\"],[0.7777777777777778,\"#fb9f3a\"],[0.8888888888888888,\"#fdca26\"],[1.0,\"#f0f921\"]],\"sequentialminus\":[[0.0,\"#0d0887\"],[0.1111111111111111,\"#46039f\"],[0.2222222222222222,\"#7201a8\"],[0.3333333333333333,\"#9c179e\"],[0.4444444444444444,\"#bd3786\"],[0.5555555555555556,\"#d8576b\"],[0.6666666666666666,\"#ed7953\"],[0.7777777777777778,\"#fb9f3a\"],[0.8888888888888888,\"#fdca26\"],[1.0,\"#f0f921\"]],\"diverging\":[[0,\"#8e0152\"],[0.1,\"#c51b7d\"],[0.2,\"#de77ae\"],[0.3,\"#f1b6da\"],[0.4,\"#fde0ef\"],[0.5,\"#f7f7f7\"],[0.6,\"#e6f5d0\"],[0.7,\"#b8e186\"],[0.8,\"#7fbc41\"],[0.9,\"#4d9221\"],[1,\"#276419\"]]},\"xaxis\":{\"gridcolor\":\"#283442\",\"linecolor\":\"#506784\",\"ticks\":\"\",\"title\":{\"standoff\":15},\"zerolinecolor\":\"#283442\",\"automargin\":true,\"zerolinewidth\":2},\"yaxis\":{\"gridcolor\":\"#283442\",\"linecolor\":\"#506784\",\"ticks\":\"\",\"title\":{\"standoff\":15},\"zerolinecolor\":\"#283442\",\"automargin\":true,\"zerolinewidth\":2},\"scene\":{\"xaxis\":{\"backgroundcolor\":\"rgb(17,17,17)\",\"gridcolor\":\"#506784\",\"linecolor\":\"#506784\",\"showbackground\":true,\"ticks\":\"\",\"zerolinecolor\":\"#C8D4E3\",\"gridwidth\":2},\"yaxis\":{\"backgroundcolor\":\"rgb(17,17,17)\",\"gridcolor\":\"#506784\",\"linecolor\":\"#506784\",\"showbackground\":true,\"ticks\":\"\",\"zerolinecolor\":\"#C8D4E3\",\"gridwidth\":2},\"zaxis\":{\"backgroundcolor\":\"rgb(17,17,17)\",\"gridcolor\":\"#506784\",\"linecolor\":\"#506784\",\"showbackground\":true,\"ticks\":\"\",\"zerolinecolor\":\"#C8D4E3\",\"gridwidth\":2}},\"shapedefaults\":{\"line\":{\"color\":\"#f2f5fa\"}},\"annotationdefaults\":{\"arrowcolor\":\"#f2f5fa\",\"arrowhead\":0,\"arrowwidth\":1},\"geo\":{\"bgcolor\":\"rgb(17,17,17)\",\"landcolor\":\"rgb(17,17,17)\",\"subunitcolor\":\"#506784\",\"showland\":true,\"showlakes\":true,\"lakecolor\":\"rgb(17,17,17)\"},\"title\":{\"x\":0.05},\"updatemenudefaults\":{\"bgcolor\":\"#506784\",\"borderwidth\":0},\"sliderdefaults\":{\"bgcolor\":\"#C8D4E3\",\"borderwidth\":1,\"bordercolor\":\"rgb(17,17,17)\",\"tickwidth\":0},\"mapbox\":{\"style\":\"dark\"}}},\"xaxis\":{\"anchor\":\"y\",\"domain\":[0.0,1.0],\"title\":{\"text\":\"Genre\"}},\"yaxis\":{\"anchor\":\"x\",\"domain\":[0.0,1.0],\"title\":{\"text\":\"Runtime\"}},\"legend\":{\"tracegroupgap\":0},\"title\":{\"text\":\"Average Runtime by Genre\"},\"barmode\":\"relative\"},                        {\"responsive\": true}                    ).then(function(){\n",
       "                            \n",
       "var gd = document.getElementById('7b484f2e-f10b-40ea-80bf-09f0b6c627e8');\n",
       "var x = new MutationObserver(function (mutations, observer) {{\n",
       "        var display = window.getComputedStyle(gd).display;\n",
       "        if (!display || display === 'none') {{\n",
       "            console.log([gd, 'removed!']);\n",
       "            Plotly.purge(gd);\n",
       "            observer.disconnect();\n",
       "        }}\n",
       "}});\n",
       "\n",
       "// Listen for the removal of the full notebook cells\n",
       "var notebookContainer = gd.closest('#notebook-container');\n",
       "if (notebookContainer) {{\n",
       "    x.observe(notebookContainer, {childList: true});\n",
       "}}\n",
       "\n",
       "// Listen for the clearing of the current output cell\n",
       "var outputEl = gd.closest('.output');\n",
       "if (outputEl) {{\n",
       "    x.observe(outputEl, {childList: true});\n",
       "}}\n",
       "\n",
       "                        })                };                });            </script>        </div>"
      ]
     },
     "metadata": {},
     "output_type": "display_data"
    }
   ],
   "execution_count": 79
  },
  {
   "metadata": {},
   "cell_type": "markdown",
   "source": "This bar chart shows the number of movies released each year. It helps us observe trends in movie production over time and see if there has been a surge or decline in the number of top-rated movies over the years.",
   "id": "b5e32d4aa3353002"
  },
  {
   "metadata": {
    "ExecuteTime": {
     "end_time": "2025-03-19T20:16:01.067085Z",
     "start_time": "2025-03-19T20:16:01.009308Z"
    }
   },
   "cell_type": "code",
   "source": [
    "import plotly.express as px\n",
    "\n",
    "# Create a bar chart of the number of movies released per year\n",
    "df_year_count = df['Released_Year'].value_counts().reset_index()\n",
    "df_year_count.columns = ['Released_Year', 'Count']\n",
    "fig = px.bar(df_year_count, x='Released_Year', y='Count', title='Number of Movies Released per Year')\n",
    "fig.show()\n"
   ],
   "id": "15ae91517c76f374",
   "outputs": [
    {
     "data": {
      "application/vnd.plotly.v1+json": {
       "data": [
        {
         "alignmentgroup": "True",
         "hovertemplate": "Released_Year=%{x}<br>Count=%{y}<extra></extra>",
         "legendgroup": "",
         "marker": {
          "color": "#636efa",
          "pattern": {
           "shape": ""
          }
         },
         "name": "",
         "offsetgroup": "",
         "orientation": "v",
         "showlegend": false,
         "textposition": "auto",
         "x": [
          2014.0,
          2004.0,
          2009.0,
          2016.0,
          2013.0,
          2001.0,
          2007.0,
          2006.0,
          2015.0,
          2012.0,
          2019.0,
          2010.0,
          1993.0,
          2017.0,
          2003.0,
          2008.0,
          2000.0,
          1995.0,
          2002.0,
          1997.0,
          2018.0,
          1999.0,
          2011.0,
          2005.0,
          1998.0,
          1962.0,
          1994.0,
          1992.0,
          1987.0,
          1973.0,
          1979.0,
          1991.0,
          1989.0,
          1988.0,
          1960.0,
          1982.0,
          1996.0,
          1967.0,
          1986.0,
          1984.0,
          1975.0,
          1957.0,
          1971.0,
          1985.0,
          1968.0,
          1990.0,
          1972.0,
          1980.0,
          1964.0,
          1976.0,
          1966.0,
          1978.0,
          1959.0,
          1940.0,
          1948.0,
          1954.0,
          2020.0,
          1974.0,
          1955.0,
          1939.0,
          1953.0,
          1951.0,
          1946.0,
          1961.0,
          1983.0,
          1963.0,
          1950.0,
          1956.0,
          1944.0,
          1981.0,
          1958.0,
          1965.0,
          1952.0,
          1977.0,
          1942.0,
          1935.0,
          1938.0,
          1931.0,
          1933.0,
          1970.0,
          1969.0,
          1949.0,
          1927.0,
          1932.0,
          1941.0,
          1947.0,
          1925.0,
          1928.0,
          1945.0,
          1934.0,
          1936.0,
          1937.0,
          1924.0,
          1921.0,
          1920.0,
          1926.0,
          1930.0,
          1922.0,
          1943.0
         ],
         "xaxis": "x",
         "y": [
          32,
          31,
          29,
          28,
          28,
          27,
          26,
          26,
          25,
          24,
          23,
          23,
          23,
          22,
          22,
          21,
          19,
          19,
          19,
          19,
          19,
          18,
          18,
          17,
          17,
          13,
          13,
          12,
          12,
          12,
          12,
          12,
          11,
          11,
          11,
          11,
          10,
          10,
          9,
          9,
          9,
          9,
          9,
          9,
          8,
          8,
          8,
          8,
          7,
          7,
          7,
          7,
          7,
          7,
          6,
          6,
          6,
          6,
          6,
          5,
          5,
          5,
          5,
          5,
          5,
          5,
          5,
          5,
          4,
          4,
          4,
          4,
          4,
          3,
          3,
          3,
          3,
          3,
          3,
          3,
          3,
          3,
          2,
          2,
          2,
          2,
          2,
          2,
          2,
          2,
          1,
          1,
          1,
          1,
          1,
          1,
          1,
          1,
          1
         ],
         "yaxis": "y",
         "type": "bar"
        }
       ],
       "layout": {
        "template": {
         "data": {
          "histogram2dcontour": [
           {
            "type": "histogram2dcontour",
            "colorbar": {
             "outlinewidth": 0,
             "ticks": ""
            },
            "colorscale": [
             [
              0.0,
              "#0d0887"
             ],
             [
              0.1111111111111111,
              "#46039f"
             ],
             [
              0.2222222222222222,
              "#7201a8"
             ],
             [
              0.3333333333333333,
              "#9c179e"
             ],
             [
              0.4444444444444444,
              "#bd3786"
             ],
             [
              0.5555555555555556,
              "#d8576b"
             ],
             [
              0.6666666666666666,
              "#ed7953"
             ],
             [
              0.7777777777777778,
              "#fb9f3a"
             ],
             [
              0.8888888888888888,
              "#fdca26"
             ],
             [
              1.0,
              "#f0f921"
             ]
            ]
           }
          ],
          "choropleth": [
           {
            "type": "choropleth",
            "colorbar": {
             "outlinewidth": 0,
             "ticks": ""
            }
           }
          ],
          "histogram2d": [
           {
            "type": "histogram2d",
            "colorbar": {
             "outlinewidth": 0,
             "ticks": ""
            },
            "colorscale": [
             [
              0.0,
              "#0d0887"
             ],
             [
              0.1111111111111111,
              "#46039f"
             ],
             [
              0.2222222222222222,
              "#7201a8"
             ],
             [
              0.3333333333333333,
              "#9c179e"
             ],
             [
              0.4444444444444444,
              "#bd3786"
             ],
             [
              0.5555555555555556,
              "#d8576b"
             ],
             [
              0.6666666666666666,
              "#ed7953"
             ],
             [
              0.7777777777777778,
              "#fb9f3a"
             ],
             [
              0.8888888888888888,
              "#fdca26"
             ],
             [
              1.0,
              "#f0f921"
             ]
            ]
           }
          ],
          "heatmap": [
           {
            "type": "heatmap",
            "colorbar": {
             "outlinewidth": 0,
             "ticks": ""
            },
            "colorscale": [
             [
              0.0,
              "#0d0887"
             ],
             [
              0.1111111111111111,
              "#46039f"
             ],
             [
              0.2222222222222222,
              "#7201a8"
             ],
             [
              0.3333333333333333,
              "#9c179e"
             ],
             [
              0.4444444444444444,
              "#bd3786"
             ],
             [
              0.5555555555555556,
              "#d8576b"
             ],
             [
              0.6666666666666666,
              "#ed7953"
             ],
             [
              0.7777777777777778,
              "#fb9f3a"
             ],
             [
              0.8888888888888888,
              "#fdca26"
             ],
             [
              1.0,
              "#f0f921"
             ]
            ]
           }
          ],
          "heatmapgl": [
           {
            "type": "heatmapgl",
            "colorbar": {
             "outlinewidth": 0,
             "ticks": ""
            },
            "colorscale": [
             [
              0.0,
              "#0d0887"
             ],
             [
              0.1111111111111111,
              "#46039f"
             ],
             [
              0.2222222222222222,
              "#7201a8"
             ],
             [
              0.3333333333333333,
              "#9c179e"
             ],
             [
              0.4444444444444444,
              "#bd3786"
             ],
             [
              0.5555555555555556,
              "#d8576b"
             ],
             [
              0.6666666666666666,
              "#ed7953"
             ],
             [
              0.7777777777777778,
              "#fb9f3a"
             ],
             [
              0.8888888888888888,
              "#fdca26"
             ],
             [
              1.0,
              "#f0f921"
             ]
            ]
           }
          ],
          "contourcarpet": [
           {
            "type": "contourcarpet",
            "colorbar": {
             "outlinewidth": 0,
             "ticks": ""
            }
           }
          ],
          "contour": [
           {
            "type": "contour",
            "colorbar": {
             "outlinewidth": 0,
             "ticks": ""
            },
            "colorscale": [
             [
              0.0,
              "#0d0887"
             ],
             [
              0.1111111111111111,
              "#46039f"
             ],
             [
              0.2222222222222222,
              "#7201a8"
             ],
             [
              0.3333333333333333,
              "#9c179e"
             ],
             [
              0.4444444444444444,
              "#bd3786"
             ],
             [
              0.5555555555555556,
              "#d8576b"
             ],
             [
              0.6666666666666666,
              "#ed7953"
             ],
             [
              0.7777777777777778,
              "#fb9f3a"
             ],
             [
              0.8888888888888888,
              "#fdca26"
             ],
             [
              1.0,
              "#f0f921"
             ]
            ]
           }
          ],
          "surface": [
           {
            "type": "surface",
            "colorbar": {
             "outlinewidth": 0,
             "ticks": ""
            },
            "colorscale": [
             [
              0.0,
              "#0d0887"
             ],
             [
              0.1111111111111111,
              "#46039f"
             ],
             [
              0.2222222222222222,
              "#7201a8"
             ],
             [
              0.3333333333333333,
              "#9c179e"
             ],
             [
              0.4444444444444444,
              "#bd3786"
             ],
             [
              0.5555555555555556,
              "#d8576b"
             ],
             [
              0.6666666666666666,
              "#ed7953"
             ],
             [
              0.7777777777777778,
              "#fb9f3a"
             ],
             [
              0.8888888888888888,
              "#fdca26"
             ],
             [
              1.0,
              "#f0f921"
             ]
            ]
           }
          ],
          "mesh3d": [
           {
            "type": "mesh3d",
            "colorbar": {
             "outlinewidth": 0,
             "ticks": ""
            }
           }
          ],
          "scatter": [
           {
            "marker": {
             "line": {
              "color": "#283442"
             }
            },
            "type": "scatter"
           }
          ],
          "parcoords": [
           {
            "type": "parcoords",
            "line": {
             "colorbar": {
              "outlinewidth": 0,
              "ticks": ""
             }
            }
           }
          ],
          "scatterpolargl": [
           {
            "type": "scatterpolargl",
            "marker": {
             "colorbar": {
              "outlinewidth": 0,
              "ticks": ""
             }
            }
           }
          ],
          "bar": [
           {
            "error_x": {
             "color": "#f2f5fa"
            },
            "error_y": {
             "color": "#f2f5fa"
            },
            "marker": {
             "line": {
              "color": "rgb(17,17,17)",
              "width": 0.5
             },
             "pattern": {
              "fillmode": "overlay",
              "size": 10,
              "solidity": 0.2
             }
            },
            "type": "bar"
           }
          ],
          "scattergeo": [
           {
            "type": "scattergeo",
            "marker": {
             "colorbar": {
              "outlinewidth": 0,
              "ticks": ""
             }
            }
           }
          ],
          "scatterpolar": [
           {
            "type": "scatterpolar",
            "marker": {
             "colorbar": {
              "outlinewidth": 0,
              "ticks": ""
             }
            }
           }
          ],
          "histogram": [
           {
            "marker": {
             "pattern": {
              "fillmode": "overlay",
              "size": 10,
              "solidity": 0.2
             }
            },
            "type": "histogram"
           }
          ],
          "scattergl": [
           {
            "marker": {
             "line": {
              "color": "#283442"
             }
            },
            "type": "scattergl"
           }
          ],
          "scatter3d": [
           {
            "type": "scatter3d",
            "line": {
             "colorbar": {
              "outlinewidth": 0,
              "ticks": ""
             }
            },
            "marker": {
             "colorbar": {
              "outlinewidth": 0,
              "ticks": ""
             }
            }
           }
          ],
          "scattermapbox": [
           {
            "type": "scattermapbox",
            "marker": {
             "colorbar": {
              "outlinewidth": 0,
              "ticks": ""
             }
            }
           }
          ],
          "scatterternary": [
           {
            "type": "scatterternary",
            "marker": {
             "colorbar": {
              "outlinewidth": 0,
              "ticks": ""
             }
            }
           }
          ],
          "scattercarpet": [
           {
            "type": "scattercarpet",
            "marker": {
             "colorbar": {
              "outlinewidth": 0,
              "ticks": ""
             }
            }
           }
          ],
          "carpet": [
           {
            "aaxis": {
             "endlinecolor": "#A2B1C6",
             "gridcolor": "#506784",
             "linecolor": "#506784",
             "minorgridcolor": "#506784",
             "startlinecolor": "#A2B1C6"
            },
            "baxis": {
             "endlinecolor": "#A2B1C6",
             "gridcolor": "#506784",
             "linecolor": "#506784",
             "minorgridcolor": "#506784",
             "startlinecolor": "#A2B1C6"
            },
            "type": "carpet"
           }
          ],
          "table": [
           {
            "cells": {
             "fill": {
              "color": "#506784"
             },
             "line": {
              "color": "rgb(17,17,17)"
             }
            },
            "header": {
             "fill": {
              "color": "#2a3f5f"
             },
             "line": {
              "color": "rgb(17,17,17)"
             }
            },
            "type": "table"
           }
          ],
          "barpolar": [
           {
            "marker": {
             "line": {
              "color": "rgb(17,17,17)",
              "width": 0.5
             },
             "pattern": {
              "fillmode": "overlay",
              "size": 10,
              "solidity": 0.2
             }
            },
            "type": "barpolar"
           }
          ],
          "pie": [
           {
            "automargin": true,
            "type": "pie"
           }
          ]
         },
         "layout": {
          "autotypenumbers": "strict",
          "colorway": [
           "#636efa",
           "#EF553B",
           "#00cc96",
           "#ab63fa",
           "#FFA15A",
           "#19d3f3",
           "#FF6692",
           "#B6E880",
           "#FF97FF",
           "#FECB52"
          ],
          "font": {
           "color": "#f2f5fa"
          },
          "hovermode": "closest",
          "hoverlabel": {
           "align": "left"
          },
          "paper_bgcolor": "rgb(17,17,17)",
          "plot_bgcolor": "rgb(17,17,17)",
          "polar": {
           "bgcolor": "rgb(17,17,17)",
           "angularaxis": {
            "gridcolor": "#506784",
            "linecolor": "#506784",
            "ticks": ""
           },
           "radialaxis": {
            "gridcolor": "#506784",
            "linecolor": "#506784",
            "ticks": ""
           }
          },
          "ternary": {
           "bgcolor": "rgb(17,17,17)",
           "aaxis": {
            "gridcolor": "#506784",
            "linecolor": "#506784",
            "ticks": ""
           },
           "baxis": {
            "gridcolor": "#506784",
            "linecolor": "#506784",
            "ticks": ""
           },
           "caxis": {
            "gridcolor": "#506784",
            "linecolor": "#506784",
            "ticks": ""
           }
          },
          "coloraxis": {
           "colorbar": {
            "outlinewidth": 0,
            "ticks": ""
           }
          },
          "colorscale": {
           "sequential": [
            [
             0.0,
             "#0d0887"
            ],
            [
             0.1111111111111111,
             "#46039f"
            ],
            [
             0.2222222222222222,
             "#7201a8"
            ],
            [
             0.3333333333333333,
             "#9c179e"
            ],
            [
             0.4444444444444444,
             "#bd3786"
            ],
            [
             0.5555555555555556,
             "#d8576b"
            ],
            [
             0.6666666666666666,
             "#ed7953"
            ],
            [
             0.7777777777777778,
             "#fb9f3a"
            ],
            [
             0.8888888888888888,
             "#fdca26"
            ],
            [
             1.0,
             "#f0f921"
            ]
           ],
           "sequentialminus": [
            [
             0.0,
             "#0d0887"
            ],
            [
             0.1111111111111111,
             "#46039f"
            ],
            [
             0.2222222222222222,
             "#7201a8"
            ],
            [
             0.3333333333333333,
             "#9c179e"
            ],
            [
             0.4444444444444444,
             "#bd3786"
            ],
            [
             0.5555555555555556,
             "#d8576b"
            ],
            [
             0.6666666666666666,
             "#ed7953"
            ],
            [
             0.7777777777777778,
             "#fb9f3a"
            ],
            [
             0.8888888888888888,
             "#fdca26"
            ],
            [
             1.0,
             "#f0f921"
            ]
           ],
           "diverging": [
            [
             0,
             "#8e0152"
            ],
            [
             0.1,
             "#c51b7d"
            ],
            [
             0.2,
             "#de77ae"
            ],
            [
             0.3,
             "#f1b6da"
            ],
            [
             0.4,
             "#fde0ef"
            ],
            [
             0.5,
             "#f7f7f7"
            ],
            [
             0.6,
             "#e6f5d0"
            ],
            [
             0.7,
             "#b8e186"
            ],
            [
             0.8,
             "#7fbc41"
            ],
            [
             0.9,
             "#4d9221"
            ],
            [
             1,
             "#276419"
            ]
           ]
          },
          "xaxis": {
           "gridcolor": "#283442",
           "linecolor": "#506784",
           "ticks": "",
           "title": {
            "standoff": 15
           },
           "zerolinecolor": "#283442",
           "automargin": true,
           "zerolinewidth": 2
          },
          "yaxis": {
           "gridcolor": "#283442",
           "linecolor": "#506784",
           "ticks": "",
           "title": {
            "standoff": 15
           },
           "zerolinecolor": "#283442",
           "automargin": true,
           "zerolinewidth": 2
          },
          "scene": {
           "xaxis": {
            "backgroundcolor": "rgb(17,17,17)",
            "gridcolor": "#506784",
            "linecolor": "#506784",
            "showbackground": true,
            "ticks": "",
            "zerolinecolor": "#C8D4E3",
            "gridwidth": 2
           },
           "yaxis": {
            "backgroundcolor": "rgb(17,17,17)",
            "gridcolor": "#506784",
            "linecolor": "#506784",
            "showbackground": true,
            "ticks": "",
            "zerolinecolor": "#C8D4E3",
            "gridwidth": 2
           },
           "zaxis": {
            "backgroundcolor": "rgb(17,17,17)",
            "gridcolor": "#506784",
            "linecolor": "#506784",
            "showbackground": true,
            "ticks": "",
            "zerolinecolor": "#C8D4E3",
            "gridwidth": 2
           }
          },
          "shapedefaults": {
           "line": {
            "color": "#f2f5fa"
           }
          },
          "annotationdefaults": {
           "arrowcolor": "#f2f5fa",
           "arrowhead": 0,
           "arrowwidth": 1
          },
          "geo": {
           "bgcolor": "rgb(17,17,17)",
           "landcolor": "rgb(17,17,17)",
           "subunitcolor": "#506784",
           "showland": true,
           "showlakes": true,
           "lakecolor": "rgb(17,17,17)"
          },
          "title": {
           "x": 0.05
          },
          "updatemenudefaults": {
           "bgcolor": "#506784",
           "borderwidth": 0
          },
          "sliderdefaults": {
           "bgcolor": "#C8D4E3",
           "borderwidth": 1,
           "bordercolor": "rgb(17,17,17)",
           "tickwidth": 0
          },
          "mapbox": {
           "style": "dark"
          }
         }
        },
        "xaxis": {
         "anchor": "y",
         "domain": [
          0.0,
          1.0
         ],
         "title": {
          "text": "Released_Year"
         }
        },
        "yaxis": {
         "anchor": "x",
         "domain": [
          0.0,
          1.0
         ],
         "title": {
          "text": "Count"
         }
        },
        "legend": {
         "tracegroupgap": 0
        },
        "title": {
         "text": "Number of Movies Released per Year"
        },
        "barmode": "relative"
       },
       "config": {
        "plotlyServerURL": "https://plot.ly"
       }
      },
      "text/html": [
       "<div>                            <div id=\"606caf17-0a85-455c-9226-d0a92dfed10b\" class=\"plotly-graph-div\" style=\"height:525px; width:100%;\"></div>            <script type=\"text/javascript\">                require([\"plotly\"], function(Plotly) {                    window.PLOTLYENV=window.PLOTLYENV || {};                                    if (document.getElementById(\"606caf17-0a85-455c-9226-d0a92dfed10b\")) {                    Plotly.newPlot(                        \"606caf17-0a85-455c-9226-d0a92dfed10b\",                        [{\"alignmentgroup\":\"True\",\"hovertemplate\":\"Released_Year=%{x}\\u003cbr\\u003eCount=%{y}\\u003cextra\\u003e\\u003c\\u002fextra\\u003e\",\"legendgroup\":\"\",\"marker\":{\"color\":\"#636efa\",\"pattern\":{\"shape\":\"\"}},\"name\":\"\",\"offsetgroup\":\"\",\"orientation\":\"v\",\"showlegend\":false,\"textposition\":\"auto\",\"x\":[2014.0,2004.0,2009.0,2016.0,2013.0,2001.0,2007.0,2006.0,2015.0,2012.0,2019.0,2010.0,1993.0,2017.0,2003.0,2008.0,2000.0,1995.0,2002.0,1997.0,2018.0,1999.0,2011.0,2005.0,1998.0,1962.0,1994.0,1992.0,1987.0,1973.0,1979.0,1991.0,1989.0,1988.0,1960.0,1982.0,1996.0,1967.0,1986.0,1984.0,1975.0,1957.0,1971.0,1985.0,1968.0,1990.0,1972.0,1980.0,1964.0,1976.0,1966.0,1978.0,1959.0,1940.0,1948.0,1954.0,2020.0,1974.0,1955.0,1939.0,1953.0,1951.0,1946.0,1961.0,1983.0,1963.0,1950.0,1956.0,1944.0,1981.0,1958.0,1965.0,1952.0,1977.0,1942.0,1935.0,1938.0,1931.0,1933.0,1970.0,1969.0,1949.0,1927.0,1932.0,1941.0,1947.0,1925.0,1928.0,1945.0,1934.0,1936.0,1937.0,1924.0,1921.0,1920.0,1926.0,1930.0,1922.0,1943.0],\"xaxis\":\"x\",\"y\":[32,31,29,28,28,27,26,26,25,24,23,23,23,22,22,21,19,19,19,19,19,18,18,17,17,13,13,12,12,12,12,12,11,11,11,11,10,10,9,9,9,9,9,9,8,8,8,8,7,7,7,7,7,7,6,6,6,6,6,5,5,5,5,5,5,5,5,5,4,4,4,4,4,3,3,3,3,3,3,3,3,3,2,2,2,2,2,2,2,2,1,1,1,1,1,1,1,1,1],\"yaxis\":\"y\",\"type\":\"bar\"}],                        {\"template\":{\"data\":{\"histogram2dcontour\":[{\"type\":\"histogram2dcontour\",\"colorbar\":{\"outlinewidth\":0,\"ticks\":\"\"},\"colorscale\":[[0.0,\"#0d0887\"],[0.1111111111111111,\"#46039f\"],[0.2222222222222222,\"#7201a8\"],[0.3333333333333333,\"#9c179e\"],[0.4444444444444444,\"#bd3786\"],[0.5555555555555556,\"#d8576b\"],[0.6666666666666666,\"#ed7953\"],[0.7777777777777778,\"#fb9f3a\"],[0.8888888888888888,\"#fdca26\"],[1.0,\"#f0f921\"]]}],\"choropleth\":[{\"type\":\"choropleth\",\"colorbar\":{\"outlinewidth\":0,\"ticks\":\"\"}}],\"histogram2d\":[{\"type\":\"histogram2d\",\"colorbar\":{\"outlinewidth\":0,\"ticks\":\"\"},\"colorscale\":[[0.0,\"#0d0887\"],[0.1111111111111111,\"#46039f\"],[0.2222222222222222,\"#7201a8\"],[0.3333333333333333,\"#9c179e\"],[0.4444444444444444,\"#bd3786\"],[0.5555555555555556,\"#d8576b\"],[0.6666666666666666,\"#ed7953\"],[0.7777777777777778,\"#fb9f3a\"],[0.8888888888888888,\"#fdca26\"],[1.0,\"#f0f921\"]]}],\"heatmap\":[{\"type\":\"heatmap\",\"colorbar\":{\"outlinewidth\":0,\"ticks\":\"\"},\"colorscale\":[[0.0,\"#0d0887\"],[0.1111111111111111,\"#46039f\"],[0.2222222222222222,\"#7201a8\"],[0.3333333333333333,\"#9c179e\"],[0.4444444444444444,\"#bd3786\"],[0.5555555555555556,\"#d8576b\"],[0.6666666666666666,\"#ed7953\"],[0.7777777777777778,\"#fb9f3a\"],[0.8888888888888888,\"#fdca26\"],[1.0,\"#f0f921\"]]}],\"heatmapgl\":[{\"type\":\"heatmapgl\",\"colorbar\":{\"outlinewidth\":0,\"ticks\":\"\"},\"colorscale\":[[0.0,\"#0d0887\"],[0.1111111111111111,\"#46039f\"],[0.2222222222222222,\"#7201a8\"],[0.3333333333333333,\"#9c179e\"],[0.4444444444444444,\"#bd3786\"],[0.5555555555555556,\"#d8576b\"],[0.6666666666666666,\"#ed7953\"],[0.7777777777777778,\"#fb9f3a\"],[0.8888888888888888,\"#fdca26\"],[1.0,\"#f0f921\"]]}],\"contourcarpet\":[{\"type\":\"contourcarpet\",\"colorbar\":{\"outlinewidth\":0,\"ticks\":\"\"}}],\"contour\":[{\"type\":\"contour\",\"colorbar\":{\"outlinewidth\":0,\"ticks\":\"\"},\"colorscale\":[[0.0,\"#0d0887\"],[0.1111111111111111,\"#46039f\"],[0.2222222222222222,\"#7201a8\"],[0.3333333333333333,\"#9c179e\"],[0.4444444444444444,\"#bd3786\"],[0.5555555555555556,\"#d8576b\"],[0.6666666666666666,\"#ed7953\"],[0.7777777777777778,\"#fb9f3a\"],[0.8888888888888888,\"#fdca26\"],[1.0,\"#f0f921\"]]}],\"surface\":[{\"type\":\"surface\",\"colorbar\":{\"outlinewidth\":0,\"ticks\":\"\"},\"colorscale\":[[0.0,\"#0d0887\"],[0.1111111111111111,\"#46039f\"],[0.2222222222222222,\"#7201a8\"],[0.3333333333333333,\"#9c179e\"],[0.4444444444444444,\"#bd3786\"],[0.5555555555555556,\"#d8576b\"],[0.6666666666666666,\"#ed7953\"],[0.7777777777777778,\"#fb9f3a\"],[0.8888888888888888,\"#fdca26\"],[1.0,\"#f0f921\"]]}],\"mesh3d\":[{\"type\":\"mesh3d\",\"colorbar\":{\"outlinewidth\":0,\"ticks\":\"\"}}],\"scatter\":[{\"marker\":{\"line\":{\"color\":\"#283442\"}},\"type\":\"scatter\"}],\"parcoords\":[{\"type\":\"parcoords\",\"line\":{\"colorbar\":{\"outlinewidth\":0,\"ticks\":\"\"}}}],\"scatterpolargl\":[{\"type\":\"scatterpolargl\",\"marker\":{\"colorbar\":{\"outlinewidth\":0,\"ticks\":\"\"}}}],\"bar\":[{\"error_x\":{\"color\":\"#f2f5fa\"},\"error_y\":{\"color\":\"#f2f5fa\"},\"marker\":{\"line\":{\"color\":\"rgb(17,17,17)\",\"width\":0.5},\"pattern\":{\"fillmode\":\"overlay\",\"size\":10,\"solidity\":0.2}},\"type\":\"bar\"}],\"scattergeo\":[{\"type\":\"scattergeo\",\"marker\":{\"colorbar\":{\"outlinewidth\":0,\"ticks\":\"\"}}}],\"scatterpolar\":[{\"type\":\"scatterpolar\",\"marker\":{\"colorbar\":{\"outlinewidth\":0,\"ticks\":\"\"}}}],\"histogram\":[{\"marker\":{\"pattern\":{\"fillmode\":\"overlay\",\"size\":10,\"solidity\":0.2}},\"type\":\"histogram\"}],\"scattergl\":[{\"marker\":{\"line\":{\"color\":\"#283442\"}},\"type\":\"scattergl\"}],\"scatter3d\":[{\"type\":\"scatter3d\",\"line\":{\"colorbar\":{\"outlinewidth\":0,\"ticks\":\"\"}},\"marker\":{\"colorbar\":{\"outlinewidth\":0,\"ticks\":\"\"}}}],\"scattermapbox\":[{\"type\":\"scattermapbox\",\"marker\":{\"colorbar\":{\"outlinewidth\":0,\"ticks\":\"\"}}}],\"scatterternary\":[{\"type\":\"scatterternary\",\"marker\":{\"colorbar\":{\"outlinewidth\":0,\"ticks\":\"\"}}}],\"scattercarpet\":[{\"type\":\"scattercarpet\",\"marker\":{\"colorbar\":{\"outlinewidth\":0,\"ticks\":\"\"}}}],\"carpet\":[{\"aaxis\":{\"endlinecolor\":\"#A2B1C6\",\"gridcolor\":\"#506784\",\"linecolor\":\"#506784\",\"minorgridcolor\":\"#506784\",\"startlinecolor\":\"#A2B1C6\"},\"baxis\":{\"endlinecolor\":\"#A2B1C6\",\"gridcolor\":\"#506784\",\"linecolor\":\"#506784\",\"minorgridcolor\":\"#506784\",\"startlinecolor\":\"#A2B1C6\"},\"type\":\"carpet\"}],\"table\":[{\"cells\":{\"fill\":{\"color\":\"#506784\"},\"line\":{\"color\":\"rgb(17,17,17)\"}},\"header\":{\"fill\":{\"color\":\"#2a3f5f\"},\"line\":{\"color\":\"rgb(17,17,17)\"}},\"type\":\"table\"}],\"barpolar\":[{\"marker\":{\"line\":{\"color\":\"rgb(17,17,17)\",\"width\":0.5},\"pattern\":{\"fillmode\":\"overlay\",\"size\":10,\"solidity\":0.2}},\"type\":\"barpolar\"}],\"pie\":[{\"automargin\":true,\"type\":\"pie\"}]},\"layout\":{\"autotypenumbers\":\"strict\",\"colorway\":[\"#636efa\",\"#EF553B\",\"#00cc96\",\"#ab63fa\",\"#FFA15A\",\"#19d3f3\",\"#FF6692\",\"#B6E880\",\"#FF97FF\",\"#FECB52\"],\"font\":{\"color\":\"#f2f5fa\"},\"hovermode\":\"closest\",\"hoverlabel\":{\"align\":\"left\"},\"paper_bgcolor\":\"rgb(17,17,17)\",\"plot_bgcolor\":\"rgb(17,17,17)\",\"polar\":{\"bgcolor\":\"rgb(17,17,17)\",\"angularaxis\":{\"gridcolor\":\"#506784\",\"linecolor\":\"#506784\",\"ticks\":\"\"},\"radialaxis\":{\"gridcolor\":\"#506784\",\"linecolor\":\"#506784\",\"ticks\":\"\"}},\"ternary\":{\"bgcolor\":\"rgb(17,17,17)\",\"aaxis\":{\"gridcolor\":\"#506784\",\"linecolor\":\"#506784\",\"ticks\":\"\"},\"baxis\":{\"gridcolor\":\"#506784\",\"linecolor\":\"#506784\",\"ticks\":\"\"},\"caxis\":{\"gridcolor\":\"#506784\",\"linecolor\":\"#506784\",\"ticks\":\"\"}},\"coloraxis\":{\"colorbar\":{\"outlinewidth\":0,\"ticks\":\"\"}},\"colorscale\":{\"sequential\":[[0.0,\"#0d0887\"],[0.1111111111111111,\"#46039f\"],[0.2222222222222222,\"#7201a8\"],[0.3333333333333333,\"#9c179e\"],[0.4444444444444444,\"#bd3786\"],[0.5555555555555556,\"#d8576b\"],[0.6666666666666666,\"#ed7953\"],[0.7777777777777778,\"#fb9f3a\"],[0.8888888888888888,\"#fdca26\"],[1.0,\"#f0f921\"]],\"sequentialminus\":[[0.0,\"#0d0887\"],[0.1111111111111111,\"#46039f\"],[0.2222222222222222,\"#7201a8\"],[0.3333333333333333,\"#9c179e\"],[0.4444444444444444,\"#bd3786\"],[0.5555555555555556,\"#d8576b\"],[0.6666666666666666,\"#ed7953\"],[0.7777777777777778,\"#fb9f3a\"],[0.8888888888888888,\"#fdca26\"],[1.0,\"#f0f921\"]],\"diverging\":[[0,\"#8e0152\"],[0.1,\"#c51b7d\"],[0.2,\"#de77ae\"],[0.3,\"#f1b6da\"],[0.4,\"#fde0ef\"],[0.5,\"#f7f7f7\"],[0.6,\"#e6f5d0\"],[0.7,\"#b8e186\"],[0.8,\"#7fbc41\"],[0.9,\"#4d9221\"],[1,\"#276419\"]]},\"xaxis\":{\"gridcolor\":\"#283442\",\"linecolor\":\"#506784\",\"ticks\":\"\",\"title\":{\"standoff\":15},\"zerolinecolor\":\"#283442\",\"automargin\":true,\"zerolinewidth\":2},\"yaxis\":{\"gridcolor\":\"#283442\",\"linecolor\":\"#506784\",\"ticks\":\"\",\"title\":{\"standoff\":15},\"zerolinecolor\":\"#283442\",\"automargin\":true,\"zerolinewidth\":2},\"scene\":{\"xaxis\":{\"backgroundcolor\":\"rgb(17,17,17)\",\"gridcolor\":\"#506784\",\"linecolor\":\"#506784\",\"showbackground\":true,\"ticks\":\"\",\"zerolinecolor\":\"#C8D4E3\",\"gridwidth\":2},\"yaxis\":{\"backgroundcolor\":\"rgb(17,17,17)\",\"gridcolor\":\"#506784\",\"linecolor\":\"#506784\",\"showbackground\":true,\"ticks\":\"\",\"zerolinecolor\":\"#C8D4E3\",\"gridwidth\":2},\"zaxis\":{\"backgroundcolor\":\"rgb(17,17,17)\",\"gridcolor\":\"#506784\",\"linecolor\":\"#506784\",\"showbackground\":true,\"ticks\":\"\",\"zerolinecolor\":\"#C8D4E3\",\"gridwidth\":2}},\"shapedefaults\":{\"line\":{\"color\":\"#f2f5fa\"}},\"annotationdefaults\":{\"arrowcolor\":\"#f2f5fa\",\"arrowhead\":0,\"arrowwidth\":1},\"geo\":{\"bgcolor\":\"rgb(17,17,17)\",\"landcolor\":\"rgb(17,17,17)\",\"subunitcolor\":\"#506784\",\"showland\":true,\"showlakes\":true,\"lakecolor\":\"rgb(17,17,17)\"},\"title\":{\"x\":0.05},\"updatemenudefaults\":{\"bgcolor\":\"#506784\",\"borderwidth\":0},\"sliderdefaults\":{\"bgcolor\":\"#C8D4E3\",\"borderwidth\":1,\"bordercolor\":\"rgb(17,17,17)\",\"tickwidth\":0},\"mapbox\":{\"style\":\"dark\"}}},\"xaxis\":{\"anchor\":\"y\",\"domain\":[0.0,1.0],\"title\":{\"text\":\"Released_Year\"}},\"yaxis\":{\"anchor\":\"x\",\"domain\":[0.0,1.0],\"title\":{\"text\":\"Count\"}},\"legend\":{\"tracegroupgap\":0},\"title\":{\"text\":\"Number of Movies Released per Year\"},\"barmode\":\"relative\"},                        {\"responsive\": true}                    ).then(function(){\n",
       "                            \n",
       "var gd = document.getElementById('606caf17-0a85-455c-9226-d0a92dfed10b');\n",
       "var x = new MutationObserver(function (mutations, observer) {{\n",
       "        var display = window.getComputedStyle(gd).display;\n",
       "        if (!display || display === 'none') {{\n",
       "            console.log([gd, 'removed!']);\n",
       "            Plotly.purge(gd);\n",
       "            observer.disconnect();\n",
       "        }}\n",
       "}});\n",
       "\n",
       "// Listen for the removal of the full notebook cells\n",
       "var notebookContainer = gd.closest('#notebook-container');\n",
       "if (notebookContainer) {{\n",
       "    x.observe(notebookContainer, {childList: true});\n",
       "}}\n",
       "\n",
       "// Listen for the clearing of the current output cell\n",
       "var outputEl = gd.closest('.output');\n",
       "if (outputEl) {{\n",
       "    x.observe(outputEl, {childList: true});\n",
       "}}\n",
       "\n",
       "                        })                };                });            </script>        </div>"
      ]
     },
     "metadata": {},
     "output_type": "display_data"
    }
   ],
   "execution_count": 80
  },
  {
   "metadata": {},
   "cell_type": "markdown",
   "source": "This bar chart showcases the top 10 directors with the most films in the top 1000. It helps identify prolific filmmakers and their contribution to the top-rated movies in the dataset.",
   "id": "82e99b78c34257a1"
  },
  {
   "metadata": {
    "ExecuteTime": {
     "end_time": "2025-03-19T20:16:01.132608Z",
     "start_time": "2025-03-19T20:16:01.074369Z"
    }
   },
   "cell_type": "code",
   "source": [
    "import plotly.express as px\n",
    "\n",
    "# Create a bar chart of the top 10 directors by number of movies\n",
    "df_director_count = df['Director'].value_counts().head(10).reset_index()\n",
    "df_director_count.columns = ['Director', 'Count']\n",
    "fig = px.bar(df_director_count, x='Director', y='Count', title='Top 10 Directors by Number of Movies')\n",
    "fig.show()\n"
   ],
   "id": "ae675a45a42c25fc",
   "outputs": [
    {
     "data": {
      "application/vnd.plotly.v1+json": {
       "data": [
        {
         "alignmentgroup": "True",
         "hovertemplate": "Director=%{x}<br>Count=%{y}<extra></extra>",
         "legendgroup": "",
         "marker": {
          "color": "#636efa",
          "pattern": {
           "shape": ""
          }
         },
         "name": "",
         "offsetgroup": "",
         "orientation": "v",
         "showlegend": false,
         "textposition": "auto",
         "x": [
          "alfred hitchcock",
          "steven spielberg",
          "hayao miyazaki",
          "akira kurosawa",
          "martin scorsese",
          "woody allen",
          "stanley kubrick",
          "billy wilder",
          "clint eastwood",
          "christopher nolan"
         ],
         "xaxis": "x",
         "y": [
          14,
          13,
          11,
          10,
          10,
          9,
          9,
          9,
          8,
          8
         ],
         "yaxis": "y",
         "type": "bar"
        }
       ],
       "layout": {
        "template": {
         "data": {
          "histogram2dcontour": [
           {
            "type": "histogram2dcontour",
            "colorbar": {
             "outlinewidth": 0,
             "ticks": ""
            },
            "colorscale": [
             [
              0.0,
              "#0d0887"
             ],
             [
              0.1111111111111111,
              "#46039f"
             ],
             [
              0.2222222222222222,
              "#7201a8"
             ],
             [
              0.3333333333333333,
              "#9c179e"
             ],
             [
              0.4444444444444444,
              "#bd3786"
             ],
             [
              0.5555555555555556,
              "#d8576b"
             ],
             [
              0.6666666666666666,
              "#ed7953"
             ],
             [
              0.7777777777777778,
              "#fb9f3a"
             ],
             [
              0.8888888888888888,
              "#fdca26"
             ],
             [
              1.0,
              "#f0f921"
             ]
            ]
           }
          ],
          "choropleth": [
           {
            "type": "choropleth",
            "colorbar": {
             "outlinewidth": 0,
             "ticks": ""
            }
           }
          ],
          "histogram2d": [
           {
            "type": "histogram2d",
            "colorbar": {
             "outlinewidth": 0,
             "ticks": ""
            },
            "colorscale": [
             [
              0.0,
              "#0d0887"
             ],
             [
              0.1111111111111111,
              "#46039f"
             ],
             [
              0.2222222222222222,
              "#7201a8"
             ],
             [
              0.3333333333333333,
              "#9c179e"
             ],
             [
              0.4444444444444444,
              "#bd3786"
             ],
             [
              0.5555555555555556,
              "#d8576b"
             ],
             [
              0.6666666666666666,
              "#ed7953"
             ],
             [
              0.7777777777777778,
              "#fb9f3a"
             ],
             [
              0.8888888888888888,
              "#fdca26"
             ],
             [
              1.0,
              "#f0f921"
             ]
            ]
           }
          ],
          "heatmap": [
           {
            "type": "heatmap",
            "colorbar": {
             "outlinewidth": 0,
             "ticks": ""
            },
            "colorscale": [
             [
              0.0,
              "#0d0887"
             ],
             [
              0.1111111111111111,
              "#46039f"
             ],
             [
              0.2222222222222222,
              "#7201a8"
             ],
             [
              0.3333333333333333,
              "#9c179e"
             ],
             [
              0.4444444444444444,
              "#bd3786"
             ],
             [
              0.5555555555555556,
              "#d8576b"
             ],
             [
              0.6666666666666666,
              "#ed7953"
             ],
             [
              0.7777777777777778,
              "#fb9f3a"
             ],
             [
              0.8888888888888888,
              "#fdca26"
             ],
             [
              1.0,
              "#f0f921"
             ]
            ]
           }
          ],
          "heatmapgl": [
           {
            "type": "heatmapgl",
            "colorbar": {
             "outlinewidth": 0,
             "ticks": ""
            },
            "colorscale": [
             [
              0.0,
              "#0d0887"
             ],
             [
              0.1111111111111111,
              "#46039f"
             ],
             [
              0.2222222222222222,
              "#7201a8"
             ],
             [
              0.3333333333333333,
              "#9c179e"
             ],
             [
              0.4444444444444444,
              "#bd3786"
             ],
             [
              0.5555555555555556,
              "#d8576b"
             ],
             [
              0.6666666666666666,
              "#ed7953"
             ],
             [
              0.7777777777777778,
              "#fb9f3a"
             ],
             [
              0.8888888888888888,
              "#fdca26"
             ],
             [
              1.0,
              "#f0f921"
             ]
            ]
           }
          ],
          "contourcarpet": [
           {
            "type": "contourcarpet",
            "colorbar": {
             "outlinewidth": 0,
             "ticks": ""
            }
           }
          ],
          "contour": [
           {
            "type": "contour",
            "colorbar": {
             "outlinewidth": 0,
             "ticks": ""
            },
            "colorscale": [
             [
              0.0,
              "#0d0887"
             ],
             [
              0.1111111111111111,
              "#46039f"
             ],
             [
              0.2222222222222222,
              "#7201a8"
             ],
             [
              0.3333333333333333,
              "#9c179e"
             ],
             [
              0.4444444444444444,
              "#bd3786"
             ],
             [
              0.5555555555555556,
              "#d8576b"
             ],
             [
              0.6666666666666666,
              "#ed7953"
             ],
             [
              0.7777777777777778,
              "#fb9f3a"
             ],
             [
              0.8888888888888888,
              "#fdca26"
             ],
             [
              1.0,
              "#f0f921"
             ]
            ]
           }
          ],
          "surface": [
           {
            "type": "surface",
            "colorbar": {
             "outlinewidth": 0,
             "ticks": ""
            },
            "colorscale": [
             [
              0.0,
              "#0d0887"
             ],
             [
              0.1111111111111111,
              "#46039f"
             ],
             [
              0.2222222222222222,
              "#7201a8"
             ],
             [
              0.3333333333333333,
              "#9c179e"
             ],
             [
              0.4444444444444444,
              "#bd3786"
             ],
             [
              0.5555555555555556,
              "#d8576b"
             ],
             [
              0.6666666666666666,
              "#ed7953"
             ],
             [
              0.7777777777777778,
              "#fb9f3a"
             ],
             [
              0.8888888888888888,
              "#fdca26"
             ],
             [
              1.0,
              "#f0f921"
             ]
            ]
           }
          ],
          "mesh3d": [
           {
            "type": "mesh3d",
            "colorbar": {
             "outlinewidth": 0,
             "ticks": ""
            }
           }
          ],
          "scatter": [
           {
            "marker": {
             "line": {
              "color": "#283442"
             }
            },
            "type": "scatter"
           }
          ],
          "parcoords": [
           {
            "type": "parcoords",
            "line": {
             "colorbar": {
              "outlinewidth": 0,
              "ticks": ""
             }
            }
           }
          ],
          "scatterpolargl": [
           {
            "type": "scatterpolargl",
            "marker": {
             "colorbar": {
              "outlinewidth": 0,
              "ticks": ""
             }
            }
           }
          ],
          "bar": [
           {
            "error_x": {
             "color": "#f2f5fa"
            },
            "error_y": {
             "color": "#f2f5fa"
            },
            "marker": {
             "line": {
              "color": "rgb(17,17,17)",
              "width": 0.5
             },
             "pattern": {
              "fillmode": "overlay",
              "size": 10,
              "solidity": 0.2
             }
            },
            "type": "bar"
           }
          ],
          "scattergeo": [
           {
            "type": "scattergeo",
            "marker": {
             "colorbar": {
              "outlinewidth": 0,
              "ticks": ""
             }
            }
           }
          ],
          "scatterpolar": [
           {
            "type": "scatterpolar",
            "marker": {
             "colorbar": {
              "outlinewidth": 0,
              "ticks": ""
             }
            }
           }
          ],
          "histogram": [
           {
            "marker": {
             "pattern": {
              "fillmode": "overlay",
              "size": 10,
              "solidity": 0.2
             }
            },
            "type": "histogram"
           }
          ],
          "scattergl": [
           {
            "marker": {
             "line": {
              "color": "#283442"
             }
            },
            "type": "scattergl"
           }
          ],
          "scatter3d": [
           {
            "type": "scatter3d",
            "line": {
             "colorbar": {
              "outlinewidth": 0,
              "ticks": ""
             }
            },
            "marker": {
             "colorbar": {
              "outlinewidth": 0,
              "ticks": ""
             }
            }
           }
          ],
          "scattermapbox": [
           {
            "type": "scattermapbox",
            "marker": {
             "colorbar": {
              "outlinewidth": 0,
              "ticks": ""
             }
            }
           }
          ],
          "scatterternary": [
           {
            "type": "scatterternary",
            "marker": {
             "colorbar": {
              "outlinewidth": 0,
              "ticks": ""
             }
            }
           }
          ],
          "scattercarpet": [
           {
            "type": "scattercarpet",
            "marker": {
             "colorbar": {
              "outlinewidth": 0,
              "ticks": ""
             }
            }
           }
          ],
          "carpet": [
           {
            "aaxis": {
             "endlinecolor": "#A2B1C6",
             "gridcolor": "#506784",
             "linecolor": "#506784",
             "minorgridcolor": "#506784",
             "startlinecolor": "#A2B1C6"
            },
            "baxis": {
             "endlinecolor": "#A2B1C6",
             "gridcolor": "#506784",
             "linecolor": "#506784",
             "minorgridcolor": "#506784",
             "startlinecolor": "#A2B1C6"
            },
            "type": "carpet"
           }
          ],
          "table": [
           {
            "cells": {
             "fill": {
              "color": "#506784"
             },
             "line": {
              "color": "rgb(17,17,17)"
             }
            },
            "header": {
             "fill": {
              "color": "#2a3f5f"
             },
             "line": {
              "color": "rgb(17,17,17)"
             }
            },
            "type": "table"
           }
          ],
          "barpolar": [
           {
            "marker": {
             "line": {
              "color": "rgb(17,17,17)",
              "width": 0.5
             },
             "pattern": {
              "fillmode": "overlay",
              "size": 10,
              "solidity": 0.2
             }
            },
            "type": "barpolar"
           }
          ],
          "pie": [
           {
            "automargin": true,
            "type": "pie"
           }
          ]
         },
         "layout": {
          "autotypenumbers": "strict",
          "colorway": [
           "#636efa",
           "#EF553B",
           "#00cc96",
           "#ab63fa",
           "#FFA15A",
           "#19d3f3",
           "#FF6692",
           "#B6E880",
           "#FF97FF",
           "#FECB52"
          ],
          "font": {
           "color": "#f2f5fa"
          },
          "hovermode": "closest",
          "hoverlabel": {
           "align": "left"
          },
          "paper_bgcolor": "rgb(17,17,17)",
          "plot_bgcolor": "rgb(17,17,17)",
          "polar": {
           "bgcolor": "rgb(17,17,17)",
           "angularaxis": {
            "gridcolor": "#506784",
            "linecolor": "#506784",
            "ticks": ""
           },
           "radialaxis": {
            "gridcolor": "#506784",
            "linecolor": "#506784",
            "ticks": ""
           }
          },
          "ternary": {
           "bgcolor": "rgb(17,17,17)",
           "aaxis": {
            "gridcolor": "#506784",
            "linecolor": "#506784",
            "ticks": ""
           },
           "baxis": {
            "gridcolor": "#506784",
            "linecolor": "#506784",
            "ticks": ""
           },
           "caxis": {
            "gridcolor": "#506784",
            "linecolor": "#506784",
            "ticks": ""
           }
          },
          "coloraxis": {
           "colorbar": {
            "outlinewidth": 0,
            "ticks": ""
           }
          },
          "colorscale": {
           "sequential": [
            [
             0.0,
             "#0d0887"
            ],
            [
             0.1111111111111111,
             "#46039f"
            ],
            [
             0.2222222222222222,
             "#7201a8"
            ],
            [
             0.3333333333333333,
             "#9c179e"
            ],
            [
             0.4444444444444444,
             "#bd3786"
            ],
            [
             0.5555555555555556,
             "#d8576b"
            ],
            [
             0.6666666666666666,
             "#ed7953"
            ],
            [
             0.7777777777777778,
             "#fb9f3a"
            ],
            [
             0.8888888888888888,
             "#fdca26"
            ],
            [
             1.0,
             "#f0f921"
            ]
           ],
           "sequentialminus": [
            [
             0.0,
             "#0d0887"
            ],
            [
             0.1111111111111111,
             "#46039f"
            ],
            [
             0.2222222222222222,
             "#7201a8"
            ],
            [
             0.3333333333333333,
             "#9c179e"
            ],
            [
             0.4444444444444444,
             "#bd3786"
            ],
            [
             0.5555555555555556,
             "#d8576b"
            ],
            [
             0.6666666666666666,
             "#ed7953"
            ],
            [
             0.7777777777777778,
             "#fb9f3a"
            ],
            [
             0.8888888888888888,
             "#fdca26"
            ],
            [
             1.0,
             "#f0f921"
            ]
           ],
           "diverging": [
            [
             0,
             "#8e0152"
            ],
            [
             0.1,
             "#c51b7d"
            ],
            [
             0.2,
             "#de77ae"
            ],
            [
             0.3,
             "#f1b6da"
            ],
            [
             0.4,
             "#fde0ef"
            ],
            [
             0.5,
             "#f7f7f7"
            ],
            [
             0.6,
             "#e6f5d0"
            ],
            [
             0.7,
             "#b8e186"
            ],
            [
             0.8,
             "#7fbc41"
            ],
            [
             0.9,
             "#4d9221"
            ],
            [
             1,
             "#276419"
            ]
           ]
          },
          "xaxis": {
           "gridcolor": "#283442",
           "linecolor": "#506784",
           "ticks": "",
           "title": {
            "standoff": 15
           },
           "zerolinecolor": "#283442",
           "automargin": true,
           "zerolinewidth": 2
          },
          "yaxis": {
           "gridcolor": "#283442",
           "linecolor": "#506784",
           "ticks": "",
           "title": {
            "standoff": 15
           },
           "zerolinecolor": "#283442",
           "automargin": true,
           "zerolinewidth": 2
          },
          "scene": {
           "xaxis": {
            "backgroundcolor": "rgb(17,17,17)",
            "gridcolor": "#506784",
            "linecolor": "#506784",
            "showbackground": true,
            "ticks": "",
            "zerolinecolor": "#C8D4E3",
            "gridwidth": 2
           },
           "yaxis": {
            "backgroundcolor": "rgb(17,17,17)",
            "gridcolor": "#506784",
            "linecolor": "#506784",
            "showbackground": true,
            "ticks": "",
            "zerolinecolor": "#C8D4E3",
            "gridwidth": 2
           },
           "zaxis": {
            "backgroundcolor": "rgb(17,17,17)",
            "gridcolor": "#506784",
            "linecolor": "#506784",
            "showbackground": true,
            "ticks": "",
            "zerolinecolor": "#C8D4E3",
            "gridwidth": 2
           }
          },
          "shapedefaults": {
           "line": {
            "color": "#f2f5fa"
           }
          },
          "annotationdefaults": {
           "arrowcolor": "#f2f5fa",
           "arrowhead": 0,
           "arrowwidth": 1
          },
          "geo": {
           "bgcolor": "rgb(17,17,17)",
           "landcolor": "rgb(17,17,17)",
           "subunitcolor": "#506784",
           "showland": true,
           "showlakes": true,
           "lakecolor": "rgb(17,17,17)"
          },
          "title": {
           "x": 0.05
          },
          "updatemenudefaults": {
           "bgcolor": "#506784",
           "borderwidth": 0
          },
          "sliderdefaults": {
           "bgcolor": "#C8D4E3",
           "borderwidth": 1,
           "bordercolor": "rgb(17,17,17)",
           "tickwidth": 0
          },
          "mapbox": {
           "style": "dark"
          }
         }
        },
        "xaxis": {
         "anchor": "y",
         "domain": [
          0.0,
          1.0
         ],
         "title": {
          "text": "Director"
         }
        },
        "yaxis": {
         "anchor": "x",
         "domain": [
          0.0,
          1.0
         ],
         "title": {
          "text": "Count"
         }
        },
        "legend": {
         "tracegroupgap": 0
        },
        "title": {
         "text": "Top 10 Directors by Number of Movies"
        },
        "barmode": "relative"
       },
       "config": {
        "plotlyServerURL": "https://plot.ly"
       }
      },
      "text/html": [
       "<div>                            <div id=\"dd1f6be7-533f-4a70-857c-84d792d2013a\" class=\"plotly-graph-div\" style=\"height:525px; width:100%;\"></div>            <script type=\"text/javascript\">                require([\"plotly\"], function(Plotly) {                    window.PLOTLYENV=window.PLOTLYENV || {};                                    if (document.getElementById(\"dd1f6be7-533f-4a70-857c-84d792d2013a\")) {                    Plotly.newPlot(                        \"dd1f6be7-533f-4a70-857c-84d792d2013a\",                        [{\"alignmentgroup\":\"True\",\"hovertemplate\":\"Director=%{x}\\u003cbr\\u003eCount=%{y}\\u003cextra\\u003e\\u003c\\u002fextra\\u003e\",\"legendgroup\":\"\",\"marker\":{\"color\":\"#636efa\",\"pattern\":{\"shape\":\"\"}},\"name\":\"\",\"offsetgroup\":\"\",\"orientation\":\"v\",\"showlegend\":false,\"textposition\":\"auto\",\"x\":[\"alfred hitchcock\",\"steven spielberg\",\"hayao miyazaki\",\"akira kurosawa\",\"martin scorsese\",\"woody allen\",\"stanley kubrick\",\"billy wilder\",\"clint eastwood\",\"christopher nolan\"],\"xaxis\":\"x\",\"y\":[14,13,11,10,10,9,9,9,8,8],\"yaxis\":\"y\",\"type\":\"bar\"}],                        {\"template\":{\"data\":{\"histogram2dcontour\":[{\"type\":\"histogram2dcontour\",\"colorbar\":{\"outlinewidth\":0,\"ticks\":\"\"},\"colorscale\":[[0.0,\"#0d0887\"],[0.1111111111111111,\"#46039f\"],[0.2222222222222222,\"#7201a8\"],[0.3333333333333333,\"#9c179e\"],[0.4444444444444444,\"#bd3786\"],[0.5555555555555556,\"#d8576b\"],[0.6666666666666666,\"#ed7953\"],[0.7777777777777778,\"#fb9f3a\"],[0.8888888888888888,\"#fdca26\"],[1.0,\"#f0f921\"]]}],\"choropleth\":[{\"type\":\"choropleth\",\"colorbar\":{\"outlinewidth\":0,\"ticks\":\"\"}}],\"histogram2d\":[{\"type\":\"histogram2d\",\"colorbar\":{\"outlinewidth\":0,\"ticks\":\"\"},\"colorscale\":[[0.0,\"#0d0887\"],[0.1111111111111111,\"#46039f\"],[0.2222222222222222,\"#7201a8\"],[0.3333333333333333,\"#9c179e\"],[0.4444444444444444,\"#bd3786\"],[0.5555555555555556,\"#d8576b\"],[0.6666666666666666,\"#ed7953\"],[0.7777777777777778,\"#fb9f3a\"],[0.8888888888888888,\"#fdca26\"],[1.0,\"#f0f921\"]]}],\"heatmap\":[{\"type\":\"heatmap\",\"colorbar\":{\"outlinewidth\":0,\"ticks\":\"\"},\"colorscale\":[[0.0,\"#0d0887\"],[0.1111111111111111,\"#46039f\"],[0.2222222222222222,\"#7201a8\"],[0.3333333333333333,\"#9c179e\"],[0.4444444444444444,\"#bd3786\"],[0.5555555555555556,\"#d8576b\"],[0.6666666666666666,\"#ed7953\"],[0.7777777777777778,\"#fb9f3a\"],[0.8888888888888888,\"#fdca26\"],[1.0,\"#f0f921\"]]}],\"heatmapgl\":[{\"type\":\"heatmapgl\",\"colorbar\":{\"outlinewidth\":0,\"ticks\":\"\"},\"colorscale\":[[0.0,\"#0d0887\"],[0.1111111111111111,\"#46039f\"],[0.2222222222222222,\"#7201a8\"],[0.3333333333333333,\"#9c179e\"],[0.4444444444444444,\"#bd3786\"],[0.5555555555555556,\"#d8576b\"],[0.6666666666666666,\"#ed7953\"],[0.7777777777777778,\"#fb9f3a\"],[0.8888888888888888,\"#fdca26\"],[1.0,\"#f0f921\"]]}],\"contourcarpet\":[{\"type\":\"contourcarpet\",\"colorbar\":{\"outlinewidth\":0,\"ticks\":\"\"}}],\"contour\":[{\"type\":\"contour\",\"colorbar\":{\"outlinewidth\":0,\"ticks\":\"\"},\"colorscale\":[[0.0,\"#0d0887\"],[0.1111111111111111,\"#46039f\"],[0.2222222222222222,\"#7201a8\"],[0.3333333333333333,\"#9c179e\"],[0.4444444444444444,\"#bd3786\"],[0.5555555555555556,\"#d8576b\"],[0.6666666666666666,\"#ed7953\"],[0.7777777777777778,\"#fb9f3a\"],[0.8888888888888888,\"#fdca26\"],[1.0,\"#f0f921\"]]}],\"surface\":[{\"type\":\"surface\",\"colorbar\":{\"outlinewidth\":0,\"ticks\":\"\"},\"colorscale\":[[0.0,\"#0d0887\"],[0.1111111111111111,\"#46039f\"],[0.2222222222222222,\"#7201a8\"],[0.3333333333333333,\"#9c179e\"],[0.4444444444444444,\"#bd3786\"],[0.5555555555555556,\"#d8576b\"],[0.6666666666666666,\"#ed7953\"],[0.7777777777777778,\"#fb9f3a\"],[0.8888888888888888,\"#fdca26\"],[1.0,\"#f0f921\"]]}],\"mesh3d\":[{\"type\":\"mesh3d\",\"colorbar\":{\"outlinewidth\":0,\"ticks\":\"\"}}],\"scatter\":[{\"marker\":{\"line\":{\"color\":\"#283442\"}},\"type\":\"scatter\"}],\"parcoords\":[{\"type\":\"parcoords\",\"line\":{\"colorbar\":{\"outlinewidth\":0,\"ticks\":\"\"}}}],\"scatterpolargl\":[{\"type\":\"scatterpolargl\",\"marker\":{\"colorbar\":{\"outlinewidth\":0,\"ticks\":\"\"}}}],\"bar\":[{\"error_x\":{\"color\":\"#f2f5fa\"},\"error_y\":{\"color\":\"#f2f5fa\"},\"marker\":{\"line\":{\"color\":\"rgb(17,17,17)\",\"width\":0.5},\"pattern\":{\"fillmode\":\"overlay\",\"size\":10,\"solidity\":0.2}},\"type\":\"bar\"}],\"scattergeo\":[{\"type\":\"scattergeo\",\"marker\":{\"colorbar\":{\"outlinewidth\":0,\"ticks\":\"\"}}}],\"scatterpolar\":[{\"type\":\"scatterpolar\",\"marker\":{\"colorbar\":{\"outlinewidth\":0,\"ticks\":\"\"}}}],\"histogram\":[{\"marker\":{\"pattern\":{\"fillmode\":\"overlay\",\"size\":10,\"solidity\":0.2}},\"type\":\"histogram\"}],\"scattergl\":[{\"marker\":{\"line\":{\"color\":\"#283442\"}},\"type\":\"scattergl\"}],\"scatter3d\":[{\"type\":\"scatter3d\",\"line\":{\"colorbar\":{\"outlinewidth\":0,\"ticks\":\"\"}},\"marker\":{\"colorbar\":{\"outlinewidth\":0,\"ticks\":\"\"}}}],\"scattermapbox\":[{\"type\":\"scattermapbox\",\"marker\":{\"colorbar\":{\"outlinewidth\":0,\"ticks\":\"\"}}}],\"scatterternary\":[{\"type\":\"scatterternary\",\"marker\":{\"colorbar\":{\"outlinewidth\":0,\"ticks\":\"\"}}}],\"scattercarpet\":[{\"type\":\"scattercarpet\",\"marker\":{\"colorbar\":{\"outlinewidth\":0,\"ticks\":\"\"}}}],\"carpet\":[{\"aaxis\":{\"endlinecolor\":\"#A2B1C6\",\"gridcolor\":\"#506784\",\"linecolor\":\"#506784\",\"minorgridcolor\":\"#506784\",\"startlinecolor\":\"#A2B1C6\"},\"baxis\":{\"endlinecolor\":\"#A2B1C6\",\"gridcolor\":\"#506784\",\"linecolor\":\"#506784\",\"minorgridcolor\":\"#506784\",\"startlinecolor\":\"#A2B1C6\"},\"type\":\"carpet\"}],\"table\":[{\"cells\":{\"fill\":{\"color\":\"#506784\"},\"line\":{\"color\":\"rgb(17,17,17)\"}},\"header\":{\"fill\":{\"color\":\"#2a3f5f\"},\"line\":{\"color\":\"rgb(17,17,17)\"}},\"type\":\"table\"}],\"barpolar\":[{\"marker\":{\"line\":{\"color\":\"rgb(17,17,17)\",\"width\":0.5},\"pattern\":{\"fillmode\":\"overlay\",\"size\":10,\"solidity\":0.2}},\"type\":\"barpolar\"}],\"pie\":[{\"automargin\":true,\"type\":\"pie\"}]},\"layout\":{\"autotypenumbers\":\"strict\",\"colorway\":[\"#636efa\",\"#EF553B\",\"#00cc96\",\"#ab63fa\",\"#FFA15A\",\"#19d3f3\",\"#FF6692\",\"#B6E880\",\"#FF97FF\",\"#FECB52\"],\"font\":{\"color\":\"#f2f5fa\"},\"hovermode\":\"closest\",\"hoverlabel\":{\"align\":\"left\"},\"paper_bgcolor\":\"rgb(17,17,17)\",\"plot_bgcolor\":\"rgb(17,17,17)\",\"polar\":{\"bgcolor\":\"rgb(17,17,17)\",\"angularaxis\":{\"gridcolor\":\"#506784\",\"linecolor\":\"#506784\",\"ticks\":\"\"},\"radialaxis\":{\"gridcolor\":\"#506784\",\"linecolor\":\"#506784\",\"ticks\":\"\"}},\"ternary\":{\"bgcolor\":\"rgb(17,17,17)\",\"aaxis\":{\"gridcolor\":\"#506784\",\"linecolor\":\"#506784\",\"ticks\":\"\"},\"baxis\":{\"gridcolor\":\"#506784\",\"linecolor\":\"#506784\",\"ticks\":\"\"},\"caxis\":{\"gridcolor\":\"#506784\",\"linecolor\":\"#506784\",\"ticks\":\"\"}},\"coloraxis\":{\"colorbar\":{\"outlinewidth\":0,\"ticks\":\"\"}},\"colorscale\":{\"sequential\":[[0.0,\"#0d0887\"],[0.1111111111111111,\"#46039f\"],[0.2222222222222222,\"#7201a8\"],[0.3333333333333333,\"#9c179e\"],[0.4444444444444444,\"#bd3786\"],[0.5555555555555556,\"#d8576b\"],[0.6666666666666666,\"#ed7953\"],[0.7777777777777778,\"#fb9f3a\"],[0.8888888888888888,\"#fdca26\"],[1.0,\"#f0f921\"]],\"sequentialminus\":[[0.0,\"#0d0887\"],[0.1111111111111111,\"#46039f\"],[0.2222222222222222,\"#7201a8\"],[0.3333333333333333,\"#9c179e\"],[0.4444444444444444,\"#bd3786\"],[0.5555555555555556,\"#d8576b\"],[0.6666666666666666,\"#ed7953\"],[0.7777777777777778,\"#fb9f3a\"],[0.8888888888888888,\"#fdca26\"],[1.0,\"#f0f921\"]],\"diverging\":[[0,\"#8e0152\"],[0.1,\"#c51b7d\"],[0.2,\"#de77ae\"],[0.3,\"#f1b6da\"],[0.4,\"#fde0ef\"],[0.5,\"#f7f7f7\"],[0.6,\"#e6f5d0\"],[0.7,\"#b8e186\"],[0.8,\"#7fbc41\"],[0.9,\"#4d9221\"],[1,\"#276419\"]]},\"xaxis\":{\"gridcolor\":\"#283442\",\"linecolor\":\"#506784\",\"ticks\":\"\",\"title\":{\"standoff\":15},\"zerolinecolor\":\"#283442\",\"automargin\":true,\"zerolinewidth\":2},\"yaxis\":{\"gridcolor\":\"#283442\",\"linecolor\":\"#506784\",\"ticks\":\"\",\"title\":{\"standoff\":15},\"zerolinecolor\":\"#283442\",\"automargin\":true,\"zerolinewidth\":2},\"scene\":{\"xaxis\":{\"backgroundcolor\":\"rgb(17,17,17)\",\"gridcolor\":\"#506784\",\"linecolor\":\"#506784\",\"showbackground\":true,\"ticks\":\"\",\"zerolinecolor\":\"#C8D4E3\",\"gridwidth\":2},\"yaxis\":{\"backgroundcolor\":\"rgb(17,17,17)\",\"gridcolor\":\"#506784\",\"linecolor\":\"#506784\",\"showbackground\":true,\"ticks\":\"\",\"zerolinecolor\":\"#C8D4E3\",\"gridwidth\":2},\"zaxis\":{\"backgroundcolor\":\"rgb(17,17,17)\",\"gridcolor\":\"#506784\",\"linecolor\":\"#506784\",\"showbackground\":true,\"ticks\":\"\",\"zerolinecolor\":\"#C8D4E3\",\"gridwidth\":2}},\"shapedefaults\":{\"line\":{\"color\":\"#f2f5fa\"}},\"annotationdefaults\":{\"arrowcolor\":\"#f2f5fa\",\"arrowhead\":0,\"arrowwidth\":1},\"geo\":{\"bgcolor\":\"rgb(17,17,17)\",\"landcolor\":\"rgb(17,17,17)\",\"subunitcolor\":\"#506784\",\"showland\":true,\"showlakes\":true,\"lakecolor\":\"rgb(17,17,17)\"},\"title\":{\"x\":0.05},\"updatemenudefaults\":{\"bgcolor\":\"#506784\",\"borderwidth\":0},\"sliderdefaults\":{\"bgcolor\":\"#C8D4E3\",\"borderwidth\":1,\"bordercolor\":\"rgb(17,17,17)\",\"tickwidth\":0},\"mapbox\":{\"style\":\"dark\"}}},\"xaxis\":{\"anchor\":\"y\",\"domain\":[0.0,1.0],\"title\":{\"text\":\"Director\"}},\"yaxis\":{\"anchor\":\"x\",\"domain\":[0.0,1.0],\"title\":{\"text\":\"Count\"}},\"legend\":{\"tracegroupgap\":0},\"title\":{\"text\":\"Top 10 Directors by Number of Movies\"},\"barmode\":\"relative\"},                        {\"responsive\": true}                    ).then(function(){\n",
       "                            \n",
       "var gd = document.getElementById('dd1f6be7-533f-4a70-857c-84d792d2013a');\n",
       "var x = new MutationObserver(function (mutations, observer) {{\n",
       "        var display = window.getComputedStyle(gd).display;\n",
       "        if (!display || display === 'none') {{\n",
       "            console.log([gd, 'removed!']);\n",
       "            Plotly.purge(gd);\n",
       "            observer.disconnect();\n",
       "        }}\n",
       "}});\n",
       "\n",
       "// Listen for the removal of the full notebook cells\n",
       "var notebookContainer = gd.closest('#notebook-container');\n",
       "if (notebookContainer) {{\n",
       "    x.observe(notebookContainer, {childList: true});\n",
       "}}\n",
       "\n",
       "// Listen for the clearing of the current output cell\n",
       "var outputEl = gd.closest('.output');\n",
       "if (outputEl) {{\n",
       "    x.observe(outputEl, {childList: true});\n",
       "}}\n",
       "\n",
       "                        })                };                });            </script>        </div>"
      ]
     },
     "metadata": {},
     "output_type": "display_data"
    }
   ],
   "execution_count": 81
  },
  {
   "metadata": {},
   "cell_type": "markdown",
   "source": "This pie chart represents the distribution of movie certificates in the dataset. It shows the prevalence of different content ratings (like PG, R, etc.) and how they are distributed across the top 1000 movies.",
   "id": "86d6958d5d5b1353"
  },
  {
   "metadata": {
    "ExecuteTime": {
     "end_time": "2025-03-19T20:16:01.277818Z",
     "start_time": "2025-03-19T20:16:01.197120Z"
    }
   },
   "cell_type": "code",
   "source": [
    "import plotly.express as px\n",
    "\n",
    "# Create a pie chart of movie certificates\n",
    "df_certificate_count = df['Certificate'].value_counts().reset_index()\n",
    "df_certificate_count.columns = ['Certificate', 'Count']\n",
    "fig = px.pie(df_certificate_count, names='Certificate', values='Count', title='Distribution of Movie Certificates')\n",
    "fig.show()\n"
   ],
   "id": "100a1f16304b9028",
   "outputs": [
    {
     "data": {
      "application/vnd.plotly.v1+json": {
       "data": [
        {
         "domain": {
          "x": [
           0.0,
           1.0
          ],
          "y": [
           0.0,
           1.0
          ]
         },
         "hovertemplate": "Certificate=%{label}<br>Count=%{value}<extra></extra>",
         "labels": [
          "u",
          "a",
          "ua",
          "r",
          "unknown",
          "approved",
          "pg13",
          "pg",
          "g"
         ],
         "legendgroup": "",
         "name": "",
         "showlegend": true,
         "values": [
          234,
          197,
          176,
          148,
          102,
          45,
          44,
          42,
          12
         ],
         "type": "pie"
        }
       ],
       "layout": {
        "template": {
         "data": {
          "histogram2dcontour": [
           {
            "type": "histogram2dcontour",
            "colorbar": {
             "outlinewidth": 0,
             "ticks": ""
            },
            "colorscale": [
             [
              0.0,
              "#0d0887"
             ],
             [
              0.1111111111111111,
              "#46039f"
             ],
             [
              0.2222222222222222,
              "#7201a8"
             ],
             [
              0.3333333333333333,
              "#9c179e"
             ],
             [
              0.4444444444444444,
              "#bd3786"
             ],
             [
              0.5555555555555556,
              "#d8576b"
             ],
             [
              0.6666666666666666,
              "#ed7953"
             ],
             [
              0.7777777777777778,
              "#fb9f3a"
             ],
             [
              0.8888888888888888,
              "#fdca26"
             ],
             [
              1.0,
              "#f0f921"
             ]
            ]
           }
          ],
          "choropleth": [
           {
            "type": "choropleth",
            "colorbar": {
             "outlinewidth": 0,
             "ticks": ""
            }
           }
          ],
          "histogram2d": [
           {
            "type": "histogram2d",
            "colorbar": {
             "outlinewidth": 0,
             "ticks": ""
            },
            "colorscale": [
             [
              0.0,
              "#0d0887"
             ],
             [
              0.1111111111111111,
              "#46039f"
             ],
             [
              0.2222222222222222,
              "#7201a8"
             ],
             [
              0.3333333333333333,
              "#9c179e"
             ],
             [
              0.4444444444444444,
              "#bd3786"
             ],
             [
              0.5555555555555556,
              "#d8576b"
             ],
             [
              0.6666666666666666,
              "#ed7953"
             ],
             [
              0.7777777777777778,
              "#fb9f3a"
             ],
             [
              0.8888888888888888,
              "#fdca26"
             ],
             [
              1.0,
              "#f0f921"
             ]
            ]
           }
          ],
          "heatmap": [
           {
            "type": "heatmap",
            "colorbar": {
             "outlinewidth": 0,
             "ticks": ""
            },
            "colorscale": [
             [
              0.0,
              "#0d0887"
             ],
             [
              0.1111111111111111,
              "#46039f"
             ],
             [
              0.2222222222222222,
              "#7201a8"
             ],
             [
              0.3333333333333333,
              "#9c179e"
             ],
             [
              0.4444444444444444,
              "#bd3786"
             ],
             [
              0.5555555555555556,
              "#d8576b"
             ],
             [
              0.6666666666666666,
              "#ed7953"
             ],
             [
              0.7777777777777778,
              "#fb9f3a"
             ],
             [
              0.8888888888888888,
              "#fdca26"
             ],
             [
              1.0,
              "#f0f921"
             ]
            ]
           }
          ],
          "heatmapgl": [
           {
            "type": "heatmapgl",
            "colorbar": {
             "outlinewidth": 0,
             "ticks": ""
            },
            "colorscale": [
             [
              0.0,
              "#0d0887"
             ],
             [
              0.1111111111111111,
              "#46039f"
             ],
             [
              0.2222222222222222,
              "#7201a8"
             ],
             [
              0.3333333333333333,
              "#9c179e"
             ],
             [
              0.4444444444444444,
              "#bd3786"
             ],
             [
              0.5555555555555556,
              "#d8576b"
             ],
             [
              0.6666666666666666,
              "#ed7953"
             ],
             [
              0.7777777777777778,
              "#fb9f3a"
             ],
             [
              0.8888888888888888,
              "#fdca26"
             ],
             [
              1.0,
              "#f0f921"
             ]
            ]
           }
          ],
          "contourcarpet": [
           {
            "type": "contourcarpet",
            "colorbar": {
             "outlinewidth": 0,
             "ticks": ""
            }
           }
          ],
          "contour": [
           {
            "type": "contour",
            "colorbar": {
             "outlinewidth": 0,
             "ticks": ""
            },
            "colorscale": [
             [
              0.0,
              "#0d0887"
             ],
             [
              0.1111111111111111,
              "#46039f"
             ],
             [
              0.2222222222222222,
              "#7201a8"
             ],
             [
              0.3333333333333333,
              "#9c179e"
             ],
             [
              0.4444444444444444,
              "#bd3786"
             ],
             [
              0.5555555555555556,
              "#d8576b"
             ],
             [
              0.6666666666666666,
              "#ed7953"
             ],
             [
              0.7777777777777778,
              "#fb9f3a"
             ],
             [
              0.8888888888888888,
              "#fdca26"
             ],
             [
              1.0,
              "#f0f921"
             ]
            ]
           }
          ],
          "surface": [
           {
            "type": "surface",
            "colorbar": {
             "outlinewidth": 0,
             "ticks": ""
            },
            "colorscale": [
             [
              0.0,
              "#0d0887"
             ],
             [
              0.1111111111111111,
              "#46039f"
             ],
             [
              0.2222222222222222,
              "#7201a8"
             ],
             [
              0.3333333333333333,
              "#9c179e"
             ],
             [
              0.4444444444444444,
              "#bd3786"
             ],
             [
              0.5555555555555556,
              "#d8576b"
             ],
             [
              0.6666666666666666,
              "#ed7953"
             ],
             [
              0.7777777777777778,
              "#fb9f3a"
             ],
             [
              0.8888888888888888,
              "#fdca26"
             ],
             [
              1.0,
              "#f0f921"
             ]
            ]
           }
          ],
          "mesh3d": [
           {
            "type": "mesh3d",
            "colorbar": {
             "outlinewidth": 0,
             "ticks": ""
            }
           }
          ],
          "scatter": [
           {
            "marker": {
             "line": {
              "color": "#283442"
             }
            },
            "type": "scatter"
           }
          ],
          "parcoords": [
           {
            "type": "parcoords",
            "line": {
             "colorbar": {
              "outlinewidth": 0,
              "ticks": ""
             }
            }
           }
          ],
          "scatterpolargl": [
           {
            "type": "scatterpolargl",
            "marker": {
             "colorbar": {
              "outlinewidth": 0,
              "ticks": ""
             }
            }
           }
          ],
          "bar": [
           {
            "error_x": {
             "color": "#f2f5fa"
            },
            "error_y": {
             "color": "#f2f5fa"
            },
            "marker": {
             "line": {
              "color": "rgb(17,17,17)",
              "width": 0.5
             },
             "pattern": {
              "fillmode": "overlay",
              "size": 10,
              "solidity": 0.2
             }
            },
            "type": "bar"
           }
          ],
          "scattergeo": [
           {
            "type": "scattergeo",
            "marker": {
             "colorbar": {
              "outlinewidth": 0,
              "ticks": ""
             }
            }
           }
          ],
          "scatterpolar": [
           {
            "type": "scatterpolar",
            "marker": {
             "colorbar": {
              "outlinewidth": 0,
              "ticks": ""
             }
            }
           }
          ],
          "histogram": [
           {
            "marker": {
             "pattern": {
              "fillmode": "overlay",
              "size": 10,
              "solidity": 0.2
             }
            },
            "type": "histogram"
           }
          ],
          "scattergl": [
           {
            "marker": {
             "line": {
              "color": "#283442"
             }
            },
            "type": "scattergl"
           }
          ],
          "scatter3d": [
           {
            "type": "scatter3d",
            "line": {
             "colorbar": {
              "outlinewidth": 0,
              "ticks": ""
             }
            },
            "marker": {
             "colorbar": {
              "outlinewidth": 0,
              "ticks": ""
             }
            }
           }
          ],
          "scattermapbox": [
           {
            "type": "scattermapbox",
            "marker": {
             "colorbar": {
              "outlinewidth": 0,
              "ticks": ""
             }
            }
           }
          ],
          "scatterternary": [
           {
            "type": "scatterternary",
            "marker": {
             "colorbar": {
              "outlinewidth": 0,
              "ticks": ""
             }
            }
           }
          ],
          "scattercarpet": [
           {
            "type": "scattercarpet",
            "marker": {
             "colorbar": {
              "outlinewidth": 0,
              "ticks": ""
             }
            }
           }
          ],
          "carpet": [
           {
            "aaxis": {
             "endlinecolor": "#A2B1C6",
             "gridcolor": "#506784",
             "linecolor": "#506784",
             "minorgridcolor": "#506784",
             "startlinecolor": "#A2B1C6"
            },
            "baxis": {
             "endlinecolor": "#A2B1C6",
             "gridcolor": "#506784",
             "linecolor": "#506784",
             "minorgridcolor": "#506784",
             "startlinecolor": "#A2B1C6"
            },
            "type": "carpet"
           }
          ],
          "table": [
           {
            "cells": {
             "fill": {
              "color": "#506784"
             },
             "line": {
              "color": "rgb(17,17,17)"
             }
            },
            "header": {
             "fill": {
              "color": "#2a3f5f"
             },
             "line": {
              "color": "rgb(17,17,17)"
             }
            },
            "type": "table"
           }
          ],
          "barpolar": [
           {
            "marker": {
             "line": {
              "color": "rgb(17,17,17)",
              "width": 0.5
             },
             "pattern": {
              "fillmode": "overlay",
              "size": 10,
              "solidity": 0.2
             }
            },
            "type": "barpolar"
           }
          ],
          "pie": [
           {
            "automargin": true,
            "type": "pie"
           }
          ]
         },
         "layout": {
          "autotypenumbers": "strict",
          "colorway": [
           "#636efa",
           "#EF553B",
           "#00cc96",
           "#ab63fa",
           "#FFA15A",
           "#19d3f3",
           "#FF6692",
           "#B6E880",
           "#FF97FF",
           "#FECB52"
          ],
          "font": {
           "color": "#f2f5fa"
          },
          "hovermode": "closest",
          "hoverlabel": {
           "align": "left"
          },
          "paper_bgcolor": "rgb(17,17,17)",
          "plot_bgcolor": "rgb(17,17,17)",
          "polar": {
           "bgcolor": "rgb(17,17,17)",
           "angularaxis": {
            "gridcolor": "#506784",
            "linecolor": "#506784",
            "ticks": ""
           },
           "radialaxis": {
            "gridcolor": "#506784",
            "linecolor": "#506784",
            "ticks": ""
           }
          },
          "ternary": {
           "bgcolor": "rgb(17,17,17)",
           "aaxis": {
            "gridcolor": "#506784",
            "linecolor": "#506784",
            "ticks": ""
           },
           "baxis": {
            "gridcolor": "#506784",
            "linecolor": "#506784",
            "ticks": ""
           },
           "caxis": {
            "gridcolor": "#506784",
            "linecolor": "#506784",
            "ticks": ""
           }
          },
          "coloraxis": {
           "colorbar": {
            "outlinewidth": 0,
            "ticks": ""
           }
          },
          "colorscale": {
           "sequential": [
            [
             0.0,
             "#0d0887"
            ],
            [
             0.1111111111111111,
             "#46039f"
            ],
            [
             0.2222222222222222,
             "#7201a8"
            ],
            [
             0.3333333333333333,
             "#9c179e"
            ],
            [
             0.4444444444444444,
             "#bd3786"
            ],
            [
             0.5555555555555556,
             "#d8576b"
            ],
            [
             0.6666666666666666,
             "#ed7953"
            ],
            [
             0.7777777777777778,
             "#fb9f3a"
            ],
            [
             0.8888888888888888,
             "#fdca26"
            ],
            [
             1.0,
             "#f0f921"
            ]
           ],
           "sequentialminus": [
            [
             0.0,
             "#0d0887"
            ],
            [
             0.1111111111111111,
             "#46039f"
            ],
            [
             0.2222222222222222,
             "#7201a8"
            ],
            [
             0.3333333333333333,
             "#9c179e"
            ],
            [
             0.4444444444444444,
             "#bd3786"
            ],
            [
             0.5555555555555556,
             "#d8576b"
            ],
            [
             0.6666666666666666,
             "#ed7953"
            ],
            [
             0.7777777777777778,
             "#fb9f3a"
            ],
            [
             0.8888888888888888,
             "#fdca26"
            ],
            [
             1.0,
             "#f0f921"
            ]
           ],
           "diverging": [
            [
             0,
             "#8e0152"
            ],
            [
             0.1,
             "#c51b7d"
            ],
            [
             0.2,
             "#de77ae"
            ],
            [
             0.3,
             "#f1b6da"
            ],
            [
             0.4,
             "#fde0ef"
            ],
            [
             0.5,
             "#f7f7f7"
            ],
            [
             0.6,
             "#e6f5d0"
            ],
            [
             0.7,
             "#b8e186"
            ],
            [
             0.8,
             "#7fbc41"
            ],
            [
             0.9,
             "#4d9221"
            ],
            [
             1,
             "#276419"
            ]
           ]
          },
          "xaxis": {
           "gridcolor": "#283442",
           "linecolor": "#506784",
           "ticks": "",
           "title": {
            "standoff": 15
           },
           "zerolinecolor": "#283442",
           "automargin": true,
           "zerolinewidth": 2
          },
          "yaxis": {
           "gridcolor": "#283442",
           "linecolor": "#506784",
           "ticks": "",
           "title": {
            "standoff": 15
           },
           "zerolinecolor": "#283442",
           "automargin": true,
           "zerolinewidth": 2
          },
          "scene": {
           "xaxis": {
            "backgroundcolor": "rgb(17,17,17)",
            "gridcolor": "#506784",
            "linecolor": "#506784",
            "showbackground": true,
            "ticks": "",
            "zerolinecolor": "#C8D4E3",
            "gridwidth": 2
           },
           "yaxis": {
            "backgroundcolor": "rgb(17,17,17)",
            "gridcolor": "#506784",
            "linecolor": "#506784",
            "showbackground": true,
            "ticks": "",
            "zerolinecolor": "#C8D4E3",
            "gridwidth": 2
           },
           "zaxis": {
            "backgroundcolor": "rgb(17,17,17)",
            "gridcolor": "#506784",
            "linecolor": "#506784",
            "showbackground": true,
            "ticks": "",
            "zerolinecolor": "#C8D4E3",
            "gridwidth": 2
           }
          },
          "shapedefaults": {
           "line": {
            "color": "#f2f5fa"
           }
          },
          "annotationdefaults": {
           "arrowcolor": "#f2f5fa",
           "arrowhead": 0,
           "arrowwidth": 1
          },
          "geo": {
           "bgcolor": "rgb(17,17,17)",
           "landcolor": "rgb(17,17,17)",
           "subunitcolor": "#506784",
           "showland": true,
           "showlakes": true,
           "lakecolor": "rgb(17,17,17)"
          },
          "title": {
           "x": 0.05
          },
          "updatemenudefaults": {
           "bgcolor": "#506784",
           "borderwidth": 0
          },
          "sliderdefaults": {
           "bgcolor": "#C8D4E3",
           "borderwidth": 1,
           "bordercolor": "rgb(17,17,17)",
           "tickwidth": 0
          },
          "mapbox": {
           "style": "dark"
          }
         }
        },
        "legend": {
         "tracegroupgap": 0
        },
        "title": {
         "text": "Distribution of Movie Certificates"
        }
       },
       "config": {
        "plotlyServerURL": "https://plot.ly"
       }
      },
      "text/html": [
       "<div>                            <div id=\"8ba20c5d-be33-48e1-a06c-db4c32fe358e\" class=\"plotly-graph-div\" style=\"height:525px; width:100%;\"></div>            <script type=\"text/javascript\">                require([\"plotly\"], function(Plotly) {                    window.PLOTLYENV=window.PLOTLYENV || {};                                    if (document.getElementById(\"8ba20c5d-be33-48e1-a06c-db4c32fe358e\")) {                    Plotly.newPlot(                        \"8ba20c5d-be33-48e1-a06c-db4c32fe358e\",                        [{\"domain\":{\"x\":[0.0,1.0],\"y\":[0.0,1.0]},\"hovertemplate\":\"Certificate=%{label}\\u003cbr\\u003eCount=%{value}\\u003cextra\\u003e\\u003c\\u002fextra\\u003e\",\"labels\":[\"u\",\"a\",\"ua\",\"r\",\"unknown\",\"approved\",\"pg13\",\"pg\",\"g\"],\"legendgroup\":\"\",\"name\":\"\",\"showlegend\":true,\"values\":[234,197,176,148,102,45,44,42,12],\"type\":\"pie\"}],                        {\"template\":{\"data\":{\"histogram2dcontour\":[{\"type\":\"histogram2dcontour\",\"colorbar\":{\"outlinewidth\":0,\"ticks\":\"\"},\"colorscale\":[[0.0,\"#0d0887\"],[0.1111111111111111,\"#46039f\"],[0.2222222222222222,\"#7201a8\"],[0.3333333333333333,\"#9c179e\"],[0.4444444444444444,\"#bd3786\"],[0.5555555555555556,\"#d8576b\"],[0.6666666666666666,\"#ed7953\"],[0.7777777777777778,\"#fb9f3a\"],[0.8888888888888888,\"#fdca26\"],[1.0,\"#f0f921\"]]}],\"choropleth\":[{\"type\":\"choropleth\",\"colorbar\":{\"outlinewidth\":0,\"ticks\":\"\"}}],\"histogram2d\":[{\"type\":\"histogram2d\",\"colorbar\":{\"outlinewidth\":0,\"ticks\":\"\"},\"colorscale\":[[0.0,\"#0d0887\"],[0.1111111111111111,\"#46039f\"],[0.2222222222222222,\"#7201a8\"],[0.3333333333333333,\"#9c179e\"],[0.4444444444444444,\"#bd3786\"],[0.5555555555555556,\"#d8576b\"],[0.6666666666666666,\"#ed7953\"],[0.7777777777777778,\"#fb9f3a\"],[0.8888888888888888,\"#fdca26\"],[1.0,\"#f0f921\"]]}],\"heatmap\":[{\"type\":\"heatmap\",\"colorbar\":{\"outlinewidth\":0,\"ticks\":\"\"},\"colorscale\":[[0.0,\"#0d0887\"],[0.1111111111111111,\"#46039f\"],[0.2222222222222222,\"#7201a8\"],[0.3333333333333333,\"#9c179e\"],[0.4444444444444444,\"#bd3786\"],[0.5555555555555556,\"#d8576b\"],[0.6666666666666666,\"#ed7953\"],[0.7777777777777778,\"#fb9f3a\"],[0.8888888888888888,\"#fdca26\"],[1.0,\"#f0f921\"]]}],\"heatmapgl\":[{\"type\":\"heatmapgl\",\"colorbar\":{\"outlinewidth\":0,\"ticks\":\"\"},\"colorscale\":[[0.0,\"#0d0887\"],[0.1111111111111111,\"#46039f\"],[0.2222222222222222,\"#7201a8\"],[0.3333333333333333,\"#9c179e\"],[0.4444444444444444,\"#bd3786\"],[0.5555555555555556,\"#d8576b\"],[0.6666666666666666,\"#ed7953\"],[0.7777777777777778,\"#fb9f3a\"],[0.8888888888888888,\"#fdca26\"],[1.0,\"#f0f921\"]]}],\"contourcarpet\":[{\"type\":\"contourcarpet\",\"colorbar\":{\"outlinewidth\":0,\"ticks\":\"\"}}],\"contour\":[{\"type\":\"contour\",\"colorbar\":{\"outlinewidth\":0,\"ticks\":\"\"},\"colorscale\":[[0.0,\"#0d0887\"],[0.1111111111111111,\"#46039f\"],[0.2222222222222222,\"#7201a8\"],[0.3333333333333333,\"#9c179e\"],[0.4444444444444444,\"#bd3786\"],[0.5555555555555556,\"#d8576b\"],[0.6666666666666666,\"#ed7953\"],[0.7777777777777778,\"#fb9f3a\"],[0.8888888888888888,\"#fdca26\"],[1.0,\"#f0f921\"]]}],\"surface\":[{\"type\":\"surface\",\"colorbar\":{\"outlinewidth\":0,\"ticks\":\"\"},\"colorscale\":[[0.0,\"#0d0887\"],[0.1111111111111111,\"#46039f\"],[0.2222222222222222,\"#7201a8\"],[0.3333333333333333,\"#9c179e\"],[0.4444444444444444,\"#bd3786\"],[0.5555555555555556,\"#d8576b\"],[0.6666666666666666,\"#ed7953\"],[0.7777777777777778,\"#fb9f3a\"],[0.8888888888888888,\"#fdca26\"],[1.0,\"#f0f921\"]]}],\"mesh3d\":[{\"type\":\"mesh3d\",\"colorbar\":{\"outlinewidth\":0,\"ticks\":\"\"}}],\"scatter\":[{\"marker\":{\"line\":{\"color\":\"#283442\"}},\"type\":\"scatter\"}],\"parcoords\":[{\"type\":\"parcoords\",\"line\":{\"colorbar\":{\"outlinewidth\":0,\"ticks\":\"\"}}}],\"scatterpolargl\":[{\"type\":\"scatterpolargl\",\"marker\":{\"colorbar\":{\"outlinewidth\":0,\"ticks\":\"\"}}}],\"bar\":[{\"error_x\":{\"color\":\"#f2f5fa\"},\"error_y\":{\"color\":\"#f2f5fa\"},\"marker\":{\"line\":{\"color\":\"rgb(17,17,17)\",\"width\":0.5},\"pattern\":{\"fillmode\":\"overlay\",\"size\":10,\"solidity\":0.2}},\"type\":\"bar\"}],\"scattergeo\":[{\"type\":\"scattergeo\",\"marker\":{\"colorbar\":{\"outlinewidth\":0,\"ticks\":\"\"}}}],\"scatterpolar\":[{\"type\":\"scatterpolar\",\"marker\":{\"colorbar\":{\"outlinewidth\":0,\"ticks\":\"\"}}}],\"histogram\":[{\"marker\":{\"pattern\":{\"fillmode\":\"overlay\",\"size\":10,\"solidity\":0.2}},\"type\":\"histogram\"}],\"scattergl\":[{\"marker\":{\"line\":{\"color\":\"#283442\"}},\"type\":\"scattergl\"}],\"scatter3d\":[{\"type\":\"scatter3d\",\"line\":{\"colorbar\":{\"outlinewidth\":0,\"ticks\":\"\"}},\"marker\":{\"colorbar\":{\"outlinewidth\":0,\"ticks\":\"\"}}}],\"scattermapbox\":[{\"type\":\"scattermapbox\",\"marker\":{\"colorbar\":{\"outlinewidth\":0,\"ticks\":\"\"}}}],\"scatterternary\":[{\"type\":\"scatterternary\",\"marker\":{\"colorbar\":{\"outlinewidth\":0,\"ticks\":\"\"}}}],\"scattercarpet\":[{\"type\":\"scattercarpet\",\"marker\":{\"colorbar\":{\"outlinewidth\":0,\"ticks\":\"\"}}}],\"carpet\":[{\"aaxis\":{\"endlinecolor\":\"#A2B1C6\",\"gridcolor\":\"#506784\",\"linecolor\":\"#506784\",\"minorgridcolor\":\"#506784\",\"startlinecolor\":\"#A2B1C6\"},\"baxis\":{\"endlinecolor\":\"#A2B1C6\",\"gridcolor\":\"#506784\",\"linecolor\":\"#506784\",\"minorgridcolor\":\"#506784\",\"startlinecolor\":\"#A2B1C6\"},\"type\":\"carpet\"}],\"table\":[{\"cells\":{\"fill\":{\"color\":\"#506784\"},\"line\":{\"color\":\"rgb(17,17,17)\"}},\"header\":{\"fill\":{\"color\":\"#2a3f5f\"},\"line\":{\"color\":\"rgb(17,17,17)\"}},\"type\":\"table\"}],\"barpolar\":[{\"marker\":{\"line\":{\"color\":\"rgb(17,17,17)\",\"width\":0.5},\"pattern\":{\"fillmode\":\"overlay\",\"size\":10,\"solidity\":0.2}},\"type\":\"barpolar\"}],\"pie\":[{\"automargin\":true,\"type\":\"pie\"}]},\"layout\":{\"autotypenumbers\":\"strict\",\"colorway\":[\"#636efa\",\"#EF553B\",\"#00cc96\",\"#ab63fa\",\"#FFA15A\",\"#19d3f3\",\"#FF6692\",\"#B6E880\",\"#FF97FF\",\"#FECB52\"],\"font\":{\"color\":\"#f2f5fa\"},\"hovermode\":\"closest\",\"hoverlabel\":{\"align\":\"left\"},\"paper_bgcolor\":\"rgb(17,17,17)\",\"plot_bgcolor\":\"rgb(17,17,17)\",\"polar\":{\"bgcolor\":\"rgb(17,17,17)\",\"angularaxis\":{\"gridcolor\":\"#506784\",\"linecolor\":\"#506784\",\"ticks\":\"\"},\"radialaxis\":{\"gridcolor\":\"#506784\",\"linecolor\":\"#506784\",\"ticks\":\"\"}},\"ternary\":{\"bgcolor\":\"rgb(17,17,17)\",\"aaxis\":{\"gridcolor\":\"#506784\",\"linecolor\":\"#506784\",\"ticks\":\"\"},\"baxis\":{\"gridcolor\":\"#506784\",\"linecolor\":\"#506784\",\"ticks\":\"\"},\"caxis\":{\"gridcolor\":\"#506784\",\"linecolor\":\"#506784\",\"ticks\":\"\"}},\"coloraxis\":{\"colorbar\":{\"outlinewidth\":0,\"ticks\":\"\"}},\"colorscale\":{\"sequential\":[[0.0,\"#0d0887\"],[0.1111111111111111,\"#46039f\"],[0.2222222222222222,\"#7201a8\"],[0.3333333333333333,\"#9c179e\"],[0.4444444444444444,\"#bd3786\"],[0.5555555555555556,\"#d8576b\"],[0.6666666666666666,\"#ed7953\"],[0.7777777777777778,\"#fb9f3a\"],[0.8888888888888888,\"#fdca26\"],[1.0,\"#f0f921\"]],\"sequentialminus\":[[0.0,\"#0d0887\"],[0.1111111111111111,\"#46039f\"],[0.2222222222222222,\"#7201a8\"],[0.3333333333333333,\"#9c179e\"],[0.4444444444444444,\"#bd3786\"],[0.5555555555555556,\"#d8576b\"],[0.6666666666666666,\"#ed7953\"],[0.7777777777777778,\"#fb9f3a\"],[0.8888888888888888,\"#fdca26\"],[1.0,\"#f0f921\"]],\"diverging\":[[0,\"#8e0152\"],[0.1,\"#c51b7d\"],[0.2,\"#de77ae\"],[0.3,\"#f1b6da\"],[0.4,\"#fde0ef\"],[0.5,\"#f7f7f7\"],[0.6,\"#e6f5d0\"],[0.7,\"#b8e186\"],[0.8,\"#7fbc41\"],[0.9,\"#4d9221\"],[1,\"#276419\"]]},\"xaxis\":{\"gridcolor\":\"#283442\",\"linecolor\":\"#506784\",\"ticks\":\"\",\"title\":{\"standoff\":15},\"zerolinecolor\":\"#283442\",\"automargin\":true,\"zerolinewidth\":2},\"yaxis\":{\"gridcolor\":\"#283442\",\"linecolor\":\"#506784\",\"ticks\":\"\",\"title\":{\"standoff\":15},\"zerolinecolor\":\"#283442\",\"automargin\":true,\"zerolinewidth\":2},\"scene\":{\"xaxis\":{\"backgroundcolor\":\"rgb(17,17,17)\",\"gridcolor\":\"#506784\",\"linecolor\":\"#506784\",\"showbackground\":true,\"ticks\":\"\",\"zerolinecolor\":\"#C8D4E3\",\"gridwidth\":2},\"yaxis\":{\"backgroundcolor\":\"rgb(17,17,17)\",\"gridcolor\":\"#506784\",\"linecolor\":\"#506784\",\"showbackground\":true,\"ticks\":\"\",\"zerolinecolor\":\"#C8D4E3\",\"gridwidth\":2},\"zaxis\":{\"backgroundcolor\":\"rgb(17,17,17)\",\"gridcolor\":\"#506784\",\"linecolor\":\"#506784\",\"showbackground\":true,\"ticks\":\"\",\"zerolinecolor\":\"#C8D4E3\",\"gridwidth\":2}},\"shapedefaults\":{\"line\":{\"color\":\"#f2f5fa\"}},\"annotationdefaults\":{\"arrowcolor\":\"#f2f5fa\",\"arrowhead\":0,\"arrowwidth\":1},\"geo\":{\"bgcolor\":\"rgb(17,17,17)\",\"landcolor\":\"rgb(17,17,17)\",\"subunitcolor\":\"#506784\",\"showland\":true,\"showlakes\":true,\"lakecolor\":\"rgb(17,17,17)\"},\"title\":{\"x\":0.05},\"updatemenudefaults\":{\"bgcolor\":\"#506784\",\"borderwidth\":0},\"sliderdefaults\":{\"bgcolor\":\"#C8D4E3\",\"borderwidth\":1,\"bordercolor\":\"rgb(17,17,17)\",\"tickwidth\":0},\"mapbox\":{\"style\":\"dark\"}}},\"legend\":{\"tracegroupgap\":0},\"title\":{\"text\":\"Distribution of Movie Certificates\"}},                        {\"responsive\": true}                    ).then(function(){\n",
       "                            \n",
       "var gd = document.getElementById('8ba20c5d-be33-48e1-a06c-db4c32fe358e');\n",
       "var x = new MutationObserver(function (mutations, observer) {{\n",
       "        var display = window.getComputedStyle(gd).display;\n",
       "        if (!display || display === 'none') {{\n",
       "            console.log([gd, 'removed!']);\n",
       "            Plotly.purge(gd);\n",
       "            observer.disconnect();\n",
       "        }}\n",
       "}});\n",
       "\n",
       "// Listen for the removal of the full notebook cells\n",
       "var notebookContainer = gd.closest('#notebook-container');\n",
       "if (notebookContainer) {{\n",
       "    x.observe(notebookContainer, {childList: true});\n",
       "}}\n",
       "\n",
       "// Listen for the clearing of the current output cell\n",
       "var outputEl = gd.closest('.output');\n",
       "if (outputEl) {{\n",
       "    x.observe(outputEl, {childList: true});\n",
       "}}\n",
       "\n",
       "                        })                };                });            </script>        </div>"
      ]
     },
     "metadata": {},
     "output_type": "display_data"
    }
   ],
   "execution_count": 82
  },
  {
   "metadata": {},
   "cell_type": "markdown",
   "source": "This heatmap visualizes the correlations between various numerical features, such as IMDB ratings, metascore, votes, and gross revenue. It helps identify relationships, such as whether a higher IMDB rating correlates with higher gross revenue.",
   "id": "336e495539ae18bc"
  },
  {
   "metadata": {
    "ExecuteTime": {
     "end_time": "2025-03-19T20:16:01.434106Z",
     "start_time": "2025-03-19T20:16:01.338958Z"
    }
   },
   "cell_type": "code",
   "source": [
    "import plotly.express as px\n",
    "import numpy as np\n",
    "\n",
    "# Compute the correlation matrix\n",
    "corr_matrix = df[['IMDB_Rating', 'Meta_score', 'No_of_Votes', 'Gross', 'Runtime']].corr()\n",
    "\n",
    "# Create a heatmap\n",
    "fig = px.imshow(corr_matrix, text_auto=True, title='Correlation Heatmap of Numerical Features')\n",
    "fig.show()\n"
   ],
   "id": "579008c1b1f15a6b",
   "outputs": [
    {
     "data": {
      "application/vnd.plotly.v1+json": {
       "data": [
        {
         "coloraxis": "coloraxis",
         "name": "0",
         "texttemplate": "%{z}",
         "x": [
          "IMDB_Rating",
          "Meta_score",
          "No_of_Votes",
          "Gross",
          "Runtime"
         ],
         "y": [
          "IMDB_Rating",
          "Meta_score",
          "No_of_Votes",
          "Gross",
          "Runtime"
         ],
         "z": [
          [
           1.0,
           0.2586503678827768,
           0.4949788358621419,
           0.08551815318640814,
           0.2430958977541939
          ],
          [
           0.2586503678827768,
           1.0,
           -0.026939532268847346,
           -0.0518887982874646,
           -0.02636060111443329
          ],
          [
           0.4949788358621419,
           -0.026939532268847346,
           1.0,
           0.5884277448369359,
           0.17326379844471046
          ],
          [
           0.08551815318640814,
           -0.0518887982874646,
           0.5884277448369359,
           1.0,
           0.1383530510171578
          ],
          [
           0.2430958977541939,
           -0.02636060111443329,
           0.17326379844471046,
           0.1383530510171578,
           1.0
          ]
         ],
         "type": "heatmap",
         "xaxis": "x",
         "yaxis": "y",
         "hovertemplate": "x: %{x}<br>y: %{y}<br>color: %{z}<extra></extra>"
        }
       ],
       "layout": {
        "template": {
         "data": {
          "histogram2dcontour": [
           {
            "type": "histogram2dcontour",
            "colorbar": {
             "outlinewidth": 0,
             "ticks": ""
            },
            "colorscale": [
             [
              0.0,
              "#0d0887"
             ],
             [
              0.1111111111111111,
              "#46039f"
             ],
             [
              0.2222222222222222,
              "#7201a8"
             ],
             [
              0.3333333333333333,
              "#9c179e"
             ],
             [
              0.4444444444444444,
              "#bd3786"
             ],
             [
              0.5555555555555556,
              "#d8576b"
             ],
             [
              0.6666666666666666,
              "#ed7953"
             ],
             [
              0.7777777777777778,
              "#fb9f3a"
             ],
             [
              0.8888888888888888,
              "#fdca26"
             ],
             [
              1.0,
              "#f0f921"
             ]
            ]
           }
          ],
          "choropleth": [
           {
            "type": "choropleth",
            "colorbar": {
             "outlinewidth": 0,
             "ticks": ""
            }
           }
          ],
          "histogram2d": [
           {
            "type": "histogram2d",
            "colorbar": {
             "outlinewidth": 0,
             "ticks": ""
            },
            "colorscale": [
             [
              0.0,
              "#0d0887"
             ],
             [
              0.1111111111111111,
              "#46039f"
             ],
             [
              0.2222222222222222,
              "#7201a8"
             ],
             [
              0.3333333333333333,
              "#9c179e"
             ],
             [
              0.4444444444444444,
              "#bd3786"
             ],
             [
              0.5555555555555556,
              "#d8576b"
             ],
             [
              0.6666666666666666,
              "#ed7953"
             ],
             [
              0.7777777777777778,
              "#fb9f3a"
             ],
             [
              0.8888888888888888,
              "#fdca26"
             ],
             [
              1.0,
              "#f0f921"
             ]
            ]
           }
          ],
          "heatmap": [
           {
            "type": "heatmap",
            "colorbar": {
             "outlinewidth": 0,
             "ticks": ""
            },
            "colorscale": [
             [
              0.0,
              "#0d0887"
             ],
             [
              0.1111111111111111,
              "#46039f"
             ],
             [
              0.2222222222222222,
              "#7201a8"
             ],
             [
              0.3333333333333333,
              "#9c179e"
             ],
             [
              0.4444444444444444,
              "#bd3786"
             ],
             [
              0.5555555555555556,
              "#d8576b"
             ],
             [
              0.6666666666666666,
              "#ed7953"
             ],
             [
              0.7777777777777778,
              "#fb9f3a"
             ],
             [
              0.8888888888888888,
              "#fdca26"
             ],
             [
              1.0,
              "#f0f921"
             ]
            ]
           }
          ],
          "heatmapgl": [
           {
            "type": "heatmapgl",
            "colorbar": {
             "outlinewidth": 0,
             "ticks": ""
            },
            "colorscale": [
             [
              0.0,
              "#0d0887"
             ],
             [
              0.1111111111111111,
              "#46039f"
             ],
             [
              0.2222222222222222,
              "#7201a8"
             ],
             [
              0.3333333333333333,
              "#9c179e"
             ],
             [
              0.4444444444444444,
              "#bd3786"
             ],
             [
              0.5555555555555556,
              "#d8576b"
             ],
             [
              0.6666666666666666,
              "#ed7953"
             ],
             [
              0.7777777777777778,
              "#fb9f3a"
             ],
             [
              0.8888888888888888,
              "#fdca26"
             ],
             [
              1.0,
              "#f0f921"
             ]
            ]
           }
          ],
          "contourcarpet": [
           {
            "type": "contourcarpet",
            "colorbar": {
             "outlinewidth": 0,
             "ticks": ""
            }
           }
          ],
          "contour": [
           {
            "type": "contour",
            "colorbar": {
             "outlinewidth": 0,
             "ticks": ""
            },
            "colorscale": [
             [
              0.0,
              "#0d0887"
             ],
             [
              0.1111111111111111,
              "#46039f"
             ],
             [
              0.2222222222222222,
              "#7201a8"
             ],
             [
              0.3333333333333333,
              "#9c179e"
             ],
             [
              0.4444444444444444,
              "#bd3786"
             ],
             [
              0.5555555555555556,
              "#d8576b"
             ],
             [
              0.6666666666666666,
              "#ed7953"
             ],
             [
              0.7777777777777778,
              "#fb9f3a"
             ],
             [
              0.8888888888888888,
              "#fdca26"
             ],
             [
              1.0,
              "#f0f921"
             ]
            ]
           }
          ],
          "surface": [
           {
            "type": "surface",
            "colorbar": {
             "outlinewidth": 0,
             "ticks": ""
            },
            "colorscale": [
             [
              0.0,
              "#0d0887"
             ],
             [
              0.1111111111111111,
              "#46039f"
             ],
             [
              0.2222222222222222,
              "#7201a8"
             ],
             [
              0.3333333333333333,
              "#9c179e"
             ],
             [
              0.4444444444444444,
              "#bd3786"
             ],
             [
              0.5555555555555556,
              "#d8576b"
             ],
             [
              0.6666666666666666,
              "#ed7953"
             ],
             [
              0.7777777777777778,
              "#fb9f3a"
             ],
             [
              0.8888888888888888,
              "#fdca26"
             ],
             [
              1.0,
              "#f0f921"
             ]
            ]
           }
          ],
          "mesh3d": [
           {
            "type": "mesh3d",
            "colorbar": {
             "outlinewidth": 0,
             "ticks": ""
            }
           }
          ],
          "scatter": [
           {
            "marker": {
             "line": {
              "color": "#283442"
             }
            },
            "type": "scatter"
           }
          ],
          "parcoords": [
           {
            "type": "parcoords",
            "line": {
             "colorbar": {
              "outlinewidth": 0,
              "ticks": ""
             }
            }
           }
          ],
          "scatterpolargl": [
           {
            "type": "scatterpolargl",
            "marker": {
             "colorbar": {
              "outlinewidth": 0,
              "ticks": ""
             }
            }
           }
          ],
          "bar": [
           {
            "error_x": {
             "color": "#f2f5fa"
            },
            "error_y": {
             "color": "#f2f5fa"
            },
            "marker": {
             "line": {
              "color": "rgb(17,17,17)",
              "width": 0.5
             },
             "pattern": {
              "fillmode": "overlay",
              "size": 10,
              "solidity": 0.2
             }
            },
            "type": "bar"
           }
          ],
          "scattergeo": [
           {
            "type": "scattergeo",
            "marker": {
             "colorbar": {
              "outlinewidth": 0,
              "ticks": ""
             }
            }
           }
          ],
          "scatterpolar": [
           {
            "type": "scatterpolar",
            "marker": {
             "colorbar": {
              "outlinewidth": 0,
              "ticks": ""
             }
            }
           }
          ],
          "histogram": [
           {
            "marker": {
             "pattern": {
              "fillmode": "overlay",
              "size": 10,
              "solidity": 0.2
             }
            },
            "type": "histogram"
           }
          ],
          "scattergl": [
           {
            "marker": {
             "line": {
              "color": "#283442"
             }
            },
            "type": "scattergl"
           }
          ],
          "scatter3d": [
           {
            "type": "scatter3d",
            "line": {
             "colorbar": {
              "outlinewidth": 0,
              "ticks": ""
             }
            },
            "marker": {
             "colorbar": {
              "outlinewidth": 0,
              "ticks": ""
             }
            }
           }
          ],
          "scattermapbox": [
           {
            "type": "scattermapbox",
            "marker": {
             "colorbar": {
              "outlinewidth": 0,
              "ticks": ""
             }
            }
           }
          ],
          "scatterternary": [
           {
            "type": "scatterternary",
            "marker": {
             "colorbar": {
              "outlinewidth": 0,
              "ticks": ""
             }
            }
           }
          ],
          "scattercarpet": [
           {
            "type": "scattercarpet",
            "marker": {
             "colorbar": {
              "outlinewidth": 0,
              "ticks": ""
             }
            }
           }
          ],
          "carpet": [
           {
            "aaxis": {
             "endlinecolor": "#A2B1C6",
             "gridcolor": "#506784",
             "linecolor": "#506784",
             "minorgridcolor": "#506784",
             "startlinecolor": "#A2B1C6"
            },
            "baxis": {
             "endlinecolor": "#A2B1C6",
             "gridcolor": "#506784",
             "linecolor": "#506784",
             "minorgridcolor": "#506784",
             "startlinecolor": "#A2B1C6"
            },
            "type": "carpet"
           }
          ],
          "table": [
           {
            "cells": {
             "fill": {
              "color": "#506784"
             },
             "line": {
              "color": "rgb(17,17,17)"
             }
            },
            "header": {
             "fill": {
              "color": "#2a3f5f"
             },
             "line": {
              "color": "rgb(17,17,17)"
             }
            },
            "type": "table"
           }
          ],
          "barpolar": [
           {
            "marker": {
             "line": {
              "color": "rgb(17,17,17)",
              "width": 0.5
             },
             "pattern": {
              "fillmode": "overlay",
              "size": 10,
              "solidity": 0.2
             }
            },
            "type": "barpolar"
           }
          ],
          "pie": [
           {
            "automargin": true,
            "type": "pie"
           }
          ]
         },
         "layout": {
          "autotypenumbers": "strict",
          "colorway": [
           "#636efa",
           "#EF553B",
           "#00cc96",
           "#ab63fa",
           "#FFA15A",
           "#19d3f3",
           "#FF6692",
           "#B6E880",
           "#FF97FF",
           "#FECB52"
          ],
          "font": {
           "color": "#f2f5fa"
          },
          "hovermode": "closest",
          "hoverlabel": {
           "align": "left"
          },
          "paper_bgcolor": "rgb(17,17,17)",
          "plot_bgcolor": "rgb(17,17,17)",
          "polar": {
           "bgcolor": "rgb(17,17,17)",
           "angularaxis": {
            "gridcolor": "#506784",
            "linecolor": "#506784",
            "ticks": ""
           },
           "radialaxis": {
            "gridcolor": "#506784",
            "linecolor": "#506784",
            "ticks": ""
           }
          },
          "ternary": {
           "bgcolor": "rgb(17,17,17)",
           "aaxis": {
            "gridcolor": "#506784",
            "linecolor": "#506784",
            "ticks": ""
           },
           "baxis": {
            "gridcolor": "#506784",
            "linecolor": "#506784",
            "ticks": ""
           },
           "caxis": {
            "gridcolor": "#506784",
            "linecolor": "#506784",
            "ticks": ""
           }
          },
          "coloraxis": {
           "colorbar": {
            "outlinewidth": 0,
            "ticks": ""
           }
          },
          "colorscale": {
           "sequential": [
            [
             0.0,
             "#0d0887"
            ],
            [
             0.1111111111111111,
             "#46039f"
            ],
            [
             0.2222222222222222,
             "#7201a8"
            ],
            [
             0.3333333333333333,
             "#9c179e"
            ],
            [
             0.4444444444444444,
             "#bd3786"
            ],
            [
             0.5555555555555556,
             "#d8576b"
            ],
            [
             0.6666666666666666,
             "#ed7953"
            ],
            [
             0.7777777777777778,
             "#fb9f3a"
            ],
            [
             0.8888888888888888,
             "#fdca26"
            ],
            [
             1.0,
             "#f0f921"
            ]
           ],
           "sequentialminus": [
            [
             0.0,
             "#0d0887"
            ],
            [
             0.1111111111111111,
             "#46039f"
            ],
            [
             0.2222222222222222,
             "#7201a8"
            ],
            [
             0.3333333333333333,
             "#9c179e"
            ],
            [
             0.4444444444444444,
             "#bd3786"
            ],
            [
             0.5555555555555556,
             "#d8576b"
            ],
            [
             0.6666666666666666,
             "#ed7953"
            ],
            [
             0.7777777777777778,
             "#fb9f3a"
            ],
            [
             0.8888888888888888,
             "#fdca26"
            ],
            [
             1.0,
             "#f0f921"
            ]
           ],
           "diverging": [
            [
             0,
             "#8e0152"
            ],
            [
             0.1,
             "#c51b7d"
            ],
            [
             0.2,
             "#de77ae"
            ],
            [
             0.3,
             "#f1b6da"
            ],
            [
             0.4,
             "#fde0ef"
            ],
            [
             0.5,
             "#f7f7f7"
            ],
            [
             0.6,
             "#e6f5d0"
            ],
            [
             0.7,
             "#b8e186"
            ],
            [
             0.8,
             "#7fbc41"
            ],
            [
             0.9,
             "#4d9221"
            ],
            [
             1,
             "#276419"
            ]
           ]
          },
          "xaxis": {
           "gridcolor": "#283442",
           "linecolor": "#506784",
           "ticks": "",
           "title": {
            "standoff": 15
           },
           "zerolinecolor": "#283442",
           "automargin": true,
           "zerolinewidth": 2
          },
          "yaxis": {
           "gridcolor": "#283442",
           "linecolor": "#506784",
           "ticks": "",
           "title": {
            "standoff": 15
           },
           "zerolinecolor": "#283442",
           "automargin": true,
           "zerolinewidth": 2
          },
          "scene": {
           "xaxis": {
            "backgroundcolor": "rgb(17,17,17)",
            "gridcolor": "#506784",
            "linecolor": "#506784",
            "showbackground": true,
            "ticks": "",
            "zerolinecolor": "#C8D4E3",
            "gridwidth": 2
           },
           "yaxis": {
            "backgroundcolor": "rgb(17,17,17)",
            "gridcolor": "#506784",
            "linecolor": "#506784",
            "showbackground": true,
            "ticks": "",
            "zerolinecolor": "#C8D4E3",
            "gridwidth": 2
           },
           "zaxis": {
            "backgroundcolor": "rgb(17,17,17)",
            "gridcolor": "#506784",
            "linecolor": "#506784",
            "showbackground": true,
            "ticks": "",
            "zerolinecolor": "#C8D4E3",
            "gridwidth": 2
           }
          },
          "shapedefaults": {
           "line": {
            "color": "#f2f5fa"
           }
          },
          "annotationdefaults": {
           "arrowcolor": "#f2f5fa",
           "arrowhead": 0,
           "arrowwidth": 1
          },
          "geo": {
           "bgcolor": "rgb(17,17,17)",
           "landcolor": "rgb(17,17,17)",
           "subunitcolor": "#506784",
           "showland": true,
           "showlakes": true,
           "lakecolor": "rgb(17,17,17)"
          },
          "title": {
           "x": 0.05
          },
          "updatemenudefaults": {
           "bgcolor": "#506784",
           "borderwidth": 0
          },
          "sliderdefaults": {
           "bgcolor": "#C8D4E3",
           "borderwidth": 1,
           "bordercolor": "rgb(17,17,17)",
           "tickwidth": 0
          },
          "mapbox": {
           "style": "dark"
          }
         }
        },
        "xaxis": {
         "anchor": "y",
         "domain": [
          0.0,
          1.0
         ],
         "scaleanchor": "y",
         "constrain": "domain"
        },
        "yaxis": {
         "anchor": "x",
         "domain": [
          0.0,
          1.0
         ],
         "autorange": "reversed",
         "constrain": "domain"
        },
        "coloraxis": {
         "colorscale": [
          [
           0.0,
           "#0d0887"
          ],
          [
           0.1111111111111111,
           "#46039f"
          ],
          [
           0.2222222222222222,
           "#7201a8"
          ],
          [
           0.3333333333333333,
           "#9c179e"
          ],
          [
           0.4444444444444444,
           "#bd3786"
          ],
          [
           0.5555555555555556,
           "#d8576b"
          ],
          [
           0.6666666666666666,
           "#ed7953"
          ],
          [
           0.7777777777777778,
           "#fb9f3a"
          ],
          [
           0.8888888888888888,
           "#fdca26"
          ],
          [
           1.0,
           "#f0f921"
          ]
         ]
        },
        "title": {
         "text": "Correlation Heatmap of Numerical Features"
        }
       },
       "config": {
        "plotlyServerURL": "https://plot.ly"
       }
      },
      "text/html": [
       "<div>                            <div id=\"e7aa741c-161f-44ab-a8de-d7dc7ed5be33\" class=\"plotly-graph-div\" style=\"height:525px; width:100%;\"></div>            <script type=\"text/javascript\">                require([\"plotly\"], function(Plotly) {                    window.PLOTLYENV=window.PLOTLYENV || {};                                    if (document.getElementById(\"e7aa741c-161f-44ab-a8de-d7dc7ed5be33\")) {                    Plotly.newPlot(                        \"e7aa741c-161f-44ab-a8de-d7dc7ed5be33\",                        [{\"coloraxis\":\"coloraxis\",\"name\":\"0\",\"texttemplate\":\"%{z}\",\"x\":[\"IMDB_Rating\",\"Meta_score\",\"No_of_Votes\",\"Gross\",\"Runtime\"],\"y\":[\"IMDB_Rating\",\"Meta_score\",\"No_of_Votes\",\"Gross\",\"Runtime\"],\"z\":[[1.0,0.2586503678827768,0.4949788358621419,0.08551815318640814,0.2430958977541939],[0.2586503678827768,1.0,-0.026939532268847346,-0.0518887982874646,-0.02636060111443329],[0.4949788358621419,-0.026939532268847346,1.0,0.5884277448369359,0.17326379844471046],[0.08551815318640814,-0.0518887982874646,0.5884277448369359,1.0,0.1383530510171578],[0.2430958977541939,-0.02636060111443329,0.17326379844471046,0.1383530510171578,1.0]],\"type\":\"heatmap\",\"xaxis\":\"x\",\"yaxis\":\"y\",\"hovertemplate\":\"x: %{x}\\u003cbr\\u003ey: %{y}\\u003cbr\\u003ecolor: %{z}\\u003cextra\\u003e\\u003c\\u002fextra\\u003e\"}],                        {\"template\":{\"data\":{\"histogram2dcontour\":[{\"type\":\"histogram2dcontour\",\"colorbar\":{\"outlinewidth\":0,\"ticks\":\"\"},\"colorscale\":[[0.0,\"#0d0887\"],[0.1111111111111111,\"#46039f\"],[0.2222222222222222,\"#7201a8\"],[0.3333333333333333,\"#9c179e\"],[0.4444444444444444,\"#bd3786\"],[0.5555555555555556,\"#d8576b\"],[0.6666666666666666,\"#ed7953\"],[0.7777777777777778,\"#fb9f3a\"],[0.8888888888888888,\"#fdca26\"],[1.0,\"#f0f921\"]]}],\"choropleth\":[{\"type\":\"choropleth\",\"colorbar\":{\"outlinewidth\":0,\"ticks\":\"\"}}],\"histogram2d\":[{\"type\":\"histogram2d\",\"colorbar\":{\"outlinewidth\":0,\"ticks\":\"\"},\"colorscale\":[[0.0,\"#0d0887\"],[0.1111111111111111,\"#46039f\"],[0.2222222222222222,\"#7201a8\"],[0.3333333333333333,\"#9c179e\"],[0.4444444444444444,\"#bd3786\"],[0.5555555555555556,\"#d8576b\"],[0.6666666666666666,\"#ed7953\"],[0.7777777777777778,\"#fb9f3a\"],[0.8888888888888888,\"#fdca26\"],[1.0,\"#f0f921\"]]}],\"heatmap\":[{\"type\":\"heatmap\",\"colorbar\":{\"outlinewidth\":0,\"ticks\":\"\"},\"colorscale\":[[0.0,\"#0d0887\"],[0.1111111111111111,\"#46039f\"],[0.2222222222222222,\"#7201a8\"],[0.3333333333333333,\"#9c179e\"],[0.4444444444444444,\"#bd3786\"],[0.5555555555555556,\"#d8576b\"],[0.6666666666666666,\"#ed7953\"],[0.7777777777777778,\"#fb9f3a\"],[0.8888888888888888,\"#fdca26\"],[1.0,\"#f0f921\"]]}],\"heatmapgl\":[{\"type\":\"heatmapgl\",\"colorbar\":{\"outlinewidth\":0,\"ticks\":\"\"},\"colorscale\":[[0.0,\"#0d0887\"],[0.1111111111111111,\"#46039f\"],[0.2222222222222222,\"#7201a8\"],[0.3333333333333333,\"#9c179e\"],[0.4444444444444444,\"#bd3786\"],[0.5555555555555556,\"#d8576b\"],[0.6666666666666666,\"#ed7953\"],[0.7777777777777778,\"#fb9f3a\"],[0.8888888888888888,\"#fdca26\"],[1.0,\"#f0f921\"]]}],\"contourcarpet\":[{\"type\":\"contourcarpet\",\"colorbar\":{\"outlinewidth\":0,\"ticks\":\"\"}}],\"contour\":[{\"type\":\"contour\",\"colorbar\":{\"outlinewidth\":0,\"ticks\":\"\"},\"colorscale\":[[0.0,\"#0d0887\"],[0.1111111111111111,\"#46039f\"],[0.2222222222222222,\"#7201a8\"],[0.3333333333333333,\"#9c179e\"],[0.4444444444444444,\"#bd3786\"],[0.5555555555555556,\"#d8576b\"],[0.6666666666666666,\"#ed7953\"],[0.7777777777777778,\"#fb9f3a\"],[0.8888888888888888,\"#fdca26\"],[1.0,\"#f0f921\"]]}],\"surface\":[{\"type\":\"surface\",\"colorbar\":{\"outlinewidth\":0,\"ticks\":\"\"},\"colorscale\":[[0.0,\"#0d0887\"],[0.1111111111111111,\"#46039f\"],[0.2222222222222222,\"#7201a8\"],[0.3333333333333333,\"#9c179e\"],[0.4444444444444444,\"#bd3786\"],[0.5555555555555556,\"#d8576b\"],[0.6666666666666666,\"#ed7953\"],[0.7777777777777778,\"#fb9f3a\"],[0.8888888888888888,\"#fdca26\"],[1.0,\"#f0f921\"]]}],\"mesh3d\":[{\"type\":\"mesh3d\",\"colorbar\":{\"outlinewidth\":0,\"ticks\":\"\"}}],\"scatter\":[{\"marker\":{\"line\":{\"color\":\"#283442\"}},\"type\":\"scatter\"}],\"parcoords\":[{\"type\":\"parcoords\",\"line\":{\"colorbar\":{\"outlinewidth\":0,\"ticks\":\"\"}}}],\"scatterpolargl\":[{\"type\":\"scatterpolargl\",\"marker\":{\"colorbar\":{\"outlinewidth\":0,\"ticks\":\"\"}}}],\"bar\":[{\"error_x\":{\"color\":\"#f2f5fa\"},\"error_y\":{\"color\":\"#f2f5fa\"},\"marker\":{\"line\":{\"color\":\"rgb(17,17,17)\",\"width\":0.5},\"pattern\":{\"fillmode\":\"overlay\",\"size\":10,\"solidity\":0.2}},\"type\":\"bar\"}],\"scattergeo\":[{\"type\":\"scattergeo\",\"marker\":{\"colorbar\":{\"outlinewidth\":0,\"ticks\":\"\"}}}],\"scatterpolar\":[{\"type\":\"scatterpolar\",\"marker\":{\"colorbar\":{\"outlinewidth\":0,\"ticks\":\"\"}}}],\"histogram\":[{\"marker\":{\"pattern\":{\"fillmode\":\"overlay\",\"size\":10,\"solidity\":0.2}},\"type\":\"histogram\"}],\"scattergl\":[{\"marker\":{\"line\":{\"color\":\"#283442\"}},\"type\":\"scattergl\"}],\"scatter3d\":[{\"type\":\"scatter3d\",\"line\":{\"colorbar\":{\"outlinewidth\":0,\"ticks\":\"\"}},\"marker\":{\"colorbar\":{\"outlinewidth\":0,\"ticks\":\"\"}}}],\"scattermapbox\":[{\"type\":\"scattermapbox\",\"marker\":{\"colorbar\":{\"outlinewidth\":0,\"ticks\":\"\"}}}],\"scatterternary\":[{\"type\":\"scatterternary\",\"marker\":{\"colorbar\":{\"outlinewidth\":0,\"ticks\":\"\"}}}],\"scattercarpet\":[{\"type\":\"scattercarpet\",\"marker\":{\"colorbar\":{\"outlinewidth\":0,\"ticks\":\"\"}}}],\"carpet\":[{\"aaxis\":{\"endlinecolor\":\"#A2B1C6\",\"gridcolor\":\"#506784\",\"linecolor\":\"#506784\",\"minorgridcolor\":\"#506784\",\"startlinecolor\":\"#A2B1C6\"},\"baxis\":{\"endlinecolor\":\"#A2B1C6\",\"gridcolor\":\"#506784\",\"linecolor\":\"#506784\",\"minorgridcolor\":\"#506784\",\"startlinecolor\":\"#A2B1C6\"},\"type\":\"carpet\"}],\"table\":[{\"cells\":{\"fill\":{\"color\":\"#506784\"},\"line\":{\"color\":\"rgb(17,17,17)\"}},\"header\":{\"fill\":{\"color\":\"#2a3f5f\"},\"line\":{\"color\":\"rgb(17,17,17)\"}},\"type\":\"table\"}],\"barpolar\":[{\"marker\":{\"line\":{\"color\":\"rgb(17,17,17)\",\"width\":0.5},\"pattern\":{\"fillmode\":\"overlay\",\"size\":10,\"solidity\":0.2}},\"type\":\"barpolar\"}],\"pie\":[{\"automargin\":true,\"type\":\"pie\"}]},\"layout\":{\"autotypenumbers\":\"strict\",\"colorway\":[\"#636efa\",\"#EF553B\",\"#00cc96\",\"#ab63fa\",\"#FFA15A\",\"#19d3f3\",\"#FF6692\",\"#B6E880\",\"#FF97FF\",\"#FECB52\"],\"font\":{\"color\":\"#f2f5fa\"},\"hovermode\":\"closest\",\"hoverlabel\":{\"align\":\"left\"},\"paper_bgcolor\":\"rgb(17,17,17)\",\"plot_bgcolor\":\"rgb(17,17,17)\",\"polar\":{\"bgcolor\":\"rgb(17,17,17)\",\"angularaxis\":{\"gridcolor\":\"#506784\",\"linecolor\":\"#506784\",\"ticks\":\"\"},\"radialaxis\":{\"gridcolor\":\"#506784\",\"linecolor\":\"#506784\",\"ticks\":\"\"}},\"ternary\":{\"bgcolor\":\"rgb(17,17,17)\",\"aaxis\":{\"gridcolor\":\"#506784\",\"linecolor\":\"#506784\",\"ticks\":\"\"},\"baxis\":{\"gridcolor\":\"#506784\",\"linecolor\":\"#506784\",\"ticks\":\"\"},\"caxis\":{\"gridcolor\":\"#506784\",\"linecolor\":\"#506784\",\"ticks\":\"\"}},\"coloraxis\":{\"colorbar\":{\"outlinewidth\":0,\"ticks\":\"\"}},\"colorscale\":{\"sequential\":[[0.0,\"#0d0887\"],[0.1111111111111111,\"#46039f\"],[0.2222222222222222,\"#7201a8\"],[0.3333333333333333,\"#9c179e\"],[0.4444444444444444,\"#bd3786\"],[0.5555555555555556,\"#d8576b\"],[0.6666666666666666,\"#ed7953\"],[0.7777777777777778,\"#fb9f3a\"],[0.8888888888888888,\"#fdca26\"],[1.0,\"#f0f921\"]],\"sequentialminus\":[[0.0,\"#0d0887\"],[0.1111111111111111,\"#46039f\"],[0.2222222222222222,\"#7201a8\"],[0.3333333333333333,\"#9c179e\"],[0.4444444444444444,\"#bd3786\"],[0.5555555555555556,\"#d8576b\"],[0.6666666666666666,\"#ed7953\"],[0.7777777777777778,\"#fb9f3a\"],[0.8888888888888888,\"#fdca26\"],[1.0,\"#f0f921\"]],\"diverging\":[[0,\"#8e0152\"],[0.1,\"#c51b7d\"],[0.2,\"#de77ae\"],[0.3,\"#f1b6da\"],[0.4,\"#fde0ef\"],[0.5,\"#f7f7f7\"],[0.6,\"#e6f5d0\"],[0.7,\"#b8e186\"],[0.8,\"#7fbc41\"],[0.9,\"#4d9221\"],[1,\"#276419\"]]},\"xaxis\":{\"gridcolor\":\"#283442\",\"linecolor\":\"#506784\",\"ticks\":\"\",\"title\":{\"standoff\":15},\"zerolinecolor\":\"#283442\",\"automargin\":true,\"zerolinewidth\":2},\"yaxis\":{\"gridcolor\":\"#283442\",\"linecolor\":\"#506784\",\"ticks\":\"\",\"title\":{\"standoff\":15},\"zerolinecolor\":\"#283442\",\"automargin\":true,\"zerolinewidth\":2},\"scene\":{\"xaxis\":{\"backgroundcolor\":\"rgb(17,17,17)\",\"gridcolor\":\"#506784\",\"linecolor\":\"#506784\",\"showbackground\":true,\"ticks\":\"\",\"zerolinecolor\":\"#C8D4E3\",\"gridwidth\":2},\"yaxis\":{\"backgroundcolor\":\"rgb(17,17,17)\",\"gridcolor\":\"#506784\",\"linecolor\":\"#506784\",\"showbackground\":true,\"ticks\":\"\",\"zerolinecolor\":\"#C8D4E3\",\"gridwidth\":2},\"zaxis\":{\"backgroundcolor\":\"rgb(17,17,17)\",\"gridcolor\":\"#506784\",\"linecolor\":\"#506784\",\"showbackground\":true,\"ticks\":\"\",\"zerolinecolor\":\"#C8D4E3\",\"gridwidth\":2}},\"shapedefaults\":{\"line\":{\"color\":\"#f2f5fa\"}},\"annotationdefaults\":{\"arrowcolor\":\"#f2f5fa\",\"arrowhead\":0,\"arrowwidth\":1},\"geo\":{\"bgcolor\":\"rgb(17,17,17)\",\"landcolor\":\"rgb(17,17,17)\",\"subunitcolor\":\"#506784\",\"showland\":true,\"showlakes\":true,\"lakecolor\":\"rgb(17,17,17)\"},\"title\":{\"x\":0.05},\"updatemenudefaults\":{\"bgcolor\":\"#506784\",\"borderwidth\":0},\"sliderdefaults\":{\"bgcolor\":\"#C8D4E3\",\"borderwidth\":1,\"bordercolor\":\"rgb(17,17,17)\",\"tickwidth\":0},\"mapbox\":{\"style\":\"dark\"}}},\"xaxis\":{\"anchor\":\"y\",\"domain\":[0.0,1.0],\"scaleanchor\":\"y\",\"constrain\":\"domain\"},\"yaxis\":{\"anchor\":\"x\",\"domain\":[0.0,1.0],\"autorange\":\"reversed\",\"constrain\":\"domain\"},\"coloraxis\":{\"colorscale\":[[0.0,\"#0d0887\"],[0.1111111111111111,\"#46039f\"],[0.2222222222222222,\"#7201a8\"],[0.3333333333333333,\"#9c179e\"],[0.4444444444444444,\"#bd3786\"],[0.5555555555555556,\"#d8576b\"],[0.6666666666666666,\"#ed7953\"],[0.7777777777777778,\"#fb9f3a\"],[0.8888888888888888,\"#fdca26\"],[1.0,\"#f0f921\"]]},\"title\":{\"text\":\"Correlation Heatmap of Numerical Features\"}},                        {\"responsive\": true}                    ).then(function(){\n",
       "                            \n",
       "var gd = document.getElementById('e7aa741c-161f-44ab-a8de-d7dc7ed5be33');\n",
       "var x = new MutationObserver(function (mutations, observer) {{\n",
       "        var display = window.getComputedStyle(gd).display;\n",
       "        if (!display || display === 'none') {{\n",
       "            console.log([gd, 'removed!']);\n",
       "            Plotly.purge(gd);\n",
       "            observer.disconnect();\n",
       "        }}\n",
       "}});\n",
       "\n",
       "// Listen for the removal of the full notebook cells\n",
       "var notebookContainer = gd.closest('#notebook-container');\n",
       "if (notebookContainer) {{\n",
       "    x.observe(notebookContainer, {childList: true});\n",
       "}}\n",
       "\n",
       "// Listen for the clearing of the current output cell\n",
       "var outputEl = gd.closest('.output');\n",
       "if (outputEl) {{\n",
       "    x.observe(outputEl, {childList: true});\n",
       "}}\n",
       "\n",
       "                        })                };                });            </script>        </div>"
      ]
     },
     "metadata": {},
     "output_type": "display_data"
    }
   ],
   "execution_count": 83
  },
  {
   "metadata": {},
   "cell_type": "markdown",
   "source": "This bar chart displays the average IMDB rating by movie certificate. It reveals how different certificates correlate with the average ratings of the movies, which can be useful for understanding the audience’s preferences.",
   "id": "8e43cda5a0e6f4ec"
  },
  {
   "metadata": {
    "ExecuteTime": {
     "end_time": "2025-03-19T20:16:01.560026Z",
     "start_time": "2025-03-19T20:16:01.493382Z"
    }
   },
   "cell_type": "code",
   "source": [
    "import plotly.express as px\n",
    "\n",
    "# Calculate average IMDB rating by certificate\n",
    "df_certificate_rating = df.groupby('Certificate')['IMDB_Rating'].mean().reset_index()\n",
    "\n",
    "# Create a bar chart\n",
    "fig = px.bar(df_certificate_rating, x='Certificate', y='IMDB_Rating', title='Average IMDB Rating by Certificate')\n",
    "fig.show()\n"
   ],
   "id": "2dd4aef9faeb6908",
   "outputs": [
    {
     "data": {
      "application/vnd.plotly.v1+json": {
       "data": [
        {
         "alignmentgroup": "True",
         "hovertemplate": "Certificate=%{x}<br>IMDB_Rating=%{y}<extra></extra>",
         "legendgroup": "",
         "marker": {
          "color": "#636efa",
          "pattern": {
           "shape": ""
          }
         },
         "name": "",
         "offsetgroup": "",
         "orientation": "v",
         "showlegend": false,
         "textposition": "auto",
         "x": [
          "a",
          "approved",
          "g",
          "pg",
          "pg13",
          "r",
          "u",
          "ua",
          "unknown"
         ],
         "xaxis": "x",
         "y": [
          0.23469692445506124,
          0.2366013071895425,
          0.23529411764705896,
          0.18907563025210083,
          0.12299465240641724,
          0.16057233704292537,
          0.2217194570135747,
          0.2088903743315508,
          0.19607843137254902
         ],
         "yaxis": "y",
         "type": "bar"
        }
       ],
       "layout": {
        "template": {
         "data": {
          "histogram2dcontour": [
           {
            "type": "histogram2dcontour",
            "colorbar": {
             "outlinewidth": 0,
             "ticks": ""
            },
            "colorscale": [
             [
              0.0,
              "#0d0887"
             ],
             [
              0.1111111111111111,
              "#46039f"
             ],
             [
              0.2222222222222222,
              "#7201a8"
             ],
             [
              0.3333333333333333,
              "#9c179e"
             ],
             [
              0.4444444444444444,
              "#bd3786"
             ],
             [
              0.5555555555555556,
              "#d8576b"
             ],
             [
              0.6666666666666666,
              "#ed7953"
             ],
             [
              0.7777777777777778,
              "#fb9f3a"
             ],
             [
              0.8888888888888888,
              "#fdca26"
             ],
             [
              1.0,
              "#f0f921"
             ]
            ]
           }
          ],
          "choropleth": [
           {
            "type": "choropleth",
            "colorbar": {
             "outlinewidth": 0,
             "ticks": ""
            }
           }
          ],
          "histogram2d": [
           {
            "type": "histogram2d",
            "colorbar": {
             "outlinewidth": 0,
             "ticks": ""
            },
            "colorscale": [
             [
              0.0,
              "#0d0887"
             ],
             [
              0.1111111111111111,
              "#46039f"
             ],
             [
              0.2222222222222222,
              "#7201a8"
             ],
             [
              0.3333333333333333,
              "#9c179e"
             ],
             [
              0.4444444444444444,
              "#bd3786"
             ],
             [
              0.5555555555555556,
              "#d8576b"
             ],
             [
              0.6666666666666666,
              "#ed7953"
             ],
             [
              0.7777777777777778,
              "#fb9f3a"
             ],
             [
              0.8888888888888888,
              "#fdca26"
             ],
             [
              1.0,
              "#f0f921"
             ]
            ]
           }
          ],
          "heatmap": [
           {
            "type": "heatmap",
            "colorbar": {
             "outlinewidth": 0,
             "ticks": ""
            },
            "colorscale": [
             [
              0.0,
              "#0d0887"
             ],
             [
              0.1111111111111111,
              "#46039f"
             ],
             [
              0.2222222222222222,
              "#7201a8"
             ],
             [
              0.3333333333333333,
              "#9c179e"
             ],
             [
              0.4444444444444444,
              "#bd3786"
             ],
             [
              0.5555555555555556,
              "#d8576b"
             ],
             [
              0.6666666666666666,
              "#ed7953"
             ],
             [
              0.7777777777777778,
              "#fb9f3a"
             ],
             [
              0.8888888888888888,
              "#fdca26"
             ],
             [
              1.0,
              "#f0f921"
             ]
            ]
           }
          ],
          "heatmapgl": [
           {
            "type": "heatmapgl",
            "colorbar": {
             "outlinewidth": 0,
             "ticks": ""
            },
            "colorscale": [
             [
              0.0,
              "#0d0887"
             ],
             [
              0.1111111111111111,
              "#46039f"
             ],
             [
              0.2222222222222222,
              "#7201a8"
             ],
             [
              0.3333333333333333,
              "#9c179e"
             ],
             [
              0.4444444444444444,
              "#bd3786"
             ],
             [
              0.5555555555555556,
              "#d8576b"
             ],
             [
              0.6666666666666666,
              "#ed7953"
             ],
             [
              0.7777777777777778,
              "#fb9f3a"
             ],
             [
              0.8888888888888888,
              "#fdca26"
             ],
             [
              1.0,
              "#f0f921"
             ]
            ]
           }
          ],
          "contourcarpet": [
           {
            "type": "contourcarpet",
            "colorbar": {
             "outlinewidth": 0,
             "ticks": ""
            }
           }
          ],
          "contour": [
           {
            "type": "contour",
            "colorbar": {
             "outlinewidth": 0,
             "ticks": ""
            },
            "colorscale": [
             [
              0.0,
              "#0d0887"
             ],
             [
              0.1111111111111111,
              "#46039f"
             ],
             [
              0.2222222222222222,
              "#7201a8"
             ],
             [
              0.3333333333333333,
              "#9c179e"
             ],
             [
              0.4444444444444444,
              "#bd3786"
             ],
             [
              0.5555555555555556,
              "#d8576b"
             ],
             [
              0.6666666666666666,
              "#ed7953"
             ],
             [
              0.7777777777777778,
              "#fb9f3a"
             ],
             [
              0.8888888888888888,
              "#fdca26"
             ],
             [
              1.0,
              "#f0f921"
             ]
            ]
           }
          ],
          "surface": [
           {
            "type": "surface",
            "colorbar": {
             "outlinewidth": 0,
             "ticks": ""
            },
            "colorscale": [
             [
              0.0,
              "#0d0887"
             ],
             [
              0.1111111111111111,
              "#46039f"
             ],
             [
              0.2222222222222222,
              "#7201a8"
             ],
             [
              0.3333333333333333,
              "#9c179e"
             ],
             [
              0.4444444444444444,
              "#bd3786"
             ],
             [
              0.5555555555555556,
              "#d8576b"
             ],
             [
              0.6666666666666666,
              "#ed7953"
             ],
             [
              0.7777777777777778,
              "#fb9f3a"
             ],
             [
              0.8888888888888888,
              "#fdca26"
             ],
             [
              1.0,
              "#f0f921"
             ]
            ]
           }
          ],
          "mesh3d": [
           {
            "type": "mesh3d",
            "colorbar": {
             "outlinewidth": 0,
             "ticks": ""
            }
           }
          ],
          "scatter": [
           {
            "marker": {
             "line": {
              "color": "#283442"
             }
            },
            "type": "scatter"
           }
          ],
          "parcoords": [
           {
            "type": "parcoords",
            "line": {
             "colorbar": {
              "outlinewidth": 0,
              "ticks": ""
             }
            }
           }
          ],
          "scatterpolargl": [
           {
            "type": "scatterpolargl",
            "marker": {
             "colorbar": {
              "outlinewidth": 0,
              "ticks": ""
             }
            }
           }
          ],
          "bar": [
           {
            "error_x": {
             "color": "#f2f5fa"
            },
            "error_y": {
             "color": "#f2f5fa"
            },
            "marker": {
             "line": {
              "color": "rgb(17,17,17)",
              "width": 0.5
             },
             "pattern": {
              "fillmode": "overlay",
              "size": 10,
              "solidity": 0.2
             }
            },
            "type": "bar"
           }
          ],
          "scattergeo": [
           {
            "type": "scattergeo",
            "marker": {
             "colorbar": {
              "outlinewidth": 0,
              "ticks": ""
             }
            }
           }
          ],
          "scatterpolar": [
           {
            "type": "scatterpolar",
            "marker": {
             "colorbar": {
              "outlinewidth": 0,
              "ticks": ""
             }
            }
           }
          ],
          "histogram": [
           {
            "marker": {
             "pattern": {
              "fillmode": "overlay",
              "size": 10,
              "solidity": 0.2
             }
            },
            "type": "histogram"
           }
          ],
          "scattergl": [
           {
            "marker": {
             "line": {
              "color": "#283442"
             }
            },
            "type": "scattergl"
           }
          ],
          "scatter3d": [
           {
            "type": "scatter3d",
            "line": {
             "colorbar": {
              "outlinewidth": 0,
              "ticks": ""
             }
            },
            "marker": {
             "colorbar": {
              "outlinewidth": 0,
              "ticks": ""
             }
            }
           }
          ],
          "scattermapbox": [
           {
            "type": "scattermapbox",
            "marker": {
             "colorbar": {
              "outlinewidth": 0,
              "ticks": ""
             }
            }
           }
          ],
          "scatterternary": [
           {
            "type": "scatterternary",
            "marker": {
             "colorbar": {
              "outlinewidth": 0,
              "ticks": ""
             }
            }
           }
          ],
          "scattercarpet": [
           {
            "type": "scattercarpet",
            "marker": {
             "colorbar": {
              "outlinewidth": 0,
              "ticks": ""
             }
            }
           }
          ],
          "carpet": [
           {
            "aaxis": {
             "endlinecolor": "#A2B1C6",
             "gridcolor": "#506784",
             "linecolor": "#506784",
             "minorgridcolor": "#506784",
             "startlinecolor": "#A2B1C6"
            },
            "baxis": {
             "endlinecolor": "#A2B1C6",
             "gridcolor": "#506784",
             "linecolor": "#506784",
             "minorgridcolor": "#506784",
             "startlinecolor": "#A2B1C6"
            },
            "type": "carpet"
           }
          ],
          "table": [
           {
            "cells": {
             "fill": {
              "color": "#506784"
             },
             "line": {
              "color": "rgb(17,17,17)"
             }
            },
            "header": {
             "fill": {
              "color": "#2a3f5f"
             },
             "line": {
              "color": "rgb(17,17,17)"
             }
            },
            "type": "table"
           }
          ],
          "barpolar": [
           {
            "marker": {
             "line": {
              "color": "rgb(17,17,17)",
              "width": 0.5
             },
             "pattern": {
              "fillmode": "overlay",
              "size": 10,
              "solidity": 0.2
             }
            },
            "type": "barpolar"
           }
          ],
          "pie": [
           {
            "automargin": true,
            "type": "pie"
           }
          ]
         },
         "layout": {
          "autotypenumbers": "strict",
          "colorway": [
           "#636efa",
           "#EF553B",
           "#00cc96",
           "#ab63fa",
           "#FFA15A",
           "#19d3f3",
           "#FF6692",
           "#B6E880",
           "#FF97FF",
           "#FECB52"
          ],
          "font": {
           "color": "#f2f5fa"
          },
          "hovermode": "closest",
          "hoverlabel": {
           "align": "left"
          },
          "paper_bgcolor": "rgb(17,17,17)",
          "plot_bgcolor": "rgb(17,17,17)",
          "polar": {
           "bgcolor": "rgb(17,17,17)",
           "angularaxis": {
            "gridcolor": "#506784",
            "linecolor": "#506784",
            "ticks": ""
           },
           "radialaxis": {
            "gridcolor": "#506784",
            "linecolor": "#506784",
            "ticks": ""
           }
          },
          "ternary": {
           "bgcolor": "rgb(17,17,17)",
           "aaxis": {
            "gridcolor": "#506784",
            "linecolor": "#506784",
            "ticks": ""
           },
           "baxis": {
            "gridcolor": "#506784",
            "linecolor": "#506784",
            "ticks": ""
           },
           "caxis": {
            "gridcolor": "#506784",
            "linecolor": "#506784",
            "ticks": ""
           }
          },
          "coloraxis": {
           "colorbar": {
            "outlinewidth": 0,
            "ticks": ""
           }
          },
          "colorscale": {
           "sequential": [
            [
             0.0,
             "#0d0887"
            ],
            [
             0.1111111111111111,
             "#46039f"
            ],
            [
             0.2222222222222222,
             "#7201a8"
            ],
            [
             0.3333333333333333,
             "#9c179e"
            ],
            [
             0.4444444444444444,
             "#bd3786"
            ],
            [
             0.5555555555555556,
             "#d8576b"
            ],
            [
             0.6666666666666666,
             "#ed7953"
            ],
            [
             0.7777777777777778,
             "#fb9f3a"
            ],
            [
             0.8888888888888888,
             "#fdca26"
            ],
            [
             1.0,
             "#f0f921"
            ]
           ],
           "sequentialminus": [
            [
             0.0,
             "#0d0887"
            ],
            [
             0.1111111111111111,
             "#46039f"
            ],
            [
             0.2222222222222222,
             "#7201a8"
            ],
            [
             0.3333333333333333,
             "#9c179e"
            ],
            [
             0.4444444444444444,
             "#bd3786"
            ],
            [
             0.5555555555555556,
             "#d8576b"
            ],
            [
             0.6666666666666666,
             "#ed7953"
            ],
            [
             0.7777777777777778,
             "#fb9f3a"
            ],
            [
             0.8888888888888888,
             "#fdca26"
            ],
            [
             1.0,
             "#f0f921"
            ]
           ],
           "diverging": [
            [
             0,
             "#8e0152"
            ],
            [
             0.1,
             "#c51b7d"
            ],
            [
             0.2,
             "#de77ae"
            ],
            [
             0.3,
             "#f1b6da"
            ],
            [
             0.4,
             "#fde0ef"
            ],
            [
             0.5,
             "#f7f7f7"
            ],
            [
             0.6,
             "#e6f5d0"
            ],
            [
             0.7,
             "#b8e186"
            ],
            [
             0.8,
             "#7fbc41"
            ],
            [
             0.9,
             "#4d9221"
            ],
            [
             1,
             "#276419"
            ]
           ]
          },
          "xaxis": {
           "gridcolor": "#283442",
           "linecolor": "#506784",
           "ticks": "",
           "title": {
            "standoff": 15
           },
           "zerolinecolor": "#283442",
           "automargin": true,
           "zerolinewidth": 2
          },
          "yaxis": {
           "gridcolor": "#283442",
           "linecolor": "#506784",
           "ticks": "",
           "title": {
            "standoff": 15
           },
           "zerolinecolor": "#283442",
           "automargin": true,
           "zerolinewidth": 2
          },
          "scene": {
           "xaxis": {
            "backgroundcolor": "rgb(17,17,17)",
            "gridcolor": "#506784",
            "linecolor": "#506784",
            "showbackground": true,
            "ticks": "",
            "zerolinecolor": "#C8D4E3",
            "gridwidth": 2
           },
           "yaxis": {
            "backgroundcolor": "rgb(17,17,17)",
            "gridcolor": "#506784",
            "linecolor": "#506784",
            "showbackground": true,
            "ticks": "",
            "zerolinecolor": "#C8D4E3",
            "gridwidth": 2
           },
           "zaxis": {
            "backgroundcolor": "rgb(17,17,17)",
            "gridcolor": "#506784",
            "linecolor": "#506784",
            "showbackground": true,
            "ticks": "",
            "zerolinecolor": "#C8D4E3",
            "gridwidth": 2
           }
          },
          "shapedefaults": {
           "line": {
            "color": "#f2f5fa"
           }
          },
          "annotationdefaults": {
           "arrowcolor": "#f2f5fa",
           "arrowhead": 0,
           "arrowwidth": 1
          },
          "geo": {
           "bgcolor": "rgb(17,17,17)",
           "landcolor": "rgb(17,17,17)",
           "subunitcolor": "#506784",
           "showland": true,
           "showlakes": true,
           "lakecolor": "rgb(17,17,17)"
          },
          "title": {
           "x": 0.05
          },
          "updatemenudefaults": {
           "bgcolor": "#506784",
           "borderwidth": 0
          },
          "sliderdefaults": {
           "bgcolor": "#C8D4E3",
           "borderwidth": 1,
           "bordercolor": "rgb(17,17,17)",
           "tickwidth": 0
          },
          "mapbox": {
           "style": "dark"
          }
         }
        },
        "xaxis": {
         "anchor": "y",
         "domain": [
          0.0,
          1.0
         ],
         "title": {
          "text": "Certificate"
         }
        },
        "yaxis": {
         "anchor": "x",
         "domain": [
          0.0,
          1.0
         ],
         "title": {
          "text": "IMDB_Rating"
         }
        },
        "legend": {
         "tracegroupgap": 0
        },
        "title": {
         "text": "Average IMDB Rating by Certificate"
        },
        "barmode": "relative"
       },
       "config": {
        "plotlyServerURL": "https://plot.ly"
       }
      },
      "text/html": [
       "<div>                            <div id=\"d47a8985-97f3-4568-8933-6f3986f45f8b\" class=\"plotly-graph-div\" style=\"height:525px; width:100%;\"></div>            <script type=\"text/javascript\">                require([\"plotly\"], function(Plotly) {                    window.PLOTLYENV=window.PLOTLYENV || {};                                    if (document.getElementById(\"d47a8985-97f3-4568-8933-6f3986f45f8b\")) {                    Plotly.newPlot(                        \"d47a8985-97f3-4568-8933-6f3986f45f8b\",                        [{\"alignmentgroup\":\"True\",\"hovertemplate\":\"Certificate=%{x}\\u003cbr\\u003eIMDB_Rating=%{y}\\u003cextra\\u003e\\u003c\\u002fextra\\u003e\",\"legendgroup\":\"\",\"marker\":{\"color\":\"#636efa\",\"pattern\":{\"shape\":\"\"}},\"name\":\"\",\"offsetgroup\":\"\",\"orientation\":\"v\",\"showlegend\":false,\"textposition\":\"auto\",\"x\":[\"a\",\"approved\",\"g\",\"pg\",\"pg13\",\"r\",\"u\",\"ua\",\"unknown\"],\"xaxis\":\"x\",\"y\":[0.23469692445506124,0.2366013071895425,0.23529411764705896,0.18907563025210083,0.12299465240641724,0.16057233704292537,0.2217194570135747,0.2088903743315508,0.19607843137254902],\"yaxis\":\"y\",\"type\":\"bar\"}],                        {\"template\":{\"data\":{\"histogram2dcontour\":[{\"type\":\"histogram2dcontour\",\"colorbar\":{\"outlinewidth\":0,\"ticks\":\"\"},\"colorscale\":[[0.0,\"#0d0887\"],[0.1111111111111111,\"#46039f\"],[0.2222222222222222,\"#7201a8\"],[0.3333333333333333,\"#9c179e\"],[0.4444444444444444,\"#bd3786\"],[0.5555555555555556,\"#d8576b\"],[0.6666666666666666,\"#ed7953\"],[0.7777777777777778,\"#fb9f3a\"],[0.8888888888888888,\"#fdca26\"],[1.0,\"#f0f921\"]]}],\"choropleth\":[{\"type\":\"choropleth\",\"colorbar\":{\"outlinewidth\":0,\"ticks\":\"\"}}],\"histogram2d\":[{\"type\":\"histogram2d\",\"colorbar\":{\"outlinewidth\":0,\"ticks\":\"\"},\"colorscale\":[[0.0,\"#0d0887\"],[0.1111111111111111,\"#46039f\"],[0.2222222222222222,\"#7201a8\"],[0.3333333333333333,\"#9c179e\"],[0.4444444444444444,\"#bd3786\"],[0.5555555555555556,\"#d8576b\"],[0.6666666666666666,\"#ed7953\"],[0.7777777777777778,\"#fb9f3a\"],[0.8888888888888888,\"#fdca26\"],[1.0,\"#f0f921\"]]}],\"heatmap\":[{\"type\":\"heatmap\",\"colorbar\":{\"outlinewidth\":0,\"ticks\":\"\"},\"colorscale\":[[0.0,\"#0d0887\"],[0.1111111111111111,\"#46039f\"],[0.2222222222222222,\"#7201a8\"],[0.3333333333333333,\"#9c179e\"],[0.4444444444444444,\"#bd3786\"],[0.5555555555555556,\"#d8576b\"],[0.6666666666666666,\"#ed7953\"],[0.7777777777777778,\"#fb9f3a\"],[0.8888888888888888,\"#fdca26\"],[1.0,\"#f0f921\"]]}],\"heatmapgl\":[{\"type\":\"heatmapgl\",\"colorbar\":{\"outlinewidth\":0,\"ticks\":\"\"},\"colorscale\":[[0.0,\"#0d0887\"],[0.1111111111111111,\"#46039f\"],[0.2222222222222222,\"#7201a8\"],[0.3333333333333333,\"#9c179e\"],[0.4444444444444444,\"#bd3786\"],[0.5555555555555556,\"#d8576b\"],[0.6666666666666666,\"#ed7953\"],[0.7777777777777778,\"#fb9f3a\"],[0.8888888888888888,\"#fdca26\"],[1.0,\"#f0f921\"]]}],\"contourcarpet\":[{\"type\":\"contourcarpet\",\"colorbar\":{\"outlinewidth\":0,\"ticks\":\"\"}}],\"contour\":[{\"type\":\"contour\",\"colorbar\":{\"outlinewidth\":0,\"ticks\":\"\"},\"colorscale\":[[0.0,\"#0d0887\"],[0.1111111111111111,\"#46039f\"],[0.2222222222222222,\"#7201a8\"],[0.3333333333333333,\"#9c179e\"],[0.4444444444444444,\"#bd3786\"],[0.5555555555555556,\"#d8576b\"],[0.6666666666666666,\"#ed7953\"],[0.7777777777777778,\"#fb9f3a\"],[0.8888888888888888,\"#fdca26\"],[1.0,\"#f0f921\"]]}],\"surface\":[{\"type\":\"surface\",\"colorbar\":{\"outlinewidth\":0,\"ticks\":\"\"},\"colorscale\":[[0.0,\"#0d0887\"],[0.1111111111111111,\"#46039f\"],[0.2222222222222222,\"#7201a8\"],[0.3333333333333333,\"#9c179e\"],[0.4444444444444444,\"#bd3786\"],[0.5555555555555556,\"#d8576b\"],[0.6666666666666666,\"#ed7953\"],[0.7777777777777778,\"#fb9f3a\"],[0.8888888888888888,\"#fdca26\"],[1.0,\"#f0f921\"]]}],\"mesh3d\":[{\"type\":\"mesh3d\",\"colorbar\":{\"outlinewidth\":0,\"ticks\":\"\"}}],\"scatter\":[{\"marker\":{\"line\":{\"color\":\"#283442\"}},\"type\":\"scatter\"}],\"parcoords\":[{\"type\":\"parcoords\",\"line\":{\"colorbar\":{\"outlinewidth\":0,\"ticks\":\"\"}}}],\"scatterpolargl\":[{\"type\":\"scatterpolargl\",\"marker\":{\"colorbar\":{\"outlinewidth\":0,\"ticks\":\"\"}}}],\"bar\":[{\"error_x\":{\"color\":\"#f2f5fa\"},\"error_y\":{\"color\":\"#f2f5fa\"},\"marker\":{\"line\":{\"color\":\"rgb(17,17,17)\",\"width\":0.5},\"pattern\":{\"fillmode\":\"overlay\",\"size\":10,\"solidity\":0.2}},\"type\":\"bar\"}],\"scattergeo\":[{\"type\":\"scattergeo\",\"marker\":{\"colorbar\":{\"outlinewidth\":0,\"ticks\":\"\"}}}],\"scatterpolar\":[{\"type\":\"scatterpolar\",\"marker\":{\"colorbar\":{\"outlinewidth\":0,\"ticks\":\"\"}}}],\"histogram\":[{\"marker\":{\"pattern\":{\"fillmode\":\"overlay\",\"size\":10,\"solidity\":0.2}},\"type\":\"histogram\"}],\"scattergl\":[{\"marker\":{\"line\":{\"color\":\"#283442\"}},\"type\":\"scattergl\"}],\"scatter3d\":[{\"type\":\"scatter3d\",\"line\":{\"colorbar\":{\"outlinewidth\":0,\"ticks\":\"\"}},\"marker\":{\"colorbar\":{\"outlinewidth\":0,\"ticks\":\"\"}}}],\"scattermapbox\":[{\"type\":\"scattermapbox\",\"marker\":{\"colorbar\":{\"outlinewidth\":0,\"ticks\":\"\"}}}],\"scatterternary\":[{\"type\":\"scatterternary\",\"marker\":{\"colorbar\":{\"outlinewidth\":0,\"ticks\":\"\"}}}],\"scattercarpet\":[{\"type\":\"scattercarpet\",\"marker\":{\"colorbar\":{\"outlinewidth\":0,\"ticks\":\"\"}}}],\"carpet\":[{\"aaxis\":{\"endlinecolor\":\"#A2B1C6\",\"gridcolor\":\"#506784\",\"linecolor\":\"#506784\",\"minorgridcolor\":\"#506784\",\"startlinecolor\":\"#A2B1C6\"},\"baxis\":{\"endlinecolor\":\"#A2B1C6\",\"gridcolor\":\"#506784\",\"linecolor\":\"#506784\",\"minorgridcolor\":\"#506784\",\"startlinecolor\":\"#A2B1C6\"},\"type\":\"carpet\"}],\"table\":[{\"cells\":{\"fill\":{\"color\":\"#506784\"},\"line\":{\"color\":\"rgb(17,17,17)\"}},\"header\":{\"fill\":{\"color\":\"#2a3f5f\"},\"line\":{\"color\":\"rgb(17,17,17)\"}},\"type\":\"table\"}],\"barpolar\":[{\"marker\":{\"line\":{\"color\":\"rgb(17,17,17)\",\"width\":0.5},\"pattern\":{\"fillmode\":\"overlay\",\"size\":10,\"solidity\":0.2}},\"type\":\"barpolar\"}],\"pie\":[{\"automargin\":true,\"type\":\"pie\"}]},\"layout\":{\"autotypenumbers\":\"strict\",\"colorway\":[\"#636efa\",\"#EF553B\",\"#00cc96\",\"#ab63fa\",\"#FFA15A\",\"#19d3f3\",\"#FF6692\",\"#B6E880\",\"#FF97FF\",\"#FECB52\"],\"font\":{\"color\":\"#f2f5fa\"},\"hovermode\":\"closest\",\"hoverlabel\":{\"align\":\"left\"},\"paper_bgcolor\":\"rgb(17,17,17)\",\"plot_bgcolor\":\"rgb(17,17,17)\",\"polar\":{\"bgcolor\":\"rgb(17,17,17)\",\"angularaxis\":{\"gridcolor\":\"#506784\",\"linecolor\":\"#506784\",\"ticks\":\"\"},\"radialaxis\":{\"gridcolor\":\"#506784\",\"linecolor\":\"#506784\",\"ticks\":\"\"}},\"ternary\":{\"bgcolor\":\"rgb(17,17,17)\",\"aaxis\":{\"gridcolor\":\"#506784\",\"linecolor\":\"#506784\",\"ticks\":\"\"},\"baxis\":{\"gridcolor\":\"#506784\",\"linecolor\":\"#506784\",\"ticks\":\"\"},\"caxis\":{\"gridcolor\":\"#506784\",\"linecolor\":\"#506784\",\"ticks\":\"\"}},\"coloraxis\":{\"colorbar\":{\"outlinewidth\":0,\"ticks\":\"\"}},\"colorscale\":{\"sequential\":[[0.0,\"#0d0887\"],[0.1111111111111111,\"#46039f\"],[0.2222222222222222,\"#7201a8\"],[0.3333333333333333,\"#9c179e\"],[0.4444444444444444,\"#bd3786\"],[0.5555555555555556,\"#d8576b\"],[0.6666666666666666,\"#ed7953\"],[0.7777777777777778,\"#fb9f3a\"],[0.8888888888888888,\"#fdca26\"],[1.0,\"#f0f921\"]],\"sequentialminus\":[[0.0,\"#0d0887\"],[0.1111111111111111,\"#46039f\"],[0.2222222222222222,\"#7201a8\"],[0.3333333333333333,\"#9c179e\"],[0.4444444444444444,\"#bd3786\"],[0.5555555555555556,\"#d8576b\"],[0.6666666666666666,\"#ed7953\"],[0.7777777777777778,\"#fb9f3a\"],[0.8888888888888888,\"#fdca26\"],[1.0,\"#f0f921\"]],\"diverging\":[[0,\"#8e0152\"],[0.1,\"#c51b7d\"],[0.2,\"#de77ae\"],[0.3,\"#f1b6da\"],[0.4,\"#fde0ef\"],[0.5,\"#f7f7f7\"],[0.6,\"#e6f5d0\"],[0.7,\"#b8e186\"],[0.8,\"#7fbc41\"],[0.9,\"#4d9221\"],[1,\"#276419\"]]},\"xaxis\":{\"gridcolor\":\"#283442\",\"linecolor\":\"#506784\",\"ticks\":\"\",\"title\":{\"standoff\":15},\"zerolinecolor\":\"#283442\",\"automargin\":true,\"zerolinewidth\":2},\"yaxis\":{\"gridcolor\":\"#283442\",\"linecolor\":\"#506784\",\"ticks\":\"\",\"title\":{\"standoff\":15},\"zerolinecolor\":\"#283442\",\"automargin\":true,\"zerolinewidth\":2},\"scene\":{\"xaxis\":{\"backgroundcolor\":\"rgb(17,17,17)\",\"gridcolor\":\"#506784\",\"linecolor\":\"#506784\",\"showbackground\":true,\"ticks\":\"\",\"zerolinecolor\":\"#C8D4E3\",\"gridwidth\":2},\"yaxis\":{\"backgroundcolor\":\"rgb(17,17,17)\",\"gridcolor\":\"#506784\",\"linecolor\":\"#506784\",\"showbackground\":true,\"ticks\":\"\",\"zerolinecolor\":\"#C8D4E3\",\"gridwidth\":2},\"zaxis\":{\"backgroundcolor\":\"rgb(17,17,17)\",\"gridcolor\":\"#506784\",\"linecolor\":\"#506784\",\"showbackground\":true,\"ticks\":\"\",\"zerolinecolor\":\"#C8D4E3\",\"gridwidth\":2}},\"shapedefaults\":{\"line\":{\"color\":\"#f2f5fa\"}},\"annotationdefaults\":{\"arrowcolor\":\"#f2f5fa\",\"arrowhead\":0,\"arrowwidth\":1},\"geo\":{\"bgcolor\":\"rgb(17,17,17)\",\"landcolor\":\"rgb(17,17,17)\",\"subunitcolor\":\"#506784\",\"showland\":true,\"showlakes\":true,\"lakecolor\":\"rgb(17,17,17)\"},\"title\":{\"x\":0.05},\"updatemenudefaults\":{\"bgcolor\":\"#506784\",\"borderwidth\":0},\"sliderdefaults\":{\"bgcolor\":\"#C8D4E3\",\"borderwidth\":1,\"bordercolor\":\"rgb(17,17,17)\",\"tickwidth\":0},\"mapbox\":{\"style\":\"dark\"}}},\"xaxis\":{\"anchor\":\"y\",\"domain\":[0.0,1.0],\"title\":{\"text\":\"Certificate\"}},\"yaxis\":{\"anchor\":\"x\",\"domain\":[0.0,1.0],\"title\":{\"text\":\"IMDB_Rating\"}},\"legend\":{\"tracegroupgap\":0},\"title\":{\"text\":\"Average IMDB Rating by Certificate\"},\"barmode\":\"relative\"},                        {\"responsive\": true}                    ).then(function(){\n",
       "                            \n",
       "var gd = document.getElementById('d47a8985-97f3-4568-8933-6f3986f45f8b');\n",
       "var x = new MutationObserver(function (mutations, observer) {{\n",
       "        var display = window.getComputedStyle(gd).display;\n",
       "        if (!display || display === 'none') {{\n",
       "            console.log([gd, 'removed!']);\n",
       "            Plotly.purge(gd);\n",
       "            observer.disconnect();\n",
       "        }}\n",
       "}});\n",
       "\n",
       "// Listen for the removal of the full notebook cells\n",
       "var notebookContainer = gd.closest('#notebook-container');\n",
       "if (notebookContainer) {{\n",
       "    x.observe(notebookContainer, {childList: true});\n",
       "}}\n",
       "\n",
       "// Listen for the clearing of the current output cell\n",
       "var outputEl = gd.closest('.output');\n",
       "if (outputEl) {{\n",
       "    x.observe(outputEl, {childList: true});\n",
       "}}\n",
       "\n",
       "                        })                };                });            </script>        </div>"
      ]
     },
     "metadata": {},
     "output_type": "display_data"
    }
   ],
   "execution_count": 84
  },
  {
   "metadata": {},
   "cell_type": "markdown",
   "source": "This line plot tracks the popularity of various genres over the years. By analyzing the data, we can identify which genres have gained or lost popularity over time, providing insights into changing audience tastes.",
   "id": "a26d9b27b19ee0ec"
  },
  {
   "metadata": {
    "ExecuteTime": {
     "end_time": "2025-03-19T20:16:01.765526Z",
     "start_time": "2025-03-19T20:16:01.622335Z"
    }
   },
   "cell_type": "code",
   "source": [
    "import plotly.express as px\n",
    "\n",
    "# Melt the dataframe to have one genre per row\n",
    "df_melted = df.melt(id_vars=['Released_Year'], value_vars=mlb.classes_, var_name='Genre', value_name='Present')\n",
    "df_genre_year = df_melted[df_melted['Present'] == 1].groupby(['Released_Year', 'Genre']).size().reset_index(name='Count')\n",
    "\n",
    "# Create a line plot\n",
    "fig = px.line(df_genre_year, x='Released_Year', y='Count', color='Genre', title='Genre Popularity Over Time')\n",
    "fig.show()\n"
   ],
   "id": "4ed024d3d472e91e",
   "outputs": [
    {
     "data": {
      "application/vnd.plotly.v1+json": {
       "data": [
        {
         "hovertemplate": "Genre=fantasy<br>Released_Year=%{x}<br>Count=%{y}<extra></extra>",
         "legendgroup": "fantasy",
         "line": {
          "color": "#636efa",
          "dash": "solid"
         },
         "marker": {
          "symbol": "circle"
         },
         "mode": "lines",
         "name": "fantasy",
         "orientation": "v",
         "showlegend": true,
         "x": [
          1920.0,
          1922.0,
          1939.0,
          1940.0,
          1946.0,
          1950.0,
          1957.0,
          1962.0,
          1964.0,
          1971.0,
          1973.0,
          1975.0,
          1977.0,
          1980.0,
          1982.0,
          1983.0,
          1984.0,
          1985.0,
          1987.0,
          1988.0,
          1989.0,
          1990.0,
          1991.0,
          1993.0,
          1995.0,
          1999.0,
          2000.0,
          2001.0,
          2003.0,
          2004.0,
          2005.0,
          2006.0,
          2007.0,
          2008.0,
          2009.0,
          2010.0,
          2011.0,
          2012.0,
          2013.0,
          2016.0,
          2018.0
         ],
         "xaxis": "x",
         "y": [
          1,
          1,
          1,
          1,
          1,
          1,
          1,
          1,
          1,
          1,
          1,
          1,
          1,
          1,
          1,
          1,
          2,
          1,
          3,
          1,
          1,
          1,
          2,
          2,
          2,
          3,
          2,
          2,
          2,
          2,
          1,
          5,
          2,
          2,
          3,
          1,
          2,
          4,
          2,
          1,
          1
         ],
         "yaxis": "y",
         "type": "scatter"
        },
        {
         "hovertemplate": "Genre=horror<br>Released_Year=%{x}<br>Count=%{y}<extra></extra>",
         "legendgroup": "horror",
         "line": {
          "color": "#EF553B",
          "dash": "solid"
         },
         "marker": {
          "symbol": "circle"
         },
         "mode": "lines",
         "name": "horror",
         "orientation": "v",
         "showlegend": true,
         "x": [
          1920.0,
          1922.0,
          1931.0,
          1932.0,
          1933.0,
          1935.0,
          1955.0,
          1956.0,
          1960.0,
          1961.0,
          1962.0,
          1963.0,
          1965.0,
          1968.0,
          1973.0,
          1978.0,
          1979.0,
          1980.0,
          1982.0,
          2001.0,
          2002.0,
          2004.0,
          2011.0,
          2014.0,
          2017.0,
          2018.0
         ],
         "xaxis": "x",
         "y": [
          1,
          1,
          1,
          1,
          2,
          1,
          1,
          1,
          3,
          1,
          1,
          1,
          1,
          2,
          1,
          2,
          1,
          1,
          1,
          1,
          1,
          2,
          1,
          1,
          1,
          1
         ],
         "yaxis": "y",
         "type": "scatter"
        },
        {
         "hovertemplate": "Genre=mystery<br>Released_Year=%{x}<br>Count=%{y}<extra></extra>",
         "legendgroup": "mystery",
         "line": {
          "color": "#00cc96",
          "dash": "solid"
         },
         "marker": {
          "symbol": "circle"
         },
         "mode": "lines",
         "name": "mystery",
         "orientation": "v",
         "showlegend": true,
         "x": [
          1920.0,
          1931.0,
          1934.0,
          1935.0,
          1938.0,
          1940.0,
          1941.0,
          1944.0,
          1946.0,
          1948.0,
          1949.0,
          1950.0,
          1954.0,
          1957.0,
          1958.0,
          1959.0,
          1960.0,
          1962.0,
          1963.0,
          1966.0,
          1967.0,
          1972.0,
          1974.0,
          1979.0,
          1982.0,
          1986.0,
          1988.0,
          1992.0,
          1993.0,
          1994.0,
          1995.0,
          1996.0,
          1997.0,
          1998.0,
          1999.0,
          2000.0,
          2001.0,
          2002.0,
          2003.0,
          2004.0,
          2006.0,
          2007.0,
          2009.0,
          2010.0,
          2011.0,
          2012.0,
          2013.0,
          2014.0,
          2015.0,
          2016.0,
          2017.0,
          2018.0
         ],
         "xaxis": "x",
         "y": [
          1,
          1,
          1,
          1,
          1,
          1,
          2,
          1,
          1,
          1,
          1,
          2,
          1,
          1,
          1,
          2,
          2,
          1,
          3,
          1,
          2,
          2,
          2,
          1,
          1,
          2,
          1,
          1,
          1,
          1,
          3,
          1,
          5,
          1,
          1,
          1,
          3,
          3,
          3,
          3,
          4,
          6,
          8,
          2,
          1,
          2,
          3,
          1,
          3,
          1,
          3,
          1
         ],
         "yaxis": "y",
         "type": "scatter"
        },
        {
         "hovertemplate": "Genre=comedy<br>Released_Year=%{x}<br>Count=%{y}<extra></extra>",
         "legendgroup": "comedy",
         "line": {
          "color": "#ab63fa",
          "dash": "solid"
         },
         "marker": {
          "symbol": "circle"
         },
         "mode": "lines",
         "name": "comedy",
         "orientation": "v",
         "showlegend": true,
         "x": [
          1921.0,
          1924.0,
          1925.0,
          1926.0,
          1928.0,
          1931.0,
          1933.0,
          1934.0,
          1935.0,
          1936.0,
          1938.0,
          1939.0,
          1940.0,
          1942.0,
          1944.0,
          1947.0,
          1949.0,
          1950.0,
          1952.0,
          1953.0,
          1954.0,
          1955.0,
          1959.0,
          1960.0,
          1961.0,
          1962.0,
          1963.0,
          1964.0,
          1967.0,
          1968.0,
          1970.0,
          1971.0,
          1972.0,
          1973.0,
          1974.0,
          1975.0,
          1977.0,
          1979.0,
          1980.0,
          1982.0,
          1983.0,
          1984.0,
          1985.0,
          1986.0,
          1987.0,
          1988.0,
          1989.0,
          1990.0,
          1991.0,
          1992.0,
          1993.0,
          1994.0,
          1995.0,
          1996.0,
          1997.0,
          1998.0,
          1999.0,
          2000.0,
          2001.0,
          2002.0,
          2003.0,
          2004.0,
          2005.0,
          2006.0,
          2007.0,
          2008.0,
          2009.0,
          2010.0,
          2011.0,
          2012.0,
          2013.0,
          2014.0,
          2015.0,
          2016.0,
          2017.0,
          2018.0,
          2019.0,
          2020.0
         ],
         "xaxis": "x",
         "y": [
          1,
          1,
          1,
          1,
          1,
          1,
          1,
          2,
          1,
          1,
          1,
          2,
          4,
          2,
          1,
          1,
          1,
          1,
          2,
          2,
          1,
          1,
          1,
          2,
          1,
          1,
          1,
          3,
          2,
          1,
          1,
          1,
          1,
          4,
          2,
          3,
          1,
          4,
          2,
          1,
          2,
          2,
          5,
          3,
          3,
          3,
          5,
          1,
          3,
          4,
          5,
          6,
          3,
          1,
          3,
          8,
          4,
          5,
          9,
          2,
          9,
          3,
          2,
          4,
          3,
          2,
          7,
          5,
          5,
          8,
          4,
          8,
          5,
          8,
          4,
          4,
          10,
          3
         ],
         "yaxis": "y",
         "type": "scatter"
        },
        {
         "hovertemplate": "Genre=drama<br>Released_Year=%{x}<br>Count=%{y}<extra></extra>",
         "legendgroup": "drama",
         "line": {
          "color": "#FFA15A",
          "dash": "solid"
         },
         "marker": {
          "symbol": "circle"
         },
         "mode": "lines",
         "name": "drama",
         "orientation": "v",
         "showlegend": true,
         "x": [
          1921.0,
          1925.0,
          1927.0,
          1928.0,
          1930.0,
          1931.0,
          1932.0,
          1935.0,
          1936.0,
          1937.0,
          1939.0,
          1940.0,
          1941.0,
          1942.0,
          1944.0,
          1945.0,
          1946.0,
          1947.0,
          1948.0,
          1949.0,
          1950.0,
          1951.0,
          1952.0,
          1953.0,
          1954.0,
          1955.0,
          1956.0,
          1957.0,
          1958.0,
          1959.0,
          1960.0,
          1961.0,
          1962.0,
          1963.0,
          1964.0,
          1965.0,
          1966.0,
          1967.0,
          1968.0,
          1969.0,
          1970.0,
          1971.0,
          1972.0,
          1973.0,
          1974.0,
          1975.0,
          1976.0,
          1977.0,
          1978.0,
          1979.0,
          1980.0,
          1981.0,
          1982.0,
          1983.0,
          1984.0,
          1985.0,
          1986.0,
          1987.0,
          1988.0,
          1989.0,
          1990.0,
          1991.0,
          1992.0,
          1993.0,
          1994.0,
          1995.0,
          1996.0,
          1997.0,
          1998.0,
          1999.0,
          2000.0,
          2001.0,
          2002.0,
          2003.0,
          2004.0,
          2005.0,
          2006.0,
          2007.0,
          2008.0,
          2009.0,
          2010.0,
          2011.0,
          2012.0,
          2013.0,
          2014.0,
          2015.0,
          2016.0,
          2017.0,
          2018.0,
          2019.0,
          2020.0
         ],
         "xaxis": "x",
         "y": [
          1,
          2,
          2,
          1,
          1,
          2,
          2,
          1,
          1,
          1,
          4,
          5,
          1,
          1,
          3,
          2,
          4,
          2,
          6,
          1,
          5,
          4,
          3,
          4,
          4,
          5,
          5,
          9,
          3,
          5,
          9,
          4,
          12,
          4,
          3,
          3,
          6,
          6,
          2,
          2,
          2,
          7,
          5,
          10,
          3,
          4,
          6,
          1,
          5,
          6,
          5,
          2,
          6,
          2,
          5,
          6,
          7,
          8,
          5,
          8,
          7,
          9,
          8,
          17,
          11,
          14,
          10,
          14,
          11,
          12,
          13,
          19,
          16,
          19,
          22,
          13,
          24,
          22,
          16,
          18,
          14,
          15,
          14,
          25,
          21,
          20,
          22,
          16,
          13,
          20,
          5
         ],
         "yaxis": "y",
         "type": "scatter"
        },
        {
         "hovertemplate": "Genre=family<br>Released_Year=%{x}<br>Count=%{y}<extra></extra>",
         "legendgroup": "family",
         "line": {
          "color": "#19d3f3",
          "dash": "solid"
         },
         "marker": {
          "symbol": "circle"
         },
         "mode": "lines",
         "name": "family",
         "orientation": "v",
         "showlegend": true,
         "x": [
          1921.0,
          1936.0,
          1938.0,
          1939.0,
          1940.0,
          1946.0,
          1947.0,
          1964.0,
          1965.0,
          1967.0,
          1971.0,
          1973.0,
          1979.0,
          1982.0,
          1983.0,
          1985.0,
          1987.0,
          1988.0,
          1989.0,
          1990.0,
          1991.0,
          1992.0,
          1993.0,
          1995.0,
          1997.0,
          1998.0,
          1999.0,
          2001.0,
          2004.0,
          2005.0,
          2007.0,
          2008.0,
          2009.0,
          2010.0,
          2012.0,
          2014.0,
          2016.0,
          2017.0
         ],
         "xaxis": "x",
         "y": [
          1,
          1,
          1,
          1,
          1,
          1,
          1,
          2,
          1,
          1,
          2,
          1,
          2,
          1,
          1,
          1,
          1,
          1,
          1,
          1,
          1,
          1,
          2,
          2,
          1,
          1,
          1,
          2,
          4,
          2,
          3,
          1,
          4,
          2,
          1,
          1,
          1,
          3
         ],
         "yaxis": "y",
         "type": "scatter"
        },
        {
         "hovertemplate": "Genre=action<br>Released_Year=%{x}<br>Count=%{y}<extra></extra>",
         "legendgroup": "action",
         "line": {
          "color": "#FF6692",
          "dash": "solid"
         },
         "marker": {
          "symbol": "circle"
         },
         "mode": "lines",
         "name": "action",
         "orientation": "v",
         "showlegend": true,
         "x": [
          1924.0,
          1926.0,
          1932.0,
          1938.0,
          1948.0,
          1949.0,
          1954.0,
          1959.0,
          1960.0,
          1961.0,
          1962.0,
          1964.0,
          1967.0,
          1968.0,
          1969.0,
          1971.0,
          1972.0,
          1973.0,
          1974.0,
          1975.0,
          1977.0,
          1978.0,
          1979.0,
          1980.0,
          1981.0,
          1982.0,
          1983.0,
          1984.0,
          1985.0,
          1986.0,
          1987.0,
          1988.0,
          1989.0,
          1991.0,
          1992.0,
          1993.0,
          1994.0,
          1995.0,
          1997.0,
          1998.0,
          1999.0,
          2000.0,
          2001.0,
          2002.0,
          2003.0,
          2004.0,
          2005.0,
          2006.0,
          2007.0,
          2008.0,
          2009.0,
          2010.0,
          2011.0,
          2012.0,
          2013.0,
          2014.0,
          2015.0,
          2016.0,
          2017.0,
          2018.0,
          2019.0
         ],
         "xaxis": "x",
         "y": [
          1,
          1,
          1,
          1,
          2,
          1,
          1,
          1,
          1,
          1,
          3,
          2,
          2,
          1,
          1,
          2,
          1,
          2,
          1,
          1,
          1,
          1,
          2,
          2,
          2,
          3,
          1,
          2,
          1,
          1,
          4,
          2,
          2,
          1,
          2,
          6,
          2,
          2,
          5,
          1,
          3,
          6,
          2,
          6,
          5,
          6,
          4,
          6,
          5,
          6,
          8,
          6,
          3,
          6,
          2,
          11,
          7,
          7,
          9,
          8,
          3
         ],
         "yaxis": "y",
         "type": "scatter"
        },
        {
         "hovertemplate": "Genre=romance<br>Released_Year=%{x}<br>Count=%{y}<extra></extra>",
         "legendgroup": "romance",
         "line": {
          "color": "#B6E880",
          "dash": "solid"
         },
         "marker": {
          "symbol": "circle"
         },
         "mode": "lines",
         "name": "romance",
         "orientation": "v",
         "showlegend": true,
         "x": [
          1924.0,
          1927.0,
          1928.0,
          1931.0,
          1934.0,
          1938.0,
          1939.0,
          1940.0,
          1942.0,
          1945.0,
          1946.0,
          1948.0,
          1951.0,
          1952.0,
          1953.0,
          1954.0,
          1957.0,
          1958.0,
          1959.0,
          1960.0,
          1961.0,
          1962.0,
          1963.0,
          1965.0,
          1967.0,
          1971.0,
          1977.0,
          1978.0,
          1979.0,
          1985.0,
          1987.0,
          1988.0,
          1989.0,
          1990.0,
          1991.0,
          1993.0,
          1994.0,
          1995.0,
          1997.0,
          1998.0,
          2000.0,
          2001.0,
          2002.0,
          2003.0,
          2004.0,
          2005.0,
          2006.0,
          2007.0,
          2008.0,
          2009.0,
          2010.0,
          2011.0,
          2012.0,
          2013.0,
          2014.0,
          2015.0,
          2016.0,
          2017.0,
          2018.0,
          2019.0,
          2020.0
         ],
         "xaxis": "x",
         "y": [
          1,
          1,
          1,
          1,
          1,
          2,
          1,
          4,
          1,
          1,
          3,
          1,
          1,
          2,
          2,
          1,
          1,
          1,
          2,
          1,
          1,
          1,
          1,
          1,
          2,
          2,
          1,
          1,
          1,
          1,
          1,
          1,
          1,
          1,
          2,
          5,
          4,
          4,
          5,
          3,
          2,
          3,
          1,
          3,
          6,
          3,
          1,
          3,
          2,
          4,
          2,
          3,
          7,
          4,
          2,
          2,
          1,
          2,
          1,
          4,
          1
         ],
         "yaxis": "y",
         "type": "scatter"
        },
        {
         "hovertemplate": "Genre=adventure<br>Released_Year=%{x}<br>Count=%{y}<extra></extra>",
         "legendgroup": "adventure",
         "line": {
          "color": "#FF97FF",
          "dash": "solid"
         },
         "marker": {
          "symbol": "circle"
         },
         "mode": "lines",
         "name": "adventure",
         "orientation": "v",
         "showlegend": true,
         "x": [
          1925.0,
          1926.0,
          1933.0,
          1938.0,
          1939.0,
          1944.0,
          1948.0,
          1951.0,
          1953.0,
          1954.0,
          1956.0,
          1957.0,
          1958.0,
          1959.0,
          1960.0,
          1962.0,
          1963.0,
          1964.0,
          1967.0,
          1968.0,
          1969.0,
          1970.0,
          1972.0,
          1973.0,
          1975.0,
          1977.0,
          1978.0,
          1979.0,
          1980.0,
          1981.0,
          1982.0,
          1983.0,
          1984.0,
          1985.0,
          1986.0,
          1987.0,
          1988.0,
          1989.0,
          1990.0,
          1992.0,
          1993.0,
          1994.0,
          1995.0,
          1997.0,
          1998.0,
          1999.0,
          2000.0,
          2001.0,
          2002.0,
          2003.0,
          2004.0,
          2005.0,
          2006.0,
          2007.0,
          2008.0,
          2009.0,
          2010.0,
          2011.0,
          2012.0,
          2013.0,
          2014.0,
          2015.0,
          2016.0,
          2017.0,
          2018.0,
          2019.0,
          2020.0
         ],
         "xaxis": "x",
         "y": [
          1,
          1,
          1,
          1,
          2,
          1,
          2,
          1,
          1,
          1,
          2,
          1,
          1,
          2,
          2,
          1,
          1,
          1,
          2,
          3,
          1,
          1,
          2,
          1,
          5,
          1,
          2,
          2,
          2,
          3,
          3,
          2,
          1,
          2,
          3,
          2,
          1,
          3,
          1,
          3,
          2,
          1,
          3,
          2,
          2,
          3,
          6,
          6,
          4,
          5,
          5,
          3,
          7,
          3,
          3,
          10,
          6,
          2,
          6,
          6,
          12,
          7,
          7,
          4,
          6,
          5,
          1
         ],
         "yaxis": "y",
         "type": "scatter"
        },
        {
         "hovertemplate": "Genre=history<br>Released_Year=%{x}<br>Count=%{y}<extra></extra>",
         "legendgroup": "history",
         "line": {
          "color": "#FECB52",
          "dash": "solid"
         },
         "marker": {
          "symbol": "circle"
         },
         "mode": "lines",
         "name": "history",
         "orientation": "v",
         "showlegend": true,
         "x": [
          1925.0,
          1928.0,
          1939.0,
          1940.0,
          1957.0,
          1959.0,
          1960.0,
          1962.0,
          1963.0,
          1964.0,
          1966.0,
          1968.0,
          1975.0,
          1976.0,
          1980.0,
          1982.0,
          1984.0,
          1987.0,
          1988.0,
          1989.0,
          1991.0,
          1992.0,
          1993.0,
          1995.0,
          1999.0,
          2001.0,
          2002.0,
          2004.0,
          2005.0,
          2006.0,
          2008.0,
          2009.0,
          2010.0,
          2013.0,
          2015.0,
          2016.0,
          2017.0,
          2019.0,
          2020.0
         ],
         "xaxis": "x",
         "y": [
          1,
          1,
          1,
          1,
          2,
          1,
          1,
          1,
          1,
          1,
          2,
          1,
          2,
          2,
          1,
          1,
          2,
          2,
          1,
          1,
          2,
          1,
          1,
          1,
          1,
          2,
          1,
          2,
          2,
          1,
          2,
          1,
          1,
          1,
          3,
          3,
          2,
          1,
          2
         ],
         "yaxis": "y",
         "type": "scatter"
        },
        {
         "hovertemplate": "Genre=thriller<br>Released_Year=%{x}<br>Count=%{y}<extra></extra>",
         "legendgroup": "thriller",
         "line": {
          "color": "#636efa",
          "dash": "solid"
         },
         "marker": {
          "symbol": "circle"
         },
         "mode": "lines",
         "name": "thriller",
         "orientation": "v",
         "showlegend": true,
         "x": [
          1925.0,
          1931.0,
          1935.0,
          1938.0,
          1942.0,
          1943.0,
          1949.0,
          1951.0,
          1952.0,
          1953.0,
          1954.0,
          1955.0,
          1958.0,
          1959.0,
          1960.0,
          1961.0,
          1962.0,
          1964.0,
          1965.0,
          1966.0,
          1967.0,
          1968.0,
          1971.0,
          1972.0,
          1973.0,
          1974.0,
          1975.0,
          1976.0,
          1978.0,
          1979.0,
          1981.0,
          1982.0,
          1984.0,
          1985.0,
          1986.0,
          1987.0,
          1988.0,
          1990.0,
          1991.0,
          1992.0,
          1993.0,
          1995.0,
          1996.0,
          1997.0,
          1998.0,
          1999.0,
          2000.0,
          2001.0,
          2002.0,
          2003.0,
          2004.0,
          2005.0,
          2006.0,
          2007.0,
          2008.0,
          2009.0,
          2010.0,
          2011.0,
          2012.0,
          2013.0,
          2014.0,
          2015.0,
          2016.0,
          2017.0,
          2018.0,
          2019.0,
          2020.0
         ],
         "xaxis": "x",
         "y": [
          1,
          1,
          1,
          1,
          1,
          1,
          1,
          1,
          1,
          1,
          3,
          1,
          1,
          1,
          2,
          1,
          3,
          1,
          1,
          2,
          1,
          1,
          1,
          2,
          1,
          3,
          1,
          1,
          1,
          1,
          1,
          1,
          1,
          1,
          1,
          2,
          2,
          2,
          3,
          3,
          1,
          4,
          3,
          3,
          2,
          3,
          4,
          5,
          3,
          1,
          7,
          2,
          5,
          2,
          3,
          2,
          3,
          2,
          4,
          3,
          6,
          3,
          2,
          1,
          3,
          3,
          1
         ],
         "yaxis": "y",
         "type": "scatter"
        },
        {
         "hovertemplate": "Genre=sci-fi<br>Released_Year=%{x}<br>Count=%{y}<extra></extra>",
         "legendgroup": "sci-fi",
         "line": {
          "color": "#EF553B",
          "dash": "solid"
         },
         "marker": {
          "symbol": "circle"
         },
         "mode": "lines",
         "name": "sci-fi",
         "orientation": "v",
         "showlegend": true,
         "x": [
          1927.0,
          1931.0,
          1933.0,
          1935.0,
          1951.0,
          1956.0,
          1968.0,
          1971.0,
          1972.0,
          1973.0,
          1977.0,
          1979.0,
          1981.0,
          1982.0,
          1984.0,
          1985.0,
          1986.0,
          1987.0,
          1988.0,
          1989.0,
          1991.0,
          1993.0,
          1995.0,
          1997.0,
          1998.0,
          1999.0,
          2001.0,
          2002.0,
          2004.0,
          2005.0,
          2006.0,
          2008.0,
          2009.0,
          2010.0,
          2011.0,
          2012.0,
          2013.0,
          2014.0,
          2015.0,
          2016.0,
          2017.0,
          2018.0
         ],
         "xaxis": "x",
         "y": [
          1,
          1,
          2,
          1,
          1,
          1,
          2,
          1,
          1,
          1,
          1,
          2,
          1,
          4,
          1,
          2,
          1,
          1,
          1,
          1,
          1,
          1,
          1,
          3,
          1,
          1,
          1,
          1,
          3,
          2,
          2,
          1,
          3,
          1,
          1,
          1,
          3,
          5,
          3,
          3,
          1,
          1
         ],
         "yaxis": "y",
         "type": "scatter"
        },
        {
         "hovertemplate": "Genre=biography<br>Released_Year=%{x}<br>Count=%{y}<extra></extra>",
         "legendgroup": "biography",
         "line": {
          "color": "#00cc96",
          "dash": "solid"
         },
         "marker": {
          "symbol": "circle"
         },
         "mode": "lines",
         "name": "biography",
         "orientation": "v",
         "showlegend": true,
         "x": [
          1928.0,
          1960.0,
          1962.0,
          1965.0,
          1966.0,
          1967.0,
          1968.0,
          1969.0,
          1970.0,
          1972.0,
          1973.0,
          1975.0,
          1976.0,
          1978.0,
          1979.0,
          1980.0,
          1982.0,
          1983.0,
          1984.0,
          1987.0,
          1989.0,
          1990.0,
          1992.0,
          1993.0,
          1994.0,
          1995.0,
          1996.0,
          1997.0,
          1999.0,
          2000.0,
          2001.0,
          2002.0,
          2004.0,
          2005.0,
          2006.0,
          2007.0,
          2008.0,
          2009.0,
          2010.0,
          2011.0,
          2012.0,
          2013.0,
          2014.0,
          2015.0,
          2016.0,
          2017.0,
          2018.0,
          2019.0,
          2020.0
         ],
         "xaxis": "x",
         "y": [
          1,
          2,
          1,
          1,
          2,
          1,
          1,
          1,
          1,
          1,
          2,
          2,
          2,
          1,
          1,
          2,
          1,
          1,
          2,
          1,
          2,
          2,
          1,
          3,
          2,
          1,
          1,
          1,
          4,
          1,
          2,
          2,
          5,
          3,
          3,
          6,
          3,
          2,
          3,
          2,
          2,
          8,
          4,
          3,
          5,
          3,
          2,
          5,
          1
         ],
         "yaxis": "y",
         "type": "scatter"
        },
        {
         "hovertemplate": "Genre=war<br>Released_Year=%{x}<br>Count=%{y}<extra></extra>",
         "legendgroup": "war",
         "line": {
          "color": "#ab63fa",
          "dash": "solid"
         },
         "marker": {
          "symbol": "circle"
         },
         "mode": "lines",
         "name": "war",
         "orientation": "v",
         "showlegend": true,
         "x": [
          1930.0,
          1933.0,
          1937.0,
          1940.0,
          1942.0,
          1944.0,
          1946.0,
          1953.0,
          1957.0,
          1961.0,
          1962.0,
          1964.0,
          1965.0,
          1966.0,
          1967.0,
          1968.0,
          1970.0,
          1971.0,
          1975.0,
          1978.0,
          1979.0,
          1980.0,
          1985.0,
          1986.0,
          1987.0,
          1988.0,
          1995.0,
          1998.0,
          2001.0,
          2004.0,
          2006.0,
          2008.0,
          2009.0,
          2010.0,
          2013.0,
          2015.0,
          2018.0,
          2019.0
         ],
         "xaxis": "x",
         "y": [
          1,
          1,
          1,
          1,
          2,
          1,
          1,
          2,
          2,
          1,
          1,
          1,
          1,
          1,
          1,
          1,
          2,
          1,
          2,
          1,
          1,
          1,
          2,
          1,
          2,
          1,
          1,
          2,
          3,
          1,
          2,
          1,
          1,
          1,
          1,
          2,
          1,
          2
         ],
         "yaxis": "y",
         "type": "scatter"
        },
        {
         "hovertemplate": "Genre=crime<br>Released_Year=%{x}<br>Count=%{y}<extra></extra>",
         "legendgroup": "crime",
         "line": {
          "color": "#FFA15A",
          "dash": "solid"
         },
         "marker": {
          "symbol": "circle"
         },
         "mode": "lines",
         "name": "crime",
         "orientation": "v",
         "showlegend": true,
         "x": [
          1931.0,
          1932.0,
          1934.0,
          1935.0,
          1942.0,
          1944.0,
          1946.0,
          1947.0,
          1948.0,
          1949.0,
          1950.0,
          1951.0,
          1954.0,
          1955.0,
          1956.0,
          1957.0,
          1958.0,
          1959.0,
          1960.0,
          1962.0,
          1963.0,
          1967.0,
          1969.0,
          1971.0,
          1972.0,
          1973.0,
          1974.0,
          1975.0,
          1976.0,
          1978.0,
          1979.0,
          1982.0,
          1983.0,
          1984.0,
          1985.0,
          1986.0,
          1987.0,
          1988.0,
          1989.0,
          1990.0,
          1991.0,
          1992.0,
          1993.0,
          1994.0,
          1995.0,
          1996.0,
          1997.0,
          1998.0,
          1999.0,
          2000.0,
          2001.0,
          2002.0,
          2003.0,
          2004.0,
          2005.0,
          2006.0,
          2007.0,
          2008.0,
          2009.0,
          2010.0,
          2011.0,
          2012.0,
          2013.0,
          2014.0,
          2015.0,
          2016.0,
          2017.0,
          2018.0,
          2019.0
         ],
         "xaxis": "x",
         "y": [
          1,
          1,
          1,
          1,
          1,
          1,
          1,
          1,
          2,
          2,
          1,
          1,
          2,
          4,
          1,
          2,
          1,
          2,
          1,
          2,
          1,
          4,
          1,
          3,
          1,
          8,
          2,
          1,
          1,
          1,
          2,
          1,
          1,
          2,
          1,
          2,
          2,
          3,
          1,
          3,
          3,
          4,
          8,
          4,
          7,
          4,
          6,
          4,
          2,
          6,
          4,
          7,
          5,
          5,
          3,
          6,
          7,
          6,
          4,
          5,
          3,
          3,
          6,
          5,
          7,
          3,
          5,
          2,
          5
         ],
         "yaxis": "y",
         "type": "scatter"
        },
        {
         "hovertemplate": "Genre=musical<br>Released_Year=%{x}<br>Count=%{y}<extra></extra>",
         "legendgroup": "musical",
         "line": {
          "color": "#19d3f3",
          "dash": "solid"
         },
         "marker": {
          "symbol": "circle"
         },
         "mode": "lines",
         "name": "musical",
         "orientation": "v",
         "showlegend": true,
         "x": [
          1933.0,
          1935.0,
          1952.0,
          1964.0,
          1971.0,
          1972.0,
          1979.0,
          2000.0,
          2001.0,
          2003.0,
          2004.0,
          2011.0,
          2014.0
         ],
         "xaxis": "x",
         "y": [
          1,
          1,
          1,
          2,
          3,
          1,
          1,
          1,
          1,
          2,
          1,
          1,
          1
         ],
         "yaxis": "y",
         "type": "scatter"
        },
        {
         "hovertemplate": "Genre=music<br>Released_Year=%{x}<br>Count=%{y}<extra></extra>",
         "legendgroup": "music",
         "line": {
          "color": "#FF6692",
          "dash": "solid"
         },
         "marker": {
          "symbol": "circle"
         },
         "mode": "lines",
         "name": "music",
         "orientation": "v",
         "showlegend": true,
         "x": [
          1935.0,
          1948.0,
          1959.0,
          1964.0,
          1972.0,
          1978.0,
          1979.0,
          1982.0,
          1984.0,
          1991.0,
          1993.0,
          1996.0,
          1998.0,
          2000.0,
          2001.0,
          2002.0,
          2004.0,
          2005.0,
          2007.0,
          2008.0,
          2011.0,
          2012.0,
          2014.0,
          2016.0,
          2018.0,
          2019.0
         ],
         "xaxis": "x",
         "y": [
          1,
          1,
          1,
          1,
          1,
          1,
          1,
          1,
          1,
          1,
          2,
          1,
          1,
          1,
          1,
          1,
          2,
          2,
          3,
          1,
          1,
          1,
          1,
          2,
          3,
          2
         ],
         "yaxis": "y",
         "type": "scatter"
        },
        {
         "hovertemplate": "Genre=western<br>Released_Year=%{x}<br>Count=%{y}<extra></extra>",
         "legendgroup": "western",
         "line": {
          "color": "#B6E880",
          "dash": "solid"
         },
         "marker": {
          "symbol": "circle"
         },
         "mode": "lines",
         "name": "western",
         "orientation": "v",
         "showlegend": true,
         "x": [
          1939.0,
          1948.0,
          1952.0,
          1956.0,
          1959.0,
          1960.0,
          1962.0,
          1964.0,
          1965.0,
          1966.0,
          1968.0,
          1969.0,
          1971.0,
          1974.0,
          1976.0,
          1990.0,
          1992.0,
          2010.0,
          2012.0
         ],
         "xaxis": "x",
         "y": [
          1,
          1,
          1,
          2,
          1,
          1,
          1,
          1,
          1,
          1,
          1,
          1,
          1,
          1,
          1,
          1,
          1,
          1,
          1
         ],
         "yaxis": "y",
         "type": "scatter"
        },
        {
         "hovertemplate": "Genre=animation<br>Released_Year=%{x}<br>Count=%{y}<extra></extra>",
         "legendgroup": "animation",
         "line": {
          "color": "#FF97FF",
          "dash": "solid"
         },
         "marker": {
          "symbol": "circle"
         },
         "mode": "lines",
         "name": "animation",
         "orientation": "v",
         "showlegend": true,
         "x": [
          1940.0,
          1967.0,
          1973.0,
          1978.0,
          1979.0,
          1984.0,
          1986.0,
          1988.0,
          1989.0,
          1991.0,
          1992.0,
          1993.0,
          1994.0,
          1995.0,
          1997.0,
          1998.0,
          1999.0,
          2000.0,
          2001.0,
          2003.0,
          2004.0,
          2006.0,
          2007.0,
          2008.0,
          2009.0,
          2010.0,
          2012.0,
          2013.0,
          2014.0,
          2015.0,
          2016.0,
          2017.0,
          2018.0,
          2019.0,
          2020.0
         ],
         "xaxis": "x",
         "y": [
          1,
          1,
          1,
          1,
          1,
          1,
          1,
          4,
          2,
          2,
          2,
          3,
          1,
          3,
          3,
          1,
          3,
          1,
          5,
          3,
          2,
          2,
          2,
          2,
          5,
          5,
          2,
          2,
          5,
          2,
          5,
          2,
          3,
          2,
          1
         ],
         "yaxis": "y",
         "type": "scatter"
        },
        {
         "hovertemplate": "Genre=film-noir<br>Released_Year=%{x}<br>Count=%{y}<extra></extra>",
         "legendgroup": "film-noir",
         "line": {
          "color": "#FECB52",
          "dash": "solid"
         },
         "marker": {
          "symbol": "circle"
         },
         "mode": "lines",
         "name": "film-noir",
         "orientation": "v",
         "showlegend": true,
         "x": [
          1941.0,
          1943.0,
          1944.0,
          1945.0,
          1946.0,
          1947.0,
          1949.0,
          1950.0,
          1951.0,
          1955.0,
          1956.0,
          1957.0,
          1958.0
         ],
         "xaxis": "x",
         "y": [
          1,
          1,
          3,
          1,
          3,
          1,
          1,
          2,
          2,
          1,
          1,
          1,
          1
         ],
         "yaxis": "y",
         "type": "scatter"
        },
        {
         "hovertemplate": "Genre=sport<br>Released_Year=%{x}<br>Count=%{y}<extra></extra>",
         "legendgroup": "sport",
         "line": {
          "color": "#636efa",
          "dash": "solid"
         },
         "marker": {
          "symbol": "circle"
         },
         "mode": "lines",
         "name": "sport",
         "orientation": "v",
         "showlegend": true,
         "x": [
          1961.0,
          1976.0,
          1980.0,
          1997.0,
          1998.0,
          1999.0,
          2000.0,
          2004.0,
          2005.0,
          2007.0,
          2008.0,
          2009.0,
          2010.0,
          2011.0,
          2013.0,
          2015.0,
          2016.0
         ],
         "xaxis": "x",
         "y": [
          1,
          1,
          1,
          1,
          1,
          1,
          1,
          1,
          1,
          1,
          1,
          1,
          1,
          2,
          2,
          1,
          1
         ],
         "yaxis": "y",
         "type": "scatter"
        }
       ],
       "layout": {
        "template": {
         "data": {
          "histogram2dcontour": [
           {
            "type": "histogram2dcontour",
            "colorbar": {
             "outlinewidth": 0,
             "ticks": ""
            },
            "colorscale": [
             [
              0.0,
              "#0d0887"
             ],
             [
              0.1111111111111111,
              "#46039f"
             ],
             [
              0.2222222222222222,
              "#7201a8"
             ],
             [
              0.3333333333333333,
              "#9c179e"
             ],
             [
              0.4444444444444444,
              "#bd3786"
             ],
             [
              0.5555555555555556,
              "#d8576b"
             ],
             [
              0.6666666666666666,
              "#ed7953"
             ],
             [
              0.7777777777777778,
              "#fb9f3a"
             ],
             [
              0.8888888888888888,
              "#fdca26"
             ],
             [
              1.0,
              "#f0f921"
             ]
            ]
           }
          ],
          "choropleth": [
           {
            "type": "choropleth",
            "colorbar": {
             "outlinewidth": 0,
             "ticks": ""
            }
           }
          ],
          "histogram2d": [
           {
            "type": "histogram2d",
            "colorbar": {
             "outlinewidth": 0,
             "ticks": ""
            },
            "colorscale": [
             [
              0.0,
              "#0d0887"
             ],
             [
              0.1111111111111111,
              "#46039f"
             ],
             [
              0.2222222222222222,
              "#7201a8"
             ],
             [
              0.3333333333333333,
              "#9c179e"
             ],
             [
              0.4444444444444444,
              "#bd3786"
             ],
             [
              0.5555555555555556,
              "#d8576b"
             ],
             [
              0.6666666666666666,
              "#ed7953"
             ],
             [
              0.7777777777777778,
              "#fb9f3a"
             ],
             [
              0.8888888888888888,
              "#fdca26"
             ],
             [
              1.0,
              "#f0f921"
             ]
            ]
           }
          ],
          "heatmap": [
           {
            "type": "heatmap",
            "colorbar": {
             "outlinewidth": 0,
             "ticks": ""
            },
            "colorscale": [
             [
              0.0,
              "#0d0887"
             ],
             [
              0.1111111111111111,
              "#46039f"
             ],
             [
              0.2222222222222222,
              "#7201a8"
             ],
             [
              0.3333333333333333,
              "#9c179e"
             ],
             [
              0.4444444444444444,
              "#bd3786"
             ],
             [
              0.5555555555555556,
              "#d8576b"
             ],
             [
              0.6666666666666666,
              "#ed7953"
             ],
             [
              0.7777777777777778,
              "#fb9f3a"
             ],
             [
              0.8888888888888888,
              "#fdca26"
             ],
             [
              1.0,
              "#f0f921"
             ]
            ]
           }
          ],
          "heatmapgl": [
           {
            "type": "heatmapgl",
            "colorbar": {
             "outlinewidth": 0,
             "ticks": ""
            },
            "colorscale": [
             [
              0.0,
              "#0d0887"
             ],
             [
              0.1111111111111111,
              "#46039f"
             ],
             [
              0.2222222222222222,
              "#7201a8"
             ],
             [
              0.3333333333333333,
              "#9c179e"
             ],
             [
              0.4444444444444444,
              "#bd3786"
             ],
             [
              0.5555555555555556,
              "#d8576b"
             ],
             [
              0.6666666666666666,
              "#ed7953"
             ],
             [
              0.7777777777777778,
              "#fb9f3a"
             ],
             [
              0.8888888888888888,
              "#fdca26"
             ],
             [
              1.0,
              "#f0f921"
             ]
            ]
           }
          ],
          "contourcarpet": [
           {
            "type": "contourcarpet",
            "colorbar": {
             "outlinewidth": 0,
             "ticks": ""
            }
           }
          ],
          "contour": [
           {
            "type": "contour",
            "colorbar": {
             "outlinewidth": 0,
             "ticks": ""
            },
            "colorscale": [
             [
              0.0,
              "#0d0887"
             ],
             [
              0.1111111111111111,
              "#46039f"
             ],
             [
              0.2222222222222222,
              "#7201a8"
             ],
             [
              0.3333333333333333,
              "#9c179e"
             ],
             [
              0.4444444444444444,
              "#bd3786"
             ],
             [
              0.5555555555555556,
              "#d8576b"
             ],
             [
              0.6666666666666666,
              "#ed7953"
             ],
             [
              0.7777777777777778,
              "#fb9f3a"
             ],
             [
              0.8888888888888888,
              "#fdca26"
             ],
             [
              1.0,
              "#f0f921"
             ]
            ]
           }
          ],
          "surface": [
           {
            "type": "surface",
            "colorbar": {
             "outlinewidth": 0,
             "ticks": ""
            },
            "colorscale": [
             [
              0.0,
              "#0d0887"
             ],
             [
              0.1111111111111111,
              "#46039f"
             ],
             [
              0.2222222222222222,
              "#7201a8"
             ],
             [
              0.3333333333333333,
              "#9c179e"
             ],
             [
              0.4444444444444444,
              "#bd3786"
             ],
             [
              0.5555555555555556,
              "#d8576b"
             ],
             [
              0.6666666666666666,
              "#ed7953"
             ],
             [
              0.7777777777777778,
              "#fb9f3a"
             ],
             [
              0.8888888888888888,
              "#fdca26"
             ],
             [
              1.0,
              "#f0f921"
             ]
            ]
           }
          ],
          "mesh3d": [
           {
            "type": "mesh3d",
            "colorbar": {
             "outlinewidth": 0,
             "ticks": ""
            }
           }
          ],
          "scatter": [
           {
            "marker": {
             "line": {
              "color": "#283442"
             }
            },
            "type": "scatter"
           }
          ],
          "parcoords": [
           {
            "type": "parcoords",
            "line": {
             "colorbar": {
              "outlinewidth": 0,
              "ticks": ""
             }
            }
           }
          ],
          "scatterpolargl": [
           {
            "type": "scatterpolargl",
            "marker": {
             "colorbar": {
              "outlinewidth": 0,
              "ticks": ""
             }
            }
           }
          ],
          "bar": [
           {
            "error_x": {
             "color": "#f2f5fa"
            },
            "error_y": {
             "color": "#f2f5fa"
            },
            "marker": {
             "line": {
              "color": "rgb(17,17,17)",
              "width": 0.5
             },
             "pattern": {
              "fillmode": "overlay",
              "size": 10,
              "solidity": 0.2
             }
            },
            "type": "bar"
           }
          ],
          "scattergeo": [
           {
            "type": "scattergeo",
            "marker": {
             "colorbar": {
              "outlinewidth": 0,
              "ticks": ""
             }
            }
           }
          ],
          "scatterpolar": [
           {
            "type": "scatterpolar",
            "marker": {
             "colorbar": {
              "outlinewidth": 0,
              "ticks": ""
             }
            }
           }
          ],
          "histogram": [
           {
            "marker": {
             "pattern": {
              "fillmode": "overlay",
              "size": 10,
              "solidity": 0.2
             }
            },
            "type": "histogram"
           }
          ],
          "scattergl": [
           {
            "marker": {
             "line": {
              "color": "#283442"
             }
            },
            "type": "scattergl"
           }
          ],
          "scatter3d": [
           {
            "type": "scatter3d",
            "line": {
             "colorbar": {
              "outlinewidth": 0,
              "ticks": ""
             }
            },
            "marker": {
             "colorbar": {
              "outlinewidth": 0,
              "ticks": ""
             }
            }
           }
          ],
          "scattermapbox": [
           {
            "type": "scattermapbox",
            "marker": {
             "colorbar": {
              "outlinewidth": 0,
              "ticks": ""
             }
            }
           }
          ],
          "scatterternary": [
           {
            "type": "scatterternary",
            "marker": {
             "colorbar": {
              "outlinewidth": 0,
              "ticks": ""
             }
            }
           }
          ],
          "scattercarpet": [
           {
            "type": "scattercarpet",
            "marker": {
             "colorbar": {
              "outlinewidth": 0,
              "ticks": ""
             }
            }
           }
          ],
          "carpet": [
           {
            "aaxis": {
             "endlinecolor": "#A2B1C6",
             "gridcolor": "#506784",
             "linecolor": "#506784",
             "minorgridcolor": "#506784",
             "startlinecolor": "#A2B1C6"
            },
            "baxis": {
             "endlinecolor": "#A2B1C6",
             "gridcolor": "#506784",
             "linecolor": "#506784",
             "minorgridcolor": "#506784",
             "startlinecolor": "#A2B1C6"
            },
            "type": "carpet"
           }
          ],
          "table": [
           {
            "cells": {
             "fill": {
              "color": "#506784"
             },
             "line": {
              "color": "rgb(17,17,17)"
             }
            },
            "header": {
             "fill": {
              "color": "#2a3f5f"
             },
             "line": {
              "color": "rgb(17,17,17)"
             }
            },
            "type": "table"
           }
          ],
          "barpolar": [
           {
            "marker": {
             "line": {
              "color": "rgb(17,17,17)",
              "width": 0.5
             },
             "pattern": {
              "fillmode": "overlay",
              "size": 10,
              "solidity": 0.2
             }
            },
            "type": "barpolar"
           }
          ],
          "pie": [
           {
            "automargin": true,
            "type": "pie"
           }
          ]
         },
         "layout": {
          "autotypenumbers": "strict",
          "colorway": [
           "#636efa",
           "#EF553B",
           "#00cc96",
           "#ab63fa",
           "#FFA15A",
           "#19d3f3",
           "#FF6692",
           "#B6E880",
           "#FF97FF",
           "#FECB52"
          ],
          "font": {
           "color": "#f2f5fa"
          },
          "hovermode": "closest",
          "hoverlabel": {
           "align": "left"
          },
          "paper_bgcolor": "rgb(17,17,17)",
          "plot_bgcolor": "rgb(17,17,17)",
          "polar": {
           "bgcolor": "rgb(17,17,17)",
           "angularaxis": {
            "gridcolor": "#506784",
            "linecolor": "#506784",
            "ticks": ""
           },
           "radialaxis": {
            "gridcolor": "#506784",
            "linecolor": "#506784",
            "ticks": ""
           }
          },
          "ternary": {
           "bgcolor": "rgb(17,17,17)",
           "aaxis": {
            "gridcolor": "#506784",
            "linecolor": "#506784",
            "ticks": ""
           },
           "baxis": {
            "gridcolor": "#506784",
            "linecolor": "#506784",
            "ticks": ""
           },
           "caxis": {
            "gridcolor": "#506784",
            "linecolor": "#506784",
            "ticks": ""
           }
          },
          "coloraxis": {
           "colorbar": {
            "outlinewidth": 0,
            "ticks": ""
           }
          },
          "colorscale": {
           "sequential": [
            [
             0.0,
             "#0d0887"
            ],
            [
             0.1111111111111111,
             "#46039f"
            ],
            [
             0.2222222222222222,
             "#7201a8"
            ],
            [
             0.3333333333333333,
             "#9c179e"
            ],
            [
             0.4444444444444444,
             "#bd3786"
            ],
            [
             0.5555555555555556,
             "#d8576b"
            ],
            [
             0.6666666666666666,
             "#ed7953"
            ],
            [
             0.7777777777777778,
             "#fb9f3a"
            ],
            [
             0.8888888888888888,
             "#fdca26"
            ],
            [
             1.0,
             "#f0f921"
            ]
           ],
           "sequentialminus": [
            [
             0.0,
             "#0d0887"
            ],
            [
             0.1111111111111111,
             "#46039f"
            ],
            [
             0.2222222222222222,
             "#7201a8"
            ],
            [
             0.3333333333333333,
             "#9c179e"
            ],
            [
             0.4444444444444444,
             "#bd3786"
            ],
            [
             0.5555555555555556,
             "#d8576b"
            ],
            [
             0.6666666666666666,
             "#ed7953"
            ],
            [
             0.7777777777777778,
             "#fb9f3a"
            ],
            [
             0.8888888888888888,
             "#fdca26"
            ],
            [
             1.0,
             "#f0f921"
            ]
           ],
           "diverging": [
            [
             0,
             "#8e0152"
            ],
            [
             0.1,
             "#c51b7d"
            ],
            [
             0.2,
             "#de77ae"
            ],
            [
             0.3,
             "#f1b6da"
            ],
            [
             0.4,
             "#fde0ef"
            ],
            [
             0.5,
             "#f7f7f7"
            ],
            [
             0.6,
             "#e6f5d0"
            ],
            [
             0.7,
             "#b8e186"
            ],
            [
             0.8,
             "#7fbc41"
            ],
            [
             0.9,
             "#4d9221"
            ],
            [
             1,
             "#276419"
            ]
           ]
          },
          "xaxis": {
           "gridcolor": "#283442",
           "linecolor": "#506784",
           "ticks": "",
           "title": {
            "standoff": 15
           },
           "zerolinecolor": "#283442",
           "automargin": true,
           "zerolinewidth": 2
          },
          "yaxis": {
           "gridcolor": "#283442",
           "linecolor": "#506784",
           "ticks": "",
           "title": {
            "standoff": 15
           },
           "zerolinecolor": "#283442",
           "automargin": true,
           "zerolinewidth": 2
          },
          "scene": {
           "xaxis": {
            "backgroundcolor": "rgb(17,17,17)",
            "gridcolor": "#506784",
            "linecolor": "#506784",
            "showbackground": true,
            "ticks": "",
            "zerolinecolor": "#C8D4E3",
            "gridwidth": 2
           },
           "yaxis": {
            "backgroundcolor": "rgb(17,17,17)",
            "gridcolor": "#506784",
            "linecolor": "#506784",
            "showbackground": true,
            "ticks": "",
            "zerolinecolor": "#C8D4E3",
            "gridwidth": 2
           },
           "zaxis": {
            "backgroundcolor": "rgb(17,17,17)",
            "gridcolor": "#506784",
            "linecolor": "#506784",
            "showbackground": true,
            "ticks": "",
            "zerolinecolor": "#C8D4E3",
            "gridwidth": 2
           }
          },
          "shapedefaults": {
           "line": {
            "color": "#f2f5fa"
           }
          },
          "annotationdefaults": {
           "arrowcolor": "#f2f5fa",
           "arrowhead": 0,
           "arrowwidth": 1
          },
          "geo": {
           "bgcolor": "rgb(17,17,17)",
           "landcolor": "rgb(17,17,17)",
           "subunitcolor": "#506784",
           "showland": true,
           "showlakes": true,
           "lakecolor": "rgb(17,17,17)"
          },
          "title": {
           "x": 0.05
          },
          "updatemenudefaults": {
           "bgcolor": "#506784",
           "borderwidth": 0
          },
          "sliderdefaults": {
           "bgcolor": "#C8D4E3",
           "borderwidth": 1,
           "bordercolor": "rgb(17,17,17)",
           "tickwidth": 0
          },
          "mapbox": {
           "style": "dark"
          }
         }
        },
        "xaxis": {
         "anchor": "y",
         "domain": [
          0.0,
          1.0
         ],
         "title": {
          "text": "Released_Year"
         }
        },
        "yaxis": {
         "anchor": "x",
         "domain": [
          0.0,
          1.0
         ],
         "title": {
          "text": "Count"
         }
        },
        "legend": {
         "title": {
          "text": "Genre"
         },
         "tracegroupgap": 0
        },
        "title": {
         "text": "Genre Popularity Over Time"
        }
       },
       "config": {
        "plotlyServerURL": "https://plot.ly"
       }
      },
      "text/html": [
       "<div>                            <div id=\"0da4c815-4d0a-48d4-ba9e-3e3c81a1b435\" class=\"plotly-graph-div\" style=\"height:525px; width:100%;\"></div>            <script type=\"text/javascript\">                require([\"plotly\"], function(Plotly) {                    window.PLOTLYENV=window.PLOTLYENV || {};                                    if (document.getElementById(\"0da4c815-4d0a-48d4-ba9e-3e3c81a1b435\")) {                    Plotly.newPlot(                        \"0da4c815-4d0a-48d4-ba9e-3e3c81a1b435\",                        [{\"hovertemplate\":\"Genre=fantasy\\u003cbr\\u003eReleased_Year=%{x}\\u003cbr\\u003eCount=%{y}\\u003cextra\\u003e\\u003c\\u002fextra\\u003e\",\"legendgroup\":\"fantasy\",\"line\":{\"color\":\"#636efa\",\"dash\":\"solid\"},\"marker\":{\"symbol\":\"circle\"},\"mode\":\"lines\",\"name\":\"fantasy\",\"orientation\":\"v\",\"showlegend\":true,\"x\":[1920.0,1922.0,1939.0,1940.0,1946.0,1950.0,1957.0,1962.0,1964.0,1971.0,1973.0,1975.0,1977.0,1980.0,1982.0,1983.0,1984.0,1985.0,1987.0,1988.0,1989.0,1990.0,1991.0,1993.0,1995.0,1999.0,2000.0,2001.0,2003.0,2004.0,2005.0,2006.0,2007.0,2008.0,2009.0,2010.0,2011.0,2012.0,2013.0,2016.0,2018.0],\"xaxis\":\"x\",\"y\":[1,1,1,1,1,1,1,1,1,1,1,1,1,1,1,1,2,1,3,1,1,1,2,2,2,3,2,2,2,2,1,5,2,2,3,1,2,4,2,1,1],\"yaxis\":\"y\",\"type\":\"scatter\"},{\"hovertemplate\":\"Genre=horror\\u003cbr\\u003eReleased_Year=%{x}\\u003cbr\\u003eCount=%{y}\\u003cextra\\u003e\\u003c\\u002fextra\\u003e\",\"legendgroup\":\"horror\",\"line\":{\"color\":\"#EF553B\",\"dash\":\"solid\"},\"marker\":{\"symbol\":\"circle\"},\"mode\":\"lines\",\"name\":\"horror\",\"orientation\":\"v\",\"showlegend\":true,\"x\":[1920.0,1922.0,1931.0,1932.0,1933.0,1935.0,1955.0,1956.0,1960.0,1961.0,1962.0,1963.0,1965.0,1968.0,1973.0,1978.0,1979.0,1980.0,1982.0,2001.0,2002.0,2004.0,2011.0,2014.0,2017.0,2018.0],\"xaxis\":\"x\",\"y\":[1,1,1,1,2,1,1,1,3,1,1,1,1,2,1,2,1,1,1,1,1,2,1,1,1,1],\"yaxis\":\"y\",\"type\":\"scatter\"},{\"hovertemplate\":\"Genre=mystery\\u003cbr\\u003eReleased_Year=%{x}\\u003cbr\\u003eCount=%{y}\\u003cextra\\u003e\\u003c\\u002fextra\\u003e\",\"legendgroup\":\"mystery\",\"line\":{\"color\":\"#00cc96\",\"dash\":\"solid\"},\"marker\":{\"symbol\":\"circle\"},\"mode\":\"lines\",\"name\":\"mystery\",\"orientation\":\"v\",\"showlegend\":true,\"x\":[1920.0,1931.0,1934.0,1935.0,1938.0,1940.0,1941.0,1944.0,1946.0,1948.0,1949.0,1950.0,1954.0,1957.0,1958.0,1959.0,1960.0,1962.0,1963.0,1966.0,1967.0,1972.0,1974.0,1979.0,1982.0,1986.0,1988.0,1992.0,1993.0,1994.0,1995.0,1996.0,1997.0,1998.0,1999.0,2000.0,2001.0,2002.0,2003.0,2004.0,2006.0,2007.0,2009.0,2010.0,2011.0,2012.0,2013.0,2014.0,2015.0,2016.0,2017.0,2018.0],\"xaxis\":\"x\",\"y\":[1,1,1,1,1,1,2,1,1,1,1,2,1,1,1,2,2,1,3,1,2,2,2,1,1,2,1,1,1,1,3,1,5,1,1,1,3,3,3,3,4,6,8,2,1,2,3,1,3,1,3,1],\"yaxis\":\"y\",\"type\":\"scatter\"},{\"hovertemplate\":\"Genre=comedy\\u003cbr\\u003eReleased_Year=%{x}\\u003cbr\\u003eCount=%{y}\\u003cextra\\u003e\\u003c\\u002fextra\\u003e\",\"legendgroup\":\"comedy\",\"line\":{\"color\":\"#ab63fa\",\"dash\":\"solid\"},\"marker\":{\"symbol\":\"circle\"},\"mode\":\"lines\",\"name\":\"comedy\",\"orientation\":\"v\",\"showlegend\":true,\"x\":[1921.0,1924.0,1925.0,1926.0,1928.0,1931.0,1933.0,1934.0,1935.0,1936.0,1938.0,1939.0,1940.0,1942.0,1944.0,1947.0,1949.0,1950.0,1952.0,1953.0,1954.0,1955.0,1959.0,1960.0,1961.0,1962.0,1963.0,1964.0,1967.0,1968.0,1970.0,1971.0,1972.0,1973.0,1974.0,1975.0,1977.0,1979.0,1980.0,1982.0,1983.0,1984.0,1985.0,1986.0,1987.0,1988.0,1989.0,1990.0,1991.0,1992.0,1993.0,1994.0,1995.0,1996.0,1997.0,1998.0,1999.0,2000.0,2001.0,2002.0,2003.0,2004.0,2005.0,2006.0,2007.0,2008.0,2009.0,2010.0,2011.0,2012.0,2013.0,2014.0,2015.0,2016.0,2017.0,2018.0,2019.0,2020.0],\"xaxis\":\"x\",\"y\":[1,1,1,1,1,1,1,2,1,1,1,2,4,2,1,1,1,1,2,2,1,1,1,2,1,1,1,3,2,1,1,1,1,4,2,3,1,4,2,1,2,2,5,3,3,3,5,1,3,4,5,6,3,1,3,8,4,5,9,2,9,3,2,4,3,2,7,5,5,8,4,8,5,8,4,4,10,3],\"yaxis\":\"y\",\"type\":\"scatter\"},{\"hovertemplate\":\"Genre=drama\\u003cbr\\u003eReleased_Year=%{x}\\u003cbr\\u003eCount=%{y}\\u003cextra\\u003e\\u003c\\u002fextra\\u003e\",\"legendgroup\":\"drama\",\"line\":{\"color\":\"#FFA15A\",\"dash\":\"solid\"},\"marker\":{\"symbol\":\"circle\"},\"mode\":\"lines\",\"name\":\"drama\",\"orientation\":\"v\",\"showlegend\":true,\"x\":[1921.0,1925.0,1927.0,1928.0,1930.0,1931.0,1932.0,1935.0,1936.0,1937.0,1939.0,1940.0,1941.0,1942.0,1944.0,1945.0,1946.0,1947.0,1948.0,1949.0,1950.0,1951.0,1952.0,1953.0,1954.0,1955.0,1956.0,1957.0,1958.0,1959.0,1960.0,1961.0,1962.0,1963.0,1964.0,1965.0,1966.0,1967.0,1968.0,1969.0,1970.0,1971.0,1972.0,1973.0,1974.0,1975.0,1976.0,1977.0,1978.0,1979.0,1980.0,1981.0,1982.0,1983.0,1984.0,1985.0,1986.0,1987.0,1988.0,1989.0,1990.0,1991.0,1992.0,1993.0,1994.0,1995.0,1996.0,1997.0,1998.0,1999.0,2000.0,2001.0,2002.0,2003.0,2004.0,2005.0,2006.0,2007.0,2008.0,2009.0,2010.0,2011.0,2012.0,2013.0,2014.0,2015.0,2016.0,2017.0,2018.0,2019.0,2020.0],\"xaxis\":\"x\",\"y\":[1,2,2,1,1,2,2,1,1,1,4,5,1,1,3,2,4,2,6,1,5,4,3,4,4,5,5,9,3,5,9,4,12,4,3,3,6,6,2,2,2,7,5,10,3,4,6,1,5,6,5,2,6,2,5,6,7,8,5,8,7,9,8,17,11,14,10,14,11,12,13,19,16,19,22,13,24,22,16,18,14,15,14,25,21,20,22,16,13,20,5],\"yaxis\":\"y\",\"type\":\"scatter\"},{\"hovertemplate\":\"Genre=family\\u003cbr\\u003eReleased_Year=%{x}\\u003cbr\\u003eCount=%{y}\\u003cextra\\u003e\\u003c\\u002fextra\\u003e\",\"legendgroup\":\"family\",\"line\":{\"color\":\"#19d3f3\",\"dash\":\"solid\"},\"marker\":{\"symbol\":\"circle\"},\"mode\":\"lines\",\"name\":\"family\",\"orientation\":\"v\",\"showlegend\":true,\"x\":[1921.0,1936.0,1938.0,1939.0,1940.0,1946.0,1947.0,1964.0,1965.0,1967.0,1971.0,1973.0,1979.0,1982.0,1983.0,1985.0,1987.0,1988.0,1989.0,1990.0,1991.0,1992.0,1993.0,1995.0,1997.0,1998.0,1999.0,2001.0,2004.0,2005.0,2007.0,2008.0,2009.0,2010.0,2012.0,2014.0,2016.0,2017.0],\"xaxis\":\"x\",\"y\":[1,1,1,1,1,1,1,2,1,1,2,1,2,1,1,1,1,1,1,1,1,1,2,2,1,1,1,2,4,2,3,1,4,2,1,1,1,3],\"yaxis\":\"y\",\"type\":\"scatter\"},{\"hovertemplate\":\"Genre=action\\u003cbr\\u003eReleased_Year=%{x}\\u003cbr\\u003eCount=%{y}\\u003cextra\\u003e\\u003c\\u002fextra\\u003e\",\"legendgroup\":\"action\",\"line\":{\"color\":\"#FF6692\",\"dash\":\"solid\"},\"marker\":{\"symbol\":\"circle\"},\"mode\":\"lines\",\"name\":\"action\",\"orientation\":\"v\",\"showlegend\":true,\"x\":[1924.0,1926.0,1932.0,1938.0,1948.0,1949.0,1954.0,1959.0,1960.0,1961.0,1962.0,1964.0,1967.0,1968.0,1969.0,1971.0,1972.0,1973.0,1974.0,1975.0,1977.0,1978.0,1979.0,1980.0,1981.0,1982.0,1983.0,1984.0,1985.0,1986.0,1987.0,1988.0,1989.0,1991.0,1992.0,1993.0,1994.0,1995.0,1997.0,1998.0,1999.0,2000.0,2001.0,2002.0,2003.0,2004.0,2005.0,2006.0,2007.0,2008.0,2009.0,2010.0,2011.0,2012.0,2013.0,2014.0,2015.0,2016.0,2017.0,2018.0,2019.0],\"xaxis\":\"x\",\"y\":[1,1,1,1,2,1,1,1,1,1,3,2,2,1,1,2,1,2,1,1,1,1,2,2,2,3,1,2,1,1,4,2,2,1,2,6,2,2,5,1,3,6,2,6,5,6,4,6,5,6,8,6,3,6,2,11,7,7,9,8,3],\"yaxis\":\"y\",\"type\":\"scatter\"},{\"hovertemplate\":\"Genre=romance\\u003cbr\\u003eReleased_Year=%{x}\\u003cbr\\u003eCount=%{y}\\u003cextra\\u003e\\u003c\\u002fextra\\u003e\",\"legendgroup\":\"romance\",\"line\":{\"color\":\"#B6E880\",\"dash\":\"solid\"},\"marker\":{\"symbol\":\"circle\"},\"mode\":\"lines\",\"name\":\"romance\",\"orientation\":\"v\",\"showlegend\":true,\"x\":[1924.0,1927.0,1928.0,1931.0,1934.0,1938.0,1939.0,1940.0,1942.0,1945.0,1946.0,1948.0,1951.0,1952.0,1953.0,1954.0,1957.0,1958.0,1959.0,1960.0,1961.0,1962.0,1963.0,1965.0,1967.0,1971.0,1977.0,1978.0,1979.0,1985.0,1987.0,1988.0,1989.0,1990.0,1991.0,1993.0,1994.0,1995.0,1997.0,1998.0,2000.0,2001.0,2002.0,2003.0,2004.0,2005.0,2006.0,2007.0,2008.0,2009.0,2010.0,2011.0,2012.0,2013.0,2014.0,2015.0,2016.0,2017.0,2018.0,2019.0,2020.0],\"xaxis\":\"x\",\"y\":[1,1,1,1,1,2,1,4,1,1,3,1,1,2,2,1,1,1,2,1,1,1,1,1,2,2,1,1,1,1,1,1,1,1,2,5,4,4,5,3,2,3,1,3,6,3,1,3,2,4,2,3,7,4,2,2,1,2,1,4,1],\"yaxis\":\"y\",\"type\":\"scatter\"},{\"hovertemplate\":\"Genre=adventure\\u003cbr\\u003eReleased_Year=%{x}\\u003cbr\\u003eCount=%{y}\\u003cextra\\u003e\\u003c\\u002fextra\\u003e\",\"legendgroup\":\"adventure\",\"line\":{\"color\":\"#FF97FF\",\"dash\":\"solid\"},\"marker\":{\"symbol\":\"circle\"},\"mode\":\"lines\",\"name\":\"adventure\",\"orientation\":\"v\",\"showlegend\":true,\"x\":[1925.0,1926.0,1933.0,1938.0,1939.0,1944.0,1948.0,1951.0,1953.0,1954.0,1956.0,1957.0,1958.0,1959.0,1960.0,1962.0,1963.0,1964.0,1967.0,1968.0,1969.0,1970.0,1972.0,1973.0,1975.0,1977.0,1978.0,1979.0,1980.0,1981.0,1982.0,1983.0,1984.0,1985.0,1986.0,1987.0,1988.0,1989.0,1990.0,1992.0,1993.0,1994.0,1995.0,1997.0,1998.0,1999.0,2000.0,2001.0,2002.0,2003.0,2004.0,2005.0,2006.0,2007.0,2008.0,2009.0,2010.0,2011.0,2012.0,2013.0,2014.0,2015.0,2016.0,2017.0,2018.0,2019.0,2020.0],\"xaxis\":\"x\",\"y\":[1,1,1,1,2,1,2,1,1,1,2,1,1,2,2,1,1,1,2,3,1,1,2,1,5,1,2,2,2,3,3,2,1,2,3,2,1,3,1,3,2,1,3,2,2,3,6,6,4,5,5,3,7,3,3,10,6,2,6,6,12,7,7,4,6,5,1],\"yaxis\":\"y\",\"type\":\"scatter\"},{\"hovertemplate\":\"Genre=history\\u003cbr\\u003eReleased_Year=%{x}\\u003cbr\\u003eCount=%{y}\\u003cextra\\u003e\\u003c\\u002fextra\\u003e\",\"legendgroup\":\"history\",\"line\":{\"color\":\"#FECB52\",\"dash\":\"solid\"},\"marker\":{\"symbol\":\"circle\"},\"mode\":\"lines\",\"name\":\"history\",\"orientation\":\"v\",\"showlegend\":true,\"x\":[1925.0,1928.0,1939.0,1940.0,1957.0,1959.0,1960.0,1962.0,1963.0,1964.0,1966.0,1968.0,1975.0,1976.0,1980.0,1982.0,1984.0,1987.0,1988.0,1989.0,1991.0,1992.0,1993.0,1995.0,1999.0,2001.0,2002.0,2004.0,2005.0,2006.0,2008.0,2009.0,2010.0,2013.0,2015.0,2016.0,2017.0,2019.0,2020.0],\"xaxis\":\"x\",\"y\":[1,1,1,1,2,1,1,1,1,1,2,1,2,2,1,1,2,2,1,1,2,1,1,1,1,2,1,2,2,1,2,1,1,1,3,3,2,1,2],\"yaxis\":\"y\",\"type\":\"scatter\"},{\"hovertemplate\":\"Genre=thriller\\u003cbr\\u003eReleased_Year=%{x}\\u003cbr\\u003eCount=%{y}\\u003cextra\\u003e\\u003c\\u002fextra\\u003e\",\"legendgroup\":\"thriller\",\"line\":{\"color\":\"#636efa\",\"dash\":\"solid\"},\"marker\":{\"symbol\":\"circle\"},\"mode\":\"lines\",\"name\":\"thriller\",\"orientation\":\"v\",\"showlegend\":true,\"x\":[1925.0,1931.0,1935.0,1938.0,1942.0,1943.0,1949.0,1951.0,1952.0,1953.0,1954.0,1955.0,1958.0,1959.0,1960.0,1961.0,1962.0,1964.0,1965.0,1966.0,1967.0,1968.0,1971.0,1972.0,1973.0,1974.0,1975.0,1976.0,1978.0,1979.0,1981.0,1982.0,1984.0,1985.0,1986.0,1987.0,1988.0,1990.0,1991.0,1992.0,1993.0,1995.0,1996.0,1997.0,1998.0,1999.0,2000.0,2001.0,2002.0,2003.0,2004.0,2005.0,2006.0,2007.0,2008.0,2009.0,2010.0,2011.0,2012.0,2013.0,2014.0,2015.0,2016.0,2017.0,2018.0,2019.0,2020.0],\"xaxis\":\"x\",\"y\":[1,1,1,1,1,1,1,1,1,1,3,1,1,1,2,1,3,1,1,2,1,1,1,2,1,3,1,1,1,1,1,1,1,1,1,2,2,2,3,3,1,4,3,3,2,3,4,5,3,1,7,2,5,2,3,2,3,2,4,3,6,3,2,1,3,3,1],\"yaxis\":\"y\",\"type\":\"scatter\"},{\"hovertemplate\":\"Genre=sci-fi\\u003cbr\\u003eReleased_Year=%{x}\\u003cbr\\u003eCount=%{y}\\u003cextra\\u003e\\u003c\\u002fextra\\u003e\",\"legendgroup\":\"sci-fi\",\"line\":{\"color\":\"#EF553B\",\"dash\":\"solid\"},\"marker\":{\"symbol\":\"circle\"},\"mode\":\"lines\",\"name\":\"sci-fi\",\"orientation\":\"v\",\"showlegend\":true,\"x\":[1927.0,1931.0,1933.0,1935.0,1951.0,1956.0,1968.0,1971.0,1972.0,1973.0,1977.0,1979.0,1981.0,1982.0,1984.0,1985.0,1986.0,1987.0,1988.0,1989.0,1991.0,1993.0,1995.0,1997.0,1998.0,1999.0,2001.0,2002.0,2004.0,2005.0,2006.0,2008.0,2009.0,2010.0,2011.0,2012.0,2013.0,2014.0,2015.0,2016.0,2017.0,2018.0],\"xaxis\":\"x\",\"y\":[1,1,2,1,1,1,2,1,1,1,1,2,1,4,1,2,1,1,1,1,1,1,1,3,1,1,1,1,3,2,2,1,3,1,1,1,3,5,3,3,1,1],\"yaxis\":\"y\",\"type\":\"scatter\"},{\"hovertemplate\":\"Genre=biography\\u003cbr\\u003eReleased_Year=%{x}\\u003cbr\\u003eCount=%{y}\\u003cextra\\u003e\\u003c\\u002fextra\\u003e\",\"legendgroup\":\"biography\",\"line\":{\"color\":\"#00cc96\",\"dash\":\"solid\"},\"marker\":{\"symbol\":\"circle\"},\"mode\":\"lines\",\"name\":\"biography\",\"orientation\":\"v\",\"showlegend\":true,\"x\":[1928.0,1960.0,1962.0,1965.0,1966.0,1967.0,1968.0,1969.0,1970.0,1972.0,1973.0,1975.0,1976.0,1978.0,1979.0,1980.0,1982.0,1983.0,1984.0,1987.0,1989.0,1990.0,1992.0,1993.0,1994.0,1995.0,1996.0,1997.0,1999.0,2000.0,2001.0,2002.0,2004.0,2005.0,2006.0,2007.0,2008.0,2009.0,2010.0,2011.0,2012.0,2013.0,2014.0,2015.0,2016.0,2017.0,2018.0,2019.0,2020.0],\"xaxis\":\"x\",\"y\":[1,2,1,1,2,1,1,1,1,1,2,2,2,1,1,2,1,1,2,1,2,2,1,3,2,1,1,1,4,1,2,2,5,3,3,6,3,2,3,2,2,8,4,3,5,3,2,5,1],\"yaxis\":\"y\",\"type\":\"scatter\"},{\"hovertemplate\":\"Genre=war\\u003cbr\\u003eReleased_Year=%{x}\\u003cbr\\u003eCount=%{y}\\u003cextra\\u003e\\u003c\\u002fextra\\u003e\",\"legendgroup\":\"war\",\"line\":{\"color\":\"#ab63fa\",\"dash\":\"solid\"},\"marker\":{\"symbol\":\"circle\"},\"mode\":\"lines\",\"name\":\"war\",\"orientation\":\"v\",\"showlegend\":true,\"x\":[1930.0,1933.0,1937.0,1940.0,1942.0,1944.0,1946.0,1953.0,1957.0,1961.0,1962.0,1964.0,1965.0,1966.0,1967.0,1968.0,1970.0,1971.0,1975.0,1978.0,1979.0,1980.0,1985.0,1986.0,1987.0,1988.0,1995.0,1998.0,2001.0,2004.0,2006.0,2008.0,2009.0,2010.0,2013.0,2015.0,2018.0,2019.0],\"xaxis\":\"x\",\"y\":[1,1,1,1,2,1,1,2,2,1,1,1,1,1,1,1,2,1,2,1,1,1,2,1,2,1,1,2,3,1,2,1,1,1,1,2,1,2],\"yaxis\":\"y\",\"type\":\"scatter\"},{\"hovertemplate\":\"Genre=crime\\u003cbr\\u003eReleased_Year=%{x}\\u003cbr\\u003eCount=%{y}\\u003cextra\\u003e\\u003c\\u002fextra\\u003e\",\"legendgroup\":\"crime\",\"line\":{\"color\":\"#FFA15A\",\"dash\":\"solid\"},\"marker\":{\"symbol\":\"circle\"},\"mode\":\"lines\",\"name\":\"crime\",\"orientation\":\"v\",\"showlegend\":true,\"x\":[1931.0,1932.0,1934.0,1935.0,1942.0,1944.0,1946.0,1947.0,1948.0,1949.0,1950.0,1951.0,1954.0,1955.0,1956.0,1957.0,1958.0,1959.0,1960.0,1962.0,1963.0,1967.0,1969.0,1971.0,1972.0,1973.0,1974.0,1975.0,1976.0,1978.0,1979.0,1982.0,1983.0,1984.0,1985.0,1986.0,1987.0,1988.0,1989.0,1990.0,1991.0,1992.0,1993.0,1994.0,1995.0,1996.0,1997.0,1998.0,1999.0,2000.0,2001.0,2002.0,2003.0,2004.0,2005.0,2006.0,2007.0,2008.0,2009.0,2010.0,2011.0,2012.0,2013.0,2014.0,2015.0,2016.0,2017.0,2018.0,2019.0],\"xaxis\":\"x\",\"y\":[1,1,1,1,1,1,1,1,2,2,1,1,2,4,1,2,1,2,1,2,1,4,1,3,1,8,2,1,1,1,2,1,1,2,1,2,2,3,1,3,3,4,8,4,7,4,6,4,2,6,4,7,5,5,3,6,7,6,4,5,3,3,6,5,7,3,5,2,5],\"yaxis\":\"y\",\"type\":\"scatter\"},{\"hovertemplate\":\"Genre=musical\\u003cbr\\u003eReleased_Year=%{x}\\u003cbr\\u003eCount=%{y}\\u003cextra\\u003e\\u003c\\u002fextra\\u003e\",\"legendgroup\":\"musical\",\"line\":{\"color\":\"#19d3f3\",\"dash\":\"solid\"},\"marker\":{\"symbol\":\"circle\"},\"mode\":\"lines\",\"name\":\"musical\",\"orientation\":\"v\",\"showlegend\":true,\"x\":[1933.0,1935.0,1952.0,1964.0,1971.0,1972.0,1979.0,2000.0,2001.0,2003.0,2004.0,2011.0,2014.0],\"xaxis\":\"x\",\"y\":[1,1,1,2,3,1,1,1,1,2,1,1,1],\"yaxis\":\"y\",\"type\":\"scatter\"},{\"hovertemplate\":\"Genre=music\\u003cbr\\u003eReleased_Year=%{x}\\u003cbr\\u003eCount=%{y}\\u003cextra\\u003e\\u003c\\u002fextra\\u003e\",\"legendgroup\":\"music\",\"line\":{\"color\":\"#FF6692\",\"dash\":\"solid\"},\"marker\":{\"symbol\":\"circle\"},\"mode\":\"lines\",\"name\":\"music\",\"orientation\":\"v\",\"showlegend\":true,\"x\":[1935.0,1948.0,1959.0,1964.0,1972.0,1978.0,1979.0,1982.0,1984.0,1991.0,1993.0,1996.0,1998.0,2000.0,2001.0,2002.0,2004.0,2005.0,2007.0,2008.0,2011.0,2012.0,2014.0,2016.0,2018.0,2019.0],\"xaxis\":\"x\",\"y\":[1,1,1,1,1,1,1,1,1,1,2,1,1,1,1,1,2,2,3,1,1,1,1,2,3,2],\"yaxis\":\"y\",\"type\":\"scatter\"},{\"hovertemplate\":\"Genre=western\\u003cbr\\u003eReleased_Year=%{x}\\u003cbr\\u003eCount=%{y}\\u003cextra\\u003e\\u003c\\u002fextra\\u003e\",\"legendgroup\":\"western\",\"line\":{\"color\":\"#B6E880\",\"dash\":\"solid\"},\"marker\":{\"symbol\":\"circle\"},\"mode\":\"lines\",\"name\":\"western\",\"orientation\":\"v\",\"showlegend\":true,\"x\":[1939.0,1948.0,1952.0,1956.0,1959.0,1960.0,1962.0,1964.0,1965.0,1966.0,1968.0,1969.0,1971.0,1974.0,1976.0,1990.0,1992.0,2010.0,2012.0],\"xaxis\":\"x\",\"y\":[1,1,1,2,1,1,1,1,1,1,1,1,1,1,1,1,1,1,1],\"yaxis\":\"y\",\"type\":\"scatter\"},{\"hovertemplate\":\"Genre=animation\\u003cbr\\u003eReleased_Year=%{x}\\u003cbr\\u003eCount=%{y}\\u003cextra\\u003e\\u003c\\u002fextra\\u003e\",\"legendgroup\":\"animation\",\"line\":{\"color\":\"#FF97FF\",\"dash\":\"solid\"},\"marker\":{\"symbol\":\"circle\"},\"mode\":\"lines\",\"name\":\"animation\",\"orientation\":\"v\",\"showlegend\":true,\"x\":[1940.0,1967.0,1973.0,1978.0,1979.0,1984.0,1986.0,1988.0,1989.0,1991.0,1992.0,1993.0,1994.0,1995.0,1997.0,1998.0,1999.0,2000.0,2001.0,2003.0,2004.0,2006.0,2007.0,2008.0,2009.0,2010.0,2012.0,2013.0,2014.0,2015.0,2016.0,2017.0,2018.0,2019.0,2020.0],\"xaxis\":\"x\",\"y\":[1,1,1,1,1,1,1,4,2,2,2,3,1,3,3,1,3,1,5,3,2,2,2,2,5,5,2,2,5,2,5,2,3,2,1],\"yaxis\":\"y\",\"type\":\"scatter\"},{\"hovertemplate\":\"Genre=film-noir\\u003cbr\\u003eReleased_Year=%{x}\\u003cbr\\u003eCount=%{y}\\u003cextra\\u003e\\u003c\\u002fextra\\u003e\",\"legendgroup\":\"film-noir\",\"line\":{\"color\":\"#FECB52\",\"dash\":\"solid\"},\"marker\":{\"symbol\":\"circle\"},\"mode\":\"lines\",\"name\":\"film-noir\",\"orientation\":\"v\",\"showlegend\":true,\"x\":[1941.0,1943.0,1944.0,1945.0,1946.0,1947.0,1949.0,1950.0,1951.0,1955.0,1956.0,1957.0,1958.0],\"xaxis\":\"x\",\"y\":[1,1,3,1,3,1,1,2,2,1,1,1,1],\"yaxis\":\"y\",\"type\":\"scatter\"},{\"hovertemplate\":\"Genre=sport\\u003cbr\\u003eReleased_Year=%{x}\\u003cbr\\u003eCount=%{y}\\u003cextra\\u003e\\u003c\\u002fextra\\u003e\",\"legendgroup\":\"sport\",\"line\":{\"color\":\"#636efa\",\"dash\":\"solid\"},\"marker\":{\"symbol\":\"circle\"},\"mode\":\"lines\",\"name\":\"sport\",\"orientation\":\"v\",\"showlegend\":true,\"x\":[1961.0,1976.0,1980.0,1997.0,1998.0,1999.0,2000.0,2004.0,2005.0,2007.0,2008.0,2009.0,2010.0,2011.0,2013.0,2015.0,2016.0],\"xaxis\":\"x\",\"y\":[1,1,1,1,1,1,1,1,1,1,1,1,1,2,2,1,1],\"yaxis\":\"y\",\"type\":\"scatter\"}],                        {\"template\":{\"data\":{\"histogram2dcontour\":[{\"type\":\"histogram2dcontour\",\"colorbar\":{\"outlinewidth\":0,\"ticks\":\"\"},\"colorscale\":[[0.0,\"#0d0887\"],[0.1111111111111111,\"#46039f\"],[0.2222222222222222,\"#7201a8\"],[0.3333333333333333,\"#9c179e\"],[0.4444444444444444,\"#bd3786\"],[0.5555555555555556,\"#d8576b\"],[0.6666666666666666,\"#ed7953\"],[0.7777777777777778,\"#fb9f3a\"],[0.8888888888888888,\"#fdca26\"],[1.0,\"#f0f921\"]]}],\"choropleth\":[{\"type\":\"choropleth\",\"colorbar\":{\"outlinewidth\":0,\"ticks\":\"\"}}],\"histogram2d\":[{\"type\":\"histogram2d\",\"colorbar\":{\"outlinewidth\":0,\"ticks\":\"\"},\"colorscale\":[[0.0,\"#0d0887\"],[0.1111111111111111,\"#46039f\"],[0.2222222222222222,\"#7201a8\"],[0.3333333333333333,\"#9c179e\"],[0.4444444444444444,\"#bd3786\"],[0.5555555555555556,\"#d8576b\"],[0.6666666666666666,\"#ed7953\"],[0.7777777777777778,\"#fb9f3a\"],[0.8888888888888888,\"#fdca26\"],[1.0,\"#f0f921\"]]}],\"heatmap\":[{\"type\":\"heatmap\",\"colorbar\":{\"outlinewidth\":0,\"ticks\":\"\"},\"colorscale\":[[0.0,\"#0d0887\"],[0.1111111111111111,\"#46039f\"],[0.2222222222222222,\"#7201a8\"],[0.3333333333333333,\"#9c179e\"],[0.4444444444444444,\"#bd3786\"],[0.5555555555555556,\"#d8576b\"],[0.6666666666666666,\"#ed7953\"],[0.7777777777777778,\"#fb9f3a\"],[0.8888888888888888,\"#fdca26\"],[1.0,\"#f0f921\"]]}],\"heatmapgl\":[{\"type\":\"heatmapgl\",\"colorbar\":{\"outlinewidth\":0,\"ticks\":\"\"},\"colorscale\":[[0.0,\"#0d0887\"],[0.1111111111111111,\"#46039f\"],[0.2222222222222222,\"#7201a8\"],[0.3333333333333333,\"#9c179e\"],[0.4444444444444444,\"#bd3786\"],[0.5555555555555556,\"#d8576b\"],[0.6666666666666666,\"#ed7953\"],[0.7777777777777778,\"#fb9f3a\"],[0.8888888888888888,\"#fdca26\"],[1.0,\"#f0f921\"]]}],\"contourcarpet\":[{\"type\":\"contourcarpet\",\"colorbar\":{\"outlinewidth\":0,\"ticks\":\"\"}}],\"contour\":[{\"type\":\"contour\",\"colorbar\":{\"outlinewidth\":0,\"ticks\":\"\"},\"colorscale\":[[0.0,\"#0d0887\"],[0.1111111111111111,\"#46039f\"],[0.2222222222222222,\"#7201a8\"],[0.3333333333333333,\"#9c179e\"],[0.4444444444444444,\"#bd3786\"],[0.5555555555555556,\"#d8576b\"],[0.6666666666666666,\"#ed7953\"],[0.7777777777777778,\"#fb9f3a\"],[0.8888888888888888,\"#fdca26\"],[1.0,\"#f0f921\"]]}],\"surface\":[{\"type\":\"surface\",\"colorbar\":{\"outlinewidth\":0,\"ticks\":\"\"},\"colorscale\":[[0.0,\"#0d0887\"],[0.1111111111111111,\"#46039f\"],[0.2222222222222222,\"#7201a8\"],[0.3333333333333333,\"#9c179e\"],[0.4444444444444444,\"#bd3786\"],[0.5555555555555556,\"#d8576b\"],[0.6666666666666666,\"#ed7953\"],[0.7777777777777778,\"#fb9f3a\"],[0.8888888888888888,\"#fdca26\"],[1.0,\"#f0f921\"]]}],\"mesh3d\":[{\"type\":\"mesh3d\",\"colorbar\":{\"outlinewidth\":0,\"ticks\":\"\"}}],\"scatter\":[{\"marker\":{\"line\":{\"color\":\"#283442\"}},\"type\":\"scatter\"}],\"parcoords\":[{\"type\":\"parcoords\",\"line\":{\"colorbar\":{\"outlinewidth\":0,\"ticks\":\"\"}}}],\"scatterpolargl\":[{\"type\":\"scatterpolargl\",\"marker\":{\"colorbar\":{\"outlinewidth\":0,\"ticks\":\"\"}}}],\"bar\":[{\"error_x\":{\"color\":\"#f2f5fa\"},\"error_y\":{\"color\":\"#f2f5fa\"},\"marker\":{\"line\":{\"color\":\"rgb(17,17,17)\",\"width\":0.5},\"pattern\":{\"fillmode\":\"overlay\",\"size\":10,\"solidity\":0.2}},\"type\":\"bar\"}],\"scattergeo\":[{\"type\":\"scattergeo\",\"marker\":{\"colorbar\":{\"outlinewidth\":0,\"ticks\":\"\"}}}],\"scatterpolar\":[{\"type\":\"scatterpolar\",\"marker\":{\"colorbar\":{\"outlinewidth\":0,\"ticks\":\"\"}}}],\"histogram\":[{\"marker\":{\"pattern\":{\"fillmode\":\"overlay\",\"size\":10,\"solidity\":0.2}},\"type\":\"histogram\"}],\"scattergl\":[{\"marker\":{\"line\":{\"color\":\"#283442\"}},\"type\":\"scattergl\"}],\"scatter3d\":[{\"type\":\"scatter3d\",\"line\":{\"colorbar\":{\"outlinewidth\":0,\"ticks\":\"\"}},\"marker\":{\"colorbar\":{\"outlinewidth\":0,\"ticks\":\"\"}}}],\"scattermapbox\":[{\"type\":\"scattermapbox\",\"marker\":{\"colorbar\":{\"outlinewidth\":0,\"ticks\":\"\"}}}],\"scatterternary\":[{\"type\":\"scatterternary\",\"marker\":{\"colorbar\":{\"outlinewidth\":0,\"ticks\":\"\"}}}],\"scattercarpet\":[{\"type\":\"scattercarpet\",\"marker\":{\"colorbar\":{\"outlinewidth\":0,\"ticks\":\"\"}}}],\"carpet\":[{\"aaxis\":{\"endlinecolor\":\"#A2B1C6\",\"gridcolor\":\"#506784\",\"linecolor\":\"#506784\",\"minorgridcolor\":\"#506784\",\"startlinecolor\":\"#A2B1C6\"},\"baxis\":{\"endlinecolor\":\"#A2B1C6\",\"gridcolor\":\"#506784\",\"linecolor\":\"#506784\",\"minorgridcolor\":\"#506784\",\"startlinecolor\":\"#A2B1C6\"},\"type\":\"carpet\"}],\"table\":[{\"cells\":{\"fill\":{\"color\":\"#506784\"},\"line\":{\"color\":\"rgb(17,17,17)\"}},\"header\":{\"fill\":{\"color\":\"#2a3f5f\"},\"line\":{\"color\":\"rgb(17,17,17)\"}},\"type\":\"table\"}],\"barpolar\":[{\"marker\":{\"line\":{\"color\":\"rgb(17,17,17)\",\"width\":0.5},\"pattern\":{\"fillmode\":\"overlay\",\"size\":10,\"solidity\":0.2}},\"type\":\"barpolar\"}],\"pie\":[{\"automargin\":true,\"type\":\"pie\"}]},\"layout\":{\"autotypenumbers\":\"strict\",\"colorway\":[\"#636efa\",\"#EF553B\",\"#00cc96\",\"#ab63fa\",\"#FFA15A\",\"#19d3f3\",\"#FF6692\",\"#B6E880\",\"#FF97FF\",\"#FECB52\"],\"font\":{\"color\":\"#f2f5fa\"},\"hovermode\":\"closest\",\"hoverlabel\":{\"align\":\"left\"},\"paper_bgcolor\":\"rgb(17,17,17)\",\"plot_bgcolor\":\"rgb(17,17,17)\",\"polar\":{\"bgcolor\":\"rgb(17,17,17)\",\"angularaxis\":{\"gridcolor\":\"#506784\",\"linecolor\":\"#506784\",\"ticks\":\"\"},\"radialaxis\":{\"gridcolor\":\"#506784\",\"linecolor\":\"#506784\",\"ticks\":\"\"}},\"ternary\":{\"bgcolor\":\"rgb(17,17,17)\",\"aaxis\":{\"gridcolor\":\"#506784\",\"linecolor\":\"#506784\",\"ticks\":\"\"},\"baxis\":{\"gridcolor\":\"#506784\",\"linecolor\":\"#506784\",\"ticks\":\"\"},\"caxis\":{\"gridcolor\":\"#506784\",\"linecolor\":\"#506784\",\"ticks\":\"\"}},\"coloraxis\":{\"colorbar\":{\"outlinewidth\":0,\"ticks\":\"\"}},\"colorscale\":{\"sequential\":[[0.0,\"#0d0887\"],[0.1111111111111111,\"#46039f\"],[0.2222222222222222,\"#7201a8\"],[0.3333333333333333,\"#9c179e\"],[0.4444444444444444,\"#bd3786\"],[0.5555555555555556,\"#d8576b\"],[0.6666666666666666,\"#ed7953\"],[0.7777777777777778,\"#fb9f3a\"],[0.8888888888888888,\"#fdca26\"],[1.0,\"#f0f921\"]],\"sequentialminus\":[[0.0,\"#0d0887\"],[0.1111111111111111,\"#46039f\"],[0.2222222222222222,\"#7201a8\"],[0.3333333333333333,\"#9c179e\"],[0.4444444444444444,\"#bd3786\"],[0.5555555555555556,\"#d8576b\"],[0.6666666666666666,\"#ed7953\"],[0.7777777777777778,\"#fb9f3a\"],[0.8888888888888888,\"#fdca26\"],[1.0,\"#f0f921\"]],\"diverging\":[[0,\"#8e0152\"],[0.1,\"#c51b7d\"],[0.2,\"#de77ae\"],[0.3,\"#f1b6da\"],[0.4,\"#fde0ef\"],[0.5,\"#f7f7f7\"],[0.6,\"#e6f5d0\"],[0.7,\"#b8e186\"],[0.8,\"#7fbc41\"],[0.9,\"#4d9221\"],[1,\"#276419\"]]},\"xaxis\":{\"gridcolor\":\"#283442\",\"linecolor\":\"#506784\",\"ticks\":\"\",\"title\":{\"standoff\":15},\"zerolinecolor\":\"#283442\",\"automargin\":true,\"zerolinewidth\":2},\"yaxis\":{\"gridcolor\":\"#283442\",\"linecolor\":\"#506784\",\"ticks\":\"\",\"title\":{\"standoff\":15},\"zerolinecolor\":\"#283442\",\"automargin\":true,\"zerolinewidth\":2},\"scene\":{\"xaxis\":{\"backgroundcolor\":\"rgb(17,17,17)\",\"gridcolor\":\"#506784\",\"linecolor\":\"#506784\",\"showbackground\":true,\"ticks\":\"\",\"zerolinecolor\":\"#C8D4E3\",\"gridwidth\":2},\"yaxis\":{\"backgroundcolor\":\"rgb(17,17,17)\",\"gridcolor\":\"#506784\",\"linecolor\":\"#506784\",\"showbackground\":true,\"ticks\":\"\",\"zerolinecolor\":\"#C8D4E3\",\"gridwidth\":2},\"zaxis\":{\"backgroundcolor\":\"rgb(17,17,17)\",\"gridcolor\":\"#506784\",\"linecolor\":\"#506784\",\"showbackground\":true,\"ticks\":\"\",\"zerolinecolor\":\"#C8D4E3\",\"gridwidth\":2}},\"shapedefaults\":{\"line\":{\"color\":\"#f2f5fa\"}},\"annotationdefaults\":{\"arrowcolor\":\"#f2f5fa\",\"arrowhead\":0,\"arrowwidth\":1},\"geo\":{\"bgcolor\":\"rgb(17,17,17)\",\"landcolor\":\"rgb(17,17,17)\",\"subunitcolor\":\"#506784\",\"showland\":true,\"showlakes\":true,\"lakecolor\":\"rgb(17,17,17)\"},\"title\":{\"x\":0.05},\"updatemenudefaults\":{\"bgcolor\":\"#506784\",\"borderwidth\":0},\"sliderdefaults\":{\"bgcolor\":\"#C8D4E3\",\"borderwidth\":1,\"bordercolor\":\"rgb(17,17,17)\",\"tickwidth\":0},\"mapbox\":{\"style\":\"dark\"}}},\"xaxis\":{\"anchor\":\"y\",\"domain\":[0.0,1.0],\"title\":{\"text\":\"Released_Year\"}},\"yaxis\":{\"anchor\":\"x\",\"domain\":[0.0,1.0],\"title\":{\"text\":\"Count\"}},\"legend\":{\"title\":{\"text\":\"Genre\"},\"tracegroupgap\":0},\"title\":{\"text\":\"Genre Popularity Over Time\"}},                        {\"responsive\": true}                    ).then(function(){\n",
       "                            \n",
       "var gd = document.getElementById('0da4c815-4d0a-48d4-ba9e-3e3c81a1b435');\n",
       "var x = new MutationObserver(function (mutations, observer) {{\n",
       "        var display = window.getComputedStyle(gd).display;\n",
       "        if (!display || display === 'none') {{\n",
       "            console.log([gd, 'removed!']);\n",
       "            Plotly.purge(gd);\n",
       "            observer.disconnect();\n",
       "        }}\n",
       "}});\n",
       "\n",
       "// Listen for the removal of the full notebook cells\n",
       "var notebookContainer = gd.closest('#notebook-container');\n",
       "if (notebookContainer) {{\n",
       "    x.observe(notebookContainer, {childList: true});\n",
       "}}\n",
       "\n",
       "// Listen for the clearing of the current output cell\n",
       "var outputEl = gd.closest('.output');\n",
       "if (outputEl) {{\n",
       "    x.observe(outputEl, {childList: true});\n",
       "}}\n",
       "\n",
       "                        })                };                });            </script>        </div>"
      ]
     },
     "metadata": {},
     "output_type": "display_data"
    }
   ],
   "execution_count": 85
  },
  {
   "metadata": {},
   "cell_type": "markdown",
   "source": [
    "### Movie Similarity Calculation\n",
    "\n",
    "#### Helper Functions for Similarity Calculation\n",
    "This section contains helper functions and the main logic to calculate the similarity between two movies based on different features such as the year of release, runtime, IMDB rating, certificate, genre, and director/stars. Each function calculates a specific aspect of the similarity, and they are all combined to generate a total similarity score. This score can be used to recommend similar movies.\n",
    "\n",
    "## Normalizing Similarity Scores for Equal Impact\n",
    "\n",
    "To ensure that each feature (e.g., year, runtime, rating, etc.) contributes equally to the final similarity score, we normalize the values to a common range (0-1 scale). This ensures that no single feature disproportionately affects the final score. Below are the updated similarity functions with normalization for each attribute.\n",
    "\n",
    "### 1. **Released Year Similarity**\n",
    "We normalize the year difference by dividing it by the maximum possible year difference (100 years by default). This ensures the year difference is on a 0-1 scale.\n",
    "\n"
   ],
   "id": "73e729c826a22d5"
  },
  {
   "cell_type": "code",
   "id": "a37315bcce1d31cc",
   "metadata": {
    "ExecuteTime": {
     "end_time": "2025-03-19T20:16:01.898958Z",
     "start_time": "2025-03-19T20:16:01.885616Z"
    }
   },
   "source": [
    "import numpy as np\n",
    "\n",
    "\n",
    "# Helper functions for similarity calculation\n",
    "\n",
    "# Released Year similarity\n",
    "BasePointReleasedYear = 10  # Base points for same year\n",
    "year_multiplier = 0.1  # Decay factor for the year difference\n",
    "def get_year_similarity_points(movie_year, compare_year, max_year_diff=100):\n",
    "    year_diff = abs(movie_year - compare_year)\n",
    "    # Normalize the year difference to a 0-1 scale\n",
    "    normalized_year_diff = year_diff / max_year_diff\n",
    "    return BasePointReleasedYear * np.exp(-year_multiplier * normalized_year_diff)\n",
    "\n",
    "# Runtime similarity\n",
    "# Runtime similarity\n",
    "BasePointRuntime = 5  # Base points for matching runtime\n",
    "runtime_multiplier = 0.05  # Decay factor for runtime difference\n",
    "def get_runtime_similarity_points(movie_runtime, compare_runtime, max_runtime_diff=120):\n",
    "    runtime_diff = abs(movie_runtime - compare_runtime)\n",
    "    # Normalize the runtime difference to a 0-1 scale\n",
    "    normalized_runtime_diff = runtime_diff / max_runtime_diff\n",
    "    return BasePointRuntime * np.exp(-runtime_multiplier * normalized_runtime_diff)\n",
    "\n",
    "\n",
    "# IMDB Rating similarity\n",
    "BasePointIMDB = 5  # Base points for matching IMDB rating\n",
    "rating_multiplier = 0.2  # Decay factor for rating difference\n",
    "def get_rating_similarity_points(movie_rating, compare_rating):\n",
    "    rating_diff = abs(movie_rating - compare_rating)\n",
    "    return BasePointIMDB * np.exp(-rating_multiplier * rating_diff)\n",
    "\n",
    "\n",
    "# Certificate similarity\n",
    "BasePointCert = 10  # Base points for certificate similarity\n",
    "def get_cert_similarity_points(movie_cert, compare_cert):\n",
    "    cert_diff = abs(movie_cert - compare_cert) / 4  # Normalize the certificate difference to a 0-1 scale\n",
    "    return BasePointCert * (1 - cert_diff)\n",
    "\n",
    "\n",
    "# Genre similarity\n",
    "BasePointGenres = 10  # Base points for matching genre\n",
    "def get_genre_similarity_points(movie_genres, compare_genres, max_genres=5):\n",
    "    common_genres = set(movie_genres) & set(compare_genres)\n",
    "    # Normalize common genres to a 0-1 scale (max 5 genres per movie)\n",
    "    normalized_common_genres = len(common_genres) / max_genres\n",
    "    return BasePointGenres * np.exp(normalized_common_genres)\n",
    "\n",
    "# Director and Stars similarity\n",
    "BasePointDirectorStars = 10  # Base points for matching director or stars\n",
    "def get_director_star_similarity_points(movie_director, movie_stars, compare_director, compare_stars, max_stars=4):\n",
    "    points = 0\n",
    "    if movie_director == compare_director:\n",
    "        points += BasePointDirectorStars\n",
    "    points += len(set(movie_stars) & set(compare_stars)) * BasePointDirectorStars\n",
    "    # Normalize the points to a 0-1 scale (assuming max overlap is 4 stars)\n",
    "    normalized_points = points / (max_stars * BasePointDirectorStars)\n",
    "    return BasePointDirectorStars * normalized_points\n",
    "\n"
   ],
   "outputs": [],
   "execution_count": 86
  },
  {
   "cell_type": "markdown",
   "id": "c64a16a2bd33c31c",
   "metadata": {},
   "source": [
    "### Main Function for Similarity Score\n",
    "\n",
    "#### Main Logic for Similarity Score Calculation\n",
    "The main function, `get_movie_similarity_score`, aggregates all the individual similarity scores calculated by the helper functions. The scores for year, runtime, IMDB rating, certificate, genre, and director/stars are summed to give an overall similarity score between two movies.\n"
   ]
  },
  {
   "metadata": {
    "ExecuteTime": {
     "end_time": "2025-03-19T20:16:02.032128Z",
     "start_time": "2025-03-19T20:16:02.024029Z"
    }
   },
   "cell_type": "code",
   "source": [
    "# Main function to calculate the similarity score\n",
    "def get_movie_similarity_score(movie, compare_movie):\n",
    "    score = 0\n",
    "\n",
    "    # Calculate scores for each feature and print the individual scores\n",
    "    year_score = get_year_similarity_points(movie['Released_Year'], compare_movie['Released_Year'])\n",
    "    #print(f\"Year similarity points: {year_score}\")\n",
    "    score += year_score\n",
    "\n",
    "    runtime_score = get_runtime_similarity_points(movie['Runtime'], compare_movie['Runtime'])\n",
    "    #print(f\"Runtime similarity points: {runtime_score}\")\n",
    "    score += runtime_score\n",
    "\n",
    "    rating_score = get_rating_similarity_points(movie['IMDB_Rating'], compare_movie['IMDB_Rating'])\n",
    "   # print(f\"IMDB Rating similarity points: {rating_score}\")\n",
    "    score += rating_score\n",
    "\n",
    "    cert_score = get_cert_similarity_points(movie['Cert_numeric'], compare_movie['Cert_numeric'])\n",
    "  #  print(f\"Certificate similarity points: {cert_score}\")\n",
    "    score += cert_score\n",
    "\n",
    "    genre_score = get_genre_similarity_points(movie['Genre'], compare_movie['Genre'])\n",
    "    #print(f\"Genre similarity points: {genre_score}\")\n",
    "    score += genre_score\n",
    "\n",
    "    director_star_score = get_director_star_similarity_points(\n",
    "        movie['Director'], [movie['Star1'], movie['Star2'], movie['Star3'], movie['Star4']], compare_movie['Director'], [compare_movie['Star1'], compare_movie['Star2'], compare_movie['Star3'], compare_movie['Star4']])\n",
    "   # print(f\"Director and Star similarity points: {director_star_score}\")\n",
    "    score += director_star_score\n",
    "\n",
    "  #  print(f\"Total similarity score: {score}\")\n",
    "    return score\n",
    "\n",
    "\n",
    "\n"
   ],
   "id": "d1b619cc66f45ec8",
   "outputs": [],
   "execution_count": 87
  },
  {
   "metadata": {},
   "cell_type": "markdown",
   "source": [
    "### Movie Recommendation Function\n",
    "\n",
    "#### Function to Recommend Top 5 Similar Movies\n",
    "This function, `recommend_similar_movies`, calculates the similarity score for each movie in the dataset relative to the given movie, then sorts the movies by their similarity score and returns the top 5 most similar movies.\n",
    "\n"
   ],
   "id": "d83afcd2c34f457f"
  },
  {
   "metadata": {
    "ExecuteTime": {
     "end_time": "2025-03-19T20:16:02.160068Z",
     "start_time": "2025-03-19T20:16:02.152965Z"
    }
   },
   "cell_type": "code",
   "source": [
    "# Function to recommend the Top 5 most similar movies\n",
    "def recommend_similar_movies(movie_title, df):\n",
    "    movie = df[df['Series_Title'] == movie_title].iloc[0]  # Get the movie by title\n",
    "    scores = []\n",
    "\n",
    "    for _, compare_movie in df.iterrows():\n",
    "        if compare_movie['Series_Title'] != movie_title:\n",
    "            score = get_movie_similarity_score(movie, compare_movie)\n",
    "            scores.append((compare_movie['Series_Title'], score))\n",
    "\n",
    "    # Sort by score and return the top 5\n",
    "    scores.sort(key=lambda x: x[1], reverse=True)\n",
    "    return scores[:5]\n",
    "\n"
   ],
   "id": "ac8b42b0a225e047",
   "outputs": [],
   "execution_count": 88
  },
  {
   "metadata": {},
   "cell_type": "markdown",
   "source": [
    "### Movie Similarity Recommendations\n",
    "\n",
    "#### Test the Movie Recommendation System\n",
    "\n",
    "This section tests the movie recommendation system by recommending the top 5 similar movies for a list of movie titles. The movies are compared based on their similarity scores derived from various attributes such as release year, runtime, IMDB rating, genre, certificate, and director/stars. The top 5 most similar movies are displayed along with their similarity scores.\n",
    "\n",
    "The following list of movie titles will be used for testing:\n",
    "- \"Spider-Man: Into the Spider-Verse\"\n",
    "- \"Avengers: Endgame\"\n",
    "- \"Star Wars: Episode VI - Return of the Jedi\"\n",
    "- \"Sherlock Jr.\"\n",
    "- \"Before Sunset\"\n"
   ],
   "id": "c183a6e11d50b03b"
  },
  {
   "metadata": {
    "ExecuteTime": {
     "end_time": "2025-03-19T20:16:02.323840Z",
     "start_time": "2025-03-19T20:16:02.320248Z"
    }
   },
   "cell_type": "code",
   "source": "",
   "id": "6bf1cd5478acb935",
   "outputs": [],
   "execution_count": null
  },
  {
   "cell_type": "code",
   "id": "c01d5da1781961c1",
   "metadata": {
    "ExecuteTime": {
     "end_time": "2025-03-19T20:16:03.194561Z",
     "start_time": "2025-03-19T20:16:02.475597Z"
    }
   },
   "source": [
    "# List of movies to test\n",
    "movie_titles = [\n",
    "    \"Spider-Man: Into the Spider-Verse\",\n",
    "    \"Avengers: Endgame\",\n",
    "    \"Star Wars: Episode VI - Return of the Jedi\",\n",
    "    \"Sherlock Jr.\",\n",
    "    \"Before Sunset\"\n",
    "]\n",
    "# Assuming df has been preprocessed and contains the necessary columns\n",
    "for movie_title in movie_titles:\n",
    "    print(f\"Top 5 similar movies for: {movie_title}\")\n",
    "    top_5_similar_movies = recommend_similar_movies(movie_title, df)\n",
    "    for rank, (movie, score) in enumerate(top_5_similar_movies, start=1):\n",
    "        print(f\"{rank}. {movie} (Score: {score:.2f})\")\n",
    "    print(\"\\n\" + \"-\"*50 + \"\\n\")\n"
   ],
   "outputs": [
    {
     "name": "stdout",
     "output_type": "stream",
     "text": [
      "Top 5 similar movies for: Spider-Man: Into the Spider-Verse\n",
      "1. Mononoke-hime (Score: 47.98)\n",
      "2. How to Train Your Dragon (Score: 47.93)\n",
      "3. The Incredibles (Score: 47.85)\n",
      "4. Big Hero 6 (Score: 47.81)\n",
      "5. How to Train Your Dragon 2 (Score: 47.81)\n",
      "\n",
      "--------------------------------------------------\n",
      "\n",
      "Top 5 similar movies for: Avengers: Endgame\n",
      "1. Avengers: Infinity War (Score: 54.84)\n",
      "2. Captain America: Civil War (Score: 54.48)\n",
      "3. Captain America: The Winter Soldier (Score: 51.88)\n",
      "4. The Avengers (Score: 49.54)\n",
      "5. Gladiator (Score: 47.92)\n",
      "\n",
      "--------------------------------------------------\n",
      "\n",
      "Top 5 similar movies for: Star Wars: Episode VI - Return of the Jedi\n",
      "1. Star Wars: Episode V - The Empire Strikes Back (Score: 52.95)\n",
      "2. Star Wars (Score: 50.47)\n",
      "3. Indiana Jones and the Last Crusade (Score: 47.29)\n",
      "4. Aliens (Score: 44.88)\n",
      "5. Raiders of the Lost Ark (Score: 44.81)\n",
      "\n",
      "--------------------------------------------------\n",
      "\n",
      "Top 5 similar movies for: Sherlock Jr.\n",
      "1. The General (Score: 47.29)\n",
      "2. Andaz Apna Apna (Score: 44.81)\n",
      "3. The Circus (Score: 44.76)\n",
      "4. It Happened One Night (Score: 44.64)\n",
      "5. His Girl Friday (Score: 44.49)\n",
      "\n",
      "--------------------------------------------------\n",
      "\n",
      "Top 5 similar movies for: Before Sunset\n",
      "1. Before Sunrise (Score: 52.29)\n",
      "2. Before Midnight (Score: 52.15)\n",
      "3. Waking Life (Score: 46.97)\n",
      "4. Bom Yeoareum Gaeul Gyeoul Geurigo Bom (Score: 44.80)\n",
      "5. Gegen die Wand (Score: 44.72)\n",
      "\n",
      "--------------------------------------------------\n",
      "\n"
     ]
    }
   ],
   "execution_count": 89
  },
  {
   "metadata": {},
   "cell_type": "markdown",
   "source": [
    "# Top 5 Similar Movies\n",
    "\n",
    "## Spider-Man: Into the Spider-Verse\n",
    "1. **Incredibles 2** (Score: 226.16)\n",
    "2. **Big Hero 6** (Score: 224.58)\n",
    "3. **How to Train Your Dragon 2** (Score: 224.58)\n",
    "4. **The Lego Movie** (Score: 224.30)\n",
    "5. **Kubo and the Two Strings** (Score: 223.95)\n",
    "\n",
    "---\n",
    "\n",
    "## Avengers: Endgame\n",
    "1. **The Lord of the Rings: The Two Towers** (Score: 222.03)\n",
    "2. **Dawn of the Planet of the Apes** (Score: 221.86)\n",
    "3. **The Revenant** (Score: 221.76)\n",
    "4. **Letters from Iwo Jima** (Score: 218.97)\n",
    "5. **Gladiator** (Score: 218.66)\n",
    "\n",
    "---\n",
    "\n",
    "## Star Wars: Episode VI - Return of the Jedi\n",
    "1. **Star Wars: Episode V - The Empire Strikes Back** (Score: 262.56)\n",
    "2. **Star Wars** (Score: 250.20)\n",
    "3. **Wo hu cang long** (Score: 216.28)\n",
    "4. **Pirates of the Caribbean: The Curse of the Black Pearl** (Score: 215.78)\n",
    "5. **Avatar** (Score: 213.37)\n",
    "\n",
    "---\n",
    "\n",
    "## Sherlock Jr.\n",
    "1. **Andaz Apna Apna** (Score: 213.88)\n",
    "2. **The General** (Score: 108.68)\n",
    "3. **The Circus** (Score: 96.83)\n",
    "4. **It Happened One Night** (Score: 92.76)\n",
    "5. **City Lights** (Score: 92.30)\n",
    "\n",
    "---\n",
    "\n",
    "## Before Sunset\n",
    "1. **Before Sunrise** (Score: 124.71)\n",
    "2. **Before Midnight** (Score: 124.01)\n",
    "3. **Jeux d'enfants** (Score: 100.26)\n",
    "4. **Once** (Score: 99.83)\n",
    "5. **Bom Yeoareum Gaeul Gyeoul Geurigo Bom** (Score: 99.46)\n",
    "\n",
    "---\n",
    "\n",
    "# Conclusion\n",
    "\n",
    "The results show how well the similarity scores reflect the relationships between movies in terms of genres, themes, and key attributes:\n",
    "- **Spider-Man: Into the Spider-Verse** is most similar to other animated superhero films, like *Incredibles 2* and *Big Hero 6*.\n",
    "- **Avengers: Endgame** shares the highest similarity with other action-packed, epic films, including *The Lord of the Rings: The Two Towers* and *Gladiator*.\n",
    "- **Star Wars: Episode VI - Return of the Jedi** has strong connections with other Star Wars movies, notably *The Empire Strikes Back*, along with other action-adventure classics like *Avatar*.\n",
    "- **Sherlock Jr.**, a silent film, is most similar to other classics from the silent era, such as *Andaz Apna Apna* and *The General*.\n",
    "- **Before Sunset** aligns closely with its prequel *Before Sunrise* and its sequel *Before Midnight*, as well as other romantic films like *Jeux d'enfants*.\n",
    "\n",
    "These results highlight how well the scoring system identifies similarity based on genre, content, and style, providing meaningful recommendations for movie lovers.\n",
    "\n"
   ],
   "id": "ca9a1b3f48d3bb7d"
  }
 ],
 "metadata": {
  "kernelspec": {
   "display_name": "Python 3 (ipykernel)",
   "language": "python",
   "name": "python3"
  },
  "language_info": {
   "codemirror_mode": {
    "name": "ipython",
    "version": 3
   },
   "file_extension": ".py",
   "mimetype": "text/x-python",
   "name": "python",
   "nbconvert_exporter": "python",
   "pygments_lexer": "ipython3",
   "version": "3.12.4"
  }
 },
 "nbformat": 4,
 "nbformat_minor": 5
}
