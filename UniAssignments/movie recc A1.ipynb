{
 "cells": [
  {
   "cell_type": "markdown",
   "id": "7630d7a614c32d68",
   "metadata": {},
   "source": [
    "## Handling Missing Values\n",
    "\n",
    "### Strategy 1: Drop Rows with Missing Values\n",
    "One approach to handling missing data is to remove any row that contains at least one missing value. While this guarantees a dataset free of missing values, it can lead to **significant data loss**, especially if missing values are spread across many rows and columns.\n",
    "\n",
    "After applying this strategy, the dataset was reduced from **1000 rows to 713 rows**.\n",
    "\n",
    "### Strategy 2: Fill Missing Values with Median / ‘unknown’\n",
    "A more conservative approach is to **fill missing values**:\n",
    "\n",
    "- **Numerical columns**: Missing values are replaced with the **median** (a more robust alternative to the mean, as it is less sensitive to outliers).\n",
    "- **Categorical columns**: Missing values are replaced with the string **`'unknown'`**.\n",
    "\n",
    "This method retains **all rows** and prevents data loss, making it especially valuable when working with relatively small datasets like ours (Top 1000 movies). Additionally, it allows for **smoother downstream analysis** and avoids introducing bias by simply dropping data.\n",
    "\n",
    "### Selected Strategy: Filling Missing Values\n",
    "Given the **limited size** of the dataset (1000 rows) and the importance of **preserving data integrity**, we chose to proceed with **Strategy 2**. This allows us to **keep all records** while still addressing the issue of missing data effectively.\n"
   ]
  },
  {
   "cell_type": "code",
   "id": "initial_id",
   "metadata": {
    "collapsed": true,
    "jupyter": {
     "outputs_hidden": true
    },
    "ExecuteTime": {
     "end_time": "2025-04-03T14:34:35.929287Z",
     "start_time": "2025-04-03T14:34:35.915743Z"
    }
   },
   "source": [
    "import pandas as pd\n",
    "\n",
    "# Load dataset\n",
    "df = pd.read_csv(\"top1000movies.csv\")\n",
    "\n",
    "df_dropna = df.dropna()\n",
    "print(\"Shape after dropping rows with missing values:\", df_dropna.shape)\n",
    "\n",
    "\n",
    "\n",
    "\n",
    "\n"
   ],
   "outputs": [
    {
     "name": "stdout",
     "output_type": "stream",
     "text": [
      "Shape after dropping rows with missing values: (713, 16)\n"
     ]
    }
   ],
   "execution_count": 89
  },
  {
   "cell_type": "markdown",
   "id": "5c1a7b27b2beda87",
   "metadata": {},
   "source": [
    "## Data Cleaning: Preparing Numerical and Categorical Data\n",
    "\n",
    "After deciding to fill missing values with the median, we performed a series of cleaning steps to ensure the dataset is ready for analysis.\n",
    "\n",
    "### 1. Cleaning the ‘Gross’ Column\n",
    "The `Gross` column, representing box office revenue, contained **commas** (e.g., `1,300,000`) that prevented numerical conversion. We removed all commas to allow this column to be treated as a **numeric feature**.\n",
    "\n",
    "### 2. Converting Columns to Numeric\n",
    "The following columns were identified as **numerical** and explicitly converted:\n",
    "\n",
    "- `Released_Year`\n",
    "- `Runtime` (minutes)\n",
    "- `IMDB_Rating`\n",
    "- `Meta_score`\n",
    "- `No_of_Votes`\n",
    "- `Gross`\n",
    "\n",
    "To ensure consistency, any value that could not be converted was set to `NaN` and later filled with the **median** of that column.\n",
    "\n",
    "### 3. Filling Remaining Missing Values in Numerical Columns\n",
    "To address any remaining missing values, we filled all missing entries in **numerical columns** with the **median value** of their respective columns. This ensures that **outliers have minimal impact** on the imputation and preserves underlying data patterns.\n",
    "\n",
    "### 4. Filling Missing Categorical Values\n",
    "For **categorical features**, such as `Certificate`, `Genre`, `Director`, etc., we replaced all missing entries with the placeholder **`'unknown'`**. This approach maintains dataset completeness while clearly indicating the **absence of information** in those fields.\n"
   ]
  },
  {
   "cell_type": "code",
   "id": "6be4196974419df7",
   "metadata": {
    "ExecuteTime": {
     "end_time": "2025-04-03T14:34:35.967788Z",
     "start_time": "2025-04-03T14:34:35.947463Z"
    }
   },
   "source": [
    "numeric_cols = ['Released_Year', 'Runtime', 'IMDB_Rating', 'Meta_score', 'No_of_Votes', 'Gross']\n",
    "df['Gross'] = df['Gross'].replace({',': ''}, regex=True)\n",
    "\n",
    "df['Runtime'] = df['Runtime'].astype(str).str.extract(r'(\\d+)')[0]\n",
    "for col in numeric_cols:\n",
    "    df[col] = pd.to_numeric(df[col], errors='coerce')\n",
    "\n",
    "df[numeric_cols] = df[numeric_cols].fillna(df[numeric_cols].median())\n",
    "print(df[numeric_cols].head(20))\n",
    "\n",
    "\n",
    "\n",
    "# For categorical columns, fill with 'Unknown'\n",
    "categorical_cols = ['Certificate', 'Genre', 'Overview', 'Director', 'Star1', 'Star2', 'Star3', 'Star4']\n",
    "df[categorical_cols] = df[categorical_cols].fillna('unknown')\n",
    "\n",
    "\n"
   ],
   "outputs": [
    {
     "name": "stdout",
     "output_type": "stream",
     "text": [
      "    Released_Year  Runtime  IMDB_Rating  Meta_score  No_of_Votes        Gross\n",
      "0          1994.0      142          9.3        80.0      2343110   28341469.0\n",
      "1          1972.0      175          9.2       100.0      1620367  134966411.0\n",
      "2          2008.0      152          9.0        84.0      2303232  534858444.0\n",
      "3          1974.0      202          9.0        90.0      1129952   57300000.0\n",
      "4          1957.0       96          9.0        96.0       689845    4360000.0\n",
      "5          2003.0      201          8.9        94.0      1642758  377845905.0\n",
      "6          1994.0      154          8.9        94.0      1826188  107928762.0\n",
      "7          1993.0      195          8.9        94.0      1213505   96898818.0\n",
      "8          2010.0      148          8.8        74.0      2067042  292576195.0\n",
      "9          1999.0      139          8.8        66.0      1854740   37030102.0\n",
      "10         2001.0      178          8.8        92.0      1661481  315544750.0\n",
      "11         1994.0      142          8.8        82.0      1809221  330252182.0\n",
      "12         1966.0      161          8.8        90.0       688390    6100000.0\n",
      "13         2002.0      179          8.7        87.0      1485555  342551365.0\n",
      "14         1999.0      136          8.7        73.0      1676426  171479930.0\n",
      "15         1990.0      146          8.7        90.0      1020727   46836394.0\n",
      "16         1980.0      124          8.7        82.0      1159315  290475067.0\n",
      "17         1975.0      133          8.7        83.0       918088  112000000.0\n",
      "18         2020.0      160          8.6        90.0        55291   23530892.0\n",
      "19         2019.0      132          8.6        96.0       552778   53367844.0\n"
     ]
    }
   ],
   "execution_count": 90
  },
  {
   "cell_type": "markdown",
   "id": "ac366b59788a73f1",
   "metadata": {},
   "source": [
    "## Data Cleaning: Preparing Numerical and Categorical Data\n",
    "\n",
    "After deciding to fill missing values, we performed a series of cleaning steps to ensure the dataset is ready for analysis.\n",
    "\n",
    "### 1. Cleaning the ‘Gross’ Column\n",
    "The `Gross` column, representing box office revenue, contains **commas** (e.g., `1,300,000`) that prevent numerical conversion. We removed all commas to allow this column to be treated as a **numeric feature**.\n",
    "\n",
    "### 2. Converting Columns to Numeric\n",
    "The following columns were identified as **numerical** and explicitly converted:\n",
    "\n",
    "- `Released_Year`\n",
    "- `Runtime` (minutes)\n",
    "- `IMDB_Rating`\n",
    "- `Meta_score`\n",
    "- `No_of_Votes`\n",
    "- `Gross`\n",
    "\n",
    "To ensure consistency, any value that could not be converted was set to `NaN` and later filled with the **median** of that column.\n",
    "\n",
    "### 3. Filling Remaining Missing Values in Numeric Columns\n",
    "To address any remaining missing values, we filled all missing entries in **numerical columns** with the **median** value of their respective columns. This ensures that **outliers have minimal effect** on the imputation and preserves the general trends in the data.\n",
    "\n",
    "### 4. Filling Missing Categorical Values\n",
    "For **categorical features**, such as `Certificate`, `Genre`, `Director`, etc., we replaced all missing entries with the placeholder **`'unknown'`**. This allows the data to remain intact while clearly indicating the **absence of information**.\n"
   ]
  },
  {
   "cell_type": "code",
   "id": "79ab23f747720545",
   "metadata": {
    "ExecuteTime": {
     "end_time": "2025-04-03T14:34:36.044195Z",
     "start_time": "2025-04-03T14:34:36.027915Z"
    }
   },
   "source": [
    "from sklearn.preprocessing import MinMaxScaler\n",
    "\n",
    "# Columns to normalize\n",
    "numeric_cols = ['IMDB_Rating', 'Meta_score', 'No_of_Votes', 'Gross']\n",
    "\n",
    "# Initialize the MinMaxScaler\n",
    "scaler = MinMaxScaler()\n",
    "\n",
    "# Fit and transform the data, creating new columns with 'Scaled' suffix\n",
    "for col in numeric_cols:\n",
    "    df[col + \"_Scaled\"] = scaler.fit_transform(df[[col]])\n",
    "\n",
    "# Display the transformed data\n",
    "print(df.head())\n"
   ],
   "outputs": [
    {
     "name": "stdout",
     "output_type": "stream",
     "text": [
      "                                         Poster_Link  \\\n",
      "0  https://m.media-amazon.com/images/M/MV5BMDFkYT...   \n",
      "1  https://m.media-amazon.com/images/M/MV5BM2MyNj...   \n",
      "2  https://m.media-amazon.com/images/M/MV5BMTMxNT...   \n",
      "3  https://m.media-amazon.com/images/M/MV5BMWMwMG...   \n",
      "4  https://m.media-amazon.com/images/M/MV5BMWU4N2...   \n",
      "\n",
      "               Series_Title  Released_Year Certificate  Runtime  \\\n",
      "0  The Shawshank Redemption         1994.0           A      142   \n",
      "1             The Godfather         1972.0           A      175   \n",
      "2           The Dark Knight         2008.0          UA      152   \n",
      "3    The Godfather: Part II         1974.0           A      202   \n",
      "4              12 Angry Men         1957.0           U       96   \n",
      "\n",
      "                  Genre  IMDB_Rating  \\\n",
      "0                 Drama          9.3   \n",
      "1          Crime, Drama          9.2   \n",
      "2  Action, Crime, Drama          9.0   \n",
      "3          Crime, Drama          9.0   \n",
      "4          Crime, Drama          9.0   \n",
      "\n",
      "                                            Overview  Meta_score  \\\n",
      "0  Two imprisoned men bond over a number of years...        80.0   \n",
      "1  An organized crime dynasty's aging patriarch t...       100.0   \n",
      "2  When the menace known as the Joker wreaks havo...        84.0   \n",
      "3  The early life and career of Vito Corleone in ...        90.0   \n",
      "4  A jury holdout attempts to prevent a miscarria...        96.0   \n",
      "\n",
      "               Director           Star1           Star2          Star3  \\\n",
      "0        Frank Darabont     Tim Robbins  Morgan Freeman     Bob Gunton   \n",
      "1  Francis Ford Coppola   Marlon Brando       Al Pacino     James Caan   \n",
      "2     Christopher Nolan  Christian Bale    Heath Ledger  Aaron Eckhart   \n",
      "3  Francis Ford Coppola       Al Pacino  Robert De Niro  Robert Duvall   \n",
      "4          Sidney Lumet     Henry Fonda     Lee J. Cobb  Martin Balsam   \n",
      "\n",
      "            Star4  No_of_Votes        Gross  IMDB_Rating_Scaled  \\\n",
      "0  William Sadler      2343110   28341469.0            1.000000   \n",
      "1    Diane Keaton      1620367  134966411.0            0.941176   \n",
      "2   Michael Caine      2303232  534858444.0            0.823529   \n",
      "3    Diane Keaton      1129952   57300000.0            0.823529   \n",
      "4    John Fiedler       689845    4360000.0            0.823529   \n",
      "\n",
      "   Meta_score_Scaled  No_of_Votes_Scaled  Gross_Scaled  \n",
      "0           0.722222            1.000000      0.030257  \n",
      "1           1.000000            0.688207      0.144092  \n",
      "2           0.777778            0.982797      0.571025  \n",
      "3           0.861111            0.476641      0.061173  \n",
      "4           0.944444            0.286778      0.004653  \n"
     ]
    }
   ],
   "execution_count": 91
  },
  {
   "cell_type": "markdown",
   "id": "40c54aa0187b601f",
   "metadata": {},
   "source": [
    "## Initial Data Exploration: Value Counts for Key Features\n",
    "\n",
    "To better understand the structure and distribution of key features in the dataset, we analyzed **value counts** for several columns. This step was crucial during **debugging and data validation** to ensure that data cleaning was effective and to identify any unusual patterns or inconsistencies.\n",
    "\n",
    "### Features Analyzed:\n",
    "- **`Certificate`**: Frequency of movie certification types (e.g., PG, R, etc.)\n",
    "- **`Released_Year`**: Distribution of movie release years to spot potential outliers or gaps.\n",
    "- **`Genre`**: Common genre combinations and frequency.\n",
    "- **`Meta_score`**: Distribution of Metacritic scores, useful to assess score granularity.\n",
    "- **`Director`**: Count of movies per director — helps identify prolific directors or potential data duplication.\n",
    "- **`Runtime`**: Most common movie runtimes — useful for detecting outliers or data entry errors.\n",
    "\n",
    "By analyzing **value counts**, we could quickly assess:\n",
    "- Whether certain categories were **dominant or underrepresented**.\n",
    "- If **missing or placeholder values** like `'unknown'` were present.\n",
    "- The **effectiveness of data cleaning**, particularly in `Certificate`, `Runtime`, and `Meta_score\n"
   ]
  },
  {
   "cell_type": "code",
   "id": "5d2e6076cdbc906d",
   "metadata": {
    "ExecuteTime": {
     "end_time": "2025-04-03T14:34:36.114295Z",
     "start_time": "2025-04-03T14:34:36.107295Z"
    }
   },
   "source": [
    "vc_certificate =  df['Certificate'].value_counts()\n",
    "\n",
    "\n",
    "vc_release_year = df['Released_Year'].value_counts()\n",
    "\n",
    "vc_genre = df['Genre'].value_counts()\n",
    "\n",
    "vc_metascore = df['Meta_score'].value_counts()\n",
    "\n",
    "vc_director = df['Director'].value_counts()\n",
    "\n",
    "\n",
    "vc_runtime = df['Runtime'].value_counts()\n",
    "\n"
   ],
   "outputs": [],
   "execution_count": 92
  },
  {
   "metadata": {},
   "cell_type": "markdown",
   "source": [
    "## Data Cleaning: Standardizing and Encoding the `Certificate` Feature\n",
    "\n",
    "### 1. Dropping Irrelevant Column\n",
    "We dropped the `Poster_Link` column as it contains **image URLs** irrelevant to our analysis and adds no analytical value.\n",
    "\n",
    "### 2. Standardizing Categorical Text\n",
    "To ensure **consistency** across categorical data, all entries in categorical columns (e.g., `Certificate`, `Genre`, `Director`, etc.) were **stripped of leading/trailing spaces** and **converted to lowercase**. This step prevents issues caused by inconsistent text formats (e.g., `' PG'`, `'pg'`, `'Pg-13 '`).\n",
    "\n",
    "### 3. Normalizing Certificate Categories\n",
    "The `Certificate` feature had **multiple variations** of the same rating system, including international and TV-specific certifications. To simplify analysis:\n",
    "- We **mapped variations** (e.g., `'pg-13'`, `'tv-14'`) into **standardized categories** (e.g., `'pg13'`).\n",
    "- Rare or outdated certifications (e.g., `'passed'`, `'gp'`) were merged into modern equivalents.\n",
    "- Entries labeled `'unrated'` were replaced with `'unknown'`.\n",
    "\n",
    "### 4. Encoding Certificate for Numerical Analysis\n",
    "To allow for **numerical analysis and similarity scoring**, we created a new column: `Cert_numeric`, which maps each standardized certificate to a **numeric value** based on its **age-appropriateness**. Lower values indicate more general audience suitability, while higher values represent more restricted content.\n",
    "\n",
    "| Certificate | Encoded Value | Meaning |\n",
    "|-------------|----------------|---------|\n",
    "| `g`, `u`    | 1              | General Audience |\n",
    "| `pg`, `a`   | 2              | Parental\n",
    "\n"
   ],
   "id": "3fedac3bf2710a26"
  },
  {
   "cell_type": "code",
   "id": "f4b467d8a21605ca",
   "metadata": {
    "ExecuteTime": {
     "end_time": "2025-04-03T14:34:36.192034Z",
     "start_time": "2025-04-03T14:34:36.176139Z"
    }
   },
   "source": [
    "#Poster_Link,Series_Title,Released_Year,Certificate,Runtime,Genre,IMDB_Rating,Overview,Meta_score,Director,Star1,Star2,Star3,Star4,No_of_Votes,Gross\n",
    "\n",
    "df = df.drop('Poster_Link', axis=1)\n",
    "\n",
    "\n",
    "for col in categorical_cols:\n",
    "    df[col] = df[col].str.strip().str.lower()\n",
    "\n",
    "\n",
    "\n",
    "df['Certificate'] = df['Certificate'].str.lower().str.strip()\n",
    "\n",
    "certificate_mapping = {\n",
    "    'u/a': 'ua',  # Merge variations\n",
    "    'pg-13': 'pg13',\n",
    "    'tv-pg': 'pg',\n",
    "    'tv-14': 'pg13',\n",
    "    'tv-ma': 'r',\n",
    "    'gp': 'pg',\n",
    "    'passed': 'approved',\n",
    "    '16': 'r',\n",
    "    'unrated': 'unknown'  # Unrated movies can be labeled as 'unknown'\n",
    "}\n",
    "\n",
    "\n",
    "# Apply mapping\n",
    "df['Certificate'] = df['Certificate'].replace(certificate_mapping)\n",
    "\n",
    "\n",
    "certificate_mapping2 = {\n",
    "    'u': 1,         # Universal (suitable for all)\n",
    "    'a': 2,         # Approved (similar to PG)\n",
    "    'ua': 3,        # Unrestricted but for adult audiences (some material may be inappropriate for children)\n",
    "    'r': 4,         # Restricted (under 17 requires accompanying parent or adult guardian)\n",
    "    'unknown': 3,   # Replacing with mean, assumed to be similar to PG-13 or R\n",
    "    'pg': 2,        # Parental Guidance (some material may not be suitable for children)\n",
    "    'g': 1,         # General Audience (appropriate for all ages)\n",
    "    'approved': 2,  # Approved (similar to PG)\n",
    "    'tv-14': 3,     # TV-14 (similar to PG-13)\n",
    "    'pg13' : 3,\n",
    "    'tv-ma': 5,     # TV Mature (intended for adult audiences only)\n",
    "}\n",
    "\n",
    "\n",
    "df['Cert_numeric'] = df['Certificate'].map(certificate_mapping2)\n",
    "\n",
    "print(df['Certificate'].value_counts().sum())\n",
    "print(df['Cert_numeric'].value_counts().sum())\n",
    "\n",
    "\n",
    "\n"
   ],
   "outputs": [
    {
     "name": "stdout",
     "output_type": "stream",
     "text": [
      "1000\n",
      "1000\n"
     ]
    }
   ],
   "execution_count": 93
  },
  {
   "cell_type": "markdown",
   "id": "4001f4927d401520",
   "metadata": {},
   "source": [
    "## Encoding Multi-Label Genre Data\n",
    "\n",
    "### 1. Splitting Genre Strings into Lists\n",
    "The `Genre` column initially contained comma-separated strings representing multiple genres per movie (e.g., `\"Action, Adventure, Sci-Fi\"`). To handle this **multi-label data**, we:\n",
    "- Converted all text to **lowercase** for consistency.\n",
    "- Split the string values into **lists of genres** using `str.split(', ')`.\n",
    "\n",
    "### 2. Multi-Label Binarization\n",
    "Since each movie can belong to **multiple genres**, traditional encoding methods like one-hot or label encoding are not applicable. Instead, we used `MultiLabelBinarizer` to:\n",
    "- Transform each genre list into a **binary matrix**, where each genre becomes a **new column** (e.g., `action`, `drama`, `thriller`, etc.).\n",
    "- Assign **1** if the movie belongs to that genre, otherwise **0**.\n",
    "\n",
    "This transformation enables:\n",
    "- **Efficient analysis** of genre distributions.\n",
    "- Use of genre data in **similarity-based recommendations** or **feature importance evaluation**.\n",
    "\n",
    "### 3. Merging with Original DataFrame\n",
    "The resulting **genre dummies** were concatenated back to the main DataFrame, expanding our feature set with individual genre indicators for each movie.\n",
    "\n",
    "This **multi-label encoding** preserves the richness of the genre data while enabling powerful analytical and modeling capabilities.\n"
   ]
  },
  {
   "cell_type": "code",
   "id": "c987725c5d6e7083",
   "metadata": {
    "ExecuteTime": {
     "end_time": "2025-04-03T14:34:36.286671Z",
     "start_time": "2025-04-03T14:34:36.255463Z"
    }
   },
   "source": [
    "df_en = df.copy()\n",
    "\n",
    "\n",
    "df_en['Genre'] = df_en['Genre'].str.lower().str.split(', ')\n",
    "\n",
    "vc_genre = df_en['Genre'].value_counts()\n",
    "\n",
    "from sklearn.preprocessing import MultiLabelBinarizer\n",
    "\n",
    "mlb = MultiLabelBinarizer()\n",
    "genre_dummies = pd.DataFrame(mlb.fit_transform(df_en['Genre']), columns=mlb.classes_, index=df.index)\n",
    "\n",
    "# Merge with original DataFrame\n",
    "df_en = pd.concat([df_en, genre_dummies], axis=1)\n",
    "\n",
    "\n",
    "\n",
    "print(df_en.columns)\n",
    "\n",
    "df = df_en.copy()\n",
    "\n",
    "df.to_csv('top1000moviesEdited.csv', index=False)\n",
    "\n"
   ],
   "outputs": [
    {
     "name": "stdout",
     "output_type": "stream",
     "text": [
      "Index(['Series_Title', 'Released_Year', 'Certificate', 'Runtime', 'Genre',\n",
      "       'IMDB_Rating', 'Overview', 'Meta_score', 'Director', 'Star1', 'Star2',\n",
      "       'Star3', 'Star4', 'No_of_Votes', 'Gross', 'IMDB_Rating_Scaled',\n",
      "       'Meta_score_Scaled', 'No_of_Votes_Scaled', 'Gross_Scaled',\n",
      "       'Cert_numeric', 'action', 'adventure', 'animation', 'biography',\n",
      "       'comedy', 'crime', 'drama', 'family', 'fantasy', 'film-noir', 'history',\n",
      "       'horror', 'music', 'musical', 'mystery', 'romance', 'sci-fi', 'sport',\n",
      "       'thriller', 'war', 'western'],\n",
      "      dtype='object')\n"
     ]
    }
   ],
   "execution_count": 94
  },
  {
   "cell_type": "code",
   "id": "a9fbc0d2d2db9d14",
   "metadata": {
    "ExecuteTime": {
     "end_time": "2025-04-03T14:34:36.391962Z",
     "start_time": "2025-04-03T14:34:36.356839Z"
    }
   },
   "source": [
    "import plotly.express as px\n",
    "\n",
    "# Group by 'Released_Year' and calculate mean of 'Gross'\n",
    "df_mean_gross_by_year = df.groupby('Released_Year')['Gross'].mean().reset_index()\n",
    "\n",
    "# Create a line plot for the mean gross by year\n",
    "fig = px.line(df_mean_gross_by_year, x='Released_Year', y='Gross', title='Mean Gross by Year')\n",
    "\n",
    "# Show the plot\n",
    "fig.show()\n",
    "\n"
   ],
   "outputs": [
    {
     "data": {
      "application/vnd.plotly.v1+json": {
       "data": [
        {
         "hovertemplate": "Released_Year=%{x}<br>Gross=%{y}<extra></extra>",
         "legendgroup": "",
         "line": {
          "color": "#636efa",
          "dash": "solid"
         },
         "marker": {
          "symbol": "circle"
         },
         "mode": "lines",
         "name": "",
         "orientation": "v",
         "showlegend": false,
         "x": [
          1920.0,
          1921.0,
          1922.0,
          1924.0,
          1925.0,
          1926.0,
          1927.0,
          1928.0,
          1930.0,
          1931.0,
          1932.0,
          1933.0,
          1934.0,
          1935.0,
          1936.0,
          1937.0,
          1938.0,
          1939.0,
          1940.0,
          1941.0,
          1942.0,
          1943.0,
          1944.0,
          1945.0,
          1946.0,
          1947.0,
          1948.0,
          1949.0,
          1950.0,
          1951.0,
          1952.0,
          1953.0,
          1954.0,
          1955.0,
          1956.0,
          1957.0,
          1958.0,
          1959.0,
          1960.0,
          1961.0,
          1962.0,
          1963.0,
          1964.0,
          1965.0,
          1966.0,
          1967.0,
          1968.0,
          1969.0,
          1970.0,
          1971.0,
          1972.0,
          1973.0,
          1974.0,
          1975.0,
          1976.0,
          1977.0,
          1978.0,
          1979.0,
          1980.0,
          1981.0,
          1982.0,
          1983.0,
          1984.0,
          1985.0,
          1986.0,
          1987.0,
          1988.0,
          1989.0,
          1990.0,
          1991.0,
          1992.0,
          1993.0,
          1994.0,
          1995.0,
          1996.0,
          1997.0,
          1998.0,
          1999.0,
          2000.0,
          2001.0,
          2002.0,
          2003.0,
          2004.0,
          2005.0,
          2006.0,
          2007.0,
          2008.0,
          2009.0,
          2010.0,
          2011.0,
          2012.0,
          2013.0,
          2014.0,
          2015.0,
          2016.0,
          2017.0,
          2018.0,
          2019.0,
          2020.0
         ],
         "xaxis": "x",
         "y": [
          2.3530892E7,
          5450000.0,
          2.3530892E7,
          977375.0,
          2750485.0,
          1033895.0,
          887853.0,
          1.17763845E7,
          3270000.0,
          7859650.0,
          2.3530892E7,
          1.9020594666666668E7,
          1.3945446E7,
          1.0142804E7,
          163245.0,
          172885.0,
          1.7014261333333332E7,
          5.14828526E7,
          1.5020252E7,
          1846847.0,
          1.6028781333333334E7,
          2.3530892E7,
          1.4285446E7,
          1.6495446E7,
          1.75431568E7,
          1.3090446E7,
          1.4473267666666666E7,
          1.5836991666666666E7,
          1.41398842E7,
          8733380.6,
          7218567.0,
          2.49247136E7,
          1.5617953333333334E7,
          1.5805799E7,
          3.75727136E7,
          1.9538833888888888E7,
          1.163471875E7,
          2.3004170285714287E7,
          1.4007468636363637E7,
          1.62985352E7,
          2.4867928E7,
          1.21119398E7,
          3.9634372428571425E7,
          7.83667945E7,
          1.5028657857142856E7,
          4.30534113E7,
          2.62033685E7,
          5.3052804666666664E7,
          2.1206791666666668E7,
          2.4347767666666668E7,
          2.9733952375E7,
          4.965322875E7,
          5.3341815333333336E7,
          5.750334555555555E7,
          4.241204828571428E7,
          1.6467625833333334E8,
          2.9524572E7,
          4.7357538916666664E7,
          7.504601275E7,
          9.78496125E7,
          6.98093209090909E7,
          8.17256432E7,
          4.156038444444445E7,
          5.2809236E7,
          4.743002711111111E7,
          3.4127212666666664E7,
          5.387384336363637E7,
          6.821221118181819E7,
          9.4786081875E7,
          6.499184625E7,
          6.5687410916666664E7,
          5.287218273913044E7,
          7.473349815384616E7,
          4.530389189473684E7,
          2.52020278E7,
          6.929029578947368E7,
          3.479123547058824E7,
          8.036391422222222E7,
          4.8629453684210524E7,
          7.9440026E7,
          6.0392087631578945E7,
          6.866057786363636E7,
          4.818426829032258E7,
          6.299007223529412E7,
          4.7936467192307696E7,
          3.857418926923077E7,
          9.153473895238096E7,
          1.045273845862069E8,
          1.0929359886956522E8,
          6.068589661111111E7,
          1.08883696375E8,
          4.6746003178571425E7,
          8.684875353125E7,
          1.0037594608E8,
          9.690042446428572E7,
          9.583521072727273E7,
          1.4344272747368422E8,
          1.1180256226086956E8,
          2.3530892E7
         ],
         "yaxis": "y",
         "type": "scatter"
        }
       ],
       "layout": {
        "template": {
         "data": {
          "histogram2dcontour": [
           {
            "type": "histogram2dcontour",
            "colorbar": {
             "outlinewidth": 0,
             "ticks": ""
            },
            "colorscale": [
             [
              0.0,
              "#0d0887"
             ],
             [
              0.1111111111111111,
              "#46039f"
             ],
             [
              0.2222222222222222,
              "#7201a8"
             ],
             [
              0.3333333333333333,
              "#9c179e"
             ],
             [
              0.4444444444444444,
              "#bd3786"
             ],
             [
              0.5555555555555556,
              "#d8576b"
             ],
             [
              0.6666666666666666,
              "#ed7953"
             ],
             [
              0.7777777777777778,
              "#fb9f3a"
             ],
             [
              0.8888888888888888,
              "#fdca26"
             ],
             [
              1.0,
              "#f0f921"
             ]
            ]
           }
          ],
          "choropleth": [
           {
            "type": "choropleth",
            "colorbar": {
             "outlinewidth": 0,
             "ticks": ""
            }
           }
          ],
          "histogram2d": [
           {
            "type": "histogram2d",
            "colorbar": {
             "outlinewidth": 0,
             "ticks": ""
            },
            "colorscale": [
             [
              0.0,
              "#0d0887"
             ],
             [
              0.1111111111111111,
              "#46039f"
             ],
             [
              0.2222222222222222,
              "#7201a8"
             ],
             [
              0.3333333333333333,
              "#9c179e"
             ],
             [
              0.4444444444444444,
              "#bd3786"
             ],
             [
              0.5555555555555556,
              "#d8576b"
             ],
             [
              0.6666666666666666,
              "#ed7953"
             ],
             [
              0.7777777777777778,
              "#fb9f3a"
             ],
             [
              0.8888888888888888,
              "#fdca26"
             ],
             [
              1.0,
              "#f0f921"
             ]
            ]
           }
          ],
          "heatmap": [
           {
            "type": "heatmap",
            "colorbar": {
             "outlinewidth": 0,
             "ticks": ""
            },
            "colorscale": [
             [
              0.0,
              "#0d0887"
             ],
             [
              0.1111111111111111,
              "#46039f"
             ],
             [
              0.2222222222222222,
              "#7201a8"
             ],
             [
              0.3333333333333333,
              "#9c179e"
             ],
             [
              0.4444444444444444,
              "#bd3786"
             ],
             [
              0.5555555555555556,
              "#d8576b"
             ],
             [
              0.6666666666666666,
              "#ed7953"
             ],
             [
              0.7777777777777778,
              "#fb9f3a"
             ],
             [
              0.8888888888888888,
              "#fdca26"
             ],
             [
              1.0,
              "#f0f921"
             ]
            ]
           }
          ],
          "heatmapgl": [
           {
            "type": "heatmapgl",
            "colorbar": {
             "outlinewidth": 0,
             "ticks": ""
            },
            "colorscale": [
             [
              0.0,
              "#0d0887"
             ],
             [
              0.1111111111111111,
              "#46039f"
             ],
             [
              0.2222222222222222,
              "#7201a8"
             ],
             [
              0.3333333333333333,
              "#9c179e"
             ],
             [
              0.4444444444444444,
              "#bd3786"
             ],
             [
              0.5555555555555556,
              "#d8576b"
             ],
             [
              0.6666666666666666,
              "#ed7953"
             ],
             [
              0.7777777777777778,
              "#fb9f3a"
             ],
             [
              0.8888888888888888,
              "#fdca26"
             ],
             [
              1.0,
              "#f0f921"
             ]
            ]
           }
          ],
          "contourcarpet": [
           {
            "type": "contourcarpet",
            "colorbar": {
             "outlinewidth": 0,
             "ticks": ""
            }
           }
          ],
          "contour": [
           {
            "type": "contour",
            "colorbar": {
             "outlinewidth": 0,
             "ticks": ""
            },
            "colorscale": [
             [
              0.0,
              "#0d0887"
             ],
             [
              0.1111111111111111,
              "#46039f"
             ],
             [
              0.2222222222222222,
              "#7201a8"
             ],
             [
              0.3333333333333333,
              "#9c179e"
             ],
             [
              0.4444444444444444,
              "#bd3786"
             ],
             [
              0.5555555555555556,
              "#d8576b"
             ],
             [
              0.6666666666666666,
              "#ed7953"
             ],
             [
              0.7777777777777778,
              "#fb9f3a"
             ],
             [
              0.8888888888888888,
              "#fdca26"
             ],
             [
              1.0,
              "#f0f921"
             ]
            ]
           }
          ],
          "surface": [
           {
            "type": "surface",
            "colorbar": {
             "outlinewidth": 0,
             "ticks": ""
            },
            "colorscale": [
             [
              0.0,
              "#0d0887"
             ],
             [
              0.1111111111111111,
              "#46039f"
             ],
             [
              0.2222222222222222,
              "#7201a8"
             ],
             [
              0.3333333333333333,
              "#9c179e"
             ],
             [
              0.4444444444444444,
              "#bd3786"
             ],
             [
              0.5555555555555556,
              "#d8576b"
             ],
             [
              0.6666666666666666,
              "#ed7953"
             ],
             [
              0.7777777777777778,
              "#fb9f3a"
             ],
             [
              0.8888888888888888,
              "#fdca26"
             ],
             [
              1.0,
              "#f0f921"
             ]
            ]
           }
          ],
          "mesh3d": [
           {
            "type": "mesh3d",
            "colorbar": {
             "outlinewidth": 0,
             "ticks": ""
            }
           }
          ],
          "scatter": [
           {
            "marker": {
             "line": {
              "color": "#283442"
             }
            },
            "type": "scatter"
           }
          ],
          "parcoords": [
           {
            "type": "parcoords",
            "line": {
             "colorbar": {
              "outlinewidth": 0,
              "ticks": ""
             }
            }
           }
          ],
          "scatterpolargl": [
           {
            "type": "scatterpolargl",
            "marker": {
             "colorbar": {
              "outlinewidth": 0,
              "ticks": ""
             }
            }
           }
          ],
          "bar": [
           {
            "error_x": {
             "color": "#f2f5fa"
            },
            "error_y": {
             "color": "#f2f5fa"
            },
            "marker": {
             "line": {
              "color": "rgb(17,17,17)",
              "width": 0.5
             },
             "pattern": {
              "fillmode": "overlay",
              "size": 10,
              "solidity": 0.2
             }
            },
            "type": "bar"
           }
          ],
          "scattergeo": [
           {
            "type": "scattergeo",
            "marker": {
             "colorbar": {
              "outlinewidth": 0,
              "ticks": ""
             }
            }
           }
          ],
          "scatterpolar": [
           {
            "type": "scatterpolar",
            "marker": {
             "colorbar": {
              "outlinewidth": 0,
              "ticks": ""
             }
            }
           }
          ],
          "histogram": [
           {
            "marker": {
             "pattern": {
              "fillmode": "overlay",
              "size": 10,
              "solidity": 0.2
             }
            },
            "type": "histogram"
           }
          ],
          "scattergl": [
           {
            "marker": {
             "line": {
              "color": "#283442"
             }
            },
            "type": "scattergl"
           }
          ],
          "scatter3d": [
           {
            "type": "scatter3d",
            "line": {
             "colorbar": {
              "outlinewidth": 0,
              "ticks": ""
             }
            },
            "marker": {
             "colorbar": {
              "outlinewidth": 0,
              "ticks": ""
             }
            }
           }
          ],
          "scattermapbox": [
           {
            "type": "scattermapbox",
            "marker": {
             "colorbar": {
              "outlinewidth": 0,
              "ticks": ""
             }
            }
           }
          ],
          "scatterternary": [
           {
            "type": "scatterternary",
            "marker": {
             "colorbar": {
              "outlinewidth": 0,
              "ticks": ""
             }
            }
           }
          ],
          "scattercarpet": [
           {
            "type": "scattercarpet",
            "marker": {
             "colorbar": {
              "outlinewidth": 0,
              "ticks": ""
             }
            }
           }
          ],
          "carpet": [
           {
            "aaxis": {
             "endlinecolor": "#A2B1C6",
             "gridcolor": "#506784",
             "linecolor": "#506784",
             "minorgridcolor": "#506784",
             "startlinecolor": "#A2B1C6"
            },
            "baxis": {
             "endlinecolor": "#A2B1C6",
             "gridcolor": "#506784",
             "linecolor": "#506784",
             "minorgridcolor": "#506784",
             "startlinecolor": "#A2B1C6"
            },
            "type": "carpet"
           }
          ],
          "table": [
           {
            "cells": {
             "fill": {
              "color": "#506784"
             },
             "line": {
              "color": "rgb(17,17,17)"
             }
            },
            "header": {
             "fill": {
              "color": "#2a3f5f"
             },
             "line": {
              "color": "rgb(17,17,17)"
             }
            },
            "type": "table"
           }
          ],
          "barpolar": [
           {
            "marker": {
             "line": {
              "color": "rgb(17,17,17)",
              "width": 0.5
             },
             "pattern": {
              "fillmode": "overlay",
              "size": 10,
              "solidity": 0.2
             }
            },
            "type": "barpolar"
           }
          ],
          "pie": [
           {
            "automargin": true,
            "type": "pie"
           }
          ]
         },
         "layout": {
          "autotypenumbers": "strict",
          "colorway": [
           "#636efa",
           "#EF553B",
           "#00cc96",
           "#ab63fa",
           "#FFA15A",
           "#19d3f3",
           "#FF6692",
           "#B6E880",
           "#FF97FF",
           "#FECB52"
          ],
          "font": {
           "color": "#f2f5fa"
          },
          "hovermode": "closest",
          "hoverlabel": {
           "align": "left"
          },
          "paper_bgcolor": "rgb(17,17,17)",
          "plot_bgcolor": "rgb(17,17,17)",
          "polar": {
           "bgcolor": "rgb(17,17,17)",
           "angularaxis": {
            "gridcolor": "#506784",
            "linecolor": "#506784",
            "ticks": ""
           },
           "radialaxis": {
            "gridcolor": "#506784",
            "linecolor": "#506784",
            "ticks": ""
           }
          },
          "ternary": {
           "bgcolor": "rgb(17,17,17)",
           "aaxis": {
            "gridcolor": "#506784",
            "linecolor": "#506784",
            "ticks": ""
           },
           "baxis": {
            "gridcolor": "#506784",
            "linecolor": "#506784",
            "ticks": ""
           },
           "caxis": {
            "gridcolor": "#506784",
            "linecolor": "#506784",
            "ticks": ""
           }
          },
          "coloraxis": {
           "colorbar": {
            "outlinewidth": 0,
            "ticks": ""
           }
          },
          "colorscale": {
           "sequential": [
            [
             0.0,
             "#0d0887"
            ],
            [
             0.1111111111111111,
             "#46039f"
            ],
            [
             0.2222222222222222,
             "#7201a8"
            ],
            [
             0.3333333333333333,
             "#9c179e"
            ],
            [
             0.4444444444444444,
             "#bd3786"
            ],
            [
             0.5555555555555556,
             "#d8576b"
            ],
            [
             0.6666666666666666,
             "#ed7953"
            ],
            [
             0.7777777777777778,
             "#fb9f3a"
            ],
            [
             0.8888888888888888,
             "#fdca26"
            ],
            [
             1.0,
             "#f0f921"
            ]
           ],
           "sequentialminus": [
            [
             0.0,
             "#0d0887"
            ],
            [
             0.1111111111111111,
             "#46039f"
            ],
            [
             0.2222222222222222,
             "#7201a8"
            ],
            [
             0.3333333333333333,
             "#9c179e"
            ],
            [
             0.4444444444444444,
             "#bd3786"
            ],
            [
             0.5555555555555556,
             "#d8576b"
            ],
            [
             0.6666666666666666,
             "#ed7953"
            ],
            [
             0.7777777777777778,
             "#fb9f3a"
            ],
            [
             0.8888888888888888,
             "#fdca26"
            ],
            [
             1.0,
             "#f0f921"
            ]
           ],
           "diverging": [
            [
             0,
             "#8e0152"
            ],
            [
             0.1,
             "#c51b7d"
            ],
            [
             0.2,
             "#de77ae"
            ],
            [
             0.3,
             "#f1b6da"
            ],
            [
             0.4,
             "#fde0ef"
            ],
            [
             0.5,
             "#f7f7f7"
            ],
            [
             0.6,
             "#e6f5d0"
            ],
            [
             0.7,
             "#b8e186"
            ],
            [
             0.8,
             "#7fbc41"
            ],
            [
             0.9,
             "#4d9221"
            ],
            [
             1,
             "#276419"
            ]
           ]
          },
          "xaxis": {
           "gridcolor": "#283442",
           "linecolor": "#506784",
           "ticks": "",
           "title": {
            "standoff": 15
           },
           "zerolinecolor": "#283442",
           "automargin": true,
           "zerolinewidth": 2
          },
          "yaxis": {
           "gridcolor": "#283442",
           "linecolor": "#506784",
           "ticks": "",
           "title": {
            "standoff": 15
           },
           "zerolinecolor": "#283442",
           "automargin": true,
           "zerolinewidth": 2
          },
          "scene": {
           "xaxis": {
            "backgroundcolor": "rgb(17,17,17)",
            "gridcolor": "#506784",
            "linecolor": "#506784",
            "showbackground": true,
            "ticks": "",
            "zerolinecolor": "#C8D4E3",
            "gridwidth": 2
           },
           "yaxis": {
            "backgroundcolor": "rgb(17,17,17)",
            "gridcolor": "#506784",
            "linecolor": "#506784",
            "showbackground": true,
            "ticks": "",
            "zerolinecolor": "#C8D4E3",
            "gridwidth": 2
           },
           "zaxis": {
            "backgroundcolor": "rgb(17,17,17)",
            "gridcolor": "#506784",
            "linecolor": "#506784",
            "showbackground": true,
            "ticks": "",
            "zerolinecolor": "#C8D4E3",
            "gridwidth": 2
           }
          },
          "shapedefaults": {
           "line": {
            "color": "#f2f5fa"
           }
          },
          "annotationdefaults": {
           "arrowcolor": "#f2f5fa",
           "arrowhead": 0,
           "arrowwidth": 1
          },
          "geo": {
           "bgcolor": "rgb(17,17,17)",
           "landcolor": "rgb(17,17,17)",
           "subunitcolor": "#506784",
           "showland": true,
           "showlakes": true,
           "lakecolor": "rgb(17,17,17)"
          },
          "title": {
           "x": 0.05
          },
          "updatemenudefaults": {
           "bgcolor": "#506784",
           "borderwidth": 0
          },
          "sliderdefaults": {
           "bgcolor": "#C8D4E3",
           "borderwidth": 1,
           "bordercolor": "rgb(17,17,17)",
           "tickwidth": 0
          },
          "mapbox": {
           "style": "dark"
          }
         }
        },
        "xaxis": {
         "anchor": "y",
         "domain": [
          0.0,
          1.0
         ],
         "title": {
          "text": "Released_Year"
         }
        },
        "yaxis": {
         "anchor": "x",
         "domain": [
          0.0,
          1.0
         ],
         "title": {
          "text": "Gross"
         }
        },
        "legend": {
         "tracegroupgap": 0
        },
        "title": {
         "text": "Mean Gross by Year"
        }
       },
       "config": {
        "plotlyServerURL": "https://plot.ly"
       }
      },
      "text/html": [
       "<div>                            <div id=\"3ca55b26-27e6-472d-a2bc-d55d21bc8cf6\" class=\"plotly-graph-div\" style=\"height:525px; width:100%;\"></div>            <script type=\"text/javascript\">                require([\"plotly\"], function(Plotly) {                    window.PLOTLYENV=window.PLOTLYENV || {};                                    if (document.getElementById(\"3ca55b26-27e6-472d-a2bc-d55d21bc8cf6\")) {                    Plotly.newPlot(                        \"3ca55b26-27e6-472d-a2bc-d55d21bc8cf6\",                        [{\"hovertemplate\":\"Released_Year=%{x}\\u003cbr\\u003eGross=%{y}\\u003cextra\\u003e\\u003c\\u002fextra\\u003e\",\"legendgroup\":\"\",\"line\":{\"color\":\"#636efa\",\"dash\":\"solid\"},\"marker\":{\"symbol\":\"circle\"},\"mode\":\"lines\",\"name\":\"\",\"orientation\":\"v\",\"showlegend\":false,\"x\":[1920.0,1921.0,1922.0,1924.0,1925.0,1926.0,1927.0,1928.0,1930.0,1931.0,1932.0,1933.0,1934.0,1935.0,1936.0,1937.0,1938.0,1939.0,1940.0,1941.0,1942.0,1943.0,1944.0,1945.0,1946.0,1947.0,1948.0,1949.0,1950.0,1951.0,1952.0,1953.0,1954.0,1955.0,1956.0,1957.0,1958.0,1959.0,1960.0,1961.0,1962.0,1963.0,1964.0,1965.0,1966.0,1967.0,1968.0,1969.0,1970.0,1971.0,1972.0,1973.0,1974.0,1975.0,1976.0,1977.0,1978.0,1979.0,1980.0,1981.0,1982.0,1983.0,1984.0,1985.0,1986.0,1987.0,1988.0,1989.0,1990.0,1991.0,1992.0,1993.0,1994.0,1995.0,1996.0,1997.0,1998.0,1999.0,2000.0,2001.0,2002.0,2003.0,2004.0,2005.0,2006.0,2007.0,2008.0,2009.0,2010.0,2011.0,2012.0,2013.0,2014.0,2015.0,2016.0,2017.0,2018.0,2019.0,2020.0],\"xaxis\":\"x\",\"y\":[23530892.0,5450000.0,23530892.0,977375.0,2750485.0,1033895.0,887853.0,11776384.5,3270000.0,7859650.0,23530892.0,19020594.666666668,13945446.0,10142804.0,163245.0,172885.0,17014261.333333332,51482852.6,15020252.0,1846847.0,16028781.333333334,23530892.0,14285446.0,16495446.0,17543156.8,13090446.0,14473267.666666666,15836991.666666666,14139884.2,8733380.6,7218567.0,24924713.6,15617953.333333334,15805799.0,37572713.6,19538833.888888888,11634718.75,23004170.285714287,14007468.636363637,16298535.2,24867928.0,12111939.8,39634372.428571425,78366794.5,15028657.857142856,43053411.3,26203368.5,53052804.666666664,21206791.666666668,24347767.666666668,29733952.375,49653228.75,53341815.333333336,57503345.55555555,42412048.28571428,164676258.33333334,29524572.0,47357538.916666664,75046012.75,97849612.5,69809320.9090909,81725643.2,41560384.44444445,52809236.0,47430027.11111111,34127212.666666664,53873843.36363637,68212211.18181819,94786081.875,64991846.25,65687410.916666664,52872182.73913044,74733498.15384616,45303891.89473684,25202027.8,69290295.78947368,34791235.47058824,80363914.22222222,48629453.684210524,79440026.0,60392087.631578945,68660577.86363636,48184268.29032258,62990072.23529412,47936467.192307696,38574189.26923077,91534738.95238096,104527384.5862069,109293598.86956522,60685896.61111111,108883696.375,46746003.178571425,86848753.53125,100375946.08,96900424.46428572,95835210.72727273,143442727.47368422,111802562.26086956,23530892.0],\"yaxis\":\"y\",\"type\":\"scatter\"}],                        {\"template\":{\"data\":{\"histogram2dcontour\":[{\"type\":\"histogram2dcontour\",\"colorbar\":{\"outlinewidth\":0,\"ticks\":\"\"},\"colorscale\":[[0.0,\"#0d0887\"],[0.1111111111111111,\"#46039f\"],[0.2222222222222222,\"#7201a8\"],[0.3333333333333333,\"#9c179e\"],[0.4444444444444444,\"#bd3786\"],[0.5555555555555556,\"#d8576b\"],[0.6666666666666666,\"#ed7953\"],[0.7777777777777778,\"#fb9f3a\"],[0.8888888888888888,\"#fdca26\"],[1.0,\"#f0f921\"]]}],\"choropleth\":[{\"type\":\"choropleth\",\"colorbar\":{\"outlinewidth\":0,\"ticks\":\"\"}}],\"histogram2d\":[{\"type\":\"histogram2d\",\"colorbar\":{\"outlinewidth\":0,\"ticks\":\"\"},\"colorscale\":[[0.0,\"#0d0887\"],[0.1111111111111111,\"#46039f\"],[0.2222222222222222,\"#7201a8\"],[0.3333333333333333,\"#9c179e\"],[0.4444444444444444,\"#bd3786\"],[0.5555555555555556,\"#d8576b\"],[0.6666666666666666,\"#ed7953\"],[0.7777777777777778,\"#fb9f3a\"],[0.8888888888888888,\"#fdca26\"],[1.0,\"#f0f921\"]]}],\"heatmap\":[{\"type\":\"heatmap\",\"colorbar\":{\"outlinewidth\":0,\"ticks\":\"\"},\"colorscale\":[[0.0,\"#0d0887\"],[0.1111111111111111,\"#46039f\"],[0.2222222222222222,\"#7201a8\"],[0.3333333333333333,\"#9c179e\"],[0.4444444444444444,\"#bd3786\"],[0.5555555555555556,\"#d8576b\"],[0.6666666666666666,\"#ed7953\"],[0.7777777777777778,\"#fb9f3a\"],[0.8888888888888888,\"#fdca26\"],[1.0,\"#f0f921\"]]}],\"heatmapgl\":[{\"type\":\"heatmapgl\",\"colorbar\":{\"outlinewidth\":0,\"ticks\":\"\"},\"colorscale\":[[0.0,\"#0d0887\"],[0.1111111111111111,\"#46039f\"],[0.2222222222222222,\"#7201a8\"],[0.3333333333333333,\"#9c179e\"],[0.4444444444444444,\"#bd3786\"],[0.5555555555555556,\"#d8576b\"],[0.6666666666666666,\"#ed7953\"],[0.7777777777777778,\"#fb9f3a\"],[0.8888888888888888,\"#fdca26\"],[1.0,\"#f0f921\"]]}],\"contourcarpet\":[{\"type\":\"contourcarpet\",\"colorbar\":{\"outlinewidth\":0,\"ticks\":\"\"}}],\"contour\":[{\"type\":\"contour\",\"colorbar\":{\"outlinewidth\":0,\"ticks\":\"\"},\"colorscale\":[[0.0,\"#0d0887\"],[0.1111111111111111,\"#46039f\"],[0.2222222222222222,\"#7201a8\"],[0.3333333333333333,\"#9c179e\"],[0.4444444444444444,\"#bd3786\"],[0.5555555555555556,\"#d8576b\"],[0.6666666666666666,\"#ed7953\"],[0.7777777777777778,\"#fb9f3a\"],[0.8888888888888888,\"#fdca26\"],[1.0,\"#f0f921\"]]}],\"surface\":[{\"type\":\"surface\",\"colorbar\":{\"outlinewidth\":0,\"ticks\":\"\"},\"colorscale\":[[0.0,\"#0d0887\"],[0.1111111111111111,\"#46039f\"],[0.2222222222222222,\"#7201a8\"],[0.3333333333333333,\"#9c179e\"],[0.4444444444444444,\"#bd3786\"],[0.5555555555555556,\"#d8576b\"],[0.6666666666666666,\"#ed7953\"],[0.7777777777777778,\"#fb9f3a\"],[0.8888888888888888,\"#fdca26\"],[1.0,\"#f0f921\"]]}],\"mesh3d\":[{\"type\":\"mesh3d\",\"colorbar\":{\"outlinewidth\":0,\"ticks\":\"\"}}],\"scatter\":[{\"marker\":{\"line\":{\"color\":\"#283442\"}},\"type\":\"scatter\"}],\"parcoords\":[{\"type\":\"parcoords\",\"line\":{\"colorbar\":{\"outlinewidth\":0,\"ticks\":\"\"}}}],\"scatterpolargl\":[{\"type\":\"scatterpolargl\",\"marker\":{\"colorbar\":{\"outlinewidth\":0,\"ticks\":\"\"}}}],\"bar\":[{\"error_x\":{\"color\":\"#f2f5fa\"},\"error_y\":{\"color\":\"#f2f5fa\"},\"marker\":{\"line\":{\"color\":\"rgb(17,17,17)\",\"width\":0.5},\"pattern\":{\"fillmode\":\"overlay\",\"size\":10,\"solidity\":0.2}},\"type\":\"bar\"}],\"scattergeo\":[{\"type\":\"scattergeo\",\"marker\":{\"colorbar\":{\"outlinewidth\":0,\"ticks\":\"\"}}}],\"scatterpolar\":[{\"type\":\"scatterpolar\",\"marker\":{\"colorbar\":{\"outlinewidth\":0,\"ticks\":\"\"}}}],\"histogram\":[{\"marker\":{\"pattern\":{\"fillmode\":\"overlay\",\"size\":10,\"solidity\":0.2}},\"type\":\"histogram\"}],\"scattergl\":[{\"marker\":{\"line\":{\"color\":\"#283442\"}},\"type\":\"scattergl\"}],\"scatter3d\":[{\"type\":\"scatter3d\",\"line\":{\"colorbar\":{\"outlinewidth\":0,\"ticks\":\"\"}},\"marker\":{\"colorbar\":{\"outlinewidth\":0,\"ticks\":\"\"}}}],\"scattermapbox\":[{\"type\":\"scattermapbox\",\"marker\":{\"colorbar\":{\"outlinewidth\":0,\"ticks\":\"\"}}}],\"scatterternary\":[{\"type\":\"scatterternary\",\"marker\":{\"colorbar\":{\"outlinewidth\":0,\"ticks\":\"\"}}}],\"scattercarpet\":[{\"type\":\"scattercarpet\",\"marker\":{\"colorbar\":{\"outlinewidth\":0,\"ticks\":\"\"}}}],\"carpet\":[{\"aaxis\":{\"endlinecolor\":\"#A2B1C6\",\"gridcolor\":\"#506784\",\"linecolor\":\"#506784\",\"minorgridcolor\":\"#506784\",\"startlinecolor\":\"#A2B1C6\"},\"baxis\":{\"endlinecolor\":\"#A2B1C6\",\"gridcolor\":\"#506784\",\"linecolor\":\"#506784\",\"minorgridcolor\":\"#506784\",\"startlinecolor\":\"#A2B1C6\"},\"type\":\"carpet\"}],\"table\":[{\"cells\":{\"fill\":{\"color\":\"#506784\"},\"line\":{\"color\":\"rgb(17,17,17)\"}},\"header\":{\"fill\":{\"color\":\"#2a3f5f\"},\"line\":{\"color\":\"rgb(17,17,17)\"}},\"type\":\"table\"}],\"barpolar\":[{\"marker\":{\"line\":{\"color\":\"rgb(17,17,17)\",\"width\":0.5},\"pattern\":{\"fillmode\":\"overlay\",\"size\":10,\"solidity\":0.2}},\"type\":\"barpolar\"}],\"pie\":[{\"automargin\":true,\"type\":\"pie\"}]},\"layout\":{\"autotypenumbers\":\"strict\",\"colorway\":[\"#636efa\",\"#EF553B\",\"#00cc96\",\"#ab63fa\",\"#FFA15A\",\"#19d3f3\",\"#FF6692\",\"#B6E880\",\"#FF97FF\",\"#FECB52\"],\"font\":{\"color\":\"#f2f5fa\"},\"hovermode\":\"closest\",\"hoverlabel\":{\"align\":\"left\"},\"paper_bgcolor\":\"rgb(17,17,17)\",\"plot_bgcolor\":\"rgb(17,17,17)\",\"polar\":{\"bgcolor\":\"rgb(17,17,17)\",\"angularaxis\":{\"gridcolor\":\"#506784\",\"linecolor\":\"#506784\",\"ticks\":\"\"},\"radialaxis\":{\"gridcolor\":\"#506784\",\"linecolor\":\"#506784\",\"ticks\":\"\"}},\"ternary\":{\"bgcolor\":\"rgb(17,17,17)\",\"aaxis\":{\"gridcolor\":\"#506784\",\"linecolor\":\"#506784\",\"ticks\":\"\"},\"baxis\":{\"gridcolor\":\"#506784\",\"linecolor\":\"#506784\",\"ticks\":\"\"},\"caxis\":{\"gridcolor\":\"#506784\",\"linecolor\":\"#506784\",\"ticks\":\"\"}},\"coloraxis\":{\"colorbar\":{\"outlinewidth\":0,\"ticks\":\"\"}},\"colorscale\":{\"sequential\":[[0.0,\"#0d0887\"],[0.1111111111111111,\"#46039f\"],[0.2222222222222222,\"#7201a8\"],[0.3333333333333333,\"#9c179e\"],[0.4444444444444444,\"#bd3786\"],[0.5555555555555556,\"#d8576b\"],[0.6666666666666666,\"#ed7953\"],[0.7777777777777778,\"#fb9f3a\"],[0.8888888888888888,\"#fdca26\"],[1.0,\"#f0f921\"]],\"sequentialminus\":[[0.0,\"#0d0887\"],[0.1111111111111111,\"#46039f\"],[0.2222222222222222,\"#7201a8\"],[0.3333333333333333,\"#9c179e\"],[0.4444444444444444,\"#bd3786\"],[0.5555555555555556,\"#d8576b\"],[0.6666666666666666,\"#ed7953\"],[0.7777777777777778,\"#fb9f3a\"],[0.8888888888888888,\"#fdca26\"],[1.0,\"#f0f921\"]],\"diverging\":[[0,\"#8e0152\"],[0.1,\"#c51b7d\"],[0.2,\"#de77ae\"],[0.3,\"#f1b6da\"],[0.4,\"#fde0ef\"],[0.5,\"#f7f7f7\"],[0.6,\"#e6f5d0\"],[0.7,\"#b8e186\"],[0.8,\"#7fbc41\"],[0.9,\"#4d9221\"],[1,\"#276419\"]]},\"xaxis\":{\"gridcolor\":\"#283442\",\"linecolor\":\"#506784\",\"ticks\":\"\",\"title\":{\"standoff\":15},\"zerolinecolor\":\"#283442\",\"automargin\":true,\"zerolinewidth\":2},\"yaxis\":{\"gridcolor\":\"#283442\",\"linecolor\":\"#506784\",\"ticks\":\"\",\"title\":{\"standoff\":15},\"zerolinecolor\":\"#283442\",\"automargin\":true,\"zerolinewidth\":2},\"scene\":{\"xaxis\":{\"backgroundcolor\":\"rgb(17,17,17)\",\"gridcolor\":\"#506784\",\"linecolor\":\"#506784\",\"showbackground\":true,\"ticks\":\"\",\"zerolinecolor\":\"#C8D4E3\",\"gridwidth\":2},\"yaxis\":{\"backgroundcolor\":\"rgb(17,17,17)\",\"gridcolor\":\"#506784\",\"linecolor\":\"#506784\",\"showbackground\":true,\"ticks\":\"\",\"zerolinecolor\":\"#C8D4E3\",\"gridwidth\":2},\"zaxis\":{\"backgroundcolor\":\"rgb(17,17,17)\",\"gridcolor\":\"#506784\",\"linecolor\":\"#506784\",\"showbackground\":true,\"ticks\":\"\",\"zerolinecolor\":\"#C8D4E3\",\"gridwidth\":2}},\"shapedefaults\":{\"line\":{\"color\":\"#f2f5fa\"}},\"annotationdefaults\":{\"arrowcolor\":\"#f2f5fa\",\"arrowhead\":0,\"arrowwidth\":1},\"geo\":{\"bgcolor\":\"rgb(17,17,17)\",\"landcolor\":\"rgb(17,17,17)\",\"subunitcolor\":\"#506784\",\"showland\":true,\"showlakes\":true,\"lakecolor\":\"rgb(17,17,17)\"},\"title\":{\"x\":0.05},\"updatemenudefaults\":{\"bgcolor\":\"#506784\",\"borderwidth\":0},\"sliderdefaults\":{\"bgcolor\":\"#C8D4E3\",\"borderwidth\":1,\"bordercolor\":\"rgb(17,17,17)\",\"tickwidth\":0},\"mapbox\":{\"style\":\"dark\"}}},\"xaxis\":{\"anchor\":\"y\",\"domain\":[0.0,1.0],\"title\":{\"text\":\"Released_Year\"}},\"yaxis\":{\"anchor\":\"x\",\"domain\":[0.0,1.0],\"title\":{\"text\":\"Gross\"}},\"legend\":{\"tracegroupgap\":0},\"title\":{\"text\":\"Mean Gross by Year\"}},                        {\"responsive\": true}                    ).then(function(){\n",
       "                            \n",
       "var gd = document.getElementById('3ca55b26-27e6-472d-a2bc-d55d21bc8cf6');\n",
       "var x = new MutationObserver(function (mutations, observer) {{\n",
       "        var display = window.getComputedStyle(gd).display;\n",
       "        if (!display || display === 'none') {{\n",
       "            console.log([gd, 'removed!']);\n",
       "            Plotly.purge(gd);\n",
       "            observer.disconnect();\n",
       "        }}\n",
       "}});\n",
       "\n",
       "// Listen for the removal of the full notebook cells\n",
       "var notebookContainer = gd.closest('#notebook-container');\n",
       "if (notebookContainer) {{\n",
       "    x.observe(notebookContainer, {childList: true});\n",
       "}}\n",
       "\n",
       "// Listen for the clearing of the current output cell\n",
       "var outputEl = gd.closest('.output');\n",
       "if (outputEl) {{\n",
       "    x.observe(outputEl, {childList: true});\n",
       "}}\n",
       "\n",
       "                        })                };                });            </script>        </div>"
      ]
     },
     "metadata": {},
     "output_type": "display_data"
    }
   ],
   "execution_count": 95
  },
  {
   "metadata": {},
   "cell_type": "markdown",
   "source": "This histogram shows the distribution of IMDB ratings across the top 1000 movies. It helps us understand the concentration of movies in different rating ranges. This kind of distribution is crucial for assessing the overall quality of the movies in the dataset.",
   "id": "a1a9580e8dd93d36"
  },
  {
   "metadata": {
    "ExecuteTime": {
     "end_time": "2025-04-03T14:34:36.461979Z",
     "start_time": "2025-04-03T14:34:36.428963Z"
    }
   },
   "cell_type": "code",
   "source": [
    "import plotly.express as px\n",
    "\n",
    "# Create a histogram of IMDB ratings\n",
    "fig = px.histogram(df, x='IMDB_Rating', nbins=20, title='Distribution of IMDB Ratings')\n",
    "fig.show()\n"
   ],
   "id": "aa7d32b334f1986",
   "outputs": [
    {
     "data": {
      "application/vnd.plotly.v1+json": {
       "data": [
        {
         "alignmentgroup": "True",
         "bingroup": "x",
         "hovertemplate": "IMDB_Rating=%{x}<br>count=%{y}<extra></extra>",
         "legendgroup": "",
         "marker": {
          "color": "#636efa",
          "pattern": {
           "shape": ""
          }
         },
         "name": "",
         "nbinsx": 20,
         "offsetgroup": "",
         "orientation": "v",
         "showlegend": false,
         "x": [
          9.3,
          9.2,
          9.0,
          9.0,
          9.0,
          8.9,
          8.9,
          8.9,
          8.8,
          8.8,
          8.8,
          8.8,
          8.8,
          8.7,
          8.7,
          8.7,
          8.7,
          8.7,
          8.6,
          8.6,
          8.6,
          8.6,
          8.6,
          8.6,
          8.6,
          8.6,
          8.6,
          8.6,
          8.6,
          8.6,
          8.6,
          8.6,
          8.6,
          8.5,
          8.5,
          8.5,
          8.5,
          8.5,
          8.5,
          8.5,
          8.5,
          8.5,
          8.5,
          8.5,
          8.5,
          8.5,
          8.5,
          8.5,
          8.5,
          8.5,
          8.5,
          8.5,
          8.5,
          8.4,
          8.4,
          8.4,
          8.4,
          8.4,
          8.4,
          8.4,
          8.4,
          8.4,
          8.4,
          8.4,
          8.4,
          8.4,
          8.4,
          8.4,
          8.4,
          8.4,
          8.4,
          8.4,
          8.4,
          8.4,
          8.4,
          8.4,
          8.4,
          8.4,
          8.4,
          8.4,
          8.4,
          8.4,
          8.4,
          8.4,
          8.3,
          8.3,
          8.3,
          8.3,
          8.3,
          8.3,
          8.3,
          8.3,
          8.3,
          8.3,
          8.3,
          8.3,
          8.3,
          8.3,
          8.3,
          8.3,
          8.3,
          8.3,
          8.3,
          8.3,
          8.3,
          8.3,
          8.3,
          8.3,
          8.3,
          8.3,
          8.3,
          8.3,
          8.3,
          8.3,
          8.3,
          8.3,
          8.3,
          8.3,
          8.3,
          8.3,
          8.3,
          8.3,
          8.3,
          8.3,
          8.3,
          8.3,
          8.3,
          8.3,
          8.2,
          8.2,
          8.2,
          8.2,
          8.2,
          8.2,
          8.2,
          8.2,
          8.2,
          8.2,
          8.2,
          8.2,
          8.2,
          8.2,
          8.2,
          8.2,
          8.2,
          8.2,
          8.2,
          8.2,
          8.2,
          8.2,
          8.2,
          8.2,
          8.2,
          8.2,
          8.2,
          8.2,
          8.2,
          8.2,
          8.2,
          8.2,
          8.2,
          8.2,
          8.2,
          8.2,
          8.2,
          8.2,
          8.2,
          8.2,
          8.2,
          8.2,
          8.2,
          8.2,
          8.2,
          8.2,
          8.2,
          8.2,
          8.2,
          8.2,
          8.2,
          8.2,
          8.2,
          8.2,
          8.2,
          8.2,
          8.2,
          8.2,
          8.2,
          8.2,
          8.2,
          8.2,
          8.2,
          8.2,
          8.2,
          8.2,
          8.2,
          8.1,
          8.1,
          8.1,
          8.1,
          8.1,
          8.1,
          8.1,
          8.1,
          8.1,
          8.1,
          8.1,
          8.1,
          8.1,
          8.1,
          8.1,
          8.1,
          8.1,
          8.1,
          8.1,
          8.1,
          8.1,
          8.1,
          8.1,
          8.1,
          8.1,
          8.1,
          8.1,
          8.1,
          8.1,
          8.1,
          8.1,
          8.1,
          8.1,
          8.1,
          8.1,
          8.1,
          8.1,
          8.1,
          8.1,
          8.1,
          8.1,
          8.1,
          8.1,
          8.1,
          8.1,
          8.1,
          8.1,
          8.1,
          8.1,
          8.1,
          8.1,
          8.1,
          8.1,
          8.1,
          8.1,
          8.1,
          8.1,
          8.1,
          8.1,
          8.1,
          8.1,
          8.1,
          8.1,
          8.1,
          8.1,
          8.1,
          8.1,
          8.1,
          8.1,
          8.1,
          8.1,
          8.1,
          8.1,
          8.1,
          8.1,
          8.1,
          8.1,
          8.1,
          8.1,
          8.1,
          8.1,
          8.1,
          8.1,
          8.1,
          8.1,
          8.1,
          8.1,
          8.1,
          8.1,
          8.1,
          8.1,
          8.1,
          8.1,
          8.1,
          8.1,
          8.1,
          8.1,
          8.1,
          8.1,
          8.1,
          8.1,
          8.1,
          8.1,
          8.1,
          8.1,
          8.1,
          8.1,
          8.1,
          8.1,
          8.1,
          8.1,
          8.1,
          8.1,
          8.1,
          8.1,
          8.1,
          8.1,
          8.1,
          8.1,
          8.1,
          8.1,
          8.1,
          8.1,
          8.1,
          8.1,
          8.1,
          8.1,
          8.0,
          8.0,
          8.0,
          8.0,
          8.0,
          8.0,
          8.0,
          8.0,
          8.0,
          8.0,
          8.0,
          8.0,
          8.0,
          8.0,
          8.0,
          8.0,
          8.0,
          8.0,
          8.0,
          8.0,
          8.0,
          8.0,
          8.0,
          8.0,
          8.0,
          8.0,
          8.0,
          8.0,
          8.0,
          8.0,
          8.0,
          8.0,
          8.0,
          8.0,
          8.0,
          8.0,
          8.0,
          8.0,
          8.0,
          8.0,
          8.0,
          8.0,
          8.0,
          8.0,
          8.0,
          8.0,
          8.0,
          8.0,
          8.0,
          8.0,
          8.0,
          8.0,
          8.0,
          8.0,
          8.0,
          8.0,
          8.0,
          8.0,
          8.0,
          8.0,
          8.0,
          8.0,
          8.0,
          8.0,
          8.0,
          8.0,
          8.0,
          8.0,
          8.0,
          8.0,
          8.0,
          8.0,
          8.0,
          8.0,
          8.0,
          8.0,
          8.0,
          8.0,
          8.0,
          8.0,
          8.0,
          8.0,
          8.0,
          8.0,
          8.0,
          8.0,
          8.0,
          8.0,
          8.0,
          8.0,
          8.0,
          8.0,
          8.0,
          8.0,
          8.0,
          8.0,
          8.0,
          8.0,
          8.0,
          8.0,
          8.0,
          8.0,
          8.0,
          8.0,
          8.0,
          8.0,
          8.0,
          8.0,
          8.0,
          8.0,
          8.0,
          8.0,
          8.0,
          8.0,
          8.0,
          8.0,
          8.0,
          8.0,
          8.0,
          8.0,
          8.0,
          8.0,
          8.0,
          8.0,
          8.0,
          8.0,
          8.0,
          8.0,
          8.0,
          8.0,
          8.0,
          8.0,
          8.0,
          8.0,
          8.0,
          8.0,
          8.0,
          8.0,
          8.0,
          8.0,
          8.0,
          7.9,
          7.9,
          7.9,
          7.9,
          7.9,
          7.9,
          7.9,
          7.9,
          7.9,
          7.9,
          7.9,
          7.9,
          7.9,
          7.9,
          7.9,
          7.9,
          7.9,
          7.9,
          7.9,
          7.9,
          7.9,
          7.9,
          7.9,
          7.9,
          7.9,
          7.9,
          7.9,
          7.9,
          7.9,
          7.9,
          7.9,
          7.9,
          7.9,
          7.9,
          7.9,
          7.9,
          7.9,
          7.9,
          7.9,
          7.9,
          7.9,
          7.9,
          7.9,
          7.9,
          7.9,
          7.9,
          7.9,
          7.9,
          7.9,
          7.9,
          7.9,
          7.9,
          7.9,
          7.9,
          7.9,
          7.9,
          7.9,
          7.9,
          7.9,
          7.9,
          7.9,
          7.9,
          7.9,
          7.9,
          7.9,
          7.9,
          7.9,
          7.9,
          7.9,
          7.9,
          7.9,
          7.9,
          7.9,
          7.9,
          7.9,
          7.9,
          7.9,
          7.9,
          7.9,
          7.9,
          7.9,
          7.9,
          7.9,
          7.9,
          7.9,
          7.9,
          7.9,
          7.9,
          7.9,
          7.9,
          7.9,
          7.9,
          7.9,
          7.9,
          7.9,
          7.9,
          7.9,
          7.9,
          7.9,
          7.9,
          7.9,
          7.9,
          7.9,
          7.9,
          7.9,
          7.9,
          7.8,
          7.8,
          7.8,
          7.8,
          7.8,
          7.8,
          7.8,
          7.8,
          7.8,
          7.8,
          7.8,
          7.8,
          7.8,
          7.8,
          7.8,
          7.8,
          7.8,
          7.8,
          7.8,
          7.8,
          7.8,
          7.8,
          7.8,
          7.8,
          7.8,
          7.8,
          7.8,
          7.8,
          7.8,
          7.8,
          7.8,
          7.8,
          7.8,
          7.8,
          7.8,
          7.8,
          7.8,
          7.8,
          7.8,
          7.8,
          7.8,
          7.8,
          7.8,
          7.8,
          7.8,
          7.8,
          7.8,
          7.8,
          7.8,
          7.8,
          7.8,
          7.8,
          7.8,
          7.8,
          7.8,
          7.8,
          7.8,
          7.8,
          7.8,
          7.8,
          7.8,
          7.8,
          7.8,
          7.8,
          7.8,
          7.8,
          7.8,
          7.8,
          7.8,
          7.8,
          7.8,
          7.8,
          7.8,
          7.8,
          7.8,
          7.8,
          7.8,
          7.8,
          7.8,
          7.8,
          7.8,
          7.8,
          7.8,
          7.8,
          7.8,
          7.8,
          7.8,
          7.8,
          7.8,
          7.8,
          7.8,
          7.8,
          7.8,
          7.8,
          7.8,
          7.8,
          7.8,
          7.8,
          7.8,
          7.8,
          7.8,
          7.8,
          7.8,
          7.8,
          7.8,
          7.8,
          7.8,
          7.8,
          7.8,
          7.8,
          7.8,
          7.8,
          7.8,
          7.8,
          7.8,
          7.8,
          7.8,
          7.8,
          7.8,
          7.8,
          7.8,
          7.8,
          7.8,
          7.8,
          7.8,
          7.8,
          7.8,
          7.8,
          7.8,
          7.8,
          7.8,
          7.8,
          7.8,
          7.8,
          7.8,
          7.8,
          7.8,
          7.8,
          7.8,
          7.8,
          7.8,
          7.8,
          7.8,
          7.8,
          7.8,
          7.8,
          7.8,
          7.8,
          7.8,
          7.8,
          7.8,
          7.7,
          7.7,
          7.7,
          7.7,
          7.7,
          7.7,
          7.7,
          7.7,
          7.7,
          7.7,
          7.7,
          7.7,
          7.7,
          7.7,
          7.7,
          7.7,
          7.7,
          7.7,
          7.7,
          7.7,
          7.7,
          7.7,
          7.7,
          7.7,
          7.7,
          7.7,
          7.7,
          7.7,
          7.7,
          7.7,
          7.7,
          7.7,
          7.7,
          7.7,
          7.7,
          7.7,
          7.7,
          7.7,
          7.7,
          7.7,
          7.7,
          7.7,
          7.7,
          7.7,
          7.7,
          7.7,
          7.7,
          7.7,
          7.7,
          7.7,
          7.7,
          7.7,
          7.7,
          7.7,
          7.7,
          7.7,
          7.7,
          7.7,
          7.7,
          7.7,
          7.7,
          7.7,
          7.7,
          7.7,
          7.7,
          7.7,
          7.7,
          7.7,
          7.7,
          7.7,
          7.7,
          7.7,
          7.7,
          7.7,
          7.7,
          7.7,
          7.7,
          7.7,
          7.7,
          7.7,
          7.7,
          7.7,
          7.7,
          7.7,
          7.7,
          7.7,
          7.7,
          7.7,
          7.7,
          7.7,
          7.7,
          7.7,
          7.7,
          7.7,
          7.7,
          7.7,
          7.7,
          7.7,
          7.7,
          7.7,
          7.7,
          7.7,
          7.7,
          7.7,
          7.7,
          7.7,
          7.7,
          7.7,
          7.7,
          7.7,
          7.7,
          7.7,
          7.7,
          7.7,
          7.7,
          7.7,
          7.7,
          7.7,
          7.7,
          7.7,
          7.7,
          7.7,
          7.7,
          7.7,
          7.7,
          7.7,
          7.7,
          7.7,
          7.7,
          7.7,
          7.7,
          7.7,
          7.7,
          7.7,
          7.7,
          7.7,
          7.7,
          7.7,
          7.7,
          7.7,
          7.7,
          7.7,
          7.7,
          7.7,
          7.7,
          7.7,
          7.7,
          7.7,
          7.7,
          7.7,
          7.7,
          7.7,
          7.7,
          7.7,
          7.7,
          7.7,
          7.7,
          7.6,
          7.6,
          7.6,
          7.6,
          7.6,
          7.6,
          7.6,
          7.6,
          7.6,
          7.6,
          7.6,
          7.6,
          7.6,
          7.6,
          7.6,
          7.6,
          7.6,
          7.6,
          7.6,
          7.6,
          7.6,
          7.6,
          7.6,
          7.6,
          7.6,
          7.6,
          7.6,
          7.6,
          7.6,
          7.6,
          7.6,
          7.6,
          7.6,
          7.6,
          7.6,
          7.6,
          7.6,
          7.6,
          7.6,
          7.6,
          7.6,
          7.6,
          7.6,
          7.6,
          7.6,
          7.6,
          7.6,
          7.6,
          7.6,
          7.6,
          7.6,
          7.6,
          7.6,
          7.6,
          7.6,
          7.6,
          7.6,
          7.6,
          7.6,
          7.6,
          7.6,
          7.6,
          7.6,
          7.6,
          7.6,
          7.6,
          7.6,
          7.6,
          7.6,
          7.6,
          7.6,
          7.6,
          7.6,
          7.6,
          7.6,
          7.6,
          7.6,
          7.6,
          7.6,
          7.6,
          7.6,
          7.6,
          7.6,
          7.6,
          7.6,
          7.6,
          7.6,
          7.6,
          7.6,
          7.6,
          7.6,
          7.6,
          7.6,
          7.6,
          7.6,
          7.6,
          7.6,
          7.6,
          7.6,
          7.6,
          7.6,
          7.6,
          7.6,
          7.6,
          7.6,
          7.6,
          7.6,
          7.6,
          7.6,
          7.6,
          7.6,
          7.6,
          7.6,
          7.6,
          7.6,
          7.6,
          7.6,
          7.6,
          7.6,
          7.6,
          7.6,
          7.6,
          7.6
         ],
         "xaxis": "x",
         "yaxis": "y",
         "type": "histogram"
        }
       ],
       "layout": {
        "template": {
         "data": {
          "histogram2dcontour": [
           {
            "type": "histogram2dcontour",
            "colorbar": {
             "outlinewidth": 0,
             "ticks": ""
            },
            "colorscale": [
             [
              0.0,
              "#0d0887"
             ],
             [
              0.1111111111111111,
              "#46039f"
             ],
             [
              0.2222222222222222,
              "#7201a8"
             ],
             [
              0.3333333333333333,
              "#9c179e"
             ],
             [
              0.4444444444444444,
              "#bd3786"
             ],
             [
              0.5555555555555556,
              "#d8576b"
             ],
             [
              0.6666666666666666,
              "#ed7953"
             ],
             [
              0.7777777777777778,
              "#fb9f3a"
             ],
             [
              0.8888888888888888,
              "#fdca26"
             ],
             [
              1.0,
              "#f0f921"
             ]
            ]
           }
          ],
          "choropleth": [
           {
            "type": "choropleth",
            "colorbar": {
             "outlinewidth": 0,
             "ticks": ""
            }
           }
          ],
          "histogram2d": [
           {
            "type": "histogram2d",
            "colorbar": {
             "outlinewidth": 0,
             "ticks": ""
            },
            "colorscale": [
             [
              0.0,
              "#0d0887"
             ],
             [
              0.1111111111111111,
              "#46039f"
             ],
             [
              0.2222222222222222,
              "#7201a8"
             ],
             [
              0.3333333333333333,
              "#9c179e"
             ],
             [
              0.4444444444444444,
              "#bd3786"
             ],
             [
              0.5555555555555556,
              "#d8576b"
             ],
             [
              0.6666666666666666,
              "#ed7953"
             ],
             [
              0.7777777777777778,
              "#fb9f3a"
             ],
             [
              0.8888888888888888,
              "#fdca26"
             ],
             [
              1.0,
              "#f0f921"
             ]
            ]
           }
          ],
          "heatmap": [
           {
            "type": "heatmap",
            "colorbar": {
             "outlinewidth": 0,
             "ticks": ""
            },
            "colorscale": [
             [
              0.0,
              "#0d0887"
             ],
             [
              0.1111111111111111,
              "#46039f"
             ],
             [
              0.2222222222222222,
              "#7201a8"
             ],
             [
              0.3333333333333333,
              "#9c179e"
             ],
             [
              0.4444444444444444,
              "#bd3786"
             ],
             [
              0.5555555555555556,
              "#d8576b"
             ],
             [
              0.6666666666666666,
              "#ed7953"
             ],
             [
              0.7777777777777778,
              "#fb9f3a"
             ],
             [
              0.8888888888888888,
              "#fdca26"
             ],
             [
              1.0,
              "#f0f921"
             ]
            ]
           }
          ],
          "heatmapgl": [
           {
            "type": "heatmapgl",
            "colorbar": {
             "outlinewidth": 0,
             "ticks": ""
            },
            "colorscale": [
             [
              0.0,
              "#0d0887"
             ],
             [
              0.1111111111111111,
              "#46039f"
             ],
             [
              0.2222222222222222,
              "#7201a8"
             ],
             [
              0.3333333333333333,
              "#9c179e"
             ],
             [
              0.4444444444444444,
              "#bd3786"
             ],
             [
              0.5555555555555556,
              "#d8576b"
             ],
             [
              0.6666666666666666,
              "#ed7953"
             ],
             [
              0.7777777777777778,
              "#fb9f3a"
             ],
             [
              0.8888888888888888,
              "#fdca26"
             ],
             [
              1.0,
              "#f0f921"
             ]
            ]
           }
          ],
          "contourcarpet": [
           {
            "type": "contourcarpet",
            "colorbar": {
             "outlinewidth": 0,
             "ticks": ""
            }
           }
          ],
          "contour": [
           {
            "type": "contour",
            "colorbar": {
             "outlinewidth": 0,
             "ticks": ""
            },
            "colorscale": [
             [
              0.0,
              "#0d0887"
             ],
             [
              0.1111111111111111,
              "#46039f"
             ],
             [
              0.2222222222222222,
              "#7201a8"
             ],
             [
              0.3333333333333333,
              "#9c179e"
             ],
             [
              0.4444444444444444,
              "#bd3786"
             ],
             [
              0.5555555555555556,
              "#d8576b"
             ],
             [
              0.6666666666666666,
              "#ed7953"
             ],
             [
              0.7777777777777778,
              "#fb9f3a"
             ],
             [
              0.8888888888888888,
              "#fdca26"
             ],
             [
              1.0,
              "#f0f921"
             ]
            ]
           }
          ],
          "surface": [
           {
            "type": "surface",
            "colorbar": {
             "outlinewidth": 0,
             "ticks": ""
            },
            "colorscale": [
             [
              0.0,
              "#0d0887"
             ],
             [
              0.1111111111111111,
              "#46039f"
             ],
             [
              0.2222222222222222,
              "#7201a8"
             ],
             [
              0.3333333333333333,
              "#9c179e"
             ],
             [
              0.4444444444444444,
              "#bd3786"
             ],
             [
              0.5555555555555556,
              "#d8576b"
             ],
             [
              0.6666666666666666,
              "#ed7953"
             ],
             [
              0.7777777777777778,
              "#fb9f3a"
             ],
             [
              0.8888888888888888,
              "#fdca26"
             ],
             [
              1.0,
              "#f0f921"
             ]
            ]
           }
          ],
          "mesh3d": [
           {
            "type": "mesh3d",
            "colorbar": {
             "outlinewidth": 0,
             "ticks": ""
            }
           }
          ],
          "scatter": [
           {
            "marker": {
             "line": {
              "color": "#283442"
             }
            },
            "type": "scatter"
           }
          ],
          "parcoords": [
           {
            "type": "parcoords",
            "line": {
             "colorbar": {
              "outlinewidth": 0,
              "ticks": ""
             }
            }
           }
          ],
          "scatterpolargl": [
           {
            "type": "scatterpolargl",
            "marker": {
             "colorbar": {
              "outlinewidth": 0,
              "ticks": ""
             }
            }
           }
          ],
          "bar": [
           {
            "error_x": {
             "color": "#f2f5fa"
            },
            "error_y": {
             "color": "#f2f5fa"
            },
            "marker": {
             "line": {
              "color": "rgb(17,17,17)",
              "width": 0.5
             },
             "pattern": {
              "fillmode": "overlay",
              "size": 10,
              "solidity": 0.2
             }
            },
            "type": "bar"
           }
          ],
          "scattergeo": [
           {
            "type": "scattergeo",
            "marker": {
             "colorbar": {
              "outlinewidth": 0,
              "ticks": ""
             }
            }
           }
          ],
          "scatterpolar": [
           {
            "type": "scatterpolar",
            "marker": {
             "colorbar": {
              "outlinewidth": 0,
              "ticks": ""
             }
            }
           }
          ],
          "histogram": [
           {
            "marker": {
             "pattern": {
              "fillmode": "overlay",
              "size": 10,
              "solidity": 0.2
             }
            },
            "type": "histogram"
           }
          ],
          "scattergl": [
           {
            "marker": {
             "line": {
              "color": "#283442"
             }
            },
            "type": "scattergl"
           }
          ],
          "scatter3d": [
           {
            "type": "scatter3d",
            "line": {
             "colorbar": {
              "outlinewidth": 0,
              "ticks": ""
             }
            },
            "marker": {
             "colorbar": {
              "outlinewidth": 0,
              "ticks": ""
             }
            }
           }
          ],
          "scattermapbox": [
           {
            "type": "scattermapbox",
            "marker": {
             "colorbar": {
              "outlinewidth": 0,
              "ticks": ""
             }
            }
           }
          ],
          "scatterternary": [
           {
            "type": "scatterternary",
            "marker": {
             "colorbar": {
              "outlinewidth": 0,
              "ticks": ""
             }
            }
           }
          ],
          "scattercarpet": [
           {
            "type": "scattercarpet",
            "marker": {
             "colorbar": {
              "outlinewidth": 0,
              "ticks": ""
             }
            }
           }
          ],
          "carpet": [
           {
            "aaxis": {
             "endlinecolor": "#A2B1C6",
             "gridcolor": "#506784",
             "linecolor": "#506784",
             "minorgridcolor": "#506784",
             "startlinecolor": "#A2B1C6"
            },
            "baxis": {
             "endlinecolor": "#A2B1C6",
             "gridcolor": "#506784",
             "linecolor": "#506784",
             "minorgridcolor": "#506784",
             "startlinecolor": "#A2B1C6"
            },
            "type": "carpet"
           }
          ],
          "table": [
           {
            "cells": {
             "fill": {
              "color": "#506784"
             },
             "line": {
              "color": "rgb(17,17,17)"
             }
            },
            "header": {
             "fill": {
              "color": "#2a3f5f"
             },
             "line": {
              "color": "rgb(17,17,17)"
             }
            },
            "type": "table"
           }
          ],
          "barpolar": [
           {
            "marker": {
             "line": {
              "color": "rgb(17,17,17)",
              "width": 0.5
             },
             "pattern": {
              "fillmode": "overlay",
              "size": 10,
              "solidity": 0.2
             }
            },
            "type": "barpolar"
           }
          ],
          "pie": [
           {
            "automargin": true,
            "type": "pie"
           }
          ]
         },
         "layout": {
          "autotypenumbers": "strict",
          "colorway": [
           "#636efa",
           "#EF553B",
           "#00cc96",
           "#ab63fa",
           "#FFA15A",
           "#19d3f3",
           "#FF6692",
           "#B6E880",
           "#FF97FF",
           "#FECB52"
          ],
          "font": {
           "color": "#f2f5fa"
          },
          "hovermode": "closest",
          "hoverlabel": {
           "align": "left"
          },
          "paper_bgcolor": "rgb(17,17,17)",
          "plot_bgcolor": "rgb(17,17,17)",
          "polar": {
           "bgcolor": "rgb(17,17,17)",
           "angularaxis": {
            "gridcolor": "#506784",
            "linecolor": "#506784",
            "ticks": ""
           },
           "radialaxis": {
            "gridcolor": "#506784",
            "linecolor": "#506784",
            "ticks": ""
           }
          },
          "ternary": {
           "bgcolor": "rgb(17,17,17)",
           "aaxis": {
            "gridcolor": "#506784",
            "linecolor": "#506784",
            "ticks": ""
           },
           "baxis": {
            "gridcolor": "#506784",
            "linecolor": "#506784",
            "ticks": ""
           },
           "caxis": {
            "gridcolor": "#506784",
            "linecolor": "#506784",
            "ticks": ""
           }
          },
          "coloraxis": {
           "colorbar": {
            "outlinewidth": 0,
            "ticks": ""
           }
          },
          "colorscale": {
           "sequential": [
            [
             0.0,
             "#0d0887"
            ],
            [
             0.1111111111111111,
             "#46039f"
            ],
            [
             0.2222222222222222,
             "#7201a8"
            ],
            [
             0.3333333333333333,
             "#9c179e"
            ],
            [
             0.4444444444444444,
             "#bd3786"
            ],
            [
             0.5555555555555556,
             "#d8576b"
            ],
            [
             0.6666666666666666,
             "#ed7953"
            ],
            [
             0.7777777777777778,
             "#fb9f3a"
            ],
            [
             0.8888888888888888,
             "#fdca26"
            ],
            [
             1.0,
             "#f0f921"
            ]
           ],
           "sequentialminus": [
            [
             0.0,
             "#0d0887"
            ],
            [
             0.1111111111111111,
             "#46039f"
            ],
            [
             0.2222222222222222,
             "#7201a8"
            ],
            [
             0.3333333333333333,
             "#9c179e"
            ],
            [
             0.4444444444444444,
             "#bd3786"
            ],
            [
             0.5555555555555556,
             "#d8576b"
            ],
            [
             0.6666666666666666,
             "#ed7953"
            ],
            [
             0.7777777777777778,
             "#fb9f3a"
            ],
            [
             0.8888888888888888,
             "#fdca26"
            ],
            [
             1.0,
             "#f0f921"
            ]
           ],
           "diverging": [
            [
             0,
             "#8e0152"
            ],
            [
             0.1,
             "#c51b7d"
            ],
            [
             0.2,
             "#de77ae"
            ],
            [
             0.3,
             "#f1b6da"
            ],
            [
             0.4,
             "#fde0ef"
            ],
            [
             0.5,
             "#f7f7f7"
            ],
            [
             0.6,
             "#e6f5d0"
            ],
            [
             0.7,
             "#b8e186"
            ],
            [
             0.8,
             "#7fbc41"
            ],
            [
             0.9,
             "#4d9221"
            ],
            [
             1,
             "#276419"
            ]
           ]
          },
          "xaxis": {
           "gridcolor": "#283442",
           "linecolor": "#506784",
           "ticks": "",
           "title": {
            "standoff": 15
           },
           "zerolinecolor": "#283442",
           "automargin": true,
           "zerolinewidth": 2
          },
          "yaxis": {
           "gridcolor": "#283442",
           "linecolor": "#506784",
           "ticks": "",
           "title": {
            "standoff": 15
           },
           "zerolinecolor": "#283442",
           "automargin": true,
           "zerolinewidth": 2
          },
          "scene": {
           "xaxis": {
            "backgroundcolor": "rgb(17,17,17)",
            "gridcolor": "#506784",
            "linecolor": "#506784",
            "showbackground": true,
            "ticks": "",
            "zerolinecolor": "#C8D4E3",
            "gridwidth": 2
           },
           "yaxis": {
            "backgroundcolor": "rgb(17,17,17)",
            "gridcolor": "#506784",
            "linecolor": "#506784",
            "showbackground": true,
            "ticks": "",
            "zerolinecolor": "#C8D4E3",
            "gridwidth": 2
           },
           "zaxis": {
            "backgroundcolor": "rgb(17,17,17)",
            "gridcolor": "#506784",
            "linecolor": "#506784",
            "showbackground": true,
            "ticks": "",
            "zerolinecolor": "#C8D4E3",
            "gridwidth": 2
           }
          },
          "shapedefaults": {
           "line": {
            "color": "#f2f5fa"
           }
          },
          "annotationdefaults": {
           "arrowcolor": "#f2f5fa",
           "arrowhead": 0,
           "arrowwidth": 1
          },
          "geo": {
           "bgcolor": "rgb(17,17,17)",
           "landcolor": "rgb(17,17,17)",
           "subunitcolor": "#506784",
           "showland": true,
           "showlakes": true,
           "lakecolor": "rgb(17,17,17)"
          },
          "title": {
           "x": 0.05
          },
          "updatemenudefaults": {
           "bgcolor": "#506784",
           "borderwidth": 0
          },
          "sliderdefaults": {
           "bgcolor": "#C8D4E3",
           "borderwidth": 1,
           "bordercolor": "rgb(17,17,17)",
           "tickwidth": 0
          },
          "mapbox": {
           "style": "dark"
          }
         }
        },
        "xaxis": {
         "anchor": "y",
         "domain": [
          0.0,
          1.0
         ],
         "title": {
          "text": "IMDB_Rating"
         }
        },
        "yaxis": {
         "anchor": "x",
         "domain": [
          0.0,
          1.0
         ],
         "title": {
          "text": "count"
         }
        },
        "legend": {
         "tracegroupgap": 0
        },
        "title": {
         "text": "Distribution of IMDB Ratings"
        },
        "barmode": "relative"
       },
       "config": {
        "plotlyServerURL": "https://plot.ly"
       }
      },
      "text/html": [
       "<div>                            <div id=\"fd3a04d1-e8fc-47f4-978b-0b0e1e27ee8e\" class=\"plotly-graph-div\" style=\"height:525px; width:100%;\"></div>            <script type=\"text/javascript\">                require([\"plotly\"], function(Plotly) {                    window.PLOTLYENV=window.PLOTLYENV || {};                                    if (document.getElementById(\"fd3a04d1-e8fc-47f4-978b-0b0e1e27ee8e\")) {                    Plotly.newPlot(                        \"fd3a04d1-e8fc-47f4-978b-0b0e1e27ee8e\",                        [{\"alignmentgroup\":\"True\",\"bingroup\":\"x\",\"hovertemplate\":\"IMDB_Rating=%{x}\\u003cbr\\u003ecount=%{y}\\u003cextra\\u003e\\u003c\\u002fextra\\u003e\",\"legendgroup\":\"\",\"marker\":{\"color\":\"#636efa\",\"pattern\":{\"shape\":\"\"}},\"name\":\"\",\"nbinsx\":20,\"offsetgroup\":\"\",\"orientation\":\"v\",\"showlegend\":false,\"x\":[9.3,9.2,9.0,9.0,9.0,8.9,8.9,8.9,8.8,8.8,8.8,8.8,8.8,8.7,8.7,8.7,8.7,8.7,8.6,8.6,8.6,8.6,8.6,8.6,8.6,8.6,8.6,8.6,8.6,8.6,8.6,8.6,8.6,8.5,8.5,8.5,8.5,8.5,8.5,8.5,8.5,8.5,8.5,8.5,8.5,8.5,8.5,8.5,8.5,8.5,8.5,8.5,8.5,8.4,8.4,8.4,8.4,8.4,8.4,8.4,8.4,8.4,8.4,8.4,8.4,8.4,8.4,8.4,8.4,8.4,8.4,8.4,8.4,8.4,8.4,8.4,8.4,8.4,8.4,8.4,8.4,8.4,8.4,8.4,8.3,8.3,8.3,8.3,8.3,8.3,8.3,8.3,8.3,8.3,8.3,8.3,8.3,8.3,8.3,8.3,8.3,8.3,8.3,8.3,8.3,8.3,8.3,8.3,8.3,8.3,8.3,8.3,8.3,8.3,8.3,8.3,8.3,8.3,8.3,8.3,8.3,8.3,8.3,8.3,8.3,8.3,8.3,8.3,8.2,8.2,8.2,8.2,8.2,8.2,8.2,8.2,8.2,8.2,8.2,8.2,8.2,8.2,8.2,8.2,8.2,8.2,8.2,8.2,8.2,8.2,8.2,8.2,8.2,8.2,8.2,8.2,8.2,8.2,8.2,8.2,8.2,8.2,8.2,8.2,8.2,8.2,8.2,8.2,8.2,8.2,8.2,8.2,8.2,8.2,8.2,8.2,8.2,8.2,8.2,8.2,8.2,8.2,8.2,8.2,8.2,8.2,8.2,8.2,8.2,8.2,8.2,8.2,8.2,8.2,8.2,8.1,8.1,8.1,8.1,8.1,8.1,8.1,8.1,8.1,8.1,8.1,8.1,8.1,8.1,8.1,8.1,8.1,8.1,8.1,8.1,8.1,8.1,8.1,8.1,8.1,8.1,8.1,8.1,8.1,8.1,8.1,8.1,8.1,8.1,8.1,8.1,8.1,8.1,8.1,8.1,8.1,8.1,8.1,8.1,8.1,8.1,8.1,8.1,8.1,8.1,8.1,8.1,8.1,8.1,8.1,8.1,8.1,8.1,8.1,8.1,8.1,8.1,8.1,8.1,8.1,8.1,8.1,8.1,8.1,8.1,8.1,8.1,8.1,8.1,8.1,8.1,8.1,8.1,8.1,8.1,8.1,8.1,8.1,8.1,8.1,8.1,8.1,8.1,8.1,8.1,8.1,8.1,8.1,8.1,8.1,8.1,8.1,8.1,8.1,8.1,8.1,8.1,8.1,8.1,8.1,8.1,8.1,8.1,8.1,8.1,8.1,8.1,8.1,8.1,8.1,8.1,8.1,8.1,8.1,8.1,8.1,8.1,8.1,8.1,8.1,8.1,8.1,8.0,8.0,8.0,8.0,8.0,8.0,8.0,8.0,8.0,8.0,8.0,8.0,8.0,8.0,8.0,8.0,8.0,8.0,8.0,8.0,8.0,8.0,8.0,8.0,8.0,8.0,8.0,8.0,8.0,8.0,8.0,8.0,8.0,8.0,8.0,8.0,8.0,8.0,8.0,8.0,8.0,8.0,8.0,8.0,8.0,8.0,8.0,8.0,8.0,8.0,8.0,8.0,8.0,8.0,8.0,8.0,8.0,8.0,8.0,8.0,8.0,8.0,8.0,8.0,8.0,8.0,8.0,8.0,8.0,8.0,8.0,8.0,8.0,8.0,8.0,8.0,8.0,8.0,8.0,8.0,8.0,8.0,8.0,8.0,8.0,8.0,8.0,8.0,8.0,8.0,8.0,8.0,8.0,8.0,8.0,8.0,8.0,8.0,8.0,8.0,8.0,8.0,8.0,8.0,8.0,8.0,8.0,8.0,8.0,8.0,8.0,8.0,8.0,8.0,8.0,8.0,8.0,8.0,8.0,8.0,8.0,8.0,8.0,8.0,8.0,8.0,8.0,8.0,8.0,8.0,8.0,8.0,8.0,8.0,8.0,8.0,8.0,8.0,8.0,8.0,8.0,7.9,7.9,7.9,7.9,7.9,7.9,7.9,7.9,7.9,7.9,7.9,7.9,7.9,7.9,7.9,7.9,7.9,7.9,7.9,7.9,7.9,7.9,7.9,7.9,7.9,7.9,7.9,7.9,7.9,7.9,7.9,7.9,7.9,7.9,7.9,7.9,7.9,7.9,7.9,7.9,7.9,7.9,7.9,7.9,7.9,7.9,7.9,7.9,7.9,7.9,7.9,7.9,7.9,7.9,7.9,7.9,7.9,7.9,7.9,7.9,7.9,7.9,7.9,7.9,7.9,7.9,7.9,7.9,7.9,7.9,7.9,7.9,7.9,7.9,7.9,7.9,7.9,7.9,7.9,7.9,7.9,7.9,7.9,7.9,7.9,7.9,7.9,7.9,7.9,7.9,7.9,7.9,7.9,7.9,7.9,7.9,7.9,7.9,7.9,7.9,7.9,7.9,7.9,7.9,7.9,7.9,7.8,7.8,7.8,7.8,7.8,7.8,7.8,7.8,7.8,7.8,7.8,7.8,7.8,7.8,7.8,7.8,7.8,7.8,7.8,7.8,7.8,7.8,7.8,7.8,7.8,7.8,7.8,7.8,7.8,7.8,7.8,7.8,7.8,7.8,7.8,7.8,7.8,7.8,7.8,7.8,7.8,7.8,7.8,7.8,7.8,7.8,7.8,7.8,7.8,7.8,7.8,7.8,7.8,7.8,7.8,7.8,7.8,7.8,7.8,7.8,7.8,7.8,7.8,7.8,7.8,7.8,7.8,7.8,7.8,7.8,7.8,7.8,7.8,7.8,7.8,7.8,7.8,7.8,7.8,7.8,7.8,7.8,7.8,7.8,7.8,7.8,7.8,7.8,7.8,7.8,7.8,7.8,7.8,7.8,7.8,7.8,7.8,7.8,7.8,7.8,7.8,7.8,7.8,7.8,7.8,7.8,7.8,7.8,7.8,7.8,7.8,7.8,7.8,7.8,7.8,7.8,7.8,7.8,7.8,7.8,7.8,7.8,7.8,7.8,7.8,7.8,7.8,7.8,7.8,7.8,7.8,7.8,7.8,7.8,7.8,7.8,7.8,7.8,7.8,7.8,7.8,7.8,7.8,7.8,7.8,7.8,7.8,7.8,7.8,7.8,7.8,7.7,7.7,7.7,7.7,7.7,7.7,7.7,7.7,7.7,7.7,7.7,7.7,7.7,7.7,7.7,7.7,7.7,7.7,7.7,7.7,7.7,7.7,7.7,7.7,7.7,7.7,7.7,7.7,7.7,7.7,7.7,7.7,7.7,7.7,7.7,7.7,7.7,7.7,7.7,7.7,7.7,7.7,7.7,7.7,7.7,7.7,7.7,7.7,7.7,7.7,7.7,7.7,7.7,7.7,7.7,7.7,7.7,7.7,7.7,7.7,7.7,7.7,7.7,7.7,7.7,7.7,7.7,7.7,7.7,7.7,7.7,7.7,7.7,7.7,7.7,7.7,7.7,7.7,7.7,7.7,7.7,7.7,7.7,7.7,7.7,7.7,7.7,7.7,7.7,7.7,7.7,7.7,7.7,7.7,7.7,7.7,7.7,7.7,7.7,7.7,7.7,7.7,7.7,7.7,7.7,7.7,7.7,7.7,7.7,7.7,7.7,7.7,7.7,7.7,7.7,7.7,7.7,7.7,7.7,7.7,7.7,7.7,7.7,7.7,7.7,7.7,7.7,7.7,7.7,7.7,7.7,7.7,7.7,7.7,7.7,7.7,7.7,7.7,7.7,7.7,7.7,7.7,7.7,7.7,7.7,7.7,7.7,7.7,7.7,7.7,7.7,7.7,7.7,7.7,7.7,7.7,7.7,7.6,7.6,7.6,7.6,7.6,7.6,7.6,7.6,7.6,7.6,7.6,7.6,7.6,7.6,7.6,7.6,7.6,7.6,7.6,7.6,7.6,7.6,7.6,7.6,7.6,7.6,7.6,7.6,7.6,7.6,7.6,7.6,7.6,7.6,7.6,7.6,7.6,7.6,7.6,7.6,7.6,7.6,7.6,7.6,7.6,7.6,7.6,7.6,7.6,7.6,7.6,7.6,7.6,7.6,7.6,7.6,7.6,7.6,7.6,7.6,7.6,7.6,7.6,7.6,7.6,7.6,7.6,7.6,7.6,7.6,7.6,7.6,7.6,7.6,7.6,7.6,7.6,7.6,7.6,7.6,7.6,7.6,7.6,7.6,7.6,7.6,7.6,7.6,7.6,7.6,7.6,7.6,7.6,7.6,7.6,7.6,7.6,7.6,7.6,7.6,7.6,7.6,7.6,7.6,7.6,7.6,7.6,7.6,7.6,7.6,7.6,7.6,7.6,7.6,7.6,7.6,7.6,7.6,7.6,7.6,7.6,7.6,7.6],\"xaxis\":\"x\",\"yaxis\":\"y\",\"type\":\"histogram\"}],                        {\"template\":{\"data\":{\"histogram2dcontour\":[{\"type\":\"histogram2dcontour\",\"colorbar\":{\"outlinewidth\":0,\"ticks\":\"\"},\"colorscale\":[[0.0,\"#0d0887\"],[0.1111111111111111,\"#46039f\"],[0.2222222222222222,\"#7201a8\"],[0.3333333333333333,\"#9c179e\"],[0.4444444444444444,\"#bd3786\"],[0.5555555555555556,\"#d8576b\"],[0.6666666666666666,\"#ed7953\"],[0.7777777777777778,\"#fb9f3a\"],[0.8888888888888888,\"#fdca26\"],[1.0,\"#f0f921\"]]}],\"choropleth\":[{\"type\":\"choropleth\",\"colorbar\":{\"outlinewidth\":0,\"ticks\":\"\"}}],\"histogram2d\":[{\"type\":\"histogram2d\",\"colorbar\":{\"outlinewidth\":0,\"ticks\":\"\"},\"colorscale\":[[0.0,\"#0d0887\"],[0.1111111111111111,\"#46039f\"],[0.2222222222222222,\"#7201a8\"],[0.3333333333333333,\"#9c179e\"],[0.4444444444444444,\"#bd3786\"],[0.5555555555555556,\"#d8576b\"],[0.6666666666666666,\"#ed7953\"],[0.7777777777777778,\"#fb9f3a\"],[0.8888888888888888,\"#fdca26\"],[1.0,\"#f0f921\"]]}],\"heatmap\":[{\"type\":\"heatmap\",\"colorbar\":{\"outlinewidth\":0,\"ticks\":\"\"},\"colorscale\":[[0.0,\"#0d0887\"],[0.1111111111111111,\"#46039f\"],[0.2222222222222222,\"#7201a8\"],[0.3333333333333333,\"#9c179e\"],[0.4444444444444444,\"#bd3786\"],[0.5555555555555556,\"#d8576b\"],[0.6666666666666666,\"#ed7953\"],[0.7777777777777778,\"#fb9f3a\"],[0.8888888888888888,\"#fdca26\"],[1.0,\"#f0f921\"]]}],\"heatmapgl\":[{\"type\":\"heatmapgl\",\"colorbar\":{\"outlinewidth\":0,\"ticks\":\"\"},\"colorscale\":[[0.0,\"#0d0887\"],[0.1111111111111111,\"#46039f\"],[0.2222222222222222,\"#7201a8\"],[0.3333333333333333,\"#9c179e\"],[0.4444444444444444,\"#bd3786\"],[0.5555555555555556,\"#d8576b\"],[0.6666666666666666,\"#ed7953\"],[0.7777777777777778,\"#fb9f3a\"],[0.8888888888888888,\"#fdca26\"],[1.0,\"#f0f921\"]]}],\"contourcarpet\":[{\"type\":\"contourcarpet\",\"colorbar\":{\"outlinewidth\":0,\"ticks\":\"\"}}],\"contour\":[{\"type\":\"contour\",\"colorbar\":{\"outlinewidth\":0,\"ticks\":\"\"},\"colorscale\":[[0.0,\"#0d0887\"],[0.1111111111111111,\"#46039f\"],[0.2222222222222222,\"#7201a8\"],[0.3333333333333333,\"#9c179e\"],[0.4444444444444444,\"#bd3786\"],[0.5555555555555556,\"#d8576b\"],[0.6666666666666666,\"#ed7953\"],[0.7777777777777778,\"#fb9f3a\"],[0.8888888888888888,\"#fdca26\"],[1.0,\"#f0f921\"]]}],\"surface\":[{\"type\":\"surface\",\"colorbar\":{\"outlinewidth\":0,\"ticks\":\"\"},\"colorscale\":[[0.0,\"#0d0887\"],[0.1111111111111111,\"#46039f\"],[0.2222222222222222,\"#7201a8\"],[0.3333333333333333,\"#9c179e\"],[0.4444444444444444,\"#bd3786\"],[0.5555555555555556,\"#d8576b\"],[0.6666666666666666,\"#ed7953\"],[0.7777777777777778,\"#fb9f3a\"],[0.8888888888888888,\"#fdca26\"],[1.0,\"#f0f921\"]]}],\"mesh3d\":[{\"type\":\"mesh3d\",\"colorbar\":{\"outlinewidth\":0,\"ticks\":\"\"}}],\"scatter\":[{\"marker\":{\"line\":{\"color\":\"#283442\"}},\"type\":\"scatter\"}],\"parcoords\":[{\"type\":\"parcoords\",\"line\":{\"colorbar\":{\"outlinewidth\":0,\"ticks\":\"\"}}}],\"scatterpolargl\":[{\"type\":\"scatterpolargl\",\"marker\":{\"colorbar\":{\"outlinewidth\":0,\"ticks\":\"\"}}}],\"bar\":[{\"error_x\":{\"color\":\"#f2f5fa\"},\"error_y\":{\"color\":\"#f2f5fa\"},\"marker\":{\"line\":{\"color\":\"rgb(17,17,17)\",\"width\":0.5},\"pattern\":{\"fillmode\":\"overlay\",\"size\":10,\"solidity\":0.2}},\"type\":\"bar\"}],\"scattergeo\":[{\"type\":\"scattergeo\",\"marker\":{\"colorbar\":{\"outlinewidth\":0,\"ticks\":\"\"}}}],\"scatterpolar\":[{\"type\":\"scatterpolar\",\"marker\":{\"colorbar\":{\"outlinewidth\":0,\"ticks\":\"\"}}}],\"histogram\":[{\"marker\":{\"pattern\":{\"fillmode\":\"overlay\",\"size\":10,\"solidity\":0.2}},\"type\":\"histogram\"}],\"scattergl\":[{\"marker\":{\"line\":{\"color\":\"#283442\"}},\"type\":\"scattergl\"}],\"scatter3d\":[{\"type\":\"scatter3d\",\"line\":{\"colorbar\":{\"outlinewidth\":0,\"ticks\":\"\"}},\"marker\":{\"colorbar\":{\"outlinewidth\":0,\"ticks\":\"\"}}}],\"scattermapbox\":[{\"type\":\"scattermapbox\",\"marker\":{\"colorbar\":{\"outlinewidth\":0,\"ticks\":\"\"}}}],\"scatterternary\":[{\"type\":\"scatterternary\",\"marker\":{\"colorbar\":{\"outlinewidth\":0,\"ticks\":\"\"}}}],\"scattercarpet\":[{\"type\":\"scattercarpet\",\"marker\":{\"colorbar\":{\"outlinewidth\":0,\"ticks\":\"\"}}}],\"carpet\":[{\"aaxis\":{\"endlinecolor\":\"#A2B1C6\",\"gridcolor\":\"#506784\",\"linecolor\":\"#506784\",\"minorgridcolor\":\"#506784\",\"startlinecolor\":\"#A2B1C6\"},\"baxis\":{\"endlinecolor\":\"#A2B1C6\",\"gridcolor\":\"#506784\",\"linecolor\":\"#506784\",\"minorgridcolor\":\"#506784\",\"startlinecolor\":\"#A2B1C6\"},\"type\":\"carpet\"}],\"table\":[{\"cells\":{\"fill\":{\"color\":\"#506784\"},\"line\":{\"color\":\"rgb(17,17,17)\"}},\"header\":{\"fill\":{\"color\":\"#2a3f5f\"},\"line\":{\"color\":\"rgb(17,17,17)\"}},\"type\":\"table\"}],\"barpolar\":[{\"marker\":{\"line\":{\"color\":\"rgb(17,17,17)\",\"width\":0.5},\"pattern\":{\"fillmode\":\"overlay\",\"size\":10,\"solidity\":0.2}},\"type\":\"barpolar\"}],\"pie\":[{\"automargin\":true,\"type\":\"pie\"}]},\"layout\":{\"autotypenumbers\":\"strict\",\"colorway\":[\"#636efa\",\"#EF553B\",\"#00cc96\",\"#ab63fa\",\"#FFA15A\",\"#19d3f3\",\"#FF6692\",\"#B6E880\",\"#FF97FF\",\"#FECB52\"],\"font\":{\"color\":\"#f2f5fa\"},\"hovermode\":\"closest\",\"hoverlabel\":{\"align\":\"left\"},\"paper_bgcolor\":\"rgb(17,17,17)\",\"plot_bgcolor\":\"rgb(17,17,17)\",\"polar\":{\"bgcolor\":\"rgb(17,17,17)\",\"angularaxis\":{\"gridcolor\":\"#506784\",\"linecolor\":\"#506784\",\"ticks\":\"\"},\"radialaxis\":{\"gridcolor\":\"#506784\",\"linecolor\":\"#506784\",\"ticks\":\"\"}},\"ternary\":{\"bgcolor\":\"rgb(17,17,17)\",\"aaxis\":{\"gridcolor\":\"#506784\",\"linecolor\":\"#506784\",\"ticks\":\"\"},\"baxis\":{\"gridcolor\":\"#506784\",\"linecolor\":\"#506784\",\"ticks\":\"\"},\"caxis\":{\"gridcolor\":\"#506784\",\"linecolor\":\"#506784\",\"ticks\":\"\"}},\"coloraxis\":{\"colorbar\":{\"outlinewidth\":0,\"ticks\":\"\"}},\"colorscale\":{\"sequential\":[[0.0,\"#0d0887\"],[0.1111111111111111,\"#46039f\"],[0.2222222222222222,\"#7201a8\"],[0.3333333333333333,\"#9c179e\"],[0.4444444444444444,\"#bd3786\"],[0.5555555555555556,\"#d8576b\"],[0.6666666666666666,\"#ed7953\"],[0.7777777777777778,\"#fb9f3a\"],[0.8888888888888888,\"#fdca26\"],[1.0,\"#f0f921\"]],\"sequentialminus\":[[0.0,\"#0d0887\"],[0.1111111111111111,\"#46039f\"],[0.2222222222222222,\"#7201a8\"],[0.3333333333333333,\"#9c179e\"],[0.4444444444444444,\"#bd3786\"],[0.5555555555555556,\"#d8576b\"],[0.6666666666666666,\"#ed7953\"],[0.7777777777777778,\"#fb9f3a\"],[0.8888888888888888,\"#fdca26\"],[1.0,\"#f0f921\"]],\"diverging\":[[0,\"#8e0152\"],[0.1,\"#c51b7d\"],[0.2,\"#de77ae\"],[0.3,\"#f1b6da\"],[0.4,\"#fde0ef\"],[0.5,\"#f7f7f7\"],[0.6,\"#e6f5d0\"],[0.7,\"#b8e186\"],[0.8,\"#7fbc41\"],[0.9,\"#4d9221\"],[1,\"#276419\"]]},\"xaxis\":{\"gridcolor\":\"#283442\",\"linecolor\":\"#506784\",\"ticks\":\"\",\"title\":{\"standoff\":15},\"zerolinecolor\":\"#283442\",\"automargin\":true,\"zerolinewidth\":2},\"yaxis\":{\"gridcolor\":\"#283442\",\"linecolor\":\"#506784\",\"ticks\":\"\",\"title\":{\"standoff\":15},\"zerolinecolor\":\"#283442\",\"automargin\":true,\"zerolinewidth\":2},\"scene\":{\"xaxis\":{\"backgroundcolor\":\"rgb(17,17,17)\",\"gridcolor\":\"#506784\",\"linecolor\":\"#506784\",\"showbackground\":true,\"ticks\":\"\",\"zerolinecolor\":\"#C8D4E3\",\"gridwidth\":2},\"yaxis\":{\"backgroundcolor\":\"rgb(17,17,17)\",\"gridcolor\":\"#506784\",\"linecolor\":\"#506784\",\"showbackground\":true,\"ticks\":\"\",\"zerolinecolor\":\"#C8D4E3\",\"gridwidth\":2},\"zaxis\":{\"backgroundcolor\":\"rgb(17,17,17)\",\"gridcolor\":\"#506784\",\"linecolor\":\"#506784\",\"showbackground\":true,\"ticks\":\"\",\"zerolinecolor\":\"#C8D4E3\",\"gridwidth\":2}},\"shapedefaults\":{\"line\":{\"color\":\"#f2f5fa\"}},\"annotationdefaults\":{\"arrowcolor\":\"#f2f5fa\",\"arrowhead\":0,\"arrowwidth\":1},\"geo\":{\"bgcolor\":\"rgb(17,17,17)\",\"landcolor\":\"rgb(17,17,17)\",\"subunitcolor\":\"#506784\",\"showland\":true,\"showlakes\":true,\"lakecolor\":\"rgb(17,17,17)\"},\"title\":{\"x\":0.05},\"updatemenudefaults\":{\"bgcolor\":\"#506784\",\"borderwidth\":0},\"sliderdefaults\":{\"bgcolor\":\"#C8D4E3\",\"borderwidth\":1,\"bordercolor\":\"rgb(17,17,17)\",\"tickwidth\":0},\"mapbox\":{\"style\":\"dark\"}}},\"xaxis\":{\"anchor\":\"y\",\"domain\":[0.0,1.0],\"title\":{\"text\":\"IMDB_Rating\"}},\"yaxis\":{\"anchor\":\"x\",\"domain\":[0.0,1.0],\"title\":{\"text\":\"count\"}},\"legend\":{\"tracegroupgap\":0},\"title\":{\"text\":\"Distribution of IMDB Ratings\"},\"barmode\":\"relative\"},                        {\"responsive\": true}                    ).then(function(){\n",
       "                            \n",
       "var gd = document.getElementById('fd3a04d1-e8fc-47f4-978b-0b0e1e27ee8e');\n",
       "var x = new MutationObserver(function (mutations, observer) {{\n",
       "        var display = window.getComputedStyle(gd).display;\n",
       "        if (!display || display === 'none') {{\n",
       "            console.log([gd, 'removed!']);\n",
       "            Plotly.purge(gd);\n",
       "            observer.disconnect();\n",
       "        }}\n",
       "}});\n",
       "\n",
       "// Listen for the removal of the full notebook cells\n",
       "var notebookContainer = gd.closest('#notebook-container');\n",
       "if (notebookContainer) {{\n",
       "    x.observe(notebookContainer, {childList: true});\n",
       "}}\n",
       "\n",
       "// Listen for the clearing of the current output cell\n",
       "var outputEl = gd.closest('.output');\n",
       "if (outputEl) {{\n",
       "    x.observe(outputEl, {childList: true});\n",
       "}}\n",
       "\n",
       "                        })                };                });            </script>        </div>"
      ]
     },
     "metadata": {},
     "output_type": "display_data"
    }
   ],
   "execution_count": 96
  },
  {
   "metadata": {},
   "cell_type": "markdown",
   "source": "This scatter plot visualizes the relationship between a movie's IMDB rating and its gross revenue. It helps us understand if there’s a trend that higher-rated movies tend to earn more at the box office.",
   "id": "aca2e4cccf198d94"
  },
  {
   "metadata": {
    "ExecuteTime": {
     "end_time": "2025-04-03T14:34:36.547590Z",
     "start_time": "2025-04-03T14:34:36.504253Z"
    }
   },
   "cell_type": "code",
   "source": [
    "import plotly.express as px\n",
    "\n",
    "# Create a scatter plot of Gross vs. IMDB Rating\n",
    "fig = px.scatter(df, x='IMDB_Rating', y='Gross', title='Gross Revenue vs. IMDB Rating', trendline='ols')\n",
    "fig.show()\n"
   ],
   "id": "e39d969dc27268c4",
   "outputs": [
    {
     "data": {
      "application/vnd.plotly.v1+json": {
       "data": [
        {
         "hovertemplate": "IMDB_Rating=%{x}<br>Gross=%{y}<extra></extra>",
         "legendgroup": "",
         "marker": {
          "color": "#636efa",
          "symbol": "circle"
         },
         "mode": "markers",
         "name": "",
         "orientation": "v",
         "showlegend": false,
         "x": [
          9.3,
          9.2,
          9.0,
          9.0,
          9.0,
          8.9,
          8.9,
          8.9,
          8.8,
          8.8,
          8.8,
          8.8,
          8.8,
          8.7,
          8.7,
          8.7,
          8.7,
          8.7,
          8.6,
          8.6,
          8.6,
          8.6,
          8.6,
          8.6,
          8.6,
          8.6,
          8.6,
          8.6,
          8.6,
          8.6,
          8.6,
          8.6,
          8.6,
          8.5,
          8.5,
          8.5,
          8.5,
          8.5,
          8.5,
          8.5,
          8.5,
          8.5,
          8.5,
          8.5,
          8.5,
          8.5,
          8.5,
          8.5,
          8.5,
          8.5,
          8.5,
          8.5,
          8.5,
          8.4,
          8.4,
          8.4,
          8.4,
          8.4,
          8.4,
          8.4,
          8.4,
          8.4,
          8.4,
          8.4,
          8.4,
          8.4,
          8.4,
          8.4,
          8.4,
          8.4,
          8.4,
          8.4,
          8.4,
          8.4,
          8.4,
          8.4,
          8.4,
          8.4,
          8.4,
          8.4,
          8.4,
          8.4,
          8.4,
          8.4,
          8.3,
          8.3,
          8.3,
          8.3,
          8.3,
          8.3,
          8.3,
          8.3,
          8.3,
          8.3,
          8.3,
          8.3,
          8.3,
          8.3,
          8.3,
          8.3,
          8.3,
          8.3,
          8.3,
          8.3,
          8.3,
          8.3,
          8.3,
          8.3,
          8.3,
          8.3,
          8.3,
          8.3,
          8.3,
          8.3,
          8.3,
          8.3,
          8.3,
          8.3,
          8.3,
          8.3,
          8.3,
          8.3,
          8.3,
          8.3,
          8.3,
          8.3,
          8.3,
          8.3,
          8.2,
          8.2,
          8.2,
          8.2,
          8.2,
          8.2,
          8.2,
          8.2,
          8.2,
          8.2,
          8.2,
          8.2,
          8.2,
          8.2,
          8.2,
          8.2,
          8.2,
          8.2,
          8.2,
          8.2,
          8.2,
          8.2,
          8.2,
          8.2,
          8.2,
          8.2,
          8.2,
          8.2,
          8.2,
          8.2,
          8.2,
          8.2,
          8.2,
          8.2,
          8.2,
          8.2,
          8.2,
          8.2,
          8.2,
          8.2,
          8.2,
          8.2,
          8.2,
          8.2,
          8.2,
          8.2,
          8.2,
          8.2,
          8.2,
          8.2,
          8.2,
          8.2,
          8.2,
          8.2,
          8.2,
          8.2,
          8.2,
          8.2,
          8.2,
          8.2,
          8.2,
          8.2,
          8.2,
          8.2,
          8.2,
          8.2,
          8.2,
          8.1,
          8.1,
          8.1,
          8.1,
          8.1,
          8.1,
          8.1,
          8.1,
          8.1,
          8.1,
          8.1,
          8.1,
          8.1,
          8.1,
          8.1,
          8.1,
          8.1,
          8.1,
          8.1,
          8.1,
          8.1,
          8.1,
          8.1,
          8.1,
          8.1,
          8.1,
          8.1,
          8.1,
          8.1,
          8.1,
          8.1,
          8.1,
          8.1,
          8.1,
          8.1,
          8.1,
          8.1,
          8.1,
          8.1,
          8.1,
          8.1,
          8.1,
          8.1,
          8.1,
          8.1,
          8.1,
          8.1,
          8.1,
          8.1,
          8.1,
          8.1,
          8.1,
          8.1,
          8.1,
          8.1,
          8.1,
          8.1,
          8.1,
          8.1,
          8.1,
          8.1,
          8.1,
          8.1,
          8.1,
          8.1,
          8.1,
          8.1,
          8.1,
          8.1,
          8.1,
          8.1,
          8.1,
          8.1,
          8.1,
          8.1,
          8.1,
          8.1,
          8.1,
          8.1,
          8.1,
          8.1,
          8.1,
          8.1,
          8.1,
          8.1,
          8.1,
          8.1,
          8.1,
          8.1,
          8.1,
          8.1,
          8.1,
          8.1,
          8.1,
          8.1,
          8.1,
          8.1,
          8.1,
          8.1,
          8.1,
          8.1,
          8.1,
          8.1,
          8.1,
          8.1,
          8.1,
          8.1,
          8.1,
          8.1,
          8.1,
          8.1,
          8.1,
          8.1,
          8.1,
          8.1,
          8.1,
          8.1,
          8.1,
          8.1,
          8.1,
          8.1,
          8.1,
          8.1,
          8.1,
          8.1,
          8.1,
          8.1,
          8.0,
          8.0,
          8.0,
          8.0,
          8.0,
          8.0,
          8.0,
          8.0,
          8.0,
          8.0,
          8.0,
          8.0,
          8.0,
          8.0,
          8.0,
          8.0,
          8.0,
          8.0,
          8.0,
          8.0,
          8.0,
          8.0,
          8.0,
          8.0,
          8.0,
          8.0,
          8.0,
          8.0,
          8.0,
          8.0,
          8.0,
          8.0,
          8.0,
          8.0,
          8.0,
          8.0,
          8.0,
          8.0,
          8.0,
          8.0,
          8.0,
          8.0,
          8.0,
          8.0,
          8.0,
          8.0,
          8.0,
          8.0,
          8.0,
          8.0,
          8.0,
          8.0,
          8.0,
          8.0,
          8.0,
          8.0,
          8.0,
          8.0,
          8.0,
          8.0,
          8.0,
          8.0,
          8.0,
          8.0,
          8.0,
          8.0,
          8.0,
          8.0,
          8.0,
          8.0,
          8.0,
          8.0,
          8.0,
          8.0,
          8.0,
          8.0,
          8.0,
          8.0,
          8.0,
          8.0,
          8.0,
          8.0,
          8.0,
          8.0,
          8.0,
          8.0,
          8.0,
          8.0,
          8.0,
          8.0,
          8.0,
          8.0,
          8.0,
          8.0,
          8.0,
          8.0,
          8.0,
          8.0,
          8.0,
          8.0,
          8.0,
          8.0,
          8.0,
          8.0,
          8.0,
          8.0,
          8.0,
          8.0,
          8.0,
          8.0,
          8.0,
          8.0,
          8.0,
          8.0,
          8.0,
          8.0,
          8.0,
          8.0,
          8.0,
          8.0,
          8.0,
          8.0,
          8.0,
          8.0,
          8.0,
          8.0,
          8.0,
          8.0,
          8.0,
          8.0,
          8.0,
          8.0,
          8.0,
          8.0,
          8.0,
          8.0,
          8.0,
          8.0,
          8.0,
          8.0,
          8.0,
          7.9,
          7.9,
          7.9,
          7.9,
          7.9,
          7.9,
          7.9,
          7.9,
          7.9,
          7.9,
          7.9,
          7.9,
          7.9,
          7.9,
          7.9,
          7.9,
          7.9,
          7.9,
          7.9,
          7.9,
          7.9,
          7.9,
          7.9,
          7.9,
          7.9,
          7.9,
          7.9,
          7.9,
          7.9,
          7.9,
          7.9,
          7.9,
          7.9,
          7.9,
          7.9,
          7.9,
          7.9,
          7.9,
          7.9,
          7.9,
          7.9,
          7.9,
          7.9,
          7.9,
          7.9,
          7.9,
          7.9,
          7.9,
          7.9,
          7.9,
          7.9,
          7.9,
          7.9,
          7.9,
          7.9,
          7.9,
          7.9,
          7.9,
          7.9,
          7.9,
          7.9,
          7.9,
          7.9,
          7.9,
          7.9,
          7.9,
          7.9,
          7.9,
          7.9,
          7.9,
          7.9,
          7.9,
          7.9,
          7.9,
          7.9,
          7.9,
          7.9,
          7.9,
          7.9,
          7.9,
          7.9,
          7.9,
          7.9,
          7.9,
          7.9,
          7.9,
          7.9,
          7.9,
          7.9,
          7.9,
          7.9,
          7.9,
          7.9,
          7.9,
          7.9,
          7.9,
          7.9,
          7.9,
          7.9,
          7.9,
          7.9,
          7.9,
          7.9,
          7.9,
          7.9,
          7.9,
          7.8,
          7.8,
          7.8,
          7.8,
          7.8,
          7.8,
          7.8,
          7.8,
          7.8,
          7.8,
          7.8,
          7.8,
          7.8,
          7.8,
          7.8,
          7.8,
          7.8,
          7.8,
          7.8,
          7.8,
          7.8,
          7.8,
          7.8,
          7.8,
          7.8,
          7.8,
          7.8,
          7.8,
          7.8,
          7.8,
          7.8,
          7.8,
          7.8,
          7.8,
          7.8,
          7.8,
          7.8,
          7.8,
          7.8,
          7.8,
          7.8,
          7.8,
          7.8,
          7.8,
          7.8,
          7.8,
          7.8,
          7.8,
          7.8,
          7.8,
          7.8,
          7.8,
          7.8,
          7.8,
          7.8,
          7.8,
          7.8,
          7.8,
          7.8,
          7.8,
          7.8,
          7.8,
          7.8,
          7.8,
          7.8,
          7.8,
          7.8,
          7.8,
          7.8,
          7.8,
          7.8,
          7.8,
          7.8,
          7.8,
          7.8,
          7.8,
          7.8,
          7.8,
          7.8,
          7.8,
          7.8,
          7.8,
          7.8,
          7.8,
          7.8,
          7.8,
          7.8,
          7.8,
          7.8,
          7.8,
          7.8,
          7.8,
          7.8,
          7.8,
          7.8,
          7.8,
          7.8,
          7.8,
          7.8,
          7.8,
          7.8,
          7.8,
          7.8,
          7.8,
          7.8,
          7.8,
          7.8,
          7.8,
          7.8,
          7.8,
          7.8,
          7.8,
          7.8,
          7.8,
          7.8,
          7.8,
          7.8,
          7.8,
          7.8,
          7.8,
          7.8,
          7.8,
          7.8,
          7.8,
          7.8,
          7.8,
          7.8,
          7.8,
          7.8,
          7.8,
          7.8,
          7.8,
          7.8,
          7.8,
          7.8,
          7.8,
          7.8,
          7.8,
          7.8,
          7.8,
          7.8,
          7.8,
          7.8,
          7.8,
          7.8,
          7.8,
          7.8,
          7.8,
          7.8,
          7.8,
          7.8,
          7.7,
          7.7,
          7.7,
          7.7,
          7.7,
          7.7,
          7.7,
          7.7,
          7.7,
          7.7,
          7.7,
          7.7,
          7.7,
          7.7,
          7.7,
          7.7,
          7.7,
          7.7,
          7.7,
          7.7,
          7.7,
          7.7,
          7.7,
          7.7,
          7.7,
          7.7,
          7.7,
          7.7,
          7.7,
          7.7,
          7.7,
          7.7,
          7.7,
          7.7,
          7.7,
          7.7,
          7.7,
          7.7,
          7.7,
          7.7,
          7.7,
          7.7,
          7.7,
          7.7,
          7.7,
          7.7,
          7.7,
          7.7,
          7.7,
          7.7,
          7.7,
          7.7,
          7.7,
          7.7,
          7.7,
          7.7,
          7.7,
          7.7,
          7.7,
          7.7,
          7.7,
          7.7,
          7.7,
          7.7,
          7.7,
          7.7,
          7.7,
          7.7,
          7.7,
          7.7,
          7.7,
          7.7,
          7.7,
          7.7,
          7.7,
          7.7,
          7.7,
          7.7,
          7.7,
          7.7,
          7.7,
          7.7,
          7.7,
          7.7,
          7.7,
          7.7,
          7.7,
          7.7,
          7.7,
          7.7,
          7.7,
          7.7,
          7.7,
          7.7,
          7.7,
          7.7,
          7.7,
          7.7,
          7.7,
          7.7,
          7.7,
          7.7,
          7.7,
          7.7,
          7.7,
          7.7,
          7.7,
          7.7,
          7.7,
          7.7,
          7.7,
          7.7,
          7.7,
          7.7,
          7.7,
          7.7,
          7.7,
          7.7,
          7.7,
          7.7,
          7.7,
          7.7,
          7.7,
          7.7,
          7.7,
          7.7,
          7.7,
          7.7,
          7.7,
          7.7,
          7.7,
          7.7,
          7.7,
          7.7,
          7.7,
          7.7,
          7.7,
          7.7,
          7.7,
          7.7,
          7.7,
          7.7,
          7.7,
          7.7,
          7.7,
          7.7,
          7.7,
          7.7,
          7.7,
          7.7,
          7.7,
          7.7,
          7.7,
          7.7,
          7.7,
          7.7,
          7.7,
          7.6,
          7.6,
          7.6,
          7.6,
          7.6,
          7.6,
          7.6,
          7.6,
          7.6,
          7.6,
          7.6,
          7.6,
          7.6,
          7.6,
          7.6,
          7.6,
          7.6,
          7.6,
          7.6,
          7.6,
          7.6,
          7.6,
          7.6,
          7.6,
          7.6,
          7.6,
          7.6,
          7.6,
          7.6,
          7.6,
          7.6,
          7.6,
          7.6,
          7.6,
          7.6,
          7.6,
          7.6,
          7.6,
          7.6,
          7.6,
          7.6,
          7.6,
          7.6,
          7.6,
          7.6,
          7.6,
          7.6,
          7.6,
          7.6,
          7.6,
          7.6,
          7.6,
          7.6,
          7.6,
          7.6,
          7.6,
          7.6,
          7.6,
          7.6,
          7.6,
          7.6,
          7.6,
          7.6,
          7.6,
          7.6,
          7.6,
          7.6,
          7.6,
          7.6,
          7.6,
          7.6,
          7.6,
          7.6,
          7.6,
          7.6,
          7.6,
          7.6,
          7.6,
          7.6,
          7.6,
          7.6,
          7.6,
          7.6,
          7.6,
          7.6,
          7.6,
          7.6,
          7.6,
          7.6,
          7.6,
          7.6,
          7.6,
          7.6,
          7.6,
          7.6,
          7.6,
          7.6,
          7.6,
          7.6,
          7.6,
          7.6,
          7.6,
          7.6,
          7.6,
          7.6,
          7.6,
          7.6,
          7.6,
          7.6,
          7.6,
          7.6,
          7.6,
          7.6,
          7.6,
          7.6,
          7.6,
          7.6,
          7.6,
          7.6,
          7.6,
          7.6,
          7.6,
          7.6
         ],
         "xaxis": "x",
         "y": [
          2.8341469E7,
          1.34966411E8,
          5.34858444E8,
          5.73E7,
          4360000.0,
          3.77845905E8,
          1.07928762E8,
          9.6898818E7,
          2.92576195E8,
          3.7030102E7,
          3.1554475E8,
          3.30252182E8,
          6100000.0,
          3.42551365E8,
          1.7147993E8,
          4.6836394E7,
          2.90475067E8,
          1.12E8,
          2.3530892E7,
          5.3367844E7,
          2.3530892E7,
          1.88020017E8,
          7563397.0,
          1.0055859E7,
          2.16540909E8,
          1.36801374E8,
          5.7598247E7,
          1.00125643E8,
          1.30742922E8,
          3.2274014E8,
          2.3530892E7,
          269061.0,
          2.3530892E7,
          3.35451311E8,
          1.3092E7,
          1.3182281E7,
          5.3089891E7,
          1.32384315E8,
          3.2572577E7,
          1.87705427E8,
          6719864.0,
          2.3341568E7,
          1.9501238E7,
          4.22783777E8,
          2.0484335E8,
          1.1990401E7,
          2.3530892E7,
          2.10609762E8,
          5321508.0,
          3.2E7,
          1024560.0,
          163245.0,
          19181.0,
          1661096.0,
          2.3530892E7,
          2.3530892E7,
          5017246.0,
          1.2391761E7,
          1.9024131E8,
          8.58373E8,
          6.78815482E8,
          2.09726015E8,
          1.62805434E8,
          4.48139099E8,
          6532908.0,
          1223869.0,
          2.23808164E8,
          1.1286112E7,
          707481.0,
          2.5544867E7,
          2375308.0,
          5321508.0,
          2.48159971E8,
          4.4017374E7,
          8.3471511E7,
          7.89E7,
          2.3530892E7,
          2.3530892E7,
          275902.0,
          8175000.0,
          2.3530892E7,
          3.6764313E7,
          2.3530892E7,
          288475.0,
          1.59227644E8,
          2.3530892E7,
          1373943.0,
          2.3530892E7,
          687185.0,
          7098492.0,
          6857096.0,
          2.3530892E7,
          2.3530892E7,
          1.20540719E8,
          3.4400301E7,
          3.3225499E7,
          3.0328156E7,
          3635482.0,
          1.30096601E8,
          1.38433435E8,
          933933.0,
          1.91796233E8,
          7.56E7,
          2832029.0,
          4.6357676E7,
          2.3530892E7,
          8.5160248E7,
          5.1973029E7,
          4.5598982E7,
          3.09125409E8,
          1.1487676E7,
          2.8262574E7,
          1.596E8,
          6207725.0,
          5.6954992E7,
          1.5E7,
          4.4824144E7,
          1.86E7,
          1.3275E7,
          3200000.0,
          8819028.0,
          55240.0,
          332930.0,
          5720000.0,
          1585634.0,
          28877.0,
          1236166.0,
          5450000.0,
          898575.0,
          4186168.0,
          2.3530892E7,
          8.5080171E7,
          5.451374E7,
          342370.0,
          2.0186659E7,
          2.3530892E7,
          739478.0,
          1429534.0,
          144501.0,
          1626289.0,
          2.3530892E7,
          7461.0,
          39567.0,
          6391436.0,
          1.3657115E7,
          1.28012934E8,
          2.93004164E8,
          1.16900694E8,
          1113541.0,
          4.0222514E7,
          3.7634615E7,
          4.1500488E8,
          7.0511035E7,
          2197331.0,
          733094.0,
          2.06852432E8,
          1223240.0,
          5509040.0,
          4711096.0,
          1.70742341E8,
          2.3530892E7,
          3897569.0,
          6.461694E7,
          2.3530892E7,
          6.7436818E7,
          4.24383E7,
          2.3530892E7,
          1.01157447E8,
          1.97171806E8,
          280015.0,
          1105564.0,
          8.3008852E7,
          4135750.0,
          2.3383987E7,
          234723.0,
          2.3530892E7,
          2.3530892E7,
          2.3530892E7,
          1229197.0,
          1.21E7,
          2.3530892E7,
          2.3530892E7,
          2.3530892E7,
          2.5E7,
          2.3530892E7,
          2.3530892E7,
          57226.0,
          12562.0,
          2.3530892E7,
          96568.0,
          10177.0,
          5014000.0,
          2.3530892E7,
          5450000.0,
          977375.0,
          3759854.0,
          1241223.0,
          2.3530892E7,
          2.3530892E7,
          2006788.0,
          3492754.0,
          901610.0,
          2.26277068E8,
          1.4677674E7,
          3107072.0,
          2.3530892E7,
          165520.0,
          1.0616104E7,
          923221.0,
          5.9100318E7,
          1.67767189E8,
          2.3530892E7,
          6.7209615E7,
          3.56461711E8,
          2804874.0,
          5.6671993E7,
          2.6947624E7,
          1.17624028E8,
          4.5055776E7,
          857524.0,
          1035953.0,
          3108485.0,
          6.1002302E7,
          1.5405834E8,
          2.3530892E7,
          1.48095302E8,
          3.81011219E8,
          1498210.0,
          2.3530892E7,
          2.3530892E7,
          2.17581231E8,
          1.8354356E7,
          7.4283625E7,
          2217561.0,
          1.00492203E8,
          2.3530892E7,
          1111061.0,
          5820649.0,
          2.3530892E7,
          14131.0,
          300000.0,
          7.0099045E7,
          3.80843261E8,
          1.64615351E8,
          5383834.0,
          2.89916256E8,
          2.3530892E7,
          70147.0,
          2.93506292E8,
          259127.0,
          1.25618201E8,
          348660.0,
          1.7498804E7,
          2734044.0,
          1.6501785E7,
          2.4611975E7,
          171082.0,
          309811.0,
          2.3530892E7,
          5535405.0,
          4043686.0,
          600200.0,
          4.02453882E8,
          2.501041E7,
          5216888.0,
          2603061.0,
          9.5860116E7,
          5.2287414E7,
          1.38530565E8,
          2181987.0,
          495770.0,
          1.3782838E7,
          2.2244207E7,
          2.3530892E7,
          4971340.0,
          3.2868943E7,
          2.3530892E7,
          2.0045115E7,
          4.8979328E7,
          1.17235247E8,
          2.3530892E7,
          2.3530892E7,
          177345.0,
          2.9E7,
          3.0933743E7,
          1742348.0,
          2.3530892E7,
          39481.0,
          1.6217773E7,
          2.3530892E7,
          102021.0,
          55908.0,
          2.3530892E7,
          4050000.0,
          2.3530892E7,
          2.3530892E7,
          2.3530892E7,
          1526000.0,
          2.3530892E7,
          2.3530892E7,
          7.47E7,
          2.3530892E7,
          752045.0,
          2.3530892E7,
          4.4908E7,
          9600000.0,
          2.3530892E7,
          3969893.0,
          2.3530892E7,
          449191.0,
          1.09E7,
          203300.0,
          4360000.0,
          9600000.0,
          1.98676459E8,
          172885.0,
          4360000.0,
          21877.0,
          2.3530892E7,
          539540.0,
          1033895.0,
          2.3530892E7,
          2.3530892E7,
          2.3530892E7,
          2.3530892E7,
          8178001.0,
          2.3530892E7,
          1.51101803E8,
          5.1739495E7,
          2.28433663E8,
          3.41268248E8,
          6738000.0,
          1506975.0,
          1.32422809E8,
          5566534.0,
          1079369.0,
          1010414.0,
          2625803.0,
          9.1125683E7,
          3.331766E8,
          9.2054159E7,
          2.5568251E7,
          2.16428042E8,
          1.83637894E8,
          1.773857E7,
          100119.0,
          1.38797449E8,
          1.69708112E8,
          3.63070709E8,
          106662.0,
          10950.0,
          2.3530892E7,
          4018695.0,
          2.3530892E7,
          1.41319928E8,
          1.06954678E8,
          8060.0,
          6.23279547E8,
          4445756.0,
          2.7298285E7,
          1.63566459E8,
          5.7366262E7,
          2.2747107E8,
          238507.0,
          7.410382E7,
          5990075.0,
          2.3530892E7,
          2.06445654E8,
          1.6744596E8,
          6.6208183E7,
          502028.0,
          2380788.0,
          2086345.0,
          6.1649911E7,
          1787378.0,
          169659.0,
          3.05413918E8,
          6.6257002E7,
          2.61441092E8,
          2.3530892E7,
          1530386.0,
          2.3530892E7,
          1480006.0,
          2.2455976E7,
          4184036.0,
          6203044.0,
          776665.0,
          1647780.0,
          5595428.0,
          2.3159305E7,
          3296.0,
          2.4475416E7,
          1.3417292E7,
          5.7141459E7,
          515905.0,
          7.5082668E7,
          7.0906973E7,
          4496583.0,
          6.3895607E7,
          2.17350219E8,
          7.0405498E7,
          2.1896762E8,
          1.84208848E8,
          2.7545445E7,
          1.788E8,
          553171.0,
          3.0857814E7,
          3333969.0,
          4542825.0,
          2.3530892E7,
          3.84E7,
          5.2767889E7,
          2.3530892E7,
          3.0177511E7,
          3.92E7,
          2.6E8,
          5.0E7,
          8.63E7,
          5.3267E7,
          2.32906145E8,
          4081254.0,
          2.9133E7,
          8.05E7,
          541940.0,
          1.02308889E8,
          2.3530892E7,
          3.3395426E7,
          1.04945305E8,
          2.3530892E7,
          1.63214286E8,
          1.11722E8,
          1.45E7,
          50690.0,
          2.3530892E7,
          8284000.0,
          1.9516E7,
          1.2535E7,
          1.19E7,
          2237659.0,
          1.7570324E7,
          2.3530892E7,
          2.3530892E7,
          654000.0,
          2.3530892E7,
          2.3530892E7,
          2.3530892E7,
          2.3530892E7,
          8000000.0,
          2.3530892E7,
          2.3530892E7,
          2.3530892E7,
          2.3530892E7,
          2.3530892E7,
          4360000.0,
          2.365E7,
          2.3530892E7,
          2108060.0,
          55000.0,
          2076020.0,
          2.3530892E7,
          2.3530892E7,
          3270000.0,
          50970.0,
          1.65359751E8,
          2.3530892E7,
          3313513.0,
          2000000.0,
          1.8095701E7,
          258168.0,
          3.2015231E7,
          5202582.0,
          5875006.0,
          3237118.0,
          3.15058289E8,
          3.2381218E7,
          349555.0,
          1.00546139E8,
          9.36662225E8,
          8114627.0,
          2.33921534E8,
          138730.0,
          4.4671682E7,
          1.00206256E8,
          6739492.0,
          7000000.0,
          2084637.0,
          5009677.0,
          2122065.0,
          1.15646235E8,
          2.6236603E7,
          410800.0,
          2.5379975E7,
          1185783.0,
          2.57730019E8,
          7757130.0,
          2.3530892E7,
          1.3756082E7,
          2280348.0,
          1.24987023E8,
          2.1002919E7,
          2.3530892E7,
          3635164.0,
          3.18412101E8,
          1.3542874E7,
          2.3530892E7,
          9.0135191E7,
          2.49358727E8,
          5.3710019E7,
          9284265.0,
          1059830.0,
          1000045.0,
          1.21661683E8,
          1221261.0,
          3.5552383E7,
          3.253485E7,
          7220243.0,
          2.45852179E8,
          2.640064E7,
          2.3530892E7,
          2201126.0,
          1.22815E7,
          1324974.0,
          2.3530892E7,
          3.6948322E7,
          5.6362352E7,
          1.4743391E7,
          1.8254702E7,
          7.6270454E7,
          4.0084041E7,
          9929135.0,
          188751.0,
          2.0605209E7,
          5.722989E7,
          4.57E7,
          3.7823676E7,
          5100000.0,
          7.06E7,
          61001.0,
          2.3530892E7,
          198809.0,
          2.3530892E7,
          2.3530892E7,
          6.17E7,
          1.2064472E7,
          89029.0,
          2.2276975E7,
          2.4379978E7,
          1.3474588E7,
          2.3530892E7,
          3.0E7,
          2.3530892E7,
          88300.0,
          9.374E7,
          2.3530892E7,
          2.3530892E7,
          9450000.0,
          7630000.0,
          2.3530892E7,
          2650000.0,
          1.0464E7,
          6540000.0,
          9460000.0,
          2.3530892E7,
          296000.0,
          3981000.0,
          2537520.0,
          1.0E7,
          2.3530892E7,
          2.3530892E7,
          2.3530892E7,
          2.3530892E7,
          2.3530892E7,
          2402067.0,
          1.88373161E8,
          2.3530892E7,
          1.69607287E8,
          4.0442052E7,
          2.3530892E7,
          4.8023088E7,
          1782795.0,
          4.769512E7,
          435266.0,
          5.32177324E8,
          4.08084349E8,
          5.4117416E7,
          1.08101214E8,
          6735118.0,
          2.3530892E7,
          1330596.0,
          2852400.0,
          4231500.0,
          169209.0,
          2.22527828E8,
          1.5322921E7,
          1670773.0,
          5209580.0,
          4.34038008E8,
          85433.0,
          4.5512466E7,
          1.77002924E8,
          7.025987E7,
          2.3530892E7,
          128392.0,
          1.02515793E8,
          1.07100855E8,
          6460.0,
          1.61197785E8,
          547292.0,
          2.3530892E7,
          2.58366855E8,
          2222647.0,
          1.009517E7,
          2.3530892E7,
          2.3530892E7,
          9.3617009E7,
          1.45000989E8,
          9030581.0,
          9439923.0,
          3.03003568E8,
          741283.0,
          5.0927067E7,
          3.5061555E7,
          1.30164645E8,
          7.60507625E8,
          3600.0,
          5.0866635E7,
          5.9891098E7,
          2.3637265E7,
          1.27509326E8,
          2921738.0,
          1305.0,
          3.8405088E7,
          5128124.0,
          128985.0,
          2.5514517E7,
          1.19519402E8,
          15280.0,
          8.1001787E7,
          1.6756372E7,
          181655.0,
          7002255.0,
          2.3530892E7,
          5.4234062E7,
          2892011.0,
          1.15654751E8,
          1.28078872E8,
          8264530.0,
          2.33632142E8,
          25812.0,
          2.8965197E7,
          3.2481825E7,
          2.67665011E8,
          6.59325379E8,
          233986.0,
          1.2339633E7,
          4.8323648E7,
          4040691.0,
          5887457.0,
          9170214.0,
          5.6505065E7,
          3.2416586E7,
          2.2954968E7,
          1769305.0,
          1.8387576E8,
          1.7266971E7,
          5617391.0,
          2.3530892E7,
          2015810.0,
          1999955.0,
          5.7504069E7,
          6.1276872E7,
          5.2096475E7,
          2.3530892E7,
          2.683E7,
          2.3530892E7,
          1.185E8,
          3.4603943E7,
          5.9735548E7,
          5923044.0,
          7.0136369E7,
          1436000.0,
          6.1503218E7,
          9.8467863E7,
          4.5875171E7,
          3.4700291E7,
          2.38632124E8,
          2.15E7,
          2500000.0,
          4.35110554E8,
          1.0626E8,
          2.3530892E7,
          3.18E7,
          2.3530892E7,
          4420000.0,
          193817.0,
          1.6056255E7,
          2.3530892E7,
          4.2765E7,
          4000000.0,
          4.4785053E7,
          1.7550741E7,
          5.67E7,
          2.3530892E7,
          7.2E7,
          1.02272727E8,
          3.91E7,
          2.3530892E7,
          2616000.0,
          336705.0,
          2.3530892E7,
          2.3530892E7,
          2.3530892E7,
          2.3530892E7,
          2.3530892E7,
          2.3530892E7,
          2.3530892E7,
          4360000.0,
          2.3530892E7,
          2.3530892E7,
          2.3530892E7,
          2.3530892E7,
          335609.0,
          3.24591735E8,
          3.3800859E7,
          1.76040665E8,
          2.20159104E8,
          3358518.0,
          3333000.0,
          765127.0,
          3.5893537E7,
          1.28261724E8,
          1.2487235E8,
          6743776.0,
          4.2340598E7,
          2199675.0,
          1122527.0,
          175058.0,
          2.59766572E8,
          985912.0,
          1.7654912E7,
          1.89422889E8,
          1339152.0,
          71177.0,
          5.6816662E7,
          2.57760692E8,
          2.74092705E8,
          2.28778661E8,
          83861.0,
          9.6962694E7,
          1.46408305E8,
          2.77322503E8,
          3.04360277E8,
          1.32092958E8,
          1.36025503E8,
          3.2391374E7,
          2.95983305E8,
          1.50904E7,
          1.8593156E7,
          881302.0,
          3.5739802E7,
          1752214.0,
          2.3530892E7,
          2.3530892E7,
          327919.0,
          2.5442958E7,
          412544.0,
          1.7605861E7,
          3.3080084E7,
          2.2494487E7,
          1054361.0,
          871577.0,
          2.00821936E8,
          4398392.0,
          8.3043761E7,
          5.3606916E7,
          5.45803E7,
          1.7108591E7,
          1.76241941E8,
          1082715.0,
          7.53316E7,
          4.4585453E7,
          2.90013036E8,
          7.7911774E7,
          7.5286229E7,
          1.11110575E8,
          4890878.0,
          4064200.0,
          1.5539266E7,
          4.0311852E7,
          2.2245861E7,
          1.08638745E8,
          1.04454762E8,
          141072.0,
          2.1995263E7,
          3029081.0,
          1.8341715E8,
          151086.0,
          4.5512588E7,
          2.3530892E7,
          5.2037603E7,
          1.0824921E7,
          2807390.0,
          7.6631907E7,
          1.7105219E7,
          368234.0,
          2.2858926E7,
          1.48478011E8,
          6.354002E7,
          4065116.0,
          4.1909762E7,
          3.5811509E7,
          5.6116183E7,
          4414535.0,
          1.0019307E7,
          2.3530892E7,
          2.1848932E7,
          3151130.0,
          6110979.0,
          7.7324422E7,
          2.7281507E7,
          4.8169908E7,
          7.5505856E7,
          2.3530892E7,
          1.0725228E7,
          1.41340178E8,
          8.2418501E7,
          6153939.0,
          5080409.0,
          1.5645237E8,
          2.3530892E7,
          1544889.0,
          4.398423E7,
          2.2238696E7,
          7153487.0,
          8551228.0,
          1.0631333E7,
          1.06E7,
          1.1798616E7,
          5.4E7,
          7.8912963E7,
          4.7212904E7,
          5.48E7,
          8.34E7,
          2.3530892E7,
          4.7E7,
          1924733.0,
          2.3530892E7,
          2.3530892E7,
          1.195E8,
          2.98E7,
          2.5E7,
          7056013.0,
          1.563071E7,
          3.59E7,
          2.3530892E7,
          4.4527234E7,
          4.53E7,
          26331.0,
          2.835E7,
          2.3530892E7,
          2.3530892E7,
          5.1081062E7,
          1.1403529E7,
          2.3530892E7,
          83957.0,
          4905000.0,
          52709.0,
          2.3530892E7,
          2.3530892E7,
          2.3530892E7,
          2.3530892E7,
          1.055E7,
          2.3530892E7,
          536118.0,
          2.3530892E7,
          7.6408097E7,
          2.3530892E7,
          2.3530892E7,
          2.6020957E7,
          1.42502728E8,
          566356.0,
          5904366.0,
          2.3530892E7,
          2.4801212E7,
          1.3122642E7,
          2.3530892E7,
          845464.0,
          3.89813101E8,
          1.07825862E8,
          1.8340051E7,
          7.2313754E7,
          6.08581744E8,
          2.48757044E8,
          4.6889293E7,
          1.09767581E8,
          1092800.0,
          2.686245E7,
          3.7707719E7,
          2.08545589E8,
          2.3530892E7,
          4105123.0,
          4.1003371E7,
          1.9202743E7,
          2.15288866E8,
          1.71243005E8,
          1008098.0,
          2.51513985E8,
          3.5014192E7,
          4.8071303E7,
          2.3530892E7,
          7.5605492E7,
          3185812.0,
          7.5590286E7,
          2.3530892E7,
          2.09028679E8,
          2.55959475E8,
          9422422.0,
          6.9951824E7,
          1.7114882E7,
          3.8634938E7,
          686383.0,
          8.8513495E7,
          2.0300218E7,
          1.0301706E7,
          2.463373E7,
          3.9868642E7,
          6013.0,
          3.01959197E8,
          2.10614939E8,
          2.3089926E7,
          1.07509799E8,
          2.4149632E7,
          5.6000369E7,
          3081925.0,
          697181.0,
          548707.0,
          6167817.0,
          5739376.0,
          1.6290476E7,
          45289.0,
          5.1680613E7,
          1.3060843E7,
          5.7938693E7,
          4.5064915E7,
          2.3530892E7,
          5.236401E7,
          1.3622333E7,
          3.1757555E8,
          9.6522687E7,
          5.2990775E7,
          5.1401758E7,
          1.32072926E8,
          5.0668906E7,
          1.5070285E7,
          7267585.0,
          3.6400491E7,
          1.20620254E8,
          1.0680275E7,
          2.3530892E7,
          1.4378331E7,
          4.91E7,
          3796699.0,
          4.3182776E7,
          1.00012499E8,
          1037847.0,
          7.1516617E7,
          1.73837933E8,
          1464625.0,
          4.0903593E7,
          7993039.0,
          5.2929168E7,
          453243.0,
          1794187.0,
          2.85761243E8,
          6.6666062E7,
          9.28236E7,
          1.11543479E8,
          7.8756177E7,
          4.953028E7,
          6.5207127E7,
          2150000.0,
          1.19285432E8,
          1.2465371E7,
          2.2490039E7,
          7.6657E7,
          4.3E7,
          2.3530892E7,
          3.5E7,
          1.32088635E8,
          959000.0,
          696690.0,
          1378435.0,
          1.41843612E8,
          2.3530892E7,
          1.3780024E7,
          2.3530892E7,
          2.3530892E7,
          3.05E7,
          2.3530892E7,
          2.3530892E7
         ],
         "yaxis": "y",
         "type": "scatter"
        },
        {
         "hovertemplate": "<b>OLS trendline</b><br>Gross = 3.14826e+07 * IMDB_Rating + -1.89751e+08<br>R<sup>2</sup>=0.007313<br><br>IMDB_Rating=%{x}<br>Gross=%{y} <b>(trend)</b><extra></extra>",
         "legendgroup": "",
         "marker": {
          "color": "#636efa",
          "symbol": "circle"
         },
         "mode": "lines",
         "name": "",
         "showlegend": false,
         "x": [
          7.6,
          7.6,
          7.6,
          7.6,
          7.6,
          7.6,
          7.6,
          7.6,
          7.6,
          7.6,
          7.6,
          7.6,
          7.6,
          7.6,
          7.6,
          7.6,
          7.6,
          7.6,
          7.6,
          7.6,
          7.6,
          7.6,
          7.6,
          7.6,
          7.6,
          7.6,
          7.6,
          7.6,
          7.6,
          7.6,
          7.6,
          7.6,
          7.6,
          7.6,
          7.6,
          7.6,
          7.6,
          7.6,
          7.6,
          7.6,
          7.6,
          7.6,
          7.6,
          7.6,
          7.6,
          7.6,
          7.6,
          7.6,
          7.6,
          7.6,
          7.6,
          7.6,
          7.6,
          7.6,
          7.6,
          7.6,
          7.6,
          7.6,
          7.6,
          7.6,
          7.6,
          7.6,
          7.6,
          7.6,
          7.6,
          7.6,
          7.6,
          7.6,
          7.6,
          7.6,
          7.6,
          7.6,
          7.6,
          7.6,
          7.6,
          7.6,
          7.6,
          7.6,
          7.6,
          7.6,
          7.6,
          7.6,
          7.6,
          7.6,
          7.6,
          7.6,
          7.6,
          7.6,
          7.6,
          7.6,
          7.6,
          7.6,
          7.6,
          7.6,
          7.6,
          7.6,
          7.6,
          7.6,
          7.6,
          7.6,
          7.6,
          7.6,
          7.6,
          7.6,
          7.6,
          7.6,
          7.6,
          7.6,
          7.6,
          7.6,
          7.6,
          7.6,
          7.6,
          7.6,
          7.6,
          7.6,
          7.6,
          7.6,
          7.6,
          7.6,
          7.6,
          7.6,
          7.6,
          7.7,
          7.7,
          7.7,
          7.7,
          7.7,
          7.7,
          7.7,
          7.7,
          7.7,
          7.7,
          7.7,
          7.7,
          7.7,
          7.7,
          7.7,
          7.7,
          7.7,
          7.7,
          7.7,
          7.7,
          7.7,
          7.7,
          7.7,
          7.7,
          7.7,
          7.7,
          7.7,
          7.7,
          7.7,
          7.7,
          7.7,
          7.7,
          7.7,
          7.7,
          7.7,
          7.7,
          7.7,
          7.7,
          7.7,
          7.7,
          7.7,
          7.7,
          7.7,
          7.7,
          7.7,
          7.7,
          7.7,
          7.7,
          7.7,
          7.7,
          7.7,
          7.7,
          7.7,
          7.7,
          7.7,
          7.7,
          7.7,
          7.7,
          7.7,
          7.7,
          7.7,
          7.7,
          7.7,
          7.7,
          7.7,
          7.7,
          7.7,
          7.7,
          7.7,
          7.7,
          7.7,
          7.7,
          7.7,
          7.7,
          7.7,
          7.7,
          7.7,
          7.7,
          7.7,
          7.7,
          7.7,
          7.7,
          7.7,
          7.7,
          7.7,
          7.7,
          7.7,
          7.7,
          7.7,
          7.7,
          7.7,
          7.7,
          7.7,
          7.7,
          7.7,
          7.7,
          7.7,
          7.7,
          7.7,
          7.7,
          7.7,
          7.7,
          7.7,
          7.7,
          7.7,
          7.7,
          7.7,
          7.7,
          7.7,
          7.7,
          7.7,
          7.7,
          7.7,
          7.7,
          7.7,
          7.7,
          7.7,
          7.7,
          7.7,
          7.7,
          7.7,
          7.7,
          7.7,
          7.7,
          7.7,
          7.7,
          7.7,
          7.7,
          7.7,
          7.7,
          7.7,
          7.7,
          7.7,
          7.7,
          7.7,
          7.7,
          7.7,
          7.7,
          7.7,
          7.7,
          7.7,
          7.7,
          7.7,
          7.7,
          7.7,
          7.7,
          7.7,
          7.7,
          7.7,
          7.7,
          7.7,
          7.7,
          7.7,
          7.7,
          7.7,
          7.7,
          7.7,
          7.8,
          7.8,
          7.8,
          7.8,
          7.8,
          7.8,
          7.8,
          7.8,
          7.8,
          7.8,
          7.8,
          7.8,
          7.8,
          7.8,
          7.8,
          7.8,
          7.8,
          7.8,
          7.8,
          7.8,
          7.8,
          7.8,
          7.8,
          7.8,
          7.8,
          7.8,
          7.8,
          7.8,
          7.8,
          7.8,
          7.8,
          7.8,
          7.8,
          7.8,
          7.8,
          7.8,
          7.8,
          7.8,
          7.8,
          7.8,
          7.8,
          7.8,
          7.8,
          7.8,
          7.8,
          7.8,
          7.8,
          7.8,
          7.8,
          7.8,
          7.8,
          7.8,
          7.8,
          7.8,
          7.8,
          7.8,
          7.8,
          7.8,
          7.8,
          7.8,
          7.8,
          7.8,
          7.8,
          7.8,
          7.8,
          7.8,
          7.8,
          7.8,
          7.8,
          7.8,
          7.8,
          7.8,
          7.8,
          7.8,
          7.8,
          7.8,
          7.8,
          7.8,
          7.8,
          7.8,
          7.8,
          7.8,
          7.8,
          7.8,
          7.8,
          7.8,
          7.8,
          7.8,
          7.8,
          7.8,
          7.8,
          7.8,
          7.8,
          7.8,
          7.8,
          7.8,
          7.8,
          7.8,
          7.8,
          7.8,
          7.8,
          7.8,
          7.8,
          7.8,
          7.8,
          7.8,
          7.8,
          7.8,
          7.8,
          7.8,
          7.8,
          7.8,
          7.8,
          7.8,
          7.8,
          7.8,
          7.8,
          7.8,
          7.8,
          7.8,
          7.8,
          7.8,
          7.8,
          7.8,
          7.8,
          7.8,
          7.8,
          7.8,
          7.8,
          7.8,
          7.8,
          7.8,
          7.8,
          7.8,
          7.8,
          7.8,
          7.8,
          7.8,
          7.8,
          7.8,
          7.8,
          7.8,
          7.8,
          7.8,
          7.8,
          7.8,
          7.8,
          7.8,
          7.8,
          7.8,
          7.8,
          7.9,
          7.9,
          7.9,
          7.9,
          7.9,
          7.9,
          7.9,
          7.9,
          7.9,
          7.9,
          7.9,
          7.9,
          7.9,
          7.9,
          7.9,
          7.9,
          7.9,
          7.9,
          7.9,
          7.9,
          7.9,
          7.9,
          7.9,
          7.9,
          7.9,
          7.9,
          7.9,
          7.9,
          7.9,
          7.9,
          7.9,
          7.9,
          7.9,
          7.9,
          7.9,
          7.9,
          7.9,
          7.9,
          7.9,
          7.9,
          7.9,
          7.9,
          7.9,
          7.9,
          7.9,
          7.9,
          7.9,
          7.9,
          7.9,
          7.9,
          7.9,
          7.9,
          7.9,
          7.9,
          7.9,
          7.9,
          7.9,
          7.9,
          7.9,
          7.9,
          7.9,
          7.9,
          7.9,
          7.9,
          7.9,
          7.9,
          7.9,
          7.9,
          7.9,
          7.9,
          7.9,
          7.9,
          7.9,
          7.9,
          7.9,
          7.9,
          7.9,
          7.9,
          7.9,
          7.9,
          7.9,
          7.9,
          7.9,
          7.9,
          7.9,
          7.9,
          7.9,
          7.9,
          7.9,
          7.9,
          7.9,
          7.9,
          7.9,
          7.9,
          7.9,
          7.9,
          7.9,
          7.9,
          7.9,
          7.9,
          7.9,
          7.9,
          7.9,
          7.9,
          7.9,
          7.9,
          8.0,
          8.0,
          8.0,
          8.0,
          8.0,
          8.0,
          8.0,
          8.0,
          8.0,
          8.0,
          8.0,
          8.0,
          8.0,
          8.0,
          8.0,
          8.0,
          8.0,
          8.0,
          8.0,
          8.0,
          8.0,
          8.0,
          8.0,
          8.0,
          8.0,
          8.0,
          8.0,
          8.0,
          8.0,
          8.0,
          8.0,
          8.0,
          8.0,
          8.0,
          8.0,
          8.0,
          8.0,
          8.0,
          8.0,
          8.0,
          8.0,
          8.0,
          8.0,
          8.0,
          8.0,
          8.0,
          8.0,
          8.0,
          8.0,
          8.0,
          8.0,
          8.0,
          8.0,
          8.0,
          8.0,
          8.0,
          8.0,
          8.0,
          8.0,
          8.0,
          8.0,
          8.0,
          8.0,
          8.0,
          8.0,
          8.0,
          8.0,
          8.0,
          8.0,
          8.0,
          8.0,
          8.0,
          8.0,
          8.0,
          8.0,
          8.0,
          8.0,
          8.0,
          8.0,
          8.0,
          8.0,
          8.0,
          8.0,
          8.0,
          8.0,
          8.0,
          8.0,
          8.0,
          8.0,
          8.0,
          8.0,
          8.0,
          8.0,
          8.0,
          8.0,
          8.0,
          8.0,
          8.0,
          8.0,
          8.0,
          8.0,
          8.0,
          8.0,
          8.0,
          8.0,
          8.0,
          8.0,
          8.0,
          8.0,
          8.0,
          8.0,
          8.0,
          8.0,
          8.0,
          8.0,
          8.0,
          8.0,
          8.0,
          8.0,
          8.0,
          8.0,
          8.0,
          8.0,
          8.0,
          8.0,
          8.0,
          8.0,
          8.0,
          8.0,
          8.0,
          8.0,
          8.0,
          8.0,
          8.0,
          8.0,
          8.0,
          8.0,
          8.0,
          8.0,
          8.0,
          8.0,
          8.1,
          8.1,
          8.1,
          8.1,
          8.1,
          8.1,
          8.1,
          8.1,
          8.1,
          8.1,
          8.1,
          8.1,
          8.1,
          8.1,
          8.1,
          8.1,
          8.1,
          8.1,
          8.1,
          8.1,
          8.1,
          8.1,
          8.1,
          8.1,
          8.1,
          8.1,
          8.1,
          8.1,
          8.1,
          8.1,
          8.1,
          8.1,
          8.1,
          8.1,
          8.1,
          8.1,
          8.1,
          8.1,
          8.1,
          8.1,
          8.1,
          8.1,
          8.1,
          8.1,
          8.1,
          8.1,
          8.1,
          8.1,
          8.1,
          8.1,
          8.1,
          8.1,
          8.1,
          8.1,
          8.1,
          8.1,
          8.1,
          8.1,
          8.1,
          8.1,
          8.1,
          8.1,
          8.1,
          8.1,
          8.1,
          8.1,
          8.1,
          8.1,
          8.1,
          8.1,
          8.1,
          8.1,
          8.1,
          8.1,
          8.1,
          8.1,
          8.1,
          8.1,
          8.1,
          8.1,
          8.1,
          8.1,
          8.1,
          8.1,
          8.1,
          8.1,
          8.1,
          8.1,
          8.1,
          8.1,
          8.1,
          8.1,
          8.1,
          8.1,
          8.1,
          8.1,
          8.1,
          8.1,
          8.1,
          8.1,
          8.1,
          8.1,
          8.1,
          8.1,
          8.1,
          8.1,
          8.1,
          8.1,
          8.1,
          8.1,
          8.1,
          8.1,
          8.1,
          8.1,
          8.1,
          8.1,
          8.1,
          8.1,
          8.1,
          8.1,
          8.1,
          8.1,
          8.1,
          8.1,
          8.1,
          8.1,
          8.1,
          8.2,
          8.2,
          8.2,
          8.2,
          8.2,
          8.2,
          8.2,
          8.2,
          8.2,
          8.2,
          8.2,
          8.2,
          8.2,
          8.2,
          8.2,
          8.2,
          8.2,
          8.2,
          8.2,
          8.2,
          8.2,
          8.2,
          8.2,
          8.2,
          8.2,
          8.2,
          8.2,
          8.2,
          8.2,
          8.2,
          8.2,
          8.2,
          8.2,
          8.2,
          8.2,
          8.2,
          8.2,
          8.2,
          8.2,
          8.2,
          8.2,
          8.2,
          8.2,
          8.2,
          8.2,
          8.2,
          8.2,
          8.2,
          8.2,
          8.2,
          8.2,
          8.2,
          8.2,
          8.2,
          8.2,
          8.2,
          8.2,
          8.2,
          8.2,
          8.2,
          8.2,
          8.2,
          8.2,
          8.2,
          8.2,
          8.2,
          8.2,
          8.3,
          8.3,
          8.3,
          8.3,
          8.3,
          8.3,
          8.3,
          8.3,
          8.3,
          8.3,
          8.3,
          8.3,
          8.3,
          8.3,
          8.3,
          8.3,
          8.3,
          8.3,
          8.3,
          8.3,
          8.3,
          8.3,
          8.3,
          8.3,
          8.3,
          8.3,
          8.3,
          8.3,
          8.3,
          8.3,
          8.3,
          8.3,
          8.3,
          8.3,
          8.3,
          8.3,
          8.3,
          8.3,
          8.3,
          8.3,
          8.3,
          8.3,
          8.3,
          8.3,
          8.4,
          8.4,
          8.4,
          8.4,
          8.4,
          8.4,
          8.4,
          8.4,
          8.4,
          8.4,
          8.4,
          8.4,
          8.4,
          8.4,
          8.4,
          8.4,
          8.4,
          8.4,
          8.4,
          8.4,
          8.4,
          8.4,
          8.4,
          8.4,
          8.4,
          8.4,
          8.4,
          8.4,
          8.4,
          8.4,
          8.4,
          8.5,
          8.5,
          8.5,
          8.5,
          8.5,
          8.5,
          8.5,
          8.5,
          8.5,
          8.5,
          8.5,
          8.5,
          8.5,
          8.5,
          8.5,
          8.5,
          8.5,
          8.5,
          8.5,
          8.5,
          8.6,
          8.6,
          8.6,
          8.6,
          8.6,
          8.6,
          8.6,
          8.6,
          8.6,
          8.6,
          8.6,
          8.6,
          8.6,
          8.6,
          8.6,
          8.7,
          8.7,
          8.7,
          8.7,
          8.7,
          8.8,
          8.8,
          8.8,
          8.8,
          8.8,
          8.9,
          8.9,
          8.9,
          9.0,
          9.0,
          9.0,
          9.2,
          9.3
         ],
         "xaxis": "x",
         "y": [
          4.951672568857038E7,
          4.951672568857038E7,
          4.951672568857038E7,
          4.951672568857038E7,
          4.951672568857038E7,
          4.951672568857038E7,
          4.951672568857038E7,
          4.951672568857038E7,
          4.951672568857038E7,
          4.951672568857038E7,
          4.951672568857038E7,
          4.951672568857038E7,
          4.951672568857038E7,
          4.951672568857038E7,
          4.951672568857038E7,
          4.951672568857038E7,
          4.951672568857038E7,
          4.951672568857038E7,
          4.951672568857038E7,
          4.951672568857038E7,
          4.951672568857038E7,
          4.951672568857038E7,
          4.951672568857038E7,
          4.951672568857038E7,
          4.951672568857038E7,
          4.951672568857038E7,
          4.951672568857038E7,
          4.951672568857038E7,
          4.951672568857038E7,
          4.951672568857038E7,
          4.951672568857038E7,
          4.951672568857038E7,
          4.951672568857038E7,
          4.951672568857038E7,
          4.951672568857038E7,
          4.951672568857038E7,
          4.951672568857038E7,
          4.951672568857038E7,
          4.951672568857038E7,
          4.951672568857038E7,
          4.951672568857038E7,
          4.951672568857038E7,
          4.951672568857038E7,
          4.951672568857038E7,
          4.951672568857038E7,
          4.951672568857038E7,
          4.951672568857038E7,
          4.951672568857038E7,
          4.951672568857038E7,
          4.951672568857038E7,
          4.951672568857038E7,
          4.951672568857038E7,
          4.951672568857038E7,
          4.951672568857038E7,
          4.951672568857038E7,
          4.951672568857038E7,
          4.951672568857038E7,
          4.951672568857038E7,
          4.951672568857038E7,
          4.951672568857038E7,
          4.951672568857038E7,
          4.951672568857038E7,
          4.951672568857038E7,
          4.951672568857038E7,
          4.951672568857038E7,
          4.951672568857038E7,
          4.951672568857038E7,
          4.951672568857038E7,
          4.951672568857038E7,
          4.951672568857038E7,
          4.951672568857038E7,
          4.951672568857038E7,
          4.951672568857038E7,
          4.951672568857038E7,
          4.951672568857038E7,
          4.951672568857038E7,
          4.951672568857038E7,
          4.951672568857038E7,
          4.951672568857038E7,
          4.951672568857038E7,
          4.951672568857038E7,
          4.951672568857038E7,
          4.951672568857038E7,
          4.951672568857038E7,
          4.951672568857038E7,
          4.951672568857038E7,
          4.951672568857038E7,
          4.951672568857038E7,
          4.951672568857038E7,
          4.951672568857038E7,
          4.951672568857038E7,
          4.951672568857038E7,
          4.951672568857038E7,
          4.951672568857038E7,
          4.951672568857038E7,
          4.951672568857038E7,
          4.951672568857038E7,
          4.951672568857038E7,
          4.951672568857038E7,
          4.951672568857038E7,
          4.951672568857038E7,
          4.951672568857038E7,
          4.951672568857038E7,
          4.951672568857038E7,
          4.951672568857038E7,
          4.951672568857038E7,
          4.951672568857038E7,
          4.951672568857038E7,
          4.951672568857038E7,
          4.951672568857038E7,
          4.951672568857038E7,
          4.951672568857038E7,
          4.951672568857038E7,
          4.951672568857038E7,
          4.951672568857038E7,
          4.951672568857038E7,
          4.951672568857038E7,
          4.951672568857038E7,
          4.951672568857038E7,
          4.951672568857038E7,
          4.951672568857038E7,
          4.951672568857038E7,
          4.951672568857038E7,
          5.266498593346888E7,
          5.266498593346888E7,
          5.266498593346888E7,
          5.266498593346888E7,
          5.266498593346888E7,
          5.266498593346888E7,
          5.266498593346888E7,
          5.266498593346888E7,
          5.266498593346888E7,
          5.266498593346888E7,
          5.266498593346888E7,
          5.266498593346888E7,
          5.266498593346888E7,
          5.266498593346888E7,
          5.266498593346888E7,
          5.266498593346888E7,
          5.266498593346888E7,
          5.266498593346888E7,
          5.266498593346888E7,
          5.266498593346888E7,
          5.266498593346888E7,
          5.266498593346888E7,
          5.266498593346888E7,
          5.266498593346888E7,
          5.266498593346888E7,
          5.266498593346888E7,
          5.266498593346888E7,
          5.266498593346888E7,
          5.266498593346888E7,
          5.266498593346888E7,
          5.266498593346888E7,
          5.266498593346888E7,
          5.266498593346888E7,
          5.266498593346888E7,
          5.266498593346888E7,
          5.266498593346888E7,
          5.266498593346888E7,
          5.266498593346888E7,
          5.266498593346888E7,
          5.266498593346888E7,
          5.266498593346888E7,
          5.266498593346888E7,
          5.266498593346888E7,
          5.266498593346888E7,
          5.266498593346888E7,
          5.266498593346888E7,
          5.266498593346888E7,
          5.266498593346888E7,
          5.266498593346888E7,
          5.266498593346888E7,
          5.266498593346888E7,
          5.266498593346888E7,
          5.266498593346888E7,
          5.266498593346888E7,
          5.266498593346888E7,
          5.266498593346888E7,
          5.266498593346888E7,
          5.266498593346888E7,
          5.266498593346888E7,
          5.266498593346888E7,
          5.266498593346888E7,
          5.266498593346888E7,
          5.266498593346888E7,
          5.266498593346888E7,
          5.266498593346888E7,
          5.266498593346888E7,
          5.266498593346888E7,
          5.266498593346888E7,
          5.266498593346888E7,
          5.266498593346888E7,
          5.266498593346888E7,
          5.266498593346888E7,
          5.266498593346888E7,
          5.266498593346888E7,
          5.266498593346888E7,
          5.266498593346888E7,
          5.266498593346888E7,
          5.266498593346888E7,
          5.266498593346888E7,
          5.266498593346888E7,
          5.266498593346888E7,
          5.266498593346888E7,
          5.266498593346888E7,
          5.266498593346888E7,
          5.266498593346888E7,
          5.266498593346888E7,
          5.266498593346888E7,
          5.266498593346888E7,
          5.266498593346888E7,
          5.266498593346888E7,
          5.266498593346888E7,
          5.266498593346888E7,
          5.266498593346888E7,
          5.266498593346888E7,
          5.266498593346888E7,
          5.266498593346888E7,
          5.266498593346888E7,
          5.266498593346888E7,
          5.266498593346888E7,
          5.266498593346888E7,
          5.266498593346888E7,
          5.266498593346888E7,
          5.266498593346888E7,
          5.266498593346888E7,
          5.266498593346888E7,
          5.266498593346888E7,
          5.266498593346888E7,
          5.266498593346888E7,
          5.266498593346888E7,
          5.266498593346888E7,
          5.266498593346888E7,
          5.266498593346888E7,
          5.266498593346888E7,
          5.266498593346888E7,
          5.266498593346888E7,
          5.266498593346888E7,
          5.266498593346888E7,
          5.266498593346888E7,
          5.266498593346888E7,
          5.266498593346888E7,
          5.266498593346888E7,
          5.266498593346888E7,
          5.266498593346888E7,
          5.266498593346888E7,
          5.266498593346888E7,
          5.266498593346888E7,
          5.266498593346888E7,
          5.266498593346888E7,
          5.266498593346888E7,
          5.266498593346888E7,
          5.266498593346888E7,
          5.266498593346888E7,
          5.266498593346888E7,
          5.266498593346888E7,
          5.266498593346888E7,
          5.266498593346888E7,
          5.266498593346888E7,
          5.266498593346888E7,
          5.266498593346888E7,
          5.266498593346888E7,
          5.266498593346888E7,
          5.266498593346888E7,
          5.266498593346888E7,
          5.266498593346888E7,
          5.266498593346888E7,
          5.266498593346888E7,
          5.266498593346888E7,
          5.266498593346888E7,
          5.266498593346888E7,
          5.266498593346888E7,
          5.266498593346888E7,
          5.266498593346888E7,
          5.266498593346888E7,
          5.266498593346888E7,
          5.266498593346888E7,
          5.266498593346888E7,
          5.266498593346888E7,
          5.581324617836732E7,
          5.581324617836732E7,
          5.581324617836732E7,
          5.581324617836732E7,
          5.581324617836732E7,
          5.581324617836732E7,
          5.581324617836732E7,
          5.581324617836732E7,
          5.581324617836732E7,
          5.581324617836732E7,
          5.581324617836732E7,
          5.581324617836732E7,
          5.581324617836732E7,
          5.581324617836732E7,
          5.581324617836732E7,
          5.581324617836732E7,
          5.581324617836732E7,
          5.581324617836732E7,
          5.581324617836732E7,
          5.581324617836732E7,
          5.581324617836732E7,
          5.581324617836732E7,
          5.581324617836732E7,
          5.581324617836732E7,
          5.581324617836732E7,
          5.581324617836732E7,
          5.581324617836732E7,
          5.581324617836732E7,
          5.581324617836732E7,
          5.581324617836732E7,
          5.581324617836732E7,
          5.581324617836732E7,
          5.581324617836732E7,
          5.581324617836732E7,
          5.581324617836732E7,
          5.581324617836732E7,
          5.581324617836732E7,
          5.581324617836732E7,
          5.581324617836732E7,
          5.581324617836732E7,
          5.581324617836732E7,
          5.581324617836732E7,
          5.581324617836732E7,
          5.581324617836732E7,
          5.581324617836732E7,
          5.581324617836732E7,
          5.581324617836732E7,
          5.581324617836732E7,
          5.581324617836732E7,
          5.581324617836732E7,
          5.581324617836732E7,
          5.581324617836732E7,
          5.581324617836732E7,
          5.581324617836732E7,
          5.581324617836732E7,
          5.581324617836732E7,
          5.581324617836732E7,
          5.581324617836732E7,
          5.581324617836732E7,
          5.581324617836732E7,
          5.581324617836732E7,
          5.581324617836732E7,
          5.581324617836732E7,
          5.581324617836732E7,
          5.581324617836732E7,
          5.581324617836732E7,
          5.581324617836732E7,
          5.581324617836732E7,
          5.581324617836732E7,
          5.581324617836732E7,
          5.581324617836732E7,
          5.581324617836732E7,
          5.581324617836732E7,
          5.581324617836732E7,
          5.581324617836732E7,
          5.581324617836732E7,
          5.581324617836732E7,
          5.581324617836732E7,
          5.581324617836732E7,
          5.581324617836732E7,
          5.581324617836732E7,
          5.581324617836732E7,
          5.581324617836732E7,
          5.581324617836732E7,
          5.581324617836732E7,
          5.581324617836732E7,
          5.581324617836732E7,
          5.581324617836732E7,
          5.581324617836732E7,
          5.581324617836732E7,
          5.581324617836732E7,
          5.581324617836732E7,
          5.581324617836732E7,
          5.581324617836732E7,
          5.581324617836732E7,
          5.581324617836732E7,
          5.581324617836732E7,
          5.581324617836732E7,
          5.581324617836732E7,
          5.581324617836732E7,
          5.581324617836732E7,
          5.581324617836732E7,
          5.581324617836732E7,
          5.581324617836732E7,
          5.581324617836732E7,
          5.581324617836732E7,
          5.581324617836732E7,
          5.581324617836732E7,
          5.581324617836732E7,
          5.581324617836732E7,
          5.581324617836732E7,
          5.581324617836732E7,
          5.581324617836732E7,
          5.581324617836732E7,
          5.581324617836732E7,
          5.581324617836732E7,
          5.581324617836732E7,
          5.581324617836732E7,
          5.581324617836732E7,
          5.581324617836732E7,
          5.581324617836732E7,
          5.581324617836732E7,
          5.581324617836732E7,
          5.581324617836732E7,
          5.581324617836732E7,
          5.581324617836732E7,
          5.581324617836732E7,
          5.581324617836732E7,
          5.581324617836732E7,
          5.581324617836732E7,
          5.581324617836732E7,
          5.581324617836732E7,
          5.581324617836732E7,
          5.581324617836732E7,
          5.581324617836732E7,
          5.581324617836732E7,
          5.581324617836732E7,
          5.581324617836732E7,
          5.581324617836732E7,
          5.581324617836732E7,
          5.581324617836732E7,
          5.581324617836732E7,
          5.581324617836732E7,
          5.581324617836732E7,
          5.581324617836732E7,
          5.581324617836732E7,
          5.581324617836732E7,
          5.581324617836732E7,
          5.581324617836732E7,
          5.581324617836732E7,
          5.581324617836732E7,
          5.8961506423265815E7,
          5.8961506423265815E7,
          5.8961506423265815E7,
          5.8961506423265815E7,
          5.8961506423265815E7,
          5.8961506423265815E7,
          5.8961506423265815E7,
          5.8961506423265815E7,
          5.8961506423265815E7,
          5.8961506423265815E7,
          5.8961506423265815E7,
          5.8961506423265815E7,
          5.8961506423265815E7,
          5.8961506423265815E7,
          5.8961506423265815E7,
          5.8961506423265815E7,
          5.8961506423265815E7,
          5.8961506423265815E7,
          5.8961506423265815E7,
          5.8961506423265815E7,
          5.8961506423265815E7,
          5.8961506423265815E7,
          5.8961506423265815E7,
          5.8961506423265815E7,
          5.8961506423265815E7,
          5.8961506423265815E7,
          5.8961506423265815E7,
          5.8961506423265815E7,
          5.8961506423265815E7,
          5.8961506423265815E7,
          5.8961506423265815E7,
          5.8961506423265815E7,
          5.8961506423265815E7,
          5.8961506423265815E7,
          5.8961506423265815E7,
          5.8961506423265815E7,
          5.8961506423265815E7,
          5.8961506423265815E7,
          5.8961506423265815E7,
          5.8961506423265815E7,
          5.8961506423265815E7,
          5.8961506423265815E7,
          5.8961506423265815E7,
          5.8961506423265815E7,
          5.8961506423265815E7,
          5.8961506423265815E7,
          5.8961506423265815E7,
          5.8961506423265815E7,
          5.8961506423265815E7,
          5.8961506423265815E7,
          5.8961506423265815E7,
          5.8961506423265815E7,
          5.8961506423265815E7,
          5.8961506423265815E7,
          5.8961506423265815E7,
          5.8961506423265815E7,
          5.8961506423265815E7,
          5.8961506423265815E7,
          5.8961506423265815E7,
          5.8961506423265815E7,
          5.8961506423265815E7,
          5.8961506423265815E7,
          5.8961506423265815E7,
          5.8961506423265815E7,
          5.8961506423265815E7,
          5.8961506423265815E7,
          5.8961506423265815E7,
          5.8961506423265815E7,
          5.8961506423265815E7,
          5.8961506423265815E7,
          5.8961506423265815E7,
          5.8961506423265815E7,
          5.8961506423265815E7,
          5.8961506423265815E7,
          5.8961506423265815E7,
          5.8961506423265815E7,
          5.8961506423265815E7,
          5.8961506423265815E7,
          5.8961506423265815E7,
          5.8961506423265815E7,
          5.8961506423265815E7,
          5.8961506423265815E7,
          5.8961506423265815E7,
          5.8961506423265815E7,
          5.8961506423265815E7,
          5.8961506423265815E7,
          5.8961506423265815E7,
          5.8961506423265815E7,
          5.8961506423265815E7,
          5.8961506423265815E7,
          5.8961506423265815E7,
          5.8961506423265815E7,
          5.8961506423265815E7,
          5.8961506423265815E7,
          5.8961506423265815E7,
          5.8961506423265815E7,
          5.8961506423265815E7,
          5.8961506423265815E7,
          5.8961506423265815E7,
          5.8961506423265815E7,
          5.8961506423265815E7,
          5.8961506423265815E7,
          5.8961506423265815E7,
          5.8961506423265815E7,
          5.8961506423265815E7,
          5.8961506423265815E7,
          6.210976666816425E7,
          6.210976666816425E7,
          6.210976666816425E7,
          6.210976666816425E7,
          6.210976666816425E7,
          6.210976666816425E7,
          6.210976666816425E7,
          6.210976666816425E7,
          6.210976666816425E7,
          6.210976666816425E7,
          6.210976666816425E7,
          6.210976666816425E7,
          6.210976666816425E7,
          6.210976666816425E7,
          6.210976666816425E7,
          6.210976666816425E7,
          6.210976666816425E7,
          6.210976666816425E7,
          6.210976666816425E7,
          6.210976666816425E7,
          6.210976666816425E7,
          6.210976666816425E7,
          6.210976666816425E7,
          6.210976666816425E7,
          6.210976666816425E7,
          6.210976666816425E7,
          6.210976666816425E7,
          6.210976666816425E7,
          6.210976666816425E7,
          6.210976666816425E7,
          6.210976666816425E7,
          6.210976666816425E7,
          6.210976666816425E7,
          6.210976666816425E7,
          6.210976666816425E7,
          6.210976666816425E7,
          6.210976666816425E7,
          6.210976666816425E7,
          6.210976666816425E7,
          6.210976666816425E7,
          6.210976666816425E7,
          6.210976666816425E7,
          6.210976666816425E7,
          6.210976666816425E7,
          6.210976666816425E7,
          6.210976666816425E7,
          6.210976666816425E7,
          6.210976666816425E7,
          6.210976666816425E7,
          6.210976666816425E7,
          6.210976666816425E7,
          6.210976666816425E7,
          6.210976666816425E7,
          6.210976666816425E7,
          6.210976666816425E7,
          6.210976666816425E7,
          6.210976666816425E7,
          6.210976666816425E7,
          6.210976666816425E7,
          6.210976666816425E7,
          6.210976666816425E7,
          6.210976666816425E7,
          6.210976666816425E7,
          6.210976666816425E7,
          6.210976666816425E7,
          6.210976666816425E7,
          6.210976666816425E7,
          6.210976666816425E7,
          6.210976666816425E7,
          6.210976666816425E7,
          6.210976666816425E7,
          6.210976666816425E7,
          6.210976666816425E7,
          6.210976666816425E7,
          6.210976666816425E7,
          6.210976666816425E7,
          6.210976666816425E7,
          6.210976666816425E7,
          6.210976666816425E7,
          6.210976666816425E7,
          6.210976666816425E7,
          6.210976666816425E7,
          6.210976666816425E7,
          6.210976666816425E7,
          6.210976666816425E7,
          6.210976666816425E7,
          6.210976666816425E7,
          6.210976666816425E7,
          6.210976666816425E7,
          6.210976666816425E7,
          6.210976666816425E7,
          6.210976666816425E7,
          6.210976666816425E7,
          6.210976666816425E7,
          6.210976666816425E7,
          6.210976666816425E7,
          6.210976666816425E7,
          6.210976666816425E7,
          6.210976666816425E7,
          6.210976666816425E7,
          6.210976666816425E7,
          6.210976666816425E7,
          6.210976666816425E7,
          6.210976666816425E7,
          6.210976666816425E7,
          6.210976666816425E7,
          6.210976666816425E7,
          6.210976666816425E7,
          6.210976666816425E7,
          6.210976666816425E7,
          6.210976666816425E7,
          6.210976666816425E7,
          6.210976666816425E7,
          6.210976666816425E7,
          6.210976666816425E7,
          6.210976666816425E7,
          6.210976666816425E7,
          6.210976666816425E7,
          6.210976666816425E7,
          6.210976666816425E7,
          6.210976666816425E7,
          6.210976666816425E7,
          6.210976666816425E7,
          6.210976666816425E7,
          6.210976666816425E7,
          6.210976666816425E7,
          6.210976666816425E7,
          6.210976666816425E7,
          6.210976666816425E7,
          6.210976666816425E7,
          6.210976666816425E7,
          6.210976666816425E7,
          6.210976666816425E7,
          6.210976666816425E7,
          6.210976666816425E7,
          6.210976666816425E7,
          6.210976666816425E7,
          6.210976666816425E7,
          6.210976666816425E7,
          6.210976666816425E7,
          6.210976666816425E7,
          6.525802691306269E7,
          6.525802691306269E7,
          6.525802691306269E7,
          6.525802691306269E7,
          6.525802691306269E7,
          6.525802691306269E7,
          6.525802691306269E7,
          6.525802691306269E7,
          6.525802691306269E7,
          6.525802691306269E7,
          6.525802691306269E7,
          6.525802691306269E7,
          6.525802691306269E7,
          6.525802691306269E7,
          6.525802691306269E7,
          6.525802691306269E7,
          6.525802691306269E7,
          6.525802691306269E7,
          6.525802691306269E7,
          6.525802691306269E7,
          6.525802691306269E7,
          6.525802691306269E7,
          6.525802691306269E7,
          6.525802691306269E7,
          6.525802691306269E7,
          6.525802691306269E7,
          6.525802691306269E7,
          6.525802691306269E7,
          6.525802691306269E7,
          6.525802691306269E7,
          6.525802691306269E7,
          6.525802691306269E7,
          6.525802691306269E7,
          6.525802691306269E7,
          6.525802691306269E7,
          6.525802691306269E7,
          6.525802691306269E7,
          6.525802691306269E7,
          6.525802691306269E7,
          6.525802691306269E7,
          6.525802691306269E7,
          6.525802691306269E7,
          6.525802691306269E7,
          6.525802691306269E7,
          6.525802691306269E7,
          6.525802691306269E7,
          6.525802691306269E7,
          6.525802691306269E7,
          6.525802691306269E7,
          6.525802691306269E7,
          6.525802691306269E7,
          6.525802691306269E7,
          6.525802691306269E7,
          6.525802691306269E7,
          6.525802691306269E7,
          6.525802691306269E7,
          6.525802691306269E7,
          6.525802691306269E7,
          6.525802691306269E7,
          6.525802691306269E7,
          6.525802691306269E7,
          6.525802691306269E7,
          6.525802691306269E7,
          6.525802691306269E7,
          6.525802691306269E7,
          6.525802691306269E7,
          6.525802691306269E7,
          6.525802691306269E7,
          6.525802691306269E7,
          6.525802691306269E7,
          6.525802691306269E7,
          6.525802691306269E7,
          6.525802691306269E7,
          6.525802691306269E7,
          6.525802691306269E7,
          6.525802691306269E7,
          6.525802691306269E7,
          6.525802691306269E7,
          6.525802691306269E7,
          6.525802691306269E7,
          6.525802691306269E7,
          6.525802691306269E7,
          6.525802691306269E7,
          6.525802691306269E7,
          6.525802691306269E7,
          6.525802691306269E7,
          6.525802691306269E7,
          6.525802691306269E7,
          6.525802691306269E7,
          6.525802691306269E7,
          6.525802691306269E7,
          6.525802691306269E7,
          6.525802691306269E7,
          6.525802691306269E7,
          6.525802691306269E7,
          6.525802691306269E7,
          6.525802691306269E7,
          6.525802691306269E7,
          6.525802691306269E7,
          6.525802691306269E7,
          6.525802691306269E7,
          6.525802691306269E7,
          6.525802691306269E7,
          6.525802691306269E7,
          6.525802691306269E7,
          6.525802691306269E7,
          6.525802691306269E7,
          6.525802691306269E7,
          6.525802691306269E7,
          6.525802691306269E7,
          6.525802691306269E7,
          6.525802691306269E7,
          6.525802691306269E7,
          6.525802691306269E7,
          6.525802691306269E7,
          6.525802691306269E7,
          6.525802691306269E7,
          6.525802691306269E7,
          6.525802691306269E7,
          6.525802691306269E7,
          6.525802691306269E7,
          6.525802691306269E7,
          6.525802691306269E7,
          6.525802691306269E7,
          6.525802691306269E7,
          6.525802691306269E7,
          6.525802691306269E7,
          6.840628715796116E7,
          6.840628715796116E7,
          6.840628715796116E7,
          6.840628715796116E7,
          6.840628715796116E7,
          6.840628715796116E7,
          6.840628715796116E7,
          6.840628715796116E7,
          6.840628715796116E7,
          6.840628715796116E7,
          6.840628715796116E7,
          6.840628715796116E7,
          6.840628715796116E7,
          6.840628715796116E7,
          6.840628715796116E7,
          6.840628715796116E7,
          6.840628715796116E7,
          6.840628715796116E7,
          6.840628715796116E7,
          6.840628715796116E7,
          6.840628715796116E7,
          6.840628715796116E7,
          6.840628715796116E7,
          6.840628715796116E7,
          6.840628715796116E7,
          6.840628715796116E7,
          6.840628715796116E7,
          6.840628715796116E7,
          6.840628715796116E7,
          6.840628715796116E7,
          6.840628715796116E7,
          6.840628715796116E7,
          6.840628715796116E7,
          6.840628715796116E7,
          6.840628715796116E7,
          6.840628715796116E7,
          6.840628715796116E7,
          6.840628715796116E7,
          6.840628715796116E7,
          6.840628715796116E7,
          6.840628715796116E7,
          6.840628715796116E7,
          6.840628715796116E7,
          6.840628715796116E7,
          6.840628715796116E7,
          6.840628715796116E7,
          6.840628715796116E7,
          6.840628715796116E7,
          6.840628715796116E7,
          6.840628715796116E7,
          6.840628715796116E7,
          6.840628715796116E7,
          6.840628715796116E7,
          6.840628715796116E7,
          6.840628715796116E7,
          6.840628715796116E7,
          6.840628715796116E7,
          6.840628715796116E7,
          6.840628715796116E7,
          6.840628715796116E7,
          6.840628715796116E7,
          6.840628715796116E7,
          6.840628715796116E7,
          6.840628715796116E7,
          6.840628715796116E7,
          6.840628715796116E7,
          6.840628715796116E7,
          7.155454740285966E7,
          7.155454740285966E7,
          7.155454740285966E7,
          7.155454740285966E7,
          7.155454740285966E7,
          7.155454740285966E7,
          7.155454740285966E7,
          7.155454740285966E7,
          7.155454740285966E7,
          7.155454740285966E7,
          7.155454740285966E7,
          7.155454740285966E7,
          7.155454740285966E7,
          7.155454740285966E7,
          7.155454740285966E7,
          7.155454740285966E7,
          7.155454740285966E7,
          7.155454740285966E7,
          7.155454740285966E7,
          7.155454740285966E7,
          7.155454740285966E7,
          7.155454740285966E7,
          7.155454740285966E7,
          7.155454740285966E7,
          7.155454740285966E7,
          7.155454740285966E7,
          7.155454740285966E7,
          7.155454740285966E7,
          7.155454740285966E7,
          7.155454740285966E7,
          7.155454740285966E7,
          7.155454740285966E7,
          7.155454740285966E7,
          7.155454740285966E7,
          7.155454740285966E7,
          7.155454740285966E7,
          7.155454740285966E7,
          7.155454740285966E7,
          7.155454740285966E7,
          7.155454740285966E7,
          7.155454740285966E7,
          7.155454740285966E7,
          7.155454740285966E7,
          7.155454740285966E7,
          7.470280764775813E7,
          7.470280764775813E7,
          7.470280764775813E7,
          7.470280764775813E7,
          7.470280764775813E7,
          7.470280764775813E7,
          7.470280764775813E7,
          7.470280764775813E7,
          7.470280764775813E7,
          7.470280764775813E7,
          7.470280764775813E7,
          7.470280764775813E7,
          7.470280764775813E7,
          7.470280764775813E7,
          7.470280764775813E7,
          7.470280764775813E7,
          7.470280764775813E7,
          7.470280764775813E7,
          7.470280764775813E7,
          7.470280764775813E7,
          7.470280764775813E7,
          7.470280764775813E7,
          7.470280764775813E7,
          7.470280764775813E7,
          7.470280764775813E7,
          7.470280764775813E7,
          7.470280764775813E7,
          7.470280764775813E7,
          7.470280764775813E7,
          7.470280764775813E7,
          7.470280764775813E7,
          7.785106789265656E7,
          7.785106789265656E7,
          7.785106789265656E7,
          7.785106789265656E7,
          7.785106789265656E7,
          7.785106789265656E7,
          7.785106789265656E7,
          7.785106789265656E7,
          7.785106789265656E7,
          7.785106789265656E7,
          7.785106789265656E7,
          7.785106789265656E7,
          7.785106789265656E7,
          7.785106789265656E7,
          7.785106789265656E7,
          7.785106789265656E7,
          7.785106789265656E7,
          7.785106789265656E7,
          7.785106789265656E7,
          7.785106789265656E7,
          8.0999328137555E7,
          8.0999328137555E7,
          8.0999328137555E7,
          8.0999328137555E7,
          8.0999328137555E7,
          8.0999328137555E7,
          8.0999328137555E7,
          8.0999328137555E7,
          8.0999328137555E7,
          8.0999328137555E7,
          8.0999328137555E7,
          8.0999328137555E7,
          8.0999328137555E7,
          8.0999328137555E7,
          8.0999328137555E7,
          8.41475883824535E7,
          8.41475883824535E7,
          8.41475883824535E7,
          8.41475883824535E7,
          8.41475883824535E7,
          8.7295848627352E7,
          8.7295848627352E7,
          8.7295848627352E7,
          8.7295848627352E7,
          8.7295848627352E7,
          9.044410887225044E7,
          9.044410887225044E7,
          9.044410887225044E7,
          9.359236911714888E7,
          9.359236911714888E7,
          9.359236911714888E7,
          9.988888960694581E7,
          1.0303714985184431E8
         ],
         "yaxis": "y",
         "type": "scatter"
        }
       ],
       "layout": {
        "template": {
         "data": {
          "histogram2dcontour": [
           {
            "type": "histogram2dcontour",
            "colorbar": {
             "outlinewidth": 0,
             "ticks": ""
            },
            "colorscale": [
             [
              0.0,
              "#0d0887"
             ],
             [
              0.1111111111111111,
              "#46039f"
             ],
             [
              0.2222222222222222,
              "#7201a8"
             ],
             [
              0.3333333333333333,
              "#9c179e"
             ],
             [
              0.4444444444444444,
              "#bd3786"
             ],
             [
              0.5555555555555556,
              "#d8576b"
             ],
             [
              0.6666666666666666,
              "#ed7953"
             ],
             [
              0.7777777777777778,
              "#fb9f3a"
             ],
             [
              0.8888888888888888,
              "#fdca26"
             ],
             [
              1.0,
              "#f0f921"
             ]
            ]
           }
          ],
          "choropleth": [
           {
            "type": "choropleth",
            "colorbar": {
             "outlinewidth": 0,
             "ticks": ""
            }
           }
          ],
          "histogram2d": [
           {
            "type": "histogram2d",
            "colorbar": {
             "outlinewidth": 0,
             "ticks": ""
            },
            "colorscale": [
             [
              0.0,
              "#0d0887"
             ],
             [
              0.1111111111111111,
              "#46039f"
             ],
             [
              0.2222222222222222,
              "#7201a8"
             ],
             [
              0.3333333333333333,
              "#9c179e"
             ],
             [
              0.4444444444444444,
              "#bd3786"
             ],
             [
              0.5555555555555556,
              "#d8576b"
             ],
             [
              0.6666666666666666,
              "#ed7953"
             ],
             [
              0.7777777777777778,
              "#fb9f3a"
             ],
             [
              0.8888888888888888,
              "#fdca26"
             ],
             [
              1.0,
              "#f0f921"
             ]
            ]
           }
          ],
          "heatmap": [
           {
            "type": "heatmap",
            "colorbar": {
             "outlinewidth": 0,
             "ticks": ""
            },
            "colorscale": [
             [
              0.0,
              "#0d0887"
             ],
             [
              0.1111111111111111,
              "#46039f"
             ],
             [
              0.2222222222222222,
              "#7201a8"
             ],
             [
              0.3333333333333333,
              "#9c179e"
             ],
             [
              0.4444444444444444,
              "#bd3786"
             ],
             [
              0.5555555555555556,
              "#d8576b"
             ],
             [
              0.6666666666666666,
              "#ed7953"
             ],
             [
              0.7777777777777778,
              "#fb9f3a"
             ],
             [
              0.8888888888888888,
              "#fdca26"
             ],
             [
              1.0,
              "#f0f921"
             ]
            ]
           }
          ],
          "heatmapgl": [
           {
            "type": "heatmapgl",
            "colorbar": {
             "outlinewidth": 0,
             "ticks": ""
            },
            "colorscale": [
             [
              0.0,
              "#0d0887"
             ],
             [
              0.1111111111111111,
              "#46039f"
             ],
             [
              0.2222222222222222,
              "#7201a8"
             ],
             [
              0.3333333333333333,
              "#9c179e"
             ],
             [
              0.4444444444444444,
              "#bd3786"
             ],
             [
              0.5555555555555556,
              "#d8576b"
             ],
             [
              0.6666666666666666,
              "#ed7953"
             ],
             [
              0.7777777777777778,
              "#fb9f3a"
             ],
             [
              0.8888888888888888,
              "#fdca26"
             ],
             [
              1.0,
              "#f0f921"
             ]
            ]
           }
          ],
          "contourcarpet": [
           {
            "type": "contourcarpet",
            "colorbar": {
             "outlinewidth": 0,
             "ticks": ""
            }
           }
          ],
          "contour": [
           {
            "type": "contour",
            "colorbar": {
             "outlinewidth": 0,
             "ticks": ""
            },
            "colorscale": [
             [
              0.0,
              "#0d0887"
             ],
             [
              0.1111111111111111,
              "#46039f"
             ],
             [
              0.2222222222222222,
              "#7201a8"
             ],
             [
              0.3333333333333333,
              "#9c179e"
             ],
             [
              0.4444444444444444,
              "#bd3786"
             ],
             [
              0.5555555555555556,
              "#d8576b"
             ],
             [
              0.6666666666666666,
              "#ed7953"
             ],
             [
              0.7777777777777778,
              "#fb9f3a"
             ],
             [
              0.8888888888888888,
              "#fdca26"
             ],
             [
              1.0,
              "#f0f921"
             ]
            ]
           }
          ],
          "surface": [
           {
            "type": "surface",
            "colorbar": {
             "outlinewidth": 0,
             "ticks": ""
            },
            "colorscale": [
             [
              0.0,
              "#0d0887"
             ],
             [
              0.1111111111111111,
              "#46039f"
             ],
             [
              0.2222222222222222,
              "#7201a8"
             ],
             [
              0.3333333333333333,
              "#9c179e"
             ],
             [
              0.4444444444444444,
              "#bd3786"
             ],
             [
              0.5555555555555556,
              "#d8576b"
             ],
             [
              0.6666666666666666,
              "#ed7953"
             ],
             [
              0.7777777777777778,
              "#fb9f3a"
             ],
             [
              0.8888888888888888,
              "#fdca26"
             ],
             [
              1.0,
              "#f0f921"
             ]
            ]
           }
          ],
          "mesh3d": [
           {
            "type": "mesh3d",
            "colorbar": {
             "outlinewidth": 0,
             "ticks": ""
            }
           }
          ],
          "scatter": [
           {
            "marker": {
             "line": {
              "color": "#283442"
             }
            },
            "type": "scatter"
           }
          ],
          "parcoords": [
           {
            "type": "parcoords",
            "line": {
             "colorbar": {
              "outlinewidth": 0,
              "ticks": ""
             }
            }
           }
          ],
          "scatterpolargl": [
           {
            "type": "scatterpolargl",
            "marker": {
             "colorbar": {
              "outlinewidth": 0,
              "ticks": ""
             }
            }
           }
          ],
          "bar": [
           {
            "error_x": {
             "color": "#f2f5fa"
            },
            "error_y": {
             "color": "#f2f5fa"
            },
            "marker": {
             "line": {
              "color": "rgb(17,17,17)",
              "width": 0.5
             },
             "pattern": {
              "fillmode": "overlay",
              "size": 10,
              "solidity": 0.2
             }
            },
            "type": "bar"
           }
          ],
          "scattergeo": [
           {
            "type": "scattergeo",
            "marker": {
             "colorbar": {
              "outlinewidth": 0,
              "ticks": ""
             }
            }
           }
          ],
          "scatterpolar": [
           {
            "type": "scatterpolar",
            "marker": {
             "colorbar": {
              "outlinewidth": 0,
              "ticks": ""
             }
            }
           }
          ],
          "histogram": [
           {
            "marker": {
             "pattern": {
              "fillmode": "overlay",
              "size": 10,
              "solidity": 0.2
             }
            },
            "type": "histogram"
           }
          ],
          "scattergl": [
           {
            "marker": {
             "line": {
              "color": "#283442"
             }
            },
            "type": "scattergl"
           }
          ],
          "scatter3d": [
           {
            "type": "scatter3d",
            "line": {
             "colorbar": {
              "outlinewidth": 0,
              "ticks": ""
             }
            },
            "marker": {
             "colorbar": {
              "outlinewidth": 0,
              "ticks": ""
             }
            }
           }
          ],
          "scattermapbox": [
           {
            "type": "scattermapbox",
            "marker": {
             "colorbar": {
              "outlinewidth": 0,
              "ticks": ""
             }
            }
           }
          ],
          "scatterternary": [
           {
            "type": "scatterternary",
            "marker": {
             "colorbar": {
              "outlinewidth": 0,
              "ticks": ""
             }
            }
           }
          ],
          "scattercarpet": [
           {
            "type": "scattercarpet",
            "marker": {
             "colorbar": {
              "outlinewidth": 0,
              "ticks": ""
             }
            }
           }
          ],
          "carpet": [
           {
            "aaxis": {
             "endlinecolor": "#A2B1C6",
             "gridcolor": "#506784",
             "linecolor": "#506784",
             "minorgridcolor": "#506784",
             "startlinecolor": "#A2B1C6"
            },
            "baxis": {
             "endlinecolor": "#A2B1C6",
             "gridcolor": "#506784",
             "linecolor": "#506784",
             "minorgridcolor": "#506784",
             "startlinecolor": "#A2B1C6"
            },
            "type": "carpet"
           }
          ],
          "table": [
           {
            "cells": {
             "fill": {
              "color": "#506784"
             },
             "line": {
              "color": "rgb(17,17,17)"
             }
            },
            "header": {
             "fill": {
              "color": "#2a3f5f"
             },
             "line": {
              "color": "rgb(17,17,17)"
             }
            },
            "type": "table"
           }
          ],
          "barpolar": [
           {
            "marker": {
             "line": {
              "color": "rgb(17,17,17)",
              "width": 0.5
             },
             "pattern": {
              "fillmode": "overlay",
              "size": 10,
              "solidity": 0.2
             }
            },
            "type": "barpolar"
           }
          ],
          "pie": [
           {
            "automargin": true,
            "type": "pie"
           }
          ]
         },
         "layout": {
          "autotypenumbers": "strict",
          "colorway": [
           "#636efa",
           "#EF553B",
           "#00cc96",
           "#ab63fa",
           "#FFA15A",
           "#19d3f3",
           "#FF6692",
           "#B6E880",
           "#FF97FF",
           "#FECB52"
          ],
          "font": {
           "color": "#f2f5fa"
          },
          "hovermode": "closest",
          "hoverlabel": {
           "align": "left"
          },
          "paper_bgcolor": "rgb(17,17,17)",
          "plot_bgcolor": "rgb(17,17,17)",
          "polar": {
           "bgcolor": "rgb(17,17,17)",
           "angularaxis": {
            "gridcolor": "#506784",
            "linecolor": "#506784",
            "ticks": ""
           },
           "radialaxis": {
            "gridcolor": "#506784",
            "linecolor": "#506784",
            "ticks": ""
           }
          },
          "ternary": {
           "bgcolor": "rgb(17,17,17)",
           "aaxis": {
            "gridcolor": "#506784",
            "linecolor": "#506784",
            "ticks": ""
           },
           "baxis": {
            "gridcolor": "#506784",
            "linecolor": "#506784",
            "ticks": ""
           },
           "caxis": {
            "gridcolor": "#506784",
            "linecolor": "#506784",
            "ticks": ""
           }
          },
          "coloraxis": {
           "colorbar": {
            "outlinewidth": 0,
            "ticks": ""
           }
          },
          "colorscale": {
           "sequential": [
            [
             0.0,
             "#0d0887"
            ],
            [
             0.1111111111111111,
             "#46039f"
            ],
            [
             0.2222222222222222,
             "#7201a8"
            ],
            [
             0.3333333333333333,
             "#9c179e"
            ],
            [
             0.4444444444444444,
             "#bd3786"
            ],
            [
             0.5555555555555556,
             "#d8576b"
            ],
            [
             0.6666666666666666,
             "#ed7953"
            ],
            [
             0.7777777777777778,
             "#fb9f3a"
            ],
            [
             0.8888888888888888,
             "#fdca26"
            ],
            [
             1.0,
             "#f0f921"
            ]
           ],
           "sequentialminus": [
            [
             0.0,
             "#0d0887"
            ],
            [
             0.1111111111111111,
             "#46039f"
            ],
            [
             0.2222222222222222,
             "#7201a8"
            ],
            [
             0.3333333333333333,
             "#9c179e"
            ],
            [
             0.4444444444444444,
             "#bd3786"
            ],
            [
             0.5555555555555556,
             "#d8576b"
            ],
            [
             0.6666666666666666,
             "#ed7953"
            ],
            [
             0.7777777777777778,
             "#fb9f3a"
            ],
            [
             0.8888888888888888,
             "#fdca26"
            ],
            [
             1.0,
             "#f0f921"
            ]
           ],
           "diverging": [
            [
             0,
             "#8e0152"
            ],
            [
             0.1,
             "#c51b7d"
            ],
            [
             0.2,
             "#de77ae"
            ],
            [
             0.3,
             "#f1b6da"
            ],
            [
             0.4,
             "#fde0ef"
            ],
            [
             0.5,
             "#f7f7f7"
            ],
            [
             0.6,
             "#e6f5d0"
            ],
            [
             0.7,
             "#b8e186"
            ],
            [
             0.8,
             "#7fbc41"
            ],
            [
             0.9,
             "#4d9221"
            ],
            [
             1,
             "#276419"
            ]
           ]
          },
          "xaxis": {
           "gridcolor": "#283442",
           "linecolor": "#506784",
           "ticks": "",
           "title": {
            "standoff": 15
           },
           "zerolinecolor": "#283442",
           "automargin": true,
           "zerolinewidth": 2
          },
          "yaxis": {
           "gridcolor": "#283442",
           "linecolor": "#506784",
           "ticks": "",
           "title": {
            "standoff": 15
           },
           "zerolinecolor": "#283442",
           "automargin": true,
           "zerolinewidth": 2
          },
          "scene": {
           "xaxis": {
            "backgroundcolor": "rgb(17,17,17)",
            "gridcolor": "#506784",
            "linecolor": "#506784",
            "showbackground": true,
            "ticks": "",
            "zerolinecolor": "#C8D4E3",
            "gridwidth": 2
           },
           "yaxis": {
            "backgroundcolor": "rgb(17,17,17)",
            "gridcolor": "#506784",
            "linecolor": "#506784",
            "showbackground": true,
            "ticks": "",
            "zerolinecolor": "#C8D4E3",
            "gridwidth": 2
           },
           "zaxis": {
            "backgroundcolor": "rgb(17,17,17)",
            "gridcolor": "#506784",
            "linecolor": "#506784",
            "showbackground": true,
            "ticks": "",
            "zerolinecolor": "#C8D4E3",
            "gridwidth": 2
           }
          },
          "shapedefaults": {
           "line": {
            "color": "#f2f5fa"
           }
          },
          "annotationdefaults": {
           "arrowcolor": "#f2f5fa",
           "arrowhead": 0,
           "arrowwidth": 1
          },
          "geo": {
           "bgcolor": "rgb(17,17,17)",
           "landcolor": "rgb(17,17,17)",
           "subunitcolor": "#506784",
           "showland": true,
           "showlakes": true,
           "lakecolor": "rgb(17,17,17)"
          },
          "title": {
           "x": 0.05
          },
          "updatemenudefaults": {
           "bgcolor": "#506784",
           "borderwidth": 0
          },
          "sliderdefaults": {
           "bgcolor": "#C8D4E3",
           "borderwidth": 1,
           "bordercolor": "rgb(17,17,17)",
           "tickwidth": 0
          },
          "mapbox": {
           "style": "dark"
          }
         }
        },
        "xaxis": {
         "anchor": "y",
         "domain": [
          0.0,
          1.0
         ],
         "title": {
          "text": "IMDB_Rating"
         }
        },
        "yaxis": {
         "anchor": "x",
         "domain": [
          0.0,
          1.0
         ],
         "title": {
          "text": "Gross"
         }
        },
        "legend": {
         "tracegroupgap": 0
        },
        "title": {
         "text": "Gross Revenue vs. IMDB Rating"
        }
       },
       "config": {
        "plotlyServerURL": "https://plot.ly"
       }
      },
      "text/html": [
       "<div>                            <div id=\"8a8d8db5-8ae5-45a0-9a08-c4652c9830d3\" class=\"plotly-graph-div\" style=\"height:525px; width:100%;\"></div>            <script type=\"text/javascript\">                require([\"plotly\"], function(Plotly) {                    window.PLOTLYENV=window.PLOTLYENV || {};                                    if (document.getElementById(\"8a8d8db5-8ae5-45a0-9a08-c4652c9830d3\")) {                    Plotly.newPlot(                        \"8a8d8db5-8ae5-45a0-9a08-c4652c9830d3\",                        [{\"hovertemplate\":\"IMDB_Rating=%{x}\\u003cbr\\u003eGross=%{y}\\u003cextra\\u003e\\u003c\\u002fextra\\u003e\",\"legendgroup\":\"\",\"marker\":{\"color\":\"#636efa\",\"symbol\":\"circle\"},\"mode\":\"markers\",\"name\":\"\",\"orientation\":\"v\",\"showlegend\":false,\"x\":[9.3,9.2,9.0,9.0,9.0,8.9,8.9,8.9,8.8,8.8,8.8,8.8,8.8,8.7,8.7,8.7,8.7,8.7,8.6,8.6,8.6,8.6,8.6,8.6,8.6,8.6,8.6,8.6,8.6,8.6,8.6,8.6,8.6,8.5,8.5,8.5,8.5,8.5,8.5,8.5,8.5,8.5,8.5,8.5,8.5,8.5,8.5,8.5,8.5,8.5,8.5,8.5,8.5,8.4,8.4,8.4,8.4,8.4,8.4,8.4,8.4,8.4,8.4,8.4,8.4,8.4,8.4,8.4,8.4,8.4,8.4,8.4,8.4,8.4,8.4,8.4,8.4,8.4,8.4,8.4,8.4,8.4,8.4,8.4,8.3,8.3,8.3,8.3,8.3,8.3,8.3,8.3,8.3,8.3,8.3,8.3,8.3,8.3,8.3,8.3,8.3,8.3,8.3,8.3,8.3,8.3,8.3,8.3,8.3,8.3,8.3,8.3,8.3,8.3,8.3,8.3,8.3,8.3,8.3,8.3,8.3,8.3,8.3,8.3,8.3,8.3,8.3,8.3,8.2,8.2,8.2,8.2,8.2,8.2,8.2,8.2,8.2,8.2,8.2,8.2,8.2,8.2,8.2,8.2,8.2,8.2,8.2,8.2,8.2,8.2,8.2,8.2,8.2,8.2,8.2,8.2,8.2,8.2,8.2,8.2,8.2,8.2,8.2,8.2,8.2,8.2,8.2,8.2,8.2,8.2,8.2,8.2,8.2,8.2,8.2,8.2,8.2,8.2,8.2,8.2,8.2,8.2,8.2,8.2,8.2,8.2,8.2,8.2,8.2,8.2,8.2,8.2,8.2,8.2,8.2,8.1,8.1,8.1,8.1,8.1,8.1,8.1,8.1,8.1,8.1,8.1,8.1,8.1,8.1,8.1,8.1,8.1,8.1,8.1,8.1,8.1,8.1,8.1,8.1,8.1,8.1,8.1,8.1,8.1,8.1,8.1,8.1,8.1,8.1,8.1,8.1,8.1,8.1,8.1,8.1,8.1,8.1,8.1,8.1,8.1,8.1,8.1,8.1,8.1,8.1,8.1,8.1,8.1,8.1,8.1,8.1,8.1,8.1,8.1,8.1,8.1,8.1,8.1,8.1,8.1,8.1,8.1,8.1,8.1,8.1,8.1,8.1,8.1,8.1,8.1,8.1,8.1,8.1,8.1,8.1,8.1,8.1,8.1,8.1,8.1,8.1,8.1,8.1,8.1,8.1,8.1,8.1,8.1,8.1,8.1,8.1,8.1,8.1,8.1,8.1,8.1,8.1,8.1,8.1,8.1,8.1,8.1,8.1,8.1,8.1,8.1,8.1,8.1,8.1,8.1,8.1,8.1,8.1,8.1,8.1,8.1,8.1,8.1,8.1,8.1,8.1,8.1,8.0,8.0,8.0,8.0,8.0,8.0,8.0,8.0,8.0,8.0,8.0,8.0,8.0,8.0,8.0,8.0,8.0,8.0,8.0,8.0,8.0,8.0,8.0,8.0,8.0,8.0,8.0,8.0,8.0,8.0,8.0,8.0,8.0,8.0,8.0,8.0,8.0,8.0,8.0,8.0,8.0,8.0,8.0,8.0,8.0,8.0,8.0,8.0,8.0,8.0,8.0,8.0,8.0,8.0,8.0,8.0,8.0,8.0,8.0,8.0,8.0,8.0,8.0,8.0,8.0,8.0,8.0,8.0,8.0,8.0,8.0,8.0,8.0,8.0,8.0,8.0,8.0,8.0,8.0,8.0,8.0,8.0,8.0,8.0,8.0,8.0,8.0,8.0,8.0,8.0,8.0,8.0,8.0,8.0,8.0,8.0,8.0,8.0,8.0,8.0,8.0,8.0,8.0,8.0,8.0,8.0,8.0,8.0,8.0,8.0,8.0,8.0,8.0,8.0,8.0,8.0,8.0,8.0,8.0,8.0,8.0,8.0,8.0,8.0,8.0,8.0,8.0,8.0,8.0,8.0,8.0,8.0,8.0,8.0,8.0,8.0,8.0,8.0,8.0,8.0,8.0,7.9,7.9,7.9,7.9,7.9,7.9,7.9,7.9,7.9,7.9,7.9,7.9,7.9,7.9,7.9,7.9,7.9,7.9,7.9,7.9,7.9,7.9,7.9,7.9,7.9,7.9,7.9,7.9,7.9,7.9,7.9,7.9,7.9,7.9,7.9,7.9,7.9,7.9,7.9,7.9,7.9,7.9,7.9,7.9,7.9,7.9,7.9,7.9,7.9,7.9,7.9,7.9,7.9,7.9,7.9,7.9,7.9,7.9,7.9,7.9,7.9,7.9,7.9,7.9,7.9,7.9,7.9,7.9,7.9,7.9,7.9,7.9,7.9,7.9,7.9,7.9,7.9,7.9,7.9,7.9,7.9,7.9,7.9,7.9,7.9,7.9,7.9,7.9,7.9,7.9,7.9,7.9,7.9,7.9,7.9,7.9,7.9,7.9,7.9,7.9,7.9,7.9,7.9,7.9,7.9,7.9,7.8,7.8,7.8,7.8,7.8,7.8,7.8,7.8,7.8,7.8,7.8,7.8,7.8,7.8,7.8,7.8,7.8,7.8,7.8,7.8,7.8,7.8,7.8,7.8,7.8,7.8,7.8,7.8,7.8,7.8,7.8,7.8,7.8,7.8,7.8,7.8,7.8,7.8,7.8,7.8,7.8,7.8,7.8,7.8,7.8,7.8,7.8,7.8,7.8,7.8,7.8,7.8,7.8,7.8,7.8,7.8,7.8,7.8,7.8,7.8,7.8,7.8,7.8,7.8,7.8,7.8,7.8,7.8,7.8,7.8,7.8,7.8,7.8,7.8,7.8,7.8,7.8,7.8,7.8,7.8,7.8,7.8,7.8,7.8,7.8,7.8,7.8,7.8,7.8,7.8,7.8,7.8,7.8,7.8,7.8,7.8,7.8,7.8,7.8,7.8,7.8,7.8,7.8,7.8,7.8,7.8,7.8,7.8,7.8,7.8,7.8,7.8,7.8,7.8,7.8,7.8,7.8,7.8,7.8,7.8,7.8,7.8,7.8,7.8,7.8,7.8,7.8,7.8,7.8,7.8,7.8,7.8,7.8,7.8,7.8,7.8,7.8,7.8,7.8,7.8,7.8,7.8,7.8,7.8,7.8,7.8,7.8,7.8,7.8,7.8,7.8,7.7,7.7,7.7,7.7,7.7,7.7,7.7,7.7,7.7,7.7,7.7,7.7,7.7,7.7,7.7,7.7,7.7,7.7,7.7,7.7,7.7,7.7,7.7,7.7,7.7,7.7,7.7,7.7,7.7,7.7,7.7,7.7,7.7,7.7,7.7,7.7,7.7,7.7,7.7,7.7,7.7,7.7,7.7,7.7,7.7,7.7,7.7,7.7,7.7,7.7,7.7,7.7,7.7,7.7,7.7,7.7,7.7,7.7,7.7,7.7,7.7,7.7,7.7,7.7,7.7,7.7,7.7,7.7,7.7,7.7,7.7,7.7,7.7,7.7,7.7,7.7,7.7,7.7,7.7,7.7,7.7,7.7,7.7,7.7,7.7,7.7,7.7,7.7,7.7,7.7,7.7,7.7,7.7,7.7,7.7,7.7,7.7,7.7,7.7,7.7,7.7,7.7,7.7,7.7,7.7,7.7,7.7,7.7,7.7,7.7,7.7,7.7,7.7,7.7,7.7,7.7,7.7,7.7,7.7,7.7,7.7,7.7,7.7,7.7,7.7,7.7,7.7,7.7,7.7,7.7,7.7,7.7,7.7,7.7,7.7,7.7,7.7,7.7,7.7,7.7,7.7,7.7,7.7,7.7,7.7,7.7,7.7,7.7,7.7,7.7,7.7,7.7,7.7,7.7,7.7,7.7,7.7,7.6,7.6,7.6,7.6,7.6,7.6,7.6,7.6,7.6,7.6,7.6,7.6,7.6,7.6,7.6,7.6,7.6,7.6,7.6,7.6,7.6,7.6,7.6,7.6,7.6,7.6,7.6,7.6,7.6,7.6,7.6,7.6,7.6,7.6,7.6,7.6,7.6,7.6,7.6,7.6,7.6,7.6,7.6,7.6,7.6,7.6,7.6,7.6,7.6,7.6,7.6,7.6,7.6,7.6,7.6,7.6,7.6,7.6,7.6,7.6,7.6,7.6,7.6,7.6,7.6,7.6,7.6,7.6,7.6,7.6,7.6,7.6,7.6,7.6,7.6,7.6,7.6,7.6,7.6,7.6,7.6,7.6,7.6,7.6,7.6,7.6,7.6,7.6,7.6,7.6,7.6,7.6,7.6,7.6,7.6,7.6,7.6,7.6,7.6,7.6,7.6,7.6,7.6,7.6,7.6,7.6,7.6,7.6,7.6,7.6,7.6,7.6,7.6,7.6,7.6,7.6,7.6,7.6,7.6,7.6,7.6,7.6,7.6],\"xaxis\":\"x\",\"y\":[28341469.0,134966411.0,534858444.0,57300000.0,4360000.0,377845905.0,107928762.0,96898818.0,292576195.0,37030102.0,315544750.0,330252182.0,6100000.0,342551365.0,171479930.0,46836394.0,290475067.0,112000000.0,23530892.0,53367844.0,23530892.0,188020017.0,7563397.0,10055859.0,216540909.0,136801374.0,57598247.0,100125643.0,130742922.0,322740140.0,23530892.0,269061.0,23530892.0,335451311.0,13092000.0,13182281.0,53089891.0,132384315.0,32572577.0,187705427.0,6719864.0,23341568.0,19501238.0,422783777.0,204843350.0,11990401.0,23530892.0,210609762.0,5321508.0,32000000.0,1024560.0,163245.0,19181.0,1661096.0,23530892.0,23530892.0,5017246.0,12391761.0,190241310.0,858373000.0,678815482.0,209726015.0,162805434.0,448139099.0,6532908.0,1223869.0,223808164.0,11286112.0,707481.0,25544867.0,2375308.0,5321508.0,248159971.0,44017374.0,83471511.0,78900000.0,23530892.0,23530892.0,275902.0,8175000.0,23530892.0,36764313.0,23530892.0,288475.0,159227644.0,23530892.0,1373943.0,23530892.0,687185.0,7098492.0,6857096.0,23530892.0,23530892.0,120540719.0,34400301.0,33225499.0,30328156.0,3635482.0,130096601.0,138433435.0,933933.0,191796233.0,75600000.0,2832029.0,46357676.0,23530892.0,85160248.0,51973029.0,45598982.0,309125409.0,11487676.0,28262574.0,159600000.0,6207725.0,56954992.0,15000000.0,44824144.0,18600000.0,13275000.0,3200000.0,8819028.0,55240.0,332930.0,5720000.0,1585634.0,28877.0,1236166.0,5450000.0,898575.0,4186168.0,23530892.0,85080171.0,54513740.0,342370.0,20186659.0,23530892.0,739478.0,1429534.0,144501.0,1626289.0,23530892.0,7461.0,39567.0,6391436.0,13657115.0,128012934.0,293004164.0,116900694.0,1113541.0,40222514.0,37634615.0,415004880.0,70511035.0,2197331.0,733094.0,206852432.0,1223240.0,5509040.0,4711096.0,170742341.0,23530892.0,3897569.0,64616940.0,23530892.0,67436818.0,42438300.0,23530892.0,101157447.0,197171806.0,280015.0,1105564.0,83008852.0,4135750.0,23383987.0,234723.0,23530892.0,23530892.0,23530892.0,1229197.0,12100000.0,23530892.0,23530892.0,23530892.0,25000000.0,23530892.0,23530892.0,57226.0,12562.0,23530892.0,96568.0,10177.0,5014000.0,23530892.0,5450000.0,977375.0,3759854.0,1241223.0,23530892.0,23530892.0,2006788.0,3492754.0,901610.0,226277068.0,14677674.0,3107072.0,23530892.0,165520.0,10616104.0,923221.0,59100318.0,167767189.0,23530892.0,67209615.0,356461711.0,2804874.0,56671993.0,26947624.0,117624028.0,45055776.0,857524.0,1035953.0,3108485.0,61002302.0,154058340.0,23530892.0,148095302.0,381011219.0,1498210.0,23530892.0,23530892.0,217581231.0,18354356.0,74283625.0,2217561.0,100492203.0,23530892.0,1111061.0,5820649.0,23530892.0,14131.0,300000.0,70099045.0,380843261.0,164615351.0,5383834.0,289916256.0,23530892.0,70147.0,293506292.0,259127.0,125618201.0,348660.0,17498804.0,2734044.0,16501785.0,24611975.0,171082.0,309811.0,23530892.0,5535405.0,4043686.0,600200.0,402453882.0,25010410.0,5216888.0,2603061.0,95860116.0,52287414.0,138530565.0,2181987.0,495770.0,13782838.0,22244207.0,23530892.0,4971340.0,32868943.0,23530892.0,20045115.0,48979328.0,117235247.0,23530892.0,23530892.0,177345.0,29000000.0,30933743.0,1742348.0,23530892.0,39481.0,16217773.0,23530892.0,102021.0,55908.0,23530892.0,4050000.0,23530892.0,23530892.0,23530892.0,1526000.0,23530892.0,23530892.0,74700000.0,23530892.0,752045.0,23530892.0,44908000.0,9600000.0,23530892.0,3969893.0,23530892.0,449191.0,10900000.0,203300.0,4360000.0,9600000.0,198676459.0,172885.0,4360000.0,21877.0,23530892.0,539540.0,1033895.0,23530892.0,23530892.0,23530892.0,23530892.0,8178001.0,23530892.0,151101803.0,51739495.0,228433663.0,341268248.0,6738000.0,1506975.0,132422809.0,5566534.0,1079369.0,1010414.0,2625803.0,91125683.0,333176600.0,92054159.0,25568251.0,216428042.0,183637894.0,17738570.0,100119.0,138797449.0,169708112.0,363070709.0,106662.0,10950.0,23530892.0,4018695.0,23530892.0,141319928.0,106954678.0,8060.0,623279547.0,4445756.0,27298285.0,163566459.0,57366262.0,227471070.0,238507.0,74103820.0,5990075.0,23530892.0,206445654.0,167445960.0,66208183.0,502028.0,2380788.0,2086345.0,61649911.0,1787378.0,169659.0,305413918.0,66257002.0,261441092.0,23530892.0,1530386.0,23530892.0,1480006.0,22455976.0,4184036.0,6203044.0,776665.0,1647780.0,5595428.0,23159305.0,3296.0,24475416.0,13417292.0,57141459.0,515905.0,75082668.0,70906973.0,4496583.0,63895607.0,217350219.0,70405498.0,218967620.0,184208848.0,27545445.0,178800000.0,553171.0,30857814.0,3333969.0,4542825.0,23530892.0,38400000.0,52767889.0,23530892.0,30177511.0,39200000.0,260000000.0,50000000.0,86300000.0,53267000.0,232906145.0,4081254.0,29133000.0,80500000.0,541940.0,102308889.0,23530892.0,33395426.0,104945305.0,23530892.0,163214286.0,111722000.0,14500000.0,50690.0,23530892.0,8284000.0,19516000.0,12535000.0,11900000.0,2237659.0,17570324.0,23530892.0,23530892.0,654000.0,23530892.0,23530892.0,23530892.0,23530892.0,8000000.0,23530892.0,23530892.0,23530892.0,23530892.0,23530892.0,4360000.0,23650000.0,23530892.0,2108060.0,55000.0,2076020.0,23530892.0,23530892.0,3270000.0,50970.0,165359751.0,23530892.0,3313513.0,2000000.0,18095701.0,258168.0,32015231.0,5202582.0,5875006.0,3237118.0,315058289.0,32381218.0,349555.0,100546139.0,936662225.0,8114627.0,233921534.0,138730.0,44671682.0,100206256.0,6739492.0,7000000.0,2084637.0,5009677.0,2122065.0,115646235.0,26236603.0,410800.0,25379975.0,1185783.0,257730019.0,7757130.0,23530892.0,13756082.0,2280348.0,124987023.0,21002919.0,23530892.0,3635164.0,318412101.0,13542874.0,23530892.0,90135191.0,249358727.0,53710019.0,9284265.0,1059830.0,1000045.0,121661683.0,1221261.0,35552383.0,32534850.0,7220243.0,245852179.0,26400640.0,23530892.0,2201126.0,12281500.0,1324974.0,23530892.0,36948322.0,56362352.0,14743391.0,18254702.0,76270454.0,40084041.0,9929135.0,188751.0,20605209.0,57229890.0,45700000.0,37823676.0,5100000.0,70600000.0,61001.0,23530892.0,198809.0,23530892.0,23530892.0,61700000.0,12064472.0,89029.0,22276975.0,24379978.0,13474588.0,23530892.0,30000000.0,23530892.0,88300.0,93740000.0,23530892.0,23530892.0,9450000.0,7630000.0,23530892.0,2650000.0,10464000.0,6540000.0,9460000.0,23530892.0,296000.0,3981000.0,2537520.0,10000000.0,23530892.0,23530892.0,23530892.0,23530892.0,23530892.0,2402067.0,188373161.0,23530892.0,169607287.0,40442052.0,23530892.0,48023088.0,1782795.0,47695120.0,435266.0,532177324.0,408084349.0,54117416.0,108101214.0,6735118.0,23530892.0,1330596.0,2852400.0,4231500.0,169209.0,222527828.0,15322921.0,1670773.0,5209580.0,434038008.0,85433.0,45512466.0,177002924.0,70259870.0,23530892.0,128392.0,102515793.0,107100855.0,6460.0,161197785.0,547292.0,23530892.0,258366855.0,2222647.0,10095170.0,23530892.0,23530892.0,93617009.0,145000989.0,9030581.0,9439923.0,303003568.0,741283.0,50927067.0,35061555.0,130164645.0,760507625.0,3600.0,50866635.0,59891098.0,23637265.0,127509326.0,2921738.0,1305.0,38405088.0,5128124.0,128985.0,25514517.0,119519402.0,15280.0,81001787.0,16756372.0,181655.0,7002255.0,23530892.0,54234062.0,2892011.0,115654751.0,128078872.0,8264530.0,233632142.0,25812.0,28965197.0,32481825.0,267665011.0,659325379.0,233986.0,12339633.0,48323648.0,4040691.0,5887457.0,9170214.0,56505065.0,32416586.0,22954968.0,1769305.0,183875760.0,17266971.0,5617391.0,23530892.0,2015810.0,1999955.0,57504069.0,61276872.0,52096475.0,23530892.0,26830000.0,23530892.0,118500000.0,34603943.0,59735548.0,5923044.0,70136369.0,1436000.0,61503218.0,98467863.0,45875171.0,34700291.0,238632124.0,21500000.0,2500000.0,435110554.0,106260000.0,23530892.0,31800000.0,23530892.0,4420000.0,193817.0,16056255.0,23530892.0,42765000.0,4000000.0,44785053.0,17550741.0,56700000.0,23530892.0,72000000.0,102272727.0,39100000.0,23530892.0,2616000.0,336705.0,23530892.0,23530892.0,23530892.0,23530892.0,23530892.0,23530892.0,23530892.0,4360000.0,23530892.0,23530892.0,23530892.0,23530892.0,335609.0,324591735.0,33800859.0,176040665.0,220159104.0,3358518.0,3333000.0,765127.0,35893537.0,128261724.0,124872350.0,6743776.0,42340598.0,2199675.0,1122527.0,175058.0,259766572.0,985912.0,17654912.0,189422889.0,1339152.0,71177.0,56816662.0,257760692.0,274092705.0,228778661.0,83861.0,96962694.0,146408305.0,277322503.0,304360277.0,132092958.0,136025503.0,32391374.0,295983305.0,15090400.0,18593156.0,881302.0,35739802.0,1752214.0,23530892.0,23530892.0,327919.0,25442958.0,412544.0,17605861.0,33080084.0,22494487.0,1054361.0,871577.0,200821936.0,4398392.0,83043761.0,53606916.0,54580300.0,17108591.0,176241941.0,1082715.0,75331600.0,44585453.0,290013036.0,77911774.0,75286229.0,111110575.0,4890878.0,4064200.0,15539266.0,40311852.0,22245861.0,108638745.0,104454762.0,141072.0,21995263.0,3029081.0,183417150.0,151086.0,45512588.0,23530892.0,52037603.0,10824921.0,2807390.0,76631907.0,17105219.0,368234.0,22858926.0,148478011.0,63540020.0,4065116.0,41909762.0,35811509.0,56116183.0,4414535.0,10019307.0,23530892.0,21848932.0,3151130.0,6110979.0,77324422.0,27281507.0,48169908.0,75505856.0,23530892.0,10725228.0,141340178.0,82418501.0,6153939.0,5080409.0,156452370.0,23530892.0,1544889.0,43984230.0,22238696.0,7153487.0,8551228.0,10631333.0,10600000.0,11798616.0,54000000.0,78912963.0,47212904.0,54800000.0,83400000.0,23530892.0,47000000.0,1924733.0,23530892.0,23530892.0,119500000.0,29800000.0,25000000.0,7056013.0,15630710.0,35900000.0,23530892.0,44527234.0,45300000.0,26331.0,28350000.0,23530892.0,23530892.0,51081062.0,11403529.0,23530892.0,83957.0,4905000.0,52709.0,23530892.0,23530892.0,23530892.0,23530892.0,10550000.0,23530892.0,536118.0,23530892.0,76408097.0,23530892.0,23530892.0,26020957.0,142502728.0,566356.0,5904366.0,23530892.0,24801212.0,13122642.0,23530892.0,845464.0,389813101.0,107825862.0,18340051.0,72313754.0,608581744.0,248757044.0,46889293.0,109767581.0,1092800.0,26862450.0,37707719.0,208545589.0,23530892.0,4105123.0,41003371.0,19202743.0,215288866.0,171243005.0,1008098.0,251513985.0,35014192.0,48071303.0,23530892.0,75605492.0,3185812.0,75590286.0,23530892.0,209028679.0,255959475.0,9422422.0,69951824.0,17114882.0,38634938.0,686383.0,88513495.0,20300218.0,10301706.0,24633730.0,39868642.0,6013.0,301959197.0,210614939.0,23089926.0,107509799.0,24149632.0,56000369.0,3081925.0,697181.0,548707.0,6167817.0,5739376.0,16290476.0,45289.0,51680613.0,13060843.0,57938693.0,45064915.0,23530892.0,52364010.0,13622333.0,317575550.0,96522687.0,52990775.0,51401758.0,132072926.0,50668906.0,15070285.0,7267585.0,36400491.0,120620254.0,10680275.0,23530892.0,14378331.0,49100000.0,3796699.0,43182776.0,100012499.0,1037847.0,71516617.0,173837933.0,1464625.0,40903593.0,7993039.0,52929168.0,453243.0,1794187.0,285761243.0,66666062.0,92823600.0,111543479.0,78756177.0,49530280.0,65207127.0,2150000.0,119285432.0,12465371.0,22490039.0,76657000.0,43000000.0,23530892.0,35000000.0,132088635.0,959000.0,696690.0,1378435.0,141843612.0,23530892.0,13780024.0,23530892.0,23530892.0,30500000.0,23530892.0,23530892.0],\"yaxis\":\"y\",\"type\":\"scatter\"},{\"hovertemplate\":\"\\u003cb\\u003eOLS trendline\\u003c\\u002fb\\u003e\\u003cbr\\u003eGross = 3.14826e+07 * IMDB_Rating + -1.89751e+08\\u003cbr\\u003eR\\u003csup\\u003e2\\u003c\\u002fsup\\u003e=0.007313\\u003cbr\\u003e\\u003cbr\\u003eIMDB_Rating=%{x}\\u003cbr\\u003eGross=%{y} \\u003cb\\u003e(trend)\\u003c\\u002fb\\u003e\\u003cextra\\u003e\\u003c\\u002fextra\\u003e\",\"legendgroup\":\"\",\"marker\":{\"color\":\"#636efa\",\"symbol\":\"circle\"},\"mode\":\"lines\",\"name\":\"\",\"showlegend\":false,\"x\":[7.6,7.6,7.6,7.6,7.6,7.6,7.6,7.6,7.6,7.6,7.6,7.6,7.6,7.6,7.6,7.6,7.6,7.6,7.6,7.6,7.6,7.6,7.6,7.6,7.6,7.6,7.6,7.6,7.6,7.6,7.6,7.6,7.6,7.6,7.6,7.6,7.6,7.6,7.6,7.6,7.6,7.6,7.6,7.6,7.6,7.6,7.6,7.6,7.6,7.6,7.6,7.6,7.6,7.6,7.6,7.6,7.6,7.6,7.6,7.6,7.6,7.6,7.6,7.6,7.6,7.6,7.6,7.6,7.6,7.6,7.6,7.6,7.6,7.6,7.6,7.6,7.6,7.6,7.6,7.6,7.6,7.6,7.6,7.6,7.6,7.6,7.6,7.6,7.6,7.6,7.6,7.6,7.6,7.6,7.6,7.6,7.6,7.6,7.6,7.6,7.6,7.6,7.6,7.6,7.6,7.6,7.6,7.6,7.6,7.6,7.6,7.6,7.6,7.6,7.6,7.6,7.6,7.6,7.6,7.6,7.6,7.6,7.6,7.7,7.7,7.7,7.7,7.7,7.7,7.7,7.7,7.7,7.7,7.7,7.7,7.7,7.7,7.7,7.7,7.7,7.7,7.7,7.7,7.7,7.7,7.7,7.7,7.7,7.7,7.7,7.7,7.7,7.7,7.7,7.7,7.7,7.7,7.7,7.7,7.7,7.7,7.7,7.7,7.7,7.7,7.7,7.7,7.7,7.7,7.7,7.7,7.7,7.7,7.7,7.7,7.7,7.7,7.7,7.7,7.7,7.7,7.7,7.7,7.7,7.7,7.7,7.7,7.7,7.7,7.7,7.7,7.7,7.7,7.7,7.7,7.7,7.7,7.7,7.7,7.7,7.7,7.7,7.7,7.7,7.7,7.7,7.7,7.7,7.7,7.7,7.7,7.7,7.7,7.7,7.7,7.7,7.7,7.7,7.7,7.7,7.7,7.7,7.7,7.7,7.7,7.7,7.7,7.7,7.7,7.7,7.7,7.7,7.7,7.7,7.7,7.7,7.7,7.7,7.7,7.7,7.7,7.7,7.7,7.7,7.7,7.7,7.7,7.7,7.7,7.7,7.7,7.7,7.7,7.7,7.7,7.7,7.7,7.7,7.7,7.7,7.7,7.7,7.7,7.7,7.7,7.7,7.7,7.7,7.7,7.7,7.7,7.7,7.7,7.7,7.7,7.7,7.7,7.7,7.7,7.7,7.8,7.8,7.8,7.8,7.8,7.8,7.8,7.8,7.8,7.8,7.8,7.8,7.8,7.8,7.8,7.8,7.8,7.8,7.8,7.8,7.8,7.8,7.8,7.8,7.8,7.8,7.8,7.8,7.8,7.8,7.8,7.8,7.8,7.8,7.8,7.8,7.8,7.8,7.8,7.8,7.8,7.8,7.8,7.8,7.8,7.8,7.8,7.8,7.8,7.8,7.8,7.8,7.8,7.8,7.8,7.8,7.8,7.8,7.8,7.8,7.8,7.8,7.8,7.8,7.8,7.8,7.8,7.8,7.8,7.8,7.8,7.8,7.8,7.8,7.8,7.8,7.8,7.8,7.8,7.8,7.8,7.8,7.8,7.8,7.8,7.8,7.8,7.8,7.8,7.8,7.8,7.8,7.8,7.8,7.8,7.8,7.8,7.8,7.8,7.8,7.8,7.8,7.8,7.8,7.8,7.8,7.8,7.8,7.8,7.8,7.8,7.8,7.8,7.8,7.8,7.8,7.8,7.8,7.8,7.8,7.8,7.8,7.8,7.8,7.8,7.8,7.8,7.8,7.8,7.8,7.8,7.8,7.8,7.8,7.8,7.8,7.8,7.8,7.8,7.8,7.8,7.8,7.8,7.8,7.8,7.8,7.8,7.8,7.8,7.8,7.8,7.9,7.9,7.9,7.9,7.9,7.9,7.9,7.9,7.9,7.9,7.9,7.9,7.9,7.9,7.9,7.9,7.9,7.9,7.9,7.9,7.9,7.9,7.9,7.9,7.9,7.9,7.9,7.9,7.9,7.9,7.9,7.9,7.9,7.9,7.9,7.9,7.9,7.9,7.9,7.9,7.9,7.9,7.9,7.9,7.9,7.9,7.9,7.9,7.9,7.9,7.9,7.9,7.9,7.9,7.9,7.9,7.9,7.9,7.9,7.9,7.9,7.9,7.9,7.9,7.9,7.9,7.9,7.9,7.9,7.9,7.9,7.9,7.9,7.9,7.9,7.9,7.9,7.9,7.9,7.9,7.9,7.9,7.9,7.9,7.9,7.9,7.9,7.9,7.9,7.9,7.9,7.9,7.9,7.9,7.9,7.9,7.9,7.9,7.9,7.9,7.9,7.9,7.9,7.9,7.9,7.9,8.0,8.0,8.0,8.0,8.0,8.0,8.0,8.0,8.0,8.0,8.0,8.0,8.0,8.0,8.0,8.0,8.0,8.0,8.0,8.0,8.0,8.0,8.0,8.0,8.0,8.0,8.0,8.0,8.0,8.0,8.0,8.0,8.0,8.0,8.0,8.0,8.0,8.0,8.0,8.0,8.0,8.0,8.0,8.0,8.0,8.0,8.0,8.0,8.0,8.0,8.0,8.0,8.0,8.0,8.0,8.0,8.0,8.0,8.0,8.0,8.0,8.0,8.0,8.0,8.0,8.0,8.0,8.0,8.0,8.0,8.0,8.0,8.0,8.0,8.0,8.0,8.0,8.0,8.0,8.0,8.0,8.0,8.0,8.0,8.0,8.0,8.0,8.0,8.0,8.0,8.0,8.0,8.0,8.0,8.0,8.0,8.0,8.0,8.0,8.0,8.0,8.0,8.0,8.0,8.0,8.0,8.0,8.0,8.0,8.0,8.0,8.0,8.0,8.0,8.0,8.0,8.0,8.0,8.0,8.0,8.0,8.0,8.0,8.0,8.0,8.0,8.0,8.0,8.0,8.0,8.0,8.0,8.0,8.0,8.0,8.0,8.0,8.0,8.0,8.0,8.0,8.1,8.1,8.1,8.1,8.1,8.1,8.1,8.1,8.1,8.1,8.1,8.1,8.1,8.1,8.1,8.1,8.1,8.1,8.1,8.1,8.1,8.1,8.1,8.1,8.1,8.1,8.1,8.1,8.1,8.1,8.1,8.1,8.1,8.1,8.1,8.1,8.1,8.1,8.1,8.1,8.1,8.1,8.1,8.1,8.1,8.1,8.1,8.1,8.1,8.1,8.1,8.1,8.1,8.1,8.1,8.1,8.1,8.1,8.1,8.1,8.1,8.1,8.1,8.1,8.1,8.1,8.1,8.1,8.1,8.1,8.1,8.1,8.1,8.1,8.1,8.1,8.1,8.1,8.1,8.1,8.1,8.1,8.1,8.1,8.1,8.1,8.1,8.1,8.1,8.1,8.1,8.1,8.1,8.1,8.1,8.1,8.1,8.1,8.1,8.1,8.1,8.1,8.1,8.1,8.1,8.1,8.1,8.1,8.1,8.1,8.1,8.1,8.1,8.1,8.1,8.1,8.1,8.1,8.1,8.1,8.1,8.1,8.1,8.1,8.1,8.1,8.1,8.2,8.2,8.2,8.2,8.2,8.2,8.2,8.2,8.2,8.2,8.2,8.2,8.2,8.2,8.2,8.2,8.2,8.2,8.2,8.2,8.2,8.2,8.2,8.2,8.2,8.2,8.2,8.2,8.2,8.2,8.2,8.2,8.2,8.2,8.2,8.2,8.2,8.2,8.2,8.2,8.2,8.2,8.2,8.2,8.2,8.2,8.2,8.2,8.2,8.2,8.2,8.2,8.2,8.2,8.2,8.2,8.2,8.2,8.2,8.2,8.2,8.2,8.2,8.2,8.2,8.2,8.2,8.3,8.3,8.3,8.3,8.3,8.3,8.3,8.3,8.3,8.3,8.3,8.3,8.3,8.3,8.3,8.3,8.3,8.3,8.3,8.3,8.3,8.3,8.3,8.3,8.3,8.3,8.3,8.3,8.3,8.3,8.3,8.3,8.3,8.3,8.3,8.3,8.3,8.3,8.3,8.3,8.3,8.3,8.3,8.3,8.4,8.4,8.4,8.4,8.4,8.4,8.4,8.4,8.4,8.4,8.4,8.4,8.4,8.4,8.4,8.4,8.4,8.4,8.4,8.4,8.4,8.4,8.4,8.4,8.4,8.4,8.4,8.4,8.4,8.4,8.4,8.5,8.5,8.5,8.5,8.5,8.5,8.5,8.5,8.5,8.5,8.5,8.5,8.5,8.5,8.5,8.5,8.5,8.5,8.5,8.5,8.6,8.6,8.6,8.6,8.6,8.6,8.6,8.6,8.6,8.6,8.6,8.6,8.6,8.6,8.6,8.7,8.7,8.7,8.7,8.7,8.8,8.8,8.8,8.8,8.8,8.9,8.9,8.9,9.0,9.0,9.0,9.2,9.3],\"xaxis\":\"x\",\"y\":[49516725.68857038,49516725.68857038,49516725.68857038,49516725.68857038,49516725.68857038,49516725.68857038,49516725.68857038,49516725.68857038,49516725.68857038,49516725.68857038,49516725.68857038,49516725.68857038,49516725.68857038,49516725.68857038,49516725.68857038,49516725.68857038,49516725.68857038,49516725.68857038,49516725.68857038,49516725.68857038,49516725.68857038,49516725.68857038,49516725.68857038,49516725.68857038,49516725.68857038,49516725.68857038,49516725.68857038,49516725.68857038,49516725.68857038,49516725.68857038,49516725.68857038,49516725.68857038,49516725.68857038,49516725.68857038,49516725.68857038,49516725.68857038,49516725.68857038,49516725.68857038,49516725.68857038,49516725.68857038,49516725.68857038,49516725.68857038,49516725.68857038,49516725.68857038,49516725.68857038,49516725.68857038,49516725.68857038,49516725.68857038,49516725.68857038,49516725.68857038,49516725.68857038,49516725.68857038,49516725.68857038,49516725.68857038,49516725.68857038,49516725.68857038,49516725.68857038,49516725.68857038,49516725.68857038,49516725.68857038,49516725.68857038,49516725.68857038,49516725.68857038,49516725.68857038,49516725.68857038,49516725.68857038,49516725.68857038,49516725.68857038,49516725.68857038,49516725.68857038,49516725.68857038,49516725.68857038,49516725.68857038,49516725.68857038,49516725.68857038,49516725.68857038,49516725.68857038,49516725.68857038,49516725.68857038,49516725.68857038,49516725.68857038,49516725.68857038,49516725.68857038,49516725.68857038,49516725.68857038,49516725.68857038,49516725.68857038,49516725.68857038,49516725.68857038,49516725.68857038,49516725.68857038,49516725.68857038,49516725.68857038,49516725.68857038,49516725.68857038,49516725.68857038,49516725.68857038,49516725.68857038,49516725.68857038,49516725.68857038,49516725.68857038,49516725.68857038,49516725.68857038,49516725.68857038,49516725.68857038,49516725.68857038,49516725.68857038,49516725.68857038,49516725.68857038,49516725.68857038,49516725.68857038,49516725.68857038,49516725.68857038,49516725.68857038,49516725.68857038,49516725.68857038,49516725.68857038,49516725.68857038,49516725.68857038,49516725.68857038,49516725.68857038,49516725.68857038,49516725.68857038,52664985.93346888,52664985.93346888,52664985.93346888,52664985.93346888,52664985.93346888,52664985.93346888,52664985.93346888,52664985.93346888,52664985.93346888,52664985.93346888,52664985.93346888,52664985.93346888,52664985.93346888,52664985.93346888,52664985.93346888,52664985.93346888,52664985.93346888,52664985.93346888,52664985.93346888,52664985.93346888,52664985.93346888,52664985.93346888,52664985.93346888,52664985.93346888,52664985.93346888,52664985.93346888,52664985.93346888,52664985.93346888,52664985.93346888,52664985.93346888,52664985.93346888,52664985.93346888,52664985.93346888,52664985.93346888,52664985.93346888,52664985.93346888,52664985.93346888,52664985.93346888,52664985.93346888,52664985.93346888,52664985.93346888,52664985.93346888,52664985.93346888,52664985.93346888,52664985.93346888,52664985.93346888,52664985.93346888,52664985.93346888,52664985.93346888,52664985.93346888,52664985.93346888,52664985.93346888,52664985.93346888,52664985.93346888,52664985.93346888,52664985.93346888,52664985.93346888,52664985.93346888,52664985.93346888,52664985.93346888,52664985.93346888,52664985.93346888,52664985.93346888,52664985.93346888,52664985.93346888,52664985.93346888,52664985.93346888,52664985.93346888,52664985.93346888,52664985.93346888,52664985.93346888,52664985.93346888,52664985.93346888,52664985.93346888,52664985.93346888,52664985.93346888,52664985.93346888,52664985.93346888,52664985.93346888,52664985.93346888,52664985.93346888,52664985.93346888,52664985.93346888,52664985.93346888,52664985.93346888,52664985.93346888,52664985.93346888,52664985.93346888,52664985.93346888,52664985.93346888,52664985.93346888,52664985.93346888,52664985.93346888,52664985.93346888,52664985.93346888,52664985.93346888,52664985.93346888,52664985.93346888,52664985.93346888,52664985.93346888,52664985.93346888,52664985.93346888,52664985.93346888,52664985.93346888,52664985.93346888,52664985.93346888,52664985.93346888,52664985.93346888,52664985.93346888,52664985.93346888,52664985.93346888,52664985.93346888,52664985.93346888,52664985.93346888,52664985.93346888,52664985.93346888,52664985.93346888,52664985.93346888,52664985.93346888,52664985.93346888,52664985.93346888,52664985.93346888,52664985.93346888,52664985.93346888,52664985.93346888,52664985.93346888,52664985.93346888,52664985.93346888,52664985.93346888,52664985.93346888,52664985.93346888,52664985.93346888,52664985.93346888,52664985.93346888,52664985.93346888,52664985.93346888,52664985.93346888,52664985.93346888,52664985.93346888,52664985.93346888,52664985.93346888,52664985.93346888,52664985.93346888,52664985.93346888,52664985.93346888,52664985.93346888,52664985.93346888,52664985.93346888,52664985.93346888,52664985.93346888,52664985.93346888,52664985.93346888,52664985.93346888,52664985.93346888,52664985.93346888,52664985.93346888,52664985.93346888,55813246.17836732,55813246.17836732,55813246.17836732,55813246.17836732,55813246.17836732,55813246.17836732,55813246.17836732,55813246.17836732,55813246.17836732,55813246.17836732,55813246.17836732,55813246.17836732,55813246.17836732,55813246.17836732,55813246.17836732,55813246.17836732,55813246.17836732,55813246.17836732,55813246.17836732,55813246.17836732,55813246.17836732,55813246.17836732,55813246.17836732,55813246.17836732,55813246.17836732,55813246.17836732,55813246.17836732,55813246.17836732,55813246.17836732,55813246.17836732,55813246.17836732,55813246.17836732,55813246.17836732,55813246.17836732,55813246.17836732,55813246.17836732,55813246.17836732,55813246.17836732,55813246.17836732,55813246.17836732,55813246.17836732,55813246.17836732,55813246.17836732,55813246.17836732,55813246.17836732,55813246.17836732,55813246.17836732,55813246.17836732,55813246.17836732,55813246.17836732,55813246.17836732,55813246.17836732,55813246.17836732,55813246.17836732,55813246.17836732,55813246.17836732,55813246.17836732,55813246.17836732,55813246.17836732,55813246.17836732,55813246.17836732,55813246.17836732,55813246.17836732,55813246.17836732,55813246.17836732,55813246.17836732,55813246.17836732,55813246.17836732,55813246.17836732,55813246.17836732,55813246.17836732,55813246.17836732,55813246.17836732,55813246.17836732,55813246.17836732,55813246.17836732,55813246.17836732,55813246.17836732,55813246.17836732,55813246.17836732,55813246.17836732,55813246.17836732,55813246.17836732,55813246.17836732,55813246.17836732,55813246.17836732,55813246.17836732,55813246.17836732,55813246.17836732,55813246.17836732,55813246.17836732,55813246.17836732,55813246.17836732,55813246.17836732,55813246.17836732,55813246.17836732,55813246.17836732,55813246.17836732,55813246.17836732,55813246.17836732,55813246.17836732,55813246.17836732,55813246.17836732,55813246.17836732,55813246.17836732,55813246.17836732,55813246.17836732,55813246.17836732,55813246.17836732,55813246.17836732,55813246.17836732,55813246.17836732,55813246.17836732,55813246.17836732,55813246.17836732,55813246.17836732,55813246.17836732,55813246.17836732,55813246.17836732,55813246.17836732,55813246.17836732,55813246.17836732,55813246.17836732,55813246.17836732,55813246.17836732,55813246.17836732,55813246.17836732,55813246.17836732,55813246.17836732,55813246.17836732,55813246.17836732,55813246.17836732,55813246.17836732,55813246.17836732,55813246.17836732,55813246.17836732,55813246.17836732,55813246.17836732,55813246.17836732,55813246.17836732,55813246.17836732,55813246.17836732,55813246.17836732,55813246.17836732,55813246.17836732,55813246.17836732,55813246.17836732,55813246.17836732,55813246.17836732,55813246.17836732,55813246.17836732,58961506.423265815,58961506.423265815,58961506.423265815,58961506.423265815,58961506.423265815,58961506.423265815,58961506.423265815,58961506.423265815,58961506.423265815,58961506.423265815,58961506.423265815,58961506.423265815,58961506.423265815,58961506.423265815,58961506.423265815,58961506.423265815,58961506.423265815,58961506.423265815,58961506.423265815,58961506.423265815,58961506.423265815,58961506.423265815,58961506.423265815,58961506.423265815,58961506.423265815,58961506.423265815,58961506.423265815,58961506.423265815,58961506.423265815,58961506.423265815,58961506.423265815,58961506.423265815,58961506.423265815,58961506.423265815,58961506.423265815,58961506.423265815,58961506.423265815,58961506.423265815,58961506.423265815,58961506.423265815,58961506.423265815,58961506.423265815,58961506.423265815,58961506.423265815,58961506.423265815,58961506.423265815,58961506.423265815,58961506.423265815,58961506.423265815,58961506.423265815,58961506.423265815,58961506.423265815,58961506.423265815,58961506.423265815,58961506.423265815,58961506.423265815,58961506.423265815,58961506.423265815,58961506.423265815,58961506.423265815,58961506.423265815,58961506.423265815,58961506.423265815,58961506.423265815,58961506.423265815,58961506.423265815,58961506.423265815,58961506.423265815,58961506.423265815,58961506.423265815,58961506.423265815,58961506.423265815,58961506.423265815,58961506.423265815,58961506.423265815,58961506.423265815,58961506.423265815,58961506.423265815,58961506.423265815,58961506.423265815,58961506.423265815,58961506.423265815,58961506.423265815,58961506.423265815,58961506.423265815,58961506.423265815,58961506.423265815,58961506.423265815,58961506.423265815,58961506.423265815,58961506.423265815,58961506.423265815,58961506.423265815,58961506.423265815,58961506.423265815,58961506.423265815,58961506.423265815,58961506.423265815,58961506.423265815,58961506.423265815,58961506.423265815,58961506.423265815,58961506.423265815,58961506.423265815,58961506.423265815,58961506.423265815,62109766.66816425,62109766.66816425,62109766.66816425,62109766.66816425,62109766.66816425,62109766.66816425,62109766.66816425,62109766.66816425,62109766.66816425,62109766.66816425,62109766.66816425,62109766.66816425,62109766.66816425,62109766.66816425,62109766.66816425,62109766.66816425,62109766.66816425,62109766.66816425,62109766.66816425,62109766.66816425,62109766.66816425,62109766.66816425,62109766.66816425,62109766.66816425,62109766.66816425,62109766.66816425,62109766.66816425,62109766.66816425,62109766.66816425,62109766.66816425,62109766.66816425,62109766.66816425,62109766.66816425,62109766.66816425,62109766.66816425,62109766.66816425,62109766.66816425,62109766.66816425,62109766.66816425,62109766.66816425,62109766.66816425,62109766.66816425,62109766.66816425,62109766.66816425,62109766.66816425,62109766.66816425,62109766.66816425,62109766.66816425,62109766.66816425,62109766.66816425,62109766.66816425,62109766.66816425,62109766.66816425,62109766.66816425,62109766.66816425,62109766.66816425,62109766.66816425,62109766.66816425,62109766.66816425,62109766.66816425,62109766.66816425,62109766.66816425,62109766.66816425,62109766.66816425,62109766.66816425,62109766.66816425,62109766.66816425,62109766.66816425,62109766.66816425,62109766.66816425,62109766.66816425,62109766.66816425,62109766.66816425,62109766.66816425,62109766.66816425,62109766.66816425,62109766.66816425,62109766.66816425,62109766.66816425,62109766.66816425,62109766.66816425,62109766.66816425,62109766.66816425,62109766.66816425,62109766.66816425,62109766.66816425,62109766.66816425,62109766.66816425,62109766.66816425,62109766.66816425,62109766.66816425,62109766.66816425,62109766.66816425,62109766.66816425,62109766.66816425,62109766.66816425,62109766.66816425,62109766.66816425,62109766.66816425,62109766.66816425,62109766.66816425,62109766.66816425,62109766.66816425,62109766.66816425,62109766.66816425,62109766.66816425,62109766.66816425,62109766.66816425,62109766.66816425,62109766.66816425,62109766.66816425,62109766.66816425,62109766.66816425,62109766.66816425,62109766.66816425,62109766.66816425,62109766.66816425,62109766.66816425,62109766.66816425,62109766.66816425,62109766.66816425,62109766.66816425,62109766.66816425,62109766.66816425,62109766.66816425,62109766.66816425,62109766.66816425,62109766.66816425,62109766.66816425,62109766.66816425,62109766.66816425,62109766.66816425,62109766.66816425,62109766.66816425,62109766.66816425,62109766.66816425,62109766.66816425,62109766.66816425,62109766.66816425,62109766.66816425,62109766.66816425,65258026.91306269,65258026.91306269,65258026.91306269,65258026.91306269,65258026.91306269,65258026.91306269,65258026.91306269,65258026.91306269,65258026.91306269,65258026.91306269,65258026.91306269,65258026.91306269,65258026.91306269,65258026.91306269,65258026.91306269,65258026.91306269,65258026.91306269,65258026.91306269,65258026.91306269,65258026.91306269,65258026.91306269,65258026.91306269,65258026.91306269,65258026.91306269,65258026.91306269,65258026.91306269,65258026.91306269,65258026.91306269,65258026.91306269,65258026.91306269,65258026.91306269,65258026.91306269,65258026.91306269,65258026.91306269,65258026.91306269,65258026.91306269,65258026.91306269,65258026.91306269,65258026.91306269,65258026.91306269,65258026.91306269,65258026.91306269,65258026.91306269,65258026.91306269,65258026.91306269,65258026.91306269,65258026.91306269,65258026.91306269,65258026.91306269,65258026.91306269,65258026.91306269,65258026.91306269,65258026.91306269,65258026.91306269,65258026.91306269,65258026.91306269,65258026.91306269,65258026.91306269,65258026.91306269,65258026.91306269,65258026.91306269,65258026.91306269,65258026.91306269,65258026.91306269,65258026.91306269,65258026.91306269,65258026.91306269,65258026.91306269,65258026.91306269,65258026.91306269,65258026.91306269,65258026.91306269,65258026.91306269,65258026.91306269,65258026.91306269,65258026.91306269,65258026.91306269,65258026.91306269,65258026.91306269,65258026.91306269,65258026.91306269,65258026.91306269,65258026.91306269,65258026.91306269,65258026.91306269,65258026.91306269,65258026.91306269,65258026.91306269,65258026.91306269,65258026.91306269,65258026.91306269,65258026.91306269,65258026.91306269,65258026.91306269,65258026.91306269,65258026.91306269,65258026.91306269,65258026.91306269,65258026.91306269,65258026.91306269,65258026.91306269,65258026.91306269,65258026.91306269,65258026.91306269,65258026.91306269,65258026.91306269,65258026.91306269,65258026.91306269,65258026.91306269,65258026.91306269,65258026.91306269,65258026.91306269,65258026.91306269,65258026.91306269,65258026.91306269,65258026.91306269,65258026.91306269,65258026.91306269,65258026.91306269,65258026.91306269,65258026.91306269,65258026.91306269,65258026.91306269,65258026.91306269,65258026.91306269,65258026.91306269,65258026.91306269,68406287.15796116,68406287.15796116,68406287.15796116,68406287.15796116,68406287.15796116,68406287.15796116,68406287.15796116,68406287.15796116,68406287.15796116,68406287.15796116,68406287.15796116,68406287.15796116,68406287.15796116,68406287.15796116,68406287.15796116,68406287.15796116,68406287.15796116,68406287.15796116,68406287.15796116,68406287.15796116,68406287.15796116,68406287.15796116,68406287.15796116,68406287.15796116,68406287.15796116,68406287.15796116,68406287.15796116,68406287.15796116,68406287.15796116,68406287.15796116,68406287.15796116,68406287.15796116,68406287.15796116,68406287.15796116,68406287.15796116,68406287.15796116,68406287.15796116,68406287.15796116,68406287.15796116,68406287.15796116,68406287.15796116,68406287.15796116,68406287.15796116,68406287.15796116,68406287.15796116,68406287.15796116,68406287.15796116,68406287.15796116,68406287.15796116,68406287.15796116,68406287.15796116,68406287.15796116,68406287.15796116,68406287.15796116,68406287.15796116,68406287.15796116,68406287.15796116,68406287.15796116,68406287.15796116,68406287.15796116,68406287.15796116,68406287.15796116,68406287.15796116,68406287.15796116,68406287.15796116,68406287.15796116,68406287.15796116,71554547.40285966,71554547.40285966,71554547.40285966,71554547.40285966,71554547.40285966,71554547.40285966,71554547.40285966,71554547.40285966,71554547.40285966,71554547.40285966,71554547.40285966,71554547.40285966,71554547.40285966,71554547.40285966,71554547.40285966,71554547.40285966,71554547.40285966,71554547.40285966,71554547.40285966,71554547.40285966,71554547.40285966,71554547.40285966,71554547.40285966,71554547.40285966,71554547.40285966,71554547.40285966,71554547.40285966,71554547.40285966,71554547.40285966,71554547.40285966,71554547.40285966,71554547.40285966,71554547.40285966,71554547.40285966,71554547.40285966,71554547.40285966,71554547.40285966,71554547.40285966,71554547.40285966,71554547.40285966,71554547.40285966,71554547.40285966,71554547.40285966,71554547.40285966,74702807.64775813,74702807.64775813,74702807.64775813,74702807.64775813,74702807.64775813,74702807.64775813,74702807.64775813,74702807.64775813,74702807.64775813,74702807.64775813,74702807.64775813,74702807.64775813,74702807.64775813,74702807.64775813,74702807.64775813,74702807.64775813,74702807.64775813,74702807.64775813,74702807.64775813,74702807.64775813,74702807.64775813,74702807.64775813,74702807.64775813,74702807.64775813,74702807.64775813,74702807.64775813,74702807.64775813,74702807.64775813,74702807.64775813,74702807.64775813,74702807.64775813,77851067.89265656,77851067.89265656,77851067.89265656,77851067.89265656,77851067.89265656,77851067.89265656,77851067.89265656,77851067.89265656,77851067.89265656,77851067.89265656,77851067.89265656,77851067.89265656,77851067.89265656,77851067.89265656,77851067.89265656,77851067.89265656,77851067.89265656,77851067.89265656,77851067.89265656,77851067.89265656,80999328.137555,80999328.137555,80999328.137555,80999328.137555,80999328.137555,80999328.137555,80999328.137555,80999328.137555,80999328.137555,80999328.137555,80999328.137555,80999328.137555,80999328.137555,80999328.137555,80999328.137555,84147588.3824535,84147588.3824535,84147588.3824535,84147588.3824535,84147588.3824535,87295848.627352,87295848.627352,87295848.627352,87295848.627352,87295848.627352,90444108.87225044,90444108.87225044,90444108.87225044,93592369.11714888,93592369.11714888,93592369.11714888,99888889.60694581,103037149.85184431],\"yaxis\":\"y\",\"type\":\"scatter\"}],                        {\"template\":{\"data\":{\"histogram2dcontour\":[{\"type\":\"histogram2dcontour\",\"colorbar\":{\"outlinewidth\":0,\"ticks\":\"\"},\"colorscale\":[[0.0,\"#0d0887\"],[0.1111111111111111,\"#46039f\"],[0.2222222222222222,\"#7201a8\"],[0.3333333333333333,\"#9c179e\"],[0.4444444444444444,\"#bd3786\"],[0.5555555555555556,\"#d8576b\"],[0.6666666666666666,\"#ed7953\"],[0.7777777777777778,\"#fb9f3a\"],[0.8888888888888888,\"#fdca26\"],[1.0,\"#f0f921\"]]}],\"choropleth\":[{\"type\":\"choropleth\",\"colorbar\":{\"outlinewidth\":0,\"ticks\":\"\"}}],\"histogram2d\":[{\"type\":\"histogram2d\",\"colorbar\":{\"outlinewidth\":0,\"ticks\":\"\"},\"colorscale\":[[0.0,\"#0d0887\"],[0.1111111111111111,\"#46039f\"],[0.2222222222222222,\"#7201a8\"],[0.3333333333333333,\"#9c179e\"],[0.4444444444444444,\"#bd3786\"],[0.5555555555555556,\"#d8576b\"],[0.6666666666666666,\"#ed7953\"],[0.7777777777777778,\"#fb9f3a\"],[0.8888888888888888,\"#fdca26\"],[1.0,\"#f0f921\"]]}],\"heatmap\":[{\"type\":\"heatmap\",\"colorbar\":{\"outlinewidth\":0,\"ticks\":\"\"},\"colorscale\":[[0.0,\"#0d0887\"],[0.1111111111111111,\"#46039f\"],[0.2222222222222222,\"#7201a8\"],[0.3333333333333333,\"#9c179e\"],[0.4444444444444444,\"#bd3786\"],[0.5555555555555556,\"#d8576b\"],[0.6666666666666666,\"#ed7953\"],[0.7777777777777778,\"#fb9f3a\"],[0.8888888888888888,\"#fdca26\"],[1.0,\"#f0f921\"]]}],\"heatmapgl\":[{\"type\":\"heatmapgl\",\"colorbar\":{\"outlinewidth\":0,\"ticks\":\"\"},\"colorscale\":[[0.0,\"#0d0887\"],[0.1111111111111111,\"#46039f\"],[0.2222222222222222,\"#7201a8\"],[0.3333333333333333,\"#9c179e\"],[0.4444444444444444,\"#bd3786\"],[0.5555555555555556,\"#d8576b\"],[0.6666666666666666,\"#ed7953\"],[0.7777777777777778,\"#fb9f3a\"],[0.8888888888888888,\"#fdca26\"],[1.0,\"#f0f921\"]]}],\"contourcarpet\":[{\"type\":\"contourcarpet\",\"colorbar\":{\"outlinewidth\":0,\"ticks\":\"\"}}],\"contour\":[{\"type\":\"contour\",\"colorbar\":{\"outlinewidth\":0,\"ticks\":\"\"},\"colorscale\":[[0.0,\"#0d0887\"],[0.1111111111111111,\"#46039f\"],[0.2222222222222222,\"#7201a8\"],[0.3333333333333333,\"#9c179e\"],[0.4444444444444444,\"#bd3786\"],[0.5555555555555556,\"#d8576b\"],[0.6666666666666666,\"#ed7953\"],[0.7777777777777778,\"#fb9f3a\"],[0.8888888888888888,\"#fdca26\"],[1.0,\"#f0f921\"]]}],\"surface\":[{\"type\":\"surface\",\"colorbar\":{\"outlinewidth\":0,\"ticks\":\"\"},\"colorscale\":[[0.0,\"#0d0887\"],[0.1111111111111111,\"#46039f\"],[0.2222222222222222,\"#7201a8\"],[0.3333333333333333,\"#9c179e\"],[0.4444444444444444,\"#bd3786\"],[0.5555555555555556,\"#d8576b\"],[0.6666666666666666,\"#ed7953\"],[0.7777777777777778,\"#fb9f3a\"],[0.8888888888888888,\"#fdca26\"],[1.0,\"#f0f921\"]]}],\"mesh3d\":[{\"type\":\"mesh3d\",\"colorbar\":{\"outlinewidth\":0,\"ticks\":\"\"}}],\"scatter\":[{\"marker\":{\"line\":{\"color\":\"#283442\"}},\"type\":\"scatter\"}],\"parcoords\":[{\"type\":\"parcoords\",\"line\":{\"colorbar\":{\"outlinewidth\":0,\"ticks\":\"\"}}}],\"scatterpolargl\":[{\"type\":\"scatterpolargl\",\"marker\":{\"colorbar\":{\"outlinewidth\":0,\"ticks\":\"\"}}}],\"bar\":[{\"error_x\":{\"color\":\"#f2f5fa\"},\"error_y\":{\"color\":\"#f2f5fa\"},\"marker\":{\"line\":{\"color\":\"rgb(17,17,17)\",\"width\":0.5},\"pattern\":{\"fillmode\":\"overlay\",\"size\":10,\"solidity\":0.2}},\"type\":\"bar\"}],\"scattergeo\":[{\"type\":\"scattergeo\",\"marker\":{\"colorbar\":{\"outlinewidth\":0,\"ticks\":\"\"}}}],\"scatterpolar\":[{\"type\":\"scatterpolar\",\"marker\":{\"colorbar\":{\"outlinewidth\":0,\"ticks\":\"\"}}}],\"histogram\":[{\"marker\":{\"pattern\":{\"fillmode\":\"overlay\",\"size\":10,\"solidity\":0.2}},\"type\":\"histogram\"}],\"scattergl\":[{\"marker\":{\"line\":{\"color\":\"#283442\"}},\"type\":\"scattergl\"}],\"scatter3d\":[{\"type\":\"scatter3d\",\"line\":{\"colorbar\":{\"outlinewidth\":0,\"ticks\":\"\"}},\"marker\":{\"colorbar\":{\"outlinewidth\":0,\"ticks\":\"\"}}}],\"scattermapbox\":[{\"type\":\"scattermapbox\",\"marker\":{\"colorbar\":{\"outlinewidth\":0,\"ticks\":\"\"}}}],\"scatterternary\":[{\"type\":\"scatterternary\",\"marker\":{\"colorbar\":{\"outlinewidth\":0,\"ticks\":\"\"}}}],\"scattercarpet\":[{\"type\":\"scattercarpet\",\"marker\":{\"colorbar\":{\"outlinewidth\":0,\"ticks\":\"\"}}}],\"carpet\":[{\"aaxis\":{\"endlinecolor\":\"#A2B1C6\",\"gridcolor\":\"#506784\",\"linecolor\":\"#506784\",\"minorgridcolor\":\"#506784\",\"startlinecolor\":\"#A2B1C6\"},\"baxis\":{\"endlinecolor\":\"#A2B1C6\",\"gridcolor\":\"#506784\",\"linecolor\":\"#506784\",\"minorgridcolor\":\"#506784\",\"startlinecolor\":\"#A2B1C6\"},\"type\":\"carpet\"}],\"table\":[{\"cells\":{\"fill\":{\"color\":\"#506784\"},\"line\":{\"color\":\"rgb(17,17,17)\"}},\"header\":{\"fill\":{\"color\":\"#2a3f5f\"},\"line\":{\"color\":\"rgb(17,17,17)\"}},\"type\":\"table\"}],\"barpolar\":[{\"marker\":{\"line\":{\"color\":\"rgb(17,17,17)\",\"width\":0.5},\"pattern\":{\"fillmode\":\"overlay\",\"size\":10,\"solidity\":0.2}},\"type\":\"barpolar\"}],\"pie\":[{\"automargin\":true,\"type\":\"pie\"}]},\"layout\":{\"autotypenumbers\":\"strict\",\"colorway\":[\"#636efa\",\"#EF553B\",\"#00cc96\",\"#ab63fa\",\"#FFA15A\",\"#19d3f3\",\"#FF6692\",\"#B6E880\",\"#FF97FF\",\"#FECB52\"],\"font\":{\"color\":\"#f2f5fa\"},\"hovermode\":\"closest\",\"hoverlabel\":{\"align\":\"left\"},\"paper_bgcolor\":\"rgb(17,17,17)\",\"plot_bgcolor\":\"rgb(17,17,17)\",\"polar\":{\"bgcolor\":\"rgb(17,17,17)\",\"angularaxis\":{\"gridcolor\":\"#506784\",\"linecolor\":\"#506784\",\"ticks\":\"\"},\"radialaxis\":{\"gridcolor\":\"#506784\",\"linecolor\":\"#506784\",\"ticks\":\"\"}},\"ternary\":{\"bgcolor\":\"rgb(17,17,17)\",\"aaxis\":{\"gridcolor\":\"#506784\",\"linecolor\":\"#506784\",\"ticks\":\"\"},\"baxis\":{\"gridcolor\":\"#506784\",\"linecolor\":\"#506784\",\"ticks\":\"\"},\"caxis\":{\"gridcolor\":\"#506784\",\"linecolor\":\"#506784\",\"ticks\":\"\"}},\"coloraxis\":{\"colorbar\":{\"outlinewidth\":0,\"ticks\":\"\"}},\"colorscale\":{\"sequential\":[[0.0,\"#0d0887\"],[0.1111111111111111,\"#46039f\"],[0.2222222222222222,\"#7201a8\"],[0.3333333333333333,\"#9c179e\"],[0.4444444444444444,\"#bd3786\"],[0.5555555555555556,\"#d8576b\"],[0.6666666666666666,\"#ed7953\"],[0.7777777777777778,\"#fb9f3a\"],[0.8888888888888888,\"#fdca26\"],[1.0,\"#f0f921\"]],\"sequentialminus\":[[0.0,\"#0d0887\"],[0.1111111111111111,\"#46039f\"],[0.2222222222222222,\"#7201a8\"],[0.3333333333333333,\"#9c179e\"],[0.4444444444444444,\"#bd3786\"],[0.5555555555555556,\"#d8576b\"],[0.6666666666666666,\"#ed7953\"],[0.7777777777777778,\"#fb9f3a\"],[0.8888888888888888,\"#fdca26\"],[1.0,\"#f0f921\"]],\"diverging\":[[0,\"#8e0152\"],[0.1,\"#c51b7d\"],[0.2,\"#de77ae\"],[0.3,\"#f1b6da\"],[0.4,\"#fde0ef\"],[0.5,\"#f7f7f7\"],[0.6,\"#e6f5d0\"],[0.7,\"#b8e186\"],[0.8,\"#7fbc41\"],[0.9,\"#4d9221\"],[1,\"#276419\"]]},\"xaxis\":{\"gridcolor\":\"#283442\",\"linecolor\":\"#506784\",\"ticks\":\"\",\"title\":{\"standoff\":15},\"zerolinecolor\":\"#283442\",\"automargin\":true,\"zerolinewidth\":2},\"yaxis\":{\"gridcolor\":\"#283442\",\"linecolor\":\"#506784\",\"ticks\":\"\",\"title\":{\"standoff\":15},\"zerolinecolor\":\"#283442\",\"automargin\":true,\"zerolinewidth\":2},\"scene\":{\"xaxis\":{\"backgroundcolor\":\"rgb(17,17,17)\",\"gridcolor\":\"#506784\",\"linecolor\":\"#506784\",\"showbackground\":true,\"ticks\":\"\",\"zerolinecolor\":\"#C8D4E3\",\"gridwidth\":2},\"yaxis\":{\"backgroundcolor\":\"rgb(17,17,17)\",\"gridcolor\":\"#506784\",\"linecolor\":\"#506784\",\"showbackground\":true,\"ticks\":\"\",\"zerolinecolor\":\"#C8D4E3\",\"gridwidth\":2},\"zaxis\":{\"backgroundcolor\":\"rgb(17,17,17)\",\"gridcolor\":\"#506784\",\"linecolor\":\"#506784\",\"showbackground\":true,\"ticks\":\"\",\"zerolinecolor\":\"#C8D4E3\",\"gridwidth\":2}},\"shapedefaults\":{\"line\":{\"color\":\"#f2f5fa\"}},\"annotationdefaults\":{\"arrowcolor\":\"#f2f5fa\",\"arrowhead\":0,\"arrowwidth\":1},\"geo\":{\"bgcolor\":\"rgb(17,17,17)\",\"landcolor\":\"rgb(17,17,17)\",\"subunitcolor\":\"#506784\",\"showland\":true,\"showlakes\":true,\"lakecolor\":\"rgb(17,17,17)\"},\"title\":{\"x\":0.05},\"updatemenudefaults\":{\"bgcolor\":\"#506784\",\"borderwidth\":0},\"sliderdefaults\":{\"bgcolor\":\"#C8D4E3\",\"borderwidth\":1,\"bordercolor\":\"rgb(17,17,17)\",\"tickwidth\":0},\"mapbox\":{\"style\":\"dark\"}}},\"xaxis\":{\"anchor\":\"y\",\"domain\":[0.0,1.0],\"title\":{\"text\":\"IMDB_Rating\"}},\"yaxis\":{\"anchor\":\"x\",\"domain\":[0.0,1.0],\"title\":{\"text\":\"Gross\"}},\"legend\":{\"tracegroupgap\":0},\"title\":{\"text\":\"Gross Revenue vs. IMDB Rating\"}},                        {\"responsive\": true}                    ).then(function(){\n",
       "                            \n",
       "var gd = document.getElementById('8a8d8db5-8ae5-45a0-9a08-c4652c9830d3');\n",
       "var x = new MutationObserver(function (mutations, observer) {{\n",
       "        var display = window.getComputedStyle(gd).display;\n",
       "        if (!display || display === 'none') {{\n",
       "            console.log([gd, 'removed!']);\n",
       "            Plotly.purge(gd);\n",
       "            observer.disconnect();\n",
       "        }}\n",
       "}});\n",
       "\n",
       "// Listen for the removal of the full notebook cells\n",
       "var notebookContainer = gd.closest('#notebook-container');\n",
       "if (notebookContainer) {{\n",
       "    x.observe(notebookContainer, {childList: true});\n",
       "}}\n",
       "\n",
       "// Listen for the clearing of the current output cell\n",
       "var outputEl = gd.closest('.output');\n",
       "if (outputEl) {{\n",
       "    x.observe(outputEl, {childList: true});\n",
       "}}\n",
       "\n",
       "                        })                };                });            </script>        </div>"
      ]
     },
     "metadata": {},
     "output_type": "display_data"
    }
   ],
   "execution_count": 97
  },
  {
   "metadata": {},
   "cell_type": "markdown",
   "source": "--------------------",
   "id": "2b23bd6d81e4e7e4"
  },
  {
   "metadata": {},
   "cell_type": "markdown",
   "source": "This bar chart displays the average runtime for movies in each genre. By visualizing this, we can identify which genres tend to have longer or shorter films.",
   "id": "657245848b130328"
  },
  {
   "metadata": {
    "ExecuteTime": {
     "end_time": "2025-04-03T14:34:36.691488Z",
     "start_time": "2025-04-03T14:34:36.649973Z"
    }
   },
   "cell_type": "code",
   "source": [
    "import plotly.express as px\n",
    "\n",
    "# Melt the dataframe to have one genre per row\n",
    "df_melted = df.melt(id_vars=['Runtime'], value_vars=mlb.classes_, var_name='Genre', value_name='Present')\n",
    "df_genre_runtime = df_melted[df_melted['Present'] == 1].groupby('Genre')['Runtime'].mean().reset_index()\n",
    "\n",
    "# Create a bar chart of average runtime by genre\n",
    "fig = px.bar(df_genre_runtime, x='Genre', y='Runtime', title='Average Runtime by Genre')\n",
    "fig.show()\n"
   ],
   "id": "12a4c142ebc0dcad",
   "outputs": [
    {
     "data": {
      "application/vnd.plotly.v1+json": {
       "data": [
        {
         "alignmentgroup": "True",
         "hovertemplate": "Genre=%{x}<br>Runtime=%{y}<extra></extra>",
         "legendgroup": "",
         "marker": {
          "color": "#636efa",
          "pattern": {
           "shape": ""
          }
         },
         "name": "",
         "offsetgroup": "",
         "orientation": "v",
         "showlegend": false,
         "textposition": "auto",
         "x": [
          "action",
          "adventure",
          "animation",
          "biography",
          "comedy",
          "crime",
          "drama",
          "family",
          "fantasy",
          "film-noir",
          "history",
          "horror",
          "music",
          "musical",
          "mystery",
          "romance",
          "sci-fi",
          "sport",
          "thriller",
          "war",
          "western"
         ],
         "xaxis": "x",
         "y": [
          126.72486772486772,
          125.5,
          99.58536585365853,
          135.6697247706422,
          111.63948497854078,
          123.4401913875598,
          126.70165745856353,
          114.14285714285714,
          114.77272727272727,
          100.73684210526316,
          143.55357142857142,
          102.5,
          120.74285714285715,
          140.2941176470588,
          121.14141414141415,
          119.928,
          120.80597014925372,
          132.6315789473684,
          119.64233576642336,
          132.0392156862745,
          134.6
         ],
         "yaxis": "y",
         "type": "bar"
        }
       ],
       "layout": {
        "template": {
         "data": {
          "histogram2dcontour": [
           {
            "type": "histogram2dcontour",
            "colorbar": {
             "outlinewidth": 0,
             "ticks": ""
            },
            "colorscale": [
             [
              0.0,
              "#0d0887"
             ],
             [
              0.1111111111111111,
              "#46039f"
             ],
             [
              0.2222222222222222,
              "#7201a8"
             ],
             [
              0.3333333333333333,
              "#9c179e"
             ],
             [
              0.4444444444444444,
              "#bd3786"
             ],
             [
              0.5555555555555556,
              "#d8576b"
             ],
             [
              0.6666666666666666,
              "#ed7953"
             ],
             [
              0.7777777777777778,
              "#fb9f3a"
             ],
             [
              0.8888888888888888,
              "#fdca26"
             ],
             [
              1.0,
              "#f0f921"
             ]
            ]
           }
          ],
          "choropleth": [
           {
            "type": "choropleth",
            "colorbar": {
             "outlinewidth": 0,
             "ticks": ""
            }
           }
          ],
          "histogram2d": [
           {
            "type": "histogram2d",
            "colorbar": {
             "outlinewidth": 0,
             "ticks": ""
            },
            "colorscale": [
             [
              0.0,
              "#0d0887"
             ],
             [
              0.1111111111111111,
              "#46039f"
             ],
             [
              0.2222222222222222,
              "#7201a8"
             ],
             [
              0.3333333333333333,
              "#9c179e"
             ],
             [
              0.4444444444444444,
              "#bd3786"
             ],
             [
              0.5555555555555556,
              "#d8576b"
             ],
             [
              0.6666666666666666,
              "#ed7953"
             ],
             [
              0.7777777777777778,
              "#fb9f3a"
             ],
             [
              0.8888888888888888,
              "#fdca26"
             ],
             [
              1.0,
              "#f0f921"
             ]
            ]
           }
          ],
          "heatmap": [
           {
            "type": "heatmap",
            "colorbar": {
             "outlinewidth": 0,
             "ticks": ""
            },
            "colorscale": [
             [
              0.0,
              "#0d0887"
             ],
             [
              0.1111111111111111,
              "#46039f"
             ],
             [
              0.2222222222222222,
              "#7201a8"
             ],
             [
              0.3333333333333333,
              "#9c179e"
             ],
             [
              0.4444444444444444,
              "#bd3786"
             ],
             [
              0.5555555555555556,
              "#d8576b"
             ],
             [
              0.6666666666666666,
              "#ed7953"
             ],
             [
              0.7777777777777778,
              "#fb9f3a"
             ],
             [
              0.8888888888888888,
              "#fdca26"
             ],
             [
              1.0,
              "#f0f921"
             ]
            ]
           }
          ],
          "heatmapgl": [
           {
            "type": "heatmapgl",
            "colorbar": {
             "outlinewidth": 0,
             "ticks": ""
            },
            "colorscale": [
             [
              0.0,
              "#0d0887"
             ],
             [
              0.1111111111111111,
              "#46039f"
             ],
             [
              0.2222222222222222,
              "#7201a8"
             ],
             [
              0.3333333333333333,
              "#9c179e"
             ],
             [
              0.4444444444444444,
              "#bd3786"
             ],
             [
              0.5555555555555556,
              "#d8576b"
             ],
             [
              0.6666666666666666,
              "#ed7953"
             ],
             [
              0.7777777777777778,
              "#fb9f3a"
             ],
             [
              0.8888888888888888,
              "#fdca26"
             ],
             [
              1.0,
              "#f0f921"
             ]
            ]
           }
          ],
          "contourcarpet": [
           {
            "type": "contourcarpet",
            "colorbar": {
             "outlinewidth": 0,
             "ticks": ""
            }
           }
          ],
          "contour": [
           {
            "type": "contour",
            "colorbar": {
             "outlinewidth": 0,
             "ticks": ""
            },
            "colorscale": [
             [
              0.0,
              "#0d0887"
             ],
             [
              0.1111111111111111,
              "#46039f"
             ],
             [
              0.2222222222222222,
              "#7201a8"
             ],
             [
              0.3333333333333333,
              "#9c179e"
             ],
             [
              0.4444444444444444,
              "#bd3786"
             ],
             [
              0.5555555555555556,
              "#d8576b"
             ],
             [
              0.6666666666666666,
              "#ed7953"
             ],
             [
              0.7777777777777778,
              "#fb9f3a"
             ],
             [
              0.8888888888888888,
              "#fdca26"
             ],
             [
              1.0,
              "#f0f921"
             ]
            ]
           }
          ],
          "surface": [
           {
            "type": "surface",
            "colorbar": {
             "outlinewidth": 0,
             "ticks": ""
            },
            "colorscale": [
             [
              0.0,
              "#0d0887"
             ],
             [
              0.1111111111111111,
              "#46039f"
             ],
             [
              0.2222222222222222,
              "#7201a8"
             ],
             [
              0.3333333333333333,
              "#9c179e"
             ],
             [
              0.4444444444444444,
              "#bd3786"
             ],
             [
              0.5555555555555556,
              "#d8576b"
             ],
             [
              0.6666666666666666,
              "#ed7953"
             ],
             [
              0.7777777777777778,
              "#fb9f3a"
             ],
             [
              0.8888888888888888,
              "#fdca26"
             ],
             [
              1.0,
              "#f0f921"
             ]
            ]
           }
          ],
          "mesh3d": [
           {
            "type": "mesh3d",
            "colorbar": {
             "outlinewidth": 0,
             "ticks": ""
            }
           }
          ],
          "scatter": [
           {
            "marker": {
             "line": {
              "color": "#283442"
             }
            },
            "type": "scatter"
           }
          ],
          "parcoords": [
           {
            "type": "parcoords",
            "line": {
             "colorbar": {
              "outlinewidth": 0,
              "ticks": ""
             }
            }
           }
          ],
          "scatterpolargl": [
           {
            "type": "scatterpolargl",
            "marker": {
             "colorbar": {
              "outlinewidth": 0,
              "ticks": ""
             }
            }
           }
          ],
          "bar": [
           {
            "error_x": {
             "color": "#f2f5fa"
            },
            "error_y": {
             "color": "#f2f5fa"
            },
            "marker": {
             "line": {
              "color": "rgb(17,17,17)",
              "width": 0.5
             },
             "pattern": {
              "fillmode": "overlay",
              "size": 10,
              "solidity": 0.2
             }
            },
            "type": "bar"
           }
          ],
          "scattergeo": [
           {
            "type": "scattergeo",
            "marker": {
             "colorbar": {
              "outlinewidth": 0,
              "ticks": ""
             }
            }
           }
          ],
          "scatterpolar": [
           {
            "type": "scatterpolar",
            "marker": {
             "colorbar": {
              "outlinewidth": 0,
              "ticks": ""
             }
            }
           }
          ],
          "histogram": [
           {
            "marker": {
             "pattern": {
              "fillmode": "overlay",
              "size": 10,
              "solidity": 0.2
             }
            },
            "type": "histogram"
           }
          ],
          "scattergl": [
           {
            "marker": {
             "line": {
              "color": "#283442"
             }
            },
            "type": "scattergl"
           }
          ],
          "scatter3d": [
           {
            "type": "scatter3d",
            "line": {
             "colorbar": {
              "outlinewidth": 0,
              "ticks": ""
             }
            },
            "marker": {
             "colorbar": {
              "outlinewidth": 0,
              "ticks": ""
             }
            }
           }
          ],
          "scattermapbox": [
           {
            "type": "scattermapbox",
            "marker": {
             "colorbar": {
              "outlinewidth": 0,
              "ticks": ""
             }
            }
           }
          ],
          "scatterternary": [
           {
            "type": "scatterternary",
            "marker": {
             "colorbar": {
              "outlinewidth": 0,
              "ticks": ""
             }
            }
           }
          ],
          "scattercarpet": [
           {
            "type": "scattercarpet",
            "marker": {
             "colorbar": {
              "outlinewidth": 0,
              "ticks": ""
             }
            }
           }
          ],
          "carpet": [
           {
            "aaxis": {
             "endlinecolor": "#A2B1C6",
             "gridcolor": "#506784",
             "linecolor": "#506784",
             "minorgridcolor": "#506784",
             "startlinecolor": "#A2B1C6"
            },
            "baxis": {
             "endlinecolor": "#A2B1C6",
             "gridcolor": "#506784",
             "linecolor": "#506784",
             "minorgridcolor": "#506784",
             "startlinecolor": "#A2B1C6"
            },
            "type": "carpet"
           }
          ],
          "table": [
           {
            "cells": {
             "fill": {
              "color": "#506784"
             },
             "line": {
              "color": "rgb(17,17,17)"
             }
            },
            "header": {
             "fill": {
              "color": "#2a3f5f"
             },
             "line": {
              "color": "rgb(17,17,17)"
             }
            },
            "type": "table"
           }
          ],
          "barpolar": [
           {
            "marker": {
             "line": {
              "color": "rgb(17,17,17)",
              "width": 0.5
             },
             "pattern": {
              "fillmode": "overlay",
              "size": 10,
              "solidity": 0.2
             }
            },
            "type": "barpolar"
           }
          ],
          "pie": [
           {
            "automargin": true,
            "type": "pie"
           }
          ]
         },
         "layout": {
          "autotypenumbers": "strict",
          "colorway": [
           "#636efa",
           "#EF553B",
           "#00cc96",
           "#ab63fa",
           "#FFA15A",
           "#19d3f3",
           "#FF6692",
           "#B6E880",
           "#FF97FF",
           "#FECB52"
          ],
          "font": {
           "color": "#f2f5fa"
          },
          "hovermode": "closest",
          "hoverlabel": {
           "align": "left"
          },
          "paper_bgcolor": "rgb(17,17,17)",
          "plot_bgcolor": "rgb(17,17,17)",
          "polar": {
           "bgcolor": "rgb(17,17,17)",
           "angularaxis": {
            "gridcolor": "#506784",
            "linecolor": "#506784",
            "ticks": ""
           },
           "radialaxis": {
            "gridcolor": "#506784",
            "linecolor": "#506784",
            "ticks": ""
           }
          },
          "ternary": {
           "bgcolor": "rgb(17,17,17)",
           "aaxis": {
            "gridcolor": "#506784",
            "linecolor": "#506784",
            "ticks": ""
           },
           "baxis": {
            "gridcolor": "#506784",
            "linecolor": "#506784",
            "ticks": ""
           },
           "caxis": {
            "gridcolor": "#506784",
            "linecolor": "#506784",
            "ticks": ""
           }
          },
          "coloraxis": {
           "colorbar": {
            "outlinewidth": 0,
            "ticks": ""
           }
          },
          "colorscale": {
           "sequential": [
            [
             0.0,
             "#0d0887"
            ],
            [
             0.1111111111111111,
             "#46039f"
            ],
            [
             0.2222222222222222,
             "#7201a8"
            ],
            [
             0.3333333333333333,
             "#9c179e"
            ],
            [
             0.4444444444444444,
             "#bd3786"
            ],
            [
             0.5555555555555556,
             "#d8576b"
            ],
            [
             0.6666666666666666,
             "#ed7953"
            ],
            [
             0.7777777777777778,
             "#fb9f3a"
            ],
            [
             0.8888888888888888,
             "#fdca26"
            ],
            [
             1.0,
             "#f0f921"
            ]
           ],
           "sequentialminus": [
            [
             0.0,
             "#0d0887"
            ],
            [
             0.1111111111111111,
             "#46039f"
            ],
            [
             0.2222222222222222,
             "#7201a8"
            ],
            [
             0.3333333333333333,
             "#9c179e"
            ],
            [
             0.4444444444444444,
             "#bd3786"
            ],
            [
             0.5555555555555556,
             "#d8576b"
            ],
            [
             0.6666666666666666,
             "#ed7953"
            ],
            [
             0.7777777777777778,
             "#fb9f3a"
            ],
            [
             0.8888888888888888,
             "#fdca26"
            ],
            [
             1.0,
             "#f0f921"
            ]
           ],
           "diverging": [
            [
             0,
             "#8e0152"
            ],
            [
             0.1,
             "#c51b7d"
            ],
            [
             0.2,
             "#de77ae"
            ],
            [
             0.3,
             "#f1b6da"
            ],
            [
             0.4,
             "#fde0ef"
            ],
            [
             0.5,
             "#f7f7f7"
            ],
            [
             0.6,
             "#e6f5d0"
            ],
            [
             0.7,
             "#b8e186"
            ],
            [
             0.8,
             "#7fbc41"
            ],
            [
             0.9,
             "#4d9221"
            ],
            [
             1,
             "#276419"
            ]
           ]
          },
          "xaxis": {
           "gridcolor": "#283442",
           "linecolor": "#506784",
           "ticks": "",
           "title": {
            "standoff": 15
           },
           "zerolinecolor": "#283442",
           "automargin": true,
           "zerolinewidth": 2
          },
          "yaxis": {
           "gridcolor": "#283442",
           "linecolor": "#506784",
           "ticks": "",
           "title": {
            "standoff": 15
           },
           "zerolinecolor": "#283442",
           "automargin": true,
           "zerolinewidth": 2
          },
          "scene": {
           "xaxis": {
            "backgroundcolor": "rgb(17,17,17)",
            "gridcolor": "#506784",
            "linecolor": "#506784",
            "showbackground": true,
            "ticks": "",
            "zerolinecolor": "#C8D4E3",
            "gridwidth": 2
           },
           "yaxis": {
            "backgroundcolor": "rgb(17,17,17)",
            "gridcolor": "#506784",
            "linecolor": "#506784",
            "showbackground": true,
            "ticks": "",
            "zerolinecolor": "#C8D4E3",
            "gridwidth": 2
           },
           "zaxis": {
            "backgroundcolor": "rgb(17,17,17)",
            "gridcolor": "#506784",
            "linecolor": "#506784",
            "showbackground": true,
            "ticks": "",
            "zerolinecolor": "#C8D4E3",
            "gridwidth": 2
           }
          },
          "shapedefaults": {
           "line": {
            "color": "#f2f5fa"
           }
          },
          "annotationdefaults": {
           "arrowcolor": "#f2f5fa",
           "arrowhead": 0,
           "arrowwidth": 1
          },
          "geo": {
           "bgcolor": "rgb(17,17,17)",
           "landcolor": "rgb(17,17,17)",
           "subunitcolor": "#506784",
           "showland": true,
           "showlakes": true,
           "lakecolor": "rgb(17,17,17)"
          },
          "title": {
           "x": 0.05
          },
          "updatemenudefaults": {
           "bgcolor": "#506784",
           "borderwidth": 0
          },
          "sliderdefaults": {
           "bgcolor": "#C8D4E3",
           "borderwidth": 1,
           "bordercolor": "rgb(17,17,17)",
           "tickwidth": 0
          },
          "mapbox": {
           "style": "dark"
          }
         }
        },
        "xaxis": {
         "anchor": "y",
         "domain": [
          0.0,
          1.0
         ],
         "title": {
          "text": "Genre"
         }
        },
        "yaxis": {
         "anchor": "x",
         "domain": [
          0.0,
          1.0
         ],
         "title": {
          "text": "Runtime"
         }
        },
        "legend": {
         "tracegroupgap": 0
        },
        "title": {
         "text": "Average Runtime by Genre"
        },
        "barmode": "relative"
       },
       "config": {
        "plotlyServerURL": "https://plot.ly"
       }
      },
      "text/html": [
       "<div>                            <div id=\"4c9bb265-3fef-41d7-93ba-9b0d447c8b27\" class=\"plotly-graph-div\" style=\"height:525px; width:100%;\"></div>            <script type=\"text/javascript\">                require([\"plotly\"], function(Plotly) {                    window.PLOTLYENV=window.PLOTLYENV || {};                                    if (document.getElementById(\"4c9bb265-3fef-41d7-93ba-9b0d447c8b27\")) {                    Plotly.newPlot(                        \"4c9bb265-3fef-41d7-93ba-9b0d447c8b27\",                        [{\"alignmentgroup\":\"True\",\"hovertemplate\":\"Genre=%{x}\\u003cbr\\u003eRuntime=%{y}\\u003cextra\\u003e\\u003c\\u002fextra\\u003e\",\"legendgroup\":\"\",\"marker\":{\"color\":\"#636efa\",\"pattern\":{\"shape\":\"\"}},\"name\":\"\",\"offsetgroup\":\"\",\"orientation\":\"v\",\"showlegend\":false,\"textposition\":\"auto\",\"x\":[\"action\",\"adventure\",\"animation\",\"biography\",\"comedy\",\"crime\",\"drama\",\"family\",\"fantasy\",\"film-noir\",\"history\",\"horror\",\"music\",\"musical\",\"mystery\",\"romance\",\"sci-fi\",\"sport\",\"thriller\",\"war\",\"western\"],\"xaxis\":\"x\",\"y\":[126.72486772486772,125.5,99.58536585365853,135.6697247706422,111.63948497854078,123.4401913875598,126.70165745856353,114.14285714285714,114.77272727272727,100.73684210526316,143.55357142857142,102.5,120.74285714285715,140.2941176470588,121.14141414141415,119.928,120.80597014925372,132.6315789473684,119.64233576642336,132.0392156862745,134.6],\"yaxis\":\"y\",\"type\":\"bar\"}],                        {\"template\":{\"data\":{\"histogram2dcontour\":[{\"type\":\"histogram2dcontour\",\"colorbar\":{\"outlinewidth\":0,\"ticks\":\"\"},\"colorscale\":[[0.0,\"#0d0887\"],[0.1111111111111111,\"#46039f\"],[0.2222222222222222,\"#7201a8\"],[0.3333333333333333,\"#9c179e\"],[0.4444444444444444,\"#bd3786\"],[0.5555555555555556,\"#d8576b\"],[0.6666666666666666,\"#ed7953\"],[0.7777777777777778,\"#fb9f3a\"],[0.8888888888888888,\"#fdca26\"],[1.0,\"#f0f921\"]]}],\"choropleth\":[{\"type\":\"choropleth\",\"colorbar\":{\"outlinewidth\":0,\"ticks\":\"\"}}],\"histogram2d\":[{\"type\":\"histogram2d\",\"colorbar\":{\"outlinewidth\":0,\"ticks\":\"\"},\"colorscale\":[[0.0,\"#0d0887\"],[0.1111111111111111,\"#46039f\"],[0.2222222222222222,\"#7201a8\"],[0.3333333333333333,\"#9c179e\"],[0.4444444444444444,\"#bd3786\"],[0.5555555555555556,\"#d8576b\"],[0.6666666666666666,\"#ed7953\"],[0.7777777777777778,\"#fb9f3a\"],[0.8888888888888888,\"#fdca26\"],[1.0,\"#f0f921\"]]}],\"heatmap\":[{\"type\":\"heatmap\",\"colorbar\":{\"outlinewidth\":0,\"ticks\":\"\"},\"colorscale\":[[0.0,\"#0d0887\"],[0.1111111111111111,\"#46039f\"],[0.2222222222222222,\"#7201a8\"],[0.3333333333333333,\"#9c179e\"],[0.4444444444444444,\"#bd3786\"],[0.5555555555555556,\"#d8576b\"],[0.6666666666666666,\"#ed7953\"],[0.7777777777777778,\"#fb9f3a\"],[0.8888888888888888,\"#fdca26\"],[1.0,\"#f0f921\"]]}],\"heatmapgl\":[{\"type\":\"heatmapgl\",\"colorbar\":{\"outlinewidth\":0,\"ticks\":\"\"},\"colorscale\":[[0.0,\"#0d0887\"],[0.1111111111111111,\"#46039f\"],[0.2222222222222222,\"#7201a8\"],[0.3333333333333333,\"#9c179e\"],[0.4444444444444444,\"#bd3786\"],[0.5555555555555556,\"#d8576b\"],[0.6666666666666666,\"#ed7953\"],[0.7777777777777778,\"#fb9f3a\"],[0.8888888888888888,\"#fdca26\"],[1.0,\"#f0f921\"]]}],\"contourcarpet\":[{\"type\":\"contourcarpet\",\"colorbar\":{\"outlinewidth\":0,\"ticks\":\"\"}}],\"contour\":[{\"type\":\"contour\",\"colorbar\":{\"outlinewidth\":0,\"ticks\":\"\"},\"colorscale\":[[0.0,\"#0d0887\"],[0.1111111111111111,\"#46039f\"],[0.2222222222222222,\"#7201a8\"],[0.3333333333333333,\"#9c179e\"],[0.4444444444444444,\"#bd3786\"],[0.5555555555555556,\"#d8576b\"],[0.6666666666666666,\"#ed7953\"],[0.7777777777777778,\"#fb9f3a\"],[0.8888888888888888,\"#fdca26\"],[1.0,\"#f0f921\"]]}],\"surface\":[{\"type\":\"surface\",\"colorbar\":{\"outlinewidth\":0,\"ticks\":\"\"},\"colorscale\":[[0.0,\"#0d0887\"],[0.1111111111111111,\"#46039f\"],[0.2222222222222222,\"#7201a8\"],[0.3333333333333333,\"#9c179e\"],[0.4444444444444444,\"#bd3786\"],[0.5555555555555556,\"#d8576b\"],[0.6666666666666666,\"#ed7953\"],[0.7777777777777778,\"#fb9f3a\"],[0.8888888888888888,\"#fdca26\"],[1.0,\"#f0f921\"]]}],\"mesh3d\":[{\"type\":\"mesh3d\",\"colorbar\":{\"outlinewidth\":0,\"ticks\":\"\"}}],\"scatter\":[{\"marker\":{\"line\":{\"color\":\"#283442\"}},\"type\":\"scatter\"}],\"parcoords\":[{\"type\":\"parcoords\",\"line\":{\"colorbar\":{\"outlinewidth\":0,\"ticks\":\"\"}}}],\"scatterpolargl\":[{\"type\":\"scatterpolargl\",\"marker\":{\"colorbar\":{\"outlinewidth\":0,\"ticks\":\"\"}}}],\"bar\":[{\"error_x\":{\"color\":\"#f2f5fa\"},\"error_y\":{\"color\":\"#f2f5fa\"},\"marker\":{\"line\":{\"color\":\"rgb(17,17,17)\",\"width\":0.5},\"pattern\":{\"fillmode\":\"overlay\",\"size\":10,\"solidity\":0.2}},\"type\":\"bar\"}],\"scattergeo\":[{\"type\":\"scattergeo\",\"marker\":{\"colorbar\":{\"outlinewidth\":0,\"ticks\":\"\"}}}],\"scatterpolar\":[{\"type\":\"scatterpolar\",\"marker\":{\"colorbar\":{\"outlinewidth\":0,\"ticks\":\"\"}}}],\"histogram\":[{\"marker\":{\"pattern\":{\"fillmode\":\"overlay\",\"size\":10,\"solidity\":0.2}},\"type\":\"histogram\"}],\"scattergl\":[{\"marker\":{\"line\":{\"color\":\"#283442\"}},\"type\":\"scattergl\"}],\"scatter3d\":[{\"type\":\"scatter3d\",\"line\":{\"colorbar\":{\"outlinewidth\":0,\"ticks\":\"\"}},\"marker\":{\"colorbar\":{\"outlinewidth\":0,\"ticks\":\"\"}}}],\"scattermapbox\":[{\"type\":\"scattermapbox\",\"marker\":{\"colorbar\":{\"outlinewidth\":0,\"ticks\":\"\"}}}],\"scatterternary\":[{\"type\":\"scatterternary\",\"marker\":{\"colorbar\":{\"outlinewidth\":0,\"ticks\":\"\"}}}],\"scattercarpet\":[{\"type\":\"scattercarpet\",\"marker\":{\"colorbar\":{\"outlinewidth\":0,\"ticks\":\"\"}}}],\"carpet\":[{\"aaxis\":{\"endlinecolor\":\"#A2B1C6\",\"gridcolor\":\"#506784\",\"linecolor\":\"#506784\",\"minorgridcolor\":\"#506784\",\"startlinecolor\":\"#A2B1C6\"},\"baxis\":{\"endlinecolor\":\"#A2B1C6\",\"gridcolor\":\"#506784\",\"linecolor\":\"#506784\",\"minorgridcolor\":\"#506784\",\"startlinecolor\":\"#A2B1C6\"},\"type\":\"carpet\"}],\"table\":[{\"cells\":{\"fill\":{\"color\":\"#506784\"},\"line\":{\"color\":\"rgb(17,17,17)\"}},\"header\":{\"fill\":{\"color\":\"#2a3f5f\"},\"line\":{\"color\":\"rgb(17,17,17)\"}},\"type\":\"table\"}],\"barpolar\":[{\"marker\":{\"line\":{\"color\":\"rgb(17,17,17)\",\"width\":0.5},\"pattern\":{\"fillmode\":\"overlay\",\"size\":10,\"solidity\":0.2}},\"type\":\"barpolar\"}],\"pie\":[{\"automargin\":true,\"type\":\"pie\"}]},\"layout\":{\"autotypenumbers\":\"strict\",\"colorway\":[\"#636efa\",\"#EF553B\",\"#00cc96\",\"#ab63fa\",\"#FFA15A\",\"#19d3f3\",\"#FF6692\",\"#B6E880\",\"#FF97FF\",\"#FECB52\"],\"font\":{\"color\":\"#f2f5fa\"},\"hovermode\":\"closest\",\"hoverlabel\":{\"align\":\"left\"},\"paper_bgcolor\":\"rgb(17,17,17)\",\"plot_bgcolor\":\"rgb(17,17,17)\",\"polar\":{\"bgcolor\":\"rgb(17,17,17)\",\"angularaxis\":{\"gridcolor\":\"#506784\",\"linecolor\":\"#506784\",\"ticks\":\"\"},\"radialaxis\":{\"gridcolor\":\"#506784\",\"linecolor\":\"#506784\",\"ticks\":\"\"}},\"ternary\":{\"bgcolor\":\"rgb(17,17,17)\",\"aaxis\":{\"gridcolor\":\"#506784\",\"linecolor\":\"#506784\",\"ticks\":\"\"},\"baxis\":{\"gridcolor\":\"#506784\",\"linecolor\":\"#506784\",\"ticks\":\"\"},\"caxis\":{\"gridcolor\":\"#506784\",\"linecolor\":\"#506784\",\"ticks\":\"\"}},\"coloraxis\":{\"colorbar\":{\"outlinewidth\":0,\"ticks\":\"\"}},\"colorscale\":{\"sequential\":[[0.0,\"#0d0887\"],[0.1111111111111111,\"#46039f\"],[0.2222222222222222,\"#7201a8\"],[0.3333333333333333,\"#9c179e\"],[0.4444444444444444,\"#bd3786\"],[0.5555555555555556,\"#d8576b\"],[0.6666666666666666,\"#ed7953\"],[0.7777777777777778,\"#fb9f3a\"],[0.8888888888888888,\"#fdca26\"],[1.0,\"#f0f921\"]],\"sequentialminus\":[[0.0,\"#0d0887\"],[0.1111111111111111,\"#46039f\"],[0.2222222222222222,\"#7201a8\"],[0.3333333333333333,\"#9c179e\"],[0.4444444444444444,\"#bd3786\"],[0.5555555555555556,\"#d8576b\"],[0.6666666666666666,\"#ed7953\"],[0.7777777777777778,\"#fb9f3a\"],[0.8888888888888888,\"#fdca26\"],[1.0,\"#f0f921\"]],\"diverging\":[[0,\"#8e0152\"],[0.1,\"#c51b7d\"],[0.2,\"#de77ae\"],[0.3,\"#f1b6da\"],[0.4,\"#fde0ef\"],[0.5,\"#f7f7f7\"],[0.6,\"#e6f5d0\"],[0.7,\"#b8e186\"],[0.8,\"#7fbc41\"],[0.9,\"#4d9221\"],[1,\"#276419\"]]},\"xaxis\":{\"gridcolor\":\"#283442\",\"linecolor\":\"#506784\",\"ticks\":\"\",\"title\":{\"standoff\":15},\"zerolinecolor\":\"#283442\",\"automargin\":true,\"zerolinewidth\":2},\"yaxis\":{\"gridcolor\":\"#283442\",\"linecolor\":\"#506784\",\"ticks\":\"\",\"title\":{\"standoff\":15},\"zerolinecolor\":\"#283442\",\"automargin\":true,\"zerolinewidth\":2},\"scene\":{\"xaxis\":{\"backgroundcolor\":\"rgb(17,17,17)\",\"gridcolor\":\"#506784\",\"linecolor\":\"#506784\",\"showbackground\":true,\"ticks\":\"\",\"zerolinecolor\":\"#C8D4E3\",\"gridwidth\":2},\"yaxis\":{\"backgroundcolor\":\"rgb(17,17,17)\",\"gridcolor\":\"#506784\",\"linecolor\":\"#506784\",\"showbackground\":true,\"ticks\":\"\",\"zerolinecolor\":\"#C8D4E3\",\"gridwidth\":2},\"zaxis\":{\"backgroundcolor\":\"rgb(17,17,17)\",\"gridcolor\":\"#506784\",\"linecolor\":\"#506784\",\"showbackground\":true,\"ticks\":\"\",\"zerolinecolor\":\"#C8D4E3\",\"gridwidth\":2}},\"shapedefaults\":{\"line\":{\"color\":\"#f2f5fa\"}},\"annotationdefaults\":{\"arrowcolor\":\"#f2f5fa\",\"arrowhead\":0,\"arrowwidth\":1},\"geo\":{\"bgcolor\":\"rgb(17,17,17)\",\"landcolor\":\"rgb(17,17,17)\",\"subunitcolor\":\"#506784\",\"showland\":true,\"showlakes\":true,\"lakecolor\":\"rgb(17,17,17)\"},\"title\":{\"x\":0.05},\"updatemenudefaults\":{\"bgcolor\":\"#506784\",\"borderwidth\":0},\"sliderdefaults\":{\"bgcolor\":\"#C8D4E3\",\"borderwidth\":1,\"bordercolor\":\"rgb(17,17,17)\",\"tickwidth\":0},\"mapbox\":{\"style\":\"dark\"}}},\"xaxis\":{\"anchor\":\"y\",\"domain\":[0.0,1.0],\"title\":{\"text\":\"Genre\"}},\"yaxis\":{\"anchor\":\"x\",\"domain\":[0.0,1.0],\"title\":{\"text\":\"Runtime\"}},\"legend\":{\"tracegroupgap\":0},\"title\":{\"text\":\"Average Runtime by Genre\"},\"barmode\":\"relative\"},                        {\"responsive\": true}                    ).then(function(){\n",
       "                            \n",
       "var gd = document.getElementById('4c9bb265-3fef-41d7-93ba-9b0d447c8b27');\n",
       "var x = new MutationObserver(function (mutations, observer) {{\n",
       "        var display = window.getComputedStyle(gd).display;\n",
       "        if (!display || display === 'none') {{\n",
       "            console.log([gd, 'removed!']);\n",
       "            Plotly.purge(gd);\n",
       "            observer.disconnect();\n",
       "        }}\n",
       "}});\n",
       "\n",
       "// Listen for the removal of the full notebook cells\n",
       "var notebookContainer = gd.closest('#notebook-container');\n",
       "if (notebookContainer) {{\n",
       "    x.observe(notebookContainer, {childList: true});\n",
       "}}\n",
       "\n",
       "// Listen for the clearing of the current output cell\n",
       "var outputEl = gd.closest('.output');\n",
       "if (outputEl) {{\n",
       "    x.observe(outputEl, {childList: true});\n",
       "}}\n",
       "\n",
       "                        })                };                });            </script>        </div>"
      ]
     },
     "metadata": {},
     "output_type": "display_data"
    }
   ],
   "execution_count": 98
  },
  {
   "metadata": {},
   "cell_type": "markdown",
   "source": "This bar chart shows the number of movies released each year. It helps us observe trends in movie production over time and see if there has been a surge or decline in the number of top-rated movies over the years.",
   "id": "b5e32d4aa3353002"
  },
  {
   "metadata": {
    "ExecuteTime": {
     "end_time": "2025-04-03T14:34:36.915836Z",
     "start_time": "2025-04-03T14:34:36.731554Z"
    }
   },
   "cell_type": "code",
   "source": [
    "import plotly.express as px\n",
    "\n",
    "# Create a bar chart of the number of movies released per year\n",
    "df_year_count = df['Released_Year'].value_counts().reset_index()\n",
    "df_year_count.columns = ['Released_Year', 'Count']\n",
    "fig = px.bar(df_year_count, x='Released_Year', y='Count', title='Number of Movies Released per Year')\n",
    "fig.show()\n"
   ],
   "id": "15ae91517c76f374",
   "outputs": [
    {
     "data": {
      "application/vnd.plotly.v1+json": {
       "data": [
        {
         "alignmentgroup": "True",
         "hovertemplate": "Released_Year=%{x}<br>Count=%{y}<extra></extra>",
         "legendgroup": "",
         "marker": {
          "color": "#636efa",
          "pattern": {
           "shape": ""
          }
         },
         "name": "",
         "offsetgroup": "",
         "orientation": "v",
         "showlegend": false,
         "textposition": "auto",
         "x": [
          2014.0,
          2004.0,
          2009.0,
          2016.0,
          2013.0,
          2001.0,
          2007.0,
          2006.0,
          2015.0,
          2012.0,
          2019.0,
          2010.0,
          1993.0,
          2017.0,
          2003.0,
          2008.0,
          2000.0,
          1995.0,
          2002.0,
          1997.0,
          2018.0,
          1999.0,
          2011.0,
          2005.0,
          1998.0,
          1962.0,
          1994.0,
          1992.0,
          1987.0,
          1973.0,
          1979.0,
          1991.0,
          1989.0,
          1988.0,
          1960.0,
          1982.0,
          1996.0,
          1967.0,
          1986.0,
          1984.0,
          1975.0,
          1957.0,
          1971.0,
          1985.0,
          1968.0,
          1990.0,
          1972.0,
          1980.0,
          1964.0,
          1976.0,
          1966.0,
          1978.0,
          1959.0,
          1940.0,
          1948.0,
          1954.0,
          2020.0,
          1974.0,
          1955.0,
          1939.0,
          1953.0,
          1951.0,
          1946.0,
          1961.0,
          1983.0,
          1963.0,
          1950.0,
          1956.0,
          1944.0,
          1981.0,
          1958.0,
          1965.0,
          1952.0,
          1977.0,
          1942.0,
          1935.0,
          1938.0,
          1931.0,
          1933.0,
          1970.0,
          1969.0,
          1949.0,
          1927.0,
          1932.0,
          1941.0,
          1947.0,
          1925.0,
          1928.0,
          1945.0,
          1934.0,
          1936.0,
          1937.0,
          1924.0,
          1921.0,
          1920.0,
          1926.0,
          1930.0,
          1922.0,
          1943.0
         ],
         "xaxis": "x",
         "y": [
          32,
          31,
          29,
          28,
          28,
          27,
          26,
          26,
          25,
          24,
          23,
          23,
          23,
          22,
          22,
          21,
          19,
          19,
          19,
          19,
          19,
          18,
          18,
          17,
          17,
          13,
          13,
          12,
          12,
          12,
          12,
          12,
          11,
          11,
          11,
          11,
          10,
          10,
          9,
          9,
          9,
          9,
          9,
          9,
          8,
          8,
          8,
          8,
          7,
          7,
          7,
          7,
          7,
          7,
          6,
          6,
          6,
          6,
          6,
          5,
          5,
          5,
          5,
          5,
          5,
          5,
          5,
          5,
          4,
          4,
          4,
          4,
          4,
          3,
          3,
          3,
          3,
          3,
          3,
          3,
          3,
          3,
          2,
          2,
          2,
          2,
          2,
          2,
          2,
          2,
          1,
          1,
          1,
          1,
          1,
          1,
          1,
          1,
          1
         ],
         "yaxis": "y",
         "type": "bar"
        }
       ],
       "layout": {
        "template": {
         "data": {
          "histogram2dcontour": [
           {
            "type": "histogram2dcontour",
            "colorbar": {
             "outlinewidth": 0,
             "ticks": ""
            },
            "colorscale": [
             [
              0.0,
              "#0d0887"
             ],
             [
              0.1111111111111111,
              "#46039f"
             ],
             [
              0.2222222222222222,
              "#7201a8"
             ],
             [
              0.3333333333333333,
              "#9c179e"
             ],
             [
              0.4444444444444444,
              "#bd3786"
             ],
             [
              0.5555555555555556,
              "#d8576b"
             ],
             [
              0.6666666666666666,
              "#ed7953"
             ],
             [
              0.7777777777777778,
              "#fb9f3a"
             ],
             [
              0.8888888888888888,
              "#fdca26"
             ],
             [
              1.0,
              "#f0f921"
             ]
            ]
           }
          ],
          "choropleth": [
           {
            "type": "choropleth",
            "colorbar": {
             "outlinewidth": 0,
             "ticks": ""
            }
           }
          ],
          "histogram2d": [
           {
            "type": "histogram2d",
            "colorbar": {
             "outlinewidth": 0,
             "ticks": ""
            },
            "colorscale": [
             [
              0.0,
              "#0d0887"
             ],
             [
              0.1111111111111111,
              "#46039f"
             ],
             [
              0.2222222222222222,
              "#7201a8"
             ],
             [
              0.3333333333333333,
              "#9c179e"
             ],
             [
              0.4444444444444444,
              "#bd3786"
             ],
             [
              0.5555555555555556,
              "#d8576b"
             ],
             [
              0.6666666666666666,
              "#ed7953"
             ],
             [
              0.7777777777777778,
              "#fb9f3a"
             ],
             [
              0.8888888888888888,
              "#fdca26"
             ],
             [
              1.0,
              "#f0f921"
             ]
            ]
           }
          ],
          "heatmap": [
           {
            "type": "heatmap",
            "colorbar": {
             "outlinewidth": 0,
             "ticks": ""
            },
            "colorscale": [
             [
              0.0,
              "#0d0887"
             ],
             [
              0.1111111111111111,
              "#46039f"
             ],
             [
              0.2222222222222222,
              "#7201a8"
             ],
             [
              0.3333333333333333,
              "#9c179e"
             ],
             [
              0.4444444444444444,
              "#bd3786"
             ],
             [
              0.5555555555555556,
              "#d8576b"
             ],
             [
              0.6666666666666666,
              "#ed7953"
             ],
             [
              0.7777777777777778,
              "#fb9f3a"
             ],
             [
              0.8888888888888888,
              "#fdca26"
             ],
             [
              1.0,
              "#f0f921"
             ]
            ]
           }
          ],
          "heatmapgl": [
           {
            "type": "heatmapgl",
            "colorbar": {
             "outlinewidth": 0,
             "ticks": ""
            },
            "colorscale": [
             [
              0.0,
              "#0d0887"
             ],
             [
              0.1111111111111111,
              "#46039f"
             ],
             [
              0.2222222222222222,
              "#7201a8"
             ],
             [
              0.3333333333333333,
              "#9c179e"
             ],
             [
              0.4444444444444444,
              "#bd3786"
             ],
             [
              0.5555555555555556,
              "#d8576b"
             ],
             [
              0.6666666666666666,
              "#ed7953"
             ],
             [
              0.7777777777777778,
              "#fb9f3a"
             ],
             [
              0.8888888888888888,
              "#fdca26"
             ],
             [
              1.0,
              "#f0f921"
             ]
            ]
           }
          ],
          "contourcarpet": [
           {
            "type": "contourcarpet",
            "colorbar": {
             "outlinewidth": 0,
             "ticks": ""
            }
           }
          ],
          "contour": [
           {
            "type": "contour",
            "colorbar": {
             "outlinewidth": 0,
             "ticks": ""
            },
            "colorscale": [
             [
              0.0,
              "#0d0887"
             ],
             [
              0.1111111111111111,
              "#46039f"
             ],
             [
              0.2222222222222222,
              "#7201a8"
             ],
             [
              0.3333333333333333,
              "#9c179e"
             ],
             [
              0.4444444444444444,
              "#bd3786"
             ],
             [
              0.5555555555555556,
              "#d8576b"
             ],
             [
              0.6666666666666666,
              "#ed7953"
             ],
             [
              0.7777777777777778,
              "#fb9f3a"
             ],
             [
              0.8888888888888888,
              "#fdca26"
             ],
             [
              1.0,
              "#f0f921"
             ]
            ]
           }
          ],
          "surface": [
           {
            "type": "surface",
            "colorbar": {
             "outlinewidth": 0,
             "ticks": ""
            },
            "colorscale": [
             [
              0.0,
              "#0d0887"
             ],
             [
              0.1111111111111111,
              "#46039f"
             ],
             [
              0.2222222222222222,
              "#7201a8"
             ],
             [
              0.3333333333333333,
              "#9c179e"
             ],
             [
              0.4444444444444444,
              "#bd3786"
             ],
             [
              0.5555555555555556,
              "#d8576b"
             ],
             [
              0.6666666666666666,
              "#ed7953"
             ],
             [
              0.7777777777777778,
              "#fb9f3a"
             ],
             [
              0.8888888888888888,
              "#fdca26"
             ],
             [
              1.0,
              "#f0f921"
             ]
            ]
           }
          ],
          "mesh3d": [
           {
            "type": "mesh3d",
            "colorbar": {
             "outlinewidth": 0,
             "ticks": ""
            }
           }
          ],
          "scatter": [
           {
            "marker": {
             "line": {
              "color": "#283442"
             }
            },
            "type": "scatter"
           }
          ],
          "parcoords": [
           {
            "type": "parcoords",
            "line": {
             "colorbar": {
              "outlinewidth": 0,
              "ticks": ""
             }
            }
           }
          ],
          "scatterpolargl": [
           {
            "type": "scatterpolargl",
            "marker": {
             "colorbar": {
              "outlinewidth": 0,
              "ticks": ""
             }
            }
           }
          ],
          "bar": [
           {
            "error_x": {
             "color": "#f2f5fa"
            },
            "error_y": {
             "color": "#f2f5fa"
            },
            "marker": {
             "line": {
              "color": "rgb(17,17,17)",
              "width": 0.5
             },
             "pattern": {
              "fillmode": "overlay",
              "size": 10,
              "solidity": 0.2
             }
            },
            "type": "bar"
           }
          ],
          "scattergeo": [
           {
            "type": "scattergeo",
            "marker": {
             "colorbar": {
              "outlinewidth": 0,
              "ticks": ""
             }
            }
           }
          ],
          "scatterpolar": [
           {
            "type": "scatterpolar",
            "marker": {
             "colorbar": {
              "outlinewidth": 0,
              "ticks": ""
             }
            }
           }
          ],
          "histogram": [
           {
            "marker": {
             "pattern": {
              "fillmode": "overlay",
              "size": 10,
              "solidity": 0.2
             }
            },
            "type": "histogram"
           }
          ],
          "scattergl": [
           {
            "marker": {
             "line": {
              "color": "#283442"
             }
            },
            "type": "scattergl"
           }
          ],
          "scatter3d": [
           {
            "type": "scatter3d",
            "line": {
             "colorbar": {
              "outlinewidth": 0,
              "ticks": ""
             }
            },
            "marker": {
             "colorbar": {
              "outlinewidth": 0,
              "ticks": ""
             }
            }
           }
          ],
          "scattermapbox": [
           {
            "type": "scattermapbox",
            "marker": {
             "colorbar": {
              "outlinewidth": 0,
              "ticks": ""
             }
            }
           }
          ],
          "scatterternary": [
           {
            "type": "scatterternary",
            "marker": {
             "colorbar": {
              "outlinewidth": 0,
              "ticks": ""
             }
            }
           }
          ],
          "scattercarpet": [
           {
            "type": "scattercarpet",
            "marker": {
             "colorbar": {
              "outlinewidth": 0,
              "ticks": ""
             }
            }
           }
          ],
          "carpet": [
           {
            "aaxis": {
             "endlinecolor": "#A2B1C6",
             "gridcolor": "#506784",
             "linecolor": "#506784",
             "minorgridcolor": "#506784",
             "startlinecolor": "#A2B1C6"
            },
            "baxis": {
             "endlinecolor": "#A2B1C6",
             "gridcolor": "#506784",
             "linecolor": "#506784",
             "minorgridcolor": "#506784",
             "startlinecolor": "#A2B1C6"
            },
            "type": "carpet"
           }
          ],
          "table": [
           {
            "cells": {
             "fill": {
              "color": "#506784"
             },
             "line": {
              "color": "rgb(17,17,17)"
             }
            },
            "header": {
             "fill": {
              "color": "#2a3f5f"
             },
             "line": {
              "color": "rgb(17,17,17)"
             }
            },
            "type": "table"
           }
          ],
          "barpolar": [
           {
            "marker": {
             "line": {
              "color": "rgb(17,17,17)",
              "width": 0.5
             },
             "pattern": {
              "fillmode": "overlay",
              "size": 10,
              "solidity": 0.2
             }
            },
            "type": "barpolar"
           }
          ],
          "pie": [
           {
            "automargin": true,
            "type": "pie"
           }
          ]
         },
         "layout": {
          "autotypenumbers": "strict",
          "colorway": [
           "#636efa",
           "#EF553B",
           "#00cc96",
           "#ab63fa",
           "#FFA15A",
           "#19d3f3",
           "#FF6692",
           "#B6E880",
           "#FF97FF",
           "#FECB52"
          ],
          "font": {
           "color": "#f2f5fa"
          },
          "hovermode": "closest",
          "hoverlabel": {
           "align": "left"
          },
          "paper_bgcolor": "rgb(17,17,17)",
          "plot_bgcolor": "rgb(17,17,17)",
          "polar": {
           "bgcolor": "rgb(17,17,17)",
           "angularaxis": {
            "gridcolor": "#506784",
            "linecolor": "#506784",
            "ticks": ""
           },
           "radialaxis": {
            "gridcolor": "#506784",
            "linecolor": "#506784",
            "ticks": ""
           }
          },
          "ternary": {
           "bgcolor": "rgb(17,17,17)",
           "aaxis": {
            "gridcolor": "#506784",
            "linecolor": "#506784",
            "ticks": ""
           },
           "baxis": {
            "gridcolor": "#506784",
            "linecolor": "#506784",
            "ticks": ""
           },
           "caxis": {
            "gridcolor": "#506784",
            "linecolor": "#506784",
            "ticks": ""
           }
          },
          "coloraxis": {
           "colorbar": {
            "outlinewidth": 0,
            "ticks": ""
           }
          },
          "colorscale": {
           "sequential": [
            [
             0.0,
             "#0d0887"
            ],
            [
             0.1111111111111111,
             "#46039f"
            ],
            [
             0.2222222222222222,
             "#7201a8"
            ],
            [
             0.3333333333333333,
             "#9c179e"
            ],
            [
             0.4444444444444444,
             "#bd3786"
            ],
            [
             0.5555555555555556,
             "#d8576b"
            ],
            [
             0.6666666666666666,
             "#ed7953"
            ],
            [
             0.7777777777777778,
             "#fb9f3a"
            ],
            [
             0.8888888888888888,
             "#fdca26"
            ],
            [
             1.0,
             "#f0f921"
            ]
           ],
           "sequentialminus": [
            [
             0.0,
             "#0d0887"
            ],
            [
             0.1111111111111111,
             "#46039f"
            ],
            [
             0.2222222222222222,
             "#7201a8"
            ],
            [
             0.3333333333333333,
             "#9c179e"
            ],
            [
             0.4444444444444444,
             "#bd3786"
            ],
            [
             0.5555555555555556,
             "#d8576b"
            ],
            [
             0.6666666666666666,
             "#ed7953"
            ],
            [
             0.7777777777777778,
             "#fb9f3a"
            ],
            [
             0.8888888888888888,
             "#fdca26"
            ],
            [
             1.0,
             "#f0f921"
            ]
           ],
           "diverging": [
            [
             0,
             "#8e0152"
            ],
            [
             0.1,
             "#c51b7d"
            ],
            [
             0.2,
             "#de77ae"
            ],
            [
             0.3,
             "#f1b6da"
            ],
            [
             0.4,
             "#fde0ef"
            ],
            [
             0.5,
             "#f7f7f7"
            ],
            [
             0.6,
             "#e6f5d0"
            ],
            [
             0.7,
             "#b8e186"
            ],
            [
             0.8,
             "#7fbc41"
            ],
            [
             0.9,
             "#4d9221"
            ],
            [
             1,
             "#276419"
            ]
           ]
          },
          "xaxis": {
           "gridcolor": "#283442",
           "linecolor": "#506784",
           "ticks": "",
           "title": {
            "standoff": 15
           },
           "zerolinecolor": "#283442",
           "automargin": true,
           "zerolinewidth": 2
          },
          "yaxis": {
           "gridcolor": "#283442",
           "linecolor": "#506784",
           "ticks": "",
           "title": {
            "standoff": 15
           },
           "zerolinecolor": "#283442",
           "automargin": true,
           "zerolinewidth": 2
          },
          "scene": {
           "xaxis": {
            "backgroundcolor": "rgb(17,17,17)",
            "gridcolor": "#506784",
            "linecolor": "#506784",
            "showbackground": true,
            "ticks": "",
            "zerolinecolor": "#C8D4E3",
            "gridwidth": 2
           },
           "yaxis": {
            "backgroundcolor": "rgb(17,17,17)",
            "gridcolor": "#506784",
            "linecolor": "#506784",
            "showbackground": true,
            "ticks": "",
            "zerolinecolor": "#C8D4E3",
            "gridwidth": 2
           },
           "zaxis": {
            "backgroundcolor": "rgb(17,17,17)",
            "gridcolor": "#506784",
            "linecolor": "#506784",
            "showbackground": true,
            "ticks": "",
            "zerolinecolor": "#C8D4E3",
            "gridwidth": 2
           }
          },
          "shapedefaults": {
           "line": {
            "color": "#f2f5fa"
           }
          },
          "annotationdefaults": {
           "arrowcolor": "#f2f5fa",
           "arrowhead": 0,
           "arrowwidth": 1
          },
          "geo": {
           "bgcolor": "rgb(17,17,17)",
           "landcolor": "rgb(17,17,17)",
           "subunitcolor": "#506784",
           "showland": true,
           "showlakes": true,
           "lakecolor": "rgb(17,17,17)"
          },
          "title": {
           "x": 0.05
          },
          "updatemenudefaults": {
           "bgcolor": "#506784",
           "borderwidth": 0
          },
          "sliderdefaults": {
           "bgcolor": "#C8D4E3",
           "borderwidth": 1,
           "bordercolor": "rgb(17,17,17)",
           "tickwidth": 0
          },
          "mapbox": {
           "style": "dark"
          }
         }
        },
        "xaxis": {
         "anchor": "y",
         "domain": [
          0.0,
          1.0
         ],
         "title": {
          "text": "Released_Year"
         }
        },
        "yaxis": {
         "anchor": "x",
         "domain": [
          0.0,
          1.0
         ],
         "title": {
          "text": "Count"
         }
        },
        "legend": {
         "tracegroupgap": 0
        },
        "title": {
         "text": "Number of Movies Released per Year"
        },
        "barmode": "relative"
       },
       "config": {
        "plotlyServerURL": "https://plot.ly"
       }
      },
      "text/html": [
       "<div>                            <div id=\"246741bc-9e1b-4e25-bfc7-b7d4fd23b8ae\" class=\"plotly-graph-div\" style=\"height:525px; width:100%;\"></div>            <script type=\"text/javascript\">                require([\"plotly\"], function(Plotly) {                    window.PLOTLYENV=window.PLOTLYENV || {};                                    if (document.getElementById(\"246741bc-9e1b-4e25-bfc7-b7d4fd23b8ae\")) {                    Plotly.newPlot(                        \"246741bc-9e1b-4e25-bfc7-b7d4fd23b8ae\",                        [{\"alignmentgroup\":\"True\",\"hovertemplate\":\"Released_Year=%{x}\\u003cbr\\u003eCount=%{y}\\u003cextra\\u003e\\u003c\\u002fextra\\u003e\",\"legendgroup\":\"\",\"marker\":{\"color\":\"#636efa\",\"pattern\":{\"shape\":\"\"}},\"name\":\"\",\"offsetgroup\":\"\",\"orientation\":\"v\",\"showlegend\":false,\"textposition\":\"auto\",\"x\":[2014.0,2004.0,2009.0,2016.0,2013.0,2001.0,2007.0,2006.0,2015.0,2012.0,2019.0,2010.0,1993.0,2017.0,2003.0,2008.0,2000.0,1995.0,2002.0,1997.0,2018.0,1999.0,2011.0,2005.0,1998.0,1962.0,1994.0,1992.0,1987.0,1973.0,1979.0,1991.0,1989.0,1988.0,1960.0,1982.0,1996.0,1967.0,1986.0,1984.0,1975.0,1957.0,1971.0,1985.0,1968.0,1990.0,1972.0,1980.0,1964.0,1976.0,1966.0,1978.0,1959.0,1940.0,1948.0,1954.0,2020.0,1974.0,1955.0,1939.0,1953.0,1951.0,1946.0,1961.0,1983.0,1963.0,1950.0,1956.0,1944.0,1981.0,1958.0,1965.0,1952.0,1977.0,1942.0,1935.0,1938.0,1931.0,1933.0,1970.0,1969.0,1949.0,1927.0,1932.0,1941.0,1947.0,1925.0,1928.0,1945.0,1934.0,1936.0,1937.0,1924.0,1921.0,1920.0,1926.0,1930.0,1922.0,1943.0],\"xaxis\":\"x\",\"y\":[32,31,29,28,28,27,26,26,25,24,23,23,23,22,22,21,19,19,19,19,19,18,18,17,17,13,13,12,12,12,12,12,11,11,11,11,10,10,9,9,9,9,9,9,8,8,8,8,7,7,7,7,7,7,6,6,6,6,6,5,5,5,5,5,5,5,5,5,4,4,4,4,4,3,3,3,3,3,3,3,3,3,2,2,2,2,2,2,2,2,1,1,1,1,1,1,1,1,1],\"yaxis\":\"y\",\"type\":\"bar\"}],                        {\"template\":{\"data\":{\"histogram2dcontour\":[{\"type\":\"histogram2dcontour\",\"colorbar\":{\"outlinewidth\":0,\"ticks\":\"\"},\"colorscale\":[[0.0,\"#0d0887\"],[0.1111111111111111,\"#46039f\"],[0.2222222222222222,\"#7201a8\"],[0.3333333333333333,\"#9c179e\"],[0.4444444444444444,\"#bd3786\"],[0.5555555555555556,\"#d8576b\"],[0.6666666666666666,\"#ed7953\"],[0.7777777777777778,\"#fb9f3a\"],[0.8888888888888888,\"#fdca26\"],[1.0,\"#f0f921\"]]}],\"choropleth\":[{\"type\":\"choropleth\",\"colorbar\":{\"outlinewidth\":0,\"ticks\":\"\"}}],\"histogram2d\":[{\"type\":\"histogram2d\",\"colorbar\":{\"outlinewidth\":0,\"ticks\":\"\"},\"colorscale\":[[0.0,\"#0d0887\"],[0.1111111111111111,\"#46039f\"],[0.2222222222222222,\"#7201a8\"],[0.3333333333333333,\"#9c179e\"],[0.4444444444444444,\"#bd3786\"],[0.5555555555555556,\"#d8576b\"],[0.6666666666666666,\"#ed7953\"],[0.7777777777777778,\"#fb9f3a\"],[0.8888888888888888,\"#fdca26\"],[1.0,\"#f0f921\"]]}],\"heatmap\":[{\"type\":\"heatmap\",\"colorbar\":{\"outlinewidth\":0,\"ticks\":\"\"},\"colorscale\":[[0.0,\"#0d0887\"],[0.1111111111111111,\"#46039f\"],[0.2222222222222222,\"#7201a8\"],[0.3333333333333333,\"#9c179e\"],[0.4444444444444444,\"#bd3786\"],[0.5555555555555556,\"#d8576b\"],[0.6666666666666666,\"#ed7953\"],[0.7777777777777778,\"#fb9f3a\"],[0.8888888888888888,\"#fdca26\"],[1.0,\"#f0f921\"]]}],\"heatmapgl\":[{\"type\":\"heatmapgl\",\"colorbar\":{\"outlinewidth\":0,\"ticks\":\"\"},\"colorscale\":[[0.0,\"#0d0887\"],[0.1111111111111111,\"#46039f\"],[0.2222222222222222,\"#7201a8\"],[0.3333333333333333,\"#9c179e\"],[0.4444444444444444,\"#bd3786\"],[0.5555555555555556,\"#d8576b\"],[0.6666666666666666,\"#ed7953\"],[0.7777777777777778,\"#fb9f3a\"],[0.8888888888888888,\"#fdca26\"],[1.0,\"#f0f921\"]]}],\"contourcarpet\":[{\"type\":\"contourcarpet\",\"colorbar\":{\"outlinewidth\":0,\"ticks\":\"\"}}],\"contour\":[{\"type\":\"contour\",\"colorbar\":{\"outlinewidth\":0,\"ticks\":\"\"},\"colorscale\":[[0.0,\"#0d0887\"],[0.1111111111111111,\"#46039f\"],[0.2222222222222222,\"#7201a8\"],[0.3333333333333333,\"#9c179e\"],[0.4444444444444444,\"#bd3786\"],[0.5555555555555556,\"#d8576b\"],[0.6666666666666666,\"#ed7953\"],[0.7777777777777778,\"#fb9f3a\"],[0.8888888888888888,\"#fdca26\"],[1.0,\"#f0f921\"]]}],\"surface\":[{\"type\":\"surface\",\"colorbar\":{\"outlinewidth\":0,\"ticks\":\"\"},\"colorscale\":[[0.0,\"#0d0887\"],[0.1111111111111111,\"#46039f\"],[0.2222222222222222,\"#7201a8\"],[0.3333333333333333,\"#9c179e\"],[0.4444444444444444,\"#bd3786\"],[0.5555555555555556,\"#d8576b\"],[0.6666666666666666,\"#ed7953\"],[0.7777777777777778,\"#fb9f3a\"],[0.8888888888888888,\"#fdca26\"],[1.0,\"#f0f921\"]]}],\"mesh3d\":[{\"type\":\"mesh3d\",\"colorbar\":{\"outlinewidth\":0,\"ticks\":\"\"}}],\"scatter\":[{\"marker\":{\"line\":{\"color\":\"#283442\"}},\"type\":\"scatter\"}],\"parcoords\":[{\"type\":\"parcoords\",\"line\":{\"colorbar\":{\"outlinewidth\":0,\"ticks\":\"\"}}}],\"scatterpolargl\":[{\"type\":\"scatterpolargl\",\"marker\":{\"colorbar\":{\"outlinewidth\":0,\"ticks\":\"\"}}}],\"bar\":[{\"error_x\":{\"color\":\"#f2f5fa\"},\"error_y\":{\"color\":\"#f2f5fa\"},\"marker\":{\"line\":{\"color\":\"rgb(17,17,17)\",\"width\":0.5},\"pattern\":{\"fillmode\":\"overlay\",\"size\":10,\"solidity\":0.2}},\"type\":\"bar\"}],\"scattergeo\":[{\"type\":\"scattergeo\",\"marker\":{\"colorbar\":{\"outlinewidth\":0,\"ticks\":\"\"}}}],\"scatterpolar\":[{\"type\":\"scatterpolar\",\"marker\":{\"colorbar\":{\"outlinewidth\":0,\"ticks\":\"\"}}}],\"histogram\":[{\"marker\":{\"pattern\":{\"fillmode\":\"overlay\",\"size\":10,\"solidity\":0.2}},\"type\":\"histogram\"}],\"scattergl\":[{\"marker\":{\"line\":{\"color\":\"#283442\"}},\"type\":\"scattergl\"}],\"scatter3d\":[{\"type\":\"scatter3d\",\"line\":{\"colorbar\":{\"outlinewidth\":0,\"ticks\":\"\"}},\"marker\":{\"colorbar\":{\"outlinewidth\":0,\"ticks\":\"\"}}}],\"scattermapbox\":[{\"type\":\"scattermapbox\",\"marker\":{\"colorbar\":{\"outlinewidth\":0,\"ticks\":\"\"}}}],\"scatterternary\":[{\"type\":\"scatterternary\",\"marker\":{\"colorbar\":{\"outlinewidth\":0,\"ticks\":\"\"}}}],\"scattercarpet\":[{\"type\":\"scattercarpet\",\"marker\":{\"colorbar\":{\"outlinewidth\":0,\"ticks\":\"\"}}}],\"carpet\":[{\"aaxis\":{\"endlinecolor\":\"#A2B1C6\",\"gridcolor\":\"#506784\",\"linecolor\":\"#506784\",\"minorgridcolor\":\"#506784\",\"startlinecolor\":\"#A2B1C6\"},\"baxis\":{\"endlinecolor\":\"#A2B1C6\",\"gridcolor\":\"#506784\",\"linecolor\":\"#506784\",\"minorgridcolor\":\"#506784\",\"startlinecolor\":\"#A2B1C6\"},\"type\":\"carpet\"}],\"table\":[{\"cells\":{\"fill\":{\"color\":\"#506784\"},\"line\":{\"color\":\"rgb(17,17,17)\"}},\"header\":{\"fill\":{\"color\":\"#2a3f5f\"},\"line\":{\"color\":\"rgb(17,17,17)\"}},\"type\":\"table\"}],\"barpolar\":[{\"marker\":{\"line\":{\"color\":\"rgb(17,17,17)\",\"width\":0.5},\"pattern\":{\"fillmode\":\"overlay\",\"size\":10,\"solidity\":0.2}},\"type\":\"barpolar\"}],\"pie\":[{\"automargin\":true,\"type\":\"pie\"}]},\"layout\":{\"autotypenumbers\":\"strict\",\"colorway\":[\"#636efa\",\"#EF553B\",\"#00cc96\",\"#ab63fa\",\"#FFA15A\",\"#19d3f3\",\"#FF6692\",\"#B6E880\",\"#FF97FF\",\"#FECB52\"],\"font\":{\"color\":\"#f2f5fa\"},\"hovermode\":\"closest\",\"hoverlabel\":{\"align\":\"left\"},\"paper_bgcolor\":\"rgb(17,17,17)\",\"plot_bgcolor\":\"rgb(17,17,17)\",\"polar\":{\"bgcolor\":\"rgb(17,17,17)\",\"angularaxis\":{\"gridcolor\":\"#506784\",\"linecolor\":\"#506784\",\"ticks\":\"\"},\"radialaxis\":{\"gridcolor\":\"#506784\",\"linecolor\":\"#506784\",\"ticks\":\"\"}},\"ternary\":{\"bgcolor\":\"rgb(17,17,17)\",\"aaxis\":{\"gridcolor\":\"#506784\",\"linecolor\":\"#506784\",\"ticks\":\"\"},\"baxis\":{\"gridcolor\":\"#506784\",\"linecolor\":\"#506784\",\"ticks\":\"\"},\"caxis\":{\"gridcolor\":\"#506784\",\"linecolor\":\"#506784\",\"ticks\":\"\"}},\"coloraxis\":{\"colorbar\":{\"outlinewidth\":0,\"ticks\":\"\"}},\"colorscale\":{\"sequential\":[[0.0,\"#0d0887\"],[0.1111111111111111,\"#46039f\"],[0.2222222222222222,\"#7201a8\"],[0.3333333333333333,\"#9c179e\"],[0.4444444444444444,\"#bd3786\"],[0.5555555555555556,\"#d8576b\"],[0.6666666666666666,\"#ed7953\"],[0.7777777777777778,\"#fb9f3a\"],[0.8888888888888888,\"#fdca26\"],[1.0,\"#f0f921\"]],\"sequentialminus\":[[0.0,\"#0d0887\"],[0.1111111111111111,\"#46039f\"],[0.2222222222222222,\"#7201a8\"],[0.3333333333333333,\"#9c179e\"],[0.4444444444444444,\"#bd3786\"],[0.5555555555555556,\"#d8576b\"],[0.6666666666666666,\"#ed7953\"],[0.7777777777777778,\"#fb9f3a\"],[0.8888888888888888,\"#fdca26\"],[1.0,\"#f0f921\"]],\"diverging\":[[0,\"#8e0152\"],[0.1,\"#c51b7d\"],[0.2,\"#de77ae\"],[0.3,\"#f1b6da\"],[0.4,\"#fde0ef\"],[0.5,\"#f7f7f7\"],[0.6,\"#e6f5d0\"],[0.7,\"#b8e186\"],[0.8,\"#7fbc41\"],[0.9,\"#4d9221\"],[1,\"#276419\"]]},\"xaxis\":{\"gridcolor\":\"#283442\",\"linecolor\":\"#506784\",\"ticks\":\"\",\"title\":{\"standoff\":15},\"zerolinecolor\":\"#283442\",\"automargin\":true,\"zerolinewidth\":2},\"yaxis\":{\"gridcolor\":\"#283442\",\"linecolor\":\"#506784\",\"ticks\":\"\",\"title\":{\"standoff\":15},\"zerolinecolor\":\"#283442\",\"automargin\":true,\"zerolinewidth\":2},\"scene\":{\"xaxis\":{\"backgroundcolor\":\"rgb(17,17,17)\",\"gridcolor\":\"#506784\",\"linecolor\":\"#506784\",\"showbackground\":true,\"ticks\":\"\",\"zerolinecolor\":\"#C8D4E3\",\"gridwidth\":2},\"yaxis\":{\"backgroundcolor\":\"rgb(17,17,17)\",\"gridcolor\":\"#506784\",\"linecolor\":\"#506784\",\"showbackground\":true,\"ticks\":\"\",\"zerolinecolor\":\"#C8D4E3\",\"gridwidth\":2},\"zaxis\":{\"backgroundcolor\":\"rgb(17,17,17)\",\"gridcolor\":\"#506784\",\"linecolor\":\"#506784\",\"showbackground\":true,\"ticks\":\"\",\"zerolinecolor\":\"#C8D4E3\",\"gridwidth\":2}},\"shapedefaults\":{\"line\":{\"color\":\"#f2f5fa\"}},\"annotationdefaults\":{\"arrowcolor\":\"#f2f5fa\",\"arrowhead\":0,\"arrowwidth\":1},\"geo\":{\"bgcolor\":\"rgb(17,17,17)\",\"landcolor\":\"rgb(17,17,17)\",\"subunitcolor\":\"#506784\",\"showland\":true,\"showlakes\":true,\"lakecolor\":\"rgb(17,17,17)\"},\"title\":{\"x\":0.05},\"updatemenudefaults\":{\"bgcolor\":\"#506784\",\"borderwidth\":0},\"sliderdefaults\":{\"bgcolor\":\"#C8D4E3\",\"borderwidth\":1,\"bordercolor\":\"rgb(17,17,17)\",\"tickwidth\":0},\"mapbox\":{\"style\":\"dark\"}}},\"xaxis\":{\"anchor\":\"y\",\"domain\":[0.0,1.0],\"title\":{\"text\":\"Released_Year\"}},\"yaxis\":{\"anchor\":\"x\",\"domain\":[0.0,1.0],\"title\":{\"text\":\"Count\"}},\"legend\":{\"tracegroupgap\":0},\"title\":{\"text\":\"Number of Movies Released per Year\"},\"barmode\":\"relative\"},                        {\"responsive\": true}                    ).then(function(){\n",
       "                            \n",
       "var gd = document.getElementById('246741bc-9e1b-4e25-bfc7-b7d4fd23b8ae');\n",
       "var x = new MutationObserver(function (mutations, observer) {{\n",
       "        var display = window.getComputedStyle(gd).display;\n",
       "        if (!display || display === 'none') {{\n",
       "            console.log([gd, 'removed!']);\n",
       "            Plotly.purge(gd);\n",
       "            observer.disconnect();\n",
       "        }}\n",
       "}});\n",
       "\n",
       "// Listen for the removal of the full notebook cells\n",
       "var notebookContainer = gd.closest('#notebook-container');\n",
       "if (notebookContainer) {{\n",
       "    x.observe(notebookContainer, {childList: true});\n",
       "}}\n",
       "\n",
       "// Listen for the clearing of the current output cell\n",
       "var outputEl = gd.closest('.output');\n",
       "if (outputEl) {{\n",
       "    x.observe(outputEl, {childList: true});\n",
       "}}\n",
       "\n",
       "                        })                };                });            </script>        </div>"
      ]
     },
     "metadata": {},
     "output_type": "display_data"
    }
   ],
   "execution_count": 99
  },
  {
   "metadata": {},
   "cell_type": "markdown",
   "source": "This bar chart showcases the top 10 directors with the most films in the top 1000. It helps identify prolific filmmakers and their contribution to the top-rated movies in the dataset.",
   "id": "82e99b78c34257a1"
  },
  {
   "metadata": {
    "ExecuteTime": {
     "end_time": "2025-04-03T14:34:36.988419Z",
     "start_time": "2025-04-03T14:34:36.955319Z"
    }
   },
   "cell_type": "code",
   "source": [
    "import plotly.express as px\n",
    "\n",
    "# Create a bar chart of the top 10 directors by number of movies\n",
    "df_director_count = df['Director'].value_counts().head(10).reset_index()\n",
    "df_director_count.columns = ['Director', 'Count']\n",
    "fig = px.bar(df_director_count, x='Director', y='Count', title='Top 10 Directors by Number of Movies')\n",
    "fig.show()\n"
   ],
   "id": "ae675a45a42c25fc",
   "outputs": [
    {
     "data": {
      "application/vnd.plotly.v1+json": {
       "data": [
        {
         "alignmentgroup": "True",
         "hovertemplate": "Director=%{x}<br>Count=%{y}<extra></extra>",
         "legendgroup": "",
         "marker": {
          "color": "#636efa",
          "pattern": {
           "shape": ""
          }
         },
         "name": "",
         "offsetgroup": "",
         "orientation": "v",
         "showlegend": false,
         "textposition": "auto",
         "x": [
          "alfred hitchcock",
          "steven spielberg",
          "hayao miyazaki",
          "akira kurosawa",
          "martin scorsese",
          "woody allen",
          "stanley kubrick",
          "billy wilder",
          "clint eastwood",
          "christopher nolan"
         ],
         "xaxis": "x",
         "y": [
          14,
          13,
          11,
          10,
          10,
          9,
          9,
          9,
          8,
          8
         ],
         "yaxis": "y",
         "type": "bar"
        }
       ],
       "layout": {
        "template": {
         "data": {
          "histogram2dcontour": [
           {
            "type": "histogram2dcontour",
            "colorbar": {
             "outlinewidth": 0,
             "ticks": ""
            },
            "colorscale": [
             [
              0.0,
              "#0d0887"
             ],
             [
              0.1111111111111111,
              "#46039f"
             ],
             [
              0.2222222222222222,
              "#7201a8"
             ],
             [
              0.3333333333333333,
              "#9c179e"
             ],
             [
              0.4444444444444444,
              "#bd3786"
             ],
             [
              0.5555555555555556,
              "#d8576b"
             ],
             [
              0.6666666666666666,
              "#ed7953"
             ],
             [
              0.7777777777777778,
              "#fb9f3a"
             ],
             [
              0.8888888888888888,
              "#fdca26"
             ],
             [
              1.0,
              "#f0f921"
             ]
            ]
           }
          ],
          "choropleth": [
           {
            "type": "choropleth",
            "colorbar": {
             "outlinewidth": 0,
             "ticks": ""
            }
           }
          ],
          "histogram2d": [
           {
            "type": "histogram2d",
            "colorbar": {
             "outlinewidth": 0,
             "ticks": ""
            },
            "colorscale": [
             [
              0.0,
              "#0d0887"
             ],
             [
              0.1111111111111111,
              "#46039f"
             ],
             [
              0.2222222222222222,
              "#7201a8"
             ],
             [
              0.3333333333333333,
              "#9c179e"
             ],
             [
              0.4444444444444444,
              "#bd3786"
             ],
             [
              0.5555555555555556,
              "#d8576b"
             ],
             [
              0.6666666666666666,
              "#ed7953"
             ],
             [
              0.7777777777777778,
              "#fb9f3a"
             ],
             [
              0.8888888888888888,
              "#fdca26"
             ],
             [
              1.0,
              "#f0f921"
             ]
            ]
           }
          ],
          "heatmap": [
           {
            "type": "heatmap",
            "colorbar": {
             "outlinewidth": 0,
             "ticks": ""
            },
            "colorscale": [
             [
              0.0,
              "#0d0887"
             ],
             [
              0.1111111111111111,
              "#46039f"
             ],
             [
              0.2222222222222222,
              "#7201a8"
             ],
             [
              0.3333333333333333,
              "#9c179e"
             ],
             [
              0.4444444444444444,
              "#bd3786"
             ],
             [
              0.5555555555555556,
              "#d8576b"
             ],
             [
              0.6666666666666666,
              "#ed7953"
             ],
             [
              0.7777777777777778,
              "#fb9f3a"
             ],
             [
              0.8888888888888888,
              "#fdca26"
             ],
             [
              1.0,
              "#f0f921"
             ]
            ]
           }
          ],
          "heatmapgl": [
           {
            "type": "heatmapgl",
            "colorbar": {
             "outlinewidth": 0,
             "ticks": ""
            },
            "colorscale": [
             [
              0.0,
              "#0d0887"
             ],
             [
              0.1111111111111111,
              "#46039f"
             ],
             [
              0.2222222222222222,
              "#7201a8"
             ],
             [
              0.3333333333333333,
              "#9c179e"
             ],
             [
              0.4444444444444444,
              "#bd3786"
             ],
             [
              0.5555555555555556,
              "#d8576b"
             ],
             [
              0.6666666666666666,
              "#ed7953"
             ],
             [
              0.7777777777777778,
              "#fb9f3a"
             ],
             [
              0.8888888888888888,
              "#fdca26"
             ],
             [
              1.0,
              "#f0f921"
             ]
            ]
           }
          ],
          "contourcarpet": [
           {
            "type": "contourcarpet",
            "colorbar": {
             "outlinewidth": 0,
             "ticks": ""
            }
           }
          ],
          "contour": [
           {
            "type": "contour",
            "colorbar": {
             "outlinewidth": 0,
             "ticks": ""
            },
            "colorscale": [
             [
              0.0,
              "#0d0887"
             ],
             [
              0.1111111111111111,
              "#46039f"
             ],
             [
              0.2222222222222222,
              "#7201a8"
             ],
             [
              0.3333333333333333,
              "#9c179e"
             ],
             [
              0.4444444444444444,
              "#bd3786"
             ],
             [
              0.5555555555555556,
              "#d8576b"
             ],
             [
              0.6666666666666666,
              "#ed7953"
             ],
             [
              0.7777777777777778,
              "#fb9f3a"
             ],
             [
              0.8888888888888888,
              "#fdca26"
             ],
             [
              1.0,
              "#f0f921"
             ]
            ]
           }
          ],
          "surface": [
           {
            "type": "surface",
            "colorbar": {
             "outlinewidth": 0,
             "ticks": ""
            },
            "colorscale": [
             [
              0.0,
              "#0d0887"
             ],
             [
              0.1111111111111111,
              "#46039f"
             ],
             [
              0.2222222222222222,
              "#7201a8"
             ],
             [
              0.3333333333333333,
              "#9c179e"
             ],
             [
              0.4444444444444444,
              "#bd3786"
             ],
             [
              0.5555555555555556,
              "#d8576b"
             ],
             [
              0.6666666666666666,
              "#ed7953"
             ],
             [
              0.7777777777777778,
              "#fb9f3a"
             ],
             [
              0.8888888888888888,
              "#fdca26"
             ],
             [
              1.0,
              "#f0f921"
             ]
            ]
           }
          ],
          "mesh3d": [
           {
            "type": "mesh3d",
            "colorbar": {
             "outlinewidth": 0,
             "ticks": ""
            }
           }
          ],
          "scatter": [
           {
            "marker": {
             "line": {
              "color": "#283442"
             }
            },
            "type": "scatter"
           }
          ],
          "parcoords": [
           {
            "type": "parcoords",
            "line": {
             "colorbar": {
              "outlinewidth": 0,
              "ticks": ""
             }
            }
           }
          ],
          "scatterpolargl": [
           {
            "type": "scatterpolargl",
            "marker": {
             "colorbar": {
              "outlinewidth": 0,
              "ticks": ""
             }
            }
           }
          ],
          "bar": [
           {
            "error_x": {
             "color": "#f2f5fa"
            },
            "error_y": {
             "color": "#f2f5fa"
            },
            "marker": {
             "line": {
              "color": "rgb(17,17,17)",
              "width": 0.5
             },
             "pattern": {
              "fillmode": "overlay",
              "size": 10,
              "solidity": 0.2
             }
            },
            "type": "bar"
           }
          ],
          "scattergeo": [
           {
            "type": "scattergeo",
            "marker": {
             "colorbar": {
              "outlinewidth": 0,
              "ticks": ""
             }
            }
           }
          ],
          "scatterpolar": [
           {
            "type": "scatterpolar",
            "marker": {
             "colorbar": {
              "outlinewidth": 0,
              "ticks": ""
             }
            }
           }
          ],
          "histogram": [
           {
            "marker": {
             "pattern": {
              "fillmode": "overlay",
              "size": 10,
              "solidity": 0.2
             }
            },
            "type": "histogram"
           }
          ],
          "scattergl": [
           {
            "marker": {
             "line": {
              "color": "#283442"
             }
            },
            "type": "scattergl"
           }
          ],
          "scatter3d": [
           {
            "type": "scatter3d",
            "line": {
             "colorbar": {
              "outlinewidth": 0,
              "ticks": ""
             }
            },
            "marker": {
             "colorbar": {
              "outlinewidth": 0,
              "ticks": ""
             }
            }
           }
          ],
          "scattermapbox": [
           {
            "type": "scattermapbox",
            "marker": {
             "colorbar": {
              "outlinewidth": 0,
              "ticks": ""
             }
            }
           }
          ],
          "scatterternary": [
           {
            "type": "scatterternary",
            "marker": {
             "colorbar": {
              "outlinewidth": 0,
              "ticks": ""
             }
            }
           }
          ],
          "scattercarpet": [
           {
            "type": "scattercarpet",
            "marker": {
             "colorbar": {
              "outlinewidth": 0,
              "ticks": ""
             }
            }
           }
          ],
          "carpet": [
           {
            "aaxis": {
             "endlinecolor": "#A2B1C6",
             "gridcolor": "#506784",
             "linecolor": "#506784",
             "minorgridcolor": "#506784",
             "startlinecolor": "#A2B1C6"
            },
            "baxis": {
             "endlinecolor": "#A2B1C6",
             "gridcolor": "#506784",
             "linecolor": "#506784",
             "minorgridcolor": "#506784",
             "startlinecolor": "#A2B1C6"
            },
            "type": "carpet"
           }
          ],
          "table": [
           {
            "cells": {
             "fill": {
              "color": "#506784"
             },
             "line": {
              "color": "rgb(17,17,17)"
             }
            },
            "header": {
             "fill": {
              "color": "#2a3f5f"
             },
             "line": {
              "color": "rgb(17,17,17)"
             }
            },
            "type": "table"
           }
          ],
          "barpolar": [
           {
            "marker": {
             "line": {
              "color": "rgb(17,17,17)",
              "width": 0.5
             },
             "pattern": {
              "fillmode": "overlay",
              "size": 10,
              "solidity": 0.2
             }
            },
            "type": "barpolar"
           }
          ],
          "pie": [
           {
            "automargin": true,
            "type": "pie"
           }
          ]
         },
         "layout": {
          "autotypenumbers": "strict",
          "colorway": [
           "#636efa",
           "#EF553B",
           "#00cc96",
           "#ab63fa",
           "#FFA15A",
           "#19d3f3",
           "#FF6692",
           "#B6E880",
           "#FF97FF",
           "#FECB52"
          ],
          "font": {
           "color": "#f2f5fa"
          },
          "hovermode": "closest",
          "hoverlabel": {
           "align": "left"
          },
          "paper_bgcolor": "rgb(17,17,17)",
          "plot_bgcolor": "rgb(17,17,17)",
          "polar": {
           "bgcolor": "rgb(17,17,17)",
           "angularaxis": {
            "gridcolor": "#506784",
            "linecolor": "#506784",
            "ticks": ""
           },
           "radialaxis": {
            "gridcolor": "#506784",
            "linecolor": "#506784",
            "ticks": ""
           }
          },
          "ternary": {
           "bgcolor": "rgb(17,17,17)",
           "aaxis": {
            "gridcolor": "#506784",
            "linecolor": "#506784",
            "ticks": ""
           },
           "baxis": {
            "gridcolor": "#506784",
            "linecolor": "#506784",
            "ticks": ""
           },
           "caxis": {
            "gridcolor": "#506784",
            "linecolor": "#506784",
            "ticks": ""
           }
          },
          "coloraxis": {
           "colorbar": {
            "outlinewidth": 0,
            "ticks": ""
           }
          },
          "colorscale": {
           "sequential": [
            [
             0.0,
             "#0d0887"
            ],
            [
             0.1111111111111111,
             "#46039f"
            ],
            [
             0.2222222222222222,
             "#7201a8"
            ],
            [
             0.3333333333333333,
             "#9c179e"
            ],
            [
             0.4444444444444444,
             "#bd3786"
            ],
            [
             0.5555555555555556,
             "#d8576b"
            ],
            [
             0.6666666666666666,
             "#ed7953"
            ],
            [
             0.7777777777777778,
             "#fb9f3a"
            ],
            [
             0.8888888888888888,
             "#fdca26"
            ],
            [
             1.0,
             "#f0f921"
            ]
           ],
           "sequentialminus": [
            [
             0.0,
             "#0d0887"
            ],
            [
             0.1111111111111111,
             "#46039f"
            ],
            [
             0.2222222222222222,
             "#7201a8"
            ],
            [
             0.3333333333333333,
             "#9c179e"
            ],
            [
             0.4444444444444444,
             "#bd3786"
            ],
            [
             0.5555555555555556,
             "#d8576b"
            ],
            [
             0.6666666666666666,
             "#ed7953"
            ],
            [
             0.7777777777777778,
             "#fb9f3a"
            ],
            [
             0.8888888888888888,
             "#fdca26"
            ],
            [
             1.0,
             "#f0f921"
            ]
           ],
           "diverging": [
            [
             0,
             "#8e0152"
            ],
            [
             0.1,
             "#c51b7d"
            ],
            [
             0.2,
             "#de77ae"
            ],
            [
             0.3,
             "#f1b6da"
            ],
            [
             0.4,
             "#fde0ef"
            ],
            [
             0.5,
             "#f7f7f7"
            ],
            [
             0.6,
             "#e6f5d0"
            ],
            [
             0.7,
             "#b8e186"
            ],
            [
             0.8,
             "#7fbc41"
            ],
            [
             0.9,
             "#4d9221"
            ],
            [
             1,
             "#276419"
            ]
           ]
          },
          "xaxis": {
           "gridcolor": "#283442",
           "linecolor": "#506784",
           "ticks": "",
           "title": {
            "standoff": 15
           },
           "zerolinecolor": "#283442",
           "automargin": true,
           "zerolinewidth": 2
          },
          "yaxis": {
           "gridcolor": "#283442",
           "linecolor": "#506784",
           "ticks": "",
           "title": {
            "standoff": 15
           },
           "zerolinecolor": "#283442",
           "automargin": true,
           "zerolinewidth": 2
          },
          "scene": {
           "xaxis": {
            "backgroundcolor": "rgb(17,17,17)",
            "gridcolor": "#506784",
            "linecolor": "#506784",
            "showbackground": true,
            "ticks": "",
            "zerolinecolor": "#C8D4E3",
            "gridwidth": 2
           },
           "yaxis": {
            "backgroundcolor": "rgb(17,17,17)",
            "gridcolor": "#506784",
            "linecolor": "#506784",
            "showbackground": true,
            "ticks": "",
            "zerolinecolor": "#C8D4E3",
            "gridwidth": 2
           },
           "zaxis": {
            "backgroundcolor": "rgb(17,17,17)",
            "gridcolor": "#506784",
            "linecolor": "#506784",
            "showbackground": true,
            "ticks": "",
            "zerolinecolor": "#C8D4E3",
            "gridwidth": 2
           }
          },
          "shapedefaults": {
           "line": {
            "color": "#f2f5fa"
           }
          },
          "annotationdefaults": {
           "arrowcolor": "#f2f5fa",
           "arrowhead": 0,
           "arrowwidth": 1
          },
          "geo": {
           "bgcolor": "rgb(17,17,17)",
           "landcolor": "rgb(17,17,17)",
           "subunitcolor": "#506784",
           "showland": true,
           "showlakes": true,
           "lakecolor": "rgb(17,17,17)"
          },
          "title": {
           "x": 0.05
          },
          "updatemenudefaults": {
           "bgcolor": "#506784",
           "borderwidth": 0
          },
          "sliderdefaults": {
           "bgcolor": "#C8D4E3",
           "borderwidth": 1,
           "bordercolor": "rgb(17,17,17)",
           "tickwidth": 0
          },
          "mapbox": {
           "style": "dark"
          }
         }
        },
        "xaxis": {
         "anchor": "y",
         "domain": [
          0.0,
          1.0
         ],
         "title": {
          "text": "Director"
         }
        },
        "yaxis": {
         "anchor": "x",
         "domain": [
          0.0,
          1.0
         ],
         "title": {
          "text": "Count"
         }
        },
        "legend": {
         "tracegroupgap": 0
        },
        "title": {
         "text": "Top 10 Directors by Number of Movies"
        },
        "barmode": "relative"
       },
       "config": {
        "plotlyServerURL": "https://plot.ly"
       }
      },
      "text/html": [
       "<div>                            <div id=\"d90087c2-04e1-4256-bc22-e934345b76cc\" class=\"plotly-graph-div\" style=\"height:525px; width:100%;\"></div>            <script type=\"text/javascript\">                require([\"plotly\"], function(Plotly) {                    window.PLOTLYENV=window.PLOTLYENV || {};                                    if (document.getElementById(\"d90087c2-04e1-4256-bc22-e934345b76cc\")) {                    Plotly.newPlot(                        \"d90087c2-04e1-4256-bc22-e934345b76cc\",                        [{\"alignmentgroup\":\"True\",\"hovertemplate\":\"Director=%{x}\\u003cbr\\u003eCount=%{y}\\u003cextra\\u003e\\u003c\\u002fextra\\u003e\",\"legendgroup\":\"\",\"marker\":{\"color\":\"#636efa\",\"pattern\":{\"shape\":\"\"}},\"name\":\"\",\"offsetgroup\":\"\",\"orientation\":\"v\",\"showlegend\":false,\"textposition\":\"auto\",\"x\":[\"alfred hitchcock\",\"steven spielberg\",\"hayao miyazaki\",\"akira kurosawa\",\"martin scorsese\",\"woody allen\",\"stanley kubrick\",\"billy wilder\",\"clint eastwood\",\"christopher nolan\"],\"xaxis\":\"x\",\"y\":[14,13,11,10,10,9,9,9,8,8],\"yaxis\":\"y\",\"type\":\"bar\"}],                        {\"template\":{\"data\":{\"histogram2dcontour\":[{\"type\":\"histogram2dcontour\",\"colorbar\":{\"outlinewidth\":0,\"ticks\":\"\"},\"colorscale\":[[0.0,\"#0d0887\"],[0.1111111111111111,\"#46039f\"],[0.2222222222222222,\"#7201a8\"],[0.3333333333333333,\"#9c179e\"],[0.4444444444444444,\"#bd3786\"],[0.5555555555555556,\"#d8576b\"],[0.6666666666666666,\"#ed7953\"],[0.7777777777777778,\"#fb9f3a\"],[0.8888888888888888,\"#fdca26\"],[1.0,\"#f0f921\"]]}],\"choropleth\":[{\"type\":\"choropleth\",\"colorbar\":{\"outlinewidth\":0,\"ticks\":\"\"}}],\"histogram2d\":[{\"type\":\"histogram2d\",\"colorbar\":{\"outlinewidth\":0,\"ticks\":\"\"},\"colorscale\":[[0.0,\"#0d0887\"],[0.1111111111111111,\"#46039f\"],[0.2222222222222222,\"#7201a8\"],[0.3333333333333333,\"#9c179e\"],[0.4444444444444444,\"#bd3786\"],[0.5555555555555556,\"#d8576b\"],[0.6666666666666666,\"#ed7953\"],[0.7777777777777778,\"#fb9f3a\"],[0.8888888888888888,\"#fdca26\"],[1.0,\"#f0f921\"]]}],\"heatmap\":[{\"type\":\"heatmap\",\"colorbar\":{\"outlinewidth\":0,\"ticks\":\"\"},\"colorscale\":[[0.0,\"#0d0887\"],[0.1111111111111111,\"#46039f\"],[0.2222222222222222,\"#7201a8\"],[0.3333333333333333,\"#9c179e\"],[0.4444444444444444,\"#bd3786\"],[0.5555555555555556,\"#d8576b\"],[0.6666666666666666,\"#ed7953\"],[0.7777777777777778,\"#fb9f3a\"],[0.8888888888888888,\"#fdca26\"],[1.0,\"#f0f921\"]]}],\"heatmapgl\":[{\"type\":\"heatmapgl\",\"colorbar\":{\"outlinewidth\":0,\"ticks\":\"\"},\"colorscale\":[[0.0,\"#0d0887\"],[0.1111111111111111,\"#46039f\"],[0.2222222222222222,\"#7201a8\"],[0.3333333333333333,\"#9c179e\"],[0.4444444444444444,\"#bd3786\"],[0.5555555555555556,\"#d8576b\"],[0.6666666666666666,\"#ed7953\"],[0.7777777777777778,\"#fb9f3a\"],[0.8888888888888888,\"#fdca26\"],[1.0,\"#f0f921\"]]}],\"contourcarpet\":[{\"type\":\"contourcarpet\",\"colorbar\":{\"outlinewidth\":0,\"ticks\":\"\"}}],\"contour\":[{\"type\":\"contour\",\"colorbar\":{\"outlinewidth\":0,\"ticks\":\"\"},\"colorscale\":[[0.0,\"#0d0887\"],[0.1111111111111111,\"#46039f\"],[0.2222222222222222,\"#7201a8\"],[0.3333333333333333,\"#9c179e\"],[0.4444444444444444,\"#bd3786\"],[0.5555555555555556,\"#d8576b\"],[0.6666666666666666,\"#ed7953\"],[0.7777777777777778,\"#fb9f3a\"],[0.8888888888888888,\"#fdca26\"],[1.0,\"#f0f921\"]]}],\"surface\":[{\"type\":\"surface\",\"colorbar\":{\"outlinewidth\":0,\"ticks\":\"\"},\"colorscale\":[[0.0,\"#0d0887\"],[0.1111111111111111,\"#46039f\"],[0.2222222222222222,\"#7201a8\"],[0.3333333333333333,\"#9c179e\"],[0.4444444444444444,\"#bd3786\"],[0.5555555555555556,\"#d8576b\"],[0.6666666666666666,\"#ed7953\"],[0.7777777777777778,\"#fb9f3a\"],[0.8888888888888888,\"#fdca26\"],[1.0,\"#f0f921\"]]}],\"mesh3d\":[{\"type\":\"mesh3d\",\"colorbar\":{\"outlinewidth\":0,\"ticks\":\"\"}}],\"scatter\":[{\"marker\":{\"line\":{\"color\":\"#283442\"}},\"type\":\"scatter\"}],\"parcoords\":[{\"type\":\"parcoords\",\"line\":{\"colorbar\":{\"outlinewidth\":0,\"ticks\":\"\"}}}],\"scatterpolargl\":[{\"type\":\"scatterpolargl\",\"marker\":{\"colorbar\":{\"outlinewidth\":0,\"ticks\":\"\"}}}],\"bar\":[{\"error_x\":{\"color\":\"#f2f5fa\"},\"error_y\":{\"color\":\"#f2f5fa\"},\"marker\":{\"line\":{\"color\":\"rgb(17,17,17)\",\"width\":0.5},\"pattern\":{\"fillmode\":\"overlay\",\"size\":10,\"solidity\":0.2}},\"type\":\"bar\"}],\"scattergeo\":[{\"type\":\"scattergeo\",\"marker\":{\"colorbar\":{\"outlinewidth\":0,\"ticks\":\"\"}}}],\"scatterpolar\":[{\"type\":\"scatterpolar\",\"marker\":{\"colorbar\":{\"outlinewidth\":0,\"ticks\":\"\"}}}],\"histogram\":[{\"marker\":{\"pattern\":{\"fillmode\":\"overlay\",\"size\":10,\"solidity\":0.2}},\"type\":\"histogram\"}],\"scattergl\":[{\"marker\":{\"line\":{\"color\":\"#283442\"}},\"type\":\"scattergl\"}],\"scatter3d\":[{\"type\":\"scatter3d\",\"line\":{\"colorbar\":{\"outlinewidth\":0,\"ticks\":\"\"}},\"marker\":{\"colorbar\":{\"outlinewidth\":0,\"ticks\":\"\"}}}],\"scattermapbox\":[{\"type\":\"scattermapbox\",\"marker\":{\"colorbar\":{\"outlinewidth\":0,\"ticks\":\"\"}}}],\"scatterternary\":[{\"type\":\"scatterternary\",\"marker\":{\"colorbar\":{\"outlinewidth\":0,\"ticks\":\"\"}}}],\"scattercarpet\":[{\"type\":\"scattercarpet\",\"marker\":{\"colorbar\":{\"outlinewidth\":0,\"ticks\":\"\"}}}],\"carpet\":[{\"aaxis\":{\"endlinecolor\":\"#A2B1C6\",\"gridcolor\":\"#506784\",\"linecolor\":\"#506784\",\"minorgridcolor\":\"#506784\",\"startlinecolor\":\"#A2B1C6\"},\"baxis\":{\"endlinecolor\":\"#A2B1C6\",\"gridcolor\":\"#506784\",\"linecolor\":\"#506784\",\"minorgridcolor\":\"#506784\",\"startlinecolor\":\"#A2B1C6\"},\"type\":\"carpet\"}],\"table\":[{\"cells\":{\"fill\":{\"color\":\"#506784\"},\"line\":{\"color\":\"rgb(17,17,17)\"}},\"header\":{\"fill\":{\"color\":\"#2a3f5f\"},\"line\":{\"color\":\"rgb(17,17,17)\"}},\"type\":\"table\"}],\"barpolar\":[{\"marker\":{\"line\":{\"color\":\"rgb(17,17,17)\",\"width\":0.5},\"pattern\":{\"fillmode\":\"overlay\",\"size\":10,\"solidity\":0.2}},\"type\":\"barpolar\"}],\"pie\":[{\"automargin\":true,\"type\":\"pie\"}]},\"layout\":{\"autotypenumbers\":\"strict\",\"colorway\":[\"#636efa\",\"#EF553B\",\"#00cc96\",\"#ab63fa\",\"#FFA15A\",\"#19d3f3\",\"#FF6692\",\"#B6E880\",\"#FF97FF\",\"#FECB52\"],\"font\":{\"color\":\"#f2f5fa\"},\"hovermode\":\"closest\",\"hoverlabel\":{\"align\":\"left\"},\"paper_bgcolor\":\"rgb(17,17,17)\",\"plot_bgcolor\":\"rgb(17,17,17)\",\"polar\":{\"bgcolor\":\"rgb(17,17,17)\",\"angularaxis\":{\"gridcolor\":\"#506784\",\"linecolor\":\"#506784\",\"ticks\":\"\"},\"radialaxis\":{\"gridcolor\":\"#506784\",\"linecolor\":\"#506784\",\"ticks\":\"\"}},\"ternary\":{\"bgcolor\":\"rgb(17,17,17)\",\"aaxis\":{\"gridcolor\":\"#506784\",\"linecolor\":\"#506784\",\"ticks\":\"\"},\"baxis\":{\"gridcolor\":\"#506784\",\"linecolor\":\"#506784\",\"ticks\":\"\"},\"caxis\":{\"gridcolor\":\"#506784\",\"linecolor\":\"#506784\",\"ticks\":\"\"}},\"coloraxis\":{\"colorbar\":{\"outlinewidth\":0,\"ticks\":\"\"}},\"colorscale\":{\"sequential\":[[0.0,\"#0d0887\"],[0.1111111111111111,\"#46039f\"],[0.2222222222222222,\"#7201a8\"],[0.3333333333333333,\"#9c179e\"],[0.4444444444444444,\"#bd3786\"],[0.5555555555555556,\"#d8576b\"],[0.6666666666666666,\"#ed7953\"],[0.7777777777777778,\"#fb9f3a\"],[0.8888888888888888,\"#fdca26\"],[1.0,\"#f0f921\"]],\"sequentialminus\":[[0.0,\"#0d0887\"],[0.1111111111111111,\"#46039f\"],[0.2222222222222222,\"#7201a8\"],[0.3333333333333333,\"#9c179e\"],[0.4444444444444444,\"#bd3786\"],[0.5555555555555556,\"#d8576b\"],[0.6666666666666666,\"#ed7953\"],[0.7777777777777778,\"#fb9f3a\"],[0.8888888888888888,\"#fdca26\"],[1.0,\"#f0f921\"]],\"diverging\":[[0,\"#8e0152\"],[0.1,\"#c51b7d\"],[0.2,\"#de77ae\"],[0.3,\"#f1b6da\"],[0.4,\"#fde0ef\"],[0.5,\"#f7f7f7\"],[0.6,\"#e6f5d0\"],[0.7,\"#b8e186\"],[0.8,\"#7fbc41\"],[0.9,\"#4d9221\"],[1,\"#276419\"]]},\"xaxis\":{\"gridcolor\":\"#283442\",\"linecolor\":\"#506784\",\"ticks\":\"\",\"title\":{\"standoff\":15},\"zerolinecolor\":\"#283442\",\"automargin\":true,\"zerolinewidth\":2},\"yaxis\":{\"gridcolor\":\"#283442\",\"linecolor\":\"#506784\",\"ticks\":\"\",\"title\":{\"standoff\":15},\"zerolinecolor\":\"#283442\",\"automargin\":true,\"zerolinewidth\":2},\"scene\":{\"xaxis\":{\"backgroundcolor\":\"rgb(17,17,17)\",\"gridcolor\":\"#506784\",\"linecolor\":\"#506784\",\"showbackground\":true,\"ticks\":\"\",\"zerolinecolor\":\"#C8D4E3\",\"gridwidth\":2},\"yaxis\":{\"backgroundcolor\":\"rgb(17,17,17)\",\"gridcolor\":\"#506784\",\"linecolor\":\"#506784\",\"showbackground\":true,\"ticks\":\"\",\"zerolinecolor\":\"#C8D4E3\",\"gridwidth\":2},\"zaxis\":{\"backgroundcolor\":\"rgb(17,17,17)\",\"gridcolor\":\"#506784\",\"linecolor\":\"#506784\",\"showbackground\":true,\"ticks\":\"\",\"zerolinecolor\":\"#C8D4E3\",\"gridwidth\":2}},\"shapedefaults\":{\"line\":{\"color\":\"#f2f5fa\"}},\"annotationdefaults\":{\"arrowcolor\":\"#f2f5fa\",\"arrowhead\":0,\"arrowwidth\":1},\"geo\":{\"bgcolor\":\"rgb(17,17,17)\",\"landcolor\":\"rgb(17,17,17)\",\"subunitcolor\":\"#506784\",\"showland\":true,\"showlakes\":true,\"lakecolor\":\"rgb(17,17,17)\"},\"title\":{\"x\":0.05},\"updatemenudefaults\":{\"bgcolor\":\"#506784\",\"borderwidth\":0},\"sliderdefaults\":{\"bgcolor\":\"#C8D4E3\",\"borderwidth\":1,\"bordercolor\":\"rgb(17,17,17)\",\"tickwidth\":0},\"mapbox\":{\"style\":\"dark\"}}},\"xaxis\":{\"anchor\":\"y\",\"domain\":[0.0,1.0],\"title\":{\"text\":\"Director\"}},\"yaxis\":{\"anchor\":\"x\",\"domain\":[0.0,1.0],\"title\":{\"text\":\"Count\"}},\"legend\":{\"tracegroupgap\":0},\"title\":{\"text\":\"Top 10 Directors by Number of Movies\"},\"barmode\":\"relative\"},                        {\"responsive\": true}                    ).then(function(){\n",
       "                            \n",
       "var gd = document.getElementById('d90087c2-04e1-4256-bc22-e934345b76cc');\n",
       "var x = new MutationObserver(function (mutations, observer) {{\n",
       "        var display = window.getComputedStyle(gd).display;\n",
       "        if (!display || display === 'none') {{\n",
       "            console.log([gd, 'removed!']);\n",
       "            Plotly.purge(gd);\n",
       "            observer.disconnect();\n",
       "        }}\n",
       "}});\n",
       "\n",
       "// Listen for the removal of the full notebook cells\n",
       "var notebookContainer = gd.closest('#notebook-container');\n",
       "if (notebookContainer) {{\n",
       "    x.observe(notebookContainer, {childList: true});\n",
       "}}\n",
       "\n",
       "// Listen for the clearing of the current output cell\n",
       "var outputEl = gd.closest('.output');\n",
       "if (outputEl) {{\n",
       "    x.observe(outputEl, {childList: true});\n",
       "}}\n",
       "\n",
       "                        })                };                });            </script>        </div>"
      ]
     },
     "metadata": {},
     "output_type": "display_data"
    }
   ],
   "execution_count": 100
  },
  {
   "metadata": {},
   "cell_type": "markdown",
   "source": "This pie chart represents the distribution of movie certificates in the dataset. It shows the prevalence of different content ratings (like PG, R, etc.) and how they are distributed across the top 1000 movies.",
   "id": "86d6958d5d5b1353"
  },
  {
   "metadata": {
    "ExecuteTime": {
     "end_time": "2025-04-03T14:34:37.051744Z",
     "start_time": "2025-04-03T14:34:37.021693Z"
    }
   },
   "cell_type": "code",
   "source": [
    "import plotly.express as px\n",
    "\n",
    "# Create a pie chart of movie certificates\n",
    "df_certificate_count = df['Certificate'].value_counts().reset_index()\n",
    "df_certificate_count.columns = ['Certificate', 'Count']\n",
    "fig = px.pie(df_certificate_count, names='Certificate', values='Count', title='Distribution of Movie Certificates')\n",
    "fig.show()\n"
   ],
   "id": "100a1f16304b9028",
   "outputs": [
    {
     "data": {
      "application/vnd.plotly.v1+json": {
       "data": [
        {
         "domain": {
          "x": [
           0.0,
           1.0
          ],
          "y": [
           0.0,
           1.0
          ]
         },
         "hovertemplate": "Certificate=%{label}<br>Count=%{value}<extra></extra>",
         "labels": [
          "u",
          "a",
          "ua",
          "r",
          "unknown",
          "approved",
          "pg13",
          "pg",
          "g"
         ],
         "legendgroup": "",
         "name": "",
         "showlegend": true,
         "values": [
          234,
          197,
          176,
          148,
          102,
          45,
          44,
          42,
          12
         ],
         "type": "pie"
        }
       ],
       "layout": {
        "template": {
         "data": {
          "histogram2dcontour": [
           {
            "type": "histogram2dcontour",
            "colorbar": {
             "outlinewidth": 0,
             "ticks": ""
            },
            "colorscale": [
             [
              0.0,
              "#0d0887"
             ],
             [
              0.1111111111111111,
              "#46039f"
             ],
             [
              0.2222222222222222,
              "#7201a8"
             ],
             [
              0.3333333333333333,
              "#9c179e"
             ],
             [
              0.4444444444444444,
              "#bd3786"
             ],
             [
              0.5555555555555556,
              "#d8576b"
             ],
             [
              0.6666666666666666,
              "#ed7953"
             ],
             [
              0.7777777777777778,
              "#fb9f3a"
             ],
             [
              0.8888888888888888,
              "#fdca26"
             ],
             [
              1.0,
              "#f0f921"
             ]
            ]
           }
          ],
          "choropleth": [
           {
            "type": "choropleth",
            "colorbar": {
             "outlinewidth": 0,
             "ticks": ""
            }
           }
          ],
          "histogram2d": [
           {
            "type": "histogram2d",
            "colorbar": {
             "outlinewidth": 0,
             "ticks": ""
            },
            "colorscale": [
             [
              0.0,
              "#0d0887"
             ],
             [
              0.1111111111111111,
              "#46039f"
             ],
             [
              0.2222222222222222,
              "#7201a8"
             ],
             [
              0.3333333333333333,
              "#9c179e"
             ],
             [
              0.4444444444444444,
              "#bd3786"
             ],
             [
              0.5555555555555556,
              "#d8576b"
             ],
             [
              0.6666666666666666,
              "#ed7953"
             ],
             [
              0.7777777777777778,
              "#fb9f3a"
             ],
             [
              0.8888888888888888,
              "#fdca26"
             ],
             [
              1.0,
              "#f0f921"
             ]
            ]
           }
          ],
          "heatmap": [
           {
            "type": "heatmap",
            "colorbar": {
             "outlinewidth": 0,
             "ticks": ""
            },
            "colorscale": [
             [
              0.0,
              "#0d0887"
             ],
             [
              0.1111111111111111,
              "#46039f"
             ],
             [
              0.2222222222222222,
              "#7201a8"
             ],
             [
              0.3333333333333333,
              "#9c179e"
             ],
             [
              0.4444444444444444,
              "#bd3786"
             ],
             [
              0.5555555555555556,
              "#d8576b"
             ],
             [
              0.6666666666666666,
              "#ed7953"
             ],
             [
              0.7777777777777778,
              "#fb9f3a"
             ],
             [
              0.8888888888888888,
              "#fdca26"
             ],
             [
              1.0,
              "#f0f921"
             ]
            ]
           }
          ],
          "heatmapgl": [
           {
            "type": "heatmapgl",
            "colorbar": {
             "outlinewidth": 0,
             "ticks": ""
            },
            "colorscale": [
             [
              0.0,
              "#0d0887"
             ],
             [
              0.1111111111111111,
              "#46039f"
             ],
             [
              0.2222222222222222,
              "#7201a8"
             ],
             [
              0.3333333333333333,
              "#9c179e"
             ],
             [
              0.4444444444444444,
              "#bd3786"
             ],
             [
              0.5555555555555556,
              "#d8576b"
             ],
             [
              0.6666666666666666,
              "#ed7953"
             ],
             [
              0.7777777777777778,
              "#fb9f3a"
             ],
             [
              0.8888888888888888,
              "#fdca26"
             ],
             [
              1.0,
              "#f0f921"
             ]
            ]
           }
          ],
          "contourcarpet": [
           {
            "type": "contourcarpet",
            "colorbar": {
             "outlinewidth": 0,
             "ticks": ""
            }
           }
          ],
          "contour": [
           {
            "type": "contour",
            "colorbar": {
             "outlinewidth": 0,
             "ticks": ""
            },
            "colorscale": [
             [
              0.0,
              "#0d0887"
             ],
             [
              0.1111111111111111,
              "#46039f"
             ],
             [
              0.2222222222222222,
              "#7201a8"
             ],
             [
              0.3333333333333333,
              "#9c179e"
             ],
             [
              0.4444444444444444,
              "#bd3786"
             ],
             [
              0.5555555555555556,
              "#d8576b"
             ],
             [
              0.6666666666666666,
              "#ed7953"
             ],
             [
              0.7777777777777778,
              "#fb9f3a"
             ],
             [
              0.8888888888888888,
              "#fdca26"
             ],
             [
              1.0,
              "#f0f921"
             ]
            ]
           }
          ],
          "surface": [
           {
            "type": "surface",
            "colorbar": {
             "outlinewidth": 0,
             "ticks": ""
            },
            "colorscale": [
             [
              0.0,
              "#0d0887"
             ],
             [
              0.1111111111111111,
              "#46039f"
             ],
             [
              0.2222222222222222,
              "#7201a8"
             ],
             [
              0.3333333333333333,
              "#9c179e"
             ],
             [
              0.4444444444444444,
              "#bd3786"
             ],
             [
              0.5555555555555556,
              "#d8576b"
             ],
             [
              0.6666666666666666,
              "#ed7953"
             ],
             [
              0.7777777777777778,
              "#fb9f3a"
             ],
             [
              0.8888888888888888,
              "#fdca26"
             ],
             [
              1.0,
              "#f0f921"
             ]
            ]
           }
          ],
          "mesh3d": [
           {
            "type": "mesh3d",
            "colorbar": {
             "outlinewidth": 0,
             "ticks": ""
            }
           }
          ],
          "scatter": [
           {
            "marker": {
             "line": {
              "color": "#283442"
             }
            },
            "type": "scatter"
           }
          ],
          "parcoords": [
           {
            "type": "parcoords",
            "line": {
             "colorbar": {
              "outlinewidth": 0,
              "ticks": ""
             }
            }
           }
          ],
          "scatterpolargl": [
           {
            "type": "scatterpolargl",
            "marker": {
             "colorbar": {
              "outlinewidth": 0,
              "ticks": ""
             }
            }
           }
          ],
          "bar": [
           {
            "error_x": {
             "color": "#f2f5fa"
            },
            "error_y": {
             "color": "#f2f5fa"
            },
            "marker": {
             "line": {
              "color": "rgb(17,17,17)",
              "width": 0.5
             },
             "pattern": {
              "fillmode": "overlay",
              "size": 10,
              "solidity": 0.2
             }
            },
            "type": "bar"
           }
          ],
          "scattergeo": [
           {
            "type": "scattergeo",
            "marker": {
             "colorbar": {
              "outlinewidth": 0,
              "ticks": ""
             }
            }
           }
          ],
          "scatterpolar": [
           {
            "type": "scatterpolar",
            "marker": {
             "colorbar": {
              "outlinewidth": 0,
              "ticks": ""
             }
            }
           }
          ],
          "histogram": [
           {
            "marker": {
             "pattern": {
              "fillmode": "overlay",
              "size": 10,
              "solidity": 0.2
             }
            },
            "type": "histogram"
           }
          ],
          "scattergl": [
           {
            "marker": {
             "line": {
              "color": "#283442"
             }
            },
            "type": "scattergl"
           }
          ],
          "scatter3d": [
           {
            "type": "scatter3d",
            "line": {
             "colorbar": {
              "outlinewidth": 0,
              "ticks": ""
             }
            },
            "marker": {
             "colorbar": {
              "outlinewidth": 0,
              "ticks": ""
             }
            }
           }
          ],
          "scattermapbox": [
           {
            "type": "scattermapbox",
            "marker": {
             "colorbar": {
              "outlinewidth": 0,
              "ticks": ""
             }
            }
           }
          ],
          "scatterternary": [
           {
            "type": "scatterternary",
            "marker": {
             "colorbar": {
              "outlinewidth": 0,
              "ticks": ""
             }
            }
           }
          ],
          "scattercarpet": [
           {
            "type": "scattercarpet",
            "marker": {
             "colorbar": {
              "outlinewidth": 0,
              "ticks": ""
             }
            }
           }
          ],
          "carpet": [
           {
            "aaxis": {
             "endlinecolor": "#A2B1C6",
             "gridcolor": "#506784",
             "linecolor": "#506784",
             "minorgridcolor": "#506784",
             "startlinecolor": "#A2B1C6"
            },
            "baxis": {
             "endlinecolor": "#A2B1C6",
             "gridcolor": "#506784",
             "linecolor": "#506784",
             "minorgridcolor": "#506784",
             "startlinecolor": "#A2B1C6"
            },
            "type": "carpet"
           }
          ],
          "table": [
           {
            "cells": {
             "fill": {
              "color": "#506784"
             },
             "line": {
              "color": "rgb(17,17,17)"
             }
            },
            "header": {
             "fill": {
              "color": "#2a3f5f"
             },
             "line": {
              "color": "rgb(17,17,17)"
             }
            },
            "type": "table"
           }
          ],
          "barpolar": [
           {
            "marker": {
             "line": {
              "color": "rgb(17,17,17)",
              "width": 0.5
             },
             "pattern": {
              "fillmode": "overlay",
              "size": 10,
              "solidity": 0.2
             }
            },
            "type": "barpolar"
           }
          ],
          "pie": [
           {
            "automargin": true,
            "type": "pie"
           }
          ]
         },
         "layout": {
          "autotypenumbers": "strict",
          "colorway": [
           "#636efa",
           "#EF553B",
           "#00cc96",
           "#ab63fa",
           "#FFA15A",
           "#19d3f3",
           "#FF6692",
           "#B6E880",
           "#FF97FF",
           "#FECB52"
          ],
          "font": {
           "color": "#f2f5fa"
          },
          "hovermode": "closest",
          "hoverlabel": {
           "align": "left"
          },
          "paper_bgcolor": "rgb(17,17,17)",
          "plot_bgcolor": "rgb(17,17,17)",
          "polar": {
           "bgcolor": "rgb(17,17,17)",
           "angularaxis": {
            "gridcolor": "#506784",
            "linecolor": "#506784",
            "ticks": ""
           },
           "radialaxis": {
            "gridcolor": "#506784",
            "linecolor": "#506784",
            "ticks": ""
           }
          },
          "ternary": {
           "bgcolor": "rgb(17,17,17)",
           "aaxis": {
            "gridcolor": "#506784",
            "linecolor": "#506784",
            "ticks": ""
           },
           "baxis": {
            "gridcolor": "#506784",
            "linecolor": "#506784",
            "ticks": ""
           },
           "caxis": {
            "gridcolor": "#506784",
            "linecolor": "#506784",
            "ticks": ""
           }
          },
          "coloraxis": {
           "colorbar": {
            "outlinewidth": 0,
            "ticks": ""
           }
          },
          "colorscale": {
           "sequential": [
            [
             0.0,
             "#0d0887"
            ],
            [
             0.1111111111111111,
             "#46039f"
            ],
            [
             0.2222222222222222,
             "#7201a8"
            ],
            [
             0.3333333333333333,
             "#9c179e"
            ],
            [
             0.4444444444444444,
             "#bd3786"
            ],
            [
             0.5555555555555556,
             "#d8576b"
            ],
            [
             0.6666666666666666,
             "#ed7953"
            ],
            [
             0.7777777777777778,
             "#fb9f3a"
            ],
            [
             0.8888888888888888,
             "#fdca26"
            ],
            [
             1.0,
             "#f0f921"
            ]
           ],
           "sequentialminus": [
            [
             0.0,
             "#0d0887"
            ],
            [
             0.1111111111111111,
             "#46039f"
            ],
            [
             0.2222222222222222,
             "#7201a8"
            ],
            [
             0.3333333333333333,
             "#9c179e"
            ],
            [
             0.4444444444444444,
             "#bd3786"
            ],
            [
             0.5555555555555556,
             "#d8576b"
            ],
            [
             0.6666666666666666,
             "#ed7953"
            ],
            [
             0.7777777777777778,
             "#fb9f3a"
            ],
            [
             0.8888888888888888,
             "#fdca26"
            ],
            [
             1.0,
             "#f0f921"
            ]
           ],
           "diverging": [
            [
             0,
             "#8e0152"
            ],
            [
             0.1,
             "#c51b7d"
            ],
            [
             0.2,
             "#de77ae"
            ],
            [
             0.3,
             "#f1b6da"
            ],
            [
             0.4,
             "#fde0ef"
            ],
            [
             0.5,
             "#f7f7f7"
            ],
            [
             0.6,
             "#e6f5d0"
            ],
            [
             0.7,
             "#b8e186"
            ],
            [
             0.8,
             "#7fbc41"
            ],
            [
             0.9,
             "#4d9221"
            ],
            [
             1,
             "#276419"
            ]
           ]
          },
          "xaxis": {
           "gridcolor": "#283442",
           "linecolor": "#506784",
           "ticks": "",
           "title": {
            "standoff": 15
           },
           "zerolinecolor": "#283442",
           "automargin": true,
           "zerolinewidth": 2
          },
          "yaxis": {
           "gridcolor": "#283442",
           "linecolor": "#506784",
           "ticks": "",
           "title": {
            "standoff": 15
           },
           "zerolinecolor": "#283442",
           "automargin": true,
           "zerolinewidth": 2
          },
          "scene": {
           "xaxis": {
            "backgroundcolor": "rgb(17,17,17)",
            "gridcolor": "#506784",
            "linecolor": "#506784",
            "showbackground": true,
            "ticks": "",
            "zerolinecolor": "#C8D4E3",
            "gridwidth": 2
           },
           "yaxis": {
            "backgroundcolor": "rgb(17,17,17)",
            "gridcolor": "#506784",
            "linecolor": "#506784",
            "showbackground": true,
            "ticks": "",
            "zerolinecolor": "#C8D4E3",
            "gridwidth": 2
           },
           "zaxis": {
            "backgroundcolor": "rgb(17,17,17)",
            "gridcolor": "#506784",
            "linecolor": "#506784",
            "showbackground": true,
            "ticks": "",
            "zerolinecolor": "#C8D4E3",
            "gridwidth": 2
           }
          },
          "shapedefaults": {
           "line": {
            "color": "#f2f5fa"
           }
          },
          "annotationdefaults": {
           "arrowcolor": "#f2f5fa",
           "arrowhead": 0,
           "arrowwidth": 1
          },
          "geo": {
           "bgcolor": "rgb(17,17,17)",
           "landcolor": "rgb(17,17,17)",
           "subunitcolor": "#506784",
           "showland": true,
           "showlakes": true,
           "lakecolor": "rgb(17,17,17)"
          },
          "title": {
           "x": 0.05
          },
          "updatemenudefaults": {
           "bgcolor": "#506784",
           "borderwidth": 0
          },
          "sliderdefaults": {
           "bgcolor": "#C8D4E3",
           "borderwidth": 1,
           "bordercolor": "rgb(17,17,17)",
           "tickwidth": 0
          },
          "mapbox": {
           "style": "dark"
          }
         }
        },
        "legend": {
         "tracegroupgap": 0
        },
        "title": {
         "text": "Distribution of Movie Certificates"
        }
       },
       "config": {
        "plotlyServerURL": "https://plot.ly"
       }
      },
      "text/html": [
       "<div>                            <div id=\"381dc25d-535b-4da2-ac5f-b633d5b8d1cf\" class=\"plotly-graph-div\" style=\"height:525px; width:100%;\"></div>            <script type=\"text/javascript\">                require([\"plotly\"], function(Plotly) {                    window.PLOTLYENV=window.PLOTLYENV || {};                                    if (document.getElementById(\"381dc25d-535b-4da2-ac5f-b633d5b8d1cf\")) {                    Plotly.newPlot(                        \"381dc25d-535b-4da2-ac5f-b633d5b8d1cf\",                        [{\"domain\":{\"x\":[0.0,1.0],\"y\":[0.0,1.0]},\"hovertemplate\":\"Certificate=%{label}\\u003cbr\\u003eCount=%{value}\\u003cextra\\u003e\\u003c\\u002fextra\\u003e\",\"labels\":[\"u\",\"a\",\"ua\",\"r\",\"unknown\",\"approved\",\"pg13\",\"pg\",\"g\"],\"legendgroup\":\"\",\"name\":\"\",\"showlegend\":true,\"values\":[234,197,176,148,102,45,44,42,12],\"type\":\"pie\"}],                        {\"template\":{\"data\":{\"histogram2dcontour\":[{\"type\":\"histogram2dcontour\",\"colorbar\":{\"outlinewidth\":0,\"ticks\":\"\"},\"colorscale\":[[0.0,\"#0d0887\"],[0.1111111111111111,\"#46039f\"],[0.2222222222222222,\"#7201a8\"],[0.3333333333333333,\"#9c179e\"],[0.4444444444444444,\"#bd3786\"],[0.5555555555555556,\"#d8576b\"],[0.6666666666666666,\"#ed7953\"],[0.7777777777777778,\"#fb9f3a\"],[0.8888888888888888,\"#fdca26\"],[1.0,\"#f0f921\"]]}],\"choropleth\":[{\"type\":\"choropleth\",\"colorbar\":{\"outlinewidth\":0,\"ticks\":\"\"}}],\"histogram2d\":[{\"type\":\"histogram2d\",\"colorbar\":{\"outlinewidth\":0,\"ticks\":\"\"},\"colorscale\":[[0.0,\"#0d0887\"],[0.1111111111111111,\"#46039f\"],[0.2222222222222222,\"#7201a8\"],[0.3333333333333333,\"#9c179e\"],[0.4444444444444444,\"#bd3786\"],[0.5555555555555556,\"#d8576b\"],[0.6666666666666666,\"#ed7953\"],[0.7777777777777778,\"#fb9f3a\"],[0.8888888888888888,\"#fdca26\"],[1.0,\"#f0f921\"]]}],\"heatmap\":[{\"type\":\"heatmap\",\"colorbar\":{\"outlinewidth\":0,\"ticks\":\"\"},\"colorscale\":[[0.0,\"#0d0887\"],[0.1111111111111111,\"#46039f\"],[0.2222222222222222,\"#7201a8\"],[0.3333333333333333,\"#9c179e\"],[0.4444444444444444,\"#bd3786\"],[0.5555555555555556,\"#d8576b\"],[0.6666666666666666,\"#ed7953\"],[0.7777777777777778,\"#fb9f3a\"],[0.8888888888888888,\"#fdca26\"],[1.0,\"#f0f921\"]]}],\"heatmapgl\":[{\"type\":\"heatmapgl\",\"colorbar\":{\"outlinewidth\":0,\"ticks\":\"\"},\"colorscale\":[[0.0,\"#0d0887\"],[0.1111111111111111,\"#46039f\"],[0.2222222222222222,\"#7201a8\"],[0.3333333333333333,\"#9c179e\"],[0.4444444444444444,\"#bd3786\"],[0.5555555555555556,\"#d8576b\"],[0.6666666666666666,\"#ed7953\"],[0.7777777777777778,\"#fb9f3a\"],[0.8888888888888888,\"#fdca26\"],[1.0,\"#f0f921\"]]}],\"contourcarpet\":[{\"type\":\"contourcarpet\",\"colorbar\":{\"outlinewidth\":0,\"ticks\":\"\"}}],\"contour\":[{\"type\":\"contour\",\"colorbar\":{\"outlinewidth\":0,\"ticks\":\"\"},\"colorscale\":[[0.0,\"#0d0887\"],[0.1111111111111111,\"#46039f\"],[0.2222222222222222,\"#7201a8\"],[0.3333333333333333,\"#9c179e\"],[0.4444444444444444,\"#bd3786\"],[0.5555555555555556,\"#d8576b\"],[0.6666666666666666,\"#ed7953\"],[0.7777777777777778,\"#fb9f3a\"],[0.8888888888888888,\"#fdca26\"],[1.0,\"#f0f921\"]]}],\"surface\":[{\"type\":\"surface\",\"colorbar\":{\"outlinewidth\":0,\"ticks\":\"\"},\"colorscale\":[[0.0,\"#0d0887\"],[0.1111111111111111,\"#46039f\"],[0.2222222222222222,\"#7201a8\"],[0.3333333333333333,\"#9c179e\"],[0.4444444444444444,\"#bd3786\"],[0.5555555555555556,\"#d8576b\"],[0.6666666666666666,\"#ed7953\"],[0.7777777777777778,\"#fb9f3a\"],[0.8888888888888888,\"#fdca26\"],[1.0,\"#f0f921\"]]}],\"mesh3d\":[{\"type\":\"mesh3d\",\"colorbar\":{\"outlinewidth\":0,\"ticks\":\"\"}}],\"scatter\":[{\"marker\":{\"line\":{\"color\":\"#283442\"}},\"type\":\"scatter\"}],\"parcoords\":[{\"type\":\"parcoords\",\"line\":{\"colorbar\":{\"outlinewidth\":0,\"ticks\":\"\"}}}],\"scatterpolargl\":[{\"type\":\"scatterpolargl\",\"marker\":{\"colorbar\":{\"outlinewidth\":0,\"ticks\":\"\"}}}],\"bar\":[{\"error_x\":{\"color\":\"#f2f5fa\"},\"error_y\":{\"color\":\"#f2f5fa\"},\"marker\":{\"line\":{\"color\":\"rgb(17,17,17)\",\"width\":0.5},\"pattern\":{\"fillmode\":\"overlay\",\"size\":10,\"solidity\":0.2}},\"type\":\"bar\"}],\"scattergeo\":[{\"type\":\"scattergeo\",\"marker\":{\"colorbar\":{\"outlinewidth\":0,\"ticks\":\"\"}}}],\"scatterpolar\":[{\"type\":\"scatterpolar\",\"marker\":{\"colorbar\":{\"outlinewidth\":0,\"ticks\":\"\"}}}],\"histogram\":[{\"marker\":{\"pattern\":{\"fillmode\":\"overlay\",\"size\":10,\"solidity\":0.2}},\"type\":\"histogram\"}],\"scattergl\":[{\"marker\":{\"line\":{\"color\":\"#283442\"}},\"type\":\"scattergl\"}],\"scatter3d\":[{\"type\":\"scatter3d\",\"line\":{\"colorbar\":{\"outlinewidth\":0,\"ticks\":\"\"}},\"marker\":{\"colorbar\":{\"outlinewidth\":0,\"ticks\":\"\"}}}],\"scattermapbox\":[{\"type\":\"scattermapbox\",\"marker\":{\"colorbar\":{\"outlinewidth\":0,\"ticks\":\"\"}}}],\"scatterternary\":[{\"type\":\"scatterternary\",\"marker\":{\"colorbar\":{\"outlinewidth\":0,\"ticks\":\"\"}}}],\"scattercarpet\":[{\"type\":\"scattercarpet\",\"marker\":{\"colorbar\":{\"outlinewidth\":0,\"ticks\":\"\"}}}],\"carpet\":[{\"aaxis\":{\"endlinecolor\":\"#A2B1C6\",\"gridcolor\":\"#506784\",\"linecolor\":\"#506784\",\"minorgridcolor\":\"#506784\",\"startlinecolor\":\"#A2B1C6\"},\"baxis\":{\"endlinecolor\":\"#A2B1C6\",\"gridcolor\":\"#506784\",\"linecolor\":\"#506784\",\"minorgridcolor\":\"#506784\",\"startlinecolor\":\"#A2B1C6\"},\"type\":\"carpet\"}],\"table\":[{\"cells\":{\"fill\":{\"color\":\"#506784\"},\"line\":{\"color\":\"rgb(17,17,17)\"}},\"header\":{\"fill\":{\"color\":\"#2a3f5f\"},\"line\":{\"color\":\"rgb(17,17,17)\"}},\"type\":\"table\"}],\"barpolar\":[{\"marker\":{\"line\":{\"color\":\"rgb(17,17,17)\",\"width\":0.5},\"pattern\":{\"fillmode\":\"overlay\",\"size\":10,\"solidity\":0.2}},\"type\":\"barpolar\"}],\"pie\":[{\"automargin\":true,\"type\":\"pie\"}]},\"layout\":{\"autotypenumbers\":\"strict\",\"colorway\":[\"#636efa\",\"#EF553B\",\"#00cc96\",\"#ab63fa\",\"#FFA15A\",\"#19d3f3\",\"#FF6692\",\"#B6E880\",\"#FF97FF\",\"#FECB52\"],\"font\":{\"color\":\"#f2f5fa\"},\"hovermode\":\"closest\",\"hoverlabel\":{\"align\":\"left\"},\"paper_bgcolor\":\"rgb(17,17,17)\",\"plot_bgcolor\":\"rgb(17,17,17)\",\"polar\":{\"bgcolor\":\"rgb(17,17,17)\",\"angularaxis\":{\"gridcolor\":\"#506784\",\"linecolor\":\"#506784\",\"ticks\":\"\"},\"radialaxis\":{\"gridcolor\":\"#506784\",\"linecolor\":\"#506784\",\"ticks\":\"\"}},\"ternary\":{\"bgcolor\":\"rgb(17,17,17)\",\"aaxis\":{\"gridcolor\":\"#506784\",\"linecolor\":\"#506784\",\"ticks\":\"\"},\"baxis\":{\"gridcolor\":\"#506784\",\"linecolor\":\"#506784\",\"ticks\":\"\"},\"caxis\":{\"gridcolor\":\"#506784\",\"linecolor\":\"#506784\",\"ticks\":\"\"}},\"coloraxis\":{\"colorbar\":{\"outlinewidth\":0,\"ticks\":\"\"}},\"colorscale\":{\"sequential\":[[0.0,\"#0d0887\"],[0.1111111111111111,\"#46039f\"],[0.2222222222222222,\"#7201a8\"],[0.3333333333333333,\"#9c179e\"],[0.4444444444444444,\"#bd3786\"],[0.5555555555555556,\"#d8576b\"],[0.6666666666666666,\"#ed7953\"],[0.7777777777777778,\"#fb9f3a\"],[0.8888888888888888,\"#fdca26\"],[1.0,\"#f0f921\"]],\"sequentialminus\":[[0.0,\"#0d0887\"],[0.1111111111111111,\"#46039f\"],[0.2222222222222222,\"#7201a8\"],[0.3333333333333333,\"#9c179e\"],[0.4444444444444444,\"#bd3786\"],[0.5555555555555556,\"#d8576b\"],[0.6666666666666666,\"#ed7953\"],[0.7777777777777778,\"#fb9f3a\"],[0.8888888888888888,\"#fdca26\"],[1.0,\"#f0f921\"]],\"diverging\":[[0,\"#8e0152\"],[0.1,\"#c51b7d\"],[0.2,\"#de77ae\"],[0.3,\"#f1b6da\"],[0.4,\"#fde0ef\"],[0.5,\"#f7f7f7\"],[0.6,\"#e6f5d0\"],[0.7,\"#b8e186\"],[0.8,\"#7fbc41\"],[0.9,\"#4d9221\"],[1,\"#276419\"]]},\"xaxis\":{\"gridcolor\":\"#283442\",\"linecolor\":\"#506784\",\"ticks\":\"\",\"title\":{\"standoff\":15},\"zerolinecolor\":\"#283442\",\"automargin\":true,\"zerolinewidth\":2},\"yaxis\":{\"gridcolor\":\"#283442\",\"linecolor\":\"#506784\",\"ticks\":\"\",\"title\":{\"standoff\":15},\"zerolinecolor\":\"#283442\",\"automargin\":true,\"zerolinewidth\":2},\"scene\":{\"xaxis\":{\"backgroundcolor\":\"rgb(17,17,17)\",\"gridcolor\":\"#506784\",\"linecolor\":\"#506784\",\"showbackground\":true,\"ticks\":\"\",\"zerolinecolor\":\"#C8D4E3\",\"gridwidth\":2},\"yaxis\":{\"backgroundcolor\":\"rgb(17,17,17)\",\"gridcolor\":\"#506784\",\"linecolor\":\"#506784\",\"showbackground\":true,\"ticks\":\"\",\"zerolinecolor\":\"#C8D4E3\",\"gridwidth\":2},\"zaxis\":{\"backgroundcolor\":\"rgb(17,17,17)\",\"gridcolor\":\"#506784\",\"linecolor\":\"#506784\",\"showbackground\":true,\"ticks\":\"\",\"zerolinecolor\":\"#C8D4E3\",\"gridwidth\":2}},\"shapedefaults\":{\"line\":{\"color\":\"#f2f5fa\"}},\"annotationdefaults\":{\"arrowcolor\":\"#f2f5fa\",\"arrowhead\":0,\"arrowwidth\":1},\"geo\":{\"bgcolor\":\"rgb(17,17,17)\",\"landcolor\":\"rgb(17,17,17)\",\"subunitcolor\":\"#506784\",\"showland\":true,\"showlakes\":true,\"lakecolor\":\"rgb(17,17,17)\"},\"title\":{\"x\":0.05},\"updatemenudefaults\":{\"bgcolor\":\"#506784\",\"borderwidth\":0},\"sliderdefaults\":{\"bgcolor\":\"#C8D4E3\",\"borderwidth\":1,\"bordercolor\":\"rgb(17,17,17)\",\"tickwidth\":0},\"mapbox\":{\"style\":\"dark\"}}},\"legend\":{\"tracegroupgap\":0},\"title\":{\"text\":\"Distribution of Movie Certificates\"}},                        {\"responsive\": true}                    ).then(function(){\n",
       "                            \n",
       "var gd = document.getElementById('381dc25d-535b-4da2-ac5f-b633d5b8d1cf');\n",
       "var x = new MutationObserver(function (mutations, observer) {{\n",
       "        var display = window.getComputedStyle(gd).display;\n",
       "        if (!display || display === 'none') {{\n",
       "            console.log([gd, 'removed!']);\n",
       "            Plotly.purge(gd);\n",
       "            observer.disconnect();\n",
       "        }}\n",
       "}});\n",
       "\n",
       "// Listen for the removal of the full notebook cells\n",
       "var notebookContainer = gd.closest('#notebook-container');\n",
       "if (notebookContainer) {{\n",
       "    x.observe(notebookContainer, {childList: true});\n",
       "}}\n",
       "\n",
       "// Listen for the clearing of the current output cell\n",
       "var outputEl = gd.closest('.output');\n",
       "if (outputEl) {{\n",
       "    x.observe(outputEl, {childList: true});\n",
       "}}\n",
       "\n",
       "                        })                };                });            </script>        </div>"
      ]
     },
     "metadata": {},
     "output_type": "display_data"
    }
   ],
   "execution_count": 101
  },
  {
   "metadata": {},
   "cell_type": "markdown",
   "source": "This heatmap visualizes the correlations between various numerical features, such as IMDB ratings, metascore, votes, and gross revenue. It helps identify relationships, such as whether a higher IMDB rating correlates with higher gross revenue.",
   "id": "336e495539ae18bc"
  },
  {
   "metadata": {
    "ExecuteTime": {
     "end_time": "2025-04-03T14:34:37.117965Z",
     "start_time": "2025-04-03T14:34:37.087032Z"
    }
   },
   "cell_type": "code",
   "source": [
    "import plotly.express as px\n",
    "import numpy as np\n",
    "\n",
    "# Compute the correlation matrix\n",
    "corr_matrix = df[['IMDB_Rating', 'Meta_score', 'No_of_Votes', 'Gross', 'Runtime']].corr()\n",
    "\n",
    "# Create a heatmap\n",
    "fig = px.imshow(corr_matrix, text_auto=True, title='Correlation Heatmap of Numerical Features')\n",
    "fig.show()\n"
   ],
   "id": "579008c1b1f15a6b",
   "outputs": [
    {
     "data": {
      "application/vnd.plotly.v1+json": {
       "data": [
        {
         "coloraxis": "coloraxis",
         "name": "0",
         "texttemplate": "%{z}",
         "x": [
          "IMDB_Rating",
          "Meta_score",
          "No_of_Votes",
          "Gross",
          "Runtime"
         ],
         "y": [
          "IMDB_Rating",
          "Meta_score",
          "No_of_Votes",
          "Gross",
          "Runtime"
         ],
         "z": [
          [
           1.0,
           0.25865036788277573,
           0.4949788358621451,
           0.08551815318640785,
           0.24309589775419418
          ],
          [
           0.25865036788277573,
           1.0,
           -0.026939532268847585,
           -0.05188879828746503,
           -0.026360601114433124
          ],
          [
           0.4949788358621451,
           -0.026939532268847585,
           1.0,
           0.5884277448369355,
           0.17326379844471038
          ],
          [
           0.08551815318640785,
           -0.05188879828746503,
           0.5884277448369355,
           1.0,
           0.13835305101715745
          ],
          [
           0.24309589775419418,
           -0.026360601114433124,
           0.17326379844471038,
           0.13835305101715745,
           1.0
          ]
         ],
         "type": "heatmap",
         "xaxis": "x",
         "yaxis": "y",
         "hovertemplate": "x: %{x}<br>y: %{y}<br>color: %{z}<extra></extra>"
        }
       ],
       "layout": {
        "template": {
         "data": {
          "histogram2dcontour": [
           {
            "type": "histogram2dcontour",
            "colorbar": {
             "outlinewidth": 0,
             "ticks": ""
            },
            "colorscale": [
             [
              0.0,
              "#0d0887"
             ],
             [
              0.1111111111111111,
              "#46039f"
             ],
             [
              0.2222222222222222,
              "#7201a8"
             ],
             [
              0.3333333333333333,
              "#9c179e"
             ],
             [
              0.4444444444444444,
              "#bd3786"
             ],
             [
              0.5555555555555556,
              "#d8576b"
             ],
             [
              0.6666666666666666,
              "#ed7953"
             ],
             [
              0.7777777777777778,
              "#fb9f3a"
             ],
             [
              0.8888888888888888,
              "#fdca26"
             ],
             [
              1.0,
              "#f0f921"
             ]
            ]
           }
          ],
          "choropleth": [
           {
            "type": "choropleth",
            "colorbar": {
             "outlinewidth": 0,
             "ticks": ""
            }
           }
          ],
          "histogram2d": [
           {
            "type": "histogram2d",
            "colorbar": {
             "outlinewidth": 0,
             "ticks": ""
            },
            "colorscale": [
             [
              0.0,
              "#0d0887"
             ],
             [
              0.1111111111111111,
              "#46039f"
             ],
             [
              0.2222222222222222,
              "#7201a8"
             ],
             [
              0.3333333333333333,
              "#9c179e"
             ],
             [
              0.4444444444444444,
              "#bd3786"
             ],
             [
              0.5555555555555556,
              "#d8576b"
             ],
             [
              0.6666666666666666,
              "#ed7953"
             ],
             [
              0.7777777777777778,
              "#fb9f3a"
             ],
             [
              0.8888888888888888,
              "#fdca26"
             ],
             [
              1.0,
              "#f0f921"
             ]
            ]
           }
          ],
          "heatmap": [
           {
            "type": "heatmap",
            "colorbar": {
             "outlinewidth": 0,
             "ticks": ""
            },
            "colorscale": [
             [
              0.0,
              "#0d0887"
             ],
             [
              0.1111111111111111,
              "#46039f"
             ],
             [
              0.2222222222222222,
              "#7201a8"
             ],
             [
              0.3333333333333333,
              "#9c179e"
             ],
             [
              0.4444444444444444,
              "#bd3786"
             ],
             [
              0.5555555555555556,
              "#d8576b"
             ],
             [
              0.6666666666666666,
              "#ed7953"
             ],
             [
              0.7777777777777778,
              "#fb9f3a"
             ],
             [
              0.8888888888888888,
              "#fdca26"
             ],
             [
              1.0,
              "#f0f921"
             ]
            ]
           }
          ],
          "heatmapgl": [
           {
            "type": "heatmapgl",
            "colorbar": {
             "outlinewidth": 0,
             "ticks": ""
            },
            "colorscale": [
             [
              0.0,
              "#0d0887"
             ],
             [
              0.1111111111111111,
              "#46039f"
             ],
             [
              0.2222222222222222,
              "#7201a8"
             ],
             [
              0.3333333333333333,
              "#9c179e"
             ],
             [
              0.4444444444444444,
              "#bd3786"
             ],
             [
              0.5555555555555556,
              "#d8576b"
             ],
             [
              0.6666666666666666,
              "#ed7953"
             ],
             [
              0.7777777777777778,
              "#fb9f3a"
             ],
             [
              0.8888888888888888,
              "#fdca26"
             ],
             [
              1.0,
              "#f0f921"
             ]
            ]
           }
          ],
          "contourcarpet": [
           {
            "type": "contourcarpet",
            "colorbar": {
             "outlinewidth": 0,
             "ticks": ""
            }
           }
          ],
          "contour": [
           {
            "type": "contour",
            "colorbar": {
             "outlinewidth": 0,
             "ticks": ""
            },
            "colorscale": [
             [
              0.0,
              "#0d0887"
             ],
             [
              0.1111111111111111,
              "#46039f"
             ],
             [
              0.2222222222222222,
              "#7201a8"
             ],
             [
              0.3333333333333333,
              "#9c179e"
             ],
             [
              0.4444444444444444,
              "#bd3786"
             ],
             [
              0.5555555555555556,
              "#d8576b"
             ],
             [
              0.6666666666666666,
              "#ed7953"
             ],
             [
              0.7777777777777778,
              "#fb9f3a"
             ],
             [
              0.8888888888888888,
              "#fdca26"
             ],
             [
              1.0,
              "#f0f921"
             ]
            ]
           }
          ],
          "surface": [
           {
            "type": "surface",
            "colorbar": {
             "outlinewidth": 0,
             "ticks": ""
            },
            "colorscale": [
             [
              0.0,
              "#0d0887"
             ],
             [
              0.1111111111111111,
              "#46039f"
             ],
             [
              0.2222222222222222,
              "#7201a8"
             ],
             [
              0.3333333333333333,
              "#9c179e"
             ],
             [
              0.4444444444444444,
              "#bd3786"
             ],
             [
              0.5555555555555556,
              "#d8576b"
             ],
             [
              0.6666666666666666,
              "#ed7953"
             ],
             [
              0.7777777777777778,
              "#fb9f3a"
             ],
             [
              0.8888888888888888,
              "#fdca26"
             ],
             [
              1.0,
              "#f0f921"
             ]
            ]
           }
          ],
          "mesh3d": [
           {
            "type": "mesh3d",
            "colorbar": {
             "outlinewidth": 0,
             "ticks": ""
            }
           }
          ],
          "scatter": [
           {
            "marker": {
             "line": {
              "color": "#283442"
             }
            },
            "type": "scatter"
           }
          ],
          "parcoords": [
           {
            "type": "parcoords",
            "line": {
             "colorbar": {
              "outlinewidth": 0,
              "ticks": ""
             }
            }
           }
          ],
          "scatterpolargl": [
           {
            "type": "scatterpolargl",
            "marker": {
             "colorbar": {
              "outlinewidth": 0,
              "ticks": ""
             }
            }
           }
          ],
          "bar": [
           {
            "error_x": {
             "color": "#f2f5fa"
            },
            "error_y": {
             "color": "#f2f5fa"
            },
            "marker": {
             "line": {
              "color": "rgb(17,17,17)",
              "width": 0.5
             },
             "pattern": {
              "fillmode": "overlay",
              "size": 10,
              "solidity": 0.2
             }
            },
            "type": "bar"
           }
          ],
          "scattergeo": [
           {
            "type": "scattergeo",
            "marker": {
             "colorbar": {
              "outlinewidth": 0,
              "ticks": ""
             }
            }
           }
          ],
          "scatterpolar": [
           {
            "type": "scatterpolar",
            "marker": {
             "colorbar": {
              "outlinewidth": 0,
              "ticks": ""
             }
            }
           }
          ],
          "histogram": [
           {
            "marker": {
             "pattern": {
              "fillmode": "overlay",
              "size": 10,
              "solidity": 0.2
             }
            },
            "type": "histogram"
           }
          ],
          "scattergl": [
           {
            "marker": {
             "line": {
              "color": "#283442"
             }
            },
            "type": "scattergl"
           }
          ],
          "scatter3d": [
           {
            "type": "scatter3d",
            "line": {
             "colorbar": {
              "outlinewidth": 0,
              "ticks": ""
             }
            },
            "marker": {
             "colorbar": {
              "outlinewidth": 0,
              "ticks": ""
             }
            }
           }
          ],
          "scattermapbox": [
           {
            "type": "scattermapbox",
            "marker": {
             "colorbar": {
              "outlinewidth": 0,
              "ticks": ""
             }
            }
           }
          ],
          "scatterternary": [
           {
            "type": "scatterternary",
            "marker": {
             "colorbar": {
              "outlinewidth": 0,
              "ticks": ""
             }
            }
           }
          ],
          "scattercarpet": [
           {
            "type": "scattercarpet",
            "marker": {
             "colorbar": {
              "outlinewidth": 0,
              "ticks": ""
             }
            }
           }
          ],
          "carpet": [
           {
            "aaxis": {
             "endlinecolor": "#A2B1C6",
             "gridcolor": "#506784",
             "linecolor": "#506784",
             "minorgridcolor": "#506784",
             "startlinecolor": "#A2B1C6"
            },
            "baxis": {
             "endlinecolor": "#A2B1C6",
             "gridcolor": "#506784",
             "linecolor": "#506784",
             "minorgridcolor": "#506784",
             "startlinecolor": "#A2B1C6"
            },
            "type": "carpet"
           }
          ],
          "table": [
           {
            "cells": {
             "fill": {
              "color": "#506784"
             },
             "line": {
              "color": "rgb(17,17,17)"
             }
            },
            "header": {
             "fill": {
              "color": "#2a3f5f"
             },
             "line": {
              "color": "rgb(17,17,17)"
             }
            },
            "type": "table"
           }
          ],
          "barpolar": [
           {
            "marker": {
             "line": {
              "color": "rgb(17,17,17)",
              "width": 0.5
             },
             "pattern": {
              "fillmode": "overlay",
              "size": 10,
              "solidity": 0.2
             }
            },
            "type": "barpolar"
           }
          ],
          "pie": [
           {
            "automargin": true,
            "type": "pie"
           }
          ]
         },
         "layout": {
          "autotypenumbers": "strict",
          "colorway": [
           "#636efa",
           "#EF553B",
           "#00cc96",
           "#ab63fa",
           "#FFA15A",
           "#19d3f3",
           "#FF6692",
           "#B6E880",
           "#FF97FF",
           "#FECB52"
          ],
          "font": {
           "color": "#f2f5fa"
          },
          "hovermode": "closest",
          "hoverlabel": {
           "align": "left"
          },
          "paper_bgcolor": "rgb(17,17,17)",
          "plot_bgcolor": "rgb(17,17,17)",
          "polar": {
           "bgcolor": "rgb(17,17,17)",
           "angularaxis": {
            "gridcolor": "#506784",
            "linecolor": "#506784",
            "ticks": ""
           },
           "radialaxis": {
            "gridcolor": "#506784",
            "linecolor": "#506784",
            "ticks": ""
           }
          },
          "ternary": {
           "bgcolor": "rgb(17,17,17)",
           "aaxis": {
            "gridcolor": "#506784",
            "linecolor": "#506784",
            "ticks": ""
           },
           "baxis": {
            "gridcolor": "#506784",
            "linecolor": "#506784",
            "ticks": ""
           },
           "caxis": {
            "gridcolor": "#506784",
            "linecolor": "#506784",
            "ticks": ""
           }
          },
          "coloraxis": {
           "colorbar": {
            "outlinewidth": 0,
            "ticks": ""
           }
          },
          "colorscale": {
           "sequential": [
            [
             0.0,
             "#0d0887"
            ],
            [
             0.1111111111111111,
             "#46039f"
            ],
            [
             0.2222222222222222,
             "#7201a8"
            ],
            [
             0.3333333333333333,
             "#9c179e"
            ],
            [
             0.4444444444444444,
             "#bd3786"
            ],
            [
             0.5555555555555556,
             "#d8576b"
            ],
            [
             0.6666666666666666,
             "#ed7953"
            ],
            [
             0.7777777777777778,
             "#fb9f3a"
            ],
            [
             0.8888888888888888,
             "#fdca26"
            ],
            [
             1.0,
             "#f0f921"
            ]
           ],
           "sequentialminus": [
            [
             0.0,
             "#0d0887"
            ],
            [
             0.1111111111111111,
             "#46039f"
            ],
            [
             0.2222222222222222,
             "#7201a8"
            ],
            [
             0.3333333333333333,
             "#9c179e"
            ],
            [
             0.4444444444444444,
             "#bd3786"
            ],
            [
             0.5555555555555556,
             "#d8576b"
            ],
            [
             0.6666666666666666,
             "#ed7953"
            ],
            [
             0.7777777777777778,
             "#fb9f3a"
            ],
            [
             0.8888888888888888,
             "#fdca26"
            ],
            [
             1.0,
             "#f0f921"
            ]
           ],
           "diverging": [
            [
             0,
             "#8e0152"
            ],
            [
             0.1,
             "#c51b7d"
            ],
            [
             0.2,
             "#de77ae"
            ],
            [
             0.3,
             "#f1b6da"
            ],
            [
             0.4,
             "#fde0ef"
            ],
            [
             0.5,
             "#f7f7f7"
            ],
            [
             0.6,
             "#e6f5d0"
            ],
            [
             0.7,
             "#b8e186"
            ],
            [
             0.8,
             "#7fbc41"
            ],
            [
             0.9,
             "#4d9221"
            ],
            [
             1,
             "#276419"
            ]
           ]
          },
          "xaxis": {
           "gridcolor": "#283442",
           "linecolor": "#506784",
           "ticks": "",
           "title": {
            "standoff": 15
           },
           "zerolinecolor": "#283442",
           "automargin": true,
           "zerolinewidth": 2
          },
          "yaxis": {
           "gridcolor": "#283442",
           "linecolor": "#506784",
           "ticks": "",
           "title": {
            "standoff": 15
           },
           "zerolinecolor": "#283442",
           "automargin": true,
           "zerolinewidth": 2
          },
          "scene": {
           "xaxis": {
            "backgroundcolor": "rgb(17,17,17)",
            "gridcolor": "#506784",
            "linecolor": "#506784",
            "showbackground": true,
            "ticks": "",
            "zerolinecolor": "#C8D4E3",
            "gridwidth": 2
           },
           "yaxis": {
            "backgroundcolor": "rgb(17,17,17)",
            "gridcolor": "#506784",
            "linecolor": "#506784",
            "showbackground": true,
            "ticks": "",
            "zerolinecolor": "#C8D4E3",
            "gridwidth": 2
           },
           "zaxis": {
            "backgroundcolor": "rgb(17,17,17)",
            "gridcolor": "#506784",
            "linecolor": "#506784",
            "showbackground": true,
            "ticks": "",
            "zerolinecolor": "#C8D4E3",
            "gridwidth": 2
           }
          },
          "shapedefaults": {
           "line": {
            "color": "#f2f5fa"
           }
          },
          "annotationdefaults": {
           "arrowcolor": "#f2f5fa",
           "arrowhead": 0,
           "arrowwidth": 1
          },
          "geo": {
           "bgcolor": "rgb(17,17,17)",
           "landcolor": "rgb(17,17,17)",
           "subunitcolor": "#506784",
           "showland": true,
           "showlakes": true,
           "lakecolor": "rgb(17,17,17)"
          },
          "title": {
           "x": 0.05
          },
          "updatemenudefaults": {
           "bgcolor": "#506784",
           "borderwidth": 0
          },
          "sliderdefaults": {
           "bgcolor": "#C8D4E3",
           "borderwidth": 1,
           "bordercolor": "rgb(17,17,17)",
           "tickwidth": 0
          },
          "mapbox": {
           "style": "dark"
          }
         }
        },
        "xaxis": {
         "anchor": "y",
         "domain": [
          0.0,
          1.0
         ],
         "scaleanchor": "y",
         "constrain": "domain"
        },
        "yaxis": {
         "anchor": "x",
         "domain": [
          0.0,
          1.0
         ],
         "autorange": "reversed",
         "constrain": "domain"
        },
        "coloraxis": {
         "colorscale": [
          [
           0.0,
           "#0d0887"
          ],
          [
           0.1111111111111111,
           "#46039f"
          ],
          [
           0.2222222222222222,
           "#7201a8"
          ],
          [
           0.3333333333333333,
           "#9c179e"
          ],
          [
           0.4444444444444444,
           "#bd3786"
          ],
          [
           0.5555555555555556,
           "#d8576b"
          ],
          [
           0.6666666666666666,
           "#ed7953"
          ],
          [
           0.7777777777777778,
           "#fb9f3a"
          ],
          [
           0.8888888888888888,
           "#fdca26"
          ],
          [
           1.0,
           "#f0f921"
          ]
         ]
        },
        "title": {
         "text": "Correlation Heatmap of Numerical Features"
        }
       },
       "config": {
        "plotlyServerURL": "https://plot.ly"
       }
      },
      "text/html": [
       "<div>                            <div id=\"2bc16580-839c-430b-93d6-ab3c25fdfdf0\" class=\"plotly-graph-div\" style=\"height:525px; width:100%;\"></div>            <script type=\"text/javascript\">                require([\"plotly\"], function(Plotly) {                    window.PLOTLYENV=window.PLOTLYENV || {};                                    if (document.getElementById(\"2bc16580-839c-430b-93d6-ab3c25fdfdf0\")) {                    Plotly.newPlot(                        \"2bc16580-839c-430b-93d6-ab3c25fdfdf0\",                        [{\"coloraxis\":\"coloraxis\",\"name\":\"0\",\"texttemplate\":\"%{z}\",\"x\":[\"IMDB_Rating\",\"Meta_score\",\"No_of_Votes\",\"Gross\",\"Runtime\"],\"y\":[\"IMDB_Rating\",\"Meta_score\",\"No_of_Votes\",\"Gross\",\"Runtime\"],\"z\":[[1.0,0.25865036788277573,0.4949788358621451,0.08551815318640785,0.24309589775419418],[0.25865036788277573,1.0,-0.026939532268847585,-0.05188879828746503,-0.026360601114433124],[0.4949788358621451,-0.026939532268847585,1.0,0.5884277448369355,0.17326379844471038],[0.08551815318640785,-0.05188879828746503,0.5884277448369355,1.0,0.13835305101715745],[0.24309589775419418,-0.026360601114433124,0.17326379844471038,0.13835305101715745,1.0]],\"type\":\"heatmap\",\"xaxis\":\"x\",\"yaxis\":\"y\",\"hovertemplate\":\"x: %{x}\\u003cbr\\u003ey: %{y}\\u003cbr\\u003ecolor: %{z}\\u003cextra\\u003e\\u003c\\u002fextra\\u003e\"}],                        {\"template\":{\"data\":{\"histogram2dcontour\":[{\"type\":\"histogram2dcontour\",\"colorbar\":{\"outlinewidth\":0,\"ticks\":\"\"},\"colorscale\":[[0.0,\"#0d0887\"],[0.1111111111111111,\"#46039f\"],[0.2222222222222222,\"#7201a8\"],[0.3333333333333333,\"#9c179e\"],[0.4444444444444444,\"#bd3786\"],[0.5555555555555556,\"#d8576b\"],[0.6666666666666666,\"#ed7953\"],[0.7777777777777778,\"#fb9f3a\"],[0.8888888888888888,\"#fdca26\"],[1.0,\"#f0f921\"]]}],\"choropleth\":[{\"type\":\"choropleth\",\"colorbar\":{\"outlinewidth\":0,\"ticks\":\"\"}}],\"histogram2d\":[{\"type\":\"histogram2d\",\"colorbar\":{\"outlinewidth\":0,\"ticks\":\"\"},\"colorscale\":[[0.0,\"#0d0887\"],[0.1111111111111111,\"#46039f\"],[0.2222222222222222,\"#7201a8\"],[0.3333333333333333,\"#9c179e\"],[0.4444444444444444,\"#bd3786\"],[0.5555555555555556,\"#d8576b\"],[0.6666666666666666,\"#ed7953\"],[0.7777777777777778,\"#fb9f3a\"],[0.8888888888888888,\"#fdca26\"],[1.0,\"#f0f921\"]]}],\"heatmap\":[{\"type\":\"heatmap\",\"colorbar\":{\"outlinewidth\":0,\"ticks\":\"\"},\"colorscale\":[[0.0,\"#0d0887\"],[0.1111111111111111,\"#46039f\"],[0.2222222222222222,\"#7201a8\"],[0.3333333333333333,\"#9c179e\"],[0.4444444444444444,\"#bd3786\"],[0.5555555555555556,\"#d8576b\"],[0.6666666666666666,\"#ed7953\"],[0.7777777777777778,\"#fb9f3a\"],[0.8888888888888888,\"#fdca26\"],[1.0,\"#f0f921\"]]}],\"heatmapgl\":[{\"type\":\"heatmapgl\",\"colorbar\":{\"outlinewidth\":0,\"ticks\":\"\"},\"colorscale\":[[0.0,\"#0d0887\"],[0.1111111111111111,\"#46039f\"],[0.2222222222222222,\"#7201a8\"],[0.3333333333333333,\"#9c179e\"],[0.4444444444444444,\"#bd3786\"],[0.5555555555555556,\"#d8576b\"],[0.6666666666666666,\"#ed7953\"],[0.7777777777777778,\"#fb9f3a\"],[0.8888888888888888,\"#fdca26\"],[1.0,\"#f0f921\"]]}],\"contourcarpet\":[{\"type\":\"contourcarpet\",\"colorbar\":{\"outlinewidth\":0,\"ticks\":\"\"}}],\"contour\":[{\"type\":\"contour\",\"colorbar\":{\"outlinewidth\":0,\"ticks\":\"\"},\"colorscale\":[[0.0,\"#0d0887\"],[0.1111111111111111,\"#46039f\"],[0.2222222222222222,\"#7201a8\"],[0.3333333333333333,\"#9c179e\"],[0.4444444444444444,\"#bd3786\"],[0.5555555555555556,\"#d8576b\"],[0.6666666666666666,\"#ed7953\"],[0.7777777777777778,\"#fb9f3a\"],[0.8888888888888888,\"#fdca26\"],[1.0,\"#f0f921\"]]}],\"surface\":[{\"type\":\"surface\",\"colorbar\":{\"outlinewidth\":0,\"ticks\":\"\"},\"colorscale\":[[0.0,\"#0d0887\"],[0.1111111111111111,\"#46039f\"],[0.2222222222222222,\"#7201a8\"],[0.3333333333333333,\"#9c179e\"],[0.4444444444444444,\"#bd3786\"],[0.5555555555555556,\"#d8576b\"],[0.6666666666666666,\"#ed7953\"],[0.7777777777777778,\"#fb9f3a\"],[0.8888888888888888,\"#fdca26\"],[1.0,\"#f0f921\"]]}],\"mesh3d\":[{\"type\":\"mesh3d\",\"colorbar\":{\"outlinewidth\":0,\"ticks\":\"\"}}],\"scatter\":[{\"marker\":{\"line\":{\"color\":\"#283442\"}},\"type\":\"scatter\"}],\"parcoords\":[{\"type\":\"parcoords\",\"line\":{\"colorbar\":{\"outlinewidth\":0,\"ticks\":\"\"}}}],\"scatterpolargl\":[{\"type\":\"scatterpolargl\",\"marker\":{\"colorbar\":{\"outlinewidth\":0,\"ticks\":\"\"}}}],\"bar\":[{\"error_x\":{\"color\":\"#f2f5fa\"},\"error_y\":{\"color\":\"#f2f5fa\"},\"marker\":{\"line\":{\"color\":\"rgb(17,17,17)\",\"width\":0.5},\"pattern\":{\"fillmode\":\"overlay\",\"size\":10,\"solidity\":0.2}},\"type\":\"bar\"}],\"scattergeo\":[{\"type\":\"scattergeo\",\"marker\":{\"colorbar\":{\"outlinewidth\":0,\"ticks\":\"\"}}}],\"scatterpolar\":[{\"type\":\"scatterpolar\",\"marker\":{\"colorbar\":{\"outlinewidth\":0,\"ticks\":\"\"}}}],\"histogram\":[{\"marker\":{\"pattern\":{\"fillmode\":\"overlay\",\"size\":10,\"solidity\":0.2}},\"type\":\"histogram\"}],\"scattergl\":[{\"marker\":{\"line\":{\"color\":\"#283442\"}},\"type\":\"scattergl\"}],\"scatter3d\":[{\"type\":\"scatter3d\",\"line\":{\"colorbar\":{\"outlinewidth\":0,\"ticks\":\"\"}},\"marker\":{\"colorbar\":{\"outlinewidth\":0,\"ticks\":\"\"}}}],\"scattermapbox\":[{\"type\":\"scattermapbox\",\"marker\":{\"colorbar\":{\"outlinewidth\":0,\"ticks\":\"\"}}}],\"scatterternary\":[{\"type\":\"scatterternary\",\"marker\":{\"colorbar\":{\"outlinewidth\":0,\"ticks\":\"\"}}}],\"scattercarpet\":[{\"type\":\"scattercarpet\",\"marker\":{\"colorbar\":{\"outlinewidth\":0,\"ticks\":\"\"}}}],\"carpet\":[{\"aaxis\":{\"endlinecolor\":\"#A2B1C6\",\"gridcolor\":\"#506784\",\"linecolor\":\"#506784\",\"minorgridcolor\":\"#506784\",\"startlinecolor\":\"#A2B1C6\"},\"baxis\":{\"endlinecolor\":\"#A2B1C6\",\"gridcolor\":\"#506784\",\"linecolor\":\"#506784\",\"minorgridcolor\":\"#506784\",\"startlinecolor\":\"#A2B1C6\"},\"type\":\"carpet\"}],\"table\":[{\"cells\":{\"fill\":{\"color\":\"#506784\"},\"line\":{\"color\":\"rgb(17,17,17)\"}},\"header\":{\"fill\":{\"color\":\"#2a3f5f\"},\"line\":{\"color\":\"rgb(17,17,17)\"}},\"type\":\"table\"}],\"barpolar\":[{\"marker\":{\"line\":{\"color\":\"rgb(17,17,17)\",\"width\":0.5},\"pattern\":{\"fillmode\":\"overlay\",\"size\":10,\"solidity\":0.2}},\"type\":\"barpolar\"}],\"pie\":[{\"automargin\":true,\"type\":\"pie\"}]},\"layout\":{\"autotypenumbers\":\"strict\",\"colorway\":[\"#636efa\",\"#EF553B\",\"#00cc96\",\"#ab63fa\",\"#FFA15A\",\"#19d3f3\",\"#FF6692\",\"#B6E880\",\"#FF97FF\",\"#FECB52\"],\"font\":{\"color\":\"#f2f5fa\"},\"hovermode\":\"closest\",\"hoverlabel\":{\"align\":\"left\"},\"paper_bgcolor\":\"rgb(17,17,17)\",\"plot_bgcolor\":\"rgb(17,17,17)\",\"polar\":{\"bgcolor\":\"rgb(17,17,17)\",\"angularaxis\":{\"gridcolor\":\"#506784\",\"linecolor\":\"#506784\",\"ticks\":\"\"},\"radialaxis\":{\"gridcolor\":\"#506784\",\"linecolor\":\"#506784\",\"ticks\":\"\"}},\"ternary\":{\"bgcolor\":\"rgb(17,17,17)\",\"aaxis\":{\"gridcolor\":\"#506784\",\"linecolor\":\"#506784\",\"ticks\":\"\"},\"baxis\":{\"gridcolor\":\"#506784\",\"linecolor\":\"#506784\",\"ticks\":\"\"},\"caxis\":{\"gridcolor\":\"#506784\",\"linecolor\":\"#506784\",\"ticks\":\"\"}},\"coloraxis\":{\"colorbar\":{\"outlinewidth\":0,\"ticks\":\"\"}},\"colorscale\":{\"sequential\":[[0.0,\"#0d0887\"],[0.1111111111111111,\"#46039f\"],[0.2222222222222222,\"#7201a8\"],[0.3333333333333333,\"#9c179e\"],[0.4444444444444444,\"#bd3786\"],[0.5555555555555556,\"#d8576b\"],[0.6666666666666666,\"#ed7953\"],[0.7777777777777778,\"#fb9f3a\"],[0.8888888888888888,\"#fdca26\"],[1.0,\"#f0f921\"]],\"sequentialminus\":[[0.0,\"#0d0887\"],[0.1111111111111111,\"#46039f\"],[0.2222222222222222,\"#7201a8\"],[0.3333333333333333,\"#9c179e\"],[0.4444444444444444,\"#bd3786\"],[0.5555555555555556,\"#d8576b\"],[0.6666666666666666,\"#ed7953\"],[0.7777777777777778,\"#fb9f3a\"],[0.8888888888888888,\"#fdca26\"],[1.0,\"#f0f921\"]],\"diverging\":[[0,\"#8e0152\"],[0.1,\"#c51b7d\"],[0.2,\"#de77ae\"],[0.3,\"#f1b6da\"],[0.4,\"#fde0ef\"],[0.5,\"#f7f7f7\"],[0.6,\"#e6f5d0\"],[0.7,\"#b8e186\"],[0.8,\"#7fbc41\"],[0.9,\"#4d9221\"],[1,\"#276419\"]]},\"xaxis\":{\"gridcolor\":\"#283442\",\"linecolor\":\"#506784\",\"ticks\":\"\",\"title\":{\"standoff\":15},\"zerolinecolor\":\"#283442\",\"automargin\":true,\"zerolinewidth\":2},\"yaxis\":{\"gridcolor\":\"#283442\",\"linecolor\":\"#506784\",\"ticks\":\"\",\"title\":{\"standoff\":15},\"zerolinecolor\":\"#283442\",\"automargin\":true,\"zerolinewidth\":2},\"scene\":{\"xaxis\":{\"backgroundcolor\":\"rgb(17,17,17)\",\"gridcolor\":\"#506784\",\"linecolor\":\"#506784\",\"showbackground\":true,\"ticks\":\"\",\"zerolinecolor\":\"#C8D4E3\",\"gridwidth\":2},\"yaxis\":{\"backgroundcolor\":\"rgb(17,17,17)\",\"gridcolor\":\"#506784\",\"linecolor\":\"#506784\",\"showbackground\":true,\"ticks\":\"\",\"zerolinecolor\":\"#C8D4E3\",\"gridwidth\":2},\"zaxis\":{\"backgroundcolor\":\"rgb(17,17,17)\",\"gridcolor\":\"#506784\",\"linecolor\":\"#506784\",\"showbackground\":true,\"ticks\":\"\",\"zerolinecolor\":\"#C8D4E3\",\"gridwidth\":2}},\"shapedefaults\":{\"line\":{\"color\":\"#f2f5fa\"}},\"annotationdefaults\":{\"arrowcolor\":\"#f2f5fa\",\"arrowhead\":0,\"arrowwidth\":1},\"geo\":{\"bgcolor\":\"rgb(17,17,17)\",\"landcolor\":\"rgb(17,17,17)\",\"subunitcolor\":\"#506784\",\"showland\":true,\"showlakes\":true,\"lakecolor\":\"rgb(17,17,17)\"},\"title\":{\"x\":0.05},\"updatemenudefaults\":{\"bgcolor\":\"#506784\",\"borderwidth\":0},\"sliderdefaults\":{\"bgcolor\":\"#C8D4E3\",\"borderwidth\":1,\"bordercolor\":\"rgb(17,17,17)\",\"tickwidth\":0},\"mapbox\":{\"style\":\"dark\"}}},\"xaxis\":{\"anchor\":\"y\",\"domain\":[0.0,1.0],\"scaleanchor\":\"y\",\"constrain\":\"domain\"},\"yaxis\":{\"anchor\":\"x\",\"domain\":[0.0,1.0],\"autorange\":\"reversed\",\"constrain\":\"domain\"},\"coloraxis\":{\"colorscale\":[[0.0,\"#0d0887\"],[0.1111111111111111,\"#46039f\"],[0.2222222222222222,\"#7201a8\"],[0.3333333333333333,\"#9c179e\"],[0.4444444444444444,\"#bd3786\"],[0.5555555555555556,\"#d8576b\"],[0.6666666666666666,\"#ed7953\"],[0.7777777777777778,\"#fb9f3a\"],[0.8888888888888888,\"#fdca26\"],[1.0,\"#f0f921\"]]},\"title\":{\"text\":\"Correlation Heatmap of Numerical Features\"}},                        {\"responsive\": true}                    ).then(function(){\n",
       "                            \n",
       "var gd = document.getElementById('2bc16580-839c-430b-93d6-ab3c25fdfdf0');\n",
       "var x = new MutationObserver(function (mutations, observer) {{\n",
       "        var display = window.getComputedStyle(gd).display;\n",
       "        if (!display || display === 'none') {{\n",
       "            console.log([gd, 'removed!']);\n",
       "            Plotly.purge(gd);\n",
       "            observer.disconnect();\n",
       "        }}\n",
       "}});\n",
       "\n",
       "// Listen for the removal of the full notebook cells\n",
       "var notebookContainer = gd.closest('#notebook-container');\n",
       "if (notebookContainer) {{\n",
       "    x.observe(notebookContainer, {childList: true});\n",
       "}}\n",
       "\n",
       "// Listen for the clearing of the current output cell\n",
       "var outputEl = gd.closest('.output');\n",
       "if (outputEl) {{\n",
       "    x.observe(outputEl, {childList: true});\n",
       "}}\n",
       "\n",
       "                        })                };                });            </script>        </div>"
      ]
     },
     "metadata": {},
     "output_type": "display_data"
    }
   ],
   "execution_count": 102
  },
  {
   "metadata": {},
   "cell_type": "markdown",
   "source": "This bar chart displays the average IMDB rating by movie certificate. It reveals how different certificates correlate with the average ratings of the movies, which can be useful for understanding the audience’s preferences.",
   "id": "8e43cda5a0e6f4ec"
  },
  {
   "metadata": {
    "ExecuteTime": {
     "end_time": "2025-04-03T14:34:37.189881Z",
     "start_time": "2025-04-03T14:34:37.156656Z"
    }
   },
   "cell_type": "code",
   "source": [
    "import plotly.express as px\n",
    "\n",
    "# Calculate average IMDB rating by certificate\n",
    "df_certificate_rating = df.groupby('Certificate')['IMDB_Rating'].mean().reset_index()\n",
    "\n",
    "# Create a bar chart\n",
    "fig = px.bar(df_certificate_rating, x='Certificate', y='IMDB_Rating', title='Average IMDB Rating by Certificate')\n",
    "fig.show()\n"
   ],
   "id": "2dd4aef9faeb6908",
   "outputs": [
    {
     "data": {
      "application/vnd.plotly.v1+json": {
       "data": [
        {
         "alignmentgroup": "True",
         "hovertemplate": "Certificate=%{x}<br>IMDB_Rating=%{y}<extra></extra>",
         "legendgroup": "",
         "marker": {
          "color": "#636efa",
          "pattern": {
           "shape": ""
          }
         },
         "name": "",
         "offsetgroup": "",
         "orientation": "v",
         "showlegend": false,
         "textposition": "auto",
         "x": [
          "a",
          "approved",
          "g",
          "pg",
          "pg13",
          "r",
          "u",
          "ua",
          "unknown"
         ],
         "xaxis": "x",
         "y": [
          7.998984771573604,
          8.002222222222223,
          8.0,
          7.921428571428571,
          7.8090909090909095,
          7.872972972972973,
          7.976923076923076,
          7.955113636363635,
          7.933333333333334
         ],
         "yaxis": "y",
         "type": "bar"
        }
       ],
       "layout": {
        "template": {
         "data": {
          "histogram2dcontour": [
           {
            "type": "histogram2dcontour",
            "colorbar": {
             "outlinewidth": 0,
             "ticks": ""
            },
            "colorscale": [
             [
              0.0,
              "#0d0887"
             ],
             [
              0.1111111111111111,
              "#46039f"
             ],
             [
              0.2222222222222222,
              "#7201a8"
             ],
             [
              0.3333333333333333,
              "#9c179e"
             ],
             [
              0.4444444444444444,
              "#bd3786"
             ],
             [
              0.5555555555555556,
              "#d8576b"
             ],
             [
              0.6666666666666666,
              "#ed7953"
             ],
             [
              0.7777777777777778,
              "#fb9f3a"
             ],
             [
              0.8888888888888888,
              "#fdca26"
             ],
             [
              1.0,
              "#f0f921"
             ]
            ]
           }
          ],
          "choropleth": [
           {
            "type": "choropleth",
            "colorbar": {
             "outlinewidth": 0,
             "ticks": ""
            }
           }
          ],
          "histogram2d": [
           {
            "type": "histogram2d",
            "colorbar": {
             "outlinewidth": 0,
             "ticks": ""
            },
            "colorscale": [
             [
              0.0,
              "#0d0887"
             ],
             [
              0.1111111111111111,
              "#46039f"
             ],
             [
              0.2222222222222222,
              "#7201a8"
             ],
             [
              0.3333333333333333,
              "#9c179e"
             ],
             [
              0.4444444444444444,
              "#bd3786"
             ],
             [
              0.5555555555555556,
              "#d8576b"
             ],
             [
              0.6666666666666666,
              "#ed7953"
             ],
             [
              0.7777777777777778,
              "#fb9f3a"
             ],
             [
              0.8888888888888888,
              "#fdca26"
             ],
             [
              1.0,
              "#f0f921"
             ]
            ]
           }
          ],
          "heatmap": [
           {
            "type": "heatmap",
            "colorbar": {
             "outlinewidth": 0,
             "ticks": ""
            },
            "colorscale": [
             [
              0.0,
              "#0d0887"
             ],
             [
              0.1111111111111111,
              "#46039f"
             ],
             [
              0.2222222222222222,
              "#7201a8"
             ],
             [
              0.3333333333333333,
              "#9c179e"
             ],
             [
              0.4444444444444444,
              "#bd3786"
             ],
             [
              0.5555555555555556,
              "#d8576b"
             ],
             [
              0.6666666666666666,
              "#ed7953"
             ],
             [
              0.7777777777777778,
              "#fb9f3a"
             ],
             [
              0.8888888888888888,
              "#fdca26"
             ],
             [
              1.0,
              "#f0f921"
             ]
            ]
           }
          ],
          "heatmapgl": [
           {
            "type": "heatmapgl",
            "colorbar": {
             "outlinewidth": 0,
             "ticks": ""
            },
            "colorscale": [
             [
              0.0,
              "#0d0887"
             ],
             [
              0.1111111111111111,
              "#46039f"
             ],
             [
              0.2222222222222222,
              "#7201a8"
             ],
             [
              0.3333333333333333,
              "#9c179e"
             ],
             [
              0.4444444444444444,
              "#bd3786"
             ],
             [
              0.5555555555555556,
              "#d8576b"
             ],
             [
              0.6666666666666666,
              "#ed7953"
             ],
             [
              0.7777777777777778,
              "#fb9f3a"
             ],
             [
              0.8888888888888888,
              "#fdca26"
             ],
             [
              1.0,
              "#f0f921"
             ]
            ]
           }
          ],
          "contourcarpet": [
           {
            "type": "contourcarpet",
            "colorbar": {
             "outlinewidth": 0,
             "ticks": ""
            }
           }
          ],
          "contour": [
           {
            "type": "contour",
            "colorbar": {
             "outlinewidth": 0,
             "ticks": ""
            },
            "colorscale": [
             [
              0.0,
              "#0d0887"
             ],
             [
              0.1111111111111111,
              "#46039f"
             ],
             [
              0.2222222222222222,
              "#7201a8"
             ],
             [
              0.3333333333333333,
              "#9c179e"
             ],
             [
              0.4444444444444444,
              "#bd3786"
             ],
             [
              0.5555555555555556,
              "#d8576b"
             ],
             [
              0.6666666666666666,
              "#ed7953"
             ],
             [
              0.7777777777777778,
              "#fb9f3a"
             ],
             [
              0.8888888888888888,
              "#fdca26"
             ],
             [
              1.0,
              "#f0f921"
             ]
            ]
           }
          ],
          "surface": [
           {
            "type": "surface",
            "colorbar": {
             "outlinewidth": 0,
             "ticks": ""
            },
            "colorscale": [
             [
              0.0,
              "#0d0887"
             ],
             [
              0.1111111111111111,
              "#46039f"
             ],
             [
              0.2222222222222222,
              "#7201a8"
             ],
             [
              0.3333333333333333,
              "#9c179e"
             ],
             [
              0.4444444444444444,
              "#bd3786"
             ],
             [
              0.5555555555555556,
              "#d8576b"
             ],
             [
              0.6666666666666666,
              "#ed7953"
             ],
             [
              0.7777777777777778,
              "#fb9f3a"
             ],
             [
              0.8888888888888888,
              "#fdca26"
             ],
             [
              1.0,
              "#f0f921"
             ]
            ]
           }
          ],
          "mesh3d": [
           {
            "type": "mesh3d",
            "colorbar": {
             "outlinewidth": 0,
             "ticks": ""
            }
           }
          ],
          "scatter": [
           {
            "marker": {
             "line": {
              "color": "#283442"
             }
            },
            "type": "scatter"
           }
          ],
          "parcoords": [
           {
            "type": "parcoords",
            "line": {
             "colorbar": {
              "outlinewidth": 0,
              "ticks": ""
             }
            }
           }
          ],
          "scatterpolargl": [
           {
            "type": "scatterpolargl",
            "marker": {
             "colorbar": {
              "outlinewidth": 0,
              "ticks": ""
             }
            }
           }
          ],
          "bar": [
           {
            "error_x": {
             "color": "#f2f5fa"
            },
            "error_y": {
             "color": "#f2f5fa"
            },
            "marker": {
             "line": {
              "color": "rgb(17,17,17)",
              "width": 0.5
             },
             "pattern": {
              "fillmode": "overlay",
              "size": 10,
              "solidity": 0.2
             }
            },
            "type": "bar"
           }
          ],
          "scattergeo": [
           {
            "type": "scattergeo",
            "marker": {
             "colorbar": {
              "outlinewidth": 0,
              "ticks": ""
             }
            }
           }
          ],
          "scatterpolar": [
           {
            "type": "scatterpolar",
            "marker": {
             "colorbar": {
              "outlinewidth": 0,
              "ticks": ""
             }
            }
           }
          ],
          "histogram": [
           {
            "marker": {
             "pattern": {
              "fillmode": "overlay",
              "size": 10,
              "solidity": 0.2
             }
            },
            "type": "histogram"
           }
          ],
          "scattergl": [
           {
            "marker": {
             "line": {
              "color": "#283442"
             }
            },
            "type": "scattergl"
           }
          ],
          "scatter3d": [
           {
            "type": "scatter3d",
            "line": {
             "colorbar": {
              "outlinewidth": 0,
              "ticks": ""
             }
            },
            "marker": {
             "colorbar": {
              "outlinewidth": 0,
              "ticks": ""
             }
            }
           }
          ],
          "scattermapbox": [
           {
            "type": "scattermapbox",
            "marker": {
             "colorbar": {
              "outlinewidth": 0,
              "ticks": ""
             }
            }
           }
          ],
          "scatterternary": [
           {
            "type": "scatterternary",
            "marker": {
             "colorbar": {
              "outlinewidth": 0,
              "ticks": ""
             }
            }
           }
          ],
          "scattercarpet": [
           {
            "type": "scattercarpet",
            "marker": {
             "colorbar": {
              "outlinewidth": 0,
              "ticks": ""
             }
            }
           }
          ],
          "carpet": [
           {
            "aaxis": {
             "endlinecolor": "#A2B1C6",
             "gridcolor": "#506784",
             "linecolor": "#506784",
             "minorgridcolor": "#506784",
             "startlinecolor": "#A2B1C6"
            },
            "baxis": {
             "endlinecolor": "#A2B1C6",
             "gridcolor": "#506784",
             "linecolor": "#506784",
             "minorgridcolor": "#506784",
             "startlinecolor": "#A2B1C6"
            },
            "type": "carpet"
           }
          ],
          "table": [
           {
            "cells": {
             "fill": {
              "color": "#506784"
             },
             "line": {
              "color": "rgb(17,17,17)"
             }
            },
            "header": {
             "fill": {
              "color": "#2a3f5f"
             },
             "line": {
              "color": "rgb(17,17,17)"
             }
            },
            "type": "table"
           }
          ],
          "barpolar": [
           {
            "marker": {
             "line": {
              "color": "rgb(17,17,17)",
              "width": 0.5
             },
             "pattern": {
              "fillmode": "overlay",
              "size": 10,
              "solidity": 0.2
             }
            },
            "type": "barpolar"
           }
          ],
          "pie": [
           {
            "automargin": true,
            "type": "pie"
           }
          ]
         },
         "layout": {
          "autotypenumbers": "strict",
          "colorway": [
           "#636efa",
           "#EF553B",
           "#00cc96",
           "#ab63fa",
           "#FFA15A",
           "#19d3f3",
           "#FF6692",
           "#B6E880",
           "#FF97FF",
           "#FECB52"
          ],
          "font": {
           "color": "#f2f5fa"
          },
          "hovermode": "closest",
          "hoverlabel": {
           "align": "left"
          },
          "paper_bgcolor": "rgb(17,17,17)",
          "plot_bgcolor": "rgb(17,17,17)",
          "polar": {
           "bgcolor": "rgb(17,17,17)",
           "angularaxis": {
            "gridcolor": "#506784",
            "linecolor": "#506784",
            "ticks": ""
           },
           "radialaxis": {
            "gridcolor": "#506784",
            "linecolor": "#506784",
            "ticks": ""
           }
          },
          "ternary": {
           "bgcolor": "rgb(17,17,17)",
           "aaxis": {
            "gridcolor": "#506784",
            "linecolor": "#506784",
            "ticks": ""
           },
           "baxis": {
            "gridcolor": "#506784",
            "linecolor": "#506784",
            "ticks": ""
           },
           "caxis": {
            "gridcolor": "#506784",
            "linecolor": "#506784",
            "ticks": ""
           }
          },
          "coloraxis": {
           "colorbar": {
            "outlinewidth": 0,
            "ticks": ""
           }
          },
          "colorscale": {
           "sequential": [
            [
             0.0,
             "#0d0887"
            ],
            [
             0.1111111111111111,
             "#46039f"
            ],
            [
             0.2222222222222222,
             "#7201a8"
            ],
            [
             0.3333333333333333,
             "#9c179e"
            ],
            [
             0.4444444444444444,
             "#bd3786"
            ],
            [
             0.5555555555555556,
             "#d8576b"
            ],
            [
             0.6666666666666666,
             "#ed7953"
            ],
            [
             0.7777777777777778,
             "#fb9f3a"
            ],
            [
             0.8888888888888888,
             "#fdca26"
            ],
            [
             1.0,
             "#f0f921"
            ]
           ],
           "sequentialminus": [
            [
             0.0,
             "#0d0887"
            ],
            [
             0.1111111111111111,
             "#46039f"
            ],
            [
             0.2222222222222222,
             "#7201a8"
            ],
            [
             0.3333333333333333,
             "#9c179e"
            ],
            [
             0.4444444444444444,
             "#bd3786"
            ],
            [
             0.5555555555555556,
             "#d8576b"
            ],
            [
             0.6666666666666666,
             "#ed7953"
            ],
            [
             0.7777777777777778,
             "#fb9f3a"
            ],
            [
             0.8888888888888888,
             "#fdca26"
            ],
            [
             1.0,
             "#f0f921"
            ]
           ],
           "diverging": [
            [
             0,
             "#8e0152"
            ],
            [
             0.1,
             "#c51b7d"
            ],
            [
             0.2,
             "#de77ae"
            ],
            [
             0.3,
             "#f1b6da"
            ],
            [
             0.4,
             "#fde0ef"
            ],
            [
             0.5,
             "#f7f7f7"
            ],
            [
             0.6,
             "#e6f5d0"
            ],
            [
             0.7,
             "#b8e186"
            ],
            [
             0.8,
             "#7fbc41"
            ],
            [
             0.9,
             "#4d9221"
            ],
            [
             1,
             "#276419"
            ]
           ]
          },
          "xaxis": {
           "gridcolor": "#283442",
           "linecolor": "#506784",
           "ticks": "",
           "title": {
            "standoff": 15
           },
           "zerolinecolor": "#283442",
           "automargin": true,
           "zerolinewidth": 2
          },
          "yaxis": {
           "gridcolor": "#283442",
           "linecolor": "#506784",
           "ticks": "",
           "title": {
            "standoff": 15
           },
           "zerolinecolor": "#283442",
           "automargin": true,
           "zerolinewidth": 2
          },
          "scene": {
           "xaxis": {
            "backgroundcolor": "rgb(17,17,17)",
            "gridcolor": "#506784",
            "linecolor": "#506784",
            "showbackground": true,
            "ticks": "",
            "zerolinecolor": "#C8D4E3",
            "gridwidth": 2
           },
           "yaxis": {
            "backgroundcolor": "rgb(17,17,17)",
            "gridcolor": "#506784",
            "linecolor": "#506784",
            "showbackground": true,
            "ticks": "",
            "zerolinecolor": "#C8D4E3",
            "gridwidth": 2
           },
           "zaxis": {
            "backgroundcolor": "rgb(17,17,17)",
            "gridcolor": "#506784",
            "linecolor": "#506784",
            "showbackground": true,
            "ticks": "",
            "zerolinecolor": "#C8D4E3",
            "gridwidth": 2
           }
          },
          "shapedefaults": {
           "line": {
            "color": "#f2f5fa"
           }
          },
          "annotationdefaults": {
           "arrowcolor": "#f2f5fa",
           "arrowhead": 0,
           "arrowwidth": 1
          },
          "geo": {
           "bgcolor": "rgb(17,17,17)",
           "landcolor": "rgb(17,17,17)",
           "subunitcolor": "#506784",
           "showland": true,
           "showlakes": true,
           "lakecolor": "rgb(17,17,17)"
          },
          "title": {
           "x": 0.05
          },
          "updatemenudefaults": {
           "bgcolor": "#506784",
           "borderwidth": 0
          },
          "sliderdefaults": {
           "bgcolor": "#C8D4E3",
           "borderwidth": 1,
           "bordercolor": "rgb(17,17,17)",
           "tickwidth": 0
          },
          "mapbox": {
           "style": "dark"
          }
         }
        },
        "xaxis": {
         "anchor": "y",
         "domain": [
          0.0,
          1.0
         ],
         "title": {
          "text": "Certificate"
         }
        },
        "yaxis": {
         "anchor": "x",
         "domain": [
          0.0,
          1.0
         ],
         "title": {
          "text": "IMDB_Rating"
         }
        },
        "legend": {
         "tracegroupgap": 0
        },
        "title": {
         "text": "Average IMDB Rating by Certificate"
        },
        "barmode": "relative"
       },
       "config": {
        "plotlyServerURL": "https://plot.ly"
       }
      },
      "text/html": [
       "<div>                            <div id=\"e334e8c5-1168-4126-8022-2bd425ee0a85\" class=\"plotly-graph-div\" style=\"height:525px; width:100%;\"></div>            <script type=\"text/javascript\">                require([\"plotly\"], function(Plotly) {                    window.PLOTLYENV=window.PLOTLYENV || {};                                    if (document.getElementById(\"e334e8c5-1168-4126-8022-2bd425ee0a85\")) {                    Plotly.newPlot(                        \"e334e8c5-1168-4126-8022-2bd425ee0a85\",                        [{\"alignmentgroup\":\"True\",\"hovertemplate\":\"Certificate=%{x}\\u003cbr\\u003eIMDB_Rating=%{y}\\u003cextra\\u003e\\u003c\\u002fextra\\u003e\",\"legendgroup\":\"\",\"marker\":{\"color\":\"#636efa\",\"pattern\":{\"shape\":\"\"}},\"name\":\"\",\"offsetgroup\":\"\",\"orientation\":\"v\",\"showlegend\":false,\"textposition\":\"auto\",\"x\":[\"a\",\"approved\",\"g\",\"pg\",\"pg13\",\"r\",\"u\",\"ua\",\"unknown\"],\"xaxis\":\"x\",\"y\":[7.998984771573604,8.002222222222223,8.0,7.921428571428571,7.8090909090909095,7.872972972972973,7.976923076923076,7.955113636363635,7.933333333333334],\"yaxis\":\"y\",\"type\":\"bar\"}],                        {\"template\":{\"data\":{\"histogram2dcontour\":[{\"type\":\"histogram2dcontour\",\"colorbar\":{\"outlinewidth\":0,\"ticks\":\"\"},\"colorscale\":[[0.0,\"#0d0887\"],[0.1111111111111111,\"#46039f\"],[0.2222222222222222,\"#7201a8\"],[0.3333333333333333,\"#9c179e\"],[0.4444444444444444,\"#bd3786\"],[0.5555555555555556,\"#d8576b\"],[0.6666666666666666,\"#ed7953\"],[0.7777777777777778,\"#fb9f3a\"],[0.8888888888888888,\"#fdca26\"],[1.0,\"#f0f921\"]]}],\"choropleth\":[{\"type\":\"choropleth\",\"colorbar\":{\"outlinewidth\":0,\"ticks\":\"\"}}],\"histogram2d\":[{\"type\":\"histogram2d\",\"colorbar\":{\"outlinewidth\":0,\"ticks\":\"\"},\"colorscale\":[[0.0,\"#0d0887\"],[0.1111111111111111,\"#46039f\"],[0.2222222222222222,\"#7201a8\"],[0.3333333333333333,\"#9c179e\"],[0.4444444444444444,\"#bd3786\"],[0.5555555555555556,\"#d8576b\"],[0.6666666666666666,\"#ed7953\"],[0.7777777777777778,\"#fb9f3a\"],[0.8888888888888888,\"#fdca26\"],[1.0,\"#f0f921\"]]}],\"heatmap\":[{\"type\":\"heatmap\",\"colorbar\":{\"outlinewidth\":0,\"ticks\":\"\"},\"colorscale\":[[0.0,\"#0d0887\"],[0.1111111111111111,\"#46039f\"],[0.2222222222222222,\"#7201a8\"],[0.3333333333333333,\"#9c179e\"],[0.4444444444444444,\"#bd3786\"],[0.5555555555555556,\"#d8576b\"],[0.6666666666666666,\"#ed7953\"],[0.7777777777777778,\"#fb9f3a\"],[0.8888888888888888,\"#fdca26\"],[1.0,\"#f0f921\"]]}],\"heatmapgl\":[{\"type\":\"heatmapgl\",\"colorbar\":{\"outlinewidth\":0,\"ticks\":\"\"},\"colorscale\":[[0.0,\"#0d0887\"],[0.1111111111111111,\"#46039f\"],[0.2222222222222222,\"#7201a8\"],[0.3333333333333333,\"#9c179e\"],[0.4444444444444444,\"#bd3786\"],[0.5555555555555556,\"#d8576b\"],[0.6666666666666666,\"#ed7953\"],[0.7777777777777778,\"#fb9f3a\"],[0.8888888888888888,\"#fdca26\"],[1.0,\"#f0f921\"]]}],\"contourcarpet\":[{\"type\":\"contourcarpet\",\"colorbar\":{\"outlinewidth\":0,\"ticks\":\"\"}}],\"contour\":[{\"type\":\"contour\",\"colorbar\":{\"outlinewidth\":0,\"ticks\":\"\"},\"colorscale\":[[0.0,\"#0d0887\"],[0.1111111111111111,\"#46039f\"],[0.2222222222222222,\"#7201a8\"],[0.3333333333333333,\"#9c179e\"],[0.4444444444444444,\"#bd3786\"],[0.5555555555555556,\"#d8576b\"],[0.6666666666666666,\"#ed7953\"],[0.7777777777777778,\"#fb9f3a\"],[0.8888888888888888,\"#fdca26\"],[1.0,\"#f0f921\"]]}],\"surface\":[{\"type\":\"surface\",\"colorbar\":{\"outlinewidth\":0,\"ticks\":\"\"},\"colorscale\":[[0.0,\"#0d0887\"],[0.1111111111111111,\"#46039f\"],[0.2222222222222222,\"#7201a8\"],[0.3333333333333333,\"#9c179e\"],[0.4444444444444444,\"#bd3786\"],[0.5555555555555556,\"#d8576b\"],[0.6666666666666666,\"#ed7953\"],[0.7777777777777778,\"#fb9f3a\"],[0.8888888888888888,\"#fdca26\"],[1.0,\"#f0f921\"]]}],\"mesh3d\":[{\"type\":\"mesh3d\",\"colorbar\":{\"outlinewidth\":0,\"ticks\":\"\"}}],\"scatter\":[{\"marker\":{\"line\":{\"color\":\"#283442\"}},\"type\":\"scatter\"}],\"parcoords\":[{\"type\":\"parcoords\",\"line\":{\"colorbar\":{\"outlinewidth\":0,\"ticks\":\"\"}}}],\"scatterpolargl\":[{\"type\":\"scatterpolargl\",\"marker\":{\"colorbar\":{\"outlinewidth\":0,\"ticks\":\"\"}}}],\"bar\":[{\"error_x\":{\"color\":\"#f2f5fa\"},\"error_y\":{\"color\":\"#f2f5fa\"},\"marker\":{\"line\":{\"color\":\"rgb(17,17,17)\",\"width\":0.5},\"pattern\":{\"fillmode\":\"overlay\",\"size\":10,\"solidity\":0.2}},\"type\":\"bar\"}],\"scattergeo\":[{\"type\":\"scattergeo\",\"marker\":{\"colorbar\":{\"outlinewidth\":0,\"ticks\":\"\"}}}],\"scatterpolar\":[{\"type\":\"scatterpolar\",\"marker\":{\"colorbar\":{\"outlinewidth\":0,\"ticks\":\"\"}}}],\"histogram\":[{\"marker\":{\"pattern\":{\"fillmode\":\"overlay\",\"size\":10,\"solidity\":0.2}},\"type\":\"histogram\"}],\"scattergl\":[{\"marker\":{\"line\":{\"color\":\"#283442\"}},\"type\":\"scattergl\"}],\"scatter3d\":[{\"type\":\"scatter3d\",\"line\":{\"colorbar\":{\"outlinewidth\":0,\"ticks\":\"\"}},\"marker\":{\"colorbar\":{\"outlinewidth\":0,\"ticks\":\"\"}}}],\"scattermapbox\":[{\"type\":\"scattermapbox\",\"marker\":{\"colorbar\":{\"outlinewidth\":0,\"ticks\":\"\"}}}],\"scatterternary\":[{\"type\":\"scatterternary\",\"marker\":{\"colorbar\":{\"outlinewidth\":0,\"ticks\":\"\"}}}],\"scattercarpet\":[{\"type\":\"scattercarpet\",\"marker\":{\"colorbar\":{\"outlinewidth\":0,\"ticks\":\"\"}}}],\"carpet\":[{\"aaxis\":{\"endlinecolor\":\"#A2B1C6\",\"gridcolor\":\"#506784\",\"linecolor\":\"#506784\",\"minorgridcolor\":\"#506784\",\"startlinecolor\":\"#A2B1C6\"},\"baxis\":{\"endlinecolor\":\"#A2B1C6\",\"gridcolor\":\"#506784\",\"linecolor\":\"#506784\",\"minorgridcolor\":\"#506784\",\"startlinecolor\":\"#A2B1C6\"},\"type\":\"carpet\"}],\"table\":[{\"cells\":{\"fill\":{\"color\":\"#506784\"},\"line\":{\"color\":\"rgb(17,17,17)\"}},\"header\":{\"fill\":{\"color\":\"#2a3f5f\"},\"line\":{\"color\":\"rgb(17,17,17)\"}},\"type\":\"table\"}],\"barpolar\":[{\"marker\":{\"line\":{\"color\":\"rgb(17,17,17)\",\"width\":0.5},\"pattern\":{\"fillmode\":\"overlay\",\"size\":10,\"solidity\":0.2}},\"type\":\"barpolar\"}],\"pie\":[{\"automargin\":true,\"type\":\"pie\"}]},\"layout\":{\"autotypenumbers\":\"strict\",\"colorway\":[\"#636efa\",\"#EF553B\",\"#00cc96\",\"#ab63fa\",\"#FFA15A\",\"#19d3f3\",\"#FF6692\",\"#B6E880\",\"#FF97FF\",\"#FECB52\"],\"font\":{\"color\":\"#f2f5fa\"},\"hovermode\":\"closest\",\"hoverlabel\":{\"align\":\"left\"},\"paper_bgcolor\":\"rgb(17,17,17)\",\"plot_bgcolor\":\"rgb(17,17,17)\",\"polar\":{\"bgcolor\":\"rgb(17,17,17)\",\"angularaxis\":{\"gridcolor\":\"#506784\",\"linecolor\":\"#506784\",\"ticks\":\"\"},\"radialaxis\":{\"gridcolor\":\"#506784\",\"linecolor\":\"#506784\",\"ticks\":\"\"}},\"ternary\":{\"bgcolor\":\"rgb(17,17,17)\",\"aaxis\":{\"gridcolor\":\"#506784\",\"linecolor\":\"#506784\",\"ticks\":\"\"},\"baxis\":{\"gridcolor\":\"#506784\",\"linecolor\":\"#506784\",\"ticks\":\"\"},\"caxis\":{\"gridcolor\":\"#506784\",\"linecolor\":\"#506784\",\"ticks\":\"\"}},\"coloraxis\":{\"colorbar\":{\"outlinewidth\":0,\"ticks\":\"\"}},\"colorscale\":{\"sequential\":[[0.0,\"#0d0887\"],[0.1111111111111111,\"#46039f\"],[0.2222222222222222,\"#7201a8\"],[0.3333333333333333,\"#9c179e\"],[0.4444444444444444,\"#bd3786\"],[0.5555555555555556,\"#d8576b\"],[0.6666666666666666,\"#ed7953\"],[0.7777777777777778,\"#fb9f3a\"],[0.8888888888888888,\"#fdca26\"],[1.0,\"#f0f921\"]],\"sequentialminus\":[[0.0,\"#0d0887\"],[0.1111111111111111,\"#46039f\"],[0.2222222222222222,\"#7201a8\"],[0.3333333333333333,\"#9c179e\"],[0.4444444444444444,\"#bd3786\"],[0.5555555555555556,\"#d8576b\"],[0.6666666666666666,\"#ed7953\"],[0.7777777777777778,\"#fb9f3a\"],[0.8888888888888888,\"#fdca26\"],[1.0,\"#f0f921\"]],\"diverging\":[[0,\"#8e0152\"],[0.1,\"#c51b7d\"],[0.2,\"#de77ae\"],[0.3,\"#f1b6da\"],[0.4,\"#fde0ef\"],[0.5,\"#f7f7f7\"],[0.6,\"#e6f5d0\"],[0.7,\"#b8e186\"],[0.8,\"#7fbc41\"],[0.9,\"#4d9221\"],[1,\"#276419\"]]},\"xaxis\":{\"gridcolor\":\"#283442\",\"linecolor\":\"#506784\",\"ticks\":\"\",\"title\":{\"standoff\":15},\"zerolinecolor\":\"#283442\",\"automargin\":true,\"zerolinewidth\":2},\"yaxis\":{\"gridcolor\":\"#283442\",\"linecolor\":\"#506784\",\"ticks\":\"\",\"title\":{\"standoff\":15},\"zerolinecolor\":\"#283442\",\"automargin\":true,\"zerolinewidth\":2},\"scene\":{\"xaxis\":{\"backgroundcolor\":\"rgb(17,17,17)\",\"gridcolor\":\"#506784\",\"linecolor\":\"#506784\",\"showbackground\":true,\"ticks\":\"\",\"zerolinecolor\":\"#C8D4E3\",\"gridwidth\":2},\"yaxis\":{\"backgroundcolor\":\"rgb(17,17,17)\",\"gridcolor\":\"#506784\",\"linecolor\":\"#506784\",\"showbackground\":true,\"ticks\":\"\",\"zerolinecolor\":\"#C8D4E3\",\"gridwidth\":2},\"zaxis\":{\"backgroundcolor\":\"rgb(17,17,17)\",\"gridcolor\":\"#506784\",\"linecolor\":\"#506784\",\"showbackground\":true,\"ticks\":\"\",\"zerolinecolor\":\"#C8D4E3\",\"gridwidth\":2}},\"shapedefaults\":{\"line\":{\"color\":\"#f2f5fa\"}},\"annotationdefaults\":{\"arrowcolor\":\"#f2f5fa\",\"arrowhead\":0,\"arrowwidth\":1},\"geo\":{\"bgcolor\":\"rgb(17,17,17)\",\"landcolor\":\"rgb(17,17,17)\",\"subunitcolor\":\"#506784\",\"showland\":true,\"showlakes\":true,\"lakecolor\":\"rgb(17,17,17)\"},\"title\":{\"x\":0.05},\"updatemenudefaults\":{\"bgcolor\":\"#506784\",\"borderwidth\":0},\"sliderdefaults\":{\"bgcolor\":\"#C8D4E3\",\"borderwidth\":1,\"bordercolor\":\"rgb(17,17,17)\",\"tickwidth\":0},\"mapbox\":{\"style\":\"dark\"}}},\"xaxis\":{\"anchor\":\"y\",\"domain\":[0.0,1.0],\"title\":{\"text\":\"Certificate\"}},\"yaxis\":{\"anchor\":\"x\",\"domain\":[0.0,1.0],\"title\":{\"text\":\"IMDB_Rating\"}},\"legend\":{\"tracegroupgap\":0},\"title\":{\"text\":\"Average IMDB Rating by Certificate\"},\"barmode\":\"relative\"},                        {\"responsive\": true}                    ).then(function(){\n",
       "                            \n",
       "var gd = document.getElementById('e334e8c5-1168-4126-8022-2bd425ee0a85');\n",
       "var x = new MutationObserver(function (mutations, observer) {{\n",
       "        var display = window.getComputedStyle(gd).display;\n",
       "        if (!display || display === 'none') {{\n",
       "            console.log([gd, 'removed!']);\n",
       "            Plotly.purge(gd);\n",
       "            observer.disconnect();\n",
       "        }}\n",
       "}});\n",
       "\n",
       "// Listen for the removal of the full notebook cells\n",
       "var notebookContainer = gd.closest('#notebook-container');\n",
       "if (notebookContainer) {{\n",
       "    x.observe(notebookContainer, {childList: true});\n",
       "}}\n",
       "\n",
       "// Listen for the clearing of the current output cell\n",
       "var outputEl = gd.closest('.output');\n",
       "if (outputEl) {{\n",
       "    x.observe(outputEl, {childList: true});\n",
       "}}\n",
       "\n",
       "                        })                };                });            </script>        </div>"
      ]
     },
     "metadata": {},
     "output_type": "display_data"
    }
   ],
   "execution_count": 103
  },
  {
   "metadata": {},
   "cell_type": "markdown",
   "source": "This line plot tracks the popularity of various genres over the years. By analyzing the data, we can identify which genres have gained or lost popularity over time, providing insights into changing audience tastes.",
   "id": "a26d9b27b19ee0ec"
  },
  {
   "metadata": {
    "ExecuteTime": {
     "end_time": "2025-04-03T14:34:37.298792Z",
     "start_time": "2025-04-03T14:34:37.227696Z"
    }
   },
   "cell_type": "code",
   "source": [
    "import plotly.express as px\n",
    "\n",
    "# Melt the dataframe to have one genre per row\n",
    "df_melted = df.melt(id_vars=['Released_Year'], value_vars=mlb.classes_, var_name='Genre', value_name='Present')\n",
    "df_genre_year = df_melted[df_melted['Present'] == 1].groupby(['Released_Year', 'Genre']).size().reset_index(name='Count')\n",
    "\n",
    "# Create a line plot\n",
    "fig = px.line(df_genre_year, x='Released_Year', y='Count', color='Genre', title='Genre Popularity Over Time')\n",
    "fig.show()\n"
   ],
   "id": "4ed024d3d472e91e",
   "outputs": [
    {
     "data": {
      "application/vnd.plotly.v1+json": {
       "data": [
        {
         "hovertemplate": "Genre=fantasy<br>Released_Year=%{x}<br>Count=%{y}<extra></extra>",
         "legendgroup": "fantasy",
         "line": {
          "color": "#636efa",
          "dash": "solid"
         },
         "marker": {
          "symbol": "circle"
         },
         "mode": "lines",
         "name": "fantasy",
         "orientation": "v",
         "showlegend": true,
         "x": [
          1920.0,
          1922.0,
          1939.0,
          1940.0,
          1946.0,
          1950.0,
          1957.0,
          1962.0,
          1964.0,
          1971.0,
          1973.0,
          1975.0,
          1977.0,
          1980.0,
          1982.0,
          1983.0,
          1984.0,
          1985.0,
          1987.0,
          1988.0,
          1989.0,
          1990.0,
          1991.0,
          1993.0,
          1995.0,
          1999.0,
          2000.0,
          2001.0,
          2003.0,
          2004.0,
          2005.0,
          2006.0,
          2007.0,
          2008.0,
          2009.0,
          2010.0,
          2011.0,
          2012.0,
          2013.0,
          2016.0,
          2018.0
         ],
         "xaxis": "x",
         "y": [
          1,
          1,
          1,
          1,
          1,
          1,
          1,
          1,
          1,
          1,
          1,
          1,
          1,
          1,
          1,
          1,
          2,
          1,
          3,
          1,
          1,
          1,
          2,
          2,
          2,
          3,
          2,
          2,
          2,
          2,
          1,
          5,
          2,
          2,
          3,
          1,
          2,
          4,
          2,
          1,
          1
         ],
         "yaxis": "y",
         "type": "scatter"
        },
        {
         "hovertemplate": "Genre=horror<br>Released_Year=%{x}<br>Count=%{y}<extra></extra>",
         "legendgroup": "horror",
         "line": {
          "color": "#EF553B",
          "dash": "solid"
         },
         "marker": {
          "symbol": "circle"
         },
         "mode": "lines",
         "name": "horror",
         "orientation": "v",
         "showlegend": true,
         "x": [
          1920.0,
          1922.0,
          1931.0,
          1932.0,
          1933.0,
          1935.0,
          1955.0,
          1956.0,
          1960.0,
          1961.0,
          1962.0,
          1963.0,
          1965.0,
          1968.0,
          1973.0,
          1978.0,
          1979.0,
          1980.0,
          1982.0,
          2001.0,
          2002.0,
          2004.0,
          2011.0,
          2014.0,
          2017.0,
          2018.0
         ],
         "xaxis": "x",
         "y": [
          1,
          1,
          1,
          1,
          2,
          1,
          1,
          1,
          3,
          1,
          1,
          1,
          1,
          2,
          1,
          2,
          1,
          1,
          1,
          1,
          1,
          2,
          1,
          1,
          1,
          1
         ],
         "yaxis": "y",
         "type": "scatter"
        },
        {
         "hovertemplate": "Genre=mystery<br>Released_Year=%{x}<br>Count=%{y}<extra></extra>",
         "legendgroup": "mystery",
         "line": {
          "color": "#00cc96",
          "dash": "solid"
         },
         "marker": {
          "symbol": "circle"
         },
         "mode": "lines",
         "name": "mystery",
         "orientation": "v",
         "showlegend": true,
         "x": [
          1920.0,
          1931.0,
          1934.0,
          1935.0,
          1938.0,
          1940.0,
          1941.0,
          1944.0,
          1946.0,
          1948.0,
          1949.0,
          1950.0,
          1954.0,
          1957.0,
          1958.0,
          1959.0,
          1960.0,
          1962.0,
          1963.0,
          1966.0,
          1967.0,
          1972.0,
          1974.0,
          1979.0,
          1982.0,
          1986.0,
          1988.0,
          1992.0,
          1993.0,
          1994.0,
          1995.0,
          1996.0,
          1997.0,
          1998.0,
          1999.0,
          2000.0,
          2001.0,
          2002.0,
          2003.0,
          2004.0,
          2006.0,
          2007.0,
          2009.0,
          2010.0,
          2011.0,
          2012.0,
          2013.0,
          2014.0,
          2015.0,
          2016.0,
          2017.0,
          2018.0
         ],
         "xaxis": "x",
         "y": [
          1,
          1,
          1,
          1,
          1,
          1,
          2,
          1,
          1,
          1,
          1,
          2,
          1,
          1,
          1,
          2,
          2,
          1,
          3,
          1,
          2,
          2,
          2,
          1,
          1,
          2,
          1,
          1,
          1,
          1,
          3,
          1,
          5,
          1,
          1,
          1,
          3,
          3,
          3,
          3,
          4,
          6,
          8,
          2,
          1,
          2,
          3,
          1,
          3,
          1,
          3,
          1
         ],
         "yaxis": "y",
         "type": "scatter"
        },
        {
         "hovertemplate": "Genre=comedy<br>Released_Year=%{x}<br>Count=%{y}<extra></extra>",
         "legendgroup": "comedy",
         "line": {
          "color": "#ab63fa",
          "dash": "solid"
         },
         "marker": {
          "symbol": "circle"
         },
         "mode": "lines",
         "name": "comedy",
         "orientation": "v",
         "showlegend": true,
         "x": [
          1921.0,
          1924.0,
          1925.0,
          1926.0,
          1928.0,
          1931.0,
          1933.0,
          1934.0,
          1935.0,
          1936.0,
          1938.0,
          1939.0,
          1940.0,
          1942.0,
          1944.0,
          1947.0,
          1949.0,
          1950.0,
          1952.0,
          1953.0,
          1954.0,
          1955.0,
          1959.0,
          1960.0,
          1961.0,
          1962.0,
          1963.0,
          1964.0,
          1967.0,
          1968.0,
          1970.0,
          1971.0,
          1972.0,
          1973.0,
          1974.0,
          1975.0,
          1977.0,
          1979.0,
          1980.0,
          1982.0,
          1983.0,
          1984.0,
          1985.0,
          1986.0,
          1987.0,
          1988.0,
          1989.0,
          1990.0,
          1991.0,
          1992.0,
          1993.0,
          1994.0,
          1995.0,
          1996.0,
          1997.0,
          1998.0,
          1999.0,
          2000.0,
          2001.0,
          2002.0,
          2003.0,
          2004.0,
          2005.0,
          2006.0,
          2007.0,
          2008.0,
          2009.0,
          2010.0,
          2011.0,
          2012.0,
          2013.0,
          2014.0,
          2015.0,
          2016.0,
          2017.0,
          2018.0,
          2019.0,
          2020.0
         ],
         "xaxis": "x",
         "y": [
          1,
          1,
          1,
          1,
          1,
          1,
          1,
          2,
          1,
          1,
          1,
          2,
          4,
          2,
          1,
          1,
          1,
          1,
          2,
          2,
          1,
          1,
          1,
          2,
          1,
          1,
          1,
          3,
          2,
          1,
          1,
          1,
          1,
          4,
          2,
          3,
          1,
          4,
          2,
          1,
          2,
          2,
          5,
          3,
          3,
          3,
          5,
          1,
          3,
          4,
          5,
          6,
          3,
          1,
          3,
          8,
          4,
          5,
          9,
          2,
          9,
          3,
          2,
          4,
          3,
          2,
          7,
          5,
          5,
          8,
          4,
          8,
          5,
          8,
          4,
          4,
          10,
          3
         ],
         "yaxis": "y",
         "type": "scatter"
        },
        {
         "hovertemplate": "Genre=drama<br>Released_Year=%{x}<br>Count=%{y}<extra></extra>",
         "legendgroup": "drama",
         "line": {
          "color": "#FFA15A",
          "dash": "solid"
         },
         "marker": {
          "symbol": "circle"
         },
         "mode": "lines",
         "name": "drama",
         "orientation": "v",
         "showlegend": true,
         "x": [
          1921.0,
          1925.0,
          1927.0,
          1928.0,
          1930.0,
          1931.0,
          1932.0,
          1935.0,
          1936.0,
          1937.0,
          1939.0,
          1940.0,
          1941.0,
          1942.0,
          1944.0,
          1945.0,
          1946.0,
          1947.0,
          1948.0,
          1949.0,
          1950.0,
          1951.0,
          1952.0,
          1953.0,
          1954.0,
          1955.0,
          1956.0,
          1957.0,
          1958.0,
          1959.0,
          1960.0,
          1961.0,
          1962.0,
          1963.0,
          1964.0,
          1965.0,
          1966.0,
          1967.0,
          1968.0,
          1969.0,
          1970.0,
          1971.0,
          1972.0,
          1973.0,
          1974.0,
          1975.0,
          1976.0,
          1977.0,
          1978.0,
          1979.0,
          1980.0,
          1981.0,
          1982.0,
          1983.0,
          1984.0,
          1985.0,
          1986.0,
          1987.0,
          1988.0,
          1989.0,
          1990.0,
          1991.0,
          1992.0,
          1993.0,
          1994.0,
          1995.0,
          1996.0,
          1997.0,
          1998.0,
          1999.0,
          2000.0,
          2001.0,
          2002.0,
          2003.0,
          2004.0,
          2005.0,
          2006.0,
          2007.0,
          2008.0,
          2009.0,
          2010.0,
          2011.0,
          2012.0,
          2013.0,
          2014.0,
          2015.0,
          2016.0,
          2017.0,
          2018.0,
          2019.0,
          2020.0
         ],
         "xaxis": "x",
         "y": [
          1,
          2,
          2,
          1,
          1,
          2,
          2,
          1,
          1,
          1,
          4,
          5,
          1,
          1,
          3,
          2,
          4,
          2,
          6,
          1,
          5,
          4,
          3,
          4,
          4,
          5,
          5,
          9,
          3,
          5,
          9,
          4,
          12,
          4,
          3,
          3,
          6,
          6,
          2,
          2,
          2,
          7,
          5,
          10,
          3,
          4,
          6,
          1,
          5,
          6,
          5,
          2,
          6,
          2,
          5,
          6,
          7,
          8,
          5,
          8,
          7,
          9,
          8,
          17,
          11,
          14,
          10,
          14,
          11,
          12,
          13,
          19,
          16,
          19,
          22,
          13,
          24,
          22,
          16,
          18,
          14,
          15,
          14,
          25,
          21,
          20,
          22,
          16,
          13,
          20,
          5
         ],
         "yaxis": "y",
         "type": "scatter"
        },
        {
         "hovertemplate": "Genre=family<br>Released_Year=%{x}<br>Count=%{y}<extra></extra>",
         "legendgroup": "family",
         "line": {
          "color": "#19d3f3",
          "dash": "solid"
         },
         "marker": {
          "symbol": "circle"
         },
         "mode": "lines",
         "name": "family",
         "orientation": "v",
         "showlegend": true,
         "x": [
          1921.0,
          1936.0,
          1938.0,
          1939.0,
          1940.0,
          1946.0,
          1947.0,
          1964.0,
          1965.0,
          1967.0,
          1971.0,
          1973.0,
          1979.0,
          1982.0,
          1983.0,
          1985.0,
          1987.0,
          1988.0,
          1989.0,
          1990.0,
          1991.0,
          1992.0,
          1993.0,
          1995.0,
          1997.0,
          1998.0,
          1999.0,
          2001.0,
          2004.0,
          2005.0,
          2007.0,
          2008.0,
          2009.0,
          2010.0,
          2012.0,
          2014.0,
          2016.0,
          2017.0
         ],
         "xaxis": "x",
         "y": [
          1,
          1,
          1,
          1,
          1,
          1,
          1,
          2,
          1,
          1,
          2,
          1,
          2,
          1,
          1,
          1,
          1,
          1,
          1,
          1,
          1,
          1,
          2,
          2,
          1,
          1,
          1,
          2,
          4,
          2,
          3,
          1,
          4,
          2,
          1,
          1,
          1,
          3
         ],
         "yaxis": "y",
         "type": "scatter"
        },
        {
         "hovertemplate": "Genre=action<br>Released_Year=%{x}<br>Count=%{y}<extra></extra>",
         "legendgroup": "action",
         "line": {
          "color": "#FF6692",
          "dash": "solid"
         },
         "marker": {
          "symbol": "circle"
         },
         "mode": "lines",
         "name": "action",
         "orientation": "v",
         "showlegend": true,
         "x": [
          1924.0,
          1926.0,
          1932.0,
          1938.0,
          1948.0,
          1949.0,
          1954.0,
          1959.0,
          1960.0,
          1961.0,
          1962.0,
          1964.0,
          1967.0,
          1968.0,
          1969.0,
          1971.0,
          1972.0,
          1973.0,
          1974.0,
          1975.0,
          1977.0,
          1978.0,
          1979.0,
          1980.0,
          1981.0,
          1982.0,
          1983.0,
          1984.0,
          1985.0,
          1986.0,
          1987.0,
          1988.0,
          1989.0,
          1991.0,
          1992.0,
          1993.0,
          1994.0,
          1995.0,
          1997.0,
          1998.0,
          1999.0,
          2000.0,
          2001.0,
          2002.0,
          2003.0,
          2004.0,
          2005.0,
          2006.0,
          2007.0,
          2008.0,
          2009.0,
          2010.0,
          2011.0,
          2012.0,
          2013.0,
          2014.0,
          2015.0,
          2016.0,
          2017.0,
          2018.0,
          2019.0
         ],
         "xaxis": "x",
         "y": [
          1,
          1,
          1,
          1,
          2,
          1,
          1,
          1,
          1,
          1,
          3,
          2,
          2,
          1,
          1,
          2,
          1,
          2,
          1,
          1,
          1,
          1,
          2,
          2,
          2,
          3,
          1,
          2,
          1,
          1,
          4,
          2,
          2,
          1,
          2,
          6,
          2,
          2,
          5,
          1,
          3,
          6,
          2,
          6,
          5,
          6,
          4,
          6,
          5,
          6,
          8,
          6,
          3,
          6,
          2,
          11,
          7,
          7,
          9,
          8,
          3
         ],
         "yaxis": "y",
         "type": "scatter"
        },
        {
         "hovertemplate": "Genre=romance<br>Released_Year=%{x}<br>Count=%{y}<extra></extra>",
         "legendgroup": "romance",
         "line": {
          "color": "#B6E880",
          "dash": "solid"
         },
         "marker": {
          "symbol": "circle"
         },
         "mode": "lines",
         "name": "romance",
         "orientation": "v",
         "showlegend": true,
         "x": [
          1924.0,
          1927.0,
          1928.0,
          1931.0,
          1934.0,
          1938.0,
          1939.0,
          1940.0,
          1942.0,
          1945.0,
          1946.0,
          1948.0,
          1951.0,
          1952.0,
          1953.0,
          1954.0,
          1957.0,
          1958.0,
          1959.0,
          1960.0,
          1961.0,
          1962.0,
          1963.0,
          1965.0,
          1967.0,
          1971.0,
          1977.0,
          1978.0,
          1979.0,
          1985.0,
          1987.0,
          1988.0,
          1989.0,
          1990.0,
          1991.0,
          1993.0,
          1994.0,
          1995.0,
          1997.0,
          1998.0,
          2000.0,
          2001.0,
          2002.0,
          2003.0,
          2004.0,
          2005.0,
          2006.0,
          2007.0,
          2008.0,
          2009.0,
          2010.0,
          2011.0,
          2012.0,
          2013.0,
          2014.0,
          2015.0,
          2016.0,
          2017.0,
          2018.0,
          2019.0,
          2020.0
         ],
         "xaxis": "x",
         "y": [
          1,
          1,
          1,
          1,
          1,
          2,
          1,
          4,
          1,
          1,
          3,
          1,
          1,
          2,
          2,
          1,
          1,
          1,
          2,
          1,
          1,
          1,
          1,
          1,
          2,
          2,
          1,
          1,
          1,
          1,
          1,
          1,
          1,
          1,
          2,
          5,
          4,
          4,
          5,
          3,
          2,
          3,
          1,
          3,
          6,
          3,
          1,
          3,
          2,
          4,
          2,
          3,
          7,
          4,
          2,
          2,
          1,
          2,
          1,
          4,
          1
         ],
         "yaxis": "y",
         "type": "scatter"
        },
        {
         "hovertemplate": "Genre=adventure<br>Released_Year=%{x}<br>Count=%{y}<extra></extra>",
         "legendgroup": "adventure",
         "line": {
          "color": "#FF97FF",
          "dash": "solid"
         },
         "marker": {
          "symbol": "circle"
         },
         "mode": "lines",
         "name": "adventure",
         "orientation": "v",
         "showlegend": true,
         "x": [
          1925.0,
          1926.0,
          1933.0,
          1938.0,
          1939.0,
          1944.0,
          1948.0,
          1951.0,
          1953.0,
          1954.0,
          1956.0,
          1957.0,
          1958.0,
          1959.0,
          1960.0,
          1962.0,
          1963.0,
          1964.0,
          1967.0,
          1968.0,
          1969.0,
          1970.0,
          1972.0,
          1973.0,
          1975.0,
          1977.0,
          1978.0,
          1979.0,
          1980.0,
          1981.0,
          1982.0,
          1983.0,
          1984.0,
          1985.0,
          1986.0,
          1987.0,
          1988.0,
          1989.0,
          1990.0,
          1992.0,
          1993.0,
          1994.0,
          1995.0,
          1997.0,
          1998.0,
          1999.0,
          2000.0,
          2001.0,
          2002.0,
          2003.0,
          2004.0,
          2005.0,
          2006.0,
          2007.0,
          2008.0,
          2009.0,
          2010.0,
          2011.0,
          2012.0,
          2013.0,
          2014.0,
          2015.0,
          2016.0,
          2017.0,
          2018.0,
          2019.0,
          2020.0
         ],
         "xaxis": "x",
         "y": [
          1,
          1,
          1,
          1,
          2,
          1,
          2,
          1,
          1,
          1,
          2,
          1,
          1,
          2,
          2,
          1,
          1,
          1,
          2,
          3,
          1,
          1,
          2,
          1,
          5,
          1,
          2,
          2,
          2,
          3,
          3,
          2,
          1,
          2,
          3,
          2,
          1,
          3,
          1,
          3,
          2,
          1,
          3,
          2,
          2,
          3,
          6,
          6,
          4,
          5,
          5,
          3,
          7,
          3,
          3,
          10,
          6,
          2,
          6,
          6,
          12,
          7,
          7,
          4,
          6,
          5,
          1
         ],
         "yaxis": "y",
         "type": "scatter"
        },
        {
         "hovertemplate": "Genre=history<br>Released_Year=%{x}<br>Count=%{y}<extra></extra>",
         "legendgroup": "history",
         "line": {
          "color": "#FECB52",
          "dash": "solid"
         },
         "marker": {
          "symbol": "circle"
         },
         "mode": "lines",
         "name": "history",
         "orientation": "v",
         "showlegend": true,
         "x": [
          1925.0,
          1928.0,
          1939.0,
          1940.0,
          1957.0,
          1959.0,
          1960.0,
          1962.0,
          1963.0,
          1964.0,
          1966.0,
          1968.0,
          1975.0,
          1976.0,
          1980.0,
          1982.0,
          1984.0,
          1987.0,
          1988.0,
          1989.0,
          1991.0,
          1992.0,
          1993.0,
          1995.0,
          1999.0,
          2001.0,
          2002.0,
          2004.0,
          2005.0,
          2006.0,
          2008.0,
          2009.0,
          2010.0,
          2013.0,
          2015.0,
          2016.0,
          2017.0,
          2019.0,
          2020.0
         ],
         "xaxis": "x",
         "y": [
          1,
          1,
          1,
          1,
          2,
          1,
          1,
          1,
          1,
          1,
          2,
          1,
          2,
          2,
          1,
          1,
          2,
          2,
          1,
          1,
          2,
          1,
          1,
          1,
          1,
          2,
          1,
          2,
          2,
          1,
          2,
          1,
          1,
          1,
          3,
          3,
          2,
          1,
          2
         ],
         "yaxis": "y",
         "type": "scatter"
        },
        {
         "hovertemplate": "Genre=thriller<br>Released_Year=%{x}<br>Count=%{y}<extra></extra>",
         "legendgroup": "thriller",
         "line": {
          "color": "#636efa",
          "dash": "solid"
         },
         "marker": {
          "symbol": "circle"
         },
         "mode": "lines",
         "name": "thriller",
         "orientation": "v",
         "showlegend": true,
         "x": [
          1925.0,
          1931.0,
          1935.0,
          1938.0,
          1942.0,
          1943.0,
          1949.0,
          1951.0,
          1952.0,
          1953.0,
          1954.0,
          1955.0,
          1958.0,
          1959.0,
          1960.0,
          1961.0,
          1962.0,
          1964.0,
          1965.0,
          1966.0,
          1967.0,
          1968.0,
          1971.0,
          1972.0,
          1973.0,
          1974.0,
          1975.0,
          1976.0,
          1978.0,
          1979.0,
          1981.0,
          1982.0,
          1984.0,
          1985.0,
          1986.0,
          1987.0,
          1988.0,
          1990.0,
          1991.0,
          1992.0,
          1993.0,
          1995.0,
          1996.0,
          1997.0,
          1998.0,
          1999.0,
          2000.0,
          2001.0,
          2002.0,
          2003.0,
          2004.0,
          2005.0,
          2006.0,
          2007.0,
          2008.0,
          2009.0,
          2010.0,
          2011.0,
          2012.0,
          2013.0,
          2014.0,
          2015.0,
          2016.0,
          2017.0,
          2018.0,
          2019.0,
          2020.0
         ],
         "xaxis": "x",
         "y": [
          1,
          1,
          1,
          1,
          1,
          1,
          1,
          1,
          1,
          1,
          3,
          1,
          1,
          1,
          2,
          1,
          3,
          1,
          1,
          2,
          1,
          1,
          1,
          2,
          1,
          3,
          1,
          1,
          1,
          1,
          1,
          1,
          1,
          1,
          1,
          2,
          2,
          2,
          3,
          3,
          1,
          4,
          3,
          3,
          2,
          3,
          4,
          5,
          3,
          1,
          7,
          2,
          5,
          2,
          3,
          2,
          3,
          2,
          4,
          3,
          6,
          3,
          2,
          1,
          3,
          3,
          1
         ],
         "yaxis": "y",
         "type": "scatter"
        },
        {
         "hovertemplate": "Genre=sci-fi<br>Released_Year=%{x}<br>Count=%{y}<extra></extra>",
         "legendgroup": "sci-fi",
         "line": {
          "color": "#EF553B",
          "dash": "solid"
         },
         "marker": {
          "symbol": "circle"
         },
         "mode": "lines",
         "name": "sci-fi",
         "orientation": "v",
         "showlegend": true,
         "x": [
          1927.0,
          1931.0,
          1933.0,
          1935.0,
          1951.0,
          1956.0,
          1968.0,
          1971.0,
          1972.0,
          1973.0,
          1977.0,
          1979.0,
          1981.0,
          1982.0,
          1984.0,
          1985.0,
          1986.0,
          1987.0,
          1988.0,
          1989.0,
          1991.0,
          1993.0,
          1995.0,
          1997.0,
          1998.0,
          1999.0,
          2001.0,
          2002.0,
          2004.0,
          2005.0,
          2006.0,
          2008.0,
          2009.0,
          2010.0,
          2011.0,
          2012.0,
          2013.0,
          2014.0,
          2015.0,
          2016.0,
          2017.0,
          2018.0
         ],
         "xaxis": "x",
         "y": [
          1,
          1,
          2,
          1,
          1,
          1,
          2,
          1,
          1,
          1,
          1,
          2,
          1,
          4,
          1,
          2,
          1,
          1,
          1,
          1,
          1,
          1,
          1,
          3,
          1,
          1,
          1,
          1,
          3,
          2,
          2,
          1,
          3,
          1,
          1,
          1,
          3,
          5,
          3,
          3,
          1,
          1
         ],
         "yaxis": "y",
         "type": "scatter"
        },
        {
         "hovertemplate": "Genre=biography<br>Released_Year=%{x}<br>Count=%{y}<extra></extra>",
         "legendgroup": "biography",
         "line": {
          "color": "#00cc96",
          "dash": "solid"
         },
         "marker": {
          "symbol": "circle"
         },
         "mode": "lines",
         "name": "biography",
         "orientation": "v",
         "showlegend": true,
         "x": [
          1928.0,
          1960.0,
          1962.0,
          1965.0,
          1966.0,
          1967.0,
          1968.0,
          1969.0,
          1970.0,
          1972.0,
          1973.0,
          1975.0,
          1976.0,
          1978.0,
          1979.0,
          1980.0,
          1982.0,
          1983.0,
          1984.0,
          1987.0,
          1989.0,
          1990.0,
          1992.0,
          1993.0,
          1994.0,
          1995.0,
          1996.0,
          1997.0,
          1999.0,
          2000.0,
          2001.0,
          2002.0,
          2004.0,
          2005.0,
          2006.0,
          2007.0,
          2008.0,
          2009.0,
          2010.0,
          2011.0,
          2012.0,
          2013.0,
          2014.0,
          2015.0,
          2016.0,
          2017.0,
          2018.0,
          2019.0,
          2020.0
         ],
         "xaxis": "x",
         "y": [
          1,
          2,
          1,
          1,
          2,
          1,
          1,
          1,
          1,
          1,
          2,
          2,
          2,
          1,
          1,
          2,
          1,
          1,
          2,
          1,
          2,
          2,
          1,
          3,
          2,
          1,
          1,
          1,
          4,
          1,
          2,
          2,
          5,
          3,
          3,
          6,
          3,
          2,
          3,
          2,
          2,
          8,
          4,
          3,
          5,
          3,
          2,
          5,
          1
         ],
         "yaxis": "y",
         "type": "scatter"
        },
        {
         "hovertemplate": "Genre=war<br>Released_Year=%{x}<br>Count=%{y}<extra></extra>",
         "legendgroup": "war",
         "line": {
          "color": "#ab63fa",
          "dash": "solid"
         },
         "marker": {
          "symbol": "circle"
         },
         "mode": "lines",
         "name": "war",
         "orientation": "v",
         "showlegend": true,
         "x": [
          1930.0,
          1933.0,
          1937.0,
          1940.0,
          1942.0,
          1944.0,
          1946.0,
          1953.0,
          1957.0,
          1961.0,
          1962.0,
          1964.0,
          1965.0,
          1966.0,
          1967.0,
          1968.0,
          1970.0,
          1971.0,
          1975.0,
          1978.0,
          1979.0,
          1980.0,
          1985.0,
          1986.0,
          1987.0,
          1988.0,
          1995.0,
          1998.0,
          2001.0,
          2004.0,
          2006.0,
          2008.0,
          2009.0,
          2010.0,
          2013.0,
          2015.0,
          2018.0,
          2019.0
         ],
         "xaxis": "x",
         "y": [
          1,
          1,
          1,
          1,
          2,
          1,
          1,
          2,
          2,
          1,
          1,
          1,
          1,
          1,
          1,
          1,
          2,
          1,
          2,
          1,
          1,
          1,
          2,
          1,
          2,
          1,
          1,
          2,
          3,
          1,
          2,
          1,
          1,
          1,
          1,
          2,
          1,
          2
         ],
         "yaxis": "y",
         "type": "scatter"
        },
        {
         "hovertemplate": "Genre=crime<br>Released_Year=%{x}<br>Count=%{y}<extra></extra>",
         "legendgroup": "crime",
         "line": {
          "color": "#FFA15A",
          "dash": "solid"
         },
         "marker": {
          "symbol": "circle"
         },
         "mode": "lines",
         "name": "crime",
         "orientation": "v",
         "showlegend": true,
         "x": [
          1931.0,
          1932.0,
          1934.0,
          1935.0,
          1942.0,
          1944.0,
          1946.0,
          1947.0,
          1948.0,
          1949.0,
          1950.0,
          1951.0,
          1954.0,
          1955.0,
          1956.0,
          1957.0,
          1958.0,
          1959.0,
          1960.0,
          1962.0,
          1963.0,
          1967.0,
          1969.0,
          1971.0,
          1972.0,
          1973.0,
          1974.0,
          1975.0,
          1976.0,
          1978.0,
          1979.0,
          1982.0,
          1983.0,
          1984.0,
          1985.0,
          1986.0,
          1987.0,
          1988.0,
          1989.0,
          1990.0,
          1991.0,
          1992.0,
          1993.0,
          1994.0,
          1995.0,
          1996.0,
          1997.0,
          1998.0,
          1999.0,
          2000.0,
          2001.0,
          2002.0,
          2003.0,
          2004.0,
          2005.0,
          2006.0,
          2007.0,
          2008.0,
          2009.0,
          2010.0,
          2011.0,
          2012.0,
          2013.0,
          2014.0,
          2015.0,
          2016.0,
          2017.0,
          2018.0,
          2019.0
         ],
         "xaxis": "x",
         "y": [
          1,
          1,
          1,
          1,
          1,
          1,
          1,
          1,
          2,
          2,
          1,
          1,
          2,
          4,
          1,
          2,
          1,
          2,
          1,
          2,
          1,
          4,
          1,
          3,
          1,
          8,
          2,
          1,
          1,
          1,
          2,
          1,
          1,
          2,
          1,
          2,
          2,
          3,
          1,
          3,
          3,
          4,
          8,
          4,
          7,
          4,
          6,
          4,
          2,
          6,
          4,
          7,
          5,
          5,
          3,
          6,
          7,
          6,
          4,
          5,
          3,
          3,
          6,
          5,
          7,
          3,
          5,
          2,
          5
         ],
         "yaxis": "y",
         "type": "scatter"
        },
        {
         "hovertemplate": "Genre=musical<br>Released_Year=%{x}<br>Count=%{y}<extra></extra>",
         "legendgroup": "musical",
         "line": {
          "color": "#19d3f3",
          "dash": "solid"
         },
         "marker": {
          "symbol": "circle"
         },
         "mode": "lines",
         "name": "musical",
         "orientation": "v",
         "showlegend": true,
         "x": [
          1933.0,
          1935.0,
          1952.0,
          1964.0,
          1971.0,
          1972.0,
          1979.0,
          2000.0,
          2001.0,
          2003.0,
          2004.0,
          2011.0,
          2014.0
         ],
         "xaxis": "x",
         "y": [
          1,
          1,
          1,
          2,
          3,
          1,
          1,
          1,
          1,
          2,
          1,
          1,
          1
         ],
         "yaxis": "y",
         "type": "scatter"
        },
        {
         "hovertemplate": "Genre=music<br>Released_Year=%{x}<br>Count=%{y}<extra></extra>",
         "legendgroup": "music",
         "line": {
          "color": "#FF6692",
          "dash": "solid"
         },
         "marker": {
          "symbol": "circle"
         },
         "mode": "lines",
         "name": "music",
         "orientation": "v",
         "showlegend": true,
         "x": [
          1935.0,
          1948.0,
          1959.0,
          1964.0,
          1972.0,
          1978.0,
          1979.0,
          1982.0,
          1984.0,
          1991.0,
          1993.0,
          1996.0,
          1998.0,
          2000.0,
          2001.0,
          2002.0,
          2004.0,
          2005.0,
          2007.0,
          2008.0,
          2011.0,
          2012.0,
          2014.0,
          2016.0,
          2018.0,
          2019.0
         ],
         "xaxis": "x",
         "y": [
          1,
          1,
          1,
          1,
          1,
          1,
          1,
          1,
          1,
          1,
          2,
          1,
          1,
          1,
          1,
          1,
          2,
          2,
          3,
          1,
          1,
          1,
          1,
          2,
          3,
          2
         ],
         "yaxis": "y",
         "type": "scatter"
        },
        {
         "hovertemplate": "Genre=western<br>Released_Year=%{x}<br>Count=%{y}<extra></extra>",
         "legendgroup": "western",
         "line": {
          "color": "#B6E880",
          "dash": "solid"
         },
         "marker": {
          "symbol": "circle"
         },
         "mode": "lines",
         "name": "western",
         "orientation": "v",
         "showlegend": true,
         "x": [
          1939.0,
          1948.0,
          1952.0,
          1956.0,
          1959.0,
          1960.0,
          1962.0,
          1964.0,
          1965.0,
          1966.0,
          1968.0,
          1969.0,
          1971.0,
          1974.0,
          1976.0,
          1990.0,
          1992.0,
          2010.0,
          2012.0
         ],
         "xaxis": "x",
         "y": [
          1,
          1,
          1,
          2,
          1,
          1,
          1,
          1,
          1,
          1,
          1,
          1,
          1,
          1,
          1,
          1,
          1,
          1,
          1
         ],
         "yaxis": "y",
         "type": "scatter"
        },
        {
         "hovertemplate": "Genre=animation<br>Released_Year=%{x}<br>Count=%{y}<extra></extra>",
         "legendgroup": "animation",
         "line": {
          "color": "#FF97FF",
          "dash": "solid"
         },
         "marker": {
          "symbol": "circle"
         },
         "mode": "lines",
         "name": "animation",
         "orientation": "v",
         "showlegend": true,
         "x": [
          1940.0,
          1967.0,
          1973.0,
          1978.0,
          1979.0,
          1984.0,
          1986.0,
          1988.0,
          1989.0,
          1991.0,
          1992.0,
          1993.0,
          1994.0,
          1995.0,
          1997.0,
          1998.0,
          1999.0,
          2000.0,
          2001.0,
          2003.0,
          2004.0,
          2006.0,
          2007.0,
          2008.0,
          2009.0,
          2010.0,
          2012.0,
          2013.0,
          2014.0,
          2015.0,
          2016.0,
          2017.0,
          2018.0,
          2019.0,
          2020.0
         ],
         "xaxis": "x",
         "y": [
          1,
          1,
          1,
          1,
          1,
          1,
          1,
          4,
          2,
          2,
          2,
          3,
          1,
          3,
          3,
          1,
          3,
          1,
          5,
          3,
          2,
          2,
          2,
          2,
          5,
          5,
          2,
          2,
          5,
          2,
          5,
          2,
          3,
          2,
          1
         ],
         "yaxis": "y",
         "type": "scatter"
        },
        {
         "hovertemplate": "Genre=film-noir<br>Released_Year=%{x}<br>Count=%{y}<extra></extra>",
         "legendgroup": "film-noir",
         "line": {
          "color": "#FECB52",
          "dash": "solid"
         },
         "marker": {
          "symbol": "circle"
         },
         "mode": "lines",
         "name": "film-noir",
         "orientation": "v",
         "showlegend": true,
         "x": [
          1941.0,
          1943.0,
          1944.0,
          1945.0,
          1946.0,
          1947.0,
          1949.0,
          1950.0,
          1951.0,
          1955.0,
          1956.0,
          1957.0,
          1958.0
         ],
         "xaxis": "x",
         "y": [
          1,
          1,
          3,
          1,
          3,
          1,
          1,
          2,
          2,
          1,
          1,
          1,
          1
         ],
         "yaxis": "y",
         "type": "scatter"
        },
        {
         "hovertemplate": "Genre=sport<br>Released_Year=%{x}<br>Count=%{y}<extra></extra>",
         "legendgroup": "sport",
         "line": {
          "color": "#636efa",
          "dash": "solid"
         },
         "marker": {
          "symbol": "circle"
         },
         "mode": "lines",
         "name": "sport",
         "orientation": "v",
         "showlegend": true,
         "x": [
          1961.0,
          1976.0,
          1980.0,
          1997.0,
          1998.0,
          1999.0,
          2000.0,
          2004.0,
          2005.0,
          2007.0,
          2008.0,
          2009.0,
          2010.0,
          2011.0,
          2013.0,
          2015.0,
          2016.0
         ],
         "xaxis": "x",
         "y": [
          1,
          1,
          1,
          1,
          1,
          1,
          1,
          1,
          1,
          1,
          1,
          1,
          1,
          2,
          2,
          1,
          1
         ],
         "yaxis": "y",
         "type": "scatter"
        }
       ],
       "layout": {
        "template": {
         "data": {
          "histogram2dcontour": [
           {
            "type": "histogram2dcontour",
            "colorbar": {
             "outlinewidth": 0,
             "ticks": ""
            },
            "colorscale": [
             [
              0.0,
              "#0d0887"
             ],
             [
              0.1111111111111111,
              "#46039f"
             ],
             [
              0.2222222222222222,
              "#7201a8"
             ],
             [
              0.3333333333333333,
              "#9c179e"
             ],
             [
              0.4444444444444444,
              "#bd3786"
             ],
             [
              0.5555555555555556,
              "#d8576b"
             ],
             [
              0.6666666666666666,
              "#ed7953"
             ],
             [
              0.7777777777777778,
              "#fb9f3a"
             ],
             [
              0.8888888888888888,
              "#fdca26"
             ],
             [
              1.0,
              "#f0f921"
             ]
            ]
           }
          ],
          "choropleth": [
           {
            "type": "choropleth",
            "colorbar": {
             "outlinewidth": 0,
             "ticks": ""
            }
           }
          ],
          "histogram2d": [
           {
            "type": "histogram2d",
            "colorbar": {
             "outlinewidth": 0,
             "ticks": ""
            },
            "colorscale": [
             [
              0.0,
              "#0d0887"
             ],
             [
              0.1111111111111111,
              "#46039f"
             ],
             [
              0.2222222222222222,
              "#7201a8"
             ],
             [
              0.3333333333333333,
              "#9c179e"
             ],
             [
              0.4444444444444444,
              "#bd3786"
             ],
             [
              0.5555555555555556,
              "#d8576b"
             ],
             [
              0.6666666666666666,
              "#ed7953"
             ],
             [
              0.7777777777777778,
              "#fb9f3a"
             ],
             [
              0.8888888888888888,
              "#fdca26"
             ],
             [
              1.0,
              "#f0f921"
             ]
            ]
           }
          ],
          "heatmap": [
           {
            "type": "heatmap",
            "colorbar": {
             "outlinewidth": 0,
             "ticks": ""
            },
            "colorscale": [
             [
              0.0,
              "#0d0887"
             ],
             [
              0.1111111111111111,
              "#46039f"
             ],
             [
              0.2222222222222222,
              "#7201a8"
             ],
             [
              0.3333333333333333,
              "#9c179e"
             ],
             [
              0.4444444444444444,
              "#bd3786"
             ],
             [
              0.5555555555555556,
              "#d8576b"
             ],
             [
              0.6666666666666666,
              "#ed7953"
             ],
             [
              0.7777777777777778,
              "#fb9f3a"
             ],
             [
              0.8888888888888888,
              "#fdca26"
             ],
             [
              1.0,
              "#f0f921"
             ]
            ]
           }
          ],
          "heatmapgl": [
           {
            "type": "heatmapgl",
            "colorbar": {
             "outlinewidth": 0,
             "ticks": ""
            },
            "colorscale": [
             [
              0.0,
              "#0d0887"
             ],
             [
              0.1111111111111111,
              "#46039f"
             ],
             [
              0.2222222222222222,
              "#7201a8"
             ],
             [
              0.3333333333333333,
              "#9c179e"
             ],
             [
              0.4444444444444444,
              "#bd3786"
             ],
             [
              0.5555555555555556,
              "#d8576b"
             ],
             [
              0.6666666666666666,
              "#ed7953"
             ],
             [
              0.7777777777777778,
              "#fb9f3a"
             ],
             [
              0.8888888888888888,
              "#fdca26"
             ],
             [
              1.0,
              "#f0f921"
             ]
            ]
           }
          ],
          "contourcarpet": [
           {
            "type": "contourcarpet",
            "colorbar": {
             "outlinewidth": 0,
             "ticks": ""
            }
           }
          ],
          "contour": [
           {
            "type": "contour",
            "colorbar": {
             "outlinewidth": 0,
             "ticks": ""
            },
            "colorscale": [
             [
              0.0,
              "#0d0887"
             ],
             [
              0.1111111111111111,
              "#46039f"
             ],
             [
              0.2222222222222222,
              "#7201a8"
             ],
             [
              0.3333333333333333,
              "#9c179e"
             ],
             [
              0.4444444444444444,
              "#bd3786"
             ],
             [
              0.5555555555555556,
              "#d8576b"
             ],
             [
              0.6666666666666666,
              "#ed7953"
             ],
             [
              0.7777777777777778,
              "#fb9f3a"
             ],
             [
              0.8888888888888888,
              "#fdca26"
             ],
             [
              1.0,
              "#f0f921"
             ]
            ]
           }
          ],
          "surface": [
           {
            "type": "surface",
            "colorbar": {
             "outlinewidth": 0,
             "ticks": ""
            },
            "colorscale": [
             [
              0.0,
              "#0d0887"
             ],
             [
              0.1111111111111111,
              "#46039f"
             ],
             [
              0.2222222222222222,
              "#7201a8"
             ],
             [
              0.3333333333333333,
              "#9c179e"
             ],
             [
              0.4444444444444444,
              "#bd3786"
             ],
             [
              0.5555555555555556,
              "#d8576b"
             ],
             [
              0.6666666666666666,
              "#ed7953"
             ],
             [
              0.7777777777777778,
              "#fb9f3a"
             ],
             [
              0.8888888888888888,
              "#fdca26"
             ],
             [
              1.0,
              "#f0f921"
             ]
            ]
           }
          ],
          "mesh3d": [
           {
            "type": "mesh3d",
            "colorbar": {
             "outlinewidth": 0,
             "ticks": ""
            }
           }
          ],
          "scatter": [
           {
            "marker": {
             "line": {
              "color": "#283442"
             }
            },
            "type": "scatter"
           }
          ],
          "parcoords": [
           {
            "type": "parcoords",
            "line": {
             "colorbar": {
              "outlinewidth": 0,
              "ticks": ""
             }
            }
           }
          ],
          "scatterpolargl": [
           {
            "type": "scatterpolargl",
            "marker": {
             "colorbar": {
              "outlinewidth": 0,
              "ticks": ""
             }
            }
           }
          ],
          "bar": [
           {
            "error_x": {
             "color": "#f2f5fa"
            },
            "error_y": {
             "color": "#f2f5fa"
            },
            "marker": {
             "line": {
              "color": "rgb(17,17,17)",
              "width": 0.5
             },
             "pattern": {
              "fillmode": "overlay",
              "size": 10,
              "solidity": 0.2
             }
            },
            "type": "bar"
           }
          ],
          "scattergeo": [
           {
            "type": "scattergeo",
            "marker": {
             "colorbar": {
              "outlinewidth": 0,
              "ticks": ""
             }
            }
           }
          ],
          "scatterpolar": [
           {
            "type": "scatterpolar",
            "marker": {
             "colorbar": {
              "outlinewidth": 0,
              "ticks": ""
             }
            }
           }
          ],
          "histogram": [
           {
            "marker": {
             "pattern": {
              "fillmode": "overlay",
              "size": 10,
              "solidity": 0.2
             }
            },
            "type": "histogram"
           }
          ],
          "scattergl": [
           {
            "marker": {
             "line": {
              "color": "#283442"
             }
            },
            "type": "scattergl"
           }
          ],
          "scatter3d": [
           {
            "type": "scatter3d",
            "line": {
             "colorbar": {
              "outlinewidth": 0,
              "ticks": ""
             }
            },
            "marker": {
             "colorbar": {
              "outlinewidth": 0,
              "ticks": ""
             }
            }
           }
          ],
          "scattermapbox": [
           {
            "type": "scattermapbox",
            "marker": {
             "colorbar": {
              "outlinewidth": 0,
              "ticks": ""
             }
            }
           }
          ],
          "scatterternary": [
           {
            "type": "scatterternary",
            "marker": {
             "colorbar": {
              "outlinewidth": 0,
              "ticks": ""
             }
            }
           }
          ],
          "scattercarpet": [
           {
            "type": "scattercarpet",
            "marker": {
             "colorbar": {
              "outlinewidth": 0,
              "ticks": ""
             }
            }
           }
          ],
          "carpet": [
           {
            "aaxis": {
             "endlinecolor": "#A2B1C6",
             "gridcolor": "#506784",
             "linecolor": "#506784",
             "minorgridcolor": "#506784",
             "startlinecolor": "#A2B1C6"
            },
            "baxis": {
             "endlinecolor": "#A2B1C6",
             "gridcolor": "#506784",
             "linecolor": "#506784",
             "minorgridcolor": "#506784",
             "startlinecolor": "#A2B1C6"
            },
            "type": "carpet"
           }
          ],
          "table": [
           {
            "cells": {
             "fill": {
              "color": "#506784"
             },
             "line": {
              "color": "rgb(17,17,17)"
             }
            },
            "header": {
             "fill": {
              "color": "#2a3f5f"
             },
             "line": {
              "color": "rgb(17,17,17)"
             }
            },
            "type": "table"
           }
          ],
          "barpolar": [
           {
            "marker": {
             "line": {
              "color": "rgb(17,17,17)",
              "width": 0.5
             },
             "pattern": {
              "fillmode": "overlay",
              "size": 10,
              "solidity": 0.2
             }
            },
            "type": "barpolar"
           }
          ],
          "pie": [
           {
            "automargin": true,
            "type": "pie"
           }
          ]
         },
         "layout": {
          "autotypenumbers": "strict",
          "colorway": [
           "#636efa",
           "#EF553B",
           "#00cc96",
           "#ab63fa",
           "#FFA15A",
           "#19d3f3",
           "#FF6692",
           "#B6E880",
           "#FF97FF",
           "#FECB52"
          ],
          "font": {
           "color": "#f2f5fa"
          },
          "hovermode": "closest",
          "hoverlabel": {
           "align": "left"
          },
          "paper_bgcolor": "rgb(17,17,17)",
          "plot_bgcolor": "rgb(17,17,17)",
          "polar": {
           "bgcolor": "rgb(17,17,17)",
           "angularaxis": {
            "gridcolor": "#506784",
            "linecolor": "#506784",
            "ticks": ""
           },
           "radialaxis": {
            "gridcolor": "#506784",
            "linecolor": "#506784",
            "ticks": ""
           }
          },
          "ternary": {
           "bgcolor": "rgb(17,17,17)",
           "aaxis": {
            "gridcolor": "#506784",
            "linecolor": "#506784",
            "ticks": ""
           },
           "baxis": {
            "gridcolor": "#506784",
            "linecolor": "#506784",
            "ticks": ""
           },
           "caxis": {
            "gridcolor": "#506784",
            "linecolor": "#506784",
            "ticks": ""
           }
          },
          "coloraxis": {
           "colorbar": {
            "outlinewidth": 0,
            "ticks": ""
           }
          },
          "colorscale": {
           "sequential": [
            [
             0.0,
             "#0d0887"
            ],
            [
             0.1111111111111111,
             "#46039f"
            ],
            [
             0.2222222222222222,
             "#7201a8"
            ],
            [
             0.3333333333333333,
             "#9c179e"
            ],
            [
             0.4444444444444444,
             "#bd3786"
            ],
            [
             0.5555555555555556,
             "#d8576b"
            ],
            [
             0.6666666666666666,
             "#ed7953"
            ],
            [
             0.7777777777777778,
             "#fb9f3a"
            ],
            [
             0.8888888888888888,
             "#fdca26"
            ],
            [
             1.0,
             "#f0f921"
            ]
           ],
           "sequentialminus": [
            [
             0.0,
             "#0d0887"
            ],
            [
             0.1111111111111111,
             "#46039f"
            ],
            [
             0.2222222222222222,
             "#7201a8"
            ],
            [
             0.3333333333333333,
             "#9c179e"
            ],
            [
             0.4444444444444444,
             "#bd3786"
            ],
            [
             0.5555555555555556,
             "#d8576b"
            ],
            [
             0.6666666666666666,
             "#ed7953"
            ],
            [
             0.7777777777777778,
             "#fb9f3a"
            ],
            [
             0.8888888888888888,
             "#fdca26"
            ],
            [
             1.0,
             "#f0f921"
            ]
           ],
           "diverging": [
            [
             0,
             "#8e0152"
            ],
            [
             0.1,
             "#c51b7d"
            ],
            [
             0.2,
             "#de77ae"
            ],
            [
             0.3,
             "#f1b6da"
            ],
            [
             0.4,
             "#fde0ef"
            ],
            [
             0.5,
             "#f7f7f7"
            ],
            [
             0.6,
             "#e6f5d0"
            ],
            [
             0.7,
             "#b8e186"
            ],
            [
             0.8,
             "#7fbc41"
            ],
            [
             0.9,
             "#4d9221"
            ],
            [
             1,
             "#276419"
            ]
           ]
          },
          "xaxis": {
           "gridcolor": "#283442",
           "linecolor": "#506784",
           "ticks": "",
           "title": {
            "standoff": 15
           },
           "zerolinecolor": "#283442",
           "automargin": true,
           "zerolinewidth": 2
          },
          "yaxis": {
           "gridcolor": "#283442",
           "linecolor": "#506784",
           "ticks": "",
           "title": {
            "standoff": 15
           },
           "zerolinecolor": "#283442",
           "automargin": true,
           "zerolinewidth": 2
          },
          "scene": {
           "xaxis": {
            "backgroundcolor": "rgb(17,17,17)",
            "gridcolor": "#506784",
            "linecolor": "#506784",
            "showbackground": true,
            "ticks": "",
            "zerolinecolor": "#C8D4E3",
            "gridwidth": 2
           },
           "yaxis": {
            "backgroundcolor": "rgb(17,17,17)",
            "gridcolor": "#506784",
            "linecolor": "#506784",
            "showbackground": true,
            "ticks": "",
            "zerolinecolor": "#C8D4E3",
            "gridwidth": 2
           },
           "zaxis": {
            "backgroundcolor": "rgb(17,17,17)",
            "gridcolor": "#506784",
            "linecolor": "#506784",
            "showbackground": true,
            "ticks": "",
            "zerolinecolor": "#C8D4E3",
            "gridwidth": 2
           }
          },
          "shapedefaults": {
           "line": {
            "color": "#f2f5fa"
           }
          },
          "annotationdefaults": {
           "arrowcolor": "#f2f5fa",
           "arrowhead": 0,
           "arrowwidth": 1
          },
          "geo": {
           "bgcolor": "rgb(17,17,17)",
           "landcolor": "rgb(17,17,17)",
           "subunitcolor": "#506784",
           "showland": true,
           "showlakes": true,
           "lakecolor": "rgb(17,17,17)"
          },
          "title": {
           "x": 0.05
          },
          "updatemenudefaults": {
           "bgcolor": "#506784",
           "borderwidth": 0
          },
          "sliderdefaults": {
           "bgcolor": "#C8D4E3",
           "borderwidth": 1,
           "bordercolor": "rgb(17,17,17)",
           "tickwidth": 0
          },
          "mapbox": {
           "style": "dark"
          }
         }
        },
        "xaxis": {
         "anchor": "y",
         "domain": [
          0.0,
          1.0
         ],
         "title": {
          "text": "Released_Year"
         }
        },
        "yaxis": {
         "anchor": "x",
         "domain": [
          0.0,
          1.0
         ],
         "title": {
          "text": "Count"
         }
        },
        "legend": {
         "title": {
          "text": "Genre"
         },
         "tracegroupgap": 0
        },
        "title": {
         "text": "Genre Popularity Over Time"
        }
       },
       "config": {
        "plotlyServerURL": "https://plot.ly"
       }
      },
      "text/html": [
       "<div>                            <div id=\"08231913-6555-4e4e-97bb-143d6472825a\" class=\"plotly-graph-div\" style=\"height:525px; width:100%;\"></div>            <script type=\"text/javascript\">                require([\"plotly\"], function(Plotly) {                    window.PLOTLYENV=window.PLOTLYENV || {};                                    if (document.getElementById(\"08231913-6555-4e4e-97bb-143d6472825a\")) {                    Plotly.newPlot(                        \"08231913-6555-4e4e-97bb-143d6472825a\",                        [{\"hovertemplate\":\"Genre=fantasy\\u003cbr\\u003eReleased_Year=%{x}\\u003cbr\\u003eCount=%{y}\\u003cextra\\u003e\\u003c\\u002fextra\\u003e\",\"legendgroup\":\"fantasy\",\"line\":{\"color\":\"#636efa\",\"dash\":\"solid\"},\"marker\":{\"symbol\":\"circle\"},\"mode\":\"lines\",\"name\":\"fantasy\",\"orientation\":\"v\",\"showlegend\":true,\"x\":[1920.0,1922.0,1939.0,1940.0,1946.0,1950.0,1957.0,1962.0,1964.0,1971.0,1973.0,1975.0,1977.0,1980.0,1982.0,1983.0,1984.0,1985.0,1987.0,1988.0,1989.0,1990.0,1991.0,1993.0,1995.0,1999.0,2000.0,2001.0,2003.0,2004.0,2005.0,2006.0,2007.0,2008.0,2009.0,2010.0,2011.0,2012.0,2013.0,2016.0,2018.0],\"xaxis\":\"x\",\"y\":[1,1,1,1,1,1,1,1,1,1,1,1,1,1,1,1,2,1,3,1,1,1,2,2,2,3,2,2,2,2,1,5,2,2,3,1,2,4,2,1,1],\"yaxis\":\"y\",\"type\":\"scatter\"},{\"hovertemplate\":\"Genre=horror\\u003cbr\\u003eReleased_Year=%{x}\\u003cbr\\u003eCount=%{y}\\u003cextra\\u003e\\u003c\\u002fextra\\u003e\",\"legendgroup\":\"horror\",\"line\":{\"color\":\"#EF553B\",\"dash\":\"solid\"},\"marker\":{\"symbol\":\"circle\"},\"mode\":\"lines\",\"name\":\"horror\",\"orientation\":\"v\",\"showlegend\":true,\"x\":[1920.0,1922.0,1931.0,1932.0,1933.0,1935.0,1955.0,1956.0,1960.0,1961.0,1962.0,1963.0,1965.0,1968.0,1973.0,1978.0,1979.0,1980.0,1982.0,2001.0,2002.0,2004.0,2011.0,2014.0,2017.0,2018.0],\"xaxis\":\"x\",\"y\":[1,1,1,1,2,1,1,1,3,1,1,1,1,2,1,2,1,1,1,1,1,2,1,1,1,1],\"yaxis\":\"y\",\"type\":\"scatter\"},{\"hovertemplate\":\"Genre=mystery\\u003cbr\\u003eReleased_Year=%{x}\\u003cbr\\u003eCount=%{y}\\u003cextra\\u003e\\u003c\\u002fextra\\u003e\",\"legendgroup\":\"mystery\",\"line\":{\"color\":\"#00cc96\",\"dash\":\"solid\"},\"marker\":{\"symbol\":\"circle\"},\"mode\":\"lines\",\"name\":\"mystery\",\"orientation\":\"v\",\"showlegend\":true,\"x\":[1920.0,1931.0,1934.0,1935.0,1938.0,1940.0,1941.0,1944.0,1946.0,1948.0,1949.0,1950.0,1954.0,1957.0,1958.0,1959.0,1960.0,1962.0,1963.0,1966.0,1967.0,1972.0,1974.0,1979.0,1982.0,1986.0,1988.0,1992.0,1993.0,1994.0,1995.0,1996.0,1997.0,1998.0,1999.0,2000.0,2001.0,2002.0,2003.0,2004.0,2006.0,2007.0,2009.0,2010.0,2011.0,2012.0,2013.0,2014.0,2015.0,2016.0,2017.0,2018.0],\"xaxis\":\"x\",\"y\":[1,1,1,1,1,1,2,1,1,1,1,2,1,1,1,2,2,1,3,1,2,2,2,1,1,2,1,1,1,1,3,1,5,1,1,1,3,3,3,3,4,6,8,2,1,2,3,1,3,1,3,1],\"yaxis\":\"y\",\"type\":\"scatter\"},{\"hovertemplate\":\"Genre=comedy\\u003cbr\\u003eReleased_Year=%{x}\\u003cbr\\u003eCount=%{y}\\u003cextra\\u003e\\u003c\\u002fextra\\u003e\",\"legendgroup\":\"comedy\",\"line\":{\"color\":\"#ab63fa\",\"dash\":\"solid\"},\"marker\":{\"symbol\":\"circle\"},\"mode\":\"lines\",\"name\":\"comedy\",\"orientation\":\"v\",\"showlegend\":true,\"x\":[1921.0,1924.0,1925.0,1926.0,1928.0,1931.0,1933.0,1934.0,1935.0,1936.0,1938.0,1939.0,1940.0,1942.0,1944.0,1947.0,1949.0,1950.0,1952.0,1953.0,1954.0,1955.0,1959.0,1960.0,1961.0,1962.0,1963.0,1964.0,1967.0,1968.0,1970.0,1971.0,1972.0,1973.0,1974.0,1975.0,1977.0,1979.0,1980.0,1982.0,1983.0,1984.0,1985.0,1986.0,1987.0,1988.0,1989.0,1990.0,1991.0,1992.0,1993.0,1994.0,1995.0,1996.0,1997.0,1998.0,1999.0,2000.0,2001.0,2002.0,2003.0,2004.0,2005.0,2006.0,2007.0,2008.0,2009.0,2010.0,2011.0,2012.0,2013.0,2014.0,2015.0,2016.0,2017.0,2018.0,2019.0,2020.0],\"xaxis\":\"x\",\"y\":[1,1,1,1,1,1,1,2,1,1,1,2,4,2,1,1,1,1,2,2,1,1,1,2,1,1,1,3,2,1,1,1,1,4,2,3,1,4,2,1,2,2,5,3,3,3,5,1,3,4,5,6,3,1,3,8,4,5,9,2,9,3,2,4,3,2,7,5,5,8,4,8,5,8,4,4,10,3],\"yaxis\":\"y\",\"type\":\"scatter\"},{\"hovertemplate\":\"Genre=drama\\u003cbr\\u003eReleased_Year=%{x}\\u003cbr\\u003eCount=%{y}\\u003cextra\\u003e\\u003c\\u002fextra\\u003e\",\"legendgroup\":\"drama\",\"line\":{\"color\":\"#FFA15A\",\"dash\":\"solid\"},\"marker\":{\"symbol\":\"circle\"},\"mode\":\"lines\",\"name\":\"drama\",\"orientation\":\"v\",\"showlegend\":true,\"x\":[1921.0,1925.0,1927.0,1928.0,1930.0,1931.0,1932.0,1935.0,1936.0,1937.0,1939.0,1940.0,1941.0,1942.0,1944.0,1945.0,1946.0,1947.0,1948.0,1949.0,1950.0,1951.0,1952.0,1953.0,1954.0,1955.0,1956.0,1957.0,1958.0,1959.0,1960.0,1961.0,1962.0,1963.0,1964.0,1965.0,1966.0,1967.0,1968.0,1969.0,1970.0,1971.0,1972.0,1973.0,1974.0,1975.0,1976.0,1977.0,1978.0,1979.0,1980.0,1981.0,1982.0,1983.0,1984.0,1985.0,1986.0,1987.0,1988.0,1989.0,1990.0,1991.0,1992.0,1993.0,1994.0,1995.0,1996.0,1997.0,1998.0,1999.0,2000.0,2001.0,2002.0,2003.0,2004.0,2005.0,2006.0,2007.0,2008.0,2009.0,2010.0,2011.0,2012.0,2013.0,2014.0,2015.0,2016.0,2017.0,2018.0,2019.0,2020.0],\"xaxis\":\"x\",\"y\":[1,2,2,1,1,2,2,1,1,1,4,5,1,1,3,2,4,2,6,1,5,4,3,4,4,5,5,9,3,5,9,4,12,4,3,3,6,6,2,2,2,7,5,10,3,4,6,1,5,6,5,2,6,2,5,6,7,8,5,8,7,9,8,17,11,14,10,14,11,12,13,19,16,19,22,13,24,22,16,18,14,15,14,25,21,20,22,16,13,20,5],\"yaxis\":\"y\",\"type\":\"scatter\"},{\"hovertemplate\":\"Genre=family\\u003cbr\\u003eReleased_Year=%{x}\\u003cbr\\u003eCount=%{y}\\u003cextra\\u003e\\u003c\\u002fextra\\u003e\",\"legendgroup\":\"family\",\"line\":{\"color\":\"#19d3f3\",\"dash\":\"solid\"},\"marker\":{\"symbol\":\"circle\"},\"mode\":\"lines\",\"name\":\"family\",\"orientation\":\"v\",\"showlegend\":true,\"x\":[1921.0,1936.0,1938.0,1939.0,1940.0,1946.0,1947.0,1964.0,1965.0,1967.0,1971.0,1973.0,1979.0,1982.0,1983.0,1985.0,1987.0,1988.0,1989.0,1990.0,1991.0,1992.0,1993.0,1995.0,1997.0,1998.0,1999.0,2001.0,2004.0,2005.0,2007.0,2008.0,2009.0,2010.0,2012.0,2014.0,2016.0,2017.0],\"xaxis\":\"x\",\"y\":[1,1,1,1,1,1,1,2,1,1,2,1,2,1,1,1,1,1,1,1,1,1,2,2,1,1,1,2,4,2,3,1,4,2,1,1,1,3],\"yaxis\":\"y\",\"type\":\"scatter\"},{\"hovertemplate\":\"Genre=action\\u003cbr\\u003eReleased_Year=%{x}\\u003cbr\\u003eCount=%{y}\\u003cextra\\u003e\\u003c\\u002fextra\\u003e\",\"legendgroup\":\"action\",\"line\":{\"color\":\"#FF6692\",\"dash\":\"solid\"},\"marker\":{\"symbol\":\"circle\"},\"mode\":\"lines\",\"name\":\"action\",\"orientation\":\"v\",\"showlegend\":true,\"x\":[1924.0,1926.0,1932.0,1938.0,1948.0,1949.0,1954.0,1959.0,1960.0,1961.0,1962.0,1964.0,1967.0,1968.0,1969.0,1971.0,1972.0,1973.0,1974.0,1975.0,1977.0,1978.0,1979.0,1980.0,1981.0,1982.0,1983.0,1984.0,1985.0,1986.0,1987.0,1988.0,1989.0,1991.0,1992.0,1993.0,1994.0,1995.0,1997.0,1998.0,1999.0,2000.0,2001.0,2002.0,2003.0,2004.0,2005.0,2006.0,2007.0,2008.0,2009.0,2010.0,2011.0,2012.0,2013.0,2014.0,2015.0,2016.0,2017.0,2018.0,2019.0],\"xaxis\":\"x\",\"y\":[1,1,1,1,2,1,1,1,1,1,3,2,2,1,1,2,1,2,1,1,1,1,2,2,2,3,1,2,1,1,4,2,2,1,2,6,2,2,5,1,3,6,2,6,5,6,4,6,5,6,8,6,3,6,2,11,7,7,9,8,3],\"yaxis\":\"y\",\"type\":\"scatter\"},{\"hovertemplate\":\"Genre=romance\\u003cbr\\u003eReleased_Year=%{x}\\u003cbr\\u003eCount=%{y}\\u003cextra\\u003e\\u003c\\u002fextra\\u003e\",\"legendgroup\":\"romance\",\"line\":{\"color\":\"#B6E880\",\"dash\":\"solid\"},\"marker\":{\"symbol\":\"circle\"},\"mode\":\"lines\",\"name\":\"romance\",\"orientation\":\"v\",\"showlegend\":true,\"x\":[1924.0,1927.0,1928.0,1931.0,1934.0,1938.0,1939.0,1940.0,1942.0,1945.0,1946.0,1948.0,1951.0,1952.0,1953.0,1954.0,1957.0,1958.0,1959.0,1960.0,1961.0,1962.0,1963.0,1965.0,1967.0,1971.0,1977.0,1978.0,1979.0,1985.0,1987.0,1988.0,1989.0,1990.0,1991.0,1993.0,1994.0,1995.0,1997.0,1998.0,2000.0,2001.0,2002.0,2003.0,2004.0,2005.0,2006.0,2007.0,2008.0,2009.0,2010.0,2011.0,2012.0,2013.0,2014.0,2015.0,2016.0,2017.0,2018.0,2019.0,2020.0],\"xaxis\":\"x\",\"y\":[1,1,1,1,1,2,1,4,1,1,3,1,1,2,2,1,1,1,2,1,1,1,1,1,2,2,1,1,1,1,1,1,1,1,2,5,4,4,5,3,2,3,1,3,6,3,1,3,2,4,2,3,7,4,2,2,1,2,1,4,1],\"yaxis\":\"y\",\"type\":\"scatter\"},{\"hovertemplate\":\"Genre=adventure\\u003cbr\\u003eReleased_Year=%{x}\\u003cbr\\u003eCount=%{y}\\u003cextra\\u003e\\u003c\\u002fextra\\u003e\",\"legendgroup\":\"adventure\",\"line\":{\"color\":\"#FF97FF\",\"dash\":\"solid\"},\"marker\":{\"symbol\":\"circle\"},\"mode\":\"lines\",\"name\":\"adventure\",\"orientation\":\"v\",\"showlegend\":true,\"x\":[1925.0,1926.0,1933.0,1938.0,1939.0,1944.0,1948.0,1951.0,1953.0,1954.0,1956.0,1957.0,1958.0,1959.0,1960.0,1962.0,1963.0,1964.0,1967.0,1968.0,1969.0,1970.0,1972.0,1973.0,1975.0,1977.0,1978.0,1979.0,1980.0,1981.0,1982.0,1983.0,1984.0,1985.0,1986.0,1987.0,1988.0,1989.0,1990.0,1992.0,1993.0,1994.0,1995.0,1997.0,1998.0,1999.0,2000.0,2001.0,2002.0,2003.0,2004.0,2005.0,2006.0,2007.0,2008.0,2009.0,2010.0,2011.0,2012.0,2013.0,2014.0,2015.0,2016.0,2017.0,2018.0,2019.0,2020.0],\"xaxis\":\"x\",\"y\":[1,1,1,1,2,1,2,1,1,1,2,1,1,2,2,1,1,1,2,3,1,1,2,1,5,1,2,2,2,3,3,2,1,2,3,2,1,3,1,3,2,1,3,2,2,3,6,6,4,5,5,3,7,3,3,10,6,2,6,6,12,7,7,4,6,5,1],\"yaxis\":\"y\",\"type\":\"scatter\"},{\"hovertemplate\":\"Genre=history\\u003cbr\\u003eReleased_Year=%{x}\\u003cbr\\u003eCount=%{y}\\u003cextra\\u003e\\u003c\\u002fextra\\u003e\",\"legendgroup\":\"history\",\"line\":{\"color\":\"#FECB52\",\"dash\":\"solid\"},\"marker\":{\"symbol\":\"circle\"},\"mode\":\"lines\",\"name\":\"history\",\"orientation\":\"v\",\"showlegend\":true,\"x\":[1925.0,1928.0,1939.0,1940.0,1957.0,1959.0,1960.0,1962.0,1963.0,1964.0,1966.0,1968.0,1975.0,1976.0,1980.0,1982.0,1984.0,1987.0,1988.0,1989.0,1991.0,1992.0,1993.0,1995.0,1999.0,2001.0,2002.0,2004.0,2005.0,2006.0,2008.0,2009.0,2010.0,2013.0,2015.0,2016.0,2017.0,2019.0,2020.0],\"xaxis\":\"x\",\"y\":[1,1,1,1,2,1,1,1,1,1,2,1,2,2,1,1,2,2,1,1,2,1,1,1,1,2,1,2,2,1,2,1,1,1,3,3,2,1,2],\"yaxis\":\"y\",\"type\":\"scatter\"},{\"hovertemplate\":\"Genre=thriller\\u003cbr\\u003eReleased_Year=%{x}\\u003cbr\\u003eCount=%{y}\\u003cextra\\u003e\\u003c\\u002fextra\\u003e\",\"legendgroup\":\"thriller\",\"line\":{\"color\":\"#636efa\",\"dash\":\"solid\"},\"marker\":{\"symbol\":\"circle\"},\"mode\":\"lines\",\"name\":\"thriller\",\"orientation\":\"v\",\"showlegend\":true,\"x\":[1925.0,1931.0,1935.0,1938.0,1942.0,1943.0,1949.0,1951.0,1952.0,1953.0,1954.0,1955.0,1958.0,1959.0,1960.0,1961.0,1962.0,1964.0,1965.0,1966.0,1967.0,1968.0,1971.0,1972.0,1973.0,1974.0,1975.0,1976.0,1978.0,1979.0,1981.0,1982.0,1984.0,1985.0,1986.0,1987.0,1988.0,1990.0,1991.0,1992.0,1993.0,1995.0,1996.0,1997.0,1998.0,1999.0,2000.0,2001.0,2002.0,2003.0,2004.0,2005.0,2006.0,2007.0,2008.0,2009.0,2010.0,2011.0,2012.0,2013.0,2014.0,2015.0,2016.0,2017.0,2018.0,2019.0,2020.0],\"xaxis\":\"x\",\"y\":[1,1,1,1,1,1,1,1,1,1,3,1,1,1,2,1,3,1,1,2,1,1,1,2,1,3,1,1,1,1,1,1,1,1,1,2,2,2,3,3,1,4,3,3,2,3,4,5,3,1,7,2,5,2,3,2,3,2,4,3,6,3,2,1,3,3,1],\"yaxis\":\"y\",\"type\":\"scatter\"},{\"hovertemplate\":\"Genre=sci-fi\\u003cbr\\u003eReleased_Year=%{x}\\u003cbr\\u003eCount=%{y}\\u003cextra\\u003e\\u003c\\u002fextra\\u003e\",\"legendgroup\":\"sci-fi\",\"line\":{\"color\":\"#EF553B\",\"dash\":\"solid\"},\"marker\":{\"symbol\":\"circle\"},\"mode\":\"lines\",\"name\":\"sci-fi\",\"orientation\":\"v\",\"showlegend\":true,\"x\":[1927.0,1931.0,1933.0,1935.0,1951.0,1956.0,1968.0,1971.0,1972.0,1973.0,1977.0,1979.0,1981.0,1982.0,1984.0,1985.0,1986.0,1987.0,1988.0,1989.0,1991.0,1993.0,1995.0,1997.0,1998.0,1999.0,2001.0,2002.0,2004.0,2005.0,2006.0,2008.0,2009.0,2010.0,2011.0,2012.0,2013.0,2014.0,2015.0,2016.0,2017.0,2018.0],\"xaxis\":\"x\",\"y\":[1,1,2,1,1,1,2,1,1,1,1,2,1,4,1,2,1,1,1,1,1,1,1,3,1,1,1,1,3,2,2,1,3,1,1,1,3,5,3,3,1,1],\"yaxis\":\"y\",\"type\":\"scatter\"},{\"hovertemplate\":\"Genre=biography\\u003cbr\\u003eReleased_Year=%{x}\\u003cbr\\u003eCount=%{y}\\u003cextra\\u003e\\u003c\\u002fextra\\u003e\",\"legendgroup\":\"biography\",\"line\":{\"color\":\"#00cc96\",\"dash\":\"solid\"},\"marker\":{\"symbol\":\"circle\"},\"mode\":\"lines\",\"name\":\"biography\",\"orientation\":\"v\",\"showlegend\":true,\"x\":[1928.0,1960.0,1962.0,1965.0,1966.0,1967.0,1968.0,1969.0,1970.0,1972.0,1973.0,1975.0,1976.0,1978.0,1979.0,1980.0,1982.0,1983.0,1984.0,1987.0,1989.0,1990.0,1992.0,1993.0,1994.0,1995.0,1996.0,1997.0,1999.0,2000.0,2001.0,2002.0,2004.0,2005.0,2006.0,2007.0,2008.0,2009.0,2010.0,2011.0,2012.0,2013.0,2014.0,2015.0,2016.0,2017.0,2018.0,2019.0,2020.0],\"xaxis\":\"x\",\"y\":[1,2,1,1,2,1,1,1,1,1,2,2,2,1,1,2,1,1,2,1,2,2,1,3,2,1,1,1,4,1,2,2,5,3,3,6,3,2,3,2,2,8,4,3,5,3,2,5,1],\"yaxis\":\"y\",\"type\":\"scatter\"},{\"hovertemplate\":\"Genre=war\\u003cbr\\u003eReleased_Year=%{x}\\u003cbr\\u003eCount=%{y}\\u003cextra\\u003e\\u003c\\u002fextra\\u003e\",\"legendgroup\":\"war\",\"line\":{\"color\":\"#ab63fa\",\"dash\":\"solid\"},\"marker\":{\"symbol\":\"circle\"},\"mode\":\"lines\",\"name\":\"war\",\"orientation\":\"v\",\"showlegend\":true,\"x\":[1930.0,1933.0,1937.0,1940.0,1942.0,1944.0,1946.0,1953.0,1957.0,1961.0,1962.0,1964.0,1965.0,1966.0,1967.0,1968.0,1970.0,1971.0,1975.0,1978.0,1979.0,1980.0,1985.0,1986.0,1987.0,1988.0,1995.0,1998.0,2001.0,2004.0,2006.0,2008.0,2009.0,2010.0,2013.0,2015.0,2018.0,2019.0],\"xaxis\":\"x\",\"y\":[1,1,1,1,2,1,1,2,2,1,1,1,1,1,1,1,2,1,2,1,1,1,2,1,2,1,1,2,3,1,2,1,1,1,1,2,1,2],\"yaxis\":\"y\",\"type\":\"scatter\"},{\"hovertemplate\":\"Genre=crime\\u003cbr\\u003eReleased_Year=%{x}\\u003cbr\\u003eCount=%{y}\\u003cextra\\u003e\\u003c\\u002fextra\\u003e\",\"legendgroup\":\"crime\",\"line\":{\"color\":\"#FFA15A\",\"dash\":\"solid\"},\"marker\":{\"symbol\":\"circle\"},\"mode\":\"lines\",\"name\":\"crime\",\"orientation\":\"v\",\"showlegend\":true,\"x\":[1931.0,1932.0,1934.0,1935.0,1942.0,1944.0,1946.0,1947.0,1948.0,1949.0,1950.0,1951.0,1954.0,1955.0,1956.0,1957.0,1958.0,1959.0,1960.0,1962.0,1963.0,1967.0,1969.0,1971.0,1972.0,1973.0,1974.0,1975.0,1976.0,1978.0,1979.0,1982.0,1983.0,1984.0,1985.0,1986.0,1987.0,1988.0,1989.0,1990.0,1991.0,1992.0,1993.0,1994.0,1995.0,1996.0,1997.0,1998.0,1999.0,2000.0,2001.0,2002.0,2003.0,2004.0,2005.0,2006.0,2007.0,2008.0,2009.0,2010.0,2011.0,2012.0,2013.0,2014.0,2015.0,2016.0,2017.0,2018.0,2019.0],\"xaxis\":\"x\",\"y\":[1,1,1,1,1,1,1,1,2,2,1,1,2,4,1,2,1,2,1,2,1,4,1,3,1,8,2,1,1,1,2,1,1,2,1,2,2,3,1,3,3,4,8,4,7,4,6,4,2,6,4,7,5,5,3,6,7,6,4,5,3,3,6,5,7,3,5,2,5],\"yaxis\":\"y\",\"type\":\"scatter\"},{\"hovertemplate\":\"Genre=musical\\u003cbr\\u003eReleased_Year=%{x}\\u003cbr\\u003eCount=%{y}\\u003cextra\\u003e\\u003c\\u002fextra\\u003e\",\"legendgroup\":\"musical\",\"line\":{\"color\":\"#19d3f3\",\"dash\":\"solid\"},\"marker\":{\"symbol\":\"circle\"},\"mode\":\"lines\",\"name\":\"musical\",\"orientation\":\"v\",\"showlegend\":true,\"x\":[1933.0,1935.0,1952.0,1964.0,1971.0,1972.0,1979.0,2000.0,2001.0,2003.0,2004.0,2011.0,2014.0],\"xaxis\":\"x\",\"y\":[1,1,1,2,3,1,1,1,1,2,1,1,1],\"yaxis\":\"y\",\"type\":\"scatter\"},{\"hovertemplate\":\"Genre=music\\u003cbr\\u003eReleased_Year=%{x}\\u003cbr\\u003eCount=%{y}\\u003cextra\\u003e\\u003c\\u002fextra\\u003e\",\"legendgroup\":\"music\",\"line\":{\"color\":\"#FF6692\",\"dash\":\"solid\"},\"marker\":{\"symbol\":\"circle\"},\"mode\":\"lines\",\"name\":\"music\",\"orientation\":\"v\",\"showlegend\":true,\"x\":[1935.0,1948.0,1959.0,1964.0,1972.0,1978.0,1979.0,1982.0,1984.0,1991.0,1993.0,1996.0,1998.0,2000.0,2001.0,2002.0,2004.0,2005.0,2007.0,2008.0,2011.0,2012.0,2014.0,2016.0,2018.0,2019.0],\"xaxis\":\"x\",\"y\":[1,1,1,1,1,1,1,1,1,1,2,1,1,1,1,1,2,2,3,1,1,1,1,2,3,2],\"yaxis\":\"y\",\"type\":\"scatter\"},{\"hovertemplate\":\"Genre=western\\u003cbr\\u003eReleased_Year=%{x}\\u003cbr\\u003eCount=%{y}\\u003cextra\\u003e\\u003c\\u002fextra\\u003e\",\"legendgroup\":\"western\",\"line\":{\"color\":\"#B6E880\",\"dash\":\"solid\"},\"marker\":{\"symbol\":\"circle\"},\"mode\":\"lines\",\"name\":\"western\",\"orientation\":\"v\",\"showlegend\":true,\"x\":[1939.0,1948.0,1952.0,1956.0,1959.0,1960.0,1962.0,1964.0,1965.0,1966.0,1968.0,1969.0,1971.0,1974.0,1976.0,1990.0,1992.0,2010.0,2012.0],\"xaxis\":\"x\",\"y\":[1,1,1,2,1,1,1,1,1,1,1,1,1,1,1,1,1,1,1],\"yaxis\":\"y\",\"type\":\"scatter\"},{\"hovertemplate\":\"Genre=animation\\u003cbr\\u003eReleased_Year=%{x}\\u003cbr\\u003eCount=%{y}\\u003cextra\\u003e\\u003c\\u002fextra\\u003e\",\"legendgroup\":\"animation\",\"line\":{\"color\":\"#FF97FF\",\"dash\":\"solid\"},\"marker\":{\"symbol\":\"circle\"},\"mode\":\"lines\",\"name\":\"animation\",\"orientation\":\"v\",\"showlegend\":true,\"x\":[1940.0,1967.0,1973.0,1978.0,1979.0,1984.0,1986.0,1988.0,1989.0,1991.0,1992.0,1993.0,1994.0,1995.0,1997.0,1998.0,1999.0,2000.0,2001.0,2003.0,2004.0,2006.0,2007.0,2008.0,2009.0,2010.0,2012.0,2013.0,2014.0,2015.0,2016.0,2017.0,2018.0,2019.0,2020.0],\"xaxis\":\"x\",\"y\":[1,1,1,1,1,1,1,4,2,2,2,3,1,3,3,1,3,1,5,3,2,2,2,2,5,5,2,2,5,2,5,2,3,2,1],\"yaxis\":\"y\",\"type\":\"scatter\"},{\"hovertemplate\":\"Genre=film-noir\\u003cbr\\u003eReleased_Year=%{x}\\u003cbr\\u003eCount=%{y}\\u003cextra\\u003e\\u003c\\u002fextra\\u003e\",\"legendgroup\":\"film-noir\",\"line\":{\"color\":\"#FECB52\",\"dash\":\"solid\"},\"marker\":{\"symbol\":\"circle\"},\"mode\":\"lines\",\"name\":\"film-noir\",\"orientation\":\"v\",\"showlegend\":true,\"x\":[1941.0,1943.0,1944.0,1945.0,1946.0,1947.0,1949.0,1950.0,1951.0,1955.0,1956.0,1957.0,1958.0],\"xaxis\":\"x\",\"y\":[1,1,3,1,3,1,1,2,2,1,1,1,1],\"yaxis\":\"y\",\"type\":\"scatter\"},{\"hovertemplate\":\"Genre=sport\\u003cbr\\u003eReleased_Year=%{x}\\u003cbr\\u003eCount=%{y}\\u003cextra\\u003e\\u003c\\u002fextra\\u003e\",\"legendgroup\":\"sport\",\"line\":{\"color\":\"#636efa\",\"dash\":\"solid\"},\"marker\":{\"symbol\":\"circle\"},\"mode\":\"lines\",\"name\":\"sport\",\"orientation\":\"v\",\"showlegend\":true,\"x\":[1961.0,1976.0,1980.0,1997.0,1998.0,1999.0,2000.0,2004.0,2005.0,2007.0,2008.0,2009.0,2010.0,2011.0,2013.0,2015.0,2016.0],\"xaxis\":\"x\",\"y\":[1,1,1,1,1,1,1,1,1,1,1,1,1,2,2,1,1],\"yaxis\":\"y\",\"type\":\"scatter\"}],                        {\"template\":{\"data\":{\"histogram2dcontour\":[{\"type\":\"histogram2dcontour\",\"colorbar\":{\"outlinewidth\":0,\"ticks\":\"\"},\"colorscale\":[[0.0,\"#0d0887\"],[0.1111111111111111,\"#46039f\"],[0.2222222222222222,\"#7201a8\"],[0.3333333333333333,\"#9c179e\"],[0.4444444444444444,\"#bd3786\"],[0.5555555555555556,\"#d8576b\"],[0.6666666666666666,\"#ed7953\"],[0.7777777777777778,\"#fb9f3a\"],[0.8888888888888888,\"#fdca26\"],[1.0,\"#f0f921\"]]}],\"choropleth\":[{\"type\":\"choropleth\",\"colorbar\":{\"outlinewidth\":0,\"ticks\":\"\"}}],\"histogram2d\":[{\"type\":\"histogram2d\",\"colorbar\":{\"outlinewidth\":0,\"ticks\":\"\"},\"colorscale\":[[0.0,\"#0d0887\"],[0.1111111111111111,\"#46039f\"],[0.2222222222222222,\"#7201a8\"],[0.3333333333333333,\"#9c179e\"],[0.4444444444444444,\"#bd3786\"],[0.5555555555555556,\"#d8576b\"],[0.6666666666666666,\"#ed7953\"],[0.7777777777777778,\"#fb9f3a\"],[0.8888888888888888,\"#fdca26\"],[1.0,\"#f0f921\"]]}],\"heatmap\":[{\"type\":\"heatmap\",\"colorbar\":{\"outlinewidth\":0,\"ticks\":\"\"},\"colorscale\":[[0.0,\"#0d0887\"],[0.1111111111111111,\"#46039f\"],[0.2222222222222222,\"#7201a8\"],[0.3333333333333333,\"#9c179e\"],[0.4444444444444444,\"#bd3786\"],[0.5555555555555556,\"#d8576b\"],[0.6666666666666666,\"#ed7953\"],[0.7777777777777778,\"#fb9f3a\"],[0.8888888888888888,\"#fdca26\"],[1.0,\"#f0f921\"]]}],\"heatmapgl\":[{\"type\":\"heatmapgl\",\"colorbar\":{\"outlinewidth\":0,\"ticks\":\"\"},\"colorscale\":[[0.0,\"#0d0887\"],[0.1111111111111111,\"#46039f\"],[0.2222222222222222,\"#7201a8\"],[0.3333333333333333,\"#9c179e\"],[0.4444444444444444,\"#bd3786\"],[0.5555555555555556,\"#d8576b\"],[0.6666666666666666,\"#ed7953\"],[0.7777777777777778,\"#fb9f3a\"],[0.8888888888888888,\"#fdca26\"],[1.0,\"#f0f921\"]]}],\"contourcarpet\":[{\"type\":\"contourcarpet\",\"colorbar\":{\"outlinewidth\":0,\"ticks\":\"\"}}],\"contour\":[{\"type\":\"contour\",\"colorbar\":{\"outlinewidth\":0,\"ticks\":\"\"},\"colorscale\":[[0.0,\"#0d0887\"],[0.1111111111111111,\"#46039f\"],[0.2222222222222222,\"#7201a8\"],[0.3333333333333333,\"#9c179e\"],[0.4444444444444444,\"#bd3786\"],[0.5555555555555556,\"#d8576b\"],[0.6666666666666666,\"#ed7953\"],[0.7777777777777778,\"#fb9f3a\"],[0.8888888888888888,\"#fdca26\"],[1.0,\"#f0f921\"]]}],\"surface\":[{\"type\":\"surface\",\"colorbar\":{\"outlinewidth\":0,\"ticks\":\"\"},\"colorscale\":[[0.0,\"#0d0887\"],[0.1111111111111111,\"#46039f\"],[0.2222222222222222,\"#7201a8\"],[0.3333333333333333,\"#9c179e\"],[0.4444444444444444,\"#bd3786\"],[0.5555555555555556,\"#d8576b\"],[0.6666666666666666,\"#ed7953\"],[0.7777777777777778,\"#fb9f3a\"],[0.8888888888888888,\"#fdca26\"],[1.0,\"#f0f921\"]]}],\"mesh3d\":[{\"type\":\"mesh3d\",\"colorbar\":{\"outlinewidth\":0,\"ticks\":\"\"}}],\"scatter\":[{\"marker\":{\"line\":{\"color\":\"#283442\"}},\"type\":\"scatter\"}],\"parcoords\":[{\"type\":\"parcoords\",\"line\":{\"colorbar\":{\"outlinewidth\":0,\"ticks\":\"\"}}}],\"scatterpolargl\":[{\"type\":\"scatterpolargl\",\"marker\":{\"colorbar\":{\"outlinewidth\":0,\"ticks\":\"\"}}}],\"bar\":[{\"error_x\":{\"color\":\"#f2f5fa\"},\"error_y\":{\"color\":\"#f2f5fa\"},\"marker\":{\"line\":{\"color\":\"rgb(17,17,17)\",\"width\":0.5},\"pattern\":{\"fillmode\":\"overlay\",\"size\":10,\"solidity\":0.2}},\"type\":\"bar\"}],\"scattergeo\":[{\"type\":\"scattergeo\",\"marker\":{\"colorbar\":{\"outlinewidth\":0,\"ticks\":\"\"}}}],\"scatterpolar\":[{\"type\":\"scatterpolar\",\"marker\":{\"colorbar\":{\"outlinewidth\":0,\"ticks\":\"\"}}}],\"histogram\":[{\"marker\":{\"pattern\":{\"fillmode\":\"overlay\",\"size\":10,\"solidity\":0.2}},\"type\":\"histogram\"}],\"scattergl\":[{\"marker\":{\"line\":{\"color\":\"#283442\"}},\"type\":\"scattergl\"}],\"scatter3d\":[{\"type\":\"scatter3d\",\"line\":{\"colorbar\":{\"outlinewidth\":0,\"ticks\":\"\"}},\"marker\":{\"colorbar\":{\"outlinewidth\":0,\"ticks\":\"\"}}}],\"scattermapbox\":[{\"type\":\"scattermapbox\",\"marker\":{\"colorbar\":{\"outlinewidth\":0,\"ticks\":\"\"}}}],\"scatterternary\":[{\"type\":\"scatterternary\",\"marker\":{\"colorbar\":{\"outlinewidth\":0,\"ticks\":\"\"}}}],\"scattercarpet\":[{\"type\":\"scattercarpet\",\"marker\":{\"colorbar\":{\"outlinewidth\":0,\"ticks\":\"\"}}}],\"carpet\":[{\"aaxis\":{\"endlinecolor\":\"#A2B1C6\",\"gridcolor\":\"#506784\",\"linecolor\":\"#506784\",\"minorgridcolor\":\"#506784\",\"startlinecolor\":\"#A2B1C6\"},\"baxis\":{\"endlinecolor\":\"#A2B1C6\",\"gridcolor\":\"#506784\",\"linecolor\":\"#506784\",\"minorgridcolor\":\"#506784\",\"startlinecolor\":\"#A2B1C6\"},\"type\":\"carpet\"}],\"table\":[{\"cells\":{\"fill\":{\"color\":\"#506784\"},\"line\":{\"color\":\"rgb(17,17,17)\"}},\"header\":{\"fill\":{\"color\":\"#2a3f5f\"},\"line\":{\"color\":\"rgb(17,17,17)\"}},\"type\":\"table\"}],\"barpolar\":[{\"marker\":{\"line\":{\"color\":\"rgb(17,17,17)\",\"width\":0.5},\"pattern\":{\"fillmode\":\"overlay\",\"size\":10,\"solidity\":0.2}},\"type\":\"barpolar\"}],\"pie\":[{\"automargin\":true,\"type\":\"pie\"}]},\"layout\":{\"autotypenumbers\":\"strict\",\"colorway\":[\"#636efa\",\"#EF553B\",\"#00cc96\",\"#ab63fa\",\"#FFA15A\",\"#19d3f3\",\"#FF6692\",\"#B6E880\",\"#FF97FF\",\"#FECB52\"],\"font\":{\"color\":\"#f2f5fa\"},\"hovermode\":\"closest\",\"hoverlabel\":{\"align\":\"left\"},\"paper_bgcolor\":\"rgb(17,17,17)\",\"plot_bgcolor\":\"rgb(17,17,17)\",\"polar\":{\"bgcolor\":\"rgb(17,17,17)\",\"angularaxis\":{\"gridcolor\":\"#506784\",\"linecolor\":\"#506784\",\"ticks\":\"\"},\"radialaxis\":{\"gridcolor\":\"#506784\",\"linecolor\":\"#506784\",\"ticks\":\"\"}},\"ternary\":{\"bgcolor\":\"rgb(17,17,17)\",\"aaxis\":{\"gridcolor\":\"#506784\",\"linecolor\":\"#506784\",\"ticks\":\"\"},\"baxis\":{\"gridcolor\":\"#506784\",\"linecolor\":\"#506784\",\"ticks\":\"\"},\"caxis\":{\"gridcolor\":\"#506784\",\"linecolor\":\"#506784\",\"ticks\":\"\"}},\"coloraxis\":{\"colorbar\":{\"outlinewidth\":0,\"ticks\":\"\"}},\"colorscale\":{\"sequential\":[[0.0,\"#0d0887\"],[0.1111111111111111,\"#46039f\"],[0.2222222222222222,\"#7201a8\"],[0.3333333333333333,\"#9c179e\"],[0.4444444444444444,\"#bd3786\"],[0.5555555555555556,\"#d8576b\"],[0.6666666666666666,\"#ed7953\"],[0.7777777777777778,\"#fb9f3a\"],[0.8888888888888888,\"#fdca26\"],[1.0,\"#f0f921\"]],\"sequentialminus\":[[0.0,\"#0d0887\"],[0.1111111111111111,\"#46039f\"],[0.2222222222222222,\"#7201a8\"],[0.3333333333333333,\"#9c179e\"],[0.4444444444444444,\"#bd3786\"],[0.5555555555555556,\"#d8576b\"],[0.6666666666666666,\"#ed7953\"],[0.7777777777777778,\"#fb9f3a\"],[0.8888888888888888,\"#fdca26\"],[1.0,\"#f0f921\"]],\"diverging\":[[0,\"#8e0152\"],[0.1,\"#c51b7d\"],[0.2,\"#de77ae\"],[0.3,\"#f1b6da\"],[0.4,\"#fde0ef\"],[0.5,\"#f7f7f7\"],[0.6,\"#e6f5d0\"],[0.7,\"#b8e186\"],[0.8,\"#7fbc41\"],[0.9,\"#4d9221\"],[1,\"#276419\"]]},\"xaxis\":{\"gridcolor\":\"#283442\",\"linecolor\":\"#506784\",\"ticks\":\"\",\"title\":{\"standoff\":15},\"zerolinecolor\":\"#283442\",\"automargin\":true,\"zerolinewidth\":2},\"yaxis\":{\"gridcolor\":\"#283442\",\"linecolor\":\"#506784\",\"ticks\":\"\",\"title\":{\"standoff\":15},\"zerolinecolor\":\"#283442\",\"automargin\":true,\"zerolinewidth\":2},\"scene\":{\"xaxis\":{\"backgroundcolor\":\"rgb(17,17,17)\",\"gridcolor\":\"#506784\",\"linecolor\":\"#506784\",\"showbackground\":true,\"ticks\":\"\",\"zerolinecolor\":\"#C8D4E3\",\"gridwidth\":2},\"yaxis\":{\"backgroundcolor\":\"rgb(17,17,17)\",\"gridcolor\":\"#506784\",\"linecolor\":\"#506784\",\"showbackground\":true,\"ticks\":\"\",\"zerolinecolor\":\"#C8D4E3\",\"gridwidth\":2},\"zaxis\":{\"backgroundcolor\":\"rgb(17,17,17)\",\"gridcolor\":\"#506784\",\"linecolor\":\"#506784\",\"showbackground\":true,\"ticks\":\"\",\"zerolinecolor\":\"#C8D4E3\",\"gridwidth\":2}},\"shapedefaults\":{\"line\":{\"color\":\"#f2f5fa\"}},\"annotationdefaults\":{\"arrowcolor\":\"#f2f5fa\",\"arrowhead\":0,\"arrowwidth\":1},\"geo\":{\"bgcolor\":\"rgb(17,17,17)\",\"landcolor\":\"rgb(17,17,17)\",\"subunitcolor\":\"#506784\",\"showland\":true,\"showlakes\":true,\"lakecolor\":\"rgb(17,17,17)\"},\"title\":{\"x\":0.05},\"updatemenudefaults\":{\"bgcolor\":\"#506784\",\"borderwidth\":0},\"sliderdefaults\":{\"bgcolor\":\"#C8D4E3\",\"borderwidth\":1,\"bordercolor\":\"rgb(17,17,17)\",\"tickwidth\":0},\"mapbox\":{\"style\":\"dark\"}}},\"xaxis\":{\"anchor\":\"y\",\"domain\":[0.0,1.0],\"title\":{\"text\":\"Released_Year\"}},\"yaxis\":{\"anchor\":\"x\",\"domain\":[0.0,1.0],\"title\":{\"text\":\"Count\"}},\"legend\":{\"title\":{\"text\":\"Genre\"},\"tracegroupgap\":0},\"title\":{\"text\":\"Genre Popularity Over Time\"}},                        {\"responsive\": true}                    ).then(function(){\n",
       "                            \n",
       "var gd = document.getElementById('08231913-6555-4e4e-97bb-143d6472825a');\n",
       "var x = new MutationObserver(function (mutations, observer) {{\n",
       "        var display = window.getComputedStyle(gd).display;\n",
       "        if (!display || display === 'none') {{\n",
       "            console.log([gd, 'removed!']);\n",
       "            Plotly.purge(gd);\n",
       "            observer.disconnect();\n",
       "        }}\n",
       "}});\n",
       "\n",
       "// Listen for the removal of the full notebook cells\n",
       "var notebookContainer = gd.closest('#notebook-container');\n",
       "if (notebookContainer) {{\n",
       "    x.observe(notebookContainer, {childList: true});\n",
       "}}\n",
       "\n",
       "// Listen for the clearing of the current output cell\n",
       "var outputEl = gd.closest('.output');\n",
       "if (outputEl) {{\n",
       "    x.observe(outputEl, {childList: true});\n",
       "}}\n",
       "\n",
       "                        })                };                });            </script>        </div>"
      ]
     },
     "metadata": {},
     "output_type": "display_data"
    }
   ],
   "execution_count": 104
  },
  {
   "metadata": {},
   "cell_type": "markdown",
   "source": [
    "### Movie Similarity Calculation\n",
    "\n",
    "#### Helper Functions for Similarity Calculation\n",
    "This section contains helper functions and the main logic to calculate the similarity between two movies based on different features such as the year of release, runtime, IMDB rating, certificate, genre, and director/stars. Each function calculates a specific aspect of the similarity, and they are all combined to generate a total similarity score. This score can be used to recommend similar movies.\n",
    "\n",
    "## Normalizing Similarity Scores for Equal Impact\n",
    "\n",
    "To ensure that each feature (e.g., year, runtime, rating, etc.) contributes equally to the final similarity score, we normalize the values to a common range (0-1 scale). This ensures that no single feature disproportionately affects the final score. Below are the updated similarity functions with normalization for each attribute.\n",
    "\n",
    "### 1. **Released Year Similarity**\n",
    "We normalize the year difference by dividing it by the maximum possible year difference (100 years by default). This ensures the year difference is on a 0-1 scale.\n",
    "\n"
   ],
   "id": "73e729c826a22d5"
  },
  {
   "cell_type": "code",
   "id": "a37315bcce1d31cc",
   "metadata": {
    "ExecuteTime": {
     "end_time": "2025-04-03T14:34:37.370908Z",
     "start_time": "2025-04-03T14:34:37.362906Z"
    }
   },
   "source": [
    "import numpy as np\n",
    "\n",
    "\n",
    "# Helper functions for similarity calculation\n",
    "\n",
    "# Released Year similarity\n",
    "BasePointReleasedYear = 10  # Base points for same year\n",
    "year_multiplier = 0.1  # Decay factor for the year difference\n",
    "def get_year_similarity_points(movie_year, compare_year, max_year_diff=100):\n",
    "    year_diff = abs(movie_year - compare_year)\n",
    "    # Normalize the year difference to a 0-1 scale\n",
    "    normalized_year_diff = year_diff / max_year_diff\n",
    "    return BasePointReleasedYear * np.exp(-year_multiplier * normalized_year_diff)\n",
    "\n",
    "# Runtime similarity\n",
    "# Runtime similarity\n",
    "BasePointRuntime = 5  # Base points for matching runtime\n",
    "runtime_multiplier = 0.05  # Decay factor for runtime difference\n",
    "def get_runtime_similarity_points(movie_runtime, compare_runtime, max_runtime_diff=120):\n",
    "    runtime_diff = abs(movie_runtime - compare_runtime)\n",
    "    # Normalize the runtime difference to a 0-1 scale\n",
    "    normalized_runtime_diff = runtime_diff / max_runtime_diff\n",
    "    return BasePointRuntime * np.exp(-runtime_multiplier * normalized_runtime_diff)\n",
    "\n",
    "\n",
    "# IMDB Rating similarity\n",
    "BasePointIMDB = 5  # Base points for matching IMDB rating\n",
    "rating_multiplier = 0.2  # Decay factor for rating difference\n",
    "def get_rating_similarity_points(movie_rating, compare_rating):\n",
    "    rating_diff = abs(movie_rating - compare_rating)\n",
    "    return BasePointIMDB * np.exp(-rating_multiplier * rating_diff)\n",
    "\n",
    "\n",
    "# Certificate similarity\n",
    "BasePointCert = 10  # Base points for certificate similarity\n",
    "def get_cert_similarity_points(movie_cert, compare_cert):\n",
    "    cert_diff = abs(movie_cert - compare_cert) / 4  # Normalize the certificate difference to a 0-1 scale\n",
    "    return BasePointCert * (1 - cert_diff)\n",
    "\n",
    "\n",
    "# Genre similarity\n",
    "BasePointGenres = 10  # Base points for matching genre\n",
    "def get_genre_similarity_points(movie_genres, compare_genres, max_genres=5):\n",
    "    common_genres = set(movie_genres) & set(compare_genres)\n",
    "    # Normalize common genres to a 0-1 scale (max 5 genres per movie)\n",
    "    normalized_common_genres = len(common_genres) / max_genres\n",
    "    return BasePointGenres * np.exp(normalized_common_genres)\n",
    "\n",
    "# Director and Stars similarity\n",
    "BasePointDirectorStars = 10  # Base points for matching director or stars\n",
    "def get_director_star_similarity_points(movie_director, movie_stars, compare_director, compare_stars, max_stars=4):\n",
    "    points = 0\n",
    "    if movie_director == compare_director:\n",
    "        points += BasePointDirectorStars\n",
    "    points += len(set(movie_stars) & set(compare_stars)) * BasePointDirectorStars\n",
    "    # Normalize the points to a 0-1 scale (assuming max overlap is 4 stars)\n",
    "    normalized_points = points / (max_stars * BasePointDirectorStars)\n",
    "    return BasePointDirectorStars * normalized_points\n",
    "\n",
    "print(df.columns)\n"
   ],
   "outputs": [
    {
     "name": "stdout",
     "output_type": "stream",
     "text": [
      "Index(['Series_Title', 'Released_Year', 'Certificate', 'Runtime', 'Genre',\n",
      "       'IMDB_Rating', 'Overview', 'Meta_score', 'Director', 'Star1', 'Star2',\n",
      "       'Star3', 'Star4', 'No_of_Votes', 'Gross', 'IMDB_Rating_Scaled',\n",
      "       'Meta_score_Scaled', 'No_of_Votes_Scaled', 'Gross_Scaled',\n",
      "       'Cert_numeric', 'action', 'adventure', 'animation', 'biography',\n",
      "       'comedy', 'crime', 'drama', 'family', 'fantasy', 'film-noir', 'history',\n",
      "       'horror', 'music', 'musical', 'mystery', 'romance', 'sci-fi', 'sport',\n",
      "       'thriller', 'war', 'western'],\n",
      "      dtype='object')\n"
     ]
    }
   ],
   "execution_count": 105
  },
  {
   "cell_type": "markdown",
   "id": "c64a16a2bd33c31c",
   "metadata": {},
   "source": [
    "### Main Function for Similarity Score\n",
    "\n",
    "#### Main Logic for Similarity Score Calculation\n",
    "The main function, `get_movie_similarity_score`, aggregates all the individual similarity scores calculated by the helper functions. The scores for year, runtime, IMDB rating, certificate, genre, and director/stars are summed to give an overall similarity score between two movies.\n"
   ]
  },
  {
   "metadata": {
    "ExecuteTime": {
     "end_time": "2025-04-03T14:34:37.438531Z",
     "start_time": "2025-04-03T14:34:37.433625Z"
    }
   },
   "cell_type": "code",
   "source": [
    "# Main function to calculate the similarity score\n",
    "def get_movie_similarity_score(movie, compare_movie):\n",
    "    score = 0\n",
    "\n",
    "    # Calculate scores for each feature and print the individual scores\n",
    "    year_score = get_year_similarity_points(movie['Released_Year'], compare_movie['Released_Year'])\n",
    "    #print(f\"Year similarity points: {year_score}\")\n",
    "    score += year_score\n",
    "\n",
    "    runtime_score = get_runtime_similarity_points(movie['Runtime'], compare_movie['Runtime'])\n",
    "    #print(f\"Runtime similarity points: {runtime_score}\")\n",
    "    score += runtime_score\n",
    "\n",
    "    rating_score = get_rating_similarity_points(movie['IMDB_Rating_Scaled'], compare_movie['IMDB_Rating'])\n",
    "   # print(f\"IMDB Rating similarity points: {rating_score}\")\n",
    "    score += rating_score\n",
    "\n",
    "    cert_score = get_cert_similarity_points(movie['Cert_numeric'], compare_movie['Cert_numeric'])\n",
    "  #  print(f\"Certificate similarity points: {cert_score}\")\n",
    "    score += cert_score\n",
    "\n",
    "    genre_score = get_genre_similarity_points(movie['Genre'], compare_movie['Genre'])\n",
    "    #print(f\"Genre similarity points: {genre_score}\")\n",
    "    score += genre_score\n",
    "\n",
    "    director_star_score = get_director_star_similarity_points(\n",
    "        movie['Director'], [movie['Star1'], movie['Star2'], movie['Star3'], movie['Star4']], compare_movie['Director'], [compare_movie['Star1'], compare_movie['Star2'], compare_movie['Star3'], compare_movie['Star4']])\n",
    "   # print(f\"Director and Star similarity points: {director_star_score}\")\n",
    "    score += director_star_score\n",
    "\n",
    "  #  print(f\"Total similarity score: {score}\")\n",
    "    return score\n",
    "\n",
    "\n",
    "\n"
   ],
   "id": "d1b619cc66f45ec8",
   "outputs": [],
   "execution_count": 106
  },
  {
   "metadata": {},
   "cell_type": "markdown",
   "source": [
    "### Movie Recommendation Function\n",
    "\n",
    "#### Function to Recommend Top 5 Similar Movies\n",
    "This function, `recommend_similar_movies`, calculates the similarity score for each movie in the dataset relative to the given movie, then sorts the movies by their similarity score and returns the top 5 most similar movies.\n",
    "\n"
   ],
   "id": "d83afcd2c34f457f"
  },
  {
   "metadata": {
    "ExecuteTime": {
     "end_time": "2025-04-03T14:34:37.565142Z",
     "start_time": "2025-04-03T14:34:37.561191Z"
    }
   },
   "cell_type": "code",
   "source": [
    "# Function to recommend the Top 5 most similar movies\n",
    "def recommend_similar_movies(movie_title, df):\n",
    "    movie = df[df['Series_Title'] == movie_title].iloc[0]  # Get the movie by title\n",
    "    scores = []\n",
    "\n",
    "    for _, compare_movie in df.iterrows():\n",
    "        if compare_movie['Series_Title'] != movie_title:\n",
    "            score = get_movie_similarity_score(movie, compare_movie)\n",
    "            scores.append((compare_movie['Series_Title'], score))\n",
    "\n",
    "    # Sort by score and return the top 5\n",
    "    scores.sort(key=lambda x: x[1], reverse=True)\n",
    "    return scores[:5]\n",
    "\n"
   ],
   "id": "ac8b42b0a225e047",
   "outputs": [],
   "execution_count": 107
  },
  {
   "metadata": {},
   "cell_type": "markdown",
   "source": [
    "### Movie Similarity Recommendations\n",
    "\n",
    "#### Test the Movie Recommendation System\n",
    "\n",
    "This section tests the movie recommendation system by recommending the top 5 similar movies for a list of movie titles. The movies are compared based on their similarity scores derived from various attributes such as release year, runtime, IMDB rating, genre, certificate, and director/stars. The top 5 most similar movies are displayed along with their similarity scores.\n",
    "\n",
    "The following list of movie titles will be used for testing:\n",
    "- \"Spider-Man: Into the Spider-Verse\"\n",
    "- \"Avengers: Endgame\"\n",
    "- \"Star Wars: Episode VI - Return of the Jedi\"\n",
    "- \"Sherlock Jr.\"\n",
    "- \"Before Sunset\"\n"
   ],
   "id": "c183a6e11d50b03b"
  },
  {
   "metadata": {
    "ExecuteTime": {
     "end_time": "2025-04-03T14:34:37.572544Z",
     "start_time": "2025-04-03T14:34:37.570250Z"
    }
   },
   "cell_type": "code",
   "source": "",
   "id": "6bf1cd5478acb935",
   "outputs": [],
   "execution_count": null
  },
  {
   "cell_type": "code",
   "id": "c01d5da1781961c1",
   "metadata": {
    "ExecuteTime": {
     "end_time": "2025-04-03T14:34:38.039099Z",
     "start_time": "2025-04-03T14:34:37.634563Z"
    }
   },
   "source": [
    "# List of movies to test\n",
    "movie_titles = [\n",
    "    \"Spider-Man: Into the Spider-Verse\",\n",
    "    \"Avengers: Endgame\",\n",
    "    \"Star Wars: Episode VI - Return of the Jedi\",\n",
    "    \"Sherlock Jr.\",\n",
    "    \"Before Sunset\"\n",
    "]\n",
    "# Assuming df has been preprocessed and contains the necessary columns\n",
    "for movie_title in movie_titles:\n",
    "    print(f\"Top 5 similar movies for: {movie_title}\")\n",
    "    top_5_similar_movies = recommend_similar_movies(movie_title, df)\n",
    "    for rank, (movie, score) in enumerate(top_5_similar_movies, start=1):\n",
    "        print(f\"{rank}. {movie} (Score: {score:.2f})\")\n",
    "    print(\"\\n\" + \"-\"*50 + \"\\n\")\n"
   ],
   "outputs": [
    {
     "name": "stdout",
     "output_type": "stream",
     "text": [
      "Top 5 similar movies for: Spider-Man: Into the Spider-Verse\n",
      "1. The Lego Movie (Score: 44.32)\n",
      "2. Big Hero 6 (Score: 44.30)\n",
      "3. How to Train Your Dragon 2 (Score: 44.30)\n",
      "4. How to Train Your Dragon (Score: 44.19)\n",
      "5. The Incredibles (Score: 44.19)\n",
      "\n",
      "--------------------------------------------------\n",
      "\n",
      "Top 5 similar movies for: Avengers: Endgame\n",
      "1. Captain America: Civil War (Score: 50.97)\n",
      "2. Avengers: Infinity War (Score: 50.87)\n",
      "3. Captain America: The Winter Soldier (Score: 48.45)\n",
      "4. The Avengers (Score: 45.88)\n",
      "5. Dawn of the Planet of the Apes (Score: 44.27)\n",
      "\n",
      "--------------------------------------------------\n",
      "\n",
      "Top 5 similar movies for: Star Wars: Episode VI - Return of the Jedi\n",
      "1. Star Wars: Episode V - The Empire Strikes Back (Score: 49.13)\n",
      "2. Star Wars (Score: 46.61)\n",
      "3. Indiana Jones and the Last Crusade (Score: 43.40)\n",
      "4. Star Trek II: The Wrath of Khan (Score: 41.03)\n",
      "5. The Blues Brothers (Score: 41.00)\n",
      "\n",
      "--------------------------------------------------\n",
      "\n",
      "Top 5 similar movies for: Sherlock Jr.\n",
      "1. The General (Score: 43.41)\n",
      "2. The Circus (Score: 40.88)\n",
      "3. Andaz Apna Apna (Score: 40.85)\n",
      "4. Bringing Up Baby (Score: 40.79)\n",
      "5. His Girl Friday (Score: 40.77)\n",
      "\n",
      "--------------------------------------------------\n",
      "\n",
      "Top 5 similar movies for: Before Sunset\n",
      "1. Before Midnight (Score: 48.36)\n",
      "2. Before Sunrise (Score: 48.33)\n",
      "3. Waking Life (Score: 43.26)\n",
      "4. Jeux d'enfants (Score: 41.04)\n",
      "5. Once (Score: 40.99)\n",
      "\n",
      "--------------------------------------------------\n",
      "\n"
     ]
    }
   ],
   "execution_count": 108
  },
  {
   "metadata": {},
   "cell_type": "markdown",
   "source": [
    "# Top 5 Similar Movies\n",
    "\n",
    "## Spider-Man: Into the Spider-Verse\n",
    "1. **Incredibles 2** (Score: 226.16)\n",
    "2. **Big Hero 6** (Score: 224.58)\n",
    "3. **How to Train Your Dragon 2** (Score: 224.58)\n",
    "4. **The Lego Movie** (Score: 224.30)\n",
    "5. **Kubo and the Two Strings** (Score: 223.95)\n",
    "\n",
    "---\n",
    "\n",
    "## Avengers: Endgame\n",
    "1. **The Lord of the Rings: The Two Towers** (Score: 222.03)\n",
    "2. **Dawn of the Planet of the Apes** (Score: 221.86)\n",
    "3. **The Revenant** (Score: 221.76)\n",
    "4. **Letters from Iwo Jima** (Score: 218.97)\n",
    "5. **Gladiator** (Score: 218.66)\n",
    "\n",
    "---\n",
    "\n",
    "## Star Wars: Episode VI - Return of the Jedi\n",
    "1. **Star Wars: Episode V - The Empire Strikes Back** (Score: 262.56)\n",
    "2. **Star Wars** (Score: 250.20)\n",
    "3. **Wo hu cang long** (Score: 216.28)\n",
    "4. **Pirates of the Caribbean: The Curse of the Black Pearl** (Score: 215.78)\n",
    "5. **Avatar** (Score: 213.37)\n",
    "\n",
    "---\n",
    "\n",
    "## Sherlock Jr.\n",
    "1. **Andaz Apna Apna** (Score: 213.88)\n",
    "2. **The General** (Score: 108.68)\n",
    "3. **The Circus** (Score: 96.83)\n",
    "4. **It Happened One Night** (Score: 92.76)\n",
    "5. **City Lights** (Score: 92.30)\n",
    "\n",
    "---\n",
    "\n",
    "## Before Sunset\n",
    "1. **Before Sunrise** (Score: 124.71)\n",
    "2. **Before Midnight** (Score: 124.01)\n",
    "3. **Jeux d'enfants** (Score: 100.26)\n",
    "4. **Once** (Score: 99.83)\n",
    "5. **Bom Yeoareum Gaeul Gyeoul Geurigo Bom** (Score: 99.46)\n",
    "\n",
    "---\n",
    "\n",
    "# Conclusion\n",
    "\n",
    "The results show how well the similarity scores reflect the relationships between movies in terms of genres, themes, and key attributes:\n",
    "- **Spider-Man: Into the Spider-Verse** is most similar to other animated superhero films, like *Incredibles 2* and *Big Hero 6*.\n",
    "- **Avengers: Endgame** shares the highest similarity with other action-packed, epic films, including *The Lord of the Rings: The Two Towers* and *Gladiator*.\n",
    "- **Star Wars: Episode VI - Return of the Jedi** has strong connections with other Star Wars movies, notably *The Empire Strikes Back*, along with other action-adventure classics like *Avatar*.\n",
    "- **Sherlock Jr.**, a silent film, is most similar to other classics from the silent era, such as *Andaz Apna Apna* and *The General*.\n",
    "- **Before Sunset** aligns closely with its prequel *Before Sunrise* and its sequel *Before Midnight*, as well as other romantic films like *Jeux d'enfants*.\n",
    "\n",
    "These results highlight how well the scoring system identifies similarity based on genre, content, and style, providing meaningful recommendations for movie lovers.\n",
    "\n"
   ],
   "id": "ca9a1b3f48d3bb7d"
  }
 ],
 "metadata": {
  "kernelspec": {
   "display_name": "Python 3 (ipykernel)",
   "language": "python",
   "name": "python3"
  },
  "language_info": {
   "codemirror_mode": {
    "name": "ipython",
    "version": 3
   },
   "file_extension": ".py",
   "mimetype": "text/x-python",
   "name": "python",
   "nbconvert_exporter": "python",
   "pygments_lexer": "ipython3",
   "version": "3.12.4"
  }
 },
 "nbformat": 4,
 "nbformat_minor": 5
}
